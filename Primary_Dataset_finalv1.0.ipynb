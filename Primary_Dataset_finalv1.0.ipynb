{
 "cells": [
  {
   "cell_type": "code",
   "execution_count": 154,
   "metadata": {},
   "outputs": [],
   "source": [
    "import pandas as pd\n",
    "import numpy as np\n",
    "from sklearn.metrics import cohen_kappa_score"
   ]
  },
  {
   "cell_type": "markdown",
   "metadata": {},
   "source": [
    "# NYT_topic_0:\n",
    "\n",
    "# Calculating Kappa score for annotations in NYT_topic_0_lockdowns"
   ]
  },
  {
   "cell_type": "code",
   "execution_count": 155,
   "metadata": {},
   "outputs": [],
   "source": [
    "df=pd.read_csv(r\"C:\\Users\\Kriti\\Desktop\\College-Academics\\NLP\\Project Phase 2-\\nyt_topic\\nyt_topic_0_lockdowns.csv\")"
   ]
  },
  {
   "cell_type": "code",
   "execution_count": 156,
   "metadata": {},
   "outputs": [
    {
     "data": {
      "text/html": [
       "<div>\n",
       "<style scoped>\n",
       "    .dataframe tbody tr th:only-of-type {\n",
       "        vertical-align: middle;\n",
       "    }\n",
       "\n",
       "    .dataframe tbody tr th {\n",
       "        vertical-align: top;\n",
       "    }\n",
       "\n",
       "    .dataframe thead th {\n",
       "        text-align: right;\n",
       "    }\n",
       "</style>\n",
       "<table border=\"1\" class=\"dataframe\">\n",
       "  <thead>\n",
       "    <tr style=\"text-align: right;\">\n",
       "      <th></th>\n",
       "      <th>text</th>\n",
       "      <th>annotation_41</th>\n",
       "      <th>annotation_67</th>\n",
       "      <th>annotation_19</th>\n",
       "      <th>annotation_55</th>\n",
       "    </tr>\n",
       "  </thead>\n",
       "  <tbody>\n",
       "    <tr>\n",
       "      <th>0</th>\n",
       "      <td>What do you mean that the pandemic has stretch...</td>\n",
       "      <td>False</td>\n",
       "      <td>False</td>\n",
       "      <td>False</td>\n",
       "      <td>False</td>\n",
       "    </tr>\n",
       "    <tr>\n",
       "      <th>1</th>\n",
       "      <td>I’m not sure if it qualifies as Big Brother wh...</td>\n",
       "      <td>False</td>\n",
       "      <td>False</td>\n",
       "      <td>False</td>\n",
       "      <td>False</td>\n",
       "    </tr>\n",
       "    <tr>\n",
       "      <th>2</th>\n",
       "      <td>What if smallpox and polio came roaring back o...</td>\n",
       "      <td>False</td>\n",
       "      <td>False</td>\n",
       "      <td>False</td>\n",
       "      <td>False</td>\n",
       "    </tr>\n",
       "    <tr>\n",
       "      <th>3</th>\n",
       "      <td>I'm continuing to wear a mask.  Even in bed, s...</td>\n",
       "      <td>False</td>\n",
       "      <td>False</td>\n",
       "      <td>False</td>\n",
       "      <td>False</td>\n",
       "    </tr>\n",
       "    <tr>\n",
       "      <th>4</th>\n",
       "      <td>Although my husband and I really, really miss ...</td>\n",
       "      <td>False</td>\n",
       "      <td>True</td>\n",
       "      <td>False</td>\n",
       "      <td>False</td>\n",
       "    </tr>\n",
       "  </tbody>\n",
       "</table>\n",
       "</div>"
      ],
      "text/plain": [
       "                                                text  annotation_41  \\\n",
       "0  What do you mean that the pandemic has stretch...          False   \n",
       "1  I’m not sure if it qualifies as Big Brother wh...          False   \n",
       "2  What if smallpox and polio came roaring back o...          False   \n",
       "3  I'm continuing to wear a mask.  Even in bed, s...          False   \n",
       "4  Although my husband and I really, really miss ...          False   \n",
       "\n",
       "   annotation_67  annotation_19  annotation_55  \n",
       "0          False          False          False  \n",
       "1          False          False          False  \n",
       "2          False          False          False  \n",
       "3          False          False          False  \n",
       "4           True          False          False  "
      ]
     },
     "execution_count": 156,
     "metadata": {},
     "output_type": "execute_result"
    }
   ],
   "source": [
    "df.head()"
   ]
  },
  {
   "cell_type": "code",
   "execution_count": 157,
   "metadata": {},
   "outputs": [
    {
     "name": "stdout",
     "output_type": "stream",
     "text": [
      "0\n",
      "0\n",
      "0\n",
      "0\n",
      "0\n"
     ]
    }
   ],
   "source": [
    "print(df['annotation_41'].isnull().sum())\n",
    "print(df['annotation_67'].isnull().sum())\n",
    "print(df['annotation_19'].isnull().sum())\n",
    "print(df['annotation_55'].isnull().sum())\n",
    "print(df['text'].isnull().sum())\n"
   ]
  },
  {
   "cell_type": "markdown",
   "metadata": {},
   "source": [
    "### Cohen_kappa average score of annotation 41 "
   ]
  },
  {
   "cell_type": "code",
   "execution_count": 158,
   "metadata": {},
   "outputs": [],
   "source": [
    "def cohen_avg_41():\n",
    "    cohen_score_41_67 = cohen_kappa_score(df['annotation_41'],df['annotation_67'])\n",
    "    cohen_score_41_19 = cohen_kappa_score(df['annotation_41'],df['annotation_19'])\n",
    "    cohen_score_41_55 = cohen_kappa_score(df['annotation_41'],df['annotation_55'])\n",
    "    cohen_score_average_41 = round((cohen_score_41_67 + cohen_score_41_19 + cohen_score_41_55)/3,3)\n",
    "   # print(\"Average Cohen Kappa Score for annotation 41:\",(cohen_score_average_41))\n",
    "    return cohen_score_average_41"
   ]
  },
  {
   "cell_type": "code",
   "execution_count": 159,
   "metadata": {},
   "outputs": [
    {
     "data": {
      "text/plain": [
       "0.387"
      ]
     },
     "execution_count": 159,
     "metadata": {},
     "output_type": "execute_result"
    }
   ],
   "source": [
    "cohen_avg_41()"
   ]
  },
  {
   "cell_type": "markdown",
   "metadata": {},
   "source": [
    "### Cohen Kappa average score for annotation_67"
   ]
  },
  {
   "cell_type": "code",
   "execution_count": 160,
   "metadata": {},
   "outputs": [],
   "source": [
    "def cohen_avg_67():\n",
    "    cohen_score_67_41 = cohen_kappa_score(df['annotation_67'],df['annotation_41'])\n",
    "    cohen_score_67_19 = cohen_kappa_score(df['annotation_67'],df['annotation_19'])\n",
    "    cohen_score_67_55 = cohen_kappa_score(df['annotation_67'],df['annotation_55'])\n",
    "    cohen_score_average_67 = round((cohen_score_67_41 + cohen_score_67_19 + cohen_score_67_55)/3,3)\n",
    "   # print(\"Average Cohen Kappa Score for annotation 67:\",(cohen_score_average_67))\n",
    "    return cohen_score_average_67"
   ]
  },
  {
   "cell_type": "code",
   "execution_count": 161,
   "metadata": {},
   "outputs": [
    {
     "data": {
      "text/plain": [
       "0.411"
      ]
     },
     "execution_count": 161,
     "metadata": {},
     "output_type": "execute_result"
    }
   ],
   "source": [
    "cohen_avg_67()"
   ]
  },
  {
   "cell_type": "markdown",
   "metadata": {},
   "source": [
    "### Cohen Kappa average score for annotation_19 "
   ]
  },
  {
   "cell_type": "code",
   "execution_count": 162,
   "metadata": {},
   "outputs": [],
   "source": [
    "def cohen_avg_19():\n",
    "    cohen_score_19_41 = cohen_kappa_score(df['annotation_19'],df['annotation_41'])\n",
    "    cohen_score_19_67 = cohen_kappa_score(df['annotation_19'],df['annotation_67'])\n",
    "    cohen_score_19_55 = cohen_kappa_score(df['annotation_19'],df['annotation_55'])\n",
    "    cohen_score_average_19 = round((cohen_score_19_41 + cohen_score_19_67 + cohen_score_19_55)/3,3)\n",
    "    #print(\"Average Cohen Kappa Score for annotation 19:\",(cohen_score_average_19))\n",
    "    return cohen_score_average_19"
   ]
  },
  {
   "cell_type": "code",
   "execution_count": 163,
   "metadata": {},
   "outputs": [
    {
     "data": {
      "text/plain": [
       "0.446"
      ]
     },
     "execution_count": 163,
     "metadata": {},
     "output_type": "execute_result"
    }
   ],
   "source": [
    "cohen_avg_19()"
   ]
  },
  {
   "cell_type": "markdown",
   "metadata": {},
   "source": [
    "### Cohen Kappa average score for annotation_55"
   ]
  },
  {
   "cell_type": "code",
   "execution_count": 164,
   "metadata": {},
   "outputs": [],
   "source": [
    "def cohen_avg_55():\n",
    "    cohen_score_55_41 = cohen_kappa_score(df['annotation_55'],df['annotation_41'])\n",
    "    cohen_score_55_67 = cohen_kappa_score(df['annotation_55'],df['annotation_67'])\n",
    "    cohen_score_55_19 = cohen_kappa_score(df['annotation_55'],df['annotation_19'])\n",
    "    cohen_score_average_55 = round((cohen_score_55_41 + cohen_score_55_67 + cohen_score_55_19)/3,3)\n",
    "    #print(\"Average Cohen Kappa Score for annotation 55:\",(cohen_score_average_55))\n",
    "    return cohen_score_average_55"
   ]
  },
  {
   "cell_type": "code",
   "execution_count": 165,
   "metadata": {},
   "outputs": [
    {
     "data": {
      "text/plain": [
       "0.528"
      ]
     },
     "execution_count": 165,
     "metadata": {},
     "output_type": "execute_result"
    }
   ],
   "source": [
    "cohen_avg_55()"
   ]
  },
  {
   "cell_type": "code",
   "execution_count": 166,
   "metadata": {},
   "outputs": [
    {
     "data": {
      "text/html": [
       "<div>\n",
       "<style scoped>\n",
       "    .dataframe tbody tr th:only-of-type {\n",
       "        vertical-align: middle;\n",
       "    }\n",
       "\n",
       "    .dataframe tbody tr th {\n",
       "        vertical-align: top;\n",
       "    }\n",
       "\n",
       "    .dataframe thead th {\n",
       "        text-align: right;\n",
       "    }\n",
       "</style>\n",
       "<table border=\"1\" class=\"dataframe\">\n",
       "  <thead>\n",
       "    <tr style=\"text-align: right;\">\n",
       "      <th></th>\n",
       "      <th>text</th>\n",
       "      <th>final_label</th>\n",
       "    </tr>\n",
       "  </thead>\n",
       "  <tbody>\n",
       "    <tr>\n",
       "      <th>0</th>\n",
       "      <td>What do you mean that the pandemic has stretch...</td>\n",
       "      <td>False</td>\n",
       "    </tr>\n",
       "    <tr>\n",
       "      <th>1</th>\n",
       "      <td>I’m not sure if it qualifies as Big Brother wh...</td>\n",
       "      <td>False</td>\n",
       "    </tr>\n",
       "    <tr>\n",
       "      <th>2</th>\n",
       "      <td>What if smallpox and polio came roaring back o...</td>\n",
       "      <td>False</td>\n",
       "    </tr>\n",
       "    <tr>\n",
       "      <th>3</th>\n",
       "      <td>I'm continuing to wear a mask.  Even in bed, s...</td>\n",
       "      <td>False</td>\n",
       "    </tr>\n",
       "    <tr>\n",
       "      <th>4</th>\n",
       "      <td>Although my husband and I really, really miss ...</td>\n",
       "      <td>False</td>\n",
       "    </tr>\n",
       "  </tbody>\n",
       "</table>\n",
       "</div>"
      ],
      "text/plain": [
       "                                                text final_label\n",
       "0  What do you mean that the pandemic has stretch...       False\n",
       "1  I’m not sure if it qualifies as Big Brother wh...       False\n",
       "2  What if smallpox and polio came roaring back o...       False\n",
       "3  I'm continuing to wear a mask.  Even in bed, s...       False\n",
       "4  Although my husband and I really, really miss ...       False"
      ]
     },
     "execution_count": 166,
     "metadata": {},
     "output_type": "execute_result"
    }
   ],
   "source": [
    "def finalLabel(df):\n",
    "    for index, rows in df.iterrows():\n",
    "        #print(index, rows['text'])\n",
    "        compare = [[cohen_avg_41(),rows['annotation_41']],\n",
    "                       [cohen_avg_67(),rows['annotation_67']],\n",
    "                   [cohen_avg_19(),rows['annotation_19']],\n",
    "                   [cohen_avg_55(),rows['annotation_55']]]\n",
    "        \n",
    "        boolean = [rows['annotation_41'],rows['annotation_67'],rows['annotation_19'],rows['annotation_55']]\n",
    "        \n",
    "        compare.sort(key = lambda k:k[0])\n",
    "        t = compare.count('True')\n",
    "        f = compare.count('False')\n",
    "        #print('True:',t, 'False', f)\n",
    "        \n",
    "        if t == f: \n",
    "            kapaValue, colValue = compare[-1]\n",
    "            df.loc[index, 'final_label'] = colValue\n",
    "            \n",
    "        elif t!=f:\n",
    "            if t > f:\n",
    "                df.loc[index, 'final_label'] = True\n",
    "            else:\n",
    "                df.loc[index, 'final_label'] = False\n",
    "    \n",
    "finalLabel(df)\n",
    "df = df.iloc[:,[0,-1]]\n",
    "df.head()\n"
   ]
  },
  {
   "cell_type": "code",
   "execution_count": 167,
   "metadata": {},
   "outputs": [],
   "source": [
    "df.to_csv(r'C:\\Users\\Kriti\\Desktop\\College-Academics\\NLP\\Project Phase 2-\\nyt_topic_new\\nyt_topic_0_lockdowns.csv',\n",
    "           index = False)"
   ]
  },
  {
   "cell_type": "markdown",
   "metadata": {},
   "source": [
    "## Calculating Kappa score for annotations in NYT_topic_0_masking_and_distancing"
   ]
  },
  {
   "cell_type": "code",
   "execution_count": 180,
   "metadata": {},
   "outputs": [],
   "source": [
    "df=pd.read_csv(r\"C:\\Users\\Kriti\\Desktop\\College-Academics\\NLP\\Project Phase 2-\\nyt_topic\\nyt_topic_0_masking_and_distancing.csv\")"
   ]
  },
  {
   "cell_type": "code",
   "execution_count": 181,
   "metadata": {},
   "outputs": [
    {
     "data": {
      "text/html": [
       "<div>\n",
       "<style scoped>\n",
       "    .dataframe tbody tr th:only-of-type {\n",
       "        vertical-align: middle;\n",
       "    }\n",
       "\n",
       "    .dataframe tbody tr th {\n",
       "        vertical-align: top;\n",
       "    }\n",
       "\n",
       "    .dataframe thead th {\n",
       "        text-align: right;\n",
       "    }\n",
       "</style>\n",
       "<table border=\"1\" class=\"dataframe\">\n",
       "  <thead>\n",
       "    <tr style=\"text-align: right;\">\n",
       "      <th></th>\n",
       "      <th>text</th>\n",
       "      <th>annotation_41</th>\n",
       "      <th>annotation_67</th>\n",
       "      <th>annotation_19</th>\n",
       "      <th>annotation_55</th>\n",
       "    </tr>\n",
       "  </thead>\n",
       "  <tbody>\n",
       "    <tr>\n",
       "      <th>0</th>\n",
       "      <td>What do you mean that the pandemic has stretch...</td>\n",
       "      <td>False</td>\n",
       "      <td>False</td>\n",
       "      <td>False</td>\n",
       "      <td>False</td>\n",
       "    </tr>\n",
       "    <tr>\n",
       "      <th>1</th>\n",
       "      <td>I’m not sure if it qualifies as Big Brother wh...</td>\n",
       "      <td>False</td>\n",
       "      <td>False</td>\n",
       "      <td>False</td>\n",
       "      <td>False</td>\n",
       "    </tr>\n",
       "    <tr>\n",
       "      <th>2</th>\n",
       "      <td>What if smallpox and polio came roaring back o...</td>\n",
       "      <td>False</td>\n",
       "      <td>False</td>\n",
       "      <td>False</td>\n",
       "      <td>False</td>\n",
       "    </tr>\n",
       "    <tr>\n",
       "      <th>3</th>\n",
       "      <td>I'm continuing to wear a mask.  Even in bed, s...</td>\n",
       "      <td>False</td>\n",
       "      <td>True</td>\n",
       "      <td>False</td>\n",
       "      <td>True</td>\n",
       "    </tr>\n",
       "    <tr>\n",
       "      <th>4</th>\n",
       "      <td>Although my husband and I really, really miss ...</td>\n",
       "      <td>False</td>\n",
       "      <td>False</td>\n",
       "      <td>True</td>\n",
       "      <td>False</td>\n",
       "    </tr>\n",
       "  </tbody>\n",
       "</table>\n",
       "</div>"
      ],
      "text/plain": [
       "                                                text  annotation_41  \\\n",
       "0  What do you mean that the pandemic has stretch...          False   \n",
       "1  I’m not sure if it qualifies as Big Brother wh...          False   \n",
       "2  What if smallpox and polio came roaring back o...          False   \n",
       "3  I'm continuing to wear a mask.  Even in bed, s...          False   \n",
       "4  Although my husband and I really, really miss ...          False   \n",
       "\n",
       "   annotation_67  annotation_19  annotation_55  \n",
       "0          False          False          False  \n",
       "1          False          False          False  \n",
       "2          False          False          False  \n",
       "3           True          False           True  \n",
       "4          False           True          False  "
      ]
     },
     "execution_count": 181,
     "metadata": {},
     "output_type": "execute_result"
    }
   ],
   "source": [
    "df.head()\n"
   ]
  },
  {
   "cell_type": "code",
   "execution_count": 182,
   "metadata": {},
   "outputs": [
    {
     "name": "stdout",
     "output_type": "stream",
     "text": [
      "0\n",
      "0\n",
      "0\n",
      "0\n",
      "0\n"
     ]
    }
   ],
   "source": [
    "print(df['annotation_41'].isnull().sum())\n",
    "print(df['annotation_67'].isnull().sum())\n",
    "print(df['annotation_19'].isnull().sum())\n",
    "print(df['annotation_55'].isnull().sum())\n",
    "print(df['text'].isnull().sum())\n",
    "\n"
   ]
  },
  {
   "cell_type": "markdown",
   "metadata": {},
   "source": [
    "### Cohen_kappa average score of annotation 41"
   ]
  },
  {
   "cell_type": "code",
   "execution_count": 183,
   "metadata": {},
   "outputs": [],
   "source": [
    "def cohen_avg_41():\n",
    "    cohen_score_41_67 = cohen_kappa_score(df['annotation_41'],df['annotation_67'])\n",
    "    cohen_score_41_19 = cohen_kappa_score(df['annotation_41'],df['annotation_19'])\n",
    "    cohen_score_41_55 = cohen_kappa_score(df['annotation_41'],df['annotation_55'])\n",
    "    cohen_score_average_41 = round((cohen_score_41_67 + cohen_score_41_19 + cohen_score_41_55)/3,3)\n",
    "   # print(\"Average Cohen Kappa Score for annotation 41:\",(cohen_score_average_41))\n",
    "    return cohen_score_average_41"
   ]
  },
  {
   "cell_type": "code",
   "execution_count": 184,
   "metadata": {},
   "outputs": [
    {
     "data": {
      "text/plain": [
       "0.618"
      ]
     },
     "execution_count": 184,
     "metadata": {},
     "output_type": "execute_result"
    }
   ],
   "source": [
    "cohen_avg_41()"
   ]
  },
  {
   "cell_type": "markdown",
   "metadata": {},
   "source": [
    "### Cohen_kappa average score of annotation 67"
   ]
  },
  {
   "cell_type": "code",
   "execution_count": 185,
   "metadata": {},
   "outputs": [],
   "source": [
    "def cohen_avg_67():\n",
    "    cohen_score_67_41 = cohen_kappa_score(df['annotation_67'],df['annotation_41'])\n",
    "    cohen_score_67_19 = cohen_kappa_score(df['annotation_67'],df['annotation_19'])\n",
    "    cohen_score_67_55 = cohen_kappa_score(df['annotation_67'],df['annotation_55'])\n",
    "    cohen_score_average_67 = round((cohen_score_67_41 + cohen_score_67_19 + cohen_score_67_55)/3,3)\n",
    "   # print(\"Average Cohen Kappa Score for annotation 67:\",(cohen_score_average_67))\n",
    "    return cohen_score_average_67"
   ]
  },
  {
   "cell_type": "code",
   "execution_count": 186,
   "metadata": {},
   "outputs": [
    {
     "data": {
      "text/plain": [
       "0.679"
      ]
     },
     "execution_count": 186,
     "metadata": {},
     "output_type": "execute_result"
    }
   ],
   "source": [
    "cohen_avg_67()"
   ]
  },
  {
   "cell_type": "markdown",
   "metadata": {},
   "source": [
    "### Cohen_kappa average score of annotation 19:"
   ]
  },
  {
   "cell_type": "code",
   "execution_count": 187,
   "metadata": {},
   "outputs": [],
   "source": [
    "def cohen_avg_19():\n",
    "    cohen_score_19_41 = cohen_kappa_score(df['annotation_19'],df['annotation_41'])\n",
    "    cohen_score_19_67 = cohen_kappa_score(df['annotation_19'],df['annotation_67'])\n",
    "    cohen_score_19_55 = cohen_kappa_score(df['annotation_19'],df['annotation_55'])\n",
    "    cohen_score_average_19 = round((cohen_score_19_41 + cohen_score_19_67 + cohen_score_19_55)/3,3)\n",
    "    #print(\"Average Cohen Kappa Score for annotation 19:\",(cohen_score_average_19))\n",
    "    return cohen_score_average_19"
   ]
  },
  {
   "cell_type": "code",
   "execution_count": 188,
   "metadata": {},
   "outputs": [
    {
     "data": {
      "text/plain": [
       "0.56"
      ]
     },
     "execution_count": 188,
     "metadata": {},
     "output_type": "execute_result"
    }
   ],
   "source": [
    "cohen_avg_19()"
   ]
  },
  {
   "cell_type": "markdown",
   "metadata": {},
   "source": [
    "### Cohen_kappa average score of annotation 55: "
   ]
  },
  {
   "cell_type": "code",
   "execution_count": 189,
   "metadata": {},
   "outputs": [],
   "source": [
    "def cohen_avg_55():\n",
    "    cohen_score_55_41 = cohen_kappa_score(df['annotation_55'],df['annotation_41'])\n",
    "    cohen_score_55_67 = cohen_kappa_score(df['annotation_55'],df['annotation_67'])\n",
    "    cohen_score_55_19 = cohen_kappa_score(df['annotation_55'],df['annotation_19'])\n",
    "    cohen_score_average_55 = round((cohen_score_55_41 + cohen_score_55_67 + cohen_score_55_19)/3,3)\n",
    "    #print(\"Average Cohen Kappa Score for annotation 55:\",(cohen_score_average_55))\n",
    "    return cohen_score_average_55"
   ]
  },
  {
   "cell_type": "code",
   "execution_count": 190,
   "metadata": {},
   "outputs": [
    {
     "data": {
      "text/plain": [
       "0.691"
      ]
     },
     "execution_count": 190,
     "metadata": {},
     "output_type": "execute_result"
    }
   ],
   "source": [
    "cohen_avg_55()"
   ]
  },
  {
   "cell_type": "code",
   "execution_count": 191,
   "metadata": {},
   "outputs": [
    {
     "data": {
      "text/html": [
       "<div>\n",
       "<style scoped>\n",
       "    .dataframe tbody tr th:only-of-type {\n",
       "        vertical-align: middle;\n",
       "    }\n",
       "\n",
       "    .dataframe tbody tr th {\n",
       "        vertical-align: top;\n",
       "    }\n",
       "\n",
       "    .dataframe thead th {\n",
       "        text-align: right;\n",
       "    }\n",
       "</style>\n",
       "<table border=\"1\" class=\"dataframe\">\n",
       "  <thead>\n",
       "    <tr style=\"text-align: right;\">\n",
       "      <th></th>\n",
       "      <th>text</th>\n",
       "      <th>final_label</th>\n",
       "    </tr>\n",
       "  </thead>\n",
       "  <tbody>\n",
       "    <tr>\n",
       "      <th>0</th>\n",
       "      <td>What do you mean that the pandemic has stretch...</td>\n",
       "      <td>False</td>\n",
       "    </tr>\n",
       "    <tr>\n",
       "      <th>1</th>\n",
       "      <td>I’m not sure if it qualifies as Big Brother wh...</td>\n",
       "      <td>False</td>\n",
       "    </tr>\n",
       "    <tr>\n",
       "      <th>2</th>\n",
       "      <td>What if smallpox and polio came roaring back o...</td>\n",
       "      <td>False</td>\n",
       "    </tr>\n",
       "    <tr>\n",
       "      <th>3</th>\n",
       "      <td>I'm continuing to wear a mask.  Even in bed, s...</td>\n",
       "      <td>True</td>\n",
       "    </tr>\n",
       "    <tr>\n",
       "      <th>4</th>\n",
       "      <td>Although my husband and I really, really miss ...</td>\n",
       "      <td>False</td>\n",
       "    </tr>\n",
       "  </tbody>\n",
       "</table>\n",
       "</div>"
      ],
      "text/plain": [
       "                                                text final_label\n",
       "0  What do you mean that the pandemic has stretch...       False\n",
       "1  I’m not sure if it qualifies as Big Brother wh...       False\n",
       "2  What if smallpox and polio came roaring back o...       False\n",
       "3  I'm continuing to wear a mask.  Even in bed, s...        True\n",
       "4  Although my husband and I really, really miss ...       False"
      ]
     },
     "execution_count": 191,
     "metadata": {},
     "output_type": "execute_result"
    }
   ],
   "source": [
    "def finalLabel(df):\n",
    "    for index, rows in df.iterrows():\n",
    "        #print(index, rows['text'])\n",
    "        compare = [[cohen_avg_41(),rows['annotation_41']],\n",
    "                       [cohen_avg_67(),rows['annotation_67']],\n",
    "                   [cohen_avg_19(),rows['annotation_19']],\n",
    "                   [cohen_avg_55(),rows['annotation_55']]]\n",
    "        \n",
    "        boolean = [rows['annotation_41'],rows['annotation_67'],rows['annotation_19'],rows['annotation_55']]\n",
    "        \n",
    "        compare.sort(key = lambda k:k[0])\n",
    "        t = compare.count('True')\n",
    "        f = compare.count('False')\n",
    "        #print('True:',t, 'False', f)\n",
    "        \n",
    "        if t == f: \n",
    "            kapaValue, colValue = compare[-1]\n",
    "            df.loc[index, 'final_label'] = colValue\n",
    "            \n",
    "        elif t!=f:\n",
    "            if t > f:\n",
    "                df.loc[index, 'final_label'] = True\n",
    "            else:\n",
    "                df.loc[index, 'final_label'] = False\n",
    "    \n",
    "finalLabel(df)\n",
    "df = df.iloc[:,[0,-1]]\n",
    "df.head()\n"
   ]
  },
  {
   "cell_type": "code",
   "execution_count": 192,
   "metadata": {},
   "outputs": [],
   "source": [
    "df.to_csv(r'C:\\Users\\Kriti\\Desktop\\College-Academics\\NLP\\Project Phase 2-\\nyt_topic_new\\nyt_topic_0_masking_and_distancing.csv',\n",
    "           index = False)"
   ]
  },
  {
   "cell_type": "markdown",
   "metadata": {},
   "source": [
    "## Calculating Kappa score for annotations in NYT_topic_0_vaccincation"
   ]
  },
  {
   "cell_type": "code",
   "execution_count": 193,
   "metadata": {},
   "outputs": [],
   "source": [
    "df=pd.read_csv(r\"C:\\Users\\Kriti\\Desktop\\College-Academics\\NLP\\Project Phase 2-\\nyt_topic\\nyt_topic_0_vaccination.csv\")"
   ]
  },
  {
   "cell_type": "code",
   "execution_count": 194,
   "metadata": {},
   "outputs": [
    {
     "data": {
      "text/html": [
       "<div>\n",
       "<style scoped>\n",
       "    .dataframe tbody tr th:only-of-type {\n",
       "        vertical-align: middle;\n",
       "    }\n",
       "\n",
       "    .dataframe tbody tr th {\n",
       "        vertical-align: top;\n",
       "    }\n",
       "\n",
       "    .dataframe thead th {\n",
       "        text-align: right;\n",
       "    }\n",
       "</style>\n",
       "<table border=\"1\" class=\"dataframe\">\n",
       "  <thead>\n",
       "    <tr style=\"text-align: right;\">\n",
       "      <th></th>\n",
       "      <th>text</th>\n",
       "      <th>annotation_41</th>\n",
       "      <th>annotation_67</th>\n",
       "      <th>annotation_19</th>\n",
       "      <th>annotation_55</th>\n",
       "    </tr>\n",
       "  </thead>\n",
       "  <tbody>\n",
       "    <tr>\n",
       "      <th>0</th>\n",
       "      <td>What do you mean that the pandemic has stretch...</td>\n",
       "      <td>False</td>\n",
       "      <td>False</td>\n",
       "      <td>False</td>\n",
       "      <td>False</td>\n",
       "    </tr>\n",
       "    <tr>\n",
       "      <th>1</th>\n",
       "      <td>I’m not sure if it qualifies as Big Brother wh...</td>\n",
       "      <td>False</td>\n",
       "      <td>False</td>\n",
       "      <td>False</td>\n",
       "      <td>False</td>\n",
       "    </tr>\n",
       "    <tr>\n",
       "      <th>2</th>\n",
       "      <td>What if smallpox and polio came roaring back o...</td>\n",
       "      <td>True</td>\n",
       "      <td>True</td>\n",
       "      <td>True</td>\n",
       "      <td>True</td>\n",
       "    </tr>\n",
       "    <tr>\n",
       "      <th>3</th>\n",
       "      <td>I'm continuing to wear a mask.  Even in bed, s...</td>\n",
       "      <td>False</td>\n",
       "      <td>True</td>\n",
       "      <td>True</td>\n",
       "      <td>True</td>\n",
       "    </tr>\n",
       "    <tr>\n",
       "      <th>4</th>\n",
       "      <td>Although my husband and I really, really miss ...</td>\n",
       "      <td>False</td>\n",
       "      <td>False</td>\n",
       "      <td>False</td>\n",
       "      <td>False</td>\n",
       "    </tr>\n",
       "  </tbody>\n",
       "</table>\n",
       "</div>"
      ],
      "text/plain": [
       "                                                text  annotation_41  \\\n",
       "0  What do you mean that the pandemic has stretch...          False   \n",
       "1  I’m not sure if it qualifies as Big Brother wh...          False   \n",
       "2  What if smallpox and polio came roaring back o...           True   \n",
       "3  I'm continuing to wear a mask.  Even in bed, s...          False   \n",
       "4  Although my husband and I really, really miss ...          False   \n",
       "\n",
       "   annotation_67  annotation_19  annotation_55  \n",
       "0          False          False          False  \n",
       "1          False          False          False  \n",
       "2           True           True           True  \n",
       "3           True           True           True  \n",
       "4          False          False          False  "
      ]
     },
     "execution_count": 194,
     "metadata": {},
     "output_type": "execute_result"
    }
   ],
   "source": [
    "df.head()"
   ]
  },
  {
   "cell_type": "code",
   "execution_count": 195,
   "metadata": {},
   "outputs": [
    {
     "name": "stdout",
     "output_type": "stream",
     "text": [
      "0\n",
      "0\n",
      "0\n",
      "0\n",
      "0\n"
     ]
    }
   ],
   "source": [
    "print(df['annotation_41'].isnull().sum())\n",
    "print(df['annotation_67'].isnull().sum())\n",
    "print(df['annotation_19'].isnull().sum())\n",
    "print(df['annotation_55'].isnull().sum())\n",
    "print(df['text'].isnull().sum())\n",
    "\n"
   ]
  },
  {
   "cell_type": "markdown",
   "metadata": {},
   "source": [
    "### Cohen_kappa average score of annotation 41"
   ]
  },
  {
   "cell_type": "code",
   "execution_count": 196,
   "metadata": {},
   "outputs": [],
   "source": [
    "def cohen_avg_41():\n",
    "    cohen_score_41_67 = cohen_kappa_score(df['annotation_41'],df['annotation_67'])\n",
    "    cohen_score_41_19 = cohen_kappa_score(df['annotation_41'],df['annotation_19'])\n",
    "    cohen_score_41_55 = cohen_kappa_score(df['annotation_41'],df['annotation_55'])\n",
    "    cohen_score_average_41 = round((cohen_score_41_67 + cohen_score_41_19 + cohen_score_41_55)/3,3)\n",
    "    #print(\"Average Cohen Kappa Score for annotation 41:\",(cohen_score_average_41))\n",
    "    return cohen_score_average_41"
   ]
  },
  {
   "cell_type": "code",
   "execution_count": 197,
   "metadata": {},
   "outputs": [
    {
     "data": {
      "text/plain": [
       "0.472"
      ]
     },
     "execution_count": 197,
     "metadata": {},
     "output_type": "execute_result"
    }
   ],
   "source": [
    "cohen_avg_41()"
   ]
  },
  {
   "cell_type": "markdown",
   "metadata": {},
   "source": [
    "### Cohen_kappa average score of annotation 67:"
   ]
  },
  {
   "cell_type": "code",
   "execution_count": 198,
   "metadata": {},
   "outputs": [],
   "source": [
    "def cohen_avg_67():\n",
    "    cohen_score_67_41 = cohen_kappa_score(df['annotation_67'],df['annotation_41'])\n",
    "    cohen_score_67_19 = cohen_kappa_score(df['annotation_67'],df['annotation_19'])\n",
    "    cohen_score_67_55 = cohen_kappa_score(df['annotation_67'],df['annotation_55'])\n",
    "    cohen_score_average_67 = round((cohen_score_67_41 + cohen_score_67_19 + cohen_score_67_55)/3,3)\n",
    "   # print(\"Average Cohen Kappa Score for annotation 67:\",(cohen_score_average_67))\n",
    "    return cohen_score_average_67"
   ]
  },
  {
   "cell_type": "code",
   "execution_count": 199,
   "metadata": {},
   "outputs": [
    {
     "data": {
      "text/plain": [
       "0.617"
      ]
     },
     "execution_count": 199,
     "metadata": {},
     "output_type": "execute_result"
    }
   ],
   "source": [
    "cohen_avg_67()"
   ]
  },
  {
   "cell_type": "markdown",
   "metadata": {},
   "source": [
    "### Cohen_kappa average score of annotation 19: "
   ]
  },
  {
   "cell_type": "code",
   "execution_count": 200,
   "metadata": {},
   "outputs": [],
   "source": [
    "def cohen_avg_19():\n",
    "    cohen_score_19_41 = cohen_kappa_score(df['annotation_19'],df['annotation_41'])\n",
    "    cohen_score_19_67 = cohen_kappa_score(df['annotation_19'],df['annotation_67'])\n",
    "    cohen_score_19_55 = cohen_kappa_score(df['annotation_19'],df['annotation_55'])\n",
    "    cohen_score_average_19 = round((cohen_score_19_41 + cohen_score_19_67 + cohen_score_19_55)/3,3)\n",
    "    #print(\"Average Cohen Kappa Score for annotation 19:\",(cohen_score_average_19))\n",
    "    return cohen_score_average_19"
   ]
  },
  {
   "cell_type": "code",
   "execution_count": 201,
   "metadata": {},
   "outputs": [
    {
     "data": {
      "text/plain": [
       "0.64"
      ]
     },
     "execution_count": 201,
     "metadata": {},
     "output_type": "execute_result"
    }
   ],
   "source": [
    "cohen_avg_19()"
   ]
  },
  {
   "cell_type": "markdown",
   "metadata": {},
   "source": [
    "###  Cohen_kappa average score of annotation 55:"
   ]
  },
  {
   "cell_type": "code",
   "execution_count": 202,
   "metadata": {},
   "outputs": [],
   "source": [
    "def cohen_avg_55():\n",
    "    cohen_score_55_41 = cohen_kappa_score(df['annotation_55'],df['annotation_41'])\n",
    "    cohen_score_55_67 = cohen_kappa_score(df['annotation_55'],df['annotation_67'])\n",
    "    cohen_score_55_19 = cohen_kappa_score(df['annotation_55'],df['annotation_19'])\n",
    "    cohen_score_average_55 = round((cohen_score_55_41 + cohen_score_55_67 + cohen_score_55_19)/3,3)\n",
    "    #print(\"Average Cohen Kappa Score for annotation 55:\",(cohen_score_average_55))\n",
    "    return cohen_score_average_55"
   ]
  },
  {
   "cell_type": "code",
   "execution_count": 203,
   "metadata": {},
   "outputs": [
    {
     "data": {
      "text/plain": [
       "0.675"
      ]
     },
     "execution_count": 203,
     "metadata": {},
     "output_type": "execute_result"
    }
   ],
   "source": [
    "cohen_avg_55()"
   ]
  },
  {
   "cell_type": "code",
   "execution_count": 204,
   "metadata": {},
   "outputs": [
    {
     "data": {
      "text/html": [
       "<div>\n",
       "<style scoped>\n",
       "    .dataframe tbody tr th:only-of-type {\n",
       "        vertical-align: middle;\n",
       "    }\n",
       "\n",
       "    .dataframe tbody tr th {\n",
       "        vertical-align: top;\n",
       "    }\n",
       "\n",
       "    .dataframe thead th {\n",
       "        text-align: right;\n",
       "    }\n",
       "</style>\n",
       "<table border=\"1\" class=\"dataframe\">\n",
       "  <thead>\n",
       "    <tr style=\"text-align: right;\">\n",
       "      <th></th>\n",
       "      <th>text</th>\n",
       "      <th>final_label</th>\n",
       "    </tr>\n",
       "  </thead>\n",
       "  <tbody>\n",
       "    <tr>\n",
       "      <th>0</th>\n",
       "      <td>What do you mean that the pandemic has stretch...</td>\n",
       "      <td>False</td>\n",
       "    </tr>\n",
       "    <tr>\n",
       "      <th>1</th>\n",
       "      <td>I’m not sure if it qualifies as Big Brother wh...</td>\n",
       "      <td>False</td>\n",
       "    </tr>\n",
       "    <tr>\n",
       "      <th>2</th>\n",
       "      <td>What if smallpox and polio came roaring back o...</td>\n",
       "      <td>True</td>\n",
       "    </tr>\n",
       "    <tr>\n",
       "      <th>3</th>\n",
       "      <td>I'm continuing to wear a mask.  Even in bed, s...</td>\n",
       "      <td>True</td>\n",
       "    </tr>\n",
       "    <tr>\n",
       "      <th>4</th>\n",
       "      <td>Although my husband and I really, really miss ...</td>\n",
       "      <td>False</td>\n",
       "    </tr>\n",
       "  </tbody>\n",
       "</table>\n",
       "</div>"
      ],
      "text/plain": [
       "                                                text final_label\n",
       "0  What do you mean that the pandemic has stretch...       False\n",
       "1  I’m not sure if it qualifies as Big Brother wh...       False\n",
       "2  What if smallpox and polio came roaring back o...        True\n",
       "3  I'm continuing to wear a mask.  Even in bed, s...        True\n",
       "4  Although my husband and I really, really miss ...       False"
      ]
     },
     "execution_count": 204,
     "metadata": {},
     "output_type": "execute_result"
    }
   ],
   "source": [
    "def finalLabel(df):\n",
    "    for index, rows in df.iterrows():\n",
    "        #print(index, rows['text'])\n",
    "        compare = [[cohen_avg_41(),rows['annotation_41']],\n",
    "                       [cohen_avg_67(),rows['annotation_67']],\n",
    "                   [cohen_avg_19(),rows['annotation_19']],\n",
    "                   [cohen_avg_55(),rows['annotation_55']]]\n",
    "        \n",
    "        boolean = [rows['annotation_41'],rows['annotation_67'],rows['annotation_19'],rows['annotation_55']]\n",
    "        \n",
    "        compare.sort(key = lambda k:k[0])\n",
    "        t = compare.count('True')\n",
    "        f = compare.count('False')\n",
    "        #print('True:',t, 'False', f)\n",
    "        \n",
    "        if t == f: \n",
    "            kapaValue, colValue = compare[-1]\n",
    "            df.loc[index, 'final_label'] = colValue\n",
    "            \n",
    "        elif t!=f:\n",
    "            if t > f:\n",
    "                df.loc[index, 'final_label'] = True\n",
    "            else:\n",
    "                df.loc[index, 'final_label'] = False\n",
    "    \n",
    "finalLabel(df)\n",
    "df = df.iloc[:,[0,-1]]\n",
    "df.head()\n"
   ]
  },
  {
   "cell_type": "code",
   "execution_count": 205,
   "metadata": {},
   "outputs": [],
   "source": [
    "df.to_csv(r'C:\\Users\\Kriti\\Desktop\\College-Academics\\NLP\\Project Phase 2-\\nyt_topic_new\\nyt_topic_0_vaccination.csv',\n",
    "           index = False)"
   ]
  },
  {
   "cell_type": "markdown",
   "metadata": {},
   "source": [
    "# NYT_topic_1:\n",
    "\n",
    "## Calculating Kappa score for annotations in NYT_topic_1_lockdowns:"
   ]
  },
  {
   "cell_type": "code",
   "execution_count": 206,
   "metadata": {},
   "outputs": [],
   "source": [
    "df=pd.read_csv(r\"C:\\Users\\Kriti\\Desktop\\College-Academics\\NLP\\Project Phase 2-\\nyt_topic\\nyt_topic_1_lockdowns.csv\")"
   ]
  },
  {
   "cell_type": "code",
   "execution_count": 207,
   "metadata": {},
   "outputs": [
    {
     "data": {
      "text/html": [
       "<div>\n",
       "<style scoped>\n",
       "    .dataframe tbody tr th:only-of-type {\n",
       "        vertical-align: middle;\n",
       "    }\n",
       "\n",
       "    .dataframe tbody tr th {\n",
       "        vertical-align: top;\n",
       "    }\n",
       "\n",
       "    .dataframe thead th {\n",
       "        text-align: right;\n",
       "    }\n",
       "</style>\n",
       "<table border=\"1\" class=\"dataframe\">\n",
       "  <thead>\n",
       "    <tr style=\"text-align: right;\">\n",
       "      <th></th>\n",
       "      <th>text</th>\n",
       "      <th>annotation_65</th>\n",
       "      <th>annotation_66</th>\n",
       "      <th>annotation_68</th>\n",
       "      <th>annotation_69</th>\n",
       "    </tr>\n",
       "  </thead>\n",
       "  <tbody>\n",
       "    <tr>\n",
       "      <th>0</th>\n",
       "      <td>To all those who gloat “elections have consequ...</td>\n",
       "      <td>False</td>\n",
       "      <td>False</td>\n",
       "      <td>False</td>\n",
       "      <td>False</td>\n",
       "    </tr>\n",
       "    <tr>\n",
       "      <th>1</th>\n",
       "      <td>Corporations and health privacy in the US? How...</td>\n",
       "      <td>False</td>\n",
       "      <td>False</td>\n",
       "      <td>False</td>\n",
       "      <td>False</td>\n",
       "    </tr>\n",
       "    <tr>\n",
       "      <th>2</th>\n",
       "      <td>No. Done with it.</td>\n",
       "      <td>False</td>\n",
       "      <td>False</td>\n",
       "      <td>False</td>\n",
       "      <td>False</td>\n",
       "    </tr>\n",
       "    <tr>\n",
       "      <th>3</th>\n",
       "      <td>I have not eaten outside my house since March....</td>\n",
       "      <td>False</td>\n",
       "      <td>True</td>\n",
       "      <td>True</td>\n",
       "      <td>True</td>\n",
       "    </tr>\n",
       "    <tr>\n",
       "      <th>4</th>\n",
       "      <td>More people die each day in US from the virus ...</td>\n",
       "      <td>False</td>\n",
       "      <td>False</td>\n",
       "      <td>False</td>\n",
       "      <td>False</td>\n",
       "    </tr>\n",
       "  </tbody>\n",
       "</table>\n",
       "</div>"
      ],
      "text/plain": [
       "                                                text  annotation_65  \\\n",
       "0  To all those who gloat “elections have consequ...          False   \n",
       "1  Corporations and health privacy in the US? How...          False   \n",
       "2                                  No. Done with it.          False   \n",
       "3  I have not eaten outside my house since March....          False   \n",
       "4  More people die each day in US from the virus ...          False   \n",
       "\n",
       "   annotation_66  annotation_68  annotation_69  \n",
       "0          False          False          False  \n",
       "1          False          False          False  \n",
       "2          False          False          False  \n",
       "3           True           True           True  \n",
       "4          False          False          False  "
      ]
     },
     "execution_count": 207,
     "metadata": {},
     "output_type": "execute_result"
    }
   ],
   "source": [
    "df.head()"
   ]
  },
  {
   "cell_type": "code",
   "execution_count": 208,
   "metadata": {},
   "outputs": [
    {
     "name": "stdout",
     "output_type": "stream",
     "text": [
      "0\n",
      "0\n",
      "0\n",
      "0\n",
      "0\n"
     ]
    }
   ],
   "source": [
    "print(df['annotation_65'].isnull().sum())\n",
    "print(df['annotation_66'].isnull().sum())\n",
    "print(df['annotation_68'].isnull().sum())\n",
    "print(df['annotation_69'].isnull().sum())\n",
    "print(df['text'].isnull().sum())\n",
    "\n"
   ]
  },
  {
   "cell_type": "markdown",
   "metadata": {},
   "source": [
    "### Cohen_kappa average score of annotation 65"
   ]
  },
  {
   "cell_type": "code",
   "execution_count": 209,
   "metadata": {},
   "outputs": [],
   "source": [
    "def cohen_avg_65():\n",
    "    cohen_score_65_66 = cohen_kappa_score(df['annotation_65'],df['annotation_66'])\n",
    "    cohen_score_65_68 = cohen_kappa_score(df['annotation_65'],df['annotation_68'])\n",
    "    cohen_score_65_69 = cohen_kappa_score(df['annotation_65'],df['annotation_69'])\n",
    "    cohen_score_average_65 = round((cohen_score_65_66 + cohen_score_65_68 + cohen_score_65_69)/3,3)\n",
    "    #print(\"Average Cohen Kappa Score for annotation 65:\",(cohen_score_average_65))\n",
    "    return cohen_score_average_65"
   ]
  },
  {
   "cell_type": "code",
   "execution_count": 210,
   "metadata": {},
   "outputs": [
    {
     "data": {
      "text/plain": [
       "0.389"
      ]
     },
     "execution_count": 210,
     "metadata": {},
     "output_type": "execute_result"
    }
   ],
   "source": [
    "cohen_avg_65()"
   ]
  },
  {
   "cell_type": "markdown",
   "metadata": {},
   "source": [
    "### Cohen_kappa average score of annotation 66:"
   ]
  },
  {
   "cell_type": "code",
   "execution_count": 211,
   "metadata": {},
   "outputs": [],
   "source": [
    "def cohen_avg_66():\n",
    "    cohen_score_66_65 = cohen_kappa_score(df['annotation_66'],df['annotation_65'])\n",
    "    cohen_score_66_68 = cohen_kappa_score(df['annotation_66'],df['annotation_68'])\n",
    "    cohen_score_66_69 = cohen_kappa_score(df['annotation_66'],df['annotation_69'])\n",
    "    cohen_score_average_66 = round((cohen_score_66_65 + cohen_score_66_68 + cohen_score_66_69)/3,3)\n",
    "    #print(\"Average Cohen Kappa Score for annotation 66:\",(cohen_score_average_66))\n",
    "    return cohen_score_average_66"
   ]
  },
  {
   "cell_type": "code",
   "execution_count": 212,
   "metadata": {},
   "outputs": [
    {
     "data": {
      "text/plain": [
       "0.381"
      ]
     },
     "execution_count": 212,
     "metadata": {},
     "output_type": "execute_result"
    }
   ],
   "source": [
    "cohen_avg_66()"
   ]
  },
  {
   "cell_type": "markdown",
   "metadata": {},
   "source": [
    "### Cohen_kappa average score of annotation 68:"
   ]
  },
  {
   "cell_type": "code",
   "execution_count": 213,
   "metadata": {},
   "outputs": [],
   "source": [
    "def cohen_avg_68():\n",
    "    cohen_score_68_65 = cohen_kappa_score(df['annotation_68'],df['annotation_65'])\n",
    "    cohen_score_68_66 = cohen_kappa_score(df['annotation_68'],df['annotation_66'])\n",
    "    cohen_score_68_69 = cohen_kappa_score(df['annotation_68'],df['annotation_69'])\n",
    "    cohen_score_average_68 = round((cohen_score_68_65 + cohen_score_68_66 + cohen_score_68_69)/3,3)\n",
    "    #print(\"Average Cohen Kappa Score for annotation 68:\",(cohen_score_average_68))\n",
    "    return cohen_score_average_68"
   ]
  },
  {
   "cell_type": "code",
   "execution_count": 214,
   "metadata": {},
   "outputs": [
    {
     "data": {
      "text/plain": [
       "0.458"
      ]
     },
     "execution_count": 214,
     "metadata": {},
     "output_type": "execute_result"
    }
   ],
   "source": [
    "cohen_avg_68()"
   ]
  },
  {
   "cell_type": "markdown",
   "metadata": {},
   "source": [
    "### Cohen_kappa average score of annotation 69:\n"
   ]
  },
  {
   "cell_type": "code",
   "execution_count": 215,
   "metadata": {},
   "outputs": [],
   "source": [
    "def cohen_avg_69():\n",
    "    cohen_score_69_65 = cohen_kappa_score(df['annotation_69'],df['annotation_65'])\n",
    "    cohen_score_69_66 = cohen_kappa_score(df['annotation_69'],df['annotation_66'])\n",
    "    cohen_score_69_68 = cohen_kappa_score(df['annotation_69'],df['annotation_68'])\n",
    "    cohen_score_average_69 = round((cohen_score_69_65 + cohen_score_69_66 + cohen_score_69_68)/3,3)\n",
    "    #print(\"Average Cohen Kappa Score for annotation 69:\",(cohen_score_average_69))\n",
    "    return cohen_score_average_69"
   ]
  },
  {
   "cell_type": "code",
   "execution_count": 216,
   "metadata": {},
   "outputs": [
    {
     "data": {
      "text/plain": [
       "0.408"
      ]
     },
     "execution_count": 216,
     "metadata": {},
     "output_type": "execute_result"
    }
   ],
   "source": [
    "cohen_avg_69()"
   ]
  },
  {
   "cell_type": "code",
   "execution_count": 218,
   "metadata": {},
   "outputs": [
    {
     "data": {
      "text/html": [
       "<div>\n",
       "<style scoped>\n",
       "    .dataframe tbody tr th:only-of-type {\n",
       "        vertical-align: middle;\n",
       "    }\n",
       "\n",
       "    .dataframe tbody tr th {\n",
       "        vertical-align: top;\n",
       "    }\n",
       "\n",
       "    .dataframe thead th {\n",
       "        text-align: right;\n",
       "    }\n",
       "</style>\n",
       "<table border=\"1\" class=\"dataframe\">\n",
       "  <thead>\n",
       "    <tr style=\"text-align: right;\">\n",
       "      <th></th>\n",
       "      <th>text</th>\n",
       "      <th>final_label</th>\n",
       "    </tr>\n",
       "  </thead>\n",
       "  <tbody>\n",
       "    <tr>\n",
       "      <th>0</th>\n",
       "      <td>To all those who gloat “elections have consequ...</td>\n",
       "      <td>False</td>\n",
       "    </tr>\n",
       "    <tr>\n",
       "      <th>1</th>\n",
       "      <td>Corporations and health privacy in the US? How...</td>\n",
       "      <td>False</td>\n",
       "    </tr>\n",
       "    <tr>\n",
       "      <th>2</th>\n",
       "      <td>No. Done with it.</td>\n",
       "      <td>False</td>\n",
       "    </tr>\n",
       "    <tr>\n",
       "      <th>3</th>\n",
       "      <td>I have not eaten outside my house since March....</td>\n",
       "      <td>True</td>\n",
       "    </tr>\n",
       "    <tr>\n",
       "      <th>4</th>\n",
       "      <td>More people die each day in US from the virus ...</td>\n",
       "      <td>False</td>\n",
       "    </tr>\n",
       "  </tbody>\n",
       "</table>\n",
       "</div>"
      ],
      "text/plain": [
       "                                                text final_label\n",
       "0  To all those who gloat “elections have consequ...       False\n",
       "1  Corporations and health privacy in the US? How...       False\n",
       "2                                  No. Done with it.       False\n",
       "3  I have not eaten outside my house since March....        True\n",
       "4  More people die each day in US from the virus ...       False"
      ]
     },
     "execution_count": 218,
     "metadata": {},
     "output_type": "execute_result"
    }
   ],
   "source": [
    "def finalLabel(df):\n",
    "    for index, rows in df.iterrows():\n",
    "        #print(index, rows['text'])\n",
    "        compare = [[cohen_avg_65(),rows['annotation_65']],\n",
    "                       [cohen_avg_66(),rows['annotation_66']],\n",
    "                   [cohen_avg_68(),rows['annotation_68']],\n",
    "                   [cohen_avg_69(),rows['annotation_69']]]\n",
    "        \n",
    "        boolean = [rows['annotation_65'],rows['annotation_66'],rows['annotation_68'],rows['annotation_69']]\n",
    "        \n",
    "        compare.sort(key = lambda k:k[0])\n",
    "        t = compare.count('True')\n",
    "        f = compare.count('False')\n",
    "        #print('True:',t, 'False', f)\n",
    "        \n",
    "        if t == f: \n",
    "            kapaValue, colValue = compare[-1]\n",
    "            df.loc[index, 'final_label'] = colValue\n",
    "            \n",
    "        elif t!=f:\n",
    "            if t > f:\n",
    "                df.loc[index, 'final_label'] = True\n",
    "            else:\n",
    "                df.loc[index, 'final_label'] = False\n",
    "    \n",
    "finalLabel(df)\n",
    "df = df.iloc[:,[0,-1]]\n",
    "df.head()\n"
   ]
  },
  {
   "cell_type": "code",
   "execution_count": 219,
   "metadata": {},
   "outputs": [],
   "source": [
    "df.to_csv(r'C:\\Users\\Kriti\\Desktop\\College-Academics\\NLP\\Project Phase 2-\\nyt_topic_new\\nyt_topic_1_lockdowns.csv',\n",
    "           index = False)"
   ]
  },
  {
   "cell_type": "markdown",
   "metadata": {},
   "source": [
    "## Calculating Kappa score for annotations in nyt_topic_1_masking_and_distancing"
   ]
  },
  {
   "cell_type": "code",
   "execution_count": 220,
   "metadata": {},
   "outputs": [],
   "source": [
    "df=pd.read_csv(r\"C:\\Users\\Kriti\\Desktop\\College-Academics\\NLP\\Project Phase 2-\\nyt_topic\\nyt_topic_1_masking_and_distancing.csv\")"
   ]
  },
  {
   "cell_type": "code",
   "execution_count": 221,
   "metadata": {},
   "outputs": [
    {
     "data": {
      "text/html": [
       "<div>\n",
       "<style scoped>\n",
       "    .dataframe tbody tr th:only-of-type {\n",
       "        vertical-align: middle;\n",
       "    }\n",
       "\n",
       "    .dataframe tbody tr th {\n",
       "        vertical-align: top;\n",
       "    }\n",
       "\n",
       "    .dataframe thead th {\n",
       "        text-align: right;\n",
       "    }\n",
       "</style>\n",
       "<table border=\"1\" class=\"dataframe\">\n",
       "  <thead>\n",
       "    <tr style=\"text-align: right;\">\n",
       "      <th></th>\n",
       "      <th>text</th>\n",
       "      <th>annotation_65</th>\n",
       "      <th>annotation_66</th>\n",
       "      <th>annotation_68</th>\n",
       "      <th>annotation_69</th>\n",
       "    </tr>\n",
       "  </thead>\n",
       "  <tbody>\n",
       "    <tr>\n",
       "      <th>0</th>\n",
       "      <td>To all those who gloat “elections have consequ...</td>\n",
       "      <td>False</td>\n",
       "      <td>False</td>\n",
       "      <td>False</td>\n",
       "      <td>False</td>\n",
       "    </tr>\n",
       "    <tr>\n",
       "      <th>1</th>\n",
       "      <td>Corporations and health privacy in the US? How...</td>\n",
       "      <td>False</td>\n",
       "      <td>False</td>\n",
       "      <td>False</td>\n",
       "      <td>False</td>\n",
       "    </tr>\n",
       "    <tr>\n",
       "      <th>2</th>\n",
       "      <td>No. Done with it.</td>\n",
       "      <td>False</td>\n",
       "      <td>False</td>\n",
       "      <td>False</td>\n",
       "      <td>False</td>\n",
       "    </tr>\n",
       "    <tr>\n",
       "      <th>3</th>\n",
       "      <td>I have not eaten outside my house since March....</td>\n",
       "      <td>False</td>\n",
       "      <td>False</td>\n",
       "      <td>False</td>\n",
       "      <td>False</td>\n",
       "    </tr>\n",
       "    <tr>\n",
       "      <th>4</th>\n",
       "      <td>More people die each day in US from the virus ...</td>\n",
       "      <td>True</td>\n",
       "      <td>True</td>\n",
       "      <td>True</td>\n",
       "      <td>True</td>\n",
       "    </tr>\n",
       "  </tbody>\n",
       "</table>\n",
       "</div>"
      ],
      "text/plain": [
       "                                                text  annotation_65  \\\n",
       "0  To all those who gloat “elections have consequ...          False   \n",
       "1  Corporations and health privacy in the US? How...          False   \n",
       "2                                  No. Done with it.          False   \n",
       "3  I have not eaten outside my house since March....          False   \n",
       "4  More people die each day in US from the virus ...           True   \n",
       "\n",
       "   annotation_66  annotation_68  annotation_69  \n",
       "0          False          False          False  \n",
       "1          False          False          False  \n",
       "2          False          False          False  \n",
       "3          False          False          False  \n",
       "4           True           True           True  "
      ]
     },
     "execution_count": 221,
     "metadata": {},
     "output_type": "execute_result"
    }
   ],
   "source": [
    "df.head()"
   ]
  },
  {
   "cell_type": "code",
   "execution_count": 222,
   "metadata": {},
   "outputs": [
    {
     "name": "stdout",
     "output_type": "stream",
     "text": [
      "0\n",
      "0\n",
      "0\n",
      "0\n",
      "0\n"
     ]
    }
   ],
   "source": [
    "print(df['annotation_65'].isnull().sum())\n",
    "print(df['annotation_66'].isnull().sum())\n",
    "print(df['annotation_68'].isnull().sum())\n",
    "print(df['annotation_69'].isnull().sum())\n",
    "print(df['text'].isnull().sum())"
   ]
  },
  {
   "cell_type": "markdown",
   "metadata": {},
   "source": [
    "### Cohen_kappa average score of annotation 65"
   ]
  },
  {
   "cell_type": "code",
   "execution_count": 223,
   "metadata": {},
   "outputs": [],
   "source": [
    "def cohen_avg_65():\n",
    "    cohen_score_65_66 = cohen_kappa_score(df['annotation_65'],df['annotation_66'])\n",
    "    cohen_score_65_68 = cohen_kappa_score(df['annotation_65'],df['annotation_68'])\n",
    "    cohen_score_65_69 = cohen_kappa_score(df['annotation_65'],df['annotation_69'])\n",
    "    cohen_score_average_65 = round((cohen_score_65_66 + cohen_score_65_68 + cohen_score_65_69)/3,3)\n",
    "    #print(\"Average Cohen Kappa Score for annotation 65:\",(cohen_score_average_65))\n",
    "    return cohen_score_average_65"
   ]
  },
  {
   "cell_type": "code",
   "execution_count": 224,
   "metadata": {},
   "outputs": [
    {
     "data": {
      "text/plain": [
       "0.718"
      ]
     },
     "execution_count": 224,
     "metadata": {},
     "output_type": "execute_result"
    }
   ],
   "source": [
    "cohen_avg_65()"
   ]
  },
  {
   "cell_type": "markdown",
   "metadata": {},
   "source": [
    "### Cohen_kappa average score of annotation 66:"
   ]
  },
  {
   "cell_type": "code",
   "execution_count": 225,
   "metadata": {},
   "outputs": [],
   "source": [
    "def cohen_avg_66():\n",
    "    cohen_score_66_65 = cohen_kappa_score(df['annotation_66'],df['annotation_65'])\n",
    "    cohen_score_66_68 = cohen_kappa_score(df['annotation_66'],df['annotation_68'])\n",
    "    cohen_score_66_69 = cohen_kappa_score(df['annotation_66'],df['annotation_69'])\n",
    "    cohen_score_average_66 = round((cohen_score_66_65 + cohen_score_66_68 + cohen_score_66_69)/3,3)\n",
    "   # print(\"Average Cohen Kappa Score for annotation 66:\",(cohen_score_average_66))\n",
    "    return cohen_score_average_66"
   ]
  },
  {
   "cell_type": "code",
   "execution_count": 226,
   "metadata": {},
   "outputs": [
    {
     "data": {
      "text/plain": [
       "0.816"
      ]
     },
     "execution_count": 226,
     "metadata": {},
     "output_type": "execute_result"
    }
   ],
   "source": [
    "cohen_avg_66()"
   ]
  },
  {
   "cell_type": "markdown",
   "metadata": {},
   "source": [
    "### Cohen_kappa average score of annotation 68:"
   ]
  },
  {
   "cell_type": "code",
   "execution_count": 227,
   "metadata": {},
   "outputs": [],
   "source": [
    "def cohen_avg_68():\n",
    "    cohen_score_68_65 = cohen_kappa_score(df['annotation_68'],df['annotation_65'])\n",
    "    cohen_score_68_66 = cohen_kappa_score(df['annotation_68'],df['annotation_66'])\n",
    "    cohen_score_68_69 = cohen_kappa_score(df['annotation_68'],df['annotation_69'])\n",
    "    cohen_score_average_68 = round((cohen_score_68_65 + cohen_score_68_66 + cohen_score_68_69)/3,3)\n",
    "    #print(\"Average Cohen Kappa Score for annotation 68:\",(cohen_score_average_68))\n",
    "    return cohen_score_average_68"
   ]
  },
  {
   "cell_type": "code",
   "execution_count": 228,
   "metadata": {},
   "outputs": [
    {
     "data": {
      "text/plain": [
       "0.78"
      ]
     },
     "execution_count": 228,
     "metadata": {},
     "output_type": "execute_result"
    }
   ],
   "source": [
    "cohen_avg_68()"
   ]
  },
  {
   "cell_type": "markdown",
   "metadata": {},
   "source": [
    "### Cohen_kappa average score of annotation 69: "
   ]
  },
  {
   "cell_type": "code",
   "execution_count": 229,
   "metadata": {},
   "outputs": [],
   "source": [
    "def cohen_avg_69():\n",
    "    cohen_score_69_65 = cohen_kappa_score(df['annotation_69'],df['annotation_65'])\n",
    "    cohen_score_69_66 = cohen_kappa_score(df['annotation_69'],df['annotation_66'])\n",
    "    cohen_score_69_68 = cohen_kappa_score(df['annotation_69'],df['annotation_68'])\n",
    "    cohen_score_average_69 = round((cohen_score_69_65 + cohen_score_69_66 + cohen_score_69_68)/3,3)\n",
    "    #print(\"Average Cohen Kappa Score for annotation 69:\",(cohen_score_average_69))\n",
    "    return cohen_score_average_69"
   ]
  },
  {
   "cell_type": "code",
   "execution_count": 230,
   "metadata": {},
   "outputs": [
    {
     "data": {
      "text/plain": [
       "0.761"
      ]
     },
     "execution_count": 230,
     "metadata": {},
     "output_type": "execute_result"
    }
   ],
   "source": [
    "cohen_avg_69()"
   ]
  },
  {
   "cell_type": "code",
   "execution_count": 231,
   "metadata": {},
   "outputs": [
    {
     "data": {
      "text/html": [
       "<div>\n",
       "<style scoped>\n",
       "    .dataframe tbody tr th:only-of-type {\n",
       "        vertical-align: middle;\n",
       "    }\n",
       "\n",
       "    .dataframe tbody tr th {\n",
       "        vertical-align: top;\n",
       "    }\n",
       "\n",
       "    .dataframe thead th {\n",
       "        text-align: right;\n",
       "    }\n",
       "</style>\n",
       "<table border=\"1\" class=\"dataframe\">\n",
       "  <thead>\n",
       "    <tr style=\"text-align: right;\">\n",
       "      <th></th>\n",
       "      <th>text</th>\n",
       "      <th>final_label</th>\n",
       "    </tr>\n",
       "  </thead>\n",
       "  <tbody>\n",
       "    <tr>\n",
       "      <th>0</th>\n",
       "      <td>To all those who gloat “elections have consequ...</td>\n",
       "      <td>False</td>\n",
       "    </tr>\n",
       "    <tr>\n",
       "      <th>1</th>\n",
       "      <td>Corporations and health privacy in the US? How...</td>\n",
       "      <td>False</td>\n",
       "    </tr>\n",
       "    <tr>\n",
       "      <th>2</th>\n",
       "      <td>No. Done with it.</td>\n",
       "      <td>False</td>\n",
       "    </tr>\n",
       "    <tr>\n",
       "      <th>3</th>\n",
       "      <td>I have not eaten outside my house since March....</td>\n",
       "      <td>False</td>\n",
       "    </tr>\n",
       "    <tr>\n",
       "      <th>4</th>\n",
       "      <td>More people die each day in US from the virus ...</td>\n",
       "      <td>True</td>\n",
       "    </tr>\n",
       "  </tbody>\n",
       "</table>\n",
       "</div>"
      ],
      "text/plain": [
       "                                                text final_label\n",
       "0  To all those who gloat “elections have consequ...       False\n",
       "1  Corporations and health privacy in the US? How...       False\n",
       "2                                  No. Done with it.       False\n",
       "3  I have not eaten outside my house since March....       False\n",
       "4  More people die each day in US from the virus ...        True"
      ]
     },
     "execution_count": 231,
     "metadata": {},
     "output_type": "execute_result"
    }
   ],
   "source": [
    "def finalLabel(df):\n",
    "    for index, rows in df.iterrows():\n",
    "        #print(index, rows['text'])\n",
    "        compare = [[cohen_avg_65(),rows['annotation_65']],\n",
    "                       [cohen_avg_66(),rows['annotation_66']],\n",
    "                   [cohen_avg_68(),rows['annotation_68']],\n",
    "                   [cohen_avg_69(),rows['annotation_69']]]\n",
    "        \n",
    "        boolean = [rows['annotation_65'],rows['annotation_66'],rows['annotation_68'],rows['annotation_69']]\n",
    "        \n",
    "        compare.sort(key = lambda k:k[0])\n",
    "        t = compare.count('True')\n",
    "        f = compare.count('False')\n",
    "        #print('True:',t, 'False', f)\n",
    "        \n",
    "        if t == f: \n",
    "            kapaValue, colValue = compare[-1]\n",
    "            df.loc[index, 'final_label'] = colValue\n",
    "            \n",
    "        elif t!=f:\n",
    "            if t > f:\n",
    "                df.loc[index, 'final_label'] = True\n",
    "            else:\n",
    "                df.loc[index, 'final_label'] = False\n",
    "    \n",
    "finalLabel(df)\n",
    "df = df.iloc[:,[0,-1]]\n",
    "df.head()\n"
   ]
  },
  {
   "cell_type": "code",
   "execution_count": 232,
   "metadata": {},
   "outputs": [],
   "source": [
    "df.to_csv(r'C:\\Users\\Kriti\\Desktop\\College-Academics\\NLP\\Project Phase 2-\\nyt_topic_new\\nyt_topic_1_masking_and_distancing.csv',\n",
    "           index = False)"
   ]
  },
  {
   "cell_type": "markdown",
   "metadata": {},
   "source": [
    "## Calculating Kappa score for annotations in nyt_topic_1_vaccination"
   ]
  },
  {
   "cell_type": "code",
   "execution_count": 233,
   "metadata": {},
   "outputs": [],
   "source": [
    "df=pd.read_csv(r\"C:\\Users\\Kriti\\Desktop\\College-Academics\\NLP\\Project Phase 2-\\nyt_topic\\nyt_topic_1_vaccination.csv\")"
   ]
  },
  {
   "cell_type": "code",
   "execution_count": 234,
   "metadata": {},
   "outputs": [
    {
     "data": {
      "text/html": [
       "<div>\n",
       "<style scoped>\n",
       "    .dataframe tbody tr th:only-of-type {\n",
       "        vertical-align: middle;\n",
       "    }\n",
       "\n",
       "    .dataframe tbody tr th {\n",
       "        vertical-align: top;\n",
       "    }\n",
       "\n",
       "    .dataframe thead th {\n",
       "        text-align: right;\n",
       "    }\n",
       "</style>\n",
       "<table border=\"1\" class=\"dataframe\">\n",
       "  <thead>\n",
       "    <tr style=\"text-align: right;\">\n",
       "      <th></th>\n",
       "      <th>text</th>\n",
       "      <th>annotation_65</th>\n",
       "      <th>annotation_66</th>\n",
       "      <th>annotation_68</th>\n",
       "      <th>annotation_69</th>\n",
       "    </tr>\n",
       "  </thead>\n",
       "  <tbody>\n",
       "    <tr>\n",
       "      <th>0</th>\n",
       "      <td>To all those who gloat “elections have consequ...</td>\n",
       "      <td>True</td>\n",
       "      <td>True</td>\n",
       "      <td>True</td>\n",
       "      <td>True</td>\n",
       "    </tr>\n",
       "    <tr>\n",
       "      <th>1</th>\n",
       "      <td>Corporations and health privacy in the US? How...</td>\n",
       "      <td>False</td>\n",
       "      <td>False</td>\n",
       "      <td>False</td>\n",
       "      <td>False</td>\n",
       "    </tr>\n",
       "    <tr>\n",
       "      <th>2</th>\n",
       "      <td>No. Done with it.</td>\n",
       "      <td>False</td>\n",
       "      <td>False</td>\n",
       "      <td>False</td>\n",
       "      <td>False</td>\n",
       "    </tr>\n",
       "    <tr>\n",
       "      <th>3</th>\n",
       "      <td>I have not eaten outside my house since March....</td>\n",
       "      <td>False</td>\n",
       "      <td>False</td>\n",
       "      <td>False</td>\n",
       "      <td>False</td>\n",
       "    </tr>\n",
       "    <tr>\n",
       "      <th>4</th>\n",
       "      <td>More people die each day in US from the virus ...</td>\n",
       "      <td>False</td>\n",
       "      <td>False</td>\n",
       "      <td>False</td>\n",
       "      <td>False</td>\n",
       "    </tr>\n",
       "  </tbody>\n",
       "</table>\n",
       "</div>"
      ],
      "text/plain": [
       "                                                text  annotation_65  \\\n",
       "0  To all those who gloat “elections have consequ...           True   \n",
       "1  Corporations and health privacy in the US? How...          False   \n",
       "2                                  No. Done with it.          False   \n",
       "3  I have not eaten outside my house since March....          False   \n",
       "4  More people die each day in US from the virus ...          False   \n",
       "\n",
       "   annotation_66  annotation_68  annotation_69  \n",
       "0           True           True           True  \n",
       "1          False          False          False  \n",
       "2          False          False          False  \n",
       "3          False          False          False  \n",
       "4          False          False          False  "
      ]
     },
     "execution_count": 234,
     "metadata": {},
     "output_type": "execute_result"
    }
   ],
   "source": [
    "df.head()"
   ]
  },
  {
   "cell_type": "code",
   "execution_count": 235,
   "metadata": {},
   "outputs": [
    {
     "name": "stdout",
     "output_type": "stream",
     "text": [
      "0\n",
      "0\n",
      "0\n",
      "0\n",
      "0\n"
     ]
    }
   ],
   "source": [
    "print(df['annotation_65'].isnull().sum())\n",
    "print(df['annotation_66'].isnull().sum())\n",
    "print(df['annotation_68'].isnull().sum())\n",
    "print(df['annotation_69'].isnull().sum())\n",
    "print(df['text'].isnull().sum())"
   ]
  },
  {
   "cell_type": "markdown",
   "metadata": {},
   "source": [
    "###  Cohen_kappa average score of annotation 65"
   ]
  },
  {
   "cell_type": "code",
   "execution_count": 236,
   "metadata": {},
   "outputs": [],
   "source": [
    "def cohen_avg_65():\n",
    "    cohen_score_65_66 = cohen_kappa_score(df['annotation_65'],df['annotation_66'])\n",
    "    cohen_score_65_68 = cohen_kappa_score(df['annotation_65'],df['annotation_68'])\n",
    "    cohen_score_65_69 = cohen_kappa_score(df['annotation_65'],df['annotation_69'])\n",
    "    cohen_score_average_65 = round((cohen_score_65_66 + cohen_score_65_68 + cohen_score_65_69)/3,3)\n",
    "    #print(\"Average Cohen Kappa Score for annotation 65:\",(cohen_score_average_65))\n",
    "    return cohen_score_average_65"
   ]
  },
  {
   "cell_type": "code",
   "execution_count": 237,
   "metadata": {},
   "outputs": [
    {
     "data": {
      "text/plain": [
       "0.593"
      ]
     },
     "execution_count": 237,
     "metadata": {},
     "output_type": "execute_result"
    }
   ],
   "source": [
    "cohen_avg_65()"
   ]
  },
  {
   "cell_type": "markdown",
   "metadata": {},
   "source": [
    "### Cohen_kappa average score of annotation 66: "
   ]
  },
  {
   "cell_type": "code",
   "execution_count": 238,
   "metadata": {},
   "outputs": [],
   "source": [
    "def cohen_avg_66():\n",
    "    cohen_score_66_65 = cohen_kappa_score(df['annotation_66'],df['annotation_65'])\n",
    "    cohen_score_66_68 = cohen_kappa_score(df['annotation_66'],df['annotation_68'])\n",
    "    cohen_score_66_69 = cohen_kappa_score(df['annotation_66'],df['annotation_69'])\n",
    "    cohen_score_average_66 = round((cohen_score_66_65 + cohen_score_66_68 + cohen_score_66_69)/3,3)\n",
    "   # print(\"Average Cohen Kappa Score for annotation 66:\",(cohen_score_average_66))\n",
    "    return cohen_score_average_66"
   ]
  },
  {
   "cell_type": "code",
   "execution_count": 239,
   "metadata": {},
   "outputs": [
    {
     "data": {
      "text/plain": [
       "0.792"
      ]
     },
     "execution_count": 239,
     "metadata": {},
     "output_type": "execute_result"
    }
   ],
   "source": [
    "cohen_avg_66()"
   ]
  },
  {
   "cell_type": "markdown",
   "metadata": {},
   "source": [
    "### Cohen_kappa average score of annotation 68:"
   ]
  },
  {
   "cell_type": "code",
   "execution_count": 240,
   "metadata": {},
   "outputs": [],
   "source": [
    "def cohen_avg_68():\n",
    "    cohen_score_68_65 = cohen_kappa_score(df['annotation_68'],df['annotation_65'])\n",
    "    cohen_score_68_66 = cohen_kappa_score(df['annotation_68'],df['annotation_66'])\n",
    "    cohen_score_68_69 = cohen_kappa_score(df['annotation_68'],df['annotation_69'])\n",
    "    cohen_score_average_68 = round((cohen_score_68_65 + cohen_score_68_66 + cohen_score_68_69)/3,3)\n",
    "    #print(\"Average Cohen Kappa Score for annotation 68:\",(cohen_score_average_68))\n",
    "    return cohen_score_average_68"
   ]
  },
  {
   "cell_type": "code",
   "execution_count": 241,
   "metadata": {},
   "outputs": [
    {
     "data": {
      "text/plain": [
       "0.792"
      ]
     },
     "execution_count": 241,
     "metadata": {},
     "output_type": "execute_result"
    }
   ],
   "source": [
    "cohen_avg_68()"
   ]
  },
  {
   "cell_type": "markdown",
   "metadata": {},
   "source": [
    "### Cohen_kappa average score of annotation 69:"
   ]
  },
  {
   "cell_type": "code",
   "execution_count": 242,
   "metadata": {},
   "outputs": [],
   "source": [
    "def cohen_avg_69():\n",
    "    cohen_score_69_65 = cohen_kappa_score(df['annotation_69'],df['annotation_65'])\n",
    "    cohen_score_69_66 = cohen_kappa_score(df['annotation_69'],df['annotation_66'])\n",
    "    cohen_score_69_68 = cohen_kappa_score(df['annotation_69'],df['annotation_68'])\n",
    "    cohen_score_average_69 = round((cohen_score_69_65 + cohen_score_69_66 + cohen_score_69_68)/3,3)\n",
    "   # print(\"Average Cohen Kappa Score for annotation 69:\",(cohen_score_average_69))\n",
    "    return cohen_score_average_69"
   ]
  },
  {
   "cell_type": "code",
   "execution_count": 243,
   "metadata": {},
   "outputs": [
    {
     "data": {
      "text/plain": [
       "0.818"
      ]
     },
     "execution_count": 243,
     "metadata": {},
     "output_type": "execute_result"
    }
   ],
   "source": [
    "cohen_avg_69()"
   ]
  },
  {
   "cell_type": "code",
   "execution_count": 244,
   "metadata": {},
   "outputs": [
    {
     "data": {
      "text/html": [
       "<div>\n",
       "<style scoped>\n",
       "    .dataframe tbody tr th:only-of-type {\n",
       "        vertical-align: middle;\n",
       "    }\n",
       "\n",
       "    .dataframe tbody tr th {\n",
       "        vertical-align: top;\n",
       "    }\n",
       "\n",
       "    .dataframe thead th {\n",
       "        text-align: right;\n",
       "    }\n",
       "</style>\n",
       "<table border=\"1\" class=\"dataframe\">\n",
       "  <thead>\n",
       "    <tr style=\"text-align: right;\">\n",
       "      <th></th>\n",
       "      <th>text</th>\n",
       "      <th>final_label</th>\n",
       "    </tr>\n",
       "  </thead>\n",
       "  <tbody>\n",
       "    <tr>\n",
       "      <th>0</th>\n",
       "      <td>To all those who gloat “elections have consequ...</td>\n",
       "      <td>True</td>\n",
       "    </tr>\n",
       "    <tr>\n",
       "      <th>1</th>\n",
       "      <td>Corporations and health privacy in the US? How...</td>\n",
       "      <td>False</td>\n",
       "    </tr>\n",
       "    <tr>\n",
       "      <th>2</th>\n",
       "      <td>No. Done with it.</td>\n",
       "      <td>False</td>\n",
       "    </tr>\n",
       "    <tr>\n",
       "      <th>3</th>\n",
       "      <td>I have not eaten outside my house since March....</td>\n",
       "      <td>False</td>\n",
       "    </tr>\n",
       "    <tr>\n",
       "      <th>4</th>\n",
       "      <td>More people die each day in US from the virus ...</td>\n",
       "      <td>False</td>\n",
       "    </tr>\n",
       "  </tbody>\n",
       "</table>\n",
       "</div>"
      ],
      "text/plain": [
       "                                                text final_label\n",
       "0  To all those who gloat “elections have consequ...        True\n",
       "1  Corporations and health privacy in the US? How...       False\n",
       "2                                  No. Done with it.       False\n",
       "3  I have not eaten outside my house since March....       False\n",
       "4  More people die each day in US from the virus ...       False"
      ]
     },
     "execution_count": 244,
     "metadata": {},
     "output_type": "execute_result"
    }
   ],
   "source": [
    "def finalLabel(df):\n",
    "    for index, rows in df.iterrows():\n",
    "        #print(index, rows['text'])\n",
    "        compare = [[cohen_avg_65(),rows['annotation_65']],\n",
    "                       [cohen_avg_66(),rows['annotation_66']],\n",
    "                   [cohen_avg_68(),rows['annotation_68']],\n",
    "                   [cohen_avg_69(),rows['annotation_69']]]\n",
    "        \n",
    "        boolean = [rows['annotation_65'],rows['annotation_66'],rows['annotation_68'],rows['annotation_69']]\n",
    "        \n",
    "        compare.sort(key = lambda k:k[0])\n",
    "        t = compare.count('True')\n",
    "        f = compare.count('False')\n",
    "        #print('True:',t, 'False', f)\n",
    "        \n",
    "        if t == f: \n",
    "            kapaValue, colValue = compare[-1]\n",
    "            df.loc[index, 'final_label'] = colValue\n",
    "            \n",
    "        elif t!=f:\n",
    "            if t > f:\n",
    "                df.loc[index, 'final_label'] = True\n",
    "            else:\n",
    "                df.loc[index, 'final_label'] = False\n",
    "    \n",
    "finalLabel(df)\n",
    "df = df.iloc[:,[0,-1]]\n",
    "df.head()\n"
   ]
  },
  {
   "cell_type": "code",
   "execution_count": 245,
   "metadata": {},
   "outputs": [],
   "source": [
    "df.to_csv(r'C:\\Users\\Kriti\\Desktop\\College-Academics\\NLP\\Project Phase 2-\\nyt_topic_new\\nyt_topic_1_vaccination.csv',\n",
    "           index = False)"
   ]
  },
  {
   "cell_type": "markdown",
   "metadata": {},
   "source": [
    "# NYT_topic_2 \n",
    "\n",
    "## Calculating Kappa score for annotations in NYT_topic_2_lockdowns"
   ]
  },
  {
   "cell_type": "code",
   "execution_count": 246,
   "metadata": {},
   "outputs": [],
   "source": [
    "df=pd.read_csv(r\"C:\\Users\\Kriti\\Desktop\\College-Academics\\NLP\\Project Phase 2-\\nyt_topic\\nyt_topic_2_lockdowns.csv\")"
   ]
  },
  {
   "cell_type": "code",
   "execution_count": 247,
   "metadata": {},
   "outputs": [
    {
     "data": {
      "text/html": [
       "<div>\n",
       "<style scoped>\n",
       "    .dataframe tbody tr th:only-of-type {\n",
       "        vertical-align: middle;\n",
       "    }\n",
       "\n",
       "    .dataframe tbody tr th {\n",
       "        vertical-align: top;\n",
       "    }\n",
       "\n",
       "    .dataframe thead th {\n",
       "        text-align: right;\n",
       "    }\n",
       "</style>\n",
       "<table border=\"1\" class=\"dataframe\">\n",
       "  <thead>\n",
       "    <tr style=\"text-align: right;\">\n",
       "      <th></th>\n",
       "      <th>text</th>\n",
       "      <th>annotation_40</th>\n",
       "      <th>annotation_8</th>\n",
       "      <th>annotation_42</th>\n",
       "      <th>annotation_15</th>\n",
       "    </tr>\n",
       "  </thead>\n",
       "  <tbody>\n",
       "    <tr>\n",
       "      <th>0</th>\n",
       "      <td>I’m so tired of the fear mongering. Every vari...</td>\n",
       "      <td>False</td>\n",
       "      <td>False</td>\n",
       "      <td>False</td>\n",
       "      <td>False</td>\n",
       "    </tr>\n",
       "    <tr>\n",
       "      <th>1</th>\n",
       "      <td>We need a vaccine soonest.  Not sure why Russi...</td>\n",
       "      <td>False</td>\n",
       "      <td>False</td>\n",
       "      <td>False</td>\n",
       "      <td>False</td>\n",
       "    </tr>\n",
       "    <tr>\n",
       "      <th>2</th>\n",
       "      <td>The lack of leadership on this is astonishing</td>\n",
       "      <td>False</td>\n",
       "      <td>False</td>\n",
       "      <td>False</td>\n",
       "      <td>False</td>\n",
       "    </tr>\n",
       "    <tr>\n",
       "      <th>3</th>\n",
       "      <td>Alternative reality is really gaining traction...</td>\n",
       "      <td>False</td>\n",
       "      <td>False</td>\n",
       "      <td>False</td>\n",
       "      <td>False</td>\n",
       "    </tr>\n",
       "    <tr>\n",
       "      <th>4</th>\n",
       "      <td>I would be much more likely to patronize a bus...</td>\n",
       "      <td>False</td>\n",
       "      <td>False</td>\n",
       "      <td>False</td>\n",
       "      <td>False</td>\n",
       "    </tr>\n",
       "  </tbody>\n",
       "</table>\n",
       "</div>"
      ],
      "text/plain": [
       "                                                text  annotation_40  \\\n",
       "0  I’m so tired of the fear mongering. Every vari...          False   \n",
       "1  We need a vaccine soonest.  Not sure why Russi...          False   \n",
       "2      The lack of leadership on this is astonishing          False   \n",
       "3  Alternative reality is really gaining traction...          False   \n",
       "4  I would be much more likely to patronize a bus...          False   \n",
       "\n",
       "   annotation_8  annotation_42  annotation_15  \n",
       "0         False          False          False  \n",
       "1         False          False          False  \n",
       "2         False          False          False  \n",
       "3         False          False          False  \n",
       "4         False          False          False  "
      ]
     },
     "execution_count": 247,
     "metadata": {},
     "output_type": "execute_result"
    }
   ],
   "source": [
    "df.head()"
   ]
  },
  {
   "cell_type": "code",
   "execution_count": 248,
   "metadata": {},
   "outputs": [
    {
     "name": "stdout",
     "output_type": "stream",
     "text": [
      "0\n",
      "0\n",
      "0\n",
      "0\n",
      "0\n"
     ]
    }
   ],
   "source": [
    "print(df['annotation_40'].isnull().sum())\n",
    "print(df['annotation_8'].isnull().sum())\n",
    "print(df['annotation_42'].isnull().sum())\n",
    "print(df['annotation_15'].isnull().sum())\n",
    "print(df['text'].isnull().sum())"
   ]
  },
  {
   "cell_type": "markdown",
   "metadata": {},
   "source": [
    "### Cohen_kappa average score of annotation 40: "
   ]
  },
  {
   "cell_type": "code",
   "execution_count": 249,
   "metadata": {},
   "outputs": [],
   "source": [
    "def cohen_avg_40():\n",
    "    cohen_score_40_8 = cohen_kappa_score(df['annotation_40'],df['annotation_8'])\n",
    "    cohen_score_40_42 = cohen_kappa_score(df['annotation_40'],df['annotation_42'])\n",
    "    cohen_score_40_15 = cohen_kappa_score(df['annotation_40'],df['annotation_15'])\n",
    "    cohen_score_average_40 = round((cohen_score_40_8 + cohen_score_40_42 + cohen_score_40_15)/3,3)\n",
    "    #print(\"Average Cohen Kappa Score for annotation 40:\",(cohen_score_average_40))\n",
    "    return cohen_score_average_40"
   ]
  },
  {
   "cell_type": "code",
   "execution_count": 250,
   "metadata": {},
   "outputs": [
    {
     "data": {
      "text/plain": [
       "0.54"
      ]
     },
     "execution_count": 250,
     "metadata": {},
     "output_type": "execute_result"
    }
   ],
   "source": [
    "cohen_avg_40()"
   ]
  },
  {
   "cell_type": "markdown",
   "metadata": {},
   "source": [
    "### Cohen_kappa average score of annotation 8:"
   ]
  },
  {
   "cell_type": "code",
   "execution_count": 251,
   "metadata": {},
   "outputs": [],
   "source": [
    "def cohen_avg_8():\n",
    "    cohen_score_8_40 = cohen_kappa_score(df['annotation_8'],df['annotation_40'])\n",
    "    cohen_score_8_42 = cohen_kappa_score(df['annotation_8'],df['annotation_42'])\n",
    "    cohen_score_8_15 = cohen_kappa_score(df['annotation_8'],df['annotation_15'])\n",
    "    cohen_score_average_8 = round((cohen_score_8_40 + cohen_score_8_42 + cohen_score_8_15)/3,3)\n",
    "    #print(\"Average Cohen Kappa Score for annotation 8:\",(cohen_score_average_8))\n",
    "    return cohen_score_average_8"
   ]
  },
  {
   "cell_type": "code",
   "execution_count": 252,
   "metadata": {},
   "outputs": [
    {
     "data": {
      "text/plain": [
       "0.285"
      ]
     },
     "execution_count": 252,
     "metadata": {},
     "output_type": "execute_result"
    }
   ],
   "source": [
    "cohen_avg_8()"
   ]
  },
  {
   "cell_type": "markdown",
   "metadata": {},
   "source": [
    "### Cohen_kappa average score of annotation 42: "
   ]
  },
  {
   "cell_type": "code",
   "execution_count": 253,
   "metadata": {},
   "outputs": [],
   "source": [
    "def cohen_avg_42():\n",
    "    cohen_score_42_40 = cohen_kappa_score(df['annotation_42'],df['annotation_40'])\n",
    "    cohen_score_42_8 = cohen_kappa_score(df['annotation_42'],df['annotation_8'])\n",
    "    cohen_score_42_15 = cohen_kappa_score(df['annotation_42'],df['annotation_15'])\n",
    "    cohen_score_average_42 = round((cohen_score_42_40 + cohen_score_42_8 + cohen_score_42_15)/3,3)\n",
    "   # print(\"Average Cohen Kappa Score for annotation 42:\",(cohen_score_average_42))\n",
    "    return cohen_score_average_42"
   ]
  },
  {
   "cell_type": "code",
   "execution_count": 254,
   "metadata": {},
   "outputs": [
    {
     "data": {
      "text/plain": [
       "0.504"
      ]
     },
     "execution_count": 254,
     "metadata": {},
     "output_type": "execute_result"
    }
   ],
   "source": [
    "cohen_avg_42()"
   ]
  },
  {
   "cell_type": "markdown",
   "metadata": {},
   "source": [
    "### Cohen_kappa average score of annotation 15: "
   ]
  },
  {
   "cell_type": "code",
   "execution_count": 255,
   "metadata": {},
   "outputs": [],
   "source": [
    "def cohen_avg_15():\n",
    "    cohen_score_15_40 = cohen_kappa_score(df['annotation_15'],df['annotation_40'])\n",
    "    cohen_score_15_8 = cohen_kappa_score(df['annotation_15'],df['annotation_8'])\n",
    "    cohen_score_15_42 = cohen_kappa_score(df['annotation_15'],df['annotation_42'])\n",
    "    cohen_score_average_15 = round((cohen_score_15_40 + cohen_score_15_8 + cohen_score_15_42)/3,3)\n",
    "    #print(\"Average Cohen Kappa Score for annotation 15:\",(cohen_score_average_15))\n",
    "    return cohen_score_average_15"
   ]
  },
  {
   "cell_type": "code",
   "execution_count": 256,
   "metadata": {},
   "outputs": [
    {
     "data": {
      "text/plain": [
       "0.512"
      ]
     },
     "execution_count": 256,
     "metadata": {},
     "output_type": "execute_result"
    }
   ],
   "source": [
    "cohen_avg_15()"
   ]
  },
  {
   "cell_type": "code",
   "execution_count": 257,
   "metadata": {},
   "outputs": [
    {
     "data": {
      "text/html": [
       "<div>\n",
       "<style scoped>\n",
       "    .dataframe tbody tr th:only-of-type {\n",
       "        vertical-align: middle;\n",
       "    }\n",
       "\n",
       "    .dataframe tbody tr th {\n",
       "        vertical-align: top;\n",
       "    }\n",
       "\n",
       "    .dataframe thead th {\n",
       "        text-align: right;\n",
       "    }\n",
       "</style>\n",
       "<table border=\"1\" class=\"dataframe\">\n",
       "  <thead>\n",
       "    <tr style=\"text-align: right;\">\n",
       "      <th></th>\n",
       "      <th>text</th>\n",
       "      <th>final_label</th>\n",
       "    </tr>\n",
       "  </thead>\n",
       "  <tbody>\n",
       "    <tr>\n",
       "      <th>0</th>\n",
       "      <td>I’m so tired of the fear mongering. Every vari...</td>\n",
       "      <td>False</td>\n",
       "    </tr>\n",
       "    <tr>\n",
       "      <th>1</th>\n",
       "      <td>We need a vaccine soonest.  Not sure why Russi...</td>\n",
       "      <td>False</td>\n",
       "    </tr>\n",
       "    <tr>\n",
       "      <th>2</th>\n",
       "      <td>The lack of leadership on this is astonishing</td>\n",
       "      <td>False</td>\n",
       "    </tr>\n",
       "    <tr>\n",
       "      <th>3</th>\n",
       "      <td>Alternative reality is really gaining traction...</td>\n",
       "      <td>False</td>\n",
       "    </tr>\n",
       "    <tr>\n",
       "      <th>4</th>\n",
       "      <td>I would be much more likely to patronize a bus...</td>\n",
       "      <td>False</td>\n",
       "    </tr>\n",
       "  </tbody>\n",
       "</table>\n",
       "</div>"
      ],
      "text/plain": [
       "                                                text final_label\n",
       "0  I’m so tired of the fear mongering. Every vari...       False\n",
       "1  We need a vaccine soonest.  Not sure why Russi...       False\n",
       "2      The lack of leadership on this is astonishing       False\n",
       "3  Alternative reality is really gaining traction...       False\n",
       "4  I would be much more likely to patronize a bus...       False"
      ]
     },
     "execution_count": 257,
     "metadata": {},
     "output_type": "execute_result"
    }
   ],
   "source": [
    "def finalLabel(df):\n",
    "    for index, rows in df.iterrows():\n",
    "        #print(index, rows['text'])\n",
    "        compare = [[cohen_avg_40(),rows['annotation_40']],\n",
    "                       [cohen_avg_8(),rows['annotation_8']],\n",
    "                   [cohen_avg_42(),rows['annotation_42']],\n",
    "                   [cohen_avg_15(),rows['annotation_15']]]\n",
    "        \n",
    "        boolean = [rows['annotation_40'],rows['annotation_8'],rows['annotation_42'],rows['annotation_15']]\n",
    "        \n",
    "        compare.sort(key = lambda k:k[0])\n",
    "        t = compare.count('True')\n",
    "        f = compare.count('False')\n",
    "        #print('True:',t, 'False', f)\n",
    "        \n",
    "        if t == f: \n",
    "            kapaValue, colValue = compare[-1]\n",
    "            df.loc[index, 'final_label'] = colValue\n",
    "            \n",
    "        elif t!=f:\n",
    "            if t > f:\n",
    "                df.loc[index, 'final_label'] = True\n",
    "            else:\n",
    "                df.loc[index, 'final_label'] = False\n",
    "    \n",
    "finalLabel(df)\n",
    "df = df.iloc[:,[0,-1]]\n",
    "df.head()\n"
   ]
  },
  {
   "cell_type": "code",
   "execution_count": 258,
   "metadata": {},
   "outputs": [],
   "source": [
    "df.to_csv(r'C:\\Users\\Kriti\\Desktop\\College-Academics\\NLP\\Project Phase 2-\\nyt_topic_new\\nyt_topic_2_lockdowns.csv',\n",
    "           index = False)"
   ]
  },
  {
   "cell_type": "markdown",
   "metadata": {},
   "source": [
    "### Calculating Kappa score for annotations in NYT_topic_2_nyt_topic_2_masking_and_distancing"
   ]
  },
  {
   "cell_type": "code",
   "execution_count": 259,
   "metadata": {},
   "outputs": [],
   "source": [
    "df=pd.read_csv(r\"C:\\Users\\Kriti\\Desktop\\College-Academics\\NLP\\Project Phase 2-\\nyt_topic\\nyt_topic_2_masking_and_distancing.csv\")"
   ]
  },
  {
   "cell_type": "code",
   "execution_count": 260,
   "metadata": {},
   "outputs": [
    {
     "data": {
      "text/html": [
       "<div>\n",
       "<style scoped>\n",
       "    .dataframe tbody tr th:only-of-type {\n",
       "        vertical-align: middle;\n",
       "    }\n",
       "\n",
       "    .dataframe tbody tr th {\n",
       "        vertical-align: top;\n",
       "    }\n",
       "\n",
       "    .dataframe thead th {\n",
       "        text-align: right;\n",
       "    }\n",
       "</style>\n",
       "<table border=\"1\" class=\"dataframe\">\n",
       "  <thead>\n",
       "    <tr style=\"text-align: right;\">\n",
       "      <th></th>\n",
       "      <th>text</th>\n",
       "      <th>annotation_40</th>\n",
       "      <th>annotation_8</th>\n",
       "      <th>annotation_42</th>\n",
       "      <th>annotation_15</th>\n",
       "    </tr>\n",
       "  </thead>\n",
       "  <tbody>\n",
       "    <tr>\n",
       "      <th>0</th>\n",
       "      <td>I’m so tired of the fear mongering. Every vari...</td>\n",
       "      <td>False</td>\n",
       "      <td>False</td>\n",
       "      <td>False</td>\n",
       "      <td>False</td>\n",
       "    </tr>\n",
       "    <tr>\n",
       "      <th>1</th>\n",
       "      <td>We need a vaccine soonest.  Not sure why Russi...</td>\n",
       "      <td>False</td>\n",
       "      <td>False</td>\n",
       "      <td>False</td>\n",
       "      <td>False</td>\n",
       "    </tr>\n",
       "    <tr>\n",
       "      <th>2</th>\n",
       "      <td>The lack of leadership on this is astonishing</td>\n",
       "      <td>False</td>\n",
       "      <td>False</td>\n",
       "      <td>False</td>\n",
       "      <td>False</td>\n",
       "    </tr>\n",
       "    <tr>\n",
       "      <th>3</th>\n",
       "      <td>Alternative reality is really gaining traction...</td>\n",
       "      <td>False</td>\n",
       "      <td>False</td>\n",
       "      <td>False</td>\n",
       "      <td>False</td>\n",
       "    </tr>\n",
       "    <tr>\n",
       "      <th>4</th>\n",
       "      <td>I would be much more likely to patronize a bus...</td>\n",
       "      <td>False</td>\n",
       "      <td>False</td>\n",
       "      <td>False</td>\n",
       "      <td>False</td>\n",
       "    </tr>\n",
       "  </tbody>\n",
       "</table>\n",
       "</div>"
      ],
      "text/plain": [
       "                                                text  annotation_40  \\\n",
       "0  I’m so tired of the fear mongering. Every vari...          False   \n",
       "1  We need a vaccine soonest.  Not sure why Russi...          False   \n",
       "2      The lack of leadership on this is astonishing          False   \n",
       "3  Alternative reality is really gaining traction...          False   \n",
       "4  I would be much more likely to patronize a bus...          False   \n",
       "\n",
       "   annotation_8  annotation_42  annotation_15  \n",
       "0         False          False          False  \n",
       "1         False          False          False  \n",
       "2         False          False          False  \n",
       "3         False          False          False  \n",
       "4         False          False          False  "
      ]
     },
     "execution_count": 260,
     "metadata": {},
     "output_type": "execute_result"
    }
   ],
   "source": [
    "df.head()"
   ]
  },
  {
   "cell_type": "code",
   "execution_count": 261,
   "metadata": {},
   "outputs": [
    {
     "name": "stdout",
     "output_type": "stream",
     "text": [
      "0\n",
      "0\n",
      "0\n",
      "0\n",
      "0\n"
     ]
    }
   ],
   "source": [
    "print(df['annotation_40'].isnull().sum())\n",
    "print(df['annotation_8'].isnull().sum())\n",
    "print(df['annotation_42'].isnull().sum())\n",
    "print(df['annotation_15'].isnull().sum())\n",
    "print(df['text'].isnull().sum())"
   ]
  },
  {
   "cell_type": "markdown",
   "metadata": {},
   "source": [
    "### Cohen_kappa average score of annotation 40:"
   ]
  },
  {
   "cell_type": "code",
   "execution_count": 262,
   "metadata": {},
   "outputs": [],
   "source": [
    "def cohen_avg_40():\n",
    "    cohen_score_40_8 = cohen_kappa_score(df['annotation_40'],df['annotation_8'])\n",
    "    cohen_score_40_42 = cohen_kappa_score(df['annotation_40'],df['annotation_42'])\n",
    "    cohen_score_40_15 = cohen_kappa_score(df['annotation_40'],df['annotation_15'])\n",
    "    cohen_score_average_40 = round((cohen_score_40_8 + cohen_score_40_42 + cohen_score_40_15)/3,3)\n",
    "    #print(\"Average Cohen Kappa Score for annotation 40:\",(cohen_score_average_40))\n",
    "    return cohen_score_average_40"
   ]
  },
  {
   "cell_type": "code",
   "execution_count": 263,
   "metadata": {},
   "outputs": [
    {
     "data": {
      "text/plain": [
       "0.868"
      ]
     },
     "execution_count": 263,
     "metadata": {},
     "output_type": "execute_result"
    }
   ],
   "source": [
    "cohen_avg_40()"
   ]
  },
  {
   "cell_type": "markdown",
   "metadata": {},
   "source": [
    "### Cohen_kappa average score of annotation 8:"
   ]
  },
  {
   "cell_type": "code",
   "execution_count": 264,
   "metadata": {},
   "outputs": [],
   "source": [
    "def cohen_avg_8():\n",
    "    cohen_score_8_40 = cohen_kappa_score(df['annotation_8'],df['annotation_40'])\n",
    "    cohen_score_8_42 = cohen_kappa_score(df['annotation_8'],df['annotation_42'])\n",
    "    cohen_score_8_15 = cohen_kappa_score(df['annotation_8'],df['annotation_15'])\n",
    "    cohen_score_average_8 = round((cohen_score_8_40 + cohen_score_8_42 + cohen_score_8_15)/3,3)\n",
    "    #print(\"Average Cohen Kappa Score for annotation 8:\",(cohen_score_average_8))\n",
    "    return cohen_score_average_8"
   ]
  },
  {
   "cell_type": "code",
   "execution_count": 265,
   "metadata": {},
   "outputs": [
    {
     "data": {
      "text/plain": [
       "0.816"
      ]
     },
     "execution_count": 265,
     "metadata": {},
     "output_type": "execute_result"
    }
   ],
   "source": [
    "cohen_avg_8()"
   ]
  },
  {
   "cell_type": "markdown",
   "metadata": {},
   "source": [
    "### Cohen_kappa average score of annotation 42:"
   ]
  },
  {
   "cell_type": "code",
   "execution_count": 266,
   "metadata": {},
   "outputs": [],
   "source": [
    "def cohen_avg_42():\n",
    "    cohen_score_42_40 = cohen_kappa_score(df['annotation_42'],df['annotation_40'])\n",
    "    cohen_score_42_8 = cohen_kappa_score(df['annotation_42'],df['annotation_8'])\n",
    "    cohen_score_42_15 = cohen_kappa_score(df['annotation_42'],df['annotation_15'])\n",
    "    cohen_score_average_42 = round((cohen_score_42_40 + cohen_score_42_8 + cohen_score_42_15)/3,3)\n",
    "    #print(\"Average Cohen Kappa Score for annotation 42:\",(cohen_score_average_42))\n",
    "    return cohen_score_average_42"
   ]
  },
  {
   "cell_type": "code",
   "execution_count": 267,
   "metadata": {},
   "outputs": [
    {
     "data": {
      "text/plain": [
       "0.883"
      ]
     },
     "execution_count": 267,
     "metadata": {},
     "output_type": "execute_result"
    }
   ],
   "source": [
    "cohen_avg_42()"
   ]
  },
  {
   "cell_type": "markdown",
   "metadata": {},
   "source": [
    "### Cohen_kappa average score of annotation 15:"
   ]
  },
  {
   "cell_type": "code",
   "execution_count": 268,
   "metadata": {},
   "outputs": [],
   "source": [
    "def cohen_avg_15():\n",
    "    cohen_score_15_40 = cohen_kappa_score(df['annotation_15'],df['annotation_40'])\n",
    "    cohen_score_15_8 = cohen_kappa_score(df['annotation_15'],df['annotation_8'])\n",
    "    cohen_score_15_42 = cohen_kappa_score(df['annotation_15'],df['annotation_42'])\n",
    "    cohen_score_average_15 = round((cohen_score_15_40 + cohen_score_15_8 + cohen_score_15_42)/3,3)\n",
    "    #print(\"Average Cohen Kappa Score for annotation 15:\",(cohen_score_average_15))\n",
    "    return cohen_score_average_15"
   ]
  },
  {
   "cell_type": "code",
   "execution_count": 269,
   "metadata": {},
   "outputs": [
    {
     "data": {
      "text/plain": [
       "0.865"
      ]
     },
     "execution_count": 269,
     "metadata": {},
     "output_type": "execute_result"
    }
   ],
   "source": [
    "cohen_avg_15()"
   ]
  },
  {
   "cell_type": "code",
   "execution_count": 270,
   "metadata": {},
   "outputs": [
    {
     "data": {
      "text/html": [
       "<div>\n",
       "<style scoped>\n",
       "    .dataframe tbody tr th:only-of-type {\n",
       "        vertical-align: middle;\n",
       "    }\n",
       "\n",
       "    .dataframe tbody tr th {\n",
       "        vertical-align: top;\n",
       "    }\n",
       "\n",
       "    .dataframe thead th {\n",
       "        text-align: right;\n",
       "    }\n",
       "</style>\n",
       "<table border=\"1\" class=\"dataframe\">\n",
       "  <thead>\n",
       "    <tr style=\"text-align: right;\">\n",
       "      <th></th>\n",
       "      <th>text</th>\n",
       "      <th>final_label</th>\n",
       "    </tr>\n",
       "  </thead>\n",
       "  <tbody>\n",
       "    <tr>\n",
       "      <th>0</th>\n",
       "      <td>I’m so tired of the fear mongering. Every vari...</td>\n",
       "      <td>False</td>\n",
       "    </tr>\n",
       "    <tr>\n",
       "      <th>1</th>\n",
       "      <td>We need a vaccine soonest.  Not sure why Russi...</td>\n",
       "      <td>False</td>\n",
       "    </tr>\n",
       "    <tr>\n",
       "      <th>2</th>\n",
       "      <td>The lack of leadership on this is astonishing</td>\n",
       "      <td>False</td>\n",
       "    </tr>\n",
       "    <tr>\n",
       "      <th>3</th>\n",
       "      <td>Alternative reality is really gaining traction...</td>\n",
       "      <td>False</td>\n",
       "    </tr>\n",
       "    <tr>\n",
       "      <th>4</th>\n",
       "      <td>I would be much more likely to patronize a bus...</td>\n",
       "      <td>False</td>\n",
       "    </tr>\n",
       "  </tbody>\n",
       "</table>\n",
       "</div>"
      ],
      "text/plain": [
       "                                                text final_label\n",
       "0  I’m so tired of the fear mongering. Every vari...       False\n",
       "1  We need a vaccine soonest.  Not sure why Russi...       False\n",
       "2      The lack of leadership on this is astonishing       False\n",
       "3  Alternative reality is really gaining traction...       False\n",
       "4  I would be much more likely to patronize a bus...       False"
      ]
     },
     "execution_count": 270,
     "metadata": {},
     "output_type": "execute_result"
    }
   ],
   "source": [
    "def finalLabel(df):\n",
    "    for index, rows in df.iterrows():\n",
    "        #print(index, rows['text'])\n",
    "        compare = [[cohen_avg_40(),rows['annotation_40']],\n",
    "                       [cohen_avg_8(),rows['annotation_8']],\n",
    "                   [cohen_avg_42(),rows['annotation_42']],\n",
    "                   [cohen_avg_15(),rows['annotation_15']]]\n",
    "        \n",
    "        boolean = [rows['annotation_40'],rows['annotation_8'],rows['annotation_42'],rows['annotation_15']]\n",
    "        \n",
    "        compare.sort(key = lambda k:k[0])\n",
    "        t = compare.count('True')\n",
    "        f = compare.count('False')\n",
    "        #print('True:',t, 'False', f)\n",
    "        \n",
    "        if t == f: \n",
    "            kapaValue, colValue = compare[-1]\n",
    "            df.loc[index, 'final_label'] = colValue\n",
    "            \n",
    "        elif t!=f:\n",
    "            if t > f:\n",
    "                df.loc[index, 'final_label'] = True\n",
    "            else:\n",
    "                df.loc[index, 'final_label'] = False\n",
    "    \n",
    "finalLabel(df)\n",
    "df = df.iloc[:,[0,-1]]\n",
    "df.head()\n"
   ]
  },
  {
   "cell_type": "code",
   "execution_count": 271,
   "metadata": {},
   "outputs": [],
   "source": [
    "df.to_csv(r'C:\\Users\\Kriti\\Desktop\\College-Academics\\NLP\\Project Phase 2-\\nyt_topic_new\\nyt_topic_2_masking_and_distancing.csv',\n",
    "           index = False)"
   ]
  },
  {
   "cell_type": "markdown",
   "metadata": {},
   "source": [
    "### Calculating Kappa score for annotations in NYT_topic_2_nyt_topic_2_vaccination:"
   ]
  },
  {
   "cell_type": "code",
   "execution_count": 272,
   "metadata": {},
   "outputs": [],
   "source": [
    "df=pd.read_csv(r\"C:\\Users\\Kriti\\Desktop\\College-Academics\\NLP\\Project Phase 2-\\nyt_topic\\nyt_topic_2_vaccination.csv\")"
   ]
  },
  {
   "cell_type": "code",
   "execution_count": 273,
   "metadata": {},
   "outputs": [
    {
     "data": {
      "text/html": [
       "<div>\n",
       "<style scoped>\n",
       "    .dataframe tbody tr th:only-of-type {\n",
       "        vertical-align: middle;\n",
       "    }\n",
       "\n",
       "    .dataframe tbody tr th {\n",
       "        vertical-align: top;\n",
       "    }\n",
       "\n",
       "    .dataframe thead th {\n",
       "        text-align: right;\n",
       "    }\n",
       "</style>\n",
       "<table border=\"1\" class=\"dataframe\">\n",
       "  <thead>\n",
       "    <tr style=\"text-align: right;\">\n",
       "      <th></th>\n",
       "      <th>text</th>\n",
       "      <th>annotation_40</th>\n",
       "      <th>annotation_8</th>\n",
       "      <th>annotation_42</th>\n",
       "      <th>annotation_15</th>\n",
       "    </tr>\n",
       "  </thead>\n",
       "  <tbody>\n",
       "    <tr>\n",
       "      <th>0</th>\n",
       "      <td>I’m so tired of the fear mongering. Every vari...</td>\n",
       "      <td>True</td>\n",
       "      <td>True</td>\n",
       "      <td>True</td>\n",
       "      <td>True</td>\n",
       "    </tr>\n",
       "    <tr>\n",
       "      <th>1</th>\n",
       "      <td>We need a vaccine soonest.  Not sure why Russi...</td>\n",
       "      <td>True</td>\n",
       "      <td>True</td>\n",
       "      <td>True</td>\n",
       "      <td>True</td>\n",
       "    </tr>\n",
       "    <tr>\n",
       "      <th>2</th>\n",
       "      <td>The lack of leadership on this is astonishing</td>\n",
       "      <td>False</td>\n",
       "      <td>False</td>\n",
       "      <td>False</td>\n",
       "      <td>False</td>\n",
       "    </tr>\n",
       "    <tr>\n",
       "      <th>3</th>\n",
       "      <td>Alternative reality is really gaining traction...</td>\n",
       "      <td>False</td>\n",
       "      <td>False</td>\n",
       "      <td>False</td>\n",
       "      <td>False</td>\n",
       "    </tr>\n",
       "    <tr>\n",
       "      <th>4</th>\n",
       "      <td>I would be much more likely to patronize a bus...</td>\n",
       "      <td>True</td>\n",
       "      <td>True</td>\n",
       "      <td>True</td>\n",
       "      <td>True</td>\n",
       "    </tr>\n",
       "  </tbody>\n",
       "</table>\n",
       "</div>"
      ],
      "text/plain": [
       "                                                text  annotation_40  \\\n",
       "0  I’m so tired of the fear mongering. Every vari...           True   \n",
       "1  We need a vaccine soonest.  Not sure why Russi...           True   \n",
       "2      The lack of leadership on this is astonishing          False   \n",
       "3  Alternative reality is really gaining traction...          False   \n",
       "4  I would be much more likely to patronize a bus...           True   \n",
       "\n",
       "   annotation_8  annotation_42  annotation_15  \n",
       "0          True           True           True  \n",
       "1          True           True           True  \n",
       "2         False          False          False  \n",
       "3         False          False          False  \n",
       "4          True           True           True  "
      ]
     },
     "execution_count": 273,
     "metadata": {},
     "output_type": "execute_result"
    }
   ],
   "source": [
    "df.head()"
   ]
  },
  {
   "cell_type": "markdown",
   "metadata": {},
   "source": [
    "### Cohen_kappa average score of annotation 40:"
   ]
  },
  {
   "cell_type": "code",
   "execution_count": 274,
   "metadata": {},
   "outputs": [],
   "source": [
    "def cohen_avg_40():\n",
    "    cohen_score_40_8 = cohen_kappa_score(df['annotation_40'],df['annotation_8'])\n",
    "    cohen_score_40_42 = cohen_kappa_score(df['annotation_40'],df['annotation_42'])\n",
    "    cohen_score_40_15 = cohen_kappa_score(df['annotation_40'],df['annotation_15'])\n",
    "    cohen_score_average_40 = round((cohen_score_40_8 + cohen_score_40_42 + cohen_score_40_15)/3,3)\n",
    "    #print(\"Average Cohen Kappa Score for annotation 40:\",(cohen_score_average_40))\n",
    "    return cohen_score_average_40"
   ]
  },
  {
   "cell_type": "code",
   "execution_count": 275,
   "metadata": {},
   "outputs": [
    {
     "data": {
      "text/plain": [
       "0.823"
      ]
     },
     "execution_count": 275,
     "metadata": {},
     "output_type": "execute_result"
    }
   ],
   "source": [
    "cohen_avg_40()"
   ]
  },
  {
   "cell_type": "markdown",
   "metadata": {},
   "source": [
    "### Cohen_kappa average score of annotation 8:"
   ]
  },
  {
   "cell_type": "code",
   "execution_count": 276,
   "metadata": {},
   "outputs": [],
   "source": [
    "def cohen_avg_8():\n",
    "    cohen_score_8_40 = cohen_kappa_score(df['annotation_8'],df['annotation_40'])\n",
    "    cohen_score_8_42 = cohen_kappa_score(df['annotation_8'],df['annotation_42'])\n",
    "    cohen_score_8_15 = cohen_kappa_score(df['annotation_8'],df['annotation_15'])\n",
    "    cohen_score_average_8 = round((cohen_score_8_40 + cohen_score_8_42 + cohen_score_8_15)/3,3)\n",
    "   # print(\"Average Cohen Kappa Score for annotation 8:\",(cohen_score_average_8))\n",
    "    return cohen_score_average_8"
   ]
  },
  {
   "cell_type": "code",
   "execution_count": 277,
   "metadata": {},
   "outputs": [
    {
     "data": {
      "text/plain": [
       "0.697"
      ]
     },
     "execution_count": 277,
     "metadata": {},
     "output_type": "execute_result"
    }
   ],
   "source": [
    "cohen_avg_8()"
   ]
  },
  {
   "cell_type": "markdown",
   "metadata": {},
   "source": [
    "### Cohen_kappa average score of annotation 42:"
   ]
  },
  {
   "cell_type": "code",
   "execution_count": 278,
   "metadata": {},
   "outputs": [],
   "source": [
    "def cohen_avg_42():\n",
    "    cohen_score_42_40 = cohen_kappa_score(df['annotation_42'],df['annotation_40'])\n",
    "    cohen_score_42_8 = cohen_kappa_score(df['annotation_42'],df['annotation_8'])\n",
    "    cohen_score_42_15 = cohen_kappa_score(df['annotation_42'],df['annotation_15'])\n",
    "    cohen_score_average_42 = round((cohen_score_42_40 + cohen_score_42_8 + cohen_score_42_15)/3,3)\n",
    "    #print(\"Average Cohen Kappa Score for annotation 42:\",(cohen_score_average_42))\n",
    "    return cohen_score_average_42"
   ]
  },
  {
   "cell_type": "code",
   "execution_count": 279,
   "metadata": {},
   "outputs": [
    {
     "data": {
      "text/plain": [
       "0.85"
      ]
     },
     "execution_count": 279,
     "metadata": {},
     "output_type": "execute_result"
    }
   ],
   "source": [
    "cohen_avg_42()"
   ]
  },
  {
   "cell_type": "markdown",
   "metadata": {},
   "source": [
    "### Cohen_kappa average score of annotation 15:"
   ]
  },
  {
   "cell_type": "code",
   "execution_count": 280,
   "metadata": {},
   "outputs": [],
   "source": [
    "def cohen_avg_15():\n",
    "    cohen_score_15_40 = cohen_kappa_score(df['annotation_15'],df['annotation_40'])\n",
    "    cohen_score_15_8 = cohen_kappa_score(df['annotation_15'],df['annotation_8'])\n",
    "    cohen_score_15_42 = cohen_kappa_score(df['annotation_15'],df['annotation_42'])\n",
    "    cohen_score_average_15 = round((cohen_score_15_40 + cohen_score_15_8 + cohen_score_15_42)/3,3)\n",
    "   # print(\"Average Cohen Kappa Score for annotation 15:\",(cohen_score_average_15))\n",
    "    return cohen_score_average_15"
   ]
  },
  {
   "cell_type": "code",
   "execution_count": 281,
   "metadata": {},
   "outputs": [
    {
     "data": {
      "text/plain": [
       "0.831"
      ]
     },
     "execution_count": 281,
     "metadata": {},
     "output_type": "execute_result"
    }
   ],
   "source": [
    "cohen_avg_15()"
   ]
  },
  {
   "cell_type": "code",
   "execution_count": 282,
   "metadata": {},
   "outputs": [
    {
     "data": {
      "text/html": [
       "<div>\n",
       "<style scoped>\n",
       "    .dataframe tbody tr th:only-of-type {\n",
       "        vertical-align: middle;\n",
       "    }\n",
       "\n",
       "    .dataframe tbody tr th {\n",
       "        vertical-align: top;\n",
       "    }\n",
       "\n",
       "    .dataframe thead th {\n",
       "        text-align: right;\n",
       "    }\n",
       "</style>\n",
       "<table border=\"1\" class=\"dataframe\">\n",
       "  <thead>\n",
       "    <tr style=\"text-align: right;\">\n",
       "      <th></th>\n",
       "      <th>text</th>\n",
       "      <th>final_label</th>\n",
       "    </tr>\n",
       "  </thead>\n",
       "  <tbody>\n",
       "    <tr>\n",
       "      <th>0</th>\n",
       "      <td>I’m so tired of the fear mongering. Every vari...</td>\n",
       "      <td>True</td>\n",
       "    </tr>\n",
       "    <tr>\n",
       "      <th>1</th>\n",
       "      <td>We need a vaccine soonest.  Not sure why Russi...</td>\n",
       "      <td>True</td>\n",
       "    </tr>\n",
       "    <tr>\n",
       "      <th>2</th>\n",
       "      <td>The lack of leadership on this is astonishing</td>\n",
       "      <td>False</td>\n",
       "    </tr>\n",
       "    <tr>\n",
       "      <th>3</th>\n",
       "      <td>Alternative reality is really gaining traction...</td>\n",
       "      <td>False</td>\n",
       "    </tr>\n",
       "    <tr>\n",
       "      <th>4</th>\n",
       "      <td>I would be much more likely to patronize a bus...</td>\n",
       "      <td>True</td>\n",
       "    </tr>\n",
       "  </tbody>\n",
       "</table>\n",
       "</div>"
      ],
      "text/plain": [
       "                                                text final_label\n",
       "0  I’m so tired of the fear mongering. Every vari...        True\n",
       "1  We need a vaccine soonest.  Not sure why Russi...        True\n",
       "2      The lack of leadership on this is astonishing       False\n",
       "3  Alternative reality is really gaining traction...       False\n",
       "4  I would be much more likely to patronize a bus...        True"
      ]
     },
     "execution_count": 282,
     "metadata": {},
     "output_type": "execute_result"
    }
   ],
   "source": [
    "def finalLabel(df):\n",
    "    for index, rows in df.iterrows():\n",
    "        #print(index, rows['text'])\n",
    "        compare = [[cohen_avg_40(),rows['annotation_40']],\n",
    "                       [cohen_avg_8(),rows['annotation_8']],\n",
    "                   [cohen_avg_42(),rows['annotation_42']],\n",
    "                   [cohen_avg_15(),rows['annotation_15']]]\n",
    "        \n",
    "        boolean = [rows['annotation_40'],rows['annotation_8'],rows['annotation_42'],rows['annotation_15']]\n",
    "        \n",
    "        compare.sort(key = lambda k:k[0])\n",
    "        t = compare.count('True')\n",
    "        f = compare.count('False')\n",
    "        #print('True:',t, 'False', f)\n",
    "        \n",
    "        if t == f: \n",
    "            kapaValue, colValue = compare[-1]\n",
    "            df.loc[index, 'final_label'] = colValue\n",
    "            \n",
    "        elif t!=f:\n",
    "            if t > f:\n",
    "                df.loc[index, 'final_label'] = True\n",
    "            else:\n",
    "                df.loc[index, 'final_label'] = False\n",
    "    \n",
    "finalLabel(df)\n",
    "df = df.iloc[:,[0,-1]]\n",
    "df.head()\n"
   ]
  },
  {
   "cell_type": "code",
   "execution_count": 283,
   "metadata": {},
   "outputs": [],
   "source": [
    "df.to_csv(r'C:\\Users\\Kriti\\Desktop\\College-Academics\\NLP\\Project Phase 2-\\nyt_topic_new\\nyt_topic_2_vaccination.csv',\n",
    "           index = False)"
   ]
  },
  {
   "cell_type": "markdown",
   "metadata": {},
   "source": [
    "# Combine all of the text/label pairs for the PRIMARY dataset into a single CSV file, with the columns \"text\" and \"label\" "
   ]
  },
  {
   "cell_type": "markdown",
   "metadata": {},
   "source": [
    "### Create merged file nyt_topic_lockdowns:"
   ]
  },
  {
   "cell_type": "code",
   "execution_count": 284,
   "metadata": {},
   "outputs": [
    {
     "name": "stdout",
     "output_type": "stream",
     "text": [
      "                                                  text  final_label\n",
      "0    What do you mean that the pandemic has stretch...        False\n",
      "1    I’m not sure if it qualifies as Big Brother wh...        False\n",
      "2    What if smallpox and polio came roaring back o...        False\n",
      "3    I'm continuing to wear a mask.  Even in bed, s...        False\n",
      "4    Although my husband and I really, really miss ...        False\n",
      "..                                                 ...          ...\n",
      "295  The longer we drag this on, the more likely we...        False\n",
      "296  Interesting that CEOs are worried about the pr...        False\n",
      "297  I'm rapidly arriving at the opinion that we ne...         True\n",
      "298  The world we live in is different  and riskier...        False\n",
      "299  Get a vaccine or get a pink slip.  \\nThere is ...        False\n",
      "\n",
      "[813 rows x 2 columns]\n"
     ]
    }
   ],
   "source": [
    "csv_file_list = [r\"C:\\Users\\Kriti\\Desktop\\College-Academics\\NLP\\Project Phase 2-\\nyt_topic_new\\nyt_topic_0_lockdowns.csv\", \n",
    "                 r\"C:\\Users\\Kriti\\Desktop\\College-Academics\\NLP\\Project Phase 2-\\nyt_topic_new\\nyt_topic_1_lockdowns.csv\",\n",
    "                 r\"C:\\Users\\Kriti\\Desktop\\College-Academics\\NLP\\Project Phase 2-\\nyt_topic_new\\nyt_topic_2_lockdowns.csv\"]\n",
    "\n",
    "list_of_dataframes = []\n",
    "for filename in csv_file_list:\n",
    "    list_of_dataframes.append(pd.read_csv(filename))\n",
    "\n",
    "merged_df = pd.concat(list_of_dataframes)\n",
    "\n",
    "print(merged_df)"
   ]
  },
  {
   "cell_type": "code",
   "execution_count": 285,
   "metadata": {},
   "outputs": [],
   "source": [
    "merged_df.to_csv(r'C:\\Users\\Kriti\\Desktop\\College-Academics\\NLP\\Project Phase 2-\\Primary_Dataset\\nyt_topic_lockdowns.csv',\n",
    "           index = False)"
   ]
  },
  {
   "cell_type": "markdown",
   "metadata": {},
   "source": [
    "### Create merged file nyt_topic_masking_distancing:"
   ]
  },
  {
   "cell_type": "code",
   "execution_count": 287,
   "metadata": {},
   "outputs": [
    {
     "name": "stdout",
     "output_type": "stream",
     "text": [
      "                                                  text  final_label\n",
      "0    What do you mean that the pandemic has stretch...        False\n",
      "1    I’m not sure if it qualifies as Big Brother wh...        False\n",
      "2    What if smallpox and polio came roaring back o...        False\n",
      "3    I'm continuing to wear a mask.  Even in bed, s...         True\n",
      "4    Although my husband and I really, really miss ...        False\n",
      "..                                                 ...          ...\n",
      "295  The longer we drag this on, the more likely we...         True\n",
      "296  Interesting that CEOs are worried about the pr...        False\n",
      "297  I'm rapidly arriving at the opinion that we ne...        False\n",
      "298  The world we live in is different  and riskier...        False\n",
      "299  Get a vaccine or get a pink slip.  \\nThere is ...        False\n",
      "\n",
      "[813 rows x 2 columns]\n"
     ]
    }
   ],
   "source": [
    "csv_file_list = [r\"C:\\Users\\Kriti\\Desktop\\College-Academics\\NLP\\Project Phase 2-\\nyt_topic_new\\nyt_topic_0_masking_and_distancing.csv\", \n",
    "                 r\"C:\\Users\\Kriti\\Desktop\\College-Academics\\NLP\\Project Phase 2-\\nyt_topic_new\\nyt_topic_1_masking_and_distancing.csv\",\n",
    "                 r\"C:\\Users\\Kriti\\Desktop\\College-Academics\\NLP\\Project Phase 2-\\nyt_topic_new\\nyt_topic_2_masking_and_distancing.csv\"]\n",
    "\n",
    "list_of_dataframes = []\n",
    "for filename in csv_file_list:\n",
    "    list_of_dataframes.append(pd.read_csv(filename))\n",
    "\n",
    "merged_df = pd.concat(list_of_dataframes)\n",
    "\n",
    "print(merged_df)"
   ]
  },
  {
   "cell_type": "code",
   "execution_count": 288,
   "metadata": {},
   "outputs": [],
   "source": [
    "merged_df.to_csv(r'C:\\Users\\Kriti\\Desktop\\College-Academics\\NLP\\Project Phase 2-\\Primary_Dataset\\nyt_topic_masking_and_distancing.csv',\n",
    "           index = False)"
   ]
  },
  {
   "cell_type": "markdown",
   "metadata": {},
   "source": [
    "### Create merged file nyt_topic_vaccination:"
   ]
  },
  {
   "cell_type": "code",
   "execution_count": 289,
   "metadata": {},
   "outputs": [
    {
     "name": "stdout",
     "output_type": "stream",
     "text": [
      "                                                  text  final_label\n",
      "0    What do you mean that the pandemic has stretch...        False\n",
      "1    I’m not sure if it qualifies as Big Brother wh...        False\n",
      "2    What if smallpox and polio came roaring back o...         True\n",
      "3    I'm continuing to wear a mask.  Even in bed, s...         True\n",
      "4    Although my husband and I really, really miss ...        False\n",
      "..                                                 ...          ...\n",
      "295  The longer we drag this on, the more likely we...         True\n",
      "296  Interesting that CEOs are worried about the pr...         True\n",
      "297  I'm rapidly arriving at the opinion that we ne...        False\n",
      "298  The world we live in is different  and riskier...         True\n",
      "299  Get a vaccine or get a pink slip.  \\nThere is ...         True\n",
      "\n",
      "[813 rows x 2 columns]\n"
     ]
    }
   ],
   "source": [
    "csv_file_list = [r\"C:\\Users\\Kriti\\Desktop\\College-Academics\\NLP\\Project Phase 2-\\nyt_topic_new\\nyt_topic_0_vaccination.csv\", \n",
    "                 r\"C:\\Users\\Kriti\\Desktop\\College-Academics\\NLP\\Project Phase 2-\\nyt_topic_new\\nyt_topic_1_vaccination.csv\",\n",
    "                 r\"C:\\Users\\Kriti\\Desktop\\College-Academics\\NLP\\Project Phase 2-\\nyt_topic_new\\nyt_topic_2_vaccination.csv\"]\n",
    "\n",
    "list_of_dataframes = []\n",
    "for filename in csv_file_list:\n",
    "    list_of_dataframes.append(pd.read_csv(filename))\n",
    "\n",
    "merged_df = pd.concat(list_of_dataframes)\n",
    "\n",
    "print(merged_df)"
   ]
  },
  {
   "cell_type": "code",
   "execution_count": 290,
   "metadata": {},
   "outputs": [],
   "source": [
    "merged_df.to_csv(r'C:\\Users\\Kriti\\Desktop\\College-Academics\\NLP\\Project Phase 2-\\Primary_Dataset\\nyt_topic_vaccination.csv',\n",
    "           index = False)"
   ]
  },
  {
   "cell_type": "code",
   "execution_count": null,
   "metadata": {},
   "outputs": [],
   "source": []
  },
  {
   "cell_type": "code",
   "execution_count": null,
   "metadata": {},
   "outputs": [],
   "source": []
  }
 ],
 "metadata": {
  "kernelspec": {
   "display_name": "Python 3",
   "language": "python",
   "name": "python3"
  },
  "language_info": {
   "codemirror_mode": {
    "name": "ipython",
    "version": 3
   },
   "file_extension": ".py",
   "mimetype": "text/x-python",
   "name": "python",
   "nbconvert_exporter": "python",
   "pygments_lexer": "ipython3",
   "version": "3.8.5"
  }
 },
 "nbformat": 4,
 "nbformat_minor": 4
}
