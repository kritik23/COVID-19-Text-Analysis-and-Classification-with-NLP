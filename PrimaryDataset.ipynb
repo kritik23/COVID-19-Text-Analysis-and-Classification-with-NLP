{
 "cells": [
  {
   "cell_type": "code",
   "execution_count": 1,
   "metadata": {},
   "outputs": [],
   "source": [
    "import sklearn\n",
    "from sklearn.metrics import cohen_kappa_score\n",
    "import pandas as pd"
   ]
  },
  {
   "cell_type": "markdown",
   "metadata": {},
   "source": [
    "##### For a given topic dataset CSV, create three separate CSVs, corresponding to lockdowns, masking and distancing, and vaccination. The new CSVs are written with the name of the topic suffixed to the original filename.\n",
    "\n",
    "```\n",
    "import argparse\n",
    "import re\n",
    "import pandas as pd\n",
    "\n",
    "parser = argparse.ArgumentParser()\n",
    "parser.add_argument(\"--infile\", \"-i\", type=str, help=\"CSV for dataset to expand\",\n",
    "                    required=True)\n",
    "args = parser.parse_args()\n",
    "\n",
    "for topic in [\"lockdowns\", \"masking and distancing\", \"vaccination\"]:\n",
    "    df = pd.read_csv(args.infile)\n",
    "    cols = df.columns\n",
    "    for col in cols:\n",
    "        if \"annotation\" in col:\n",
    "            df[col] = (df[col].notna() & df[col].str.contains(topic))\n",
    "    new_fn = re.sub(r\"\\.csv$\", f\"_{topic.replace(' ', '_')}.csv\", args.infile)\n",
    "    df.to_csv(new_fn, index=False)\n",
    "\n",
    "```\n",
    "\n",
    "###### Using command: python expand_topic_csv_dataset.py --infile twitter_topic_0.csv\n",
    "###### Using command: python expand_topic_csv_dataset.py --infile twitter_topic_1.csv\n",
    "###### Using command: python expand_topic_csv_dataset.py --infile twitter_topic_2.csv\n",
    "###### Using command: python expand_topic_csv_dataset.py --infile twitter_topic_3.csv\n",
    "\n"
   ]
  },
  {
   "cell_type": "markdown",
   "metadata": {},
   "source": [
    "## twitter_topic_0_lockdowns.csv"
   ]
  },
  {
   "cell_type": "code",
   "execution_count": 2,
   "metadata": {},
   "outputs": [
    {
     "data": {
      "text/html": [
       "<div>\n",
       "<style scoped>\n",
       "    .dataframe tbody tr th:only-of-type {\n",
       "        vertical-align: middle;\n",
       "    }\n",
       "\n",
       "    .dataframe tbody tr th {\n",
       "        vertical-align: top;\n",
       "    }\n",
       "\n",
       "    .dataframe thead th {\n",
       "        text-align: right;\n",
       "    }\n",
       "</style>\n",
       "<table border=\"1\" class=\"dataframe\">\n",
       "  <thead>\n",
       "    <tr style=\"text-align: right;\">\n",
       "      <th></th>\n",
       "      <th>text</th>\n",
       "      <th>annotation_104</th>\n",
       "      <th>annotation_101</th>\n",
       "      <th>annotation_102</th>\n",
       "      <th>annotation_103</th>\n",
       "    </tr>\n",
       "  </thead>\n",
       "  <tbody>\n",
       "    <tr>\n",
       "      <th>0</th>\n",
       "      <td>Putin After Announcing #CovidVaccine #Russian ...</td>\n",
       "      <td>False</td>\n",
       "      <td>False</td>\n",
       "      <td>False</td>\n",
       "      <td>False</td>\n",
       "    </tr>\n",
       "    <tr>\n",
       "      <th>1</th>\n",
       "      <td>Courtesy: WA! #WhatsApp #COVID #CovidVaccine h...</td>\n",
       "      <td>False</td>\n",
       "      <td>False</td>\n",
       "      <td>False</td>\n",
       "      <td>False</td>\n",
       "    </tr>\n",
       "    <tr>\n",
       "      <th>2</th>\n",
       "      <td>4 of the vaccines Jared bought are expected to...</td>\n",
       "      <td>False</td>\n",
       "      <td>False</td>\n",
       "      <td>False</td>\n",
       "      <td>False</td>\n",
       "    </tr>\n",
       "    <tr>\n",
       "      <th>3</th>\n",
       "      <td>One day you will realize CDC Guidelines magica...</td>\n",
       "      <td>False</td>\n",
       "      <td>False</td>\n",
       "      <td>False</td>\n",
       "      <td>False</td>\n",
       "    </tr>\n",
       "    <tr>\n",
       "      <th>4</th>\n",
       "      <td>Im far from lying.  Current CDC guidelines is ...</td>\n",
       "      <td>False</td>\n",
       "      <td>False</td>\n",
       "      <td>False</td>\n",
       "      <td>False</td>\n",
       "    </tr>\n",
       "  </tbody>\n",
       "</table>\n",
       "</div>"
      ],
      "text/plain": [
       "                                                text  annotation_104  \\\n",
       "0  Putin After Announcing #CovidVaccine #Russian ...           False   \n",
       "1  Courtesy: WA! #WhatsApp #COVID #CovidVaccine h...           False   \n",
       "2  4 of the vaccines Jared bought are expected to...           False   \n",
       "3  One day you will realize CDC Guidelines magica...           False   \n",
       "4  Im far from lying.  Current CDC guidelines is ...           False   \n",
       "\n",
       "   annotation_101  annotation_102  annotation_103  \n",
       "0           False           False           False  \n",
       "1           False           False           False  \n",
       "2           False           False           False  \n",
       "3           False           False           False  \n",
       "4           False           False           False  "
      ]
     },
     "execution_count": 2,
     "metadata": {},
     "output_type": "execute_result"
    }
   ],
   "source": [
    "df = pd.read_csv(r'twitter_topic\\twitter_topic_0_lockdowns.csv')\n",
    "df.head()"
   ]
  },
  {
   "cell_type": "code",
   "execution_count": 3,
   "metadata": {},
   "outputs": [
    {
     "name": "stdout",
     "output_type": "stream",
     "text": [
      "0\n",
      "0\n",
      "0\n",
      "0\n",
      "0\n"
     ]
    }
   ],
   "source": [
    "print(df['annotation_101'].isnull().sum())\n",
    "print(df['annotation_102'].isnull().sum())\n",
    "print(df['annotation_103'].isnull().sum())\n",
    "print(df['annotation_104'].isnull().sum())\n",
    "print(df['text'].isnull().sum())"
   ]
  },
  {
   "cell_type": "code",
   "execution_count": 4,
   "metadata": {},
   "outputs": [],
   "source": [
    "annotation_1= df['annotation_101']\n",
    "annotation_2= df['annotation_102']\n",
    "annotation_3= df['annotation_103']\n",
    "annotation_4= df['annotation_104']"
   ]
  },
  {
   "cell_type": "markdown",
   "metadata": {},
   "source": [
    "### Cohen_kappa average score of annotation 101"
   ]
  },
  {
   "cell_type": "code",
   "execution_count": 5,
   "metadata": {},
   "outputs": [
    {
     "data": {
      "text/plain": [
       "0.10287081339712911"
      ]
     },
     "execution_count": 5,
     "metadata": {},
     "output_type": "execute_result"
    }
   ],
   "source": [
    "cohen_score_12 = cohen_kappa_score(annotation_1,annotation_2)\n",
    "cohen_score_12"
   ]
  },
  {
   "cell_type": "code",
   "execution_count": 6,
   "metadata": {},
   "outputs": [
    {
     "data": {
      "text/plain": [
       "0.22248803827751196"
      ]
     },
     "execution_count": 6,
     "metadata": {},
     "output_type": "execute_result"
    }
   ],
   "source": [
    "cohen_score_13 = cohen_kappa_score(annotation_1,annotation_3)\n",
    "cohen_score_13"
   ]
  },
  {
   "cell_type": "code",
   "execution_count": 7,
   "metadata": {},
   "outputs": [
    {
     "data": {
      "text/plain": [
       "0.2982938910291689"
      ]
     },
     "execution_count": 7,
     "metadata": {},
     "output_type": "execute_result"
    }
   ],
   "source": [
    "cohen_score_14 = cohen_kappa_score(annotation_1,annotation_4)\n",
    "cohen_score_14"
   ]
  },
  {
   "cell_type": "code",
   "execution_count": 8,
   "metadata": {
    "scrolled": true
   },
   "outputs": [
    {
     "name": "stdout",
     "output_type": "stream",
     "text": [
      "Average Cohen Kappa Score for annotation 101: 0.208\n"
     ]
    }
   ],
   "source": [
    "cohen_score_average_1 = round((cohen_score_12 + cohen_score_13 + cohen_score_14)/3,3)\n",
    "print(\"Average Cohen Kappa Score for annotation 101:\",(cohen_score_average_1))"
   ]
  },
  {
   "cell_type": "markdown",
   "metadata": {},
   "source": [
    "### Cohen_kappa average score of annotation 102"
   ]
  },
  {
   "cell_type": "code",
   "execution_count": 9,
   "metadata": {},
   "outputs": [
    {
     "data": {
      "text/plain": [
       "0.10287081339712911"
      ]
     },
     "execution_count": 9,
     "metadata": {},
     "output_type": "execute_result"
    }
   ],
   "source": [
    "cohen_score_21 = cohen_kappa_score(annotation_2,annotation_1)\n",
    "cohen_score_21"
   ]
  },
  {
   "cell_type": "code",
   "execution_count": 10,
   "metadata": {},
   "outputs": [
    {
     "data": {
      "text/plain": [
       "0.32659932659932667"
      ]
     },
     "execution_count": 10,
     "metadata": {},
     "output_type": "execute_result"
    }
   ],
   "source": [
    "cohen_score_23 = cohen_kappa_score(annotation_2,annotation_3)\n",
    "cohen_score_23"
   ]
  },
  {
   "cell_type": "code",
   "execution_count": 11,
   "metadata": {},
   "outputs": [
    {
     "data": {
      "text/plain": [
       "0.08051689860834976"
      ]
     },
     "execution_count": 11,
     "metadata": {},
     "output_type": "execute_result"
    }
   ],
   "source": [
    "cohen_score_24 = cohen_kappa_score(annotation_2,annotation_4)\n",
    "cohen_score_24"
   ]
  },
  {
   "cell_type": "code",
   "execution_count": 12,
   "metadata": {},
   "outputs": [
    {
     "name": "stdout",
     "output_type": "stream",
     "text": [
      "Average Cohen Kappa Score for annotation 102: 0.17\n"
     ]
    }
   ],
   "source": [
    "cohen_score_average_2 = round((cohen_score_21 + cohen_score_23 + cohen_score_24)/3,3)\n",
    "print(\"Average Cohen Kappa Score for annotation 102:\",(cohen_score_average_2))"
   ]
  },
  {
   "cell_type": "markdown",
   "metadata": {},
   "source": [
    "### Cohen_kappa average score of annotation 103"
   ]
  },
  {
   "cell_type": "code",
   "execution_count": 13,
   "metadata": {},
   "outputs": [
    {
     "data": {
      "text/plain": [
       "0.22248803827751196"
      ]
     },
     "execution_count": 13,
     "metadata": {},
     "output_type": "execute_result"
    }
   ],
   "source": [
    "cohen_score_31 = cohen_kappa_score(annotation_3,annotation_1)\n",
    "cohen_score_31"
   ]
  },
  {
   "cell_type": "code",
   "execution_count": 14,
   "metadata": {},
   "outputs": [
    {
     "data": {
      "text/plain": [
       "0.32659932659932667"
      ]
     },
     "execution_count": 14,
     "metadata": {},
     "output_type": "execute_result"
    }
   ],
   "source": [
    "cohen_score_32 = cohen_kappa_score(annotation_3,annotation_2)\n",
    "cohen_score_32"
   ]
  },
  {
   "cell_type": "code",
   "execution_count": 15,
   "metadata": {},
   "outputs": [
    {
     "data": {
      "text/plain": [
       "0.08051689860834976"
      ]
     },
     "execution_count": 15,
     "metadata": {},
     "output_type": "execute_result"
    }
   ],
   "source": [
    "cohen_score_34 = cohen_kappa_score(annotation_3,annotation_4)\n",
    "cohen_score_34"
   ]
  },
  {
   "cell_type": "code",
   "execution_count": 16,
   "metadata": {},
   "outputs": [
    {
     "name": "stdout",
     "output_type": "stream",
     "text": [
      "Average Cohen Kappa Score for annotation 103: 0.21\n"
     ]
    }
   ],
   "source": [
    "cohen_score_average_3 = round((cohen_score_31 + cohen_score_32 + cohen_score_34)/3,3)\n",
    "print(\"Average Cohen Kappa Score for annotation 103:\",(cohen_score_average_3))"
   ]
  },
  {
   "cell_type": "markdown",
   "metadata": {},
   "source": [
    "### Cohen_kappa average score of annotation 104"
   ]
  },
  {
   "cell_type": "code",
   "execution_count": 17,
   "metadata": {},
   "outputs": [
    {
     "data": {
      "text/plain": [
       "0.2982938910291689"
      ]
     },
     "execution_count": 17,
     "metadata": {},
     "output_type": "execute_result"
    }
   ],
   "source": [
    "cohen_score_41 = cohen_kappa_score(annotation_4,annotation_1)\n",
    "cohen_score_41"
   ]
  },
  {
   "cell_type": "code",
   "execution_count": 18,
   "metadata": {},
   "outputs": [
    {
     "data": {
      "text/plain": [
       "0.08051689860834976"
      ]
     },
     "execution_count": 18,
     "metadata": {},
     "output_type": "execute_result"
    }
   ],
   "source": [
    "cohen_score_42 = cohen_kappa_score(annotation_4,annotation_2)\n",
    "cohen_score_42"
   ]
  },
  {
   "cell_type": "code",
   "execution_count": 19,
   "metadata": {},
   "outputs": [
    {
     "data": {
      "text/plain": [
       "0.08051689860834976"
      ]
     },
     "execution_count": 19,
     "metadata": {},
     "output_type": "execute_result"
    }
   ],
   "source": [
    "cohen_score_43 = cohen_kappa_score(annotation_4,annotation_3)\n",
    "cohen_score_43"
   ]
  },
  {
   "cell_type": "code",
   "execution_count": 20,
   "metadata": {},
   "outputs": [
    {
     "name": "stdout",
     "output_type": "stream",
     "text": [
      "Average Cohen Kappa Score for annotation 102: 0.153\n"
     ]
    }
   ],
   "source": [
    "cohen_score_average_4 = round((cohen_score_41 + cohen_score_42 + cohen_score_43)/3,3)\n",
    "print(\"Average Cohen Kappa Score for annotation 102:\",(cohen_score_average_4))"
   ]
  },
  {
   "cell_type": "markdown",
   "metadata": {},
   "source": [
    "##### If average cohen kappa score for any annotation is less than 0.2, we will drop it"
   ]
  },
  {
   "cell_type": "code",
   "execution_count": 21,
   "metadata": {},
   "outputs": [],
   "source": [
    "def drop_annotate():\n",
    "    average = [cohen_score_average_1, cohen_score_average_2,cohen_score_average_3,cohen_score_average_4]\n",
    "    columns_name = ['annotation_101','annotation_102','annotation_103','annotation_104']\n",
    "    #columns =[annotation_1,annotation_2,annotation_3,annotation_4]\n",
    "    for i in range(0,len(average)):\n",
    "        if average[i]< 0.2:\n",
    "            print(columns_name[i])\n",
    "            print(average[i])\n",
    "            df.drop(columns_name[i], axis=1, inplace = True)\n",
    "    print(df.head())"
   ]
  },
  {
   "cell_type": "code",
   "execution_count": 22,
   "metadata": {
    "scrolled": true
   },
   "outputs": [
    {
     "name": "stdout",
     "output_type": "stream",
     "text": [
      "annotation_102\n",
      "0.17\n",
      "annotation_104\n",
      "0.153\n",
      "                                                text  annotation_101  \\\n",
      "0  Putin After Announcing #CovidVaccine #Russian ...           False   \n",
      "1  Courtesy: WA! #WhatsApp #COVID #CovidVaccine h...           False   \n",
      "2  4 of the vaccines Jared bought are expected to...           False   \n",
      "3  One day you will realize CDC Guidelines magica...           False   \n",
      "4  Im far from lying.  Current CDC guidelines is ...           False   \n",
      "\n",
      "   annotation_103  \n",
      "0           False  \n",
      "1           False  \n",
      "2           False  \n",
      "3           False  \n",
      "4           False  \n"
     ]
    }
   ],
   "source": [
    "drop_annotate()"
   ]
  },
  {
   "cell_type": "markdown",
   "metadata": {},
   "source": [
    "## twitter_topic_0_masking_and_distancing.csv"
   ]
  },
  {
   "cell_type": "code",
   "execution_count": 23,
   "metadata": {},
   "outputs": [
    {
     "data": {
      "text/html": [
       "<div>\n",
       "<style scoped>\n",
       "    .dataframe tbody tr th:only-of-type {\n",
       "        vertical-align: middle;\n",
       "    }\n",
       "\n",
       "    .dataframe tbody tr th {\n",
       "        vertical-align: top;\n",
       "    }\n",
       "\n",
       "    .dataframe thead th {\n",
       "        text-align: right;\n",
       "    }\n",
       "</style>\n",
       "<table border=\"1\" class=\"dataframe\">\n",
       "  <thead>\n",
       "    <tr style=\"text-align: right;\">\n",
       "      <th></th>\n",
       "      <th>text</th>\n",
       "      <th>annotation_104</th>\n",
       "      <th>annotation_101</th>\n",
       "      <th>annotation_102</th>\n",
       "      <th>annotation_103</th>\n",
       "    </tr>\n",
       "  </thead>\n",
       "  <tbody>\n",
       "    <tr>\n",
       "      <th>0</th>\n",
       "      <td>Putin After Announcing #CovidVaccine #Russian ...</td>\n",
       "      <td>False</td>\n",
       "      <td>False</td>\n",
       "      <td>False</td>\n",
       "      <td>False</td>\n",
       "    </tr>\n",
       "    <tr>\n",
       "      <th>1</th>\n",
       "      <td>Courtesy: WA! #WhatsApp #COVID #CovidVaccine h...</td>\n",
       "      <td>False</td>\n",
       "      <td>False</td>\n",
       "      <td>False</td>\n",
       "      <td>False</td>\n",
       "    </tr>\n",
       "    <tr>\n",
       "      <th>2</th>\n",
       "      <td>4 of the vaccines Jared bought are expected to...</td>\n",
       "      <td>False</td>\n",
       "      <td>False</td>\n",
       "      <td>False</td>\n",
       "      <td>False</td>\n",
       "    </tr>\n",
       "    <tr>\n",
       "      <th>3</th>\n",
       "      <td>One day you will realize CDC Guidelines magica...</td>\n",
       "      <td>True</td>\n",
       "      <td>False</td>\n",
       "      <td>False</td>\n",
       "      <td>False</td>\n",
       "    </tr>\n",
       "    <tr>\n",
       "      <th>4</th>\n",
       "      <td>Im far from lying.  Current CDC guidelines is ...</td>\n",
       "      <td>True</td>\n",
       "      <td>True</td>\n",
       "      <td>False</td>\n",
       "      <td>True</td>\n",
       "    </tr>\n",
       "  </tbody>\n",
       "</table>\n",
       "</div>"
      ],
      "text/plain": [
       "                                                text  annotation_104  \\\n",
       "0  Putin After Announcing #CovidVaccine #Russian ...           False   \n",
       "1  Courtesy: WA! #WhatsApp #COVID #CovidVaccine h...           False   \n",
       "2  4 of the vaccines Jared bought are expected to...           False   \n",
       "3  One day you will realize CDC Guidelines magica...            True   \n",
       "4  Im far from lying.  Current CDC guidelines is ...            True   \n",
       "\n",
       "   annotation_101  annotation_102  annotation_103  \n",
       "0           False           False           False  \n",
       "1           False           False           False  \n",
       "2           False           False           False  \n",
       "3           False           False           False  \n",
       "4            True           False            True  "
      ]
     },
     "execution_count": 23,
     "metadata": {},
     "output_type": "execute_result"
    }
   ],
   "source": [
    "df_1 = pd.read_csv(r'twitter_topic\\twitter_topic_0_masking_and_distancing.csv')\n",
    "df_1.head()"
   ]
  },
  {
   "cell_type": "code",
   "execution_count": 24,
   "metadata": {},
   "outputs": [
    {
     "name": "stdout",
     "output_type": "stream",
     "text": [
      "0\n",
      "0\n",
      "0\n",
      "0\n",
      "0\n"
     ]
    }
   ],
   "source": [
    "print(df_1['annotation_101'].isnull().sum())\n",
    "print(df_1['annotation_102'].isnull().sum())\n",
    "print(df_1['annotation_103'].isnull().sum())\n",
    "print(df_1['annotation_104'].isnull().sum())\n",
    "print(df_1['text'].isnull().sum())"
   ]
  },
  {
   "cell_type": "code",
   "execution_count": 25,
   "metadata": {},
   "outputs": [],
   "source": [
    "annotation_1= df_1['annotation_101']\n",
    "annotation_2= df_1['annotation_102']\n",
    "annotation_3= df_1['annotation_103']\n",
    "annotation_4= df_1['annotation_104']"
   ]
  },
  {
   "cell_type": "markdown",
   "metadata": {},
   "source": [
    "### Cohen_kappa average score of annotation 101"
   ]
  },
  {
   "cell_type": "code",
   "execution_count": 26,
   "metadata": {},
   "outputs": [
    {
     "data": {
      "text/plain": [
       "0.8671118985961564"
      ]
     },
     "execution_count": 26,
     "metadata": {},
     "output_type": "execute_result"
    }
   ],
   "source": [
    "cohen_score_12 = cohen_kappa_score(annotation_1,annotation_2)\n",
    "cohen_score_12"
   ]
  },
  {
   "cell_type": "code",
   "execution_count": 27,
   "metadata": {},
   "outputs": [
    {
     "data": {
      "text/plain": [
       "0.9375043399763905"
      ]
     },
     "execution_count": 27,
     "metadata": {},
     "output_type": "execute_result"
    }
   ],
   "source": [
    "cohen_score_13 = cohen_kappa_score(annotation_1,annotation_3)\n",
    "cohen_score_13"
   ]
  },
  {
   "cell_type": "code",
   "execution_count": 28,
   "metadata": {},
   "outputs": [
    {
     "data": {
      "text/plain": [
       "0.5068285280728377"
      ]
     },
     "execution_count": 28,
     "metadata": {},
     "output_type": "execute_result"
    }
   ],
   "source": [
    "cohen_score_14 = cohen_kappa_score(annotation_1,annotation_4)\n",
    "cohen_score_14"
   ]
  },
  {
   "cell_type": "code",
   "execution_count": 29,
   "metadata": {},
   "outputs": [
    {
     "name": "stdout",
     "output_type": "stream",
     "text": [
      "Average Cohen Kappa Score for annotation 101: 0.77\n"
     ]
    }
   ],
   "source": [
    "cohen_score_average_1 = round((cohen_score_12 + cohen_score_13 + cohen_score_14)/3,3)\n",
    "print(\"Average Cohen Kappa Score for annotation 101:\",(cohen_score_average_1))"
   ]
  },
  {
   "cell_type": "markdown",
   "metadata": {},
   "source": [
    "### Cohen_kappa average score of annotation 102"
   ]
  },
  {
   "cell_type": "code",
   "execution_count": 30,
   "metadata": {},
   "outputs": [
    {
     "data": {
      "text/plain": [
       "0.8671118985961564"
      ]
     },
     "execution_count": 30,
     "metadata": {},
     "output_type": "execute_result"
    }
   ],
   "source": [
    "cohen_score_21 = cohen_kappa_score(annotation_2,annotation_1)\n",
    "cohen_score_21"
   ]
  },
  {
   "cell_type": "code",
   "execution_count": 31,
   "metadata": {},
   "outputs": [
    {
     "data": {
      "text/plain": [
       "0.8282365620369123"
      ]
     },
     "execution_count": 31,
     "metadata": {},
     "output_type": "execute_result"
    }
   ],
   "source": [
    "cohen_score_23 = cohen_kappa_score(annotation_2,annotation_3)\n",
    "cohen_score_23"
   ]
  },
  {
   "cell_type": "code",
   "execution_count": 32,
   "metadata": {},
   "outputs": [
    {
     "data": {
      "text/plain": [
       "0.5030120481927711"
      ]
     },
     "execution_count": 32,
     "metadata": {},
     "output_type": "execute_result"
    }
   ],
   "source": [
    "cohen_score_24 = cohen_kappa_score(annotation_2,annotation_4)\n",
    "cohen_score_24"
   ]
  },
  {
   "cell_type": "code",
   "execution_count": 33,
   "metadata": {},
   "outputs": [
    {
     "name": "stdout",
     "output_type": "stream",
     "text": [
      "Average Cohen Kappa Score for annotation 102: 0.733\n"
     ]
    }
   ],
   "source": [
    "cohen_score_average_2 = round((cohen_score_21 + cohen_score_23 + cohen_score_24)/3,3)\n",
    "print(\"Average Cohen Kappa Score for annotation 102:\",(cohen_score_average_2))"
   ]
  },
  {
   "cell_type": "markdown",
   "metadata": {},
   "source": [
    "### Cohen_kappa average score of annotation 103"
   ]
  },
  {
   "cell_type": "code",
   "execution_count": 34,
   "metadata": {},
   "outputs": [
    {
     "data": {
      "text/plain": [
       "0.9375043399763905"
      ]
     },
     "execution_count": 34,
     "metadata": {},
     "output_type": "execute_result"
    }
   ],
   "source": [
    "cohen_score_31 = cohen_kappa_score(annotation_3,annotation_1)\n",
    "cohen_score_31"
   ]
  },
  {
   "cell_type": "code",
   "execution_count": 35,
   "metadata": {},
   "outputs": [
    {
     "data": {
      "text/plain": [
       "0.8282365620369123"
      ]
     },
     "execution_count": 35,
     "metadata": {},
     "output_type": "execute_result"
    }
   ],
   "source": [
    "cohen_score_32 = cohen_kappa_score(annotation_3,annotation_2)\n",
    "cohen_score_32"
   ]
  },
  {
   "cell_type": "code",
   "execution_count": 36,
   "metadata": {},
   "outputs": [
    {
     "data": {
      "text/plain": [
       "0.5234493192133132"
      ]
     },
     "execution_count": 36,
     "metadata": {},
     "output_type": "execute_result"
    }
   ],
   "source": [
    "cohen_score_34 = cohen_kappa_score(annotation_3,annotation_4)\n",
    "cohen_score_34"
   ]
  },
  {
   "cell_type": "code",
   "execution_count": 37,
   "metadata": {},
   "outputs": [
    {
     "name": "stdout",
     "output_type": "stream",
     "text": [
      "Average Cohen Kappa Score for annotation 103: 0.763\n"
     ]
    }
   ],
   "source": [
    "cohen_score_average_3 = round((cohen_score_31 + cohen_score_32 + cohen_score_34)/3,3)\n",
    "print(\"Average Cohen Kappa Score for annotation 103:\",(cohen_score_average_3))"
   ]
  },
  {
   "cell_type": "markdown",
   "metadata": {},
   "source": [
    "### Cohen_kappa average score of annotation 104"
   ]
  },
  {
   "cell_type": "code",
   "execution_count": 38,
   "metadata": {},
   "outputs": [
    {
     "data": {
      "text/plain": [
       "0.5068285280728377"
      ]
     },
     "execution_count": 38,
     "metadata": {},
     "output_type": "execute_result"
    }
   ],
   "source": [
    "cohen_score_41 = cohen_kappa_score(annotation_4,annotation_1)\n",
    "cohen_score_41"
   ]
  },
  {
   "cell_type": "code",
   "execution_count": 39,
   "metadata": {},
   "outputs": [
    {
     "data": {
      "text/plain": [
       "0.5030120481927711"
      ]
     },
     "execution_count": 39,
     "metadata": {},
     "output_type": "execute_result"
    }
   ],
   "source": [
    "cohen_score_42 = cohen_kappa_score(annotation_4,annotation_2)\n",
    "cohen_score_42"
   ]
  },
  {
   "cell_type": "code",
   "execution_count": 40,
   "metadata": {},
   "outputs": [
    {
     "data": {
      "text/plain": [
       "0.5234493192133132"
      ]
     },
     "execution_count": 40,
     "metadata": {},
     "output_type": "execute_result"
    }
   ],
   "source": [
    "cohen_score_43 = cohen_kappa_score(annotation_4,annotation_3)\n",
    "cohen_score_43"
   ]
  },
  {
   "cell_type": "code",
   "execution_count": 41,
   "metadata": {},
   "outputs": [
    {
     "name": "stdout",
     "output_type": "stream",
     "text": [
      "Average Cohen Kappa Score for annotation 104: 0.511\n"
     ]
    }
   ],
   "source": [
    "cohen_score_average_4 = round((cohen_score_41 + cohen_score_42 + cohen_score_43)/3,3)\n",
    "print(\"Average Cohen Kappa Score for annotation 104:\",(cohen_score_average_4))"
   ]
  },
  {
   "cell_type": "markdown",
   "metadata": {},
   "source": [
    "##### If average cohen kappa score for any annotation is less than 0.2, we will drop it"
   ]
  },
  {
   "cell_type": "code",
   "execution_count": 42,
   "metadata": {},
   "outputs": [],
   "source": [
    "def drop_annotate():\n",
    "    average = [cohen_score_average_1, cohen_score_average_2,cohen_score_average_3,cohen_score_average_4]\n",
    "    columns_name = ['annotation_101','annotation_102','annotation_103','annotation_104']\n",
    "    #columns =[annotation_1,annotation_2,annotation_3,annotation_4]\n",
    "    for i in range(0,len(average)):\n",
    "        if average[i]< 0.2:\n",
    "            print(columns_name[i])\n",
    "            print(average[i])\n",
    "            df_1.drop(columns_name[i], axis=1, inplace = True)\n",
    "    print(df_1.head())"
   ]
  },
  {
   "cell_type": "code",
   "execution_count": 43,
   "metadata": {},
   "outputs": [
    {
     "name": "stdout",
     "output_type": "stream",
     "text": [
      "                                                text  annotation_104  \\\n",
      "0  Putin After Announcing #CovidVaccine #Russian ...           False   \n",
      "1  Courtesy: WA! #WhatsApp #COVID #CovidVaccine h...           False   \n",
      "2  4 of the vaccines Jared bought are expected to...           False   \n",
      "3  One day you will realize CDC Guidelines magica...            True   \n",
      "4  Im far from lying.  Current CDC guidelines is ...            True   \n",
      "\n",
      "   annotation_101  annotation_102  annotation_103  \n",
      "0           False           False           False  \n",
      "1           False           False           False  \n",
      "2           False           False           False  \n",
      "3           False           False           False  \n",
      "4            True           False            True  \n"
     ]
    }
   ],
   "source": [
    "drop_annotate()"
   ]
  },
  {
   "cell_type": "code",
   "execution_count": null,
   "metadata": {},
   "outputs": [],
   "source": []
  },
  {
   "cell_type": "markdown",
   "metadata": {},
   "source": [
    "## twitter_topic_0_vaccination.csv"
   ]
  },
  {
   "cell_type": "code",
   "execution_count": 44,
   "metadata": {},
   "outputs": [
    {
     "data": {
      "text/html": [
       "<div>\n",
       "<style scoped>\n",
       "    .dataframe tbody tr th:only-of-type {\n",
       "        vertical-align: middle;\n",
       "    }\n",
       "\n",
       "    .dataframe tbody tr th {\n",
       "        vertical-align: top;\n",
       "    }\n",
       "\n",
       "    .dataframe thead th {\n",
       "        text-align: right;\n",
       "    }\n",
       "</style>\n",
       "<table border=\"1\" class=\"dataframe\">\n",
       "  <thead>\n",
       "    <tr style=\"text-align: right;\">\n",
       "      <th></th>\n",
       "      <th>text</th>\n",
       "      <th>annotation_104</th>\n",
       "      <th>annotation_101</th>\n",
       "      <th>annotation_102</th>\n",
       "      <th>annotation_103</th>\n",
       "    </tr>\n",
       "  </thead>\n",
       "  <tbody>\n",
       "    <tr>\n",
       "      <th>0</th>\n",
       "      <td>Putin After Announcing #CovidVaccine #Russian ...</td>\n",
       "      <td>True</td>\n",
       "      <td>True</td>\n",
       "      <td>True</td>\n",
       "      <td>False</td>\n",
       "    </tr>\n",
       "    <tr>\n",
       "      <th>1</th>\n",
       "      <td>Courtesy: WA! #WhatsApp #COVID #CovidVaccine h...</td>\n",
       "      <td>True</td>\n",
       "      <td>True</td>\n",
       "      <td>False</td>\n",
       "      <td>False</td>\n",
       "    </tr>\n",
       "    <tr>\n",
       "      <th>2</th>\n",
       "      <td>4 of the vaccines Jared bought are expected to...</td>\n",
       "      <td>True</td>\n",
       "      <td>True</td>\n",
       "      <td>True</td>\n",
       "      <td>True</td>\n",
       "    </tr>\n",
       "    <tr>\n",
       "      <th>3</th>\n",
       "      <td>One day you will realize CDC Guidelines magica...</td>\n",
       "      <td>False</td>\n",
       "      <td>False</td>\n",
       "      <td>False</td>\n",
       "      <td>False</td>\n",
       "    </tr>\n",
       "    <tr>\n",
       "      <th>4</th>\n",
       "      <td>Im far from lying.  Current CDC guidelines is ...</td>\n",
       "      <td>False</td>\n",
       "      <td>True</td>\n",
       "      <td>True</td>\n",
       "      <td>True</td>\n",
       "    </tr>\n",
       "  </tbody>\n",
       "</table>\n",
       "</div>"
      ],
      "text/plain": [
       "                                                text  annotation_104  \\\n",
       "0  Putin After Announcing #CovidVaccine #Russian ...            True   \n",
       "1  Courtesy: WA! #WhatsApp #COVID #CovidVaccine h...            True   \n",
       "2  4 of the vaccines Jared bought are expected to...            True   \n",
       "3  One day you will realize CDC Guidelines magica...           False   \n",
       "4  Im far from lying.  Current CDC guidelines is ...           False   \n",
       "\n",
       "   annotation_101  annotation_102  annotation_103  \n",
       "0            True            True           False  \n",
       "1            True           False           False  \n",
       "2            True            True            True  \n",
       "3           False           False           False  \n",
       "4            True            True            True  "
      ]
     },
     "execution_count": 44,
     "metadata": {},
     "output_type": "execute_result"
    }
   ],
   "source": [
    "df_2 = pd.read_csv(r'twitter_topic\\twitter_topic_0_vaccination.csv')\n",
    "df_2.head()"
   ]
  },
  {
   "cell_type": "code",
   "execution_count": 45,
   "metadata": {},
   "outputs": [
    {
     "name": "stdout",
     "output_type": "stream",
     "text": [
      "0\n",
      "0\n",
      "0\n",
      "0\n",
      "0\n"
     ]
    }
   ],
   "source": [
    "print(df_2['annotation_101'].isnull().sum())\n",
    "print(df_2['annotation_102'].isnull().sum())\n",
    "print(df_2['annotation_103'].isnull().sum())\n",
    "print(df_2['annotation_104'].isnull().sum())\n",
    "print(df_2['text'].isnull().sum())"
   ]
  },
  {
   "cell_type": "code",
   "execution_count": 46,
   "metadata": {},
   "outputs": [],
   "source": [
    "annotation_1= df_2['annotation_101']\n",
    "annotation_2= df_2['annotation_102']\n",
    "annotation_3= df_2['annotation_103']\n",
    "annotation_4= df_2['annotation_104']"
   ]
  },
  {
   "cell_type": "markdown",
   "metadata": {},
   "source": [
    "### Cohen_kappa average score of annotation 101"
   ]
  },
  {
   "cell_type": "code",
   "execution_count": 47,
   "metadata": {},
   "outputs": [],
   "source": [
    "def cohen_avg_1():\n",
    "    cohen_score_12 = cohen_kappa_score(annotation_1,annotation_2)\n",
    "    cohen_score_13 = cohen_kappa_score(annotation_1,annotation_3)\n",
    "    cohen_score_14 = cohen_kappa_score(annotation_1,annotation_4)\n",
    "    cohen_score_average_1 = round((cohen_score_12 + cohen_score_13 + cohen_score_14)/3,3)\n",
    "    print(\"Average Cohen Kappa Score for annotation 101:\",(cohen_score_average_1))\n",
    "    return cohen_score_average_1"
   ]
  },
  {
   "cell_type": "code",
   "execution_count": 48,
   "metadata": {},
   "outputs": [
    {
     "name": "stdout",
     "output_type": "stream",
     "text": [
      "Average Cohen Kappa Score for annotation 101: 0.762\n"
     ]
    },
    {
     "data": {
      "text/plain": [
       "0.762"
      ]
     },
     "execution_count": 48,
     "metadata": {},
     "output_type": "execute_result"
    }
   ],
   "source": [
    "cohen_avg_1()"
   ]
  },
  {
   "cell_type": "markdown",
   "metadata": {},
   "source": [
    "### Cohen_kappa average score of annotation 102"
   ]
  },
  {
   "cell_type": "code",
   "execution_count": 49,
   "metadata": {},
   "outputs": [],
   "source": [
    "def cohen_avg_2():\n",
    "    cohen_score_21 = cohen_kappa_score(annotation_2,annotation_1)\n",
    "    cohen_score_23 = cohen_kappa_score(annotation_2,annotation_3)\n",
    "    cohen_score_24 = cohen_kappa_score(annotation_2,annotation_4)\n",
    "    cohen_score_average_2 = round((cohen_score_21 + cohen_score_23 + cohen_score_24)/3,3)\n",
    "    print(\"Average Cohen Kappa Score for annotation 102:\",(cohen_score_average_2))\n",
    "    return cohen_score_average_2"
   ]
  },
  {
   "cell_type": "code",
   "execution_count": 50,
   "metadata": {},
   "outputs": [
    {
     "name": "stdout",
     "output_type": "stream",
     "text": [
      "Average Cohen Kappa Score for annotation 102: 0.624\n"
     ]
    },
    {
     "data": {
      "text/plain": [
       "0.624"
      ]
     },
     "execution_count": 50,
     "metadata": {},
     "output_type": "execute_result"
    }
   ],
   "source": [
    "cohen_avg_2()"
   ]
  },
  {
   "cell_type": "markdown",
   "metadata": {},
   "source": [
    "### Cohen_kappa average score of annotation 103"
   ]
  },
  {
   "cell_type": "code",
   "execution_count": 51,
   "metadata": {},
   "outputs": [],
   "source": [
    "def cohen_avg_3():\n",
    "    cohen_score_31 = cohen_kappa_score(annotation_3,annotation_1)\n",
    "    cohen_score_32 = cohen_kappa_score(annotation_3,annotation_2)\n",
    "    cohen_score_34 = cohen_kappa_score(annotation_3,annotation_4)\n",
    "    cohen_score_average_3 = round((cohen_score_31 + cohen_score_32 + cohen_score_34)/3,3)\n",
    "    print(\"Average Cohen Kappa Score for annotation 103:\",(cohen_score_average_3))\n",
    "    return cohen_score_average_3"
   ]
  },
  {
   "cell_type": "code",
   "execution_count": 52,
   "metadata": {},
   "outputs": [
    {
     "name": "stdout",
     "output_type": "stream",
     "text": [
      "Average Cohen Kappa Score for annotation 103: 0.71\n"
     ]
    },
    {
     "data": {
      "text/plain": [
       "0.71"
      ]
     },
     "execution_count": 52,
     "metadata": {},
     "output_type": "execute_result"
    }
   ],
   "source": [
    "cohen_avg_3()"
   ]
  },
  {
   "cell_type": "markdown",
   "metadata": {},
   "source": [
    "### Cohen_kappa average score of annotation 104"
   ]
  },
  {
   "cell_type": "code",
   "execution_count": 53,
   "metadata": {},
   "outputs": [],
   "source": [
    "def cohen_avg_4():\n",
    "    cohen_score_41 = cohen_kappa_score(annotation_4,annotation_1)\n",
    "    cohen_score_42 = cohen_kappa_score(annotation_4,annotation_2)\n",
    "    cohen_score_43 = cohen_kappa_score(annotation_4,annotation_3)\n",
    "    cohen_score_average_4 = round((cohen_score_41 + cohen_score_42 + cohen_score_43)/3,3)\n",
    "    print(\"Average Cohen Kappa Score for annotation 103:\",(cohen_score_average_4))\n",
    "    return cohen_score_average_4"
   ]
  },
  {
   "cell_type": "code",
   "execution_count": 54,
   "metadata": {},
   "outputs": [
    {
     "name": "stdout",
     "output_type": "stream",
     "text": [
      "Average Cohen Kappa Score for annotation 103: 0.673\n"
     ]
    },
    {
     "data": {
      "text/plain": [
       "0.673"
      ]
     },
     "execution_count": 54,
     "metadata": {},
     "output_type": "execute_result"
    }
   ],
   "source": [
    "cohen_avg_4()"
   ]
  },
  {
   "cell_type": "markdown",
   "metadata": {},
   "source": [
    "##### If average cohen kappa score for any annotation is less than 0.2, we will drop it"
   ]
  },
  {
   "cell_type": "code",
   "execution_count": 55,
   "metadata": {},
   "outputs": [],
   "source": [
    "def drop_annotate():\n",
    "    average = [cohen_avg_1(), cohen_avg_2(),cohen_avg_3(),cohen_avg_4()]\n",
    "    columns_name = ['annotation_101','annotation_102','annotation_103','annotation_104']\n",
    "    #columns =[annotation_1,annotation_2,annotation_3,annotation_4]\n",
    "    for i in range(0,len(average)):\n",
    "        if average[i]< 0.2:\n",
    "            print(columns_name[i])\n",
    "            print(average[i])\n",
    "            df_2.drop(columns_name[i], axis=1, inplace = True)\n",
    "    print(df_2.head())"
   ]
  },
  {
   "cell_type": "code",
   "execution_count": 56,
   "metadata": {},
   "outputs": [
    {
     "name": "stdout",
     "output_type": "stream",
     "text": [
      "Average Cohen Kappa Score for annotation 101: 0.762\n",
      "Average Cohen Kappa Score for annotation 102: 0.624\n",
      "Average Cohen Kappa Score for annotation 103: 0.71\n",
      "Average Cohen Kappa Score for annotation 103: 0.673\n",
      "                                                text  annotation_104  \\\n",
      "0  Putin After Announcing #CovidVaccine #Russian ...            True   \n",
      "1  Courtesy: WA! #WhatsApp #COVID #CovidVaccine h...            True   \n",
      "2  4 of the vaccines Jared bought are expected to...            True   \n",
      "3  One day you will realize CDC Guidelines magica...           False   \n",
      "4  Im far from lying.  Current CDC guidelines is ...           False   \n",
      "\n",
      "   annotation_101  annotation_102  annotation_103  \n",
      "0            True            True           False  \n",
      "1            True           False           False  \n",
      "2            True            True            True  \n",
      "3           False           False           False  \n",
      "4            True            True            True  \n"
     ]
    }
   ],
   "source": [
    "drop_annotate()"
   ]
  },
  {
   "cell_type": "code",
   "execution_count": null,
   "metadata": {},
   "outputs": [],
   "source": []
  },
  {
   "cell_type": "markdown",
   "metadata": {},
   "source": [
    "## twitter_topic_1_lockdowns.csv"
   ]
  },
  {
   "cell_type": "code",
   "execution_count": 57,
   "metadata": {},
   "outputs": [
    {
     "data": {
      "text/html": [
       "<div>\n",
       "<style scoped>\n",
       "    .dataframe tbody tr th:only-of-type {\n",
       "        vertical-align: middle;\n",
       "    }\n",
       "\n",
       "    .dataframe tbody tr th {\n",
       "        vertical-align: top;\n",
       "    }\n",
       "\n",
       "    .dataframe thead th {\n",
       "        text-align: right;\n",
       "    }\n",
       "</style>\n",
       "<table border=\"1\" class=\"dataframe\">\n",
       "  <thead>\n",
       "    <tr style=\"text-align: right;\">\n",
       "      <th></th>\n",
       "      <th>text</th>\n",
       "      <th>annotation_51</th>\n",
       "      <th>annotation_52</th>\n",
       "      <th>annotation_53</th>\n",
       "      <th>annotation_54</th>\n",
       "    </tr>\n",
       "  </thead>\n",
       "  <tbody>\n",
       "    <tr>\n",
       "      <th>0</th>\n",
       "      <td>Follow the CDC guidelines. Don’t become a stat...</td>\n",
       "      <td>False</td>\n",
       "      <td>False</td>\n",
       "      <td>False</td>\n",
       "      <td>False</td>\n",
       "    </tr>\n",
       "    <tr>\n",
       "      <th>1</th>\n",
       "      <td>Do you agree with CDC guidelines that children...</td>\n",
       "      <td>False</td>\n",
       "      <td>False</td>\n",
       "      <td>False</td>\n",
       "      <td>False</td>\n",
       "    </tr>\n",
       "    <tr>\n",
       "      <th>2</th>\n",
       "      <td>So, both #Pharmaceutical companies #lilly and ...</td>\n",
       "      <td>False</td>\n",
       "      <td>False</td>\n",
       "      <td>False</td>\n",
       "      <td>False</td>\n",
       "    </tr>\n",
       "    <tr>\n",
       "      <th>3</th>\n",
       "      <td>The CDC's guidelines are clear; you just don't...</td>\n",
       "      <td>False</td>\n",
       "      <td>False</td>\n",
       "      <td>False</td>\n",
       "      <td>False</td>\n",
       "    </tr>\n",
       "    <tr>\n",
       "      <th>4</th>\n",
       "      <td>CDC Updates School Guidelines For Students Ret...</td>\n",
       "      <td>True</td>\n",
       "      <td>True</td>\n",
       "      <td>True</td>\n",
       "      <td>False</td>\n",
       "    </tr>\n",
       "  </tbody>\n",
       "</table>\n",
       "</div>"
      ],
      "text/plain": [
       "                                                text  annotation_51  \\\n",
       "0  Follow the CDC guidelines. Don’t become a stat...          False   \n",
       "1  Do you agree with CDC guidelines that children...          False   \n",
       "2  So, both #Pharmaceutical companies #lilly and ...          False   \n",
       "3  The CDC's guidelines are clear; you just don't...          False   \n",
       "4  CDC Updates School Guidelines For Students Ret...           True   \n",
       "\n",
       "   annotation_52  annotation_53  annotation_54  \n",
       "0          False          False          False  \n",
       "1          False          False          False  \n",
       "2          False          False          False  \n",
       "3          False          False          False  \n",
       "4           True           True          False  "
      ]
     },
     "execution_count": 57,
     "metadata": {},
     "output_type": "execute_result"
    }
   ],
   "source": [
    "df_3 = pd.read_csv(r'twitter_topic\\twitter_topic_1_lockdowns.csv')\n",
    "df_3.head()"
   ]
  },
  {
   "cell_type": "code",
   "execution_count": 58,
   "metadata": {},
   "outputs": [
    {
     "name": "stdout",
     "output_type": "stream",
     "text": [
      "0\n",
      "0\n",
      "0\n",
      "0\n",
      "0\n"
     ]
    }
   ],
   "source": [
    "print(df_3['annotation_51'].isnull().sum())\n",
    "print(df_3['annotation_52'].isnull().sum())\n",
    "print(df_3['annotation_53'].isnull().sum())\n",
    "print(df_3['annotation_54'].isnull().sum())\n",
    "print(df_3['text'].isnull().sum())"
   ]
  },
  {
   "cell_type": "code",
   "execution_count": 59,
   "metadata": {},
   "outputs": [],
   "source": [
    "annotation_1= df_3['annotation_51']\n",
    "annotation_2= df_3['annotation_52']\n",
    "annotation_3= df_3['annotation_53']\n",
    "annotation_4= df_3['annotation_54']"
   ]
  },
  {
   "cell_type": "markdown",
   "metadata": {},
   "source": [
    "### Cohen_kappa average score of annotation 51"
   ]
  },
  {
   "cell_type": "code",
   "execution_count": 60,
   "metadata": {},
   "outputs": [],
   "source": [
    "def cohen_avg_1():\n",
    "    cohen_score_12 = cohen_kappa_score(annotation_1,annotation_2)\n",
    "    cohen_score_13 = cohen_kappa_score(annotation_1,annotation_3)\n",
    "    cohen_score_14 = cohen_kappa_score(annotation_1,annotation_4)\n",
    "    cohen_score_average_1 = round((cohen_score_12 + cohen_score_13 + cohen_score_14)/3,3)\n",
    "    print(\"Average Cohen Kappa Score for annotation 51:\",(cohen_score_average_1))\n",
    "    return cohen_score_average_1"
   ]
  },
  {
   "cell_type": "code",
   "execution_count": 61,
   "metadata": {},
   "outputs": [
    {
     "name": "stdout",
     "output_type": "stream",
     "text": [
      "Average Cohen Kappa Score for annotation 51: 0.384\n"
     ]
    },
    {
     "data": {
      "text/plain": [
       "0.384"
      ]
     },
     "execution_count": 61,
     "metadata": {},
     "output_type": "execute_result"
    }
   ],
   "source": [
    "cohen_avg_1()"
   ]
  },
  {
   "cell_type": "markdown",
   "metadata": {},
   "source": [
    "### Cohen_kappa average score of annotation 52"
   ]
  },
  {
   "cell_type": "code",
   "execution_count": 62,
   "metadata": {},
   "outputs": [],
   "source": [
    "def cohen_avg_2():\n",
    "    cohen_score_21 = cohen_kappa_score(annotation_2,annotation_1)\n",
    "    cohen_score_23 = cohen_kappa_score(annotation_2,annotation_3)\n",
    "    cohen_score_24 = cohen_kappa_score(annotation_2,annotation_4)\n",
    "    cohen_score_average_2 = round((cohen_score_21 + cohen_score_23 + cohen_score_24)/3,3)\n",
    "    print(\"Average Cohen Kappa Score for annotation 52:\",(cohen_score_average_2))\n",
    "    return cohen_score_average_2"
   ]
  },
  {
   "cell_type": "code",
   "execution_count": 63,
   "metadata": {},
   "outputs": [
    {
     "name": "stdout",
     "output_type": "stream",
     "text": [
      "Average Cohen Kappa Score for annotation 52: 0.248\n"
     ]
    },
    {
     "data": {
      "text/plain": [
       "0.248"
      ]
     },
     "execution_count": 63,
     "metadata": {},
     "output_type": "execute_result"
    }
   ],
   "source": [
    "cohen_avg_2()"
   ]
  },
  {
   "cell_type": "markdown",
   "metadata": {},
   "source": [
    "### Cohen_kappa average score of annotation 53"
   ]
  },
  {
   "cell_type": "code",
   "execution_count": 64,
   "metadata": {},
   "outputs": [],
   "source": [
    "def cohen_avg_3():\n",
    "    cohen_score_31 = cohen_kappa_score(annotation_3,annotation_1)\n",
    "    cohen_score_32 = cohen_kappa_score(annotation_3,annotation_2)\n",
    "    cohen_score_34 = cohen_kappa_score(annotation_3,annotation_4)\n",
    "    cohen_score_average_3 = round((cohen_score_31 + cohen_score_32 + cohen_score_34)/3,3)\n",
    "    print(\"Average Cohen Kappa Score for annotation 53:\",(cohen_score_average_3))\n",
    "    return cohen_score_average_3"
   ]
  },
  {
   "cell_type": "code",
   "execution_count": 65,
   "metadata": {},
   "outputs": [
    {
     "name": "stdout",
     "output_type": "stream",
     "text": [
      "Average Cohen Kappa Score for annotation 53: 0.347\n"
     ]
    },
    {
     "data": {
      "text/plain": [
       "0.347"
      ]
     },
     "execution_count": 65,
     "metadata": {},
     "output_type": "execute_result"
    }
   ],
   "source": [
    "cohen_avg_3()"
   ]
  },
  {
   "cell_type": "markdown",
   "metadata": {},
   "source": [
    "### Cohen_kappa average score of annotation 54"
   ]
  },
  {
   "cell_type": "code",
   "execution_count": 66,
   "metadata": {},
   "outputs": [],
   "source": [
    "def cohen_avg_4():\n",
    "    cohen_score_41 = cohen_kappa_score(annotation_4,annotation_1)\n",
    "    cohen_score_42 = cohen_kappa_score(annotation_4,annotation_2)\n",
    "    cohen_score_43 = cohen_kappa_score(annotation_4,annotation_3)\n",
    "    cohen_score_average_4 = round((cohen_score_41 + cohen_score_42 + cohen_score_43)/3,3)\n",
    "    print(\"Average Cohen Kappa Score for annotation 54:\",(cohen_score_average_4))\n",
    "    return cohen_score_average_4"
   ]
  },
  {
   "cell_type": "code",
   "execution_count": 67,
   "metadata": {},
   "outputs": [
    {
     "name": "stdout",
     "output_type": "stream",
     "text": [
      "Average Cohen Kappa Score for annotation 54: 0.362\n"
     ]
    },
    {
     "data": {
      "text/plain": [
       "0.362"
      ]
     },
     "execution_count": 67,
     "metadata": {},
     "output_type": "execute_result"
    }
   ],
   "source": [
    "cohen_avg_4()"
   ]
  },
  {
   "cell_type": "markdown",
   "metadata": {},
   "source": [
    "##### If average cohen kappa score for any annotation is less than 0.2, we will drop it"
   ]
  },
  {
   "cell_type": "code",
   "execution_count": 68,
   "metadata": {},
   "outputs": [],
   "source": [
    "def drop_annotate():\n",
    "    average = [cohen_avg_1(), cohen_avg_2(),cohen_avg_3(),cohen_avg_4()]\n",
    "    columns_name = ['annotation_51','annotation_52','annotation_53','annotation_54']\n",
    "    #columns =[annotation_1,annotation_2,annotation_3,annotation_4]\n",
    "    for i in range(0,len(average)):\n",
    "        if average[i]< 0.2:\n",
    "            print(average[i])\n",
    "            df_3.drop(columns_name[i], axis=1, inplace = True)\n",
    "    print(df_3.head())"
   ]
  },
  {
   "cell_type": "code",
   "execution_count": 69,
   "metadata": {},
   "outputs": [
    {
     "name": "stdout",
     "output_type": "stream",
     "text": [
      "Average Cohen Kappa Score for annotation 51: 0.384\n",
      "Average Cohen Kappa Score for annotation 52: 0.248\n",
      "Average Cohen Kappa Score for annotation 53: 0.347\n",
      "Average Cohen Kappa Score for annotation 54: 0.362\n",
      "                                                text  annotation_51  \\\n",
      "0  Follow the CDC guidelines. Don’t become a stat...          False   \n",
      "1  Do you agree with CDC guidelines that children...          False   \n",
      "2  So, both #Pharmaceutical companies #lilly and ...          False   \n",
      "3  The CDC's guidelines are clear; you just don't...          False   \n",
      "4  CDC Updates School Guidelines For Students Ret...           True   \n",
      "\n",
      "   annotation_52  annotation_53  annotation_54  \n",
      "0          False          False          False  \n",
      "1          False          False          False  \n",
      "2          False          False          False  \n",
      "3          False          False          False  \n",
      "4           True           True          False  \n"
     ]
    }
   ],
   "source": [
    "drop_annotate()"
   ]
  },
  {
   "cell_type": "markdown",
   "metadata": {},
   "source": [
    "## twitter_topic_1_masking_and_distancing.csv"
   ]
  },
  {
   "cell_type": "code",
   "execution_count": 70,
   "metadata": {},
   "outputs": [
    {
     "data": {
      "text/html": [
       "<div>\n",
       "<style scoped>\n",
       "    .dataframe tbody tr th:only-of-type {\n",
       "        vertical-align: middle;\n",
       "    }\n",
       "\n",
       "    .dataframe tbody tr th {\n",
       "        vertical-align: top;\n",
       "    }\n",
       "\n",
       "    .dataframe thead th {\n",
       "        text-align: right;\n",
       "    }\n",
       "</style>\n",
       "<table border=\"1\" class=\"dataframe\">\n",
       "  <thead>\n",
       "    <tr style=\"text-align: right;\">\n",
       "      <th></th>\n",
       "      <th>text</th>\n",
       "      <th>annotation_51</th>\n",
       "      <th>annotation_52</th>\n",
       "      <th>annotation_53</th>\n",
       "      <th>annotation_54</th>\n",
       "    </tr>\n",
       "  </thead>\n",
       "  <tbody>\n",
       "    <tr>\n",
       "      <th>0</th>\n",
       "      <td>Follow the CDC guidelines. Don’t become a stat...</td>\n",
       "      <td>True</td>\n",
       "      <td>False</td>\n",
       "      <td>True</td>\n",
       "      <td>False</td>\n",
       "    </tr>\n",
       "    <tr>\n",
       "      <th>1</th>\n",
       "      <td>Do you agree with CDC guidelines that children...</td>\n",
       "      <td>True</td>\n",
       "      <td>True</td>\n",
       "      <td>True</td>\n",
       "      <td>True</td>\n",
       "    </tr>\n",
       "    <tr>\n",
       "      <th>2</th>\n",
       "      <td>So, both #Pharmaceutical companies #lilly and ...</td>\n",
       "      <td>False</td>\n",
       "      <td>False</td>\n",
       "      <td>False</td>\n",
       "      <td>False</td>\n",
       "    </tr>\n",
       "    <tr>\n",
       "      <th>3</th>\n",
       "      <td>The CDC's guidelines are clear; you just don't...</td>\n",
       "      <td>True</td>\n",
       "      <td>False</td>\n",
       "      <td>False</td>\n",
       "      <td>False</td>\n",
       "    </tr>\n",
       "    <tr>\n",
       "      <th>4</th>\n",
       "      <td>CDC Updates School Guidelines For Students Ret...</td>\n",
       "      <td>True</td>\n",
       "      <td>False</td>\n",
       "      <td>False</td>\n",
       "      <td>False</td>\n",
       "    </tr>\n",
       "  </tbody>\n",
       "</table>\n",
       "</div>"
      ],
      "text/plain": [
       "                                                text  annotation_51  \\\n",
       "0  Follow the CDC guidelines. Don’t become a stat...           True   \n",
       "1  Do you agree with CDC guidelines that children...           True   \n",
       "2  So, both #Pharmaceutical companies #lilly and ...          False   \n",
       "3  The CDC's guidelines are clear; you just don't...           True   \n",
       "4  CDC Updates School Guidelines For Students Ret...           True   \n",
       "\n",
       "   annotation_52  annotation_53  annotation_54  \n",
       "0          False           True          False  \n",
       "1           True           True           True  \n",
       "2          False          False          False  \n",
       "3          False          False          False  \n",
       "4          False          False          False  "
      ]
     },
     "execution_count": 70,
     "metadata": {},
     "output_type": "execute_result"
    }
   ],
   "source": [
    "df_4 = pd.read_csv(r'twitter_topic\\twitter_topic_1_masking_and_distancing.csv')\n",
    "df_4.head()"
   ]
  },
  {
   "cell_type": "code",
   "execution_count": 71,
   "metadata": {},
   "outputs": [
    {
     "name": "stdout",
     "output_type": "stream",
     "text": [
      "0\n",
      "0\n",
      "0\n",
      "0\n",
      "0\n"
     ]
    }
   ],
   "source": [
    "print(df_4['annotation_51'].isnull().sum())\n",
    "print(df_4['annotation_52'].isnull().sum())\n",
    "print(df_4['annotation_53'].isnull().sum())\n",
    "print(df_4['annotation_54'].isnull().sum())\n",
    "print(df_4['text'].isnull().sum())"
   ]
  },
  {
   "cell_type": "code",
   "execution_count": 72,
   "metadata": {},
   "outputs": [],
   "source": [
    "annotation_1= df_4['annotation_51']\n",
    "annotation_2= df_4['annotation_52']\n",
    "annotation_3= df_4['annotation_53']\n",
    "annotation_4= df_4['annotation_54']"
   ]
  },
  {
   "cell_type": "markdown",
   "metadata": {},
   "source": [
    "### Cohen_kappa average score of annotation 51"
   ]
  },
  {
   "cell_type": "code",
   "execution_count": 73,
   "metadata": {},
   "outputs": [],
   "source": [
    "def cohen_avg_1():\n",
    "    cohen_score_12 = cohen_kappa_score(annotation_1,annotation_2)\n",
    "    cohen_score_13 = cohen_kappa_score(annotation_1,annotation_3)\n",
    "    cohen_score_14 = cohen_kappa_score(annotation_1,annotation_4)\n",
    "    cohen_score_average_1 = round((cohen_score_12 + cohen_score_13 + cohen_score_14)/3,3)\n",
    "    print(\"Average Cohen Kappa Score for annotation 51:\",(cohen_score_average_1))\n",
    "    return cohen_score_average_1"
   ]
  },
  {
   "cell_type": "code",
   "execution_count": 74,
   "metadata": {},
   "outputs": [
    {
     "name": "stdout",
     "output_type": "stream",
     "text": [
      "Average Cohen Kappa Score for annotation 51: 0.555\n"
     ]
    },
    {
     "data": {
      "text/plain": [
       "0.555"
      ]
     },
     "execution_count": 74,
     "metadata": {},
     "output_type": "execute_result"
    }
   ],
   "source": [
    "cohen_avg_1()"
   ]
  },
  {
   "cell_type": "markdown",
   "metadata": {},
   "source": [
    "### Cohen_kappa average score of annotation 52"
   ]
  },
  {
   "cell_type": "code",
   "execution_count": 75,
   "metadata": {},
   "outputs": [],
   "source": [
    "def cohen_avg_2():\n",
    "    cohen_score_21 = cohen_kappa_score(annotation_2,annotation_1)\n",
    "    cohen_score_23 = cohen_kappa_score(annotation_2,annotation_3)\n",
    "    cohen_score_24 = cohen_kappa_score(annotation_2,annotation_4)\n",
    "    cohen_score_average_2 = round((cohen_score_21 + cohen_score_23 + cohen_score_24)/3,3)\n",
    "    print(\"Average Cohen Kappa Score for annotation 52:\",(cohen_score_average_2))\n",
    "    return cohen_score_average_2"
   ]
  },
  {
   "cell_type": "code",
   "execution_count": 76,
   "metadata": {},
   "outputs": [
    {
     "name": "stdout",
     "output_type": "stream",
     "text": [
      "Average Cohen Kappa Score for annotation 52: 0.699\n"
     ]
    },
    {
     "data": {
      "text/plain": [
       "0.699"
      ]
     },
     "execution_count": 76,
     "metadata": {},
     "output_type": "execute_result"
    }
   ],
   "source": [
    "cohen_avg_2()"
   ]
  },
  {
   "cell_type": "markdown",
   "metadata": {},
   "source": [
    "### Cohen_kappa average score of annotation 53"
   ]
  },
  {
   "cell_type": "code",
   "execution_count": 77,
   "metadata": {},
   "outputs": [],
   "source": [
    "def cohen_avg_3():\n",
    "    cohen_score_31 = cohen_kappa_score(annotation_3,annotation_1)\n",
    "    cohen_score_32 = cohen_kappa_score(annotation_3,annotation_2)\n",
    "    cohen_score_34 = cohen_kappa_score(annotation_3,annotation_4)\n",
    "    cohen_score_average_3 = round((cohen_score_31 + cohen_score_32 + cohen_score_34)/3,3)\n",
    "    print(\"Average Cohen Kappa Score for annotation 53:\",(cohen_score_average_3))\n",
    "    return cohen_score_average_3"
   ]
  },
  {
   "cell_type": "code",
   "execution_count": 78,
   "metadata": {},
   "outputs": [
    {
     "name": "stdout",
     "output_type": "stream",
     "text": [
      "Average Cohen Kappa Score for annotation 53: 0.681\n"
     ]
    },
    {
     "data": {
      "text/plain": [
       "0.681"
      ]
     },
     "execution_count": 78,
     "metadata": {},
     "output_type": "execute_result"
    }
   ],
   "source": [
    "cohen_avg_3()"
   ]
  },
  {
   "cell_type": "markdown",
   "metadata": {},
   "source": [
    "### Cohen_kappa average score of annotation 54"
   ]
  },
  {
   "cell_type": "code",
   "execution_count": 79,
   "metadata": {},
   "outputs": [],
   "source": [
    "def cohen_avg_4():\n",
    "    cohen_score_41 = cohen_kappa_score(annotation_4,annotation_1)\n",
    "    cohen_score_42 = cohen_kappa_score(annotation_4,annotation_2)\n",
    "    cohen_score_43 = cohen_kappa_score(annotation_4,annotation_3)\n",
    "    cohen_score_average_4 = round((cohen_score_41 + cohen_score_42 + cohen_score_43)/3,3)\n",
    "    print(\"Average Cohen Kappa Score for annotation 54:\",(cohen_score_average_4))\n",
    "    return cohen_score_average_4"
   ]
  },
  {
   "cell_type": "code",
   "execution_count": 80,
   "metadata": {},
   "outputs": [
    {
     "name": "stdout",
     "output_type": "stream",
     "text": [
      "Average Cohen Kappa Score for annotation 54: 0.705\n"
     ]
    },
    {
     "data": {
      "text/plain": [
       "0.705"
      ]
     },
     "execution_count": 80,
     "metadata": {},
     "output_type": "execute_result"
    }
   ],
   "source": [
    "cohen_avg_4()"
   ]
  },
  {
   "cell_type": "markdown",
   "metadata": {},
   "source": [
    "##### If average cohen kappa score for any annotation is less than 0.2, we will drop it"
   ]
  },
  {
   "cell_type": "code",
   "execution_count": 81,
   "metadata": {},
   "outputs": [],
   "source": [
    "def drop_annotate():\n",
    "    average = [cohen_avg_1(), cohen_avg_2(),cohen_avg_3(),cohen_avg_4()]\n",
    "    columns_name = ['annotation_51','annotation_52','annotation_53','annotation_54']\n",
    "    #columns =[annotation_1,annotation_2,annotation_3,annotation_4]\n",
    "    for i in range(0,len(average)):\n",
    "        if average[i]< 0.2:\n",
    "            print(average[i])\n",
    "            df_4.drop(columns_name[i], axis=1, inplace = True)\n",
    "    print(df_4.head())"
   ]
  },
  {
   "cell_type": "code",
   "execution_count": 82,
   "metadata": {},
   "outputs": [
    {
     "name": "stdout",
     "output_type": "stream",
     "text": [
      "Average Cohen Kappa Score for annotation 51: 0.555\n",
      "Average Cohen Kappa Score for annotation 52: 0.699\n",
      "Average Cohen Kappa Score for annotation 53: 0.681\n",
      "Average Cohen Kappa Score for annotation 54: 0.705\n",
      "                                                text  annotation_51  \\\n",
      "0  Follow the CDC guidelines. Don’t become a stat...           True   \n",
      "1  Do you agree with CDC guidelines that children...           True   \n",
      "2  So, both #Pharmaceutical companies #lilly and ...          False   \n",
      "3  The CDC's guidelines are clear; you just don't...           True   \n",
      "4  CDC Updates School Guidelines For Students Ret...           True   \n",
      "\n",
      "   annotation_52  annotation_53  annotation_54  \n",
      "0          False           True          False  \n",
      "1           True           True           True  \n",
      "2          False          False          False  \n",
      "3          False          False          False  \n",
      "4          False          False          False  \n"
     ]
    }
   ],
   "source": [
    "drop_annotate()"
   ]
  },
  {
   "cell_type": "code",
   "execution_count": null,
   "metadata": {},
   "outputs": [],
   "source": []
  },
  {
   "cell_type": "code",
   "execution_count": null,
   "metadata": {},
   "outputs": [],
   "source": []
  },
  {
   "cell_type": "markdown",
   "metadata": {},
   "source": [
    "## twitter_topic_1_vaccination.csv"
   ]
  },
  {
   "cell_type": "code",
   "execution_count": 83,
   "metadata": {},
   "outputs": [
    {
     "data": {
      "text/html": [
       "<div>\n",
       "<style scoped>\n",
       "    .dataframe tbody tr th:only-of-type {\n",
       "        vertical-align: middle;\n",
       "    }\n",
       "\n",
       "    .dataframe tbody tr th {\n",
       "        vertical-align: top;\n",
       "    }\n",
       "\n",
       "    .dataframe thead th {\n",
       "        text-align: right;\n",
       "    }\n",
       "</style>\n",
       "<table border=\"1\" class=\"dataframe\">\n",
       "  <thead>\n",
       "    <tr style=\"text-align: right;\">\n",
       "      <th></th>\n",
       "      <th>text</th>\n",
       "      <th>annotation_51</th>\n",
       "      <th>annotation_52</th>\n",
       "      <th>annotation_53</th>\n",
       "      <th>annotation_54</th>\n",
       "    </tr>\n",
       "  </thead>\n",
       "  <tbody>\n",
       "    <tr>\n",
       "      <th>0</th>\n",
       "      <td>Follow the CDC guidelines. Don’t become a stat...</td>\n",
       "      <td>False</td>\n",
       "      <td>False</td>\n",
       "      <td>False</td>\n",
       "      <td>False</td>\n",
       "    </tr>\n",
       "    <tr>\n",
       "      <th>1</th>\n",
       "      <td>Do you agree with CDC guidelines that children...</td>\n",
       "      <td>False</td>\n",
       "      <td>False</td>\n",
       "      <td>False</td>\n",
       "      <td>False</td>\n",
       "    </tr>\n",
       "    <tr>\n",
       "      <th>2</th>\n",
       "      <td>So, both #Pharmaceutical companies #lilly and ...</td>\n",
       "      <td>True</td>\n",
       "      <td>True</td>\n",
       "      <td>True</td>\n",
       "      <td>True</td>\n",
       "    </tr>\n",
       "    <tr>\n",
       "      <th>3</th>\n",
       "      <td>The CDC's guidelines are clear; you just don't...</td>\n",
       "      <td>False</td>\n",
       "      <td>False</td>\n",
       "      <td>False</td>\n",
       "      <td>False</td>\n",
       "    </tr>\n",
       "    <tr>\n",
       "      <th>4</th>\n",
       "      <td>CDC Updates School Guidelines For Students Ret...</td>\n",
       "      <td>False</td>\n",
       "      <td>False</td>\n",
       "      <td>False</td>\n",
       "      <td>False</td>\n",
       "    </tr>\n",
       "  </tbody>\n",
       "</table>\n",
       "</div>"
      ],
      "text/plain": [
       "                                                text  annotation_51  \\\n",
       "0  Follow the CDC guidelines. Don’t become a stat...          False   \n",
       "1  Do you agree with CDC guidelines that children...          False   \n",
       "2  So, both #Pharmaceutical companies #lilly and ...           True   \n",
       "3  The CDC's guidelines are clear; you just don't...          False   \n",
       "4  CDC Updates School Guidelines For Students Ret...          False   \n",
       "\n",
       "   annotation_52  annotation_53  annotation_54  \n",
       "0          False          False          False  \n",
       "1          False          False          False  \n",
       "2           True           True           True  \n",
       "3          False          False          False  \n",
       "4          False          False          False  "
      ]
     },
     "execution_count": 83,
     "metadata": {},
     "output_type": "execute_result"
    }
   ],
   "source": [
    "df_5 = pd.read_csv(r'twitter_topic\\twitter_topic_1_vaccination.csv')\n",
    "df_5.head()"
   ]
  },
  {
   "cell_type": "code",
   "execution_count": 84,
   "metadata": {},
   "outputs": [
    {
     "name": "stdout",
     "output_type": "stream",
     "text": [
      "0\n",
      "0\n",
      "0\n",
      "0\n",
      "0\n"
     ]
    }
   ],
   "source": [
    "print(df_5['annotation_51'].isnull().sum())\n",
    "print(df_5['annotation_52'].isnull().sum())\n",
    "print(df_5['annotation_53'].isnull().sum())\n",
    "print(df_5['annotation_54'].isnull().sum())\n",
    "print(df_5['text'].isnull().sum())"
   ]
  },
  {
   "cell_type": "code",
   "execution_count": 85,
   "metadata": {},
   "outputs": [],
   "source": [
    "annotation_1= df_5['annotation_51']\n",
    "annotation_2= df_5['annotation_52']\n",
    "annotation_3= df_5['annotation_53']\n",
    "annotation_4= df_5['annotation_54']"
   ]
  },
  {
   "cell_type": "markdown",
   "metadata": {},
   "source": [
    "### Cohen_kappa average score of annotation 51"
   ]
  },
  {
   "cell_type": "code",
   "execution_count": 86,
   "metadata": {},
   "outputs": [],
   "source": [
    "def cohen_avg_1():\n",
    "    cohen_score_12 = cohen_kappa_score(annotation_1,annotation_2)\n",
    "    cohen_score_13 = cohen_kappa_score(annotation_1,annotation_3)\n",
    "    cohen_score_14 = cohen_kappa_score(annotation_1,annotation_4)\n",
    "    cohen_score_average_1 = round((cohen_score_12 + cohen_score_13 + cohen_score_14)/3,3)\n",
    "    print(\"Average Cohen Kappa Score for annotation 51:\",(cohen_score_average_1))\n",
    "    return cohen_score_average_1"
   ]
  },
  {
   "cell_type": "code",
   "execution_count": 87,
   "metadata": {},
   "outputs": [
    {
     "name": "stdout",
     "output_type": "stream",
     "text": [
      "Average Cohen Kappa Score for annotation 51: 0.656\n"
     ]
    },
    {
     "data": {
      "text/plain": [
       "0.656"
      ]
     },
     "execution_count": 87,
     "metadata": {},
     "output_type": "execute_result"
    }
   ],
   "source": [
    "cohen_avg_1()"
   ]
  },
  {
   "cell_type": "markdown",
   "metadata": {},
   "source": [
    "### Cohen_kappa average score of annotation 52"
   ]
  },
  {
   "cell_type": "code",
   "execution_count": 88,
   "metadata": {},
   "outputs": [],
   "source": [
    "def cohen_avg_2():\n",
    "    cohen_score_21 = cohen_kappa_score(annotation_2,annotation_1)\n",
    "    cohen_score_23 = cohen_kappa_score(annotation_2,annotation_3)\n",
    "    cohen_score_24 = cohen_kappa_score(annotation_2,annotation_4)\n",
    "    cohen_score_average_2 = round((cohen_score_21 + cohen_score_23 + cohen_score_24)/3,3)\n",
    "    print(\"Average Cohen Kappa Score for annotation 52:\",(cohen_score_average_2))\n",
    "    return cohen_score_average_2"
   ]
  },
  {
   "cell_type": "code",
   "execution_count": 89,
   "metadata": {},
   "outputs": [
    {
     "name": "stdout",
     "output_type": "stream",
     "text": [
      "Average Cohen Kappa Score for annotation 52: 0.363\n"
     ]
    },
    {
     "data": {
      "text/plain": [
       "0.363"
      ]
     },
     "execution_count": 89,
     "metadata": {},
     "output_type": "execute_result"
    }
   ],
   "source": [
    "cohen_avg_2()"
   ]
  },
  {
   "cell_type": "markdown",
   "metadata": {},
   "source": [
    "### Cohen_kappa average score of annotation 53"
   ]
  },
  {
   "cell_type": "code",
   "execution_count": 90,
   "metadata": {},
   "outputs": [],
   "source": [
    "def cohen_avg_3():\n",
    "    cohen_score_31 = cohen_kappa_score(annotation_3,annotation_1)\n",
    "    cohen_score_32 = cohen_kappa_score(annotation_3,annotation_2)\n",
    "    cohen_score_34 = cohen_kappa_score(annotation_3,annotation_4)\n",
    "    cohen_score_average_3 = round((cohen_score_31 + cohen_score_32 + cohen_score_34)/3,3)\n",
    "    print(\"Average Cohen Kappa Score for annotation 53:\",(cohen_score_average_3))\n",
    "    return cohen_score_average_3"
   ]
  },
  {
   "cell_type": "code",
   "execution_count": 91,
   "metadata": {},
   "outputs": [
    {
     "name": "stdout",
     "output_type": "stream",
     "text": [
      "Average Cohen Kappa Score for annotation 53: 0.613\n"
     ]
    },
    {
     "data": {
      "text/plain": [
       "0.613"
      ]
     },
     "execution_count": 91,
     "metadata": {},
     "output_type": "execute_result"
    }
   ],
   "source": [
    "cohen_avg_3()"
   ]
  },
  {
   "cell_type": "markdown",
   "metadata": {},
   "source": [
    "### Cohen_kappa average score of annotation 54"
   ]
  },
  {
   "cell_type": "code",
   "execution_count": 92,
   "metadata": {},
   "outputs": [],
   "source": [
    "def cohen_avg_4():\n",
    "    cohen_score_41 = cohen_kappa_score(annotation_4,annotation_1)\n",
    "    cohen_score_42 = cohen_kappa_score(annotation_4,annotation_2)\n",
    "    cohen_score_43 = cohen_kappa_score(annotation_4,annotation_3)\n",
    "    cohen_score_average_4 = round((cohen_score_41 + cohen_score_42 + cohen_score_43)/3,3)\n",
    "    print(\"Average Cohen Kappa Score for annotation 54:\",(cohen_score_average_4))\n",
    "    return cohen_score_average_4"
   ]
  },
  {
   "cell_type": "code",
   "execution_count": 93,
   "metadata": {},
   "outputs": [
    {
     "name": "stdout",
     "output_type": "stream",
     "text": [
      "Average Cohen Kappa Score for annotation 54: 0.608\n"
     ]
    },
    {
     "data": {
      "text/plain": [
       "0.608"
      ]
     },
     "execution_count": 93,
     "metadata": {},
     "output_type": "execute_result"
    }
   ],
   "source": [
    "cohen_avg_4()"
   ]
  },
  {
   "cell_type": "markdown",
   "metadata": {},
   "source": [
    "##### If average cohen kappa score for any annotation is less than 0.2, we will drop it"
   ]
  },
  {
   "cell_type": "code",
   "execution_count": 94,
   "metadata": {},
   "outputs": [],
   "source": [
    "def drop_annotate():\n",
    "    average = [cohen_avg_1(), cohen_avg_2(),cohen_avg_3(),cohen_avg_4()]\n",
    "    columns_name = ['annotation_51','annotation_52','annotation_53','annotation_54']\n",
    "    #columns =[annotation_1,annotation_2,annotation_3,annotation_4]\n",
    "    for i in range(0,len(average)):\n",
    "        if average[i]< 0.2:\n",
    "            print(average[i])\n",
    "            df_5.drop(columns_name[i], axis=1, inplace = True)\n",
    "    print(df_5.head())"
   ]
  },
  {
   "cell_type": "code",
   "execution_count": 95,
   "metadata": {},
   "outputs": [
    {
     "name": "stdout",
     "output_type": "stream",
     "text": [
      "Average Cohen Kappa Score for annotation 51: 0.656\n",
      "Average Cohen Kappa Score for annotation 52: 0.363\n",
      "Average Cohen Kappa Score for annotation 53: 0.613\n",
      "Average Cohen Kappa Score for annotation 54: 0.608\n",
      "                                                text  annotation_51  \\\n",
      "0  Follow the CDC guidelines. Don’t become a stat...          False   \n",
      "1  Do you agree with CDC guidelines that children...          False   \n",
      "2  So, both #Pharmaceutical companies #lilly and ...           True   \n",
      "3  The CDC's guidelines are clear; you just don't...          False   \n",
      "4  CDC Updates School Guidelines For Students Ret...          False   \n",
      "\n",
      "   annotation_52  annotation_53  annotation_54  \n",
      "0          False          False          False  \n",
      "1          False          False          False  \n",
      "2           True           True           True  \n",
      "3          False          False          False  \n",
      "4          False          False          False  \n"
     ]
    }
   ],
   "source": [
    "drop_annotate()"
   ]
  },
  {
   "cell_type": "code",
   "execution_count": null,
   "metadata": {},
   "outputs": [],
   "source": []
  },
  {
   "cell_type": "markdown",
   "metadata": {},
   "source": [
    "## twitter_topic_2_lockdowns.csv"
   ]
  },
  {
   "cell_type": "code",
   "execution_count": 96,
   "metadata": {},
   "outputs": [
    {
     "data": {
      "text/html": [
       "<div>\n",
       "<style scoped>\n",
       "    .dataframe tbody tr th:only-of-type {\n",
       "        vertical-align: middle;\n",
       "    }\n",
       "\n",
       "    .dataframe tbody tr th {\n",
       "        vertical-align: top;\n",
       "    }\n",
       "\n",
       "    .dataframe thead th {\n",
       "        text-align: right;\n",
       "    }\n",
       "</style>\n",
       "<table border=\"1\" class=\"dataframe\">\n",
       "  <thead>\n",
       "    <tr style=\"text-align: right;\">\n",
       "      <th></th>\n",
       "      <th>text</th>\n",
       "      <th>annotation_56</th>\n",
       "      <th>annotation_57</th>\n",
       "      <th>annotation_58</th>\n",
       "      <th>annotation_59</th>\n",
       "    </tr>\n",
       "  </thead>\n",
       "  <tbody>\n",
       "    <tr>\n",
       "      <th>0</th>\n",
       "      <td>Federal Judge Rules Against CDC, Throws Out Cr...</td>\n",
       "      <td>False</td>\n",
       "      <td>False</td>\n",
       "      <td>False</td>\n",
       "      <td>False</td>\n",
       "    </tr>\n",
       "    <tr>\n",
       "      <th>1</th>\n",
       "      <td>Indeed. Even in the dysfunctional US health sy...</td>\n",
       "      <td>False</td>\n",
       "      <td>False</td>\n",
       "      <td>False</td>\n",
       "      <td>False</td>\n",
       "    </tr>\n",
       "    <tr>\n",
       "      <th>2</th>\n",
       "      <td>a vaccine seems to be ESSENTIAL if we are to s...</td>\n",
       "      <td>False</td>\n",
       "      <td>False</td>\n",
       "      <td>False</td>\n",
       "      <td>False</td>\n",
       "    </tr>\n",
       "    <tr>\n",
       "      <th>3</th>\n",
       "      <td>Nurses union calls on CDC to reinstate univers...</td>\n",
       "      <td>False</td>\n",
       "      <td>False</td>\n",
       "      <td>False</td>\n",
       "      <td>False</td>\n",
       "    </tr>\n",
       "    <tr>\n",
       "      <th>4</th>\n",
       "      <td>Sirf  #MukeshAmbani  Company &amp;amp; it's Worker...</td>\n",
       "      <td>False</td>\n",
       "      <td>False</td>\n",
       "      <td>True</td>\n",
       "      <td>False</td>\n",
       "    </tr>\n",
       "  </tbody>\n",
       "</table>\n",
       "</div>"
      ],
      "text/plain": [
       "                                                text  annotation_56  \\\n",
       "0  Federal Judge Rules Against CDC, Throws Out Cr...          False   \n",
       "1  Indeed. Even in the dysfunctional US health sy...          False   \n",
       "2  a vaccine seems to be ESSENTIAL if we are to s...          False   \n",
       "3  Nurses union calls on CDC to reinstate univers...          False   \n",
       "4  Sirf  #MukeshAmbani  Company &amp; it's Worker...          False   \n",
       "\n",
       "   annotation_57  annotation_58  annotation_59  \n",
       "0          False          False          False  \n",
       "1          False          False          False  \n",
       "2          False          False          False  \n",
       "3          False          False          False  \n",
       "4          False           True          False  "
      ]
     },
     "execution_count": 96,
     "metadata": {},
     "output_type": "execute_result"
    }
   ],
   "source": [
    "df_6 = pd.read_csv(r'twitter_topic\\twitter_topic_2_lockdowns.csv')\n",
    "df_6.head()"
   ]
  },
  {
   "cell_type": "code",
   "execution_count": 97,
   "metadata": {},
   "outputs": [
    {
     "name": "stdout",
     "output_type": "stream",
     "text": [
      "0\n",
      "0\n",
      "0\n",
      "0\n",
      "0\n"
     ]
    }
   ],
   "source": [
    "print(df_6['annotation_56'].isnull().sum())\n",
    "print(df_6['annotation_57'].isnull().sum())\n",
    "print(df_6['annotation_58'].isnull().sum())\n",
    "print(df_6['annotation_59'].isnull().sum())\n",
    "print(df_6['text'].isnull().sum())"
   ]
  },
  {
   "cell_type": "code",
   "execution_count": 98,
   "metadata": {},
   "outputs": [],
   "source": [
    "annotation_1= df_6['annotation_56']\n",
    "annotation_2= df_6['annotation_57']\n",
    "annotation_3= df_6['annotation_58']\n",
    "annotation_4= df_6['annotation_59']"
   ]
  },
  {
   "cell_type": "markdown",
   "metadata": {},
   "source": [
    "### Cohen_kappa average score of annotation 56"
   ]
  },
  {
   "cell_type": "code",
   "execution_count": 99,
   "metadata": {},
   "outputs": [],
   "source": [
    "def cohen_avg_1():\n",
    "    cohen_score_12 = cohen_kappa_score(annotation_1,annotation_2)\n",
    "    cohen_score_13 = cohen_kappa_score(annotation_1,annotation_3)\n",
    "    cohen_score_14 = cohen_kappa_score(annotation_1,annotation_4)\n",
    "    cohen_score_average_1 = round((cohen_score_12 + cohen_score_13 + cohen_score_14)/3,3)\n",
    "    print(\"Average Cohen Kappa Score for annotation 56:\",(cohen_score_average_1))\n",
    "    return cohen_score_average_1"
   ]
  },
  {
   "cell_type": "code",
   "execution_count": 100,
   "metadata": {},
   "outputs": [
    {
     "name": "stdout",
     "output_type": "stream",
     "text": [
      "Average Cohen Kappa Score for annotation 56: 0.116\n"
     ]
    },
    {
     "data": {
      "text/plain": [
       "0.116"
      ]
     },
     "execution_count": 100,
     "metadata": {},
     "output_type": "execute_result"
    }
   ],
   "source": [
    "cohen_avg_1()"
   ]
  },
  {
   "cell_type": "markdown",
   "metadata": {},
   "source": [
    "### Cohen_kappa average score of annotation 57"
   ]
  },
  {
   "cell_type": "code",
   "execution_count": 101,
   "metadata": {},
   "outputs": [],
   "source": [
    "def cohen_avg_2():\n",
    "    cohen_score_21 = cohen_kappa_score(annotation_2,annotation_1)\n",
    "    cohen_score_23 = cohen_kappa_score(annotation_2,annotation_3)\n",
    "    cohen_score_24 = cohen_kappa_score(annotation_2,annotation_4)\n",
    "    cohen_score_average_2 = round((cohen_score_21 + cohen_score_23 + cohen_score_24)/3,3)\n",
    "    print(\"Average Cohen Kappa Score for annotation 57:\",(cohen_score_average_2))\n",
    "    return cohen_score_average_2"
   ]
  },
  {
   "cell_type": "code",
   "execution_count": 102,
   "metadata": {},
   "outputs": [
    {
     "name": "stdout",
     "output_type": "stream",
     "text": [
      "Average Cohen Kappa Score for annotation 57: 0.301\n"
     ]
    },
    {
     "data": {
      "text/plain": [
       "0.301"
      ]
     },
     "execution_count": 102,
     "metadata": {},
     "output_type": "execute_result"
    }
   ],
   "source": [
    "cohen_avg_2()"
   ]
  },
  {
   "cell_type": "markdown",
   "metadata": {},
   "source": [
    "### Cohen_kappa average score of annotation 58"
   ]
  },
  {
   "cell_type": "code",
   "execution_count": 103,
   "metadata": {},
   "outputs": [],
   "source": [
    "def cohen_avg_3():\n",
    "    cohen_score_31 = cohen_kappa_score(annotation_3,annotation_1)\n",
    "    cohen_score_32 = cohen_kappa_score(annotation_3,annotation_2)\n",
    "    cohen_score_34 = cohen_kappa_score(annotation_3,annotation_4)\n",
    "    cohen_score_average_3 = round((cohen_score_31 + cohen_score_32 + cohen_score_34)/3,3)\n",
    "    print(\"Average Cohen Kappa Score for annotation 58:\",(cohen_score_average_3))\n",
    "    return cohen_score_average_3"
   ]
  },
  {
   "cell_type": "code",
   "execution_count": 104,
   "metadata": {},
   "outputs": [
    {
     "name": "stdout",
     "output_type": "stream",
     "text": [
      "Average Cohen Kappa Score for annotation 58: 0.195\n"
     ]
    },
    {
     "data": {
      "text/plain": [
       "0.195"
      ]
     },
     "execution_count": 104,
     "metadata": {},
     "output_type": "execute_result"
    }
   ],
   "source": [
    "cohen_avg_3()"
   ]
  },
  {
   "cell_type": "markdown",
   "metadata": {},
   "source": [
    "### Cohen_kappa average score of annotation 59"
   ]
  },
  {
   "cell_type": "code",
   "execution_count": 105,
   "metadata": {},
   "outputs": [],
   "source": [
    "def cohen_avg_4():\n",
    "    cohen_score_41 = cohen_kappa_score(annotation_4,annotation_1)\n",
    "    cohen_score_42 = cohen_kappa_score(annotation_4,annotation_2)\n",
    "    cohen_score_43 = cohen_kappa_score(annotation_4,annotation_3)\n",
    "    cohen_score_average_4 = round((cohen_score_41 + cohen_score_42 + cohen_score_43)/3,3)\n",
    "    print(\"Average Cohen Kappa Score for annotation 59:\",(cohen_score_average_4))\n",
    "    return cohen_score_average_4"
   ]
  },
  {
   "cell_type": "code",
   "execution_count": 106,
   "metadata": {},
   "outputs": [
    {
     "name": "stdout",
     "output_type": "stream",
     "text": [
      "Average Cohen Kappa Score for annotation 59: 0.303\n"
     ]
    },
    {
     "data": {
      "text/plain": [
       "0.303"
      ]
     },
     "execution_count": 106,
     "metadata": {},
     "output_type": "execute_result"
    }
   ],
   "source": [
    "cohen_avg_4()"
   ]
  },
  {
   "cell_type": "markdown",
   "metadata": {},
   "source": [
    "##### If average cohen kappa score for any annotation is less than 0.2, we will drop it"
   ]
  },
  {
   "cell_type": "code",
   "execution_count": 107,
   "metadata": {},
   "outputs": [],
   "source": [
    "def drop_annotate():\n",
    "    average = [cohen_avg_1(), cohen_avg_2(),cohen_avg_3(),cohen_avg_4()]\n",
    "    columns_name = ['annotation_56','annotation_57','annotation_58','annotation_59']\n",
    "    #columns =[annotation_1,annotation_2,annotation_3,annotation_4]\n",
    "    for i in range(0,len(average)):\n",
    "        if average[i]< 0.2:\n",
    "            print(average[i])\n",
    "            df_6.drop(columns_name[i], axis=1, inplace = True)\n",
    "    print(df_6.head())"
   ]
  },
  {
   "cell_type": "code",
   "execution_count": 108,
   "metadata": {},
   "outputs": [
    {
     "name": "stdout",
     "output_type": "stream",
     "text": [
      "Average Cohen Kappa Score for annotation 56: 0.116\n",
      "Average Cohen Kappa Score for annotation 57: 0.301\n",
      "Average Cohen Kappa Score for annotation 58: 0.195\n",
      "Average Cohen Kappa Score for annotation 59: 0.303\n",
      "0.116\n",
      "0.195\n",
      "                                                text  annotation_57  \\\n",
      "0  Federal Judge Rules Against CDC, Throws Out Cr...          False   \n",
      "1  Indeed. Even in the dysfunctional US health sy...          False   \n",
      "2  a vaccine seems to be ESSENTIAL if we are to s...          False   \n",
      "3  Nurses union calls on CDC to reinstate univers...          False   \n",
      "4  Sirf  #MukeshAmbani  Company &amp; it's Worker...          False   \n",
      "\n",
      "   annotation_59  \n",
      "0          False  \n",
      "1          False  \n",
      "2          False  \n",
      "3          False  \n",
      "4          False  \n"
     ]
    }
   ],
   "source": [
    "drop_annotate()"
   ]
  },
  {
   "cell_type": "code",
   "execution_count": null,
   "metadata": {},
   "outputs": [],
   "source": []
  },
  {
   "cell_type": "code",
   "execution_count": null,
   "metadata": {},
   "outputs": [],
   "source": []
  },
  {
   "cell_type": "markdown",
   "metadata": {},
   "source": [
    "## twitter_topic_2_masking_and_distancing.csv"
   ]
  },
  {
   "cell_type": "code",
   "execution_count": 109,
   "metadata": {},
   "outputs": [
    {
     "data": {
      "text/html": [
       "<div>\n",
       "<style scoped>\n",
       "    .dataframe tbody tr th:only-of-type {\n",
       "        vertical-align: middle;\n",
       "    }\n",
       "\n",
       "    .dataframe tbody tr th {\n",
       "        vertical-align: top;\n",
       "    }\n",
       "\n",
       "    .dataframe thead th {\n",
       "        text-align: right;\n",
       "    }\n",
       "</style>\n",
       "<table border=\"1\" class=\"dataframe\">\n",
       "  <thead>\n",
       "    <tr style=\"text-align: right;\">\n",
       "      <th></th>\n",
       "      <th>text</th>\n",
       "      <th>annotation_56</th>\n",
       "      <th>annotation_57</th>\n",
       "      <th>annotation_58</th>\n",
       "      <th>annotation_59</th>\n",
       "    </tr>\n",
       "  </thead>\n",
       "  <tbody>\n",
       "    <tr>\n",
       "      <th>0</th>\n",
       "      <td>Federal Judge Rules Against CDC, Throws Out Cr...</td>\n",
       "      <td>False</td>\n",
       "      <td>False</td>\n",
       "      <td>True</td>\n",
       "      <td>True</td>\n",
       "    </tr>\n",
       "    <tr>\n",
       "      <th>1</th>\n",
       "      <td>Indeed. Even in the dysfunctional US health sy...</td>\n",
       "      <td>False</td>\n",
       "      <td>False</td>\n",
       "      <td>False</td>\n",
       "      <td>False</td>\n",
       "    </tr>\n",
       "    <tr>\n",
       "      <th>2</th>\n",
       "      <td>a vaccine seems to be ESSENTIAL if we are to s...</td>\n",
       "      <td>False</td>\n",
       "      <td>True</td>\n",
       "      <td>False</td>\n",
       "      <td>False</td>\n",
       "    </tr>\n",
       "    <tr>\n",
       "      <th>3</th>\n",
       "      <td>Nurses union calls on CDC to reinstate univers...</td>\n",
       "      <td>True</td>\n",
       "      <td>True</td>\n",
       "      <td>True</td>\n",
       "      <td>True</td>\n",
       "    </tr>\n",
       "    <tr>\n",
       "      <th>4</th>\n",
       "      <td>Sirf  #MukeshAmbani  Company &amp;amp; it's Worker...</td>\n",
       "      <td>False</td>\n",
       "      <td>False</td>\n",
       "      <td>False</td>\n",
       "      <td>False</td>\n",
       "    </tr>\n",
       "  </tbody>\n",
       "</table>\n",
       "</div>"
      ],
      "text/plain": [
       "                                                text  annotation_56  \\\n",
       "0  Federal Judge Rules Against CDC, Throws Out Cr...          False   \n",
       "1  Indeed. Even in the dysfunctional US health sy...          False   \n",
       "2  a vaccine seems to be ESSENTIAL if we are to s...          False   \n",
       "3  Nurses union calls on CDC to reinstate univers...           True   \n",
       "4  Sirf  #MukeshAmbani  Company &amp; it's Worker...          False   \n",
       "\n",
       "   annotation_57  annotation_58  annotation_59  \n",
       "0          False           True           True  \n",
       "1          False          False          False  \n",
       "2           True          False          False  \n",
       "3           True           True           True  \n",
       "4          False          False          False  "
      ]
     },
     "execution_count": 109,
     "metadata": {},
     "output_type": "execute_result"
    }
   ],
   "source": [
    "df_7 = pd.read_csv(r'twitter_topic\\twitter_topic_2_masking_and_distancing.csv')\n",
    "df_7.head()"
   ]
  },
  {
   "cell_type": "code",
   "execution_count": 110,
   "metadata": {},
   "outputs": [
    {
     "name": "stdout",
     "output_type": "stream",
     "text": [
      "0\n",
      "0\n",
      "0\n",
      "0\n",
      "0\n"
     ]
    }
   ],
   "source": [
    "print(df_7['annotation_56'].isnull().sum())\n",
    "print(df_7['annotation_57'].isnull().sum())\n",
    "print(df_7['annotation_58'].isnull().sum())\n",
    "print(df_7['annotation_59'].isnull().sum())\n",
    "print(df_7['text'].isnull().sum())"
   ]
  },
  {
   "cell_type": "code",
   "execution_count": 111,
   "metadata": {},
   "outputs": [],
   "source": [
    "annotation_1= df_7['annotation_56']\n",
    "annotation_2= df_7['annotation_57']\n",
    "annotation_3= df_7['annotation_58']\n",
    "annotation_4= df_7['annotation_59']"
   ]
  },
  {
   "cell_type": "markdown",
   "metadata": {},
   "source": [
    "### Cohen_kappa average score of annotation 56"
   ]
  },
  {
   "cell_type": "code",
   "execution_count": 112,
   "metadata": {},
   "outputs": [],
   "source": [
    "def cohen_avg_1():\n",
    "    cohen_score_12 = cohen_kappa_score(annotation_1,annotation_2)\n",
    "    cohen_score_13 = cohen_kappa_score(annotation_1,annotation_3)\n",
    "    cohen_score_14 = cohen_kappa_score(annotation_1,annotation_4)\n",
    "    cohen_score_average_1 = round((cohen_score_12 + cohen_score_13 + cohen_score_14)/3,3)\n",
    "    print(\"Average Cohen Kappa Score for annotation 56:\",(cohen_score_average_1))\n",
    "    return cohen_score_average_1"
   ]
  },
  {
   "cell_type": "code",
   "execution_count": 113,
   "metadata": {},
   "outputs": [
    {
     "name": "stdout",
     "output_type": "stream",
     "text": [
      "Average Cohen Kappa Score for annotation 56: 0.635\n"
     ]
    },
    {
     "data": {
      "text/plain": [
       "0.635"
      ]
     },
     "execution_count": 113,
     "metadata": {},
     "output_type": "execute_result"
    }
   ],
   "source": [
    "cohen_avg_1()"
   ]
  },
  {
   "cell_type": "markdown",
   "metadata": {},
   "source": [
    "### Cohen_kappa average score of annotation 57"
   ]
  },
  {
   "cell_type": "code",
   "execution_count": 114,
   "metadata": {},
   "outputs": [],
   "source": [
    "def cohen_avg_2():\n",
    "    cohen_score_21 = cohen_kappa_score(annotation_2,annotation_1)\n",
    "    cohen_score_23 = cohen_kappa_score(annotation_2,annotation_3)\n",
    "    cohen_score_24 = cohen_kappa_score(annotation_2,annotation_4)\n",
    "    cohen_score_average_2 = round((cohen_score_21 + cohen_score_23 + cohen_score_24)/3,3)\n",
    "    print(\"Average Cohen Kappa Score for annotation 57:\",(cohen_score_average_2))\n",
    "    return cohen_score_average_2"
   ]
  },
  {
   "cell_type": "code",
   "execution_count": 115,
   "metadata": {},
   "outputs": [
    {
     "name": "stdout",
     "output_type": "stream",
     "text": [
      "Average Cohen Kappa Score for annotation 57: 0.603\n"
     ]
    },
    {
     "data": {
      "text/plain": [
       "0.603"
      ]
     },
     "execution_count": 115,
     "metadata": {},
     "output_type": "execute_result"
    }
   ],
   "source": [
    "cohen_avg_2()"
   ]
  },
  {
   "cell_type": "markdown",
   "metadata": {},
   "source": [
    "### Cohen_kappa average score of annotation 58"
   ]
  },
  {
   "cell_type": "code",
   "execution_count": 116,
   "metadata": {},
   "outputs": [],
   "source": [
    "def cohen_avg_3():\n",
    "    cohen_score_31 = cohen_kappa_score(annotation_3,annotation_1)\n",
    "    cohen_score_32 = cohen_kappa_score(annotation_3,annotation_2)\n",
    "    cohen_score_34 = cohen_kappa_score(annotation_3,annotation_4)\n",
    "    cohen_score_average_3 = round((cohen_score_31 + cohen_score_32 + cohen_score_34)/3,3)\n",
    "    print(\"Average Cohen Kappa Score for annotation 58:\",(cohen_score_average_3))\n",
    "    return cohen_score_average_3"
   ]
  },
  {
   "cell_type": "code",
   "execution_count": 117,
   "metadata": {},
   "outputs": [
    {
     "name": "stdout",
     "output_type": "stream",
     "text": [
      "Average Cohen Kappa Score for annotation 58: 0.564\n"
     ]
    },
    {
     "data": {
      "text/plain": [
       "0.564"
      ]
     },
     "execution_count": 117,
     "metadata": {},
     "output_type": "execute_result"
    }
   ],
   "source": [
    "cohen_avg_3()"
   ]
  },
  {
   "cell_type": "markdown",
   "metadata": {},
   "source": [
    "### Cohen_kappa average score of annotation 59"
   ]
  },
  {
   "cell_type": "code",
   "execution_count": 118,
   "metadata": {},
   "outputs": [],
   "source": [
    "def cohen_avg_4():\n",
    "    cohen_score_41 = cohen_kappa_score(annotation_4,annotation_1)\n",
    "    cohen_score_42 = cohen_kappa_score(annotation_4,annotation_2)\n",
    "    cohen_score_43 = cohen_kappa_score(annotation_4,annotation_3)\n",
    "    cohen_score_average_4 = round((cohen_score_41 + cohen_score_42 + cohen_score_43)/3,3)\n",
    "    print(\"Average Cohen Kappa Score for annotation 59:\",(cohen_score_average_4))\n",
    "    return cohen_score_average_4"
   ]
  },
  {
   "cell_type": "code",
   "execution_count": 119,
   "metadata": {},
   "outputs": [
    {
     "name": "stdout",
     "output_type": "stream",
     "text": [
      "Average Cohen Kappa Score for annotation 59: 0.663\n"
     ]
    },
    {
     "data": {
      "text/plain": [
       "0.663"
      ]
     },
     "execution_count": 119,
     "metadata": {},
     "output_type": "execute_result"
    }
   ],
   "source": [
    "cohen_avg_4()"
   ]
  },
  {
   "cell_type": "markdown",
   "metadata": {},
   "source": [
    "##### If average cohen kappa score for any annotation is less than 0.2, we will drop it"
   ]
  },
  {
   "cell_type": "code",
   "execution_count": 120,
   "metadata": {},
   "outputs": [],
   "source": [
    "def drop_annotate():\n",
    "    average = [cohen_avg_1(), cohen_avg_2(),cohen_avg_3(),cohen_avg_4()]\n",
    "    columns_name = ['annotation_56','annotation_57','annotation_58','annotation_59']\n",
    "    #columns =[annotation_1,annotation_2,annotation_3,annotation_4]\n",
    "    for i in range(0,len(average)):\n",
    "        if average[i]< 0.2:\n",
    "            print(average[i])\n",
    "            df_7.drop(columns_name[i], axis=1, inplace = True)\n",
    "    print(df_7.head())"
   ]
  },
  {
   "cell_type": "code",
   "execution_count": 121,
   "metadata": {},
   "outputs": [
    {
     "name": "stdout",
     "output_type": "stream",
     "text": [
      "Average Cohen Kappa Score for annotation 56: 0.635\n",
      "Average Cohen Kappa Score for annotation 57: 0.603\n",
      "Average Cohen Kappa Score for annotation 58: 0.564\n",
      "Average Cohen Kappa Score for annotation 59: 0.663\n",
      "                                                text  annotation_56  \\\n",
      "0  Federal Judge Rules Against CDC, Throws Out Cr...          False   \n",
      "1  Indeed. Even in the dysfunctional US health sy...          False   \n",
      "2  a vaccine seems to be ESSENTIAL if we are to s...          False   \n",
      "3  Nurses union calls on CDC to reinstate univers...           True   \n",
      "4  Sirf  #MukeshAmbani  Company &amp; it's Worker...          False   \n",
      "\n",
      "   annotation_57  annotation_58  annotation_59  \n",
      "0          False           True           True  \n",
      "1          False          False          False  \n",
      "2           True          False          False  \n",
      "3           True           True           True  \n",
      "4          False          False          False  \n"
     ]
    }
   ],
   "source": [
    "drop_annotate()"
   ]
  },
  {
   "cell_type": "code",
   "execution_count": null,
   "metadata": {},
   "outputs": [],
   "source": []
  },
  {
   "cell_type": "markdown",
   "metadata": {},
   "source": [
    "## twitter_topic_2_vaccination.csv"
   ]
  },
  {
   "cell_type": "code",
   "execution_count": 122,
   "metadata": {},
   "outputs": [
    {
     "data": {
      "text/html": [
       "<div>\n",
       "<style scoped>\n",
       "    .dataframe tbody tr th:only-of-type {\n",
       "        vertical-align: middle;\n",
       "    }\n",
       "\n",
       "    .dataframe tbody tr th {\n",
       "        vertical-align: top;\n",
       "    }\n",
       "\n",
       "    .dataframe thead th {\n",
       "        text-align: right;\n",
       "    }\n",
       "</style>\n",
       "<table border=\"1\" class=\"dataframe\">\n",
       "  <thead>\n",
       "    <tr style=\"text-align: right;\">\n",
       "      <th></th>\n",
       "      <th>text</th>\n",
       "      <th>annotation_56</th>\n",
       "      <th>annotation_57</th>\n",
       "      <th>annotation_58</th>\n",
       "      <th>annotation_59</th>\n",
       "    </tr>\n",
       "  </thead>\n",
       "  <tbody>\n",
       "    <tr>\n",
       "      <th>0</th>\n",
       "      <td>Federal Judge Rules Against CDC, Throws Out Cr...</td>\n",
       "      <td>False</td>\n",
       "      <td>False</td>\n",
       "      <td>False</td>\n",
       "      <td>False</td>\n",
       "    </tr>\n",
       "    <tr>\n",
       "      <th>1</th>\n",
       "      <td>Indeed. Even in the dysfunctional US health sy...</td>\n",
       "      <td>True</td>\n",
       "      <td>True</td>\n",
       "      <td>True</td>\n",
       "      <td>True</td>\n",
       "    </tr>\n",
       "    <tr>\n",
       "      <th>2</th>\n",
       "      <td>a vaccine seems to be ESSENTIAL if we are to s...</td>\n",
       "      <td>True</td>\n",
       "      <td>False</td>\n",
       "      <td>True</td>\n",
       "      <td>True</td>\n",
       "    </tr>\n",
       "    <tr>\n",
       "      <th>3</th>\n",
       "      <td>Nurses union calls on CDC to reinstate univers...</td>\n",
       "      <td>False</td>\n",
       "      <td>False</td>\n",
       "      <td>False</td>\n",
       "      <td>False</td>\n",
       "    </tr>\n",
       "    <tr>\n",
       "      <th>4</th>\n",
       "      <td>Sirf  #MukeshAmbani  Company &amp;amp; it's Worker...</td>\n",
       "      <td>False</td>\n",
       "      <td>False</td>\n",
       "      <td>False</td>\n",
       "      <td>False</td>\n",
       "    </tr>\n",
       "  </tbody>\n",
       "</table>\n",
       "</div>"
      ],
      "text/plain": [
       "                                                text  annotation_56  \\\n",
       "0  Federal Judge Rules Against CDC, Throws Out Cr...          False   \n",
       "1  Indeed. Even in the dysfunctional US health sy...           True   \n",
       "2  a vaccine seems to be ESSENTIAL if we are to s...           True   \n",
       "3  Nurses union calls on CDC to reinstate univers...          False   \n",
       "4  Sirf  #MukeshAmbani  Company &amp; it's Worker...          False   \n",
       "\n",
       "   annotation_57  annotation_58  annotation_59  \n",
       "0          False          False          False  \n",
       "1           True           True           True  \n",
       "2          False           True           True  \n",
       "3          False          False          False  \n",
       "4          False          False          False  "
      ]
     },
     "execution_count": 122,
     "metadata": {},
     "output_type": "execute_result"
    }
   ],
   "source": [
    "df_8 = pd.read_csv(r'twitter_topic\\twitter_topic_2_vaccination.csv')\n",
    "df_8.head()"
   ]
  },
  {
   "cell_type": "code",
   "execution_count": 123,
   "metadata": {},
   "outputs": [
    {
     "name": "stdout",
     "output_type": "stream",
     "text": [
      "0\n",
      "0\n",
      "0\n",
      "0\n",
      "0\n"
     ]
    }
   ],
   "source": [
    "print(df_8['annotation_56'].isnull().sum())\n",
    "print(df_8['annotation_57'].isnull().sum())\n",
    "print(df_8['annotation_58'].isnull().sum())\n",
    "print(df_8['annotation_59'].isnull().sum())\n",
    "print(df_8['text'].isnull().sum())"
   ]
  },
  {
   "cell_type": "code",
   "execution_count": 124,
   "metadata": {},
   "outputs": [],
   "source": [
    "annotation_1= df_8['annotation_56']\n",
    "annotation_2= df_8['annotation_57']\n",
    "annotation_3= df_8['annotation_58']\n",
    "annotation_4= df_8['annotation_59']"
   ]
  },
  {
   "cell_type": "markdown",
   "metadata": {},
   "source": [
    "### Cohen_kappa average score of annotation 56"
   ]
  },
  {
   "cell_type": "code",
   "execution_count": 125,
   "metadata": {},
   "outputs": [],
   "source": [
    "def cohen_avg_1():\n",
    "    cohen_score_12 = cohen_kappa_score(annotation_1,annotation_2)\n",
    "    cohen_score_13 = cohen_kappa_score(annotation_1,annotation_3)\n",
    "    cohen_score_14 = cohen_kappa_score(annotation_1,annotation_4)\n",
    "    cohen_score_average_1 = round((cohen_score_12 + cohen_score_13 + cohen_score_14)/3,3)\n",
    "    print(\"Average Cohen Kappa Score for annotation 56:\",(cohen_score_average_1))\n",
    "    return cohen_score_average_1"
   ]
  },
  {
   "cell_type": "code",
   "execution_count": 126,
   "metadata": {},
   "outputs": [
    {
     "name": "stdout",
     "output_type": "stream",
     "text": [
      "Average Cohen Kappa Score for annotation 56: 0.69\n"
     ]
    },
    {
     "data": {
      "text/plain": [
       "0.69"
      ]
     },
     "execution_count": 126,
     "metadata": {},
     "output_type": "execute_result"
    }
   ],
   "source": [
    "cohen_avg_1()"
   ]
  },
  {
   "cell_type": "markdown",
   "metadata": {},
   "source": [
    "### Cohen_kappa average score of annotation 57"
   ]
  },
  {
   "cell_type": "code",
   "execution_count": 127,
   "metadata": {},
   "outputs": [],
   "source": [
    "def cohen_avg_2():\n",
    "    cohen_score_21 = cohen_kappa_score(annotation_2,annotation_1)\n",
    "    cohen_score_23 = cohen_kappa_score(annotation_2,annotation_3)\n",
    "    cohen_score_24 = cohen_kappa_score(annotation_2,annotation_4)\n",
    "    cohen_score_average_2 = round((cohen_score_21 + cohen_score_23 + cohen_score_24)/3,3)\n",
    "    print(\"Average Cohen Kappa Score for annotation 57:\",(cohen_score_average_2))\n",
    "    return cohen_score_average_2"
   ]
  },
  {
   "cell_type": "code",
   "execution_count": 128,
   "metadata": {},
   "outputs": [
    {
     "name": "stdout",
     "output_type": "stream",
     "text": [
      "Average Cohen Kappa Score for annotation 57: 0.695\n"
     ]
    },
    {
     "data": {
      "text/plain": [
       "0.695"
      ]
     },
     "execution_count": 128,
     "metadata": {},
     "output_type": "execute_result"
    }
   ],
   "source": [
    "cohen_avg_2()"
   ]
  },
  {
   "cell_type": "markdown",
   "metadata": {},
   "source": [
    "### Cohen_kappa average score of annotation 58"
   ]
  },
  {
   "cell_type": "code",
   "execution_count": 129,
   "metadata": {},
   "outputs": [],
   "source": [
    "def cohen_avg_3():\n",
    "    cohen_score_31 = cohen_kappa_score(annotation_3,annotation_1)\n",
    "    cohen_score_32 = cohen_kappa_score(annotation_3,annotation_2)\n",
    "    cohen_score_34 = cohen_kappa_score(annotation_3,annotation_4)\n",
    "    cohen_score_average_3 = round((cohen_score_31 + cohen_score_32 + cohen_score_34)/3,3)\n",
    "    print(\"Average Cohen Kappa Score for annotation 58:\",(cohen_score_average_3))\n",
    "    return cohen_score_average_3"
   ]
  },
  {
   "cell_type": "code",
   "execution_count": 130,
   "metadata": {},
   "outputs": [
    {
     "name": "stdout",
     "output_type": "stream",
     "text": [
      "Average Cohen Kappa Score for annotation 58: 0.585\n"
     ]
    },
    {
     "data": {
      "text/plain": [
       "0.585"
      ]
     },
     "execution_count": 130,
     "metadata": {},
     "output_type": "execute_result"
    }
   ],
   "source": [
    "cohen_avg_3()"
   ]
  },
  {
   "cell_type": "markdown",
   "metadata": {},
   "source": [
    "### Cohen_kappa average score of annotation 59"
   ]
  },
  {
   "cell_type": "code",
   "execution_count": 131,
   "metadata": {},
   "outputs": [],
   "source": [
    "def cohen_avg_4():\n",
    "    cohen_score_41 = cohen_kappa_score(annotation_4,annotation_1)\n",
    "    cohen_score_42 = cohen_kappa_score(annotation_4,annotation_2)\n",
    "    cohen_score_43 = cohen_kappa_score(annotation_4,annotation_3)\n",
    "    cohen_score_average_4 = round((cohen_score_41 + cohen_score_42 + cohen_score_43)/3,3)\n",
    "    print(\"Average Cohen Kappa Score for annotation 59:\",(cohen_score_average_4))\n",
    "    return cohen_score_average_4"
   ]
  },
  {
   "cell_type": "code",
   "execution_count": 132,
   "metadata": {},
   "outputs": [
    {
     "name": "stdout",
     "output_type": "stream",
     "text": [
      "Average Cohen Kappa Score for annotation 59: 0.737\n"
     ]
    },
    {
     "data": {
      "text/plain": [
       "0.737"
      ]
     },
     "execution_count": 132,
     "metadata": {},
     "output_type": "execute_result"
    }
   ],
   "source": [
    "cohen_avg_4()"
   ]
  },
  {
   "cell_type": "markdown",
   "metadata": {},
   "source": [
    "##### If average cohen kappa score for any annotation is less than 0.2, we will drop it"
   ]
  },
  {
   "cell_type": "code",
   "execution_count": 133,
   "metadata": {},
   "outputs": [],
   "source": [
    "def drop_annotate():\n",
    "    average = [cohen_avg_1(), cohen_avg_2(),cohen_avg_3(),cohen_avg_4()]\n",
    "    columns_name = ['annotation_56','annotation_57','annotation_58','annotation_59']\n",
    "    #columns =[annotation_1,annotation_2,annotation_3,annotation_4]\n",
    "    for i in range(0,len(average)):\n",
    "        if average[i]< 0.2:\n",
    "            print(average[i])\n",
    "            df_8.drop(columns_name[i], axis=1, inplace = True)\n",
    "    print(df_8.head())"
   ]
  },
  {
   "cell_type": "code",
   "execution_count": 134,
   "metadata": {},
   "outputs": [
    {
     "name": "stdout",
     "output_type": "stream",
     "text": [
      "Average Cohen Kappa Score for annotation 56: 0.69\n",
      "Average Cohen Kappa Score for annotation 57: 0.695\n",
      "Average Cohen Kappa Score for annotation 58: 0.585\n",
      "Average Cohen Kappa Score for annotation 59: 0.737\n",
      "                                                text  annotation_56  \\\n",
      "0  Federal Judge Rules Against CDC, Throws Out Cr...          False   \n",
      "1  Indeed. Even in the dysfunctional US health sy...           True   \n",
      "2  a vaccine seems to be ESSENTIAL if we are to s...           True   \n",
      "3  Nurses union calls on CDC to reinstate univers...          False   \n",
      "4  Sirf  #MukeshAmbani  Company &amp; it's Worker...          False   \n",
      "\n",
      "   annotation_57  annotation_58  annotation_59  \n",
      "0          False          False          False  \n",
      "1           True           True           True  \n",
      "2          False           True           True  \n",
      "3          False          False          False  \n",
      "4          False          False          False  \n"
     ]
    }
   ],
   "source": [
    "drop_annotate()"
   ]
  },
  {
   "cell_type": "code",
   "execution_count": null,
   "metadata": {},
   "outputs": [],
   "source": []
  },
  {
   "cell_type": "markdown",
   "metadata": {},
   "source": [
    "## twitter_topic_3_lockdowns.csv"
   ]
  },
  {
   "cell_type": "code",
   "execution_count": 135,
   "metadata": {},
   "outputs": [
    {
     "data": {
      "text/html": [
       "<div>\n",
       "<style scoped>\n",
       "    .dataframe tbody tr th:only-of-type {\n",
       "        vertical-align: middle;\n",
       "    }\n",
       "\n",
       "    .dataframe tbody tr th {\n",
       "        vertical-align: top;\n",
       "    }\n",
       "\n",
       "    .dataframe thead th {\n",
       "        text-align: right;\n",
       "    }\n",
       "</style>\n",
       "<table border=\"1\" class=\"dataframe\">\n",
       "  <thead>\n",
       "    <tr style=\"text-align: right;\">\n",
       "      <th></th>\n",
       "      <th>text</th>\n",
       "      <th>annotation_91</th>\n",
       "      <th>annotation_85</th>\n",
       "      <th>annotation_86</th>\n",
       "      <th>annotation_87</th>\n",
       "    </tr>\n",
       "  </thead>\n",
       "  <tbody>\n",
       "    <tr>\n",
       "      <th>0</th>\n",
       "      <td>Bad news. Johnson &amp;amp; Johnson pauses #CovidV...</td>\n",
       "      <td>False</td>\n",
       "      <td>False</td>\n",
       "      <td>False</td>\n",
       "      <td>False</td>\n",
       "    </tr>\n",
       "    <tr>\n",
       "      <th>1</th>\n",
       "      <td>Saw this on TV and you women Need to work with...</td>\n",
       "      <td>False</td>\n",
       "      <td>False</td>\n",
       "      <td>False</td>\n",
       "      <td>True</td>\n",
       "    </tr>\n",
       "    <tr>\n",
       "      <th>2</th>\n",
       "      <td>Two Indian vaccine candidates against COVID-19...</td>\n",
       "      <td>False</td>\n",
       "      <td>False</td>\n",
       "      <td>False</td>\n",
       "      <td>False</td>\n",
       "    </tr>\n",
       "    <tr>\n",
       "      <th>3</th>\n",
       "      <td>The point is media &amp;amp; govt lie abt the numb...</td>\n",
       "      <td>False</td>\n",
       "      <td>False</td>\n",
       "      <td>False</td>\n",
       "      <td>False</td>\n",
       "    </tr>\n",
       "    <tr>\n",
       "      <th>4</th>\n",
       "      <td>California students will continue wearing mask...</td>\n",
       "      <td>False</td>\n",
       "      <td>True</td>\n",
       "      <td>False</td>\n",
       "      <td>False</td>\n",
       "    </tr>\n",
       "  </tbody>\n",
       "</table>\n",
       "</div>"
      ],
      "text/plain": [
       "                                                text  annotation_91  \\\n",
       "0  Bad news. Johnson &amp; Johnson pauses #CovidV...          False   \n",
       "1  Saw this on TV and you women Need to work with...          False   \n",
       "2  Two Indian vaccine candidates against COVID-19...          False   \n",
       "3  The point is media &amp; govt lie abt the numb...          False   \n",
       "4  California students will continue wearing mask...          False   \n",
       "\n",
       "   annotation_85  annotation_86  annotation_87  \n",
       "0          False          False          False  \n",
       "1          False          False           True  \n",
       "2          False          False          False  \n",
       "3          False          False          False  \n",
       "4           True          False          False  "
      ]
     },
     "execution_count": 135,
     "metadata": {},
     "output_type": "execute_result"
    }
   ],
   "source": [
    "df_9 = pd.read_csv(r'twitter_topic\\twitter_topic_3_lockdowns.csv')\n",
    "df_9.head()"
   ]
  },
  {
   "cell_type": "code",
   "execution_count": 136,
   "metadata": {},
   "outputs": [
    {
     "name": "stdout",
     "output_type": "stream",
     "text": [
      "0\n",
      "0\n",
      "0\n",
      "0\n",
      "0\n"
     ]
    }
   ],
   "source": [
    "print(df_9['annotation_85'].isnull().sum())\n",
    "print(df_9['annotation_86'].isnull().sum())\n",
    "print(df_9['annotation_87'].isnull().sum())\n",
    "print(df_9['annotation_91'].isnull().sum())\n",
    "print(df_9['text'].isnull().sum())"
   ]
  },
  {
   "cell_type": "code",
   "execution_count": 137,
   "metadata": {},
   "outputs": [],
   "source": [
    "annotation_1= df_9['annotation_85']\n",
    "annotation_2= df_9['annotation_86']\n",
    "annotation_3= df_9['annotation_87']\n",
    "annotation_4= df_9['annotation_91']"
   ]
  },
  {
   "cell_type": "markdown",
   "metadata": {},
   "source": [
    "### Cohen_kappa average score of annotation 85"
   ]
  },
  {
   "cell_type": "code",
   "execution_count": 138,
   "metadata": {},
   "outputs": [],
   "source": [
    "def cohen_avg_1():\n",
    "    cohen_score_12 = cohen_kappa_score(annotation_1,annotation_2)\n",
    "    cohen_score_13 = cohen_kappa_score(annotation_1,annotation_3)\n",
    "    cohen_score_14 = cohen_kappa_score(annotation_1,annotation_4)\n",
    "    cohen_score_average_1 = round((cohen_score_12 + cohen_score_13 + cohen_score_14)/3,3)\n",
    "    print(\"Average Cohen Kappa Score for annotation 85:\",(cohen_score_average_1))\n",
    "    return cohen_score_average_1"
   ]
  },
  {
   "cell_type": "code",
   "execution_count": 139,
   "metadata": {},
   "outputs": [
    {
     "name": "stdout",
     "output_type": "stream",
     "text": [
      "Average Cohen Kappa Score for annotation 85: 0.218\n"
     ]
    },
    {
     "data": {
      "text/plain": [
       "0.218"
      ]
     },
     "execution_count": 139,
     "metadata": {},
     "output_type": "execute_result"
    }
   ],
   "source": [
    "cohen_avg_1()"
   ]
  },
  {
   "cell_type": "markdown",
   "metadata": {},
   "source": [
    "### Cohen_kappa average score of annotation 86"
   ]
  },
  {
   "cell_type": "code",
   "execution_count": 140,
   "metadata": {},
   "outputs": [],
   "source": [
    "def cohen_avg_2():\n",
    "    cohen_score_21 = cohen_kappa_score(annotation_2,annotation_1)\n",
    "    cohen_score_23 = cohen_kappa_score(annotation_2,annotation_3)\n",
    "    cohen_score_24 = cohen_kappa_score(annotation_2,annotation_4)\n",
    "    cohen_score_average_2 = round((cohen_score_21 + cohen_score_23 + cohen_score_24)/3,3)\n",
    "    print(\"Average Cohen Kappa Score for annotation 86:\",(cohen_score_average_2))\n",
    "    return cohen_score_average_2"
   ]
  },
  {
   "cell_type": "code",
   "execution_count": 141,
   "metadata": {},
   "outputs": [
    {
     "name": "stdout",
     "output_type": "stream",
     "text": [
      "Average Cohen Kappa Score for annotation 86: 0.192\n"
     ]
    },
    {
     "data": {
      "text/plain": [
       "0.192"
      ]
     },
     "execution_count": 141,
     "metadata": {},
     "output_type": "execute_result"
    }
   ],
   "source": [
    "cohen_avg_2()"
   ]
  },
  {
   "cell_type": "markdown",
   "metadata": {},
   "source": [
    "### Cohen_kappa average score of annotation 87"
   ]
  },
  {
   "cell_type": "code",
   "execution_count": 142,
   "metadata": {},
   "outputs": [],
   "source": [
    "def cohen_avg_3():\n",
    "    cohen_score_31 = cohen_kappa_score(annotation_3,annotation_1)\n",
    "    cohen_score_32 = cohen_kappa_score(annotation_3,annotation_2)\n",
    "    cohen_score_34 = cohen_kappa_score(annotation_3,annotation_4)\n",
    "    cohen_score_average_3 = round((cohen_score_31 + cohen_score_32 + cohen_score_34)/3,3)\n",
    "    print(\"Average Cohen Kappa Score for annotation 87:\",(cohen_score_average_3))\n",
    "    return cohen_score_average_3"
   ]
  },
  {
   "cell_type": "code",
   "execution_count": 143,
   "metadata": {},
   "outputs": [
    {
     "name": "stdout",
     "output_type": "stream",
     "text": [
      "Average Cohen Kappa Score for annotation 87: 0.261\n"
     ]
    },
    {
     "data": {
      "text/plain": [
       "0.261"
      ]
     },
     "execution_count": 143,
     "metadata": {},
     "output_type": "execute_result"
    }
   ],
   "source": [
    "cohen_avg_3()"
   ]
  },
  {
   "cell_type": "markdown",
   "metadata": {},
   "source": [
    "### Cohen_kappa average score of annotation 91"
   ]
  },
  {
   "cell_type": "code",
   "execution_count": 144,
   "metadata": {},
   "outputs": [],
   "source": [
    "def cohen_avg_4():\n",
    "    cohen_score_41 = cohen_kappa_score(annotation_4,annotation_1)\n",
    "    cohen_score_42 = cohen_kappa_score(annotation_4,annotation_2)\n",
    "    cohen_score_43 = cohen_kappa_score(annotation_4,annotation_3)\n",
    "    cohen_score_average_4 = round((cohen_score_41 + cohen_score_42 + cohen_score_43)/3,3)\n",
    "    print(\"Average Cohen Kappa Score for annotation 91:\",(cohen_score_average_4))\n",
    "    return cohen_score_average_4"
   ]
  },
  {
   "cell_type": "code",
   "execution_count": 145,
   "metadata": {},
   "outputs": [
    {
     "name": "stdout",
     "output_type": "stream",
     "text": [
      "Average Cohen Kappa Score for annotation 91: 0.328\n"
     ]
    },
    {
     "data": {
      "text/plain": [
       "0.328"
      ]
     },
     "execution_count": 145,
     "metadata": {},
     "output_type": "execute_result"
    }
   ],
   "source": [
    "cohen_avg_4()"
   ]
  },
  {
   "cell_type": "markdown",
   "metadata": {},
   "source": [
    "##### If average cohen kappa score for any annotation is less than 0.2, we will drop it"
   ]
  },
  {
   "cell_type": "code",
   "execution_count": 146,
   "metadata": {},
   "outputs": [],
   "source": [
    "def drop_annotate():\n",
    "    average = [cohen_avg_1(), cohen_avg_2(),cohen_avg_3(),cohen_avg_4()]\n",
    "    columns_name = ['annotation_85','annotation_86','annotation_87','annotation_91']\n",
    "    #columns =[annotation_1,annotation_2,annotation_3,annotation_4]\n",
    "    for i in range(0,len(average)):\n",
    "        if average[i]< 0.2:\n",
    "            print(average[i])\n",
    "            df_9.drop(columns_name[i], axis=1, inplace = True)\n",
    "    print(df_9.head())"
   ]
  },
  {
   "cell_type": "code",
   "execution_count": 147,
   "metadata": {},
   "outputs": [
    {
     "name": "stdout",
     "output_type": "stream",
     "text": [
      "Average Cohen Kappa Score for annotation 85: 0.218\n",
      "Average Cohen Kappa Score for annotation 86: 0.192\n",
      "Average Cohen Kappa Score for annotation 87: 0.261\n",
      "Average Cohen Kappa Score for annotation 91: 0.328\n",
      "0.192\n",
      "                                                text  annotation_91  \\\n",
      "0  Bad news. Johnson &amp; Johnson pauses #CovidV...          False   \n",
      "1  Saw this on TV and you women Need to work with...          False   \n",
      "2  Two Indian vaccine candidates against COVID-19...          False   \n",
      "3  The point is media &amp; govt lie abt the numb...          False   \n",
      "4  California students will continue wearing mask...          False   \n",
      "\n",
      "   annotation_85  annotation_87  \n",
      "0          False          False  \n",
      "1          False           True  \n",
      "2          False          False  \n",
      "3          False          False  \n",
      "4           True          False  \n"
     ]
    }
   ],
   "source": [
    "drop_annotate()"
   ]
  },
  {
   "cell_type": "markdown",
   "metadata": {},
   "source": [
    "## twitter_topic_3_masking_and_distancing.csv"
   ]
  },
  {
   "cell_type": "code",
   "execution_count": 148,
   "metadata": {},
   "outputs": [
    {
     "data": {
      "text/html": [
       "<div>\n",
       "<style scoped>\n",
       "    .dataframe tbody tr th:only-of-type {\n",
       "        vertical-align: middle;\n",
       "    }\n",
       "\n",
       "    .dataframe tbody tr th {\n",
       "        vertical-align: top;\n",
       "    }\n",
       "\n",
       "    .dataframe thead th {\n",
       "        text-align: right;\n",
       "    }\n",
       "</style>\n",
       "<table border=\"1\" class=\"dataframe\">\n",
       "  <thead>\n",
       "    <tr style=\"text-align: right;\">\n",
       "      <th></th>\n",
       "      <th>text</th>\n",
       "      <th>annotation_91</th>\n",
       "      <th>annotation_85</th>\n",
       "      <th>annotation_86</th>\n",
       "      <th>annotation_87</th>\n",
       "    </tr>\n",
       "  </thead>\n",
       "  <tbody>\n",
       "    <tr>\n",
       "      <th>0</th>\n",
       "      <td>Bad news. Johnson &amp;amp; Johnson pauses #CovidV...</td>\n",
       "      <td>False</td>\n",
       "      <td>False</td>\n",
       "      <td>False</td>\n",
       "      <td>False</td>\n",
       "    </tr>\n",
       "    <tr>\n",
       "      <th>1</th>\n",
       "      <td>Saw this on TV and you women Need to work with...</td>\n",
       "      <td>True</td>\n",
       "      <td>True</td>\n",
       "      <td>True</td>\n",
       "      <td>True</td>\n",
       "    </tr>\n",
       "    <tr>\n",
       "      <th>2</th>\n",
       "      <td>Two Indian vaccine candidates against COVID-19...</td>\n",
       "      <td>False</td>\n",
       "      <td>False</td>\n",
       "      <td>False</td>\n",
       "      <td>False</td>\n",
       "    </tr>\n",
       "    <tr>\n",
       "      <th>3</th>\n",
       "      <td>The point is media &amp;amp; govt lie abt the numb...</td>\n",
       "      <td>False</td>\n",
       "      <td>False</td>\n",
       "      <td>False</td>\n",
       "      <td>False</td>\n",
       "    </tr>\n",
       "    <tr>\n",
       "      <th>4</th>\n",
       "      <td>California students will continue wearing mask...</td>\n",
       "      <td>True</td>\n",
       "      <td>True</td>\n",
       "      <td>True</td>\n",
       "      <td>True</td>\n",
       "    </tr>\n",
       "  </tbody>\n",
       "</table>\n",
       "</div>"
      ],
      "text/plain": [
       "                                                text  annotation_91  \\\n",
       "0  Bad news. Johnson &amp; Johnson pauses #CovidV...          False   \n",
       "1  Saw this on TV and you women Need to work with...           True   \n",
       "2  Two Indian vaccine candidates against COVID-19...          False   \n",
       "3  The point is media &amp; govt lie abt the numb...          False   \n",
       "4  California students will continue wearing mask...           True   \n",
       "\n",
       "   annotation_85  annotation_86  annotation_87  \n",
       "0          False          False          False  \n",
       "1           True           True           True  \n",
       "2          False          False          False  \n",
       "3          False          False          False  \n",
       "4           True           True           True  "
      ]
     },
     "execution_count": 148,
     "metadata": {},
     "output_type": "execute_result"
    }
   ],
   "source": [
    "df_10 = pd.read_csv(r'twitter_topic\\twitter_topic_3_masking_and_distancing.csv')\n",
    "df_10.head()"
   ]
  },
  {
   "cell_type": "code",
   "execution_count": 149,
   "metadata": {},
   "outputs": [
    {
     "name": "stdout",
     "output_type": "stream",
     "text": [
      "0\n",
      "0\n",
      "0\n",
      "0\n",
      "0\n"
     ]
    }
   ],
   "source": [
    "print(df_10['annotation_85'].isnull().sum())\n",
    "print(df_10['annotation_86'].isnull().sum())\n",
    "print(df_10['annotation_87'].isnull().sum())\n",
    "print(df_10['annotation_91'].isnull().sum())\n",
    "print(df_10['text'].isnull().sum())"
   ]
  },
  {
   "cell_type": "code",
   "execution_count": 150,
   "metadata": {},
   "outputs": [],
   "source": [
    "annotation_1= df_10['annotation_85']\n",
    "annotation_2= df_10['annotation_86']\n",
    "annotation_3= df_10['annotation_87']\n",
    "annotation_4= df_10['annotation_91']"
   ]
  },
  {
   "cell_type": "markdown",
   "metadata": {},
   "source": [
    "### Cohen_kappa average score of annotation 85"
   ]
  },
  {
   "cell_type": "code",
   "execution_count": 152,
   "metadata": {},
   "outputs": [],
   "source": [
    "def cohen_avg_1():\n",
    "    cohen_score_12 = cohen_kappa_score(annotation_1,annotation_2)\n",
    "    cohen_score_13 = cohen_kappa_score(annotation_1,annotation_3)\n",
    "    cohen_score_14 = cohen_kappa_score(annotation_1,annotation_4)\n",
    "    cohen_score_average_1 = round((cohen_score_12 + cohen_score_13 + cohen_score_14)/3,3)\n",
    "    print(\"Average Cohen Kappa Score for annotation 85:\",(cohen_score_average_1))\n",
    "    return cohen_score_average_1"
   ]
  },
  {
   "cell_type": "code",
   "execution_count": 153,
   "metadata": {},
   "outputs": [
    {
     "name": "stdout",
     "output_type": "stream",
     "text": [
      "Average Cohen Kappa Score for annotation 85: 0.803\n"
     ]
    },
    {
     "data": {
      "text/plain": [
       "0.803"
      ]
     },
     "execution_count": 153,
     "metadata": {},
     "output_type": "execute_result"
    }
   ],
   "source": [
    "cohen_avg_1()"
   ]
  },
  {
   "cell_type": "markdown",
   "metadata": {},
   "source": [
    "### Cohen_kappa average score of annotation 86"
   ]
  },
  {
   "cell_type": "code",
   "execution_count": 155,
   "metadata": {},
   "outputs": [],
   "source": [
    "def cohen_avg_2():\n",
    "    cohen_score_21 = cohen_kappa_score(annotation_2,annotation_1)\n",
    "    cohen_score_23 = cohen_kappa_score(annotation_2,annotation_3)\n",
    "    cohen_score_24 = cohen_kappa_score(annotation_2,annotation_4)\n",
    "    cohen_score_average_2 = round((cohen_score_21 + cohen_score_23 + cohen_score_24)/3,3)\n",
    "    print(\"Average Cohen Kappa Score for annotation 86:\",(cohen_score_average_2))\n",
    "    return cohen_score_average_2"
   ]
  },
  {
   "cell_type": "code",
   "execution_count": 156,
   "metadata": {},
   "outputs": [
    {
     "name": "stdout",
     "output_type": "stream",
     "text": [
      "Average Cohen Kappa Score for annotation 86: 0.856\n"
     ]
    },
    {
     "data": {
      "text/plain": [
       "0.856"
      ]
     },
     "execution_count": 156,
     "metadata": {},
     "output_type": "execute_result"
    }
   ],
   "source": [
    "cohen_avg_2()"
   ]
  },
  {
   "cell_type": "markdown",
   "metadata": {},
   "source": [
    "### Cohen_kappa average score of annotation 87"
   ]
  },
  {
   "cell_type": "code",
   "execution_count": 158,
   "metadata": {},
   "outputs": [],
   "source": [
    "def cohen_avg_3():\n",
    "    cohen_score_31 = cohen_kappa_score(annotation_3,annotation_1)\n",
    "    cohen_score_32 = cohen_kappa_score(annotation_3,annotation_2)\n",
    "    cohen_score_34 = cohen_kappa_score(annotation_3,annotation_4)\n",
    "    cohen_score_average_3 = round((cohen_score_31 + cohen_score_32 + cohen_score_34)/3,3)\n",
    "    print(\"Average Cohen Kappa Score for annotation 87:\",(cohen_score_average_3))\n",
    "    return cohen_score_average_3"
   ]
  },
  {
   "cell_type": "code",
   "execution_count": 159,
   "metadata": {},
   "outputs": [
    {
     "name": "stdout",
     "output_type": "stream",
     "text": [
      "Average Cohen Kappa Score for annotation 87: 0.814\n"
     ]
    },
    {
     "data": {
      "text/plain": [
       "0.814"
      ]
     },
     "execution_count": 159,
     "metadata": {},
     "output_type": "execute_result"
    }
   ],
   "source": [
    "cohen_avg_3()"
   ]
  },
  {
   "cell_type": "markdown",
   "metadata": {},
   "source": [
    "### Cohen_kappa average score of annotation 91"
   ]
  },
  {
   "cell_type": "code",
   "execution_count": 161,
   "metadata": {},
   "outputs": [],
   "source": [
    "def cohen_avg_4():\n",
    "    cohen_score_41 = cohen_kappa_score(annotation_4,annotation_1)\n",
    "    cohen_score_42 = cohen_kappa_score(annotation_4,annotation_2)\n",
    "    cohen_score_43 = cohen_kappa_score(annotation_4,annotation_3)\n",
    "    cohen_score_average_4 = round((cohen_score_41 + cohen_score_42 + cohen_score_43)/3,3)\n",
    "    print(\"Average Cohen Kappa Score for annotation 91:\",(cohen_score_average_4))\n",
    "    return cohen_score_average_4"
   ]
  },
  {
   "cell_type": "code",
   "execution_count": 162,
   "metadata": {},
   "outputs": [
    {
     "name": "stdout",
     "output_type": "stream",
     "text": [
      "Average Cohen Kappa Score for annotation 91: 0.832\n"
     ]
    },
    {
     "data": {
      "text/plain": [
       "0.832"
      ]
     },
     "execution_count": 162,
     "metadata": {},
     "output_type": "execute_result"
    }
   ],
   "source": [
    "cohen_avg_4()"
   ]
  },
  {
   "cell_type": "markdown",
   "metadata": {},
   "source": [
    "##### If average cohen kappa score for any annotation is less than 0.2, we will drop it"
   ]
  },
  {
   "cell_type": "code",
   "execution_count": 164,
   "metadata": {},
   "outputs": [],
   "source": [
    "def drop_annotate():\n",
    "    average = [cohen_avg_1(), cohen_avg_2(),cohen_avg_3(),cohen_avg_4()]\n",
    "    columns_name = ['annotation_85','annotation_86','annotation_87','annotation_91']\n",
    "    #columns =[annotation_1,annotation_2,annotation_3,annotation_4]\n",
    "    for i in range(0,len(average)):\n",
    "        if average[i]< 0.2:\n",
    "            print(average[i])\n",
    "            df_10.drop(columns_name[i], axis=1, inplace = True)\n",
    "    print(df_10.head())"
   ]
  },
  {
   "cell_type": "code",
   "execution_count": 165,
   "metadata": {},
   "outputs": [
    {
     "name": "stdout",
     "output_type": "stream",
     "text": [
      "Average Cohen Kappa Score for annotation 85: 0.803\n",
      "Average Cohen Kappa Score for annotation 86: 0.856\n",
      "Average Cohen Kappa Score for annotation 87: 0.814\n",
      "Average Cohen Kappa Score for annotation 91: 0.832\n",
      "                                                text  annotation_91  \\\n",
      "0  Bad news. Johnson &amp; Johnson pauses #CovidV...          False   \n",
      "1  Saw this on TV and you women Need to work with...           True   \n",
      "2  Two Indian vaccine candidates against COVID-19...          False   \n",
      "3  The point is media &amp; govt lie abt the numb...          False   \n",
      "4  California students will continue wearing mask...           True   \n",
      "\n",
      "   annotation_85  annotation_86  annotation_87  \n",
      "0          False          False          False  \n",
      "1           True           True           True  \n",
      "2          False          False          False  \n",
      "3          False          False          False  \n",
      "4           True           True           True  \n"
     ]
    }
   ],
   "source": [
    "drop_annotate()"
   ]
  },
  {
   "cell_type": "code",
   "execution_count": null,
   "metadata": {},
   "outputs": [],
   "source": []
  },
  {
   "cell_type": "code",
   "execution_count": null,
   "metadata": {},
   "outputs": [],
   "source": []
  },
  {
   "cell_type": "code",
   "execution_count": null,
   "metadata": {},
   "outputs": [],
   "source": []
  },
  {
   "cell_type": "markdown",
   "metadata": {},
   "source": [
    "## twitter_topic_3_vaccination.csv\n",
    "\n"
   ]
  },
  {
   "cell_type": "code",
   "execution_count": 166,
   "metadata": {},
   "outputs": [
    {
     "data": {
      "text/html": [
       "<div>\n",
       "<style scoped>\n",
       "    .dataframe tbody tr th:only-of-type {\n",
       "        vertical-align: middle;\n",
       "    }\n",
       "\n",
       "    .dataframe tbody tr th {\n",
       "        vertical-align: top;\n",
       "    }\n",
       "\n",
       "    .dataframe thead th {\n",
       "        text-align: right;\n",
       "    }\n",
       "</style>\n",
       "<table border=\"1\" class=\"dataframe\">\n",
       "  <thead>\n",
       "    <tr style=\"text-align: right;\">\n",
       "      <th></th>\n",
       "      <th>text</th>\n",
       "      <th>annotation_91</th>\n",
       "      <th>annotation_85</th>\n",
       "      <th>annotation_86</th>\n",
       "      <th>annotation_87</th>\n",
       "    </tr>\n",
       "  </thead>\n",
       "  <tbody>\n",
       "    <tr>\n",
       "      <th>0</th>\n",
       "      <td>Bad news. Johnson &amp;amp; Johnson pauses #CovidV...</td>\n",
       "      <td>True</td>\n",
       "      <td>True</td>\n",
       "      <td>True</td>\n",
       "      <td>True</td>\n",
       "    </tr>\n",
       "    <tr>\n",
       "      <th>1</th>\n",
       "      <td>Saw this on TV and you women Need to work with...</td>\n",
       "      <td>False</td>\n",
       "      <td>False</td>\n",
       "      <td>False</td>\n",
       "      <td>False</td>\n",
       "    </tr>\n",
       "    <tr>\n",
       "      <th>2</th>\n",
       "      <td>Two Indian vaccine candidates against COVID-19...</td>\n",
       "      <td>True</td>\n",
       "      <td>True</td>\n",
       "      <td>True</td>\n",
       "      <td>True</td>\n",
       "    </tr>\n",
       "    <tr>\n",
       "      <th>3</th>\n",
       "      <td>The point is media &amp;amp; govt lie abt the numb...</td>\n",
       "      <td>True</td>\n",
       "      <td>True</td>\n",
       "      <td>True</td>\n",
       "      <td>True</td>\n",
       "    </tr>\n",
       "    <tr>\n",
       "      <th>4</th>\n",
       "      <td>California students will continue wearing mask...</td>\n",
       "      <td>False</td>\n",
       "      <td>False</td>\n",
       "      <td>False</td>\n",
       "      <td>False</td>\n",
       "    </tr>\n",
       "  </tbody>\n",
       "</table>\n",
       "</div>"
      ],
      "text/plain": [
       "                                                text  annotation_91  \\\n",
       "0  Bad news. Johnson &amp; Johnson pauses #CovidV...           True   \n",
       "1  Saw this on TV and you women Need to work with...          False   \n",
       "2  Two Indian vaccine candidates against COVID-19...           True   \n",
       "3  The point is media &amp; govt lie abt the numb...           True   \n",
       "4  California students will continue wearing mask...          False   \n",
       "\n",
       "   annotation_85  annotation_86  annotation_87  \n",
       "0           True           True           True  \n",
       "1          False          False          False  \n",
       "2           True           True           True  \n",
       "3           True           True           True  \n",
       "4          False          False          False  "
      ]
     },
     "execution_count": 166,
     "metadata": {},
     "output_type": "execute_result"
    }
   ],
   "source": [
    "df_11 = pd.read_csv(r'twitter_topic\\twitter_topic_3_vaccination.csv')\n",
    "df_11.head()"
   ]
  },
  {
   "cell_type": "code",
   "execution_count": 167,
   "metadata": {},
   "outputs": [
    {
     "name": "stdout",
     "output_type": "stream",
     "text": [
      "0\n",
      "0\n",
      "0\n",
      "0\n",
      "0\n"
     ]
    }
   ],
   "source": [
    "print(df_11['annotation_85'].isnull().sum())\n",
    "print(df_11['annotation_86'].isnull().sum())\n",
    "print(df_11['annotation_87'].isnull().sum())\n",
    "print(df_11['annotation_91'].isnull().sum())\n",
    "print(df_11['text'].isnull().sum())"
   ]
  },
  {
   "cell_type": "code",
   "execution_count": 168,
   "metadata": {},
   "outputs": [],
   "source": [
    "annotation_1= df_11['annotation_85']\n",
    "annotation_2= df_11['annotation_86']\n",
    "annotation_3= df_11['annotation_87']\n",
    "annotation_4= df_11['annotation_91']"
   ]
  },
  {
   "cell_type": "markdown",
   "metadata": {},
   "source": [
    "### Cohen_kappa average score of annotation 85"
   ]
  },
  {
   "cell_type": "code",
   "execution_count": 170,
   "metadata": {},
   "outputs": [],
   "source": [
    "def cohen_avg_1():\n",
    "    cohen_score_12 = cohen_kappa_score(annotation_1,annotation_2)\n",
    "    cohen_score_13 = cohen_kappa_score(annotation_1,annotation_3)\n",
    "    cohen_score_14 = cohen_kappa_score(annotation_1,annotation_4)\n",
    "    cohen_score_average_1 = round((cohen_score_12 + cohen_score_13 + cohen_score_14)/3,3)\n",
    "    print(\"Average Cohen Kappa Score for annotation 85:\",(cohen_score_average_1))\n",
    "    return cohen_score_average_1"
   ]
  },
  {
   "cell_type": "code",
   "execution_count": 171,
   "metadata": {},
   "outputs": [
    {
     "name": "stdout",
     "output_type": "stream",
     "text": [
      "Average Cohen Kappa Score for annotation 85: 0.658\n"
     ]
    },
    {
     "data": {
      "text/plain": [
       "0.658"
      ]
     },
     "execution_count": 171,
     "metadata": {},
     "output_type": "execute_result"
    }
   ],
   "source": [
    "cohen_avg_1()"
   ]
  },
  {
   "cell_type": "markdown",
   "metadata": {},
   "source": [
    "### Cohen_kappa average score of annotation 86"
   ]
  },
  {
   "cell_type": "code",
   "execution_count": 173,
   "metadata": {},
   "outputs": [],
   "source": [
    "def cohen_avg_2():\n",
    "    cohen_score_21 = cohen_kappa_score(annotation_2,annotation_1)\n",
    "    cohen_score_23 = cohen_kappa_score(annotation_2,annotation_3)\n",
    "    cohen_score_24 = cohen_kappa_score(annotation_2,annotation_4)\n",
    "    cohen_score_average_2 = round((cohen_score_21 + cohen_score_23 + cohen_score_24)/3,3)\n",
    "    print(\"Average Cohen Kappa Score for annotation 86:\",(cohen_score_average_2))\n",
    "    return cohen_score_average_2"
   ]
  },
  {
   "cell_type": "code",
   "execution_count": 174,
   "metadata": {},
   "outputs": [
    {
     "name": "stdout",
     "output_type": "stream",
     "text": [
      "Average Cohen Kappa Score for annotation 86: 0.621\n"
     ]
    },
    {
     "data": {
      "text/plain": [
       "0.621"
      ]
     },
     "execution_count": 174,
     "metadata": {},
     "output_type": "execute_result"
    }
   ],
   "source": [
    "cohen_avg_2()"
   ]
  },
  {
   "cell_type": "markdown",
   "metadata": {},
   "source": [
    "### Cohen_kappa average score of annotation 87"
   ]
  },
  {
   "cell_type": "code",
   "execution_count": 176,
   "metadata": {},
   "outputs": [],
   "source": [
    "def cohen_avg_3():\n",
    "    cohen_score_31 = cohen_kappa_score(annotation_3,annotation_1)\n",
    "    cohen_score_32 = cohen_kappa_score(annotation_3,annotation_2)\n",
    "    cohen_score_34 = cohen_kappa_score(annotation_3,annotation_4)\n",
    "    cohen_score_average_3 = round((cohen_score_31 + cohen_score_32 + cohen_score_34)/3,3)\n",
    "    print(\"Average Cohen Kappa Score for annotation 87:\",(cohen_score_average_3))\n",
    "    return cohen_score_average_3"
   ]
  },
  {
   "cell_type": "code",
   "execution_count": 177,
   "metadata": {},
   "outputs": [
    {
     "name": "stdout",
     "output_type": "stream",
     "text": [
      "Average Cohen Kappa Score for annotation 87: 0.636\n"
     ]
    },
    {
     "data": {
      "text/plain": [
       "0.636"
      ]
     },
     "execution_count": 177,
     "metadata": {},
     "output_type": "execute_result"
    }
   ],
   "source": [
    "cohen_avg_3()"
   ]
  },
  {
   "cell_type": "markdown",
   "metadata": {},
   "source": [
    "### Cohen_kappa average score of annotation 91"
   ]
  },
  {
   "cell_type": "code",
   "execution_count": 179,
   "metadata": {},
   "outputs": [],
   "source": [
    "def cohen_avg_4():\n",
    "    cohen_score_41 = cohen_kappa_score(annotation_4,annotation_1)\n",
    "    cohen_score_42 = cohen_kappa_score(annotation_4,annotation_2)\n",
    "    cohen_score_43 = cohen_kappa_score(annotation_4,annotation_3)\n",
    "    cohen_score_average_4 = round((cohen_score_41 + cohen_score_42 + cohen_score_43)/3,3)\n",
    "    print(\"Average Cohen Kappa Score for annotation 91:\",(cohen_score_average_4))\n",
    "    return cohen_score_average_4"
   ]
  },
  {
   "cell_type": "code",
   "execution_count": 180,
   "metadata": {},
   "outputs": [
    {
     "name": "stdout",
     "output_type": "stream",
     "text": [
      "Average Cohen Kappa Score for annotation 91: 0.668\n"
     ]
    },
    {
     "data": {
      "text/plain": [
       "0.668"
      ]
     },
     "execution_count": 180,
     "metadata": {},
     "output_type": "execute_result"
    }
   ],
   "source": [
    "cohen_avg_4()"
   ]
  },
  {
   "cell_type": "markdown",
   "metadata": {},
   "source": [
    "##### If average cohen kappa score for any annotation is less than 0.2, we will drop it"
   ]
  },
  {
   "cell_type": "code",
   "execution_count": 182,
   "metadata": {},
   "outputs": [],
   "source": [
    "def drop_annotate():\n",
    "    average = [cohen_avg_1(), cohen_avg_2(),cohen_avg_3(),cohen_avg_4()]\n",
    "    columns_name = ['annotation_85','annotation_86','annotation_87','annotation_91']\n",
    "    #columns =[annotation_1,annotation_2,annotation_3,annotation_4]\n",
    "    for i in range(0,len(average)):\n",
    "        if average[i]< 0.2:\n",
    "            print(average[i])\n",
    "            df_11.drop(columns_name[i], axis=1, inplace = True)\n",
    "    print(df_11.head())"
   ]
  },
  {
   "cell_type": "code",
   "execution_count": 183,
   "metadata": {},
   "outputs": [
    {
     "name": "stdout",
     "output_type": "stream",
     "text": [
      "Average Cohen Kappa Score for annotation 85: 0.658\n",
      "Average Cohen Kappa Score for annotation 86: 0.621\n",
      "Average Cohen Kappa Score for annotation 87: 0.636\n",
      "Average Cohen Kappa Score for annotation 91: 0.668\n",
      "                                                text  annotation_91  \\\n",
      "0  Bad news. Johnson &amp; Johnson pauses #CovidV...           True   \n",
      "1  Saw this on TV and you women Need to work with...          False   \n",
      "2  Two Indian vaccine candidates against COVID-19...           True   \n",
      "3  The point is media &amp; govt lie abt the numb...           True   \n",
      "4  California students will continue wearing mask...          False   \n",
      "\n",
      "   annotation_85  annotation_86  annotation_87  \n",
      "0           True           True           True  \n",
      "1          False          False          False  \n",
      "2           True           True           True  \n",
      "3           True           True           True  \n",
      "4          False          False          False  \n"
     ]
    }
   ],
   "source": [
    "drop_annotate()"
   ]
  },
  {
   "cell_type": "code",
   "execution_count": null,
   "metadata": {},
   "outputs": [],
   "source": []
  },
  {
   "cell_type": "code",
   "execution_count": null,
   "metadata": {},
   "outputs": [],
   "source": []
  },
  {
   "cell_type": "code",
   "execution_count": null,
   "metadata": {},
   "outputs": [],
   "source": []
  }
 ],
 "metadata": {
  "kernelspec": {
   "display_name": "Python 3",
   "language": "python",
   "name": "python3"
  },
  "language_info": {
   "codemirror_mode": {
    "name": "ipython",
    "version": 3
   },
   "file_extension": ".py",
   "mimetype": "text/x-python",
   "name": "python",
   "nbconvert_exporter": "python",
   "pygments_lexer": "ipython3",
   "version": "3.8.5"
  }
 },
 "nbformat": 4,
 "nbformat_minor": 5
}
