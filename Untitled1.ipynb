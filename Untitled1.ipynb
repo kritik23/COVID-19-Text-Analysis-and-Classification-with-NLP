{
 "cells": [
  {
   "cell_type": "code",
   "execution_count": 1,
   "metadata": {},
   "outputs": [],
   "source": [
    "import numpy as np\n",
    "import pandas as pd"
   ]
  },
  {
   "cell_type": "code",
   "execution_count": 4,
   "metadata": {},
   "outputs": [
    {
     "name": "stdout",
     "output_type": "stream",
     "text": [
      "                                                  text  final_label\n",
      "0    What do you mean that the pandemic has stretch...        False\n",
      "1    I’m not sure if it qualifies as Big Brother wh...        False\n",
      "2    What if smallpox and polio came roaring back o...        False\n",
      "3    I'm continuing to wear a mask.  Even in bed, s...        False\n",
      "4    Although my husband and I really, really miss ...        False\n",
      "..                                                 ...          ...\n",
      "295  The longer we drag this on, the more likely we...        False\n",
      "296  Interesting that CEOs are worried about the pr...        False\n",
      "297  I'm rapidly arriving at the opinion that we ne...         True\n",
      "298  The world we live in is different  and riskier...        False\n",
      "299  Get a vaccine or get a pink slip.  \\nThere is ...        False\n",
      "\n",
      "[813 rows x 2 columns]\n"
     ]
    }
   ],
   "source": [
    "csv_file_list = [r\"C:\\Users\\Kriti\\Desktop\\College-Academics\\NLP\\Project Phase 2-\\nyt_topic_new\\nyt_topic_0_lockdowns.csv\", \n",
    "                 r\"C:\\Users\\Kriti\\Desktop\\College-Academics\\NLP\\Project Phase 2-\\nyt_topic_new\\nyt_topic_1_lockdowns.csv\",\n",
    "                 r\"C:\\Users\\Kriti\\Desktop\\College-Academics\\NLP\\Project Phase 2-\\nyt_topic_new\\nyt_topic_2_lockdowns.csv\"]\n",
    "\n",
    "list_of_dataframes = []\n",
    "for filename in csv_file_list:\n",
    "    list_of_dataframes.append(pd.read_csv(filename))\n",
    "\n",
    "merged_df = pd.concat(list_of_dataframes)\n",
    "\n",
    "print(merged_df)"
   ]
  },
  {
   "cell_type": "code",
   "execution_count": 5,
   "metadata": {},
   "outputs": [],
   "source": [
    "merged_df.to_csv(r'C:\\Users\\Kriti\\Desktop\\College-Academics\\NLP\\Project Phase 2-\\nyt_topic_lockdowns.csv',\n",
    "           index = False)"
   ]
  },
  {
   "cell_type": "code",
   "execution_count": null,
   "metadata": {},
   "outputs": [],
   "source": []
  }
 ],
 "metadata": {
  "kernelspec": {
   "display_name": "Python 3",
   "language": "python",
   "name": "python3"
  },
  "language_info": {
   "codemirror_mode": {
    "name": "ipython",
    "version": 3
   },
   "file_extension": ".py",
   "mimetype": "text/x-python",
   "name": "python",
   "nbconvert_exporter": "python",
   "pygments_lexer": "ipython3",
   "version": "3.8.5"
  }
 },
 "nbformat": 4,
 "nbformat_minor": 4
}
