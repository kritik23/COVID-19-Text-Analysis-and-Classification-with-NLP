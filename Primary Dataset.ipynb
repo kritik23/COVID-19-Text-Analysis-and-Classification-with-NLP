{
 "cells": [
  {
   "cell_type": "code",
   "execution_count": 1,
   "metadata": {},
   "outputs": [],
   "source": [
    "import pandas as pd\n",
    "import numpy as np\n",
    "from sklearn.metrics import cohen_kappa_score"
   ]
  },
  {
   "cell_type": "markdown",
   "metadata": {},
   "source": [
    "# NYT_topic_0: \n",
    "\n",
    "## Calculating Kappa score for annotations in NYT_topic_0_lockdowns"
   ]
  },
  {
   "cell_type": "code",
   "execution_count": 6,
   "metadata": {},
   "outputs": [],
   "source": [
    "df=pd.read_csv(r\"C:\\Users\\Kriti\\Desktop\\College-Academics\\NLP\\Project Phase 2-\\nyt_topic\\nyt_topic_0_lockdowns.csv\")"
   ]
  },
  {
   "cell_type": "code",
   "execution_count": 7,
   "metadata": {},
   "outputs": [
    {
     "data": {
      "text/html": [
       "<div>\n",
       "<style scoped>\n",
       "    .dataframe tbody tr th:only-of-type {\n",
       "        vertical-align: middle;\n",
       "    }\n",
       "\n",
       "    .dataframe tbody tr th {\n",
       "        vertical-align: top;\n",
       "    }\n",
       "\n",
       "    .dataframe thead th {\n",
       "        text-align: right;\n",
       "    }\n",
       "</style>\n",
       "<table border=\"1\" class=\"dataframe\">\n",
       "  <thead>\n",
       "    <tr style=\"text-align: right;\">\n",
       "      <th></th>\n",
       "      <th>text</th>\n",
       "      <th>annotation_41</th>\n",
       "      <th>annotation_67</th>\n",
       "      <th>annotation_19</th>\n",
       "      <th>annotation_55</th>\n",
       "    </tr>\n",
       "  </thead>\n",
       "  <tbody>\n",
       "    <tr>\n",
       "      <th>0</th>\n",
       "      <td>What do you mean that the pandemic has stretch...</td>\n",
       "      <td>False</td>\n",
       "      <td>False</td>\n",
       "      <td>False</td>\n",
       "      <td>False</td>\n",
       "    </tr>\n",
       "    <tr>\n",
       "      <th>1</th>\n",
       "      <td>I’m not sure if it qualifies as Big Brother wh...</td>\n",
       "      <td>False</td>\n",
       "      <td>False</td>\n",
       "      <td>False</td>\n",
       "      <td>False</td>\n",
       "    </tr>\n",
       "    <tr>\n",
       "      <th>2</th>\n",
       "      <td>What if smallpox and polio came roaring back o...</td>\n",
       "      <td>False</td>\n",
       "      <td>False</td>\n",
       "      <td>False</td>\n",
       "      <td>False</td>\n",
       "    </tr>\n",
       "    <tr>\n",
       "      <th>3</th>\n",
       "      <td>I'm continuing to wear a mask.  Even in bed, s...</td>\n",
       "      <td>False</td>\n",
       "      <td>False</td>\n",
       "      <td>False</td>\n",
       "      <td>False</td>\n",
       "    </tr>\n",
       "    <tr>\n",
       "      <th>4</th>\n",
       "      <td>Although my husband and I really, really miss ...</td>\n",
       "      <td>False</td>\n",
       "      <td>True</td>\n",
       "      <td>False</td>\n",
       "      <td>False</td>\n",
       "    </tr>\n",
       "  </tbody>\n",
       "</table>\n",
       "</div>"
      ],
      "text/plain": [
       "                                                text  annotation_41  \\\n",
       "0  What do you mean that the pandemic has stretch...          False   \n",
       "1  I’m not sure if it qualifies as Big Brother wh...          False   \n",
       "2  What if smallpox and polio came roaring back o...          False   \n",
       "3  I'm continuing to wear a mask.  Even in bed, s...          False   \n",
       "4  Although my husband and I really, really miss ...          False   \n",
       "\n",
       "   annotation_67  annotation_19  annotation_55  \n",
       "0          False          False          False  \n",
       "1          False          False          False  \n",
       "2          False          False          False  \n",
       "3          False          False          False  \n",
       "4           True          False          False  "
      ]
     },
     "execution_count": 7,
     "metadata": {},
     "output_type": "execute_result"
    }
   ],
   "source": [
    "df.head()"
   ]
  },
  {
   "cell_type": "code",
   "execution_count": 13,
   "metadata": {},
   "outputs": [
    {
     "name": "stdout",
     "output_type": "stream",
     "text": [
      "0\n",
      "0\n",
      "0\n",
      "0\n",
      "0\n"
     ]
    }
   ],
   "source": [
    "print(df['annotation_41'].isnull().sum())\n",
    "print(df['annotation_67'].isnull().sum())\n",
    "print(df['annotation_19'].isnull().sum())\n",
    "print(df['annotation_55'].isnull().sum())\n",
    "print(df['text'].isnull().sum())\n"
   ]
  },
  {
   "cell_type": "markdown",
   "metadata": {},
   "source": [
    "#### Cohenn Kappa score for annotation_41"
   ]
  },
  {
   "cell_type": "code",
   "execution_count": 28,
   "metadata": {},
   "outputs": [
    {
     "data": {
      "text/plain": [
       "0.2926155969634231"
      ]
     },
     "execution_count": 28,
     "metadata": {},
     "output_type": "execute_result"
    }
   ],
   "source": [
    "cohen_kappa_score41_67=cohen_kappa_score(df['annotation_41'],df['annotation_67'])\n",
    "cohen_kappa_score41_67"
   ]
  },
  {
   "cell_type": "code",
   "execution_count": 17,
   "metadata": {},
   "outputs": [
    {
     "data": {
      "text/plain": [
       "0.3113101903695409"
      ]
     },
     "execution_count": 17,
     "metadata": {},
     "output_type": "execute_result"
    }
   ],
   "source": [
    "cohen_kappa_score41_19=cohen_kappa_score(df['annotation_41'],df['annotation_19'])\n",
    "cohen_kappa_score41_19"
   ]
  },
  {
   "cell_type": "code",
   "execution_count": 18,
   "metadata": {},
   "outputs": [
    {
     "data": {
      "text/plain": [
       "0.5557749259624876"
      ]
     },
     "execution_count": 18,
     "metadata": {},
     "output_type": "execute_result"
    }
   ],
   "source": [
    "cohen_kappa_score41_55=cohen_kappa_score(df['annotation_41'],df['annotation_55'])\n",
    "cohen_kappa_score41_55"
   ]
  },
  {
   "cell_type": "code",
   "execution_count": 19,
   "metadata": {},
   "outputs": [
    {
     "name": "stdout",
     "output_type": "stream",
     "text": [
      "average kappa score for annotator 41 is: 0.3865669044318172\n"
     ]
    }
   ],
   "source": [
    "cohen_kappa_score_average_41=(cohen_kappa_score41_67+cohen_kappa_score41_19+cohen_kappa_score41_55)/3\n",
    "print(\"average kappa score for annotator 41 is:\", cohen_kappa_score_average_41)"
   ]
  },
  {
   "cell_type": "markdown",
   "metadata": {},
   "source": [
    "#### Cohenn Kappa score for annotation_67"
   ]
  },
  {
   "cell_type": "code",
   "execution_count": 20,
   "metadata": {},
   "outputs": [
    {
     "data": {
      "text/plain": [
       "0.2926155969634231"
      ]
     },
     "execution_count": 20,
     "metadata": {},
     "output_type": "execute_result"
    }
   ],
   "source": [
    "cohen_kappa_score67_41=cohen_kappa_score(df['annotation_67'],df['annotation_41'])\n",
    "cohen_kappa_score67_41"
   ]
  },
  {
   "cell_type": "code",
   "execution_count": 21,
   "metadata": {},
   "outputs": [
    {
     "data": {
      "text/plain": [
       "0.4693200663349917"
      ]
     },
     "execution_count": 21,
     "metadata": {},
     "output_type": "execute_result"
    }
   ],
   "source": [
    "cohen_kappa_score67_19=cohen_kappa_score(df['annotation_67'],df['annotation_19'])\n",
    "cohen_kappa_score67_19"
   ]
  },
  {
   "cell_type": "code",
   "execution_count": 22,
   "metadata": {},
   "outputs": [
    {
     "data": {
      "text/plain": [
       "0.47118891320204237"
      ]
     },
     "execution_count": 22,
     "metadata": {},
     "output_type": "execute_result"
    }
   ],
   "source": [
    "cohen_kappa_score67_55=cohen_kappa_score(df['annotation_67'],df['annotation_55'])\n",
    "cohen_kappa_score67_55"
   ]
  },
  {
   "cell_type": "code",
   "execution_count": 23,
   "metadata": {},
   "outputs": [
    {
     "name": "stdout",
     "output_type": "stream",
     "text": [
      "average kappa score for annotator 67 is: 0.41104152550015244\n"
     ]
    }
   ],
   "source": [
    "cohen_kappa_score_average_67=(cohen_kappa_score67_41+cohen_kappa_score67_19+cohen_kappa_score67_55)/3\n",
    "print(\"average kappa score for annotator 67 is:\", cohen_kappa_score_average_67)"
   ]
  },
  {
   "cell_type": "markdown",
   "metadata": {},
   "source": [
    "#### Cohenn Kappa score for annotation_19"
   ]
  },
  {
   "cell_type": "code",
   "execution_count": 24,
   "metadata": {},
   "outputs": [
    {
     "data": {
      "text/plain": [
       "0.3113101903695409"
      ]
     },
     "execution_count": 24,
     "metadata": {},
     "output_type": "execute_result"
    }
   ],
   "source": [
    "cohen_kappa_score19_41=cohen_kappa_score(df['annotation_19'],df['annotation_41'])\n",
    "cohen_kappa_score19_41"
   ]
  },
  {
   "cell_type": "code",
   "execution_count": 25,
   "metadata": {},
   "outputs": [
    {
     "data": {
      "text/plain": [
       "0.4693200663349917"
      ]
     },
     "execution_count": 25,
     "metadata": {},
     "output_type": "execute_result"
    }
   ],
   "source": [
    "cohen_kappa_score19_67=cohen_kappa_score(df['annotation_19'],df['annotation_67'])\n",
    "cohen_kappa_score19_67"
   ]
  },
  {
   "cell_type": "code",
   "execution_count": 26,
   "metadata": {},
   "outputs": [
    {
     "data": {
      "text/plain": [
       "0.5572609208972845"
      ]
     },
     "execution_count": 26,
     "metadata": {},
     "output_type": "execute_result"
    }
   ],
   "source": [
    "cohen_kappa_score19_55=cohen_kappa_score(df['annotation_19'],df['annotation_55'])\n",
    "cohen_kappa_score19_55"
   ]
  },
  {
   "cell_type": "code",
   "execution_count": 27,
   "metadata": {},
   "outputs": [
    {
     "name": "stdout",
     "output_type": "stream",
     "text": [
      "average kappa score for annotator 19 is: 0.4459637258672724\n"
     ]
    }
   ],
   "source": [
    "cohen_kappa_score_average_19=(cohen_kappa_score19_41+cohen_kappa_score19_67+cohen_kappa_score19_55)/3\n",
    "print(\"average kappa score for annotator 19 is:\", cohen_kappa_score_average_19)"
   ]
  },
  {
   "cell_type": "markdown",
   "metadata": {},
   "source": [
    "#### Cohenn Kappa score for annotation_55 "
   ]
  },
  {
   "cell_type": "code",
   "execution_count": 29,
   "metadata": {},
   "outputs": [
    {
     "data": {
      "text/plain": [
       "0.5557749259624876"
      ]
     },
     "execution_count": 29,
     "metadata": {},
     "output_type": "execute_result"
    }
   ],
   "source": [
    "cohen_kappa_score55_41=cohen_kappa_score(df['annotation_55'],df['annotation_41'])\n",
    "cohen_kappa_score55_41"
   ]
  },
  {
   "cell_type": "code",
   "execution_count": 30,
   "metadata": {},
   "outputs": [
    {
     "data": {
      "text/plain": [
       "0.47118891320204237"
      ]
     },
     "execution_count": 30,
     "metadata": {},
     "output_type": "execute_result"
    }
   ],
   "source": [
    "cohen_kappa_score55_67=cohen_kappa_score(df['annotation_55'],df['annotation_67'])\n",
    "cohen_kappa_score55_67"
   ]
  },
  {
   "cell_type": "code",
   "execution_count": 31,
   "metadata": {},
   "outputs": [
    {
     "data": {
      "text/plain": [
       "0.5572609208972845"
      ]
     },
     "execution_count": 31,
     "metadata": {},
     "output_type": "execute_result"
    }
   ],
   "source": [
    "cohen_kappa_score55_19=cohen_kappa_score(df['annotation_55'],df['annotation_19'])\n",
    "cohen_kappa_score55_19"
   ]
  },
  {
   "cell_type": "code",
   "execution_count": 32,
   "metadata": {},
   "outputs": [
    {
     "name": "stdout",
     "output_type": "stream",
     "text": [
      "average kappa score for annotator 55 is: 0.5280749200206049\n"
     ]
    }
   ],
   "source": [
    "cohen_kappa_score_average_55=(cohen_kappa_score55_41+cohen_kappa_score55_67+cohen_kappa_score55_19)/3\n",
    "print(\"average kappa score for annotator 55 is:\", cohen_kappa_score_average_55)"
   ]
  },
  {
   "cell_type": "markdown",
   "metadata": {},
   "source": [
    "## Calculating Kappa score for annotations in NYT_topic_0_masking_and_distancing"
   ]
  },
  {
   "cell_type": "code",
   "execution_count": 33,
   "metadata": {},
   "outputs": [],
   "source": [
    "df=pd.read_csv(r\"C:\\Users\\Kriti\\Desktop\\College-Academics\\NLP\\Project Phase 2-\\nyt_topic\\nyt_topic_0_masking_and_distancing.csv\")"
   ]
  },
  {
   "cell_type": "code",
   "execution_count": 34,
   "metadata": {},
   "outputs": [
    {
     "data": {
      "text/html": [
       "<div>\n",
       "<style scoped>\n",
       "    .dataframe tbody tr th:only-of-type {\n",
       "        vertical-align: middle;\n",
       "    }\n",
       "\n",
       "    .dataframe tbody tr th {\n",
       "        vertical-align: top;\n",
       "    }\n",
       "\n",
       "    .dataframe thead th {\n",
       "        text-align: right;\n",
       "    }\n",
       "</style>\n",
       "<table border=\"1\" class=\"dataframe\">\n",
       "  <thead>\n",
       "    <tr style=\"text-align: right;\">\n",
       "      <th></th>\n",
       "      <th>text</th>\n",
       "      <th>annotation_41</th>\n",
       "      <th>annotation_67</th>\n",
       "      <th>annotation_19</th>\n",
       "      <th>annotation_55</th>\n",
       "    </tr>\n",
       "  </thead>\n",
       "  <tbody>\n",
       "    <tr>\n",
       "      <th>0</th>\n",
       "      <td>What do you mean that the pandemic has stretch...</td>\n",
       "      <td>False</td>\n",
       "      <td>False</td>\n",
       "      <td>False</td>\n",
       "      <td>False</td>\n",
       "    </tr>\n",
       "    <tr>\n",
       "      <th>1</th>\n",
       "      <td>I’m not sure if it qualifies as Big Brother wh...</td>\n",
       "      <td>False</td>\n",
       "      <td>False</td>\n",
       "      <td>False</td>\n",
       "      <td>False</td>\n",
       "    </tr>\n",
       "    <tr>\n",
       "      <th>2</th>\n",
       "      <td>What if smallpox and polio came roaring back o...</td>\n",
       "      <td>False</td>\n",
       "      <td>False</td>\n",
       "      <td>False</td>\n",
       "      <td>False</td>\n",
       "    </tr>\n",
       "    <tr>\n",
       "      <th>3</th>\n",
       "      <td>I'm continuing to wear a mask.  Even in bed, s...</td>\n",
       "      <td>False</td>\n",
       "      <td>True</td>\n",
       "      <td>False</td>\n",
       "      <td>True</td>\n",
       "    </tr>\n",
       "    <tr>\n",
       "      <th>4</th>\n",
       "      <td>Although my husband and I really, really miss ...</td>\n",
       "      <td>False</td>\n",
       "      <td>False</td>\n",
       "      <td>True</td>\n",
       "      <td>False</td>\n",
       "    </tr>\n",
       "  </tbody>\n",
       "</table>\n",
       "</div>"
      ],
      "text/plain": [
       "                                                text  annotation_41  \\\n",
       "0  What do you mean that the pandemic has stretch...          False   \n",
       "1  I’m not sure if it qualifies as Big Brother wh...          False   \n",
       "2  What if smallpox and polio came roaring back o...          False   \n",
       "3  I'm continuing to wear a mask.  Even in bed, s...          False   \n",
       "4  Although my husband and I really, really miss ...          False   \n",
       "\n",
       "   annotation_67  annotation_19  annotation_55  \n",
       "0          False          False          False  \n",
       "1          False          False          False  \n",
       "2          False          False          False  \n",
       "3           True          False           True  \n",
       "4          False           True          False  "
      ]
     },
     "execution_count": 34,
     "metadata": {},
     "output_type": "execute_result"
    }
   ],
   "source": [
    "df.head()"
   ]
  },
  {
   "cell_type": "code",
   "execution_count": 35,
   "metadata": {},
   "outputs": [
    {
     "name": "stdout",
     "output_type": "stream",
     "text": [
      "0\n",
      "0\n",
      "0\n",
      "0\n",
      "0\n"
     ]
    }
   ],
   "source": [
    "print(df['annotation_41'].isnull().sum())\n",
    "print(df['annotation_67'].isnull().sum())\n",
    "print(df['annotation_19'].isnull().sum())\n",
    "print(df['annotation_55'].isnull().sum())\n",
    "print(df['text'].isnull().sum())\n"
   ]
  },
  {
   "cell_type": "markdown",
   "metadata": {},
   "source": [
    "#### Calculating Kappa score for annotation_41"
   ]
  },
  {
   "cell_type": "code",
   "execution_count": 36,
   "metadata": {},
   "outputs": [
    {
     "data": {
      "text/plain": [
       "0.6888827433628318"
      ]
     },
     "execution_count": 36,
     "metadata": {},
     "output_type": "execute_result"
    }
   ],
   "source": [
    "cohen_kappa_score41_67=cohen_kappa_score(df['annotation_41'],df['annotation_67'])\n",
    "cohen_kappa_score41_67"
   ]
  },
  {
   "cell_type": "code",
   "execution_count": 37,
   "metadata": {},
   "outputs": [
    {
     "data": {
      "text/plain": [
       "0.49494949494949503"
      ]
     },
     "execution_count": 37,
     "metadata": {},
     "output_type": "execute_result"
    }
   ],
   "source": [
    "cohen_kappa_score41_19=cohen_kappa_score(df['annotation_41'],df['annotation_19'])\n",
    "cohen_kappa_score41_19"
   ]
  },
  {
   "cell_type": "code",
   "execution_count": 38,
   "metadata": {},
   "outputs": [
    {
     "data": {
      "text/plain": [
       "0.6697746697746698"
      ]
     },
     "execution_count": 38,
     "metadata": {},
     "output_type": "execute_result"
    }
   ],
   "source": [
    "cohen_kappa_score41_55=cohen_kappa_score(df['annotation_41'],df['annotation_55'])\n",
    "cohen_kappa_score41_55"
   ]
  },
  {
   "cell_type": "code",
   "execution_count": 39,
   "metadata": {},
   "outputs": [
    {
     "name": "stdout",
     "output_type": "stream",
     "text": [
      "average kappa score for annotator 41 is: 0.6178689693623323\n"
     ]
    }
   ],
   "source": [
    "cohen_kappa_score_average_41=(cohen_kappa_score41_67+cohen_kappa_score41_19+cohen_kappa_score41_55)/3\n",
    "print(\"average kappa score for annotator 41 is:\", cohen_kappa_score_average_41)"
   ]
  },
  {
   "cell_type": "markdown",
   "metadata": {},
   "source": [
    "#### Cohenn Kappa score for annotation_67"
   ]
  },
  {
   "cell_type": "code",
   "execution_count": 40,
   "metadata": {},
   "outputs": [
    {
     "data": {
      "text/plain": [
       "0.6888827433628318"
      ]
     },
     "execution_count": 40,
     "metadata": {},
     "output_type": "execute_result"
    }
   ],
   "source": [
    "cohen_kappa_score67_41=cohen_kappa_score(df['annotation_67'],df['annotation_41'])\n",
    "cohen_kappa_score67_41"
   ]
  },
  {
   "cell_type": "code",
   "execution_count": 41,
   "metadata": {},
   "outputs": [
    {
     "data": {
      "text/plain": [
       "0.5661605206073752"
      ]
     },
     "execution_count": 41,
     "metadata": {},
     "output_type": "execute_result"
    }
   ],
   "source": [
    "cohen_kappa_score67_19=cohen_kappa_score(df['annotation_67'],df['annotation_19'])\n",
    "cohen_kappa_score67_19"
   ]
  },
  {
   "cell_type": "code",
   "execution_count": 42,
   "metadata": {},
   "outputs": [
    {
     "data": {
      "text/plain": [
       "0.7830802603036876"
      ]
     },
     "execution_count": 42,
     "metadata": {},
     "output_type": "execute_result"
    }
   ],
   "source": [
    "cohen_kappa_score67_55=cohen_kappa_score(df['annotation_67'],df['annotation_55'])\n",
    "cohen_kappa_score67_55"
   ]
  },
  {
   "cell_type": "code",
   "execution_count": 43,
   "metadata": {},
   "outputs": [
    {
     "name": "stdout",
     "output_type": "stream",
     "text": [
      "average kappa score for annotator 67 is: 0.6793745080912982\n"
     ]
    }
   ],
   "source": [
    "cohen_kappa_score_average_67=(cohen_kappa_score67_41+cohen_kappa_score67_19+cohen_kappa_score67_55)/3\n",
    "print(\"average kappa score for annotator 67 is:\", cohen_kappa_score_average_67)"
   ]
  },
  {
   "cell_type": "markdown",
   "metadata": {},
   "source": [
    "#### Cohenn Kappa score for annotation_19"
   ]
  },
  {
   "cell_type": "code",
   "execution_count": 44,
   "metadata": {},
   "outputs": [
    {
     "data": {
      "text/plain": [
       "0.49494949494949503"
      ]
     },
     "execution_count": 44,
     "metadata": {},
     "output_type": "execute_result"
    }
   ],
   "source": [
    "cohen_kappa_score19_41=cohen_kappa_score(df['annotation_19'],df['annotation_41'])\n",
    "cohen_kappa_score19_41"
   ]
  },
  {
   "cell_type": "code",
   "execution_count": 45,
   "metadata": {},
   "outputs": [
    {
     "data": {
      "text/plain": [
       "0.5661605206073752"
      ]
     },
     "execution_count": 45,
     "metadata": {},
     "output_type": "execute_result"
    }
   ],
   "source": [
    "cohen_kappa_score19_67=cohen_kappa_score(df['annotation_19'],df['annotation_67'])\n",
    "cohen_kappa_score19_67"
   ]
  },
  {
   "cell_type": "code",
   "execution_count": 46,
   "metadata": {},
   "outputs": [
    {
     "data": {
      "text/plain": [
       "0.6188496188496189"
      ]
     },
     "execution_count": 46,
     "metadata": {},
     "output_type": "execute_result"
    }
   ],
   "source": [
    "cohen_kappa_score19_55=cohen_kappa_score(df['annotation_19'],df['annotation_55'])\n",
    "cohen_kappa_score19_55"
   ]
  },
  {
   "cell_type": "code",
   "execution_count": 47,
   "metadata": {},
   "outputs": [
    {
     "name": "stdout",
     "output_type": "stream",
     "text": [
      "average kappa score for annotator 19 is: 0.559986544802163\n"
     ]
    }
   ],
   "source": [
    "cohen_kappa_score_average_19=(cohen_kappa_score19_41+cohen_kappa_score19_67+cohen_kappa_score19_55)/3\n",
    "print(\"average kappa score for annotator 19 is:\", cohen_kappa_score_average_19)"
   ]
  },
  {
   "cell_type": "markdown",
   "metadata": {},
   "source": [
    "#### Cohen Kappa score for annotation_55"
   ]
  },
  {
   "cell_type": "code",
   "execution_count": 48,
   "metadata": {},
   "outputs": [
    {
     "data": {
      "text/plain": [
       "0.6697746697746698"
      ]
     },
     "execution_count": 48,
     "metadata": {},
     "output_type": "execute_result"
    }
   ],
   "source": [
    "cohen_kappa_score55_41=cohen_kappa_score(df['annotation_55'],df['annotation_41'])\n",
    "cohen_kappa_score55_41"
   ]
  },
  {
   "cell_type": "code",
   "execution_count": 49,
   "metadata": {},
   "outputs": [
    {
     "data": {
      "text/plain": [
       "0.7830802603036876"
      ]
     },
     "execution_count": 49,
     "metadata": {},
     "output_type": "execute_result"
    }
   ],
   "source": [
    "cohen_kappa_score55_67=cohen_kappa_score(df['annotation_55'],df['annotation_67'])\n",
    "cohen_kappa_score55_67"
   ]
  },
  {
   "cell_type": "code",
   "execution_count": 50,
   "metadata": {},
   "outputs": [
    {
     "data": {
      "text/plain": [
       "0.6188496188496189"
      ]
     },
     "execution_count": 50,
     "metadata": {},
     "output_type": "execute_result"
    }
   ],
   "source": [
    "cohen_kappa_score55_19=cohen_kappa_score(df['annotation_55'],df['annotation_19'])\n",
    "cohen_kappa_score55_19"
   ]
  },
  {
   "cell_type": "code",
   "execution_count": 51,
   "metadata": {},
   "outputs": [
    {
     "name": "stdout",
     "output_type": "stream",
     "text": [
      "average kappa score for annotator 55 is: 0.6905681829759921\n"
     ]
    }
   ],
   "source": [
    "cohen_kappa_score_average_55=(cohen_kappa_score55_41+cohen_kappa_score55_67+cohen_kappa_score55_19)/3\n",
    "print(\"average kappa score for annotator 55 is:\", cohen_kappa_score_average_55)"
   ]
  },
  {
   "cell_type": "markdown",
   "metadata": {},
   "source": [
    "# Calculating Kappa score for annotations in NYT_topic_0_vaccination"
   ]
  },
  {
   "cell_type": "code",
   "execution_count": 52,
   "metadata": {},
   "outputs": [],
   "source": [
    "df=pd.read_csv(r\"C:\\Users\\Kriti\\Desktop\\College-Academics\\NLP\\Project Phase 2-\\nyt_topic\\nyt_topic_0_vaccination.csv\")"
   ]
  },
  {
   "cell_type": "code",
   "execution_count": 53,
   "metadata": {},
   "outputs": [
    {
     "data": {
      "text/html": [
       "<div>\n",
       "<style scoped>\n",
       "    .dataframe tbody tr th:only-of-type {\n",
       "        vertical-align: middle;\n",
       "    }\n",
       "\n",
       "    .dataframe tbody tr th {\n",
       "        vertical-align: top;\n",
       "    }\n",
       "\n",
       "    .dataframe thead th {\n",
       "        text-align: right;\n",
       "    }\n",
       "</style>\n",
       "<table border=\"1\" class=\"dataframe\">\n",
       "  <thead>\n",
       "    <tr style=\"text-align: right;\">\n",
       "      <th></th>\n",
       "      <th>text</th>\n",
       "      <th>annotation_41</th>\n",
       "      <th>annotation_67</th>\n",
       "      <th>annotation_19</th>\n",
       "      <th>annotation_55</th>\n",
       "    </tr>\n",
       "  </thead>\n",
       "  <tbody>\n",
       "    <tr>\n",
       "      <th>0</th>\n",
       "      <td>What do you mean that the pandemic has stretch...</td>\n",
       "      <td>False</td>\n",
       "      <td>False</td>\n",
       "      <td>False</td>\n",
       "      <td>False</td>\n",
       "    </tr>\n",
       "    <tr>\n",
       "      <th>1</th>\n",
       "      <td>I’m not sure if it qualifies as Big Brother wh...</td>\n",
       "      <td>False</td>\n",
       "      <td>False</td>\n",
       "      <td>False</td>\n",
       "      <td>False</td>\n",
       "    </tr>\n",
       "    <tr>\n",
       "      <th>2</th>\n",
       "      <td>What if smallpox and polio came roaring back o...</td>\n",
       "      <td>True</td>\n",
       "      <td>True</td>\n",
       "      <td>True</td>\n",
       "      <td>True</td>\n",
       "    </tr>\n",
       "    <tr>\n",
       "      <th>3</th>\n",
       "      <td>I'm continuing to wear a mask.  Even in bed, s...</td>\n",
       "      <td>False</td>\n",
       "      <td>True</td>\n",
       "      <td>True</td>\n",
       "      <td>True</td>\n",
       "    </tr>\n",
       "    <tr>\n",
       "      <th>4</th>\n",
       "      <td>Although my husband and I really, really miss ...</td>\n",
       "      <td>False</td>\n",
       "      <td>False</td>\n",
       "      <td>False</td>\n",
       "      <td>False</td>\n",
       "    </tr>\n",
       "  </tbody>\n",
       "</table>\n",
       "</div>"
      ],
      "text/plain": [
       "                                                text  annotation_41  \\\n",
       "0  What do you mean that the pandemic has stretch...          False   \n",
       "1  I’m not sure if it qualifies as Big Brother wh...          False   \n",
       "2  What if smallpox and polio came roaring back o...           True   \n",
       "3  I'm continuing to wear a mask.  Even in bed, s...          False   \n",
       "4  Although my husband and I really, really miss ...          False   \n",
       "\n",
       "   annotation_67  annotation_19  annotation_55  \n",
       "0          False          False          False  \n",
       "1          False          False          False  \n",
       "2           True           True           True  \n",
       "3           True           True           True  \n",
       "4          False          False          False  "
      ]
     },
     "execution_count": 53,
     "metadata": {},
     "output_type": "execute_result"
    }
   ],
   "source": [
    "df.head()"
   ]
  },
  {
   "cell_type": "markdown",
   "metadata": {},
   "source": [
    "#### Calculating Kappa score for annotation_41"
   ]
  },
  {
   "cell_type": "code",
   "execution_count": 54,
   "metadata": {},
   "outputs": [
    {
     "data": {
      "text/plain": [
       "0.4358346927678086"
      ]
     },
     "execution_count": 54,
     "metadata": {},
     "output_type": "execute_result"
    }
   ],
   "source": [
    "cohen_kappa_score41_67=cohen_kappa_score(df['annotation_41'],df['annotation_67'])\n",
    "cohen_kappa_score41_67"
   ]
  },
  {
   "cell_type": "code",
   "execution_count": 55,
   "metadata": {},
   "outputs": [
    {
     "data": {
      "text/plain": [
       "0.46534921494315107"
      ]
     },
     "execution_count": 55,
     "metadata": {},
     "output_type": "execute_result"
    }
   ],
   "source": [
    "cohen_kappa_score41_19=cohen_kappa_score(df['annotation_41'],df['annotation_19'])\n",
    "cohen_kappa_score41_19"
   ]
  },
  {
   "cell_type": "code",
   "execution_count": 56,
   "metadata": {},
   "outputs": [
    {
     "data": {
      "text/plain": [
       "0.5155038759689923"
      ]
     },
     "execution_count": 56,
     "metadata": {},
     "output_type": "execute_result"
    }
   ],
   "source": [
    "cohen_kappa_score41_55=cohen_kappa_score(df['annotation_41'],df['annotation_55'])\n",
    "cohen_kappa_score41_55"
   ]
  },
  {
   "cell_type": "code",
   "execution_count": 58,
   "metadata": {},
   "outputs": [
    {
     "name": "stdout",
     "output_type": "stream",
     "text": [
      "average kappa score for annotator 41 is: 0.4722292612266507\n"
     ]
    }
   ],
   "source": [
    "cohen_kappa_score_average_41=(cohen_kappa_score41_67+cohen_kappa_score41_19+cohen_kappa_score41_55)/3\n",
    "print(\"average kappa score for annotator 41 is:\", cohen_kappa_score_average_41)"
   ]
  },
  {
   "cell_type": "markdown",
   "metadata": {},
   "source": [
    "#### Cohenn Kappa score for annotation_67"
   ]
  },
  {
   "cell_type": "code",
   "execution_count": 59,
   "metadata": {},
   "outputs": [
    {
     "data": {
      "text/plain": [
       "0.4358346927678086"
      ]
     },
     "execution_count": 59,
     "metadata": {},
     "output_type": "execute_result"
    }
   ],
   "source": [
    "cohen_kappa_score67_41=cohen_kappa_score(df['annotation_67'],df['annotation_41'])\n",
    "cohen_kappa_score67_41"
   ]
  },
  {
   "cell_type": "code",
   "execution_count": 60,
   "metadata": {},
   "outputs": [
    {
     "data": {
      "text/plain": [
       "0.6791014841556358"
      ]
     },
     "execution_count": 60,
     "metadata": {},
     "output_type": "execute_result"
    }
   ],
   "source": [
    "cohen_kappa_score67_19=cohen_kappa_score(df['annotation_67'],df['annotation_19'])\n",
    "cohen_kappa_score67_19"
   ]
  },
  {
   "cell_type": "code",
   "execution_count": 61,
   "metadata": {},
   "outputs": [
    {
     "data": {
      "text/plain": [
       "0.7349237905897945"
      ]
     },
     "execution_count": 61,
     "metadata": {},
     "output_type": "execute_result"
    }
   ],
   "source": [
    "cohen_kappa_score67_55=cohen_kappa_score(df['annotation_67'],df['annotation_55'])\n",
    "cohen_kappa_score67_55"
   ]
  },
  {
   "cell_type": "code",
   "execution_count": 62,
   "metadata": {},
   "outputs": [
    {
     "name": "stdout",
     "output_type": "stream",
     "text": [
      "average kappa score for annotator 67 is: 0.6166199891710796\n"
     ]
    }
   ],
   "source": [
    "cohen_kappa_score_average_67=(cohen_kappa_score67_41+cohen_kappa_score67_19+cohen_kappa_score67_55)/3\n",
    "print(\"average kappa score for annotator 67 is:\", cohen_kappa_score_average_67)"
   ]
  },
  {
   "cell_type": "markdown",
   "metadata": {},
   "source": [
    "#### Cohenn Kappa score for annotation_19"
   ]
  },
  {
   "cell_type": "code",
   "execution_count": 63,
   "metadata": {},
   "outputs": [
    {
     "data": {
      "text/plain": [
       "0.46534921494315107"
      ]
     },
     "execution_count": 63,
     "metadata": {},
     "output_type": "execute_result"
    }
   ],
   "source": [
    "cohen_kappa_score19_41=cohen_kappa_score(df['annotation_19'],df['annotation_41'])\n",
    "cohen_kappa_score19_41"
   ]
  },
  {
   "cell_type": "code",
   "execution_count": 64,
   "metadata": {},
   "outputs": [
    {
     "data": {
      "text/plain": [
       "0.6791014841556358"
      ]
     },
     "execution_count": 64,
     "metadata": {},
     "output_type": "execute_result"
    }
   ],
   "source": [
    "cohen_kappa_score19_67=cohen_kappa_score(df['annotation_19'],df['annotation_67'])\n",
    "cohen_kappa_score19_67"
   ]
  },
  {
   "cell_type": "code",
   "execution_count": 65,
   "metadata": {},
   "outputs": [
    {
     "data": {
      "text/plain": [
       "0.774386197743862"
      ]
     },
     "execution_count": 65,
     "metadata": {},
     "output_type": "execute_result"
    }
   ],
   "source": [
    "cohen_kappa_score19_55=cohen_kappa_score(df['annotation_19'],df['annotation_55'])\n",
    "cohen_kappa_score19_55"
   ]
  },
  {
   "cell_type": "code",
   "execution_count": 66,
   "metadata": {},
   "outputs": [
    {
     "name": "stdout",
     "output_type": "stream",
     "text": [
      "average kappa score for annotator 19 is: 0.6396122989475496\n"
     ]
    }
   ],
   "source": [
    "cohen_kappa_score_average_19=(cohen_kappa_score19_41+cohen_kappa_score19_67+cohen_kappa_score19_55)/3\n",
    "print(\"average kappa score for annotator 19 is:\", cohen_kappa_score_average_19)"
   ]
  },
  {
   "cell_type": "markdown",
   "metadata": {},
   "source": [
    "#### Cohen Kappa score for annotation_55¶"
   ]
  },
  {
   "cell_type": "code",
   "execution_count": 67,
   "metadata": {},
   "outputs": [
    {
     "data": {
      "text/plain": [
       "0.5155038759689923"
      ]
     },
     "execution_count": 67,
     "metadata": {},
     "output_type": "execute_result"
    }
   ],
   "source": [
    "cohen_kappa_score55_41=cohen_kappa_score(df['annotation_55'],df['annotation_41'])\n",
    "cohen_kappa_score55_41"
   ]
  },
  {
   "cell_type": "code",
   "execution_count": 68,
   "metadata": {},
   "outputs": [
    {
     "data": {
      "text/plain": [
       "0.7349237905897945"
      ]
     },
     "execution_count": 68,
     "metadata": {},
     "output_type": "execute_result"
    }
   ],
   "source": [
    "cohen_kappa_score55_67=cohen_kappa_score(df['annotation_55'],df['annotation_67'])\n",
    "cohen_kappa_score55_67"
   ]
  },
  {
   "cell_type": "code",
   "execution_count": 69,
   "metadata": {},
   "outputs": [
    {
     "data": {
      "text/plain": [
       "0.774386197743862"
      ]
     },
     "execution_count": 69,
     "metadata": {},
     "output_type": "execute_result"
    }
   ],
   "source": [
    "cohen_kappa_score55_19=cohen_kappa_score(df['annotation_55'],df['annotation_19'])\n",
    "cohen_kappa_score55_19"
   ]
  },
  {
   "cell_type": "code",
   "execution_count": 70,
   "metadata": {},
   "outputs": [
    {
     "name": "stdout",
     "output_type": "stream",
     "text": [
      "average kappa score for annotator 55 is: 0.6749379547675497\n"
     ]
    }
   ],
   "source": [
    "cohen_kappa_score_average_55=(cohen_kappa_score55_41+cohen_kappa_score55_67+cohen_kappa_score55_19)/3\n",
    "print(\"average kappa score for annotator 55 is:\", cohen_kappa_score_average_55)"
   ]
  },
  {
   "cell_type": "markdown",
   "metadata": {},
   "source": [
    "# NYT_topic_1:\n",
    "\n",
    "# Calculating Kappa score for annotations in NYT_topic_1_lockdowns"
   ]
  },
  {
   "cell_type": "code",
   "execution_count": 73,
   "metadata": {},
   "outputs": [],
   "source": [
    "df=pd.read_csv(r\"C:\\Users\\Kriti\\Desktop\\College-Academics\\NLP\\Project Phase 2-\\nyt_topic\\nyt_topic_1_lockdowns.csv\")"
   ]
  },
  {
   "cell_type": "code",
   "execution_count": 74,
   "metadata": {},
   "outputs": [
    {
     "data": {
      "text/html": [
       "<div>\n",
       "<style scoped>\n",
       "    .dataframe tbody tr th:only-of-type {\n",
       "        vertical-align: middle;\n",
       "    }\n",
       "\n",
       "    .dataframe tbody tr th {\n",
       "        vertical-align: top;\n",
       "    }\n",
       "\n",
       "    .dataframe thead th {\n",
       "        text-align: right;\n",
       "    }\n",
       "</style>\n",
       "<table border=\"1\" class=\"dataframe\">\n",
       "  <thead>\n",
       "    <tr style=\"text-align: right;\">\n",
       "      <th></th>\n",
       "      <th>text</th>\n",
       "      <th>annotation_65</th>\n",
       "      <th>annotation_66</th>\n",
       "      <th>annotation_68</th>\n",
       "      <th>annotation_69</th>\n",
       "    </tr>\n",
       "  </thead>\n",
       "  <tbody>\n",
       "    <tr>\n",
       "      <th>0</th>\n",
       "      <td>To all those who gloat “elections have consequ...</td>\n",
       "      <td>False</td>\n",
       "      <td>False</td>\n",
       "      <td>False</td>\n",
       "      <td>False</td>\n",
       "    </tr>\n",
       "    <tr>\n",
       "      <th>1</th>\n",
       "      <td>Corporations and health privacy in the US? How...</td>\n",
       "      <td>False</td>\n",
       "      <td>False</td>\n",
       "      <td>False</td>\n",
       "      <td>False</td>\n",
       "    </tr>\n",
       "    <tr>\n",
       "      <th>2</th>\n",
       "      <td>No. Done with it.</td>\n",
       "      <td>False</td>\n",
       "      <td>False</td>\n",
       "      <td>False</td>\n",
       "      <td>False</td>\n",
       "    </tr>\n",
       "    <tr>\n",
       "      <th>3</th>\n",
       "      <td>I have not eaten outside my house since March....</td>\n",
       "      <td>False</td>\n",
       "      <td>True</td>\n",
       "      <td>True</td>\n",
       "      <td>True</td>\n",
       "    </tr>\n",
       "    <tr>\n",
       "      <th>4</th>\n",
       "      <td>More people die each day in US from the virus ...</td>\n",
       "      <td>False</td>\n",
       "      <td>False</td>\n",
       "      <td>False</td>\n",
       "      <td>False</td>\n",
       "    </tr>\n",
       "  </tbody>\n",
       "</table>\n",
       "</div>"
      ],
      "text/plain": [
       "                                                text  annotation_65  \\\n",
       "0  To all those who gloat “elections have consequ...          False   \n",
       "1  Corporations and health privacy in the US? How...          False   \n",
       "2                                  No. Done with it.          False   \n",
       "3  I have not eaten outside my house since March....          False   \n",
       "4  More people die each day in US from the virus ...          False   \n",
       "\n",
       "   annotation_66  annotation_68  annotation_69  \n",
       "0          False          False          False  \n",
       "1          False          False          False  \n",
       "2          False          False          False  \n",
       "3           True           True           True  \n",
       "4          False          False          False  "
      ]
     },
     "execution_count": 74,
     "metadata": {},
     "output_type": "execute_result"
    }
   ],
   "source": [
    "df.head()"
   ]
  },
  {
   "cell_type": "markdown",
   "metadata": {},
   "source": [
    "#### Calculating Kappa score for annotation_65"
   ]
  },
  {
   "cell_type": "code",
   "execution_count": 75,
   "metadata": {},
   "outputs": [
    {
     "data": {
      "text/plain": [
       "0.32097037555400054"
      ]
     },
     "execution_count": 75,
     "metadata": {},
     "output_type": "execute_result"
    }
   ],
   "source": [
    "cohen_kappa_score65_66=cohen_kappa_score(df['annotation_65'],df['annotation_66'])\n",
    "cohen_kappa_score65_66"
   ]
  },
  {
   "cell_type": "code",
   "execution_count": 76,
   "metadata": {},
   "outputs": [
    {
     "data": {
      "text/plain": [
       "0.470713525026624"
      ]
     },
     "execution_count": 76,
     "metadata": {},
     "output_type": "execute_result"
    }
   ],
   "source": [
    "cohen_kappa_score65_68=cohen_kappa_score(df['annotation_65'],df['annotation_68'])\n",
    "cohen_kappa_score65_68"
   ]
  },
  {
   "cell_type": "code",
   "execution_count": 77,
   "metadata": {},
   "outputs": [
    {
     "data": {
      "text/plain": [
       "0.37389770723104054"
      ]
     },
     "execution_count": 77,
     "metadata": {},
     "output_type": "execute_result"
    }
   ],
   "source": [
    "cohen_kappa_score65_69=cohen_kappa_score(df['annotation_65'],df['annotation_69'])\n",
    "cohen_kappa_score65_69"
   ]
  },
  {
   "cell_type": "code",
   "execution_count": 88,
   "metadata": {},
   "outputs": [
    {
     "name": "stdout",
     "output_type": "stream",
     "text": [
      "average kappa score for annotator 65 is: 0.38852720260388834\n"
     ]
    }
   ],
   "source": [
    "cohen_kappa_score_average_65=(cohen_kappa_score65_66+cohen_kappa_score65_68+cohen_kappa_score65_69)/3\n",
    "print(\"average kappa score for annotator 65 is:\", cohen_kappa_score_average_)"
   ]
  },
  {
   "cell_type": "markdown",
   "metadata": {},
   "source": [
    "#### Calculating Kappa score for annotation_66"
   ]
  },
  {
   "cell_type": "code",
   "execution_count": 79,
   "metadata": {},
   "outputs": [
    {
     "data": {
      "text/plain": [
       "0.32097037555400054"
      ]
     },
     "execution_count": 79,
     "metadata": {},
     "output_type": "execute_result"
    }
   ],
   "source": [
    "cohen_kappa_score66_65=cohen_kappa_score(df['annotation_66'],df['annotation_65'])\n",
    "cohen_kappa_score66_65"
   ]
  },
  {
   "cell_type": "code",
   "execution_count": 80,
   "metadata": {},
   "outputs": [
    {
     "data": {
      "text/plain": [
       "0.437487922705314"
      ]
     },
     "execution_count": 80,
     "metadata": {},
     "output_type": "execute_result"
    }
   ],
   "source": [
    "cohen_kappa_score66_68=cohen_kappa_score(df['annotation_66'],df['annotation_68'])\n",
    "cohen_kappa_score66_68"
   ]
  },
  {
   "cell_type": "code",
   "execution_count": 81,
   "metadata": {},
   "outputs": [
    {
     "data": {
      "text/plain": [
       "0.38360589541691914"
      ]
     },
     "execution_count": 81,
     "metadata": {},
     "output_type": "execute_result"
    }
   ],
   "source": [
    "cohen_kappa_score66_69=cohen_kappa_score(df['annotation_66'],df['annotation_69'])\n",
    "cohen_kappa_score66_69"
   ]
  },
  {
   "cell_type": "code",
   "execution_count": 87,
   "metadata": {},
   "outputs": [
    {
     "name": "stdout",
     "output_type": "stream",
     "text": [
      "average kappa score for annotator 66 is: 0.38068806455874454\n"
     ]
    }
   ],
   "source": [
    "cohen_kappa_score_average_66=(cohen_kappa_score66_65+cohen_kappa_score66_68+cohen_kappa_score66_69)/3\n",
    "print(\"average kappa score for annotator 66 is:\", cohen_kappa_score_average_66)"
   ]
  },
  {
   "cell_type": "markdown",
   "metadata": {},
   "source": [
    "#### Calculating Kappa score for annotation_68"
   ]
  },
  {
   "cell_type": "code",
   "execution_count": 83,
   "metadata": {},
   "outputs": [
    {
     "data": {
      "text/plain": [
       "0.470713525026624"
      ]
     },
     "execution_count": 83,
     "metadata": {},
     "output_type": "execute_result"
    }
   ],
   "source": [
    "cohen_kappa_score68_65=cohen_kappa_score(df['annotation_68'],df['annotation_65'])\n",
    "cohen_kappa_score68_65"
   ]
  },
  {
   "cell_type": "code",
   "execution_count": 85,
   "metadata": {},
   "outputs": [
    {
     "data": {
      "text/plain": [
       "0.437487922705314"
      ]
     },
     "execution_count": 85,
     "metadata": {},
     "output_type": "execute_result"
    }
   ],
   "source": [
    "cohen_kappa_score68_66=cohen_kappa_score(df['annotation_68'],df['annotation_66'])\n",
    "cohen_kappa_score68_66"
   ]
  },
  {
   "cell_type": "code",
   "execution_count": 86,
   "metadata": {},
   "outputs": [
    {
     "data": {
      "text/plain": [
       "0.4671081677704194"
      ]
     },
     "execution_count": 86,
     "metadata": {},
     "output_type": "execute_result"
    }
   ],
   "source": [
    "cohen_kappa_score68_69=cohen_kappa_score(df['annotation_68'],df['annotation_69'])\n",
    "cohen_kappa_score68_69"
   ]
  },
  {
   "cell_type": "code",
   "execution_count": 89,
   "metadata": {},
   "outputs": [
    {
     "name": "stdout",
     "output_type": "stream",
     "text": [
      "average kappa score for annotator 68 is: 0.4584365385007858\n"
     ]
    }
   ],
   "source": [
    "cohen_kappa_score_average_68=(cohen_kappa_score68_65+cohen_kappa_score68_66+cohen_kappa_score68_69)/3\n",
    "print(\"average kappa score for annotator 68 is:\", cohen_kappa_score_average_68)"
   ]
  },
  {
   "cell_type": "markdown",
   "metadata": {},
   "source": [
    "#### Calculating Kappa score for annotation_69"
   ]
  },
  {
   "cell_type": "code",
   "execution_count": 90,
   "metadata": {},
   "outputs": [
    {
     "data": {
      "text/plain": [
       "0.37389770723104054"
      ]
     },
     "execution_count": 90,
     "metadata": {},
     "output_type": "execute_result"
    }
   ],
   "source": [
    "cohen_kappa_score69_65=cohen_kappa_score(df['annotation_69'],df['annotation_65'])\n",
    "cohen_kappa_score69_65"
   ]
  },
  {
   "cell_type": "code",
   "execution_count": 91,
   "metadata": {},
   "outputs": [
    {
     "data": {
      "text/plain": [
       "0.38360589541691914"
      ]
     },
     "execution_count": 91,
     "metadata": {},
     "output_type": "execute_result"
    }
   ],
   "source": [
    "cohen_kappa_score69_66=cohen_kappa_score(df['annotation_69'],df['annotation_66'])\n",
    "cohen_kappa_score69_66"
   ]
  },
  {
   "cell_type": "code",
   "execution_count": 92,
   "metadata": {},
   "outputs": [
    {
     "data": {
      "text/plain": [
       "0.4671081677704194"
      ]
     },
     "execution_count": 92,
     "metadata": {},
     "output_type": "execute_result"
    }
   ],
   "source": [
    "cohen_kappa_score69_68=cohen_kappa_score(df['annotation_69'],df['annotation_68'])\n",
    "cohen_kappa_score69_68"
   ]
  },
  {
   "cell_type": "code",
   "execution_count": 93,
   "metadata": {},
   "outputs": [
    {
     "name": "stdout",
     "output_type": "stream",
     "text": [
      "average kappa score for annotator 69 is: 0.40820392347279305\n"
     ]
    }
   ],
   "source": [
    "cohen_kappa_score_average_69=(cohen_kappa_score69_65+cohen_kappa_score69_66+cohen_kappa_score69_68)/3\n",
    "print(\"average kappa score for annotator 69 is:\", cohen_kappa_score_average_69)"
   ]
  },
  {
   "cell_type": "markdown",
   "metadata": {},
   "source": [
    "## Calculating Kappa score for annotations in nyt_topic_1_masking_and_distancing"
   ]
  },
  {
   "cell_type": "code",
   "execution_count": 94,
   "metadata": {},
   "outputs": [],
   "source": [
    "df=pd.read_csv(r\"C:\\Users\\Kriti\\Desktop\\College-Academics\\NLP\\Project Phase 2-\\nyt_topic\\nyt_topic_1_masking_and_distancing.csv\")"
   ]
  },
  {
   "cell_type": "code",
   "execution_count": 95,
   "metadata": {},
   "outputs": [
    {
     "data": {
      "text/html": [
       "<div>\n",
       "<style scoped>\n",
       "    .dataframe tbody tr th:only-of-type {\n",
       "        vertical-align: middle;\n",
       "    }\n",
       "\n",
       "    .dataframe tbody tr th {\n",
       "        vertical-align: top;\n",
       "    }\n",
       "\n",
       "    .dataframe thead th {\n",
       "        text-align: right;\n",
       "    }\n",
       "</style>\n",
       "<table border=\"1\" class=\"dataframe\">\n",
       "  <thead>\n",
       "    <tr style=\"text-align: right;\">\n",
       "      <th></th>\n",
       "      <th>text</th>\n",
       "      <th>annotation_65</th>\n",
       "      <th>annotation_66</th>\n",
       "      <th>annotation_68</th>\n",
       "      <th>annotation_69</th>\n",
       "    </tr>\n",
       "  </thead>\n",
       "  <tbody>\n",
       "    <tr>\n",
       "      <th>0</th>\n",
       "      <td>To all those who gloat “elections have consequ...</td>\n",
       "      <td>False</td>\n",
       "      <td>False</td>\n",
       "      <td>False</td>\n",
       "      <td>False</td>\n",
       "    </tr>\n",
       "    <tr>\n",
       "      <th>1</th>\n",
       "      <td>Corporations and health privacy in the US? How...</td>\n",
       "      <td>False</td>\n",
       "      <td>False</td>\n",
       "      <td>False</td>\n",
       "      <td>False</td>\n",
       "    </tr>\n",
       "    <tr>\n",
       "      <th>2</th>\n",
       "      <td>No. Done with it.</td>\n",
       "      <td>False</td>\n",
       "      <td>False</td>\n",
       "      <td>False</td>\n",
       "      <td>False</td>\n",
       "    </tr>\n",
       "    <tr>\n",
       "      <th>3</th>\n",
       "      <td>I have not eaten outside my house since March....</td>\n",
       "      <td>False</td>\n",
       "      <td>False</td>\n",
       "      <td>False</td>\n",
       "      <td>False</td>\n",
       "    </tr>\n",
       "    <tr>\n",
       "      <th>4</th>\n",
       "      <td>More people die each day in US from the virus ...</td>\n",
       "      <td>True</td>\n",
       "      <td>True</td>\n",
       "      <td>True</td>\n",
       "      <td>True</td>\n",
       "    </tr>\n",
       "  </tbody>\n",
       "</table>\n",
       "</div>"
      ],
      "text/plain": [
       "                                                text  annotation_65  \\\n",
       "0  To all those who gloat “elections have consequ...          False   \n",
       "1  Corporations and health privacy in the US? How...          False   \n",
       "2                                  No. Done with it.          False   \n",
       "3  I have not eaten outside my house since March....          False   \n",
       "4  More people die each day in US from the virus ...           True   \n",
       "\n",
       "   annotation_66  annotation_68  annotation_69  \n",
       "0          False          False          False  \n",
       "1          False          False          False  \n",
       "2          False          False          False  \n",
       "3          False          False          False  \n",
       "4           True           True           True  "
      ]
     },
     "execution_count": 95,
     "metadata": {},
     "output_type": "execute_result"
    }
   ],
   "source": [
    "df.head()"
   ]
  },
  {
   "cell_type": "markdown",
   "metadata": {},
   "source": [
    "#### Calculating Kappa score for annotation_65"
   ]
  },
  {
   "cell_type": "code",
   "execution_count": 97,
   "metadata": {},
   "outputs": [
    {
     "data": {
      "text/plain": [
       "0.7891089108910891"
      ]
     },
     "execution_count": 97,
     "metadata": {},
     "output_type": "execute_result"
    }
   ],
   "source": [
    "cohen_kappa_score65_66=cohen_kappa_score(df['annotation_65'],df['annotation_66'])\n",
    "cohen_kappa_score65_66"
   ]
  },
  {
   "cell_type": "code",
   "execution_count": 98,
   "metadata": {},
   "outputs": [
    {
     "data": {
      "text/plain": [
       "0.6920693928128873"
      ]
     },
     "execution_count": 98,
     "metadata": {},
     "output_type": "execute_result"
    }
   ],
   "source": [
    "cohen_kappa_score65_68=cohen_kappa_score(df['annotation_65'],df['annotation_68'])\n",
    "cohen_kappa_score65_68"
   ]
  },
  {
   "cell_type": "code",
   "execution_count": 99,
   "metadata": {},
   "outputs": [
    {
     "data": {
      "text/plain": [
       "0.6727070418057542"
      ]
     },
     "execution_count": 99,
     "metadata": {},
     "output_type": "execute_result"
    }
   ],
   "source": [
    "cohen_kappa_score65_69=cohen_kappa_score(df['annotation_65'],df['annotation_69'])\n",
    "cohen_kappa_score65_69"
   ]
  },
  {
   "cell_type": "code",
   "execution_count": 101,
   "metadata": {},
   "outputs": [
    {
     "name": "stdout",
     "output_type": "stream",
     "text": [
      "average kappa score for annotator 65 is: 0.717961781836577\n"
     ]
    }
   ],
   "source": [
    "cohen_kappa_score_average_65=(cohen_kappa_score65_66+cohen_kappa_score65_68+cohen_kappa_score65_69)/3\n",
    "print(\"average kappa score for annotator 65 is:\", cohen_kappa_score_average_65)"
   ]
  },
  {
   "cell_type": "markdown",
   "metadata": {},
   "source": [
    "#### Calculating Kappa score for annotation_66"
   ]
  },
  {
   "cell_type": "code",
   "execution_count": 102,
   "metadata": {},
   "outputs": [
    {
     "data": {
      "text/plain": [
       "0.7891089108910891"
      ]
     },
     "execution_count": 102,
     "metadata": {},
     "output_type": "execute_result"
    }
   ],
   "source": [
    "cohen_kappa_score66_65=cohen_kappa_score(df['annotation_66'],df['annotation_65'])\n",
    "cohen_kappa_score66_65"
   ]
  },
  {
   "cell_type": "code",
   "execution_count": 103,
   "metadata": {},
   "outputs": [
    {
     "data": {
      "text/plain": [
       "0.848136076594011"
      ]
     },
     "execution_count": 103,
     "metadata": {},
     "output_type": "execute_result"
    }
   ],
   "source": [
    "cohen_kappa_score66_68=cohen_kappa_score(df['annotation_66'],df['annotation_68'])\n",
    "cohen_kappa_score66_68"
   ]
  },
  {
   "cell_type": "code",
   "execution_count": 104,
   "metadata": {},
   "outputs": [
    {
     "data": {
      "text/plain": [
       "0.8112194359001095"
      ]
     },
     "execution_count": 104,
     "metadata": {},
     "output_type": "execute_result"
    }
   ],
   "source": [
    "cohen_kappa_score66_69=cohen_kappa_score(df['annotation_66'],df['annotation_69'])\n",
    "cohen_kappa_score66_69"
   ]
  },
  {
   "cell_type": "code",
   "execution_count": 105,
   "metadata": {},
   "outputs": [
    {
     "name": "stdout",
     "output_type": "stream",
     "text": [
      "average kappa score for annotator 66 is: 0.81615480779507\n"
     ]
    }
   ],
   "source": [
    "cohen_kappa_score_average_66=(cohen_kappa_score66_65+cohen_kappa_score66_68+cohen_kappa_score66_69)/3\n",
    "print(\"average kappa score for annotator 66 is:\", cohen_kappa_score_average_66)"
   ]
  },
  {
   "cell_type": "markdown",
   "metadata": {},
   "source": [
    "#### Calculating Kappa score for annotation_68"
   ]
  },
  {
   "cell_type": "code",
   "execution_count": 106,
   "metadata": {},
   "outputs": [
    {
     "data": {
      "text/plain": [
       "0.6920693928128873"
      ]
     },
     "execution_count": 106,
     "metadata": {},
     "output_type": "execute_result"
    }
   ],
   "source": [
    "cohen_kappa_score68_65=cohen_kappa_score(df['annotation_68'],df['annotation_65'])\n",
    "cohen_kappa_score68_65"
   ]
  },
  {
   "cell_type": "code",
   "execution_count": 107,
   "metadata": {},
   "outputs": [
    {
     "data": {
      "text/plain": [
       "0.848136076594011"
      ]
     },
     "execution_count": 107,
     "metadata": {},
     "output_type": "execute_result"
    }
   ],
   "source": [
    "cohen_kappa_score68_66=cohen_kappa_score(df['annotation_68'],df['annotation_66'])\n",
    "cohen_kappa_score68_66"
   ]
  },
  {
   "cell_type": "code",
   "execution_count": 108,
   "metadata": {},
   "outputs": [
    {
     "data": {
      "text/plain": [
       "0.7987067893558817"
      ]
     },
     "execution_count": 108,
     "metadata": {},
     "output_type": "execute_result"
    }
   ],
   "source": [
    "cohen_kappa_score68_69=cohen_kappa_score(df['annotation_68'],df['annotation_69'])\n",
    "cohen_kappa_score68_69"
   ]
  },
  {
   "cell_type": "code",
   "execution_count": 109,
   "metadata": {},
   "outputs": [
    {
     "name": "stdout",
     "output_type": "stream",
     "text": [
      "average kappa score for annotator 68 is: 0.7796374195875933\n"
     ]
    }
   ],
   "source": [
    "cohen_kappa_score_average_68=(cohen_kappa_score68_65+cohen_kappa_score68_66+cohen_kappa_score68_69)/3\n",
    "print(\"average kappa score for annotator 68 is:\", cohen_kappa_score_average_68)"
   ]
  },
  {
   "cell_type": "markdown",
   "metadata": {},
   "source": [
    "#### Calculating Kappa score for annotation_69"
   ]
  },
  {
   "cell_type": "code",
   "execution_count": 110,
   "metadata": {},
   "outputs": [
    {
     "data": {
      "text/plain": [
       "0.6727070418057542"
      ]
     },
     "execution_count": 110,
     "metadata": {},
     "output_type": "execute_result"
    }
   ],
   "source": [
    "cohen_kappa_score69_65=cohen_kappa_score(df['annotation_69'],df['annotation_65'])\n",
    "cohen_kappa_score69_65"
   ]
  },
  {
   "cell_type": "code",
   "execution_count": 111,
   "metadata": {},
   "outputs": [
    {
     "data": {
      "text/plain": [
       "0.8112194359001095"
      ]
     },
     "execution_count": 111,
     "metadata": {},
     "output_type": "execute_result"
    }
   ],
   "source": [
    "cohen_kappa_score69_66=cohen_kappa_score(df['annotation_69'],df['annotation_66'])\n",
    "cohen_kappa_score69_66"
   ]
  },
  {
   "cell_type": "code",
   "execution_count": 112,
   "metadata": {},
   "outputs": [
    {
     "data": {
      "text/plain": [
       "0.7987067893558817"
      ]
     },
     "execution_count": 112,
     "metadata": {},
     "output_type": "execute_result"
    }
   ],
   "source": [
    "cohen_kappa_score69_68=cohen_kappa_score(df['annotation_69'],df['annotation_68'])\n",
    "cohen_kappa_score69_68"
   ]
  },
  {
   "cell_type": "code",
   "execution_count": 113,
   "metadata": {},
   "outputs": [
    {
     "name": "stdout",
     "output_type": "stream",
     "text": [
      "average kappa score for annotator 69 is: 0.7608777556872485\n"
     ]
    }
   ],
   "source": [
    "cohen_kappa_score_average_69=(cohen_kappa_score69_65+cohen_kappa_score69_66+cohen_kappa_score69_68)/3\n",
    "print(\"average kappa score for annotator 69 is:\", cohen_kappa_score_average_69)"
   ]
  },
  {
   "cell_type": "markdown",
   "metadata": {},
   "source": [
    "## Calculating Kappa score for annotations in nyt_topic_1_vaccination"
   ]
  },
  {
   "cell_type": "code",
   "execution_count": 114,
   "metadata": {},
   "outputs": [],
   "source": [
    "df=pd.read_csv(r\"C:\\Users\\Kriti\\Desktop\\College-Academics\\NLP\\Project Phase 2-\\nyt_topic\\nyt_topic_1_vaccination.csv\")"
   ]
  },
  {
   "cell_type": "code",
   "execution_count": 115,
   "metadata": {},
   "outputs": [
    {
     "data": {
      "text/html": [
       "<div>\n",
       "<style scoped>\n",
       "    .dataframe tbody tr th:only-of-type {\n",
       "        vertical-align: middle;\n",
       "    }\n",
       "\n",
       "    .dataframe tbody tr th {\n",
       "        vertical-align: top;\n",
       "    }\n",
       "\n",
       "    .dataframe thead th {\n",
       "        text-align: right;\n",
       "    }\n",
       "</style>\n",
       "<table border=\"1\" class=\"dataframe\">\n",
       "  <thead>\n",
       "    <tr style=\"text-align: right;\">\n",
       "      <th></th>\n",
       "      <th>text</th>\n",
       "      <th>annotation_65</th>\n",
       "      <th>annotation_66</th>\n",
       "      <th>annotation_68</th>\n",
       "      <th>annotation_69</th>\n",
       "    </tr>\n",
       "  </thead>\n",
       "  <tbody>\n",
       "    <tr>\n",
       "      <th>0</th>\n",
       "      <td>To all those who gloat “elections have consequ...</td>\n",
       "      <td>True</td>\n",
       "      <td>True</td>\n",
       "      <td>True</td>\n",
       "      <td>True</td>\n",
       "    </tr>\n",
       "    <tr>\n",
       "      <th>1</th>\n",
       "      <td>Corporations and health privacy in the US? How...</td>\n",
       "      <td>False</td>\n",
       "      <td>False</td>\n",
       "      <td>False</td>\n",
       "      <td>False</td>\n",
       "    </tr>\n",
       "    <tr>\n",
       "      <th>2</th>\n",
       "      <td>No. Done with it.</td>\n",
       "      <td>False</td>\n",
       "      <td>False</td>\n",
       "      <td>False</td>\n",
       "      <td>False</td>\n",
       "    </tr>\n",
       "    <tr>\n",
       "      <th>3</th>\n",
       "      <td>I have not eaten outside my house since March....</td>\n",
       "      <td>False</td>\n",
       "      <td>False</td>\n",
       "      <td>False</td>\n",
       "      <td>False</td>\n",
       "    </tr>\n",
       "    <tr>\n",
       "      <th>4</th>\n",
       "      <td>More people die each day in US from the virus ...</td>\n",
       "      <td>False</td>\n",
       "      <td>False</td>\n",
       "      <td>False</td>\n",
       "      <td>False</td>\n",
       "    </tr>\n",
       "  </tbody>\n",
       "</table>\n",
       "</div>"
      ],
      "text/plain": [
       "                                                text  annotation_65  \\\n",
       "0  To all those who gloat “elections have consequ...           True   \n",
       "1  Corporations and health privacy in the US? How...          False   \n",
       "2                                  No. Done with it.          False   \n",
       "3  I have not eaten outside my house since March....          False   \n",
       "4  More people die each day in US from the virus ...          False   \n",
       "\n",
       "   annotation_66  annotation_68  annotation_69  \n",
       "0           True           True           True  \n",
       "1          False          False          False  \n",
       "2          False          False          False  \n",
       "3          False          False          False  \n",
       "4          False          False          False  "
      ]
     },
     "execution_count": 115,
     "metadata": {},
     "output_type": "execute_result"
    }
   ],
   "source": [
    "df.head()"
   ]
  },
  {
   "cell_type": "markdown",
   "metadata": {},
   "source": [
    "#### Calculating Kappa score for annotation_65"
   ]
  },
  {
   "cell_type": "code",
   "execution_count": 116,
   "metadata": {},
   "outputs": [
    {
     "data": {
      "text/plain": [
       "0.5802056555269923"
      ]
     },
     "execution_count": 116,
     "metadata": {},
     "output_type": "execute_result"
    }
   ],
   "source": [
    "cohen_kappa_score65_66=cohen_kappa_score(df['annotation_65'],df['annotation_66'])\n",
    "cohen_kappa_score65_66"
   ]
  },
  {
   "cell_type": "code",
   "execution_count": 117,
   "metadata": {},
   "outputs": [
    {
     "data": {
      "text/plain": [
       "0.5905420991926182"
      ]
     },
     "execution_count": 117,
     "metadata": {},
     "output_type": "execute_result"
    }
   ],
   "source": [
    "cohen_kappa_score65_68=cohen_kappa_score(df['annotation_65'],df['annotation_68'])\n",
    "cohen_kappa_score65_68"
   ]
  },
  {
   "cell_type": "code",
   "execution_count": 118,
   "metadata": {},
   "outputs": [
    {
     "data": {
      "text/plain": [
       "0.6087402281173908"
      ]
     },
     "execution_count": 118,
     "metadata": {},
     "output_type": "execute_result"
    }
   ],
   "source": [
    "cohen_kappa_score65_69=cohen_kappa_score(df['annotation_65'],df['annotation_69'])\n",
    "cohen_kappa_score65_69"
   ]
  },
  {
   "cell_type": "code",
   "execution_count": 119,
   "metadata": {},
   "outputs": [
    {
     "name": "stdout",
     "output_type": "stream",
     "text": [
      "average kappa score for annotator 65 is: 0.5931626609456672\n"
     ]
    }
   ],
   "source": [
    "cohen_kappa_score_average_65=(cohen_kappa_score65_66+cohen_kappa_score65_68+cohen_kappa_score65_69)/3\n",
    "print(\"average kappa score for annotator 65 is:\", cohen_kappa_score_average_65)"
   ]
  },
  {
   "cell_type": "markdown",
   "metadata": {},
   "source": [
    "#### Calculating Kappa score for annotation_66 "
   ]
  },
  {
   "cell_type": "code",
   "execution_count": 120,
   "metadata": {},
   "outputs": [
    {
     "data": {
      "text/plain": [
       "0.5802056555269923"
      ]
     },
     "execution_count": 120,
     "metadata": {},
     "output_type": "execute_result"
    }
   ],
   "source": [
    "cohen_kappa_score66_65=cohen_kappa_score(df['annotation_66'],df['annotation_65'])\n",
    "cohen_kappa_score66_65"
   ]
  },
  {
   "cell_type": "code",
   "execution_count": 121,
   "metadata": {},
   "outputs": [
    {
     "data": {
      "text/plain": [
       "0.8674421944564125"
      ]
     },
     "execution_count": 121,
     "metadata": {},
     "output_type": "execute_result"
    }
   ],
   "source": [
    "cohen_kappa_score66_68=cohen_kappa_score(df['annotation_66'],df['annotation_68'])\n",
    "cohen_kappa_score66_68"
   ]
  },
  {
   "cell_type": "code",
   "execution_count": 122,
   "metadata": {},
   "outputs": [
    {
     "data": {
      "text/plain": [
       "0.9286227200919144"
      ]
     },
     "execution_count": 122,
     "metadata": {},
     "output_type": "execute_result"
    }
   ],
   "source": [
    "cohen_kappa_score66_69=cohen_kappa_score(df['annotation_66'],df['annotation_69'])\n",
    "cohen_kappa_score66_69"
   ]
  },
  {
   "cell_type": "code",
   "execution_count": 123,
   "metadata": {},
   "outputs": [
    {
     "name": "stdout",
     "output_type": "stream",
     "text": [
      "average kappa score for annotator 66 is: 0.7920901900251064\n"
     ]
    }
   ],
   "source": [
    "cohen_kappa_score_average_66=(cohen_kappa_score66_65+cohen_kappa_score66_68+cohen_kappa_score66_69)/3\n",
    "print(\"average kappa score for annotator 66 is:\", cohen_kappa_score_average_66)"
   ]
  },
  {
   "cell_type": "markdown",
   "metadata": {},
   "source": [
    "#### Calculating Kappa score for annotation_68"
   ]
  },
  {
   "cell_type": "code",
   "execution_count": 136,
   "metadata": {},
   "outputs": [],
   "source": [
    "def cohen_avg_68():\n",
    "    cohen_score_68_65 = cohen_kappa_score(df['annotation_68'],df['annotation_65'])\n",
    "    cohen_score_68_66 = cohen_kappa_score(df['annotation_68'],df['annotation_66'])\n",
    "    cohen_score_68_69 = cohen_kappa_score(df['annotation_68'],df['annotation_68'])\n",
    "    cohen_score_average_68 = round((cohen_score_68_65 + cohen_score_68_66 + cohen_score_68_69)/3,3)\n",
    "    print(\"Average Cohen Kappa Score for annotation 69:\",(cohen_score_average_68))\n",
    "    return cohen_score_average_68\n"
   ]
  },
  {
   "cell_type": "code",
   "execution_count": 137,
   "metadata": {},
   "outputs": [
    {
     "name": "stdout",
     "output_type": "stream",
     "text": [
      "Average Cohen Kappa Score for annotation 69: 0.819\n"
     ]
    },
    {
     "data": {
      "text/plain": [
       "0.819"
      ]
     },
     "execution_count": 137,
     "metadata": {},
     "output_type": "execute_result"
    }
   ],
   "source": [
    "cohen_avg_68()"
   ]
  },
  {
   "cell_type": "markdown",
   "metadata": {},
   "source": [
    "#### Calculating Kappa score for annotation_69"
   ]
  },
  {
   "cell_type": "code",
   "execution_count": 132,
   "metadata": {},
   "outputs": [],
   "source": [
    "def cohen_avg_69():\n",
    "    cohen_score_69_65 = cohen_kappa_score(df['annotation_69'],df['annotation_65'])\n",
    "    cohen_score_69_66 = cohen_kappa_score(df['annotation_69'],df['annotation_66'])\n",
    "    cohen_score_69_68 = cohen_kappa_score(df['annotation_69'],df['annotation_68'])\n",
    "    cohen_score_average_69 = round((cohen_score_69_65 + cohen_score_69_66 + cohen_score_69_68)/3,3)\n",
    "    print(\"Average Cohen Kappa Score for annotation 69:\",(cohen_score_average_69))\n",
    "    return cohen_score_average_69\n"
   ]
  },
  {
   "cell_type": "code",
   "execution_count": 133,
   "metadata": {},
   "outputs": [
    {
     "name": "stdout",
     "output_type": "stream",
     "text": [
      "Average Cohen Kappa Score for annotation 69: 0.818\n"
     ]
    },
    {
     "data": {
      "text/plain": [
       "0.818"
      ]
     },
     "execution_count": 133,
     "metadata": {},
     "output_type": "execute_result"
    }
   ],
   "source": [
    "cohen_avg_69()"
   ]
  },
  {
   "cell_type": "code",
   "execution_count": null,
   "metadata": {},
   "outputs": [],
   "source": []
  }
 ],
 "metadata": {
  "kernelspec": {
   "display_name": "Python 3",
   "language": "python",
   "name": "python3"
  },
  "language_info": {
   "codemirror_mode": {
    "name": "ipython",
    "version": 3
   },
   "file_extension": ".py",
   "mimetype": "text/x-python",
   "name": "python",
   "nbconvert_exporter": "python",
   "pygments_lexer": "ipython3",
   "version": "3.8.5"
  }
 },
 "nbformat": 4,
 "nbformat_minor": 4
}
