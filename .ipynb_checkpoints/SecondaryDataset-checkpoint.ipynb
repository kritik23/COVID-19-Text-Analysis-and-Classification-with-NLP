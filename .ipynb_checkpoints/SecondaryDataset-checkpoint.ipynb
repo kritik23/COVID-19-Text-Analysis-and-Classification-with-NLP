{
 "cells": [
  {
   "cell_type": "code",
   "execution_count": 1,
   "metadata": {},
   "outputs": [],
   "source": [
    "import sklearn\n",
    "from sklearn.metrics import cohen_kappa_score\n",
    "import pandas as pd"
   ]
  },
  {
   "cell_type": "markdown",
   "metadata": {},
   "source": [
    "##### For a given topic dataset CSV, create three separate CSVs, corresponding to lockdowns, masking and distancing, and vaccination. The new CSVs are written with the name of the topic suffixed to the original filename.\n",
    "\n",
    "```\n",
    "import argparse\n",
    "import re\n",
    "import pandas as pd\n",
    "\n",
    "parser = argparse.ArgumentParser()\n",
    "parser.add_argument(\"--infile\", \"-i\", type=str, help=\"CSV for dataset to expand\",\n",
    "                    required=True)\n",
    "args = parser.parse_args()\n",
    "\n",
    "for topic in [\"lockdowns\", \"masking and distancing\", \"vaccination\"]:\n",
    "    df = pd.read_csv(args.infile)\n",
    "    cols = df.columns\n",
    "    for col in cols:\n",
    "        if \"annotation\" in col:\n",
    "            df[col] = (df[col].notna() & df[col].str.contains(topic))\n",
    "    new_fn = re.sub(r\"\\.csv$\", f\"_{topic.replace(' ', '_')}.csv\", args.infile)\n",
    "    df.to_csv(new_fn, index=False)\n",
    "\n",
    "```\n",
    "\n",
    "###### Using command: python expand_topic_csv_dataset.py --infile change.org_topic_0.csv\n",
    "###### Using command: python expand_topic_csv_dataset.py --infile change.org_topic_1.csv\n",
    "###### Using command: python expand_topic_csv_dataset.py --infile change.org_topic_2.csv\n",
    "###### Using command: python expand_topic_csv_dataset.py --infile change.org_topic_3.csv\n",
    "###### Using command: python expand_topic_csv_dataset.py --infile change.org_topic_4.csv\n",
    "\n"
   ]
  },
  {
   "cell_type": "markdown",
   "metadata": {},
   "source": [
    "## change.org_topic_0_lockdowns.csv"
   ]
  },
  {
   "cell_type": "code",
   "execution_count": 2,
   "metadata": {},
   "outputs": [
    {
     "data": {
      "text/html": [
       "<div>\n",
       "<style scoped>\n",
       "    .dataframe tbody tr th:only-of-type {\n",
       "        vertical-align: middle;\n",
       "    }\n",
       "\n",
       "    .dataframe tbody tr th {\n",
       "        vertical-align: top;\n",
       "    }\n",
       "\n",
       "    .dataframe thead th {\n",
       "        text-align: right;\n",
       "    }\n",
       "</style>\n",
       "<table border=\"1\" class=\"dataframe\">\n",
       "  <thead>\n",
       "    <tr style=\"text-align: right;\">\n",
       "      <th></th>\n",
       "      <th>text</th>\n",
       "      <th>annotation_96</th>\n",
       "      <th>annotation_53</th>\n",
       "      <th>annotation_93</th>\n",
       "      <th>annotation_94</th>\n",
       "      <th>annotation_95</th>\n",
       "    </tr>\n",
       "  </thead>\n",
       "  <tbody>\n",
       "    <tr>\n",
       "      <th>0</th>\n",
       "      <td>Language Education in the Time of COVID-19</td>\n",
       "      <td>False</td>\n",
       "      <td>False</td>\n",
       "      <td>False</td>\n",
       "      <td>False</td>\n",
       "      <td>False</td>\n",
       "    </tr>\n",
       "    <tr>\n",
       "      <th>1</th>\n",
       "      <td>COVID-19 Test Kits</td>\n",
       "      <td>False</td>\n",
       "      <td>False</td>\n",
       "      <td>False</td>\n",
       "      <td>False</td>\n",
       "      <td>False</td>\n",
       "    </tr>\n",
       "    <tr>\n",
       "      <th>2</th>\n",
       "      <td>COVID 19 IN PRISON</td>\n",
       "      <td>False</td>\n",
       "      <td>False</td>\n",
       "      <td>False</td>\n",
       "      <td>False</td>\n",
       "      <td>False</td>\n",
       "    </tr>\n",
       "    <tr>\n",
       "      <th>3</th>\n",
       "      <td>Get Waled Home</td>\n",
       "      <td>False</td>\n",
       "      <td>False</td>\n",
       "      <td>False</td>\n",
       "      <td>False</td>\n",
       "      <td>False</td>\n",
       "    </tr>\n",
       "    <tr>\n",
       "      <th>4</th>\n",
       "      <td>Make pass/fail available for Mississippi State...</td>\n",
       "      <td>False</td>\n",
       "      <td>False</td>\n",
       "      <td>False</td>\n",
       "      <td>False</td>\n",
       "      <td>False</td>\n",
       "    </tr>\n",
       "  </tbody>\n",
       "</table>\n",
       "</div>"
      ],
      "text/plain": [
       "                                                text  annotation_96  \\\n",
       "0         Language Education in the Time of COVID-19          False   \n",
       "1                                 COVID-19 Test Kits          False   \n",
       "2                                 COVID 19 IN PRISON          False   \n",
       "3                                     Get Waled Home          False   \n",
       "4  Make pass/fail available for Mississippi State...          False   \n",
       "\n",
       "   annotation_53  annotation_93  annotation_94  annotation_95  \n",
       "0          False          False          False          False  \n",
       "1          False          False          False          False  \n",
       "2          False          False          False          False  \n",
       "3          False          False          False          False  \n",
       "4          False          False          False          False  "
      ]
     },
     "execution_count": 2,
     "metadata": {},
     "output_type": "execute_result"
    }
   ],
   "source": [
    "df = pd.read_csv(r'change.org_topic\\change.org_topic_0_lockdowns.csv')\n",
    "df.head()"
   ]
  },
  {
   "cell_type": "code",
   "execution_count": 3,
   "metadata": {},
   "outputs": [
    {
     "name": "stdout",
     "output_type": "stream",
     "text": [
      "0\n",
      "0\n",
      "0\n",
      "0\n",
      "0\n",
      "0\n"
     ]
    }
   ],
   "source": [
    "print(df['annotation_53'].isnull().sum())\n",
    "print(df['annotation_93'].isnull().sum())\n",
    "print(df['annotation_94'].isnull().sum())\n",
    "print(df['annotation_95'].isnull().sum())\n",
    "print(df['annotation_96'].isnull().sum())\n",
    "print(df['text'].isnull().sum())"
   ]
  },
  {
   "cell_type": "code",
   "execution_count": 4,
   "metadata": {},
   "outputs": [],
   "source": [
    "annotation_1= df['annotation_53']\n",
    "annotation_2= df['annotation_93']\n",
    "annotation_3= df['annotation_94']\n",
    "annotation_4= df['annotation_95']\n",
    "annotation_5= df['annotation_96']"
   ]
  },
  {
   "cell_type": "markdown",
   "metadata": {},
   "source": [
    "### Cohen_kappa average score of annotation 53"
   ]
  },
  {
   "cell_type": "code",
   "execution_count": 5,
   "metadata": {},
   "outputs": [],
   "source": [
    "def cohen_avg_1():\n",
    "    cohen_score_12 = cohen_kappa_score(annotation_1,annotation_2)\n",
    "    cohen_score_13 = cohen_kappa_score(annotation_1,annotation_3)\n",
    "    cohen_score_14 = cohen_kappa_score(annotation_1,annotation_4)\n",
    "    cohen_score_15 = cohen_kappa_score(annotation_1,annotation_5)\n",
    "    cohen_score_average_1 = round((cohen_score_12 + cohen_score_13 + cohen_score_14+ cohen_score_15)/4,3)\n",
    "    print(\"Average Cohen Kappa Score for annotation 53:\",(cohen_score_average_1))\n",
    "    return cohen_score_average_1"
   ]
  },
  {
   "cell_type": "code",
   "execution_count": 6,
   "metadata": {
    "scrolled": true
   },
   "outputs": [
    {
     "name": "stdout",
     "output_type": "stream",
     "text": [
      "Average Cohen Kappa Score for annotation 53: 0.038\n"
     ]
    },
    {
     "data": {
      "text/plain": [
       "0.038"
      ]
     },
     "execution_count": 6,
     "metadata": {},
     "output_type": "execute_result"
    }
   ],
   "source": [
    "cohen_avg_1()"
   ]
  },
  {
   "cell_type": "markdown",
   "metadata": {},
   "source": [
    "### Cohen_kappa average score of annotation 93"
   ]
  },
  {
   "cell_type": "code",
   "execution_count": 7,
   "metadata": {},
   "outputs": [],
   "source": [
    "def cohen_avg_2():\n",
    "    cohen_score_21 = cohen_kappa_score(annotation_2,annotation_1)\n",
    "    cohen_score_23 = cohen_kappa_score(annotation_2,annotation_3)\n",
    "    cohen_score_24 = cohen_kappa_score(annotation_2,annotation_4)\n",
    "    cohen_score_25 = cohen_kappa_score(annotation_2,annotation_5)\n",
    "    cohen_score_average_2 = round((cohen_score_21 + cohen_score_23 + cohen_score_24+ cohen_score_25)/4,3)\n",
    "    print(\"Average Cohen Kappa Score for annotation 93:\",(cohen_score_average_2))\n",
    "    return cohen_score_average_2"
   ]
  },
  {
   "cell_type": "code",
   "execution_count": 8,
   "metadata": {},
   "outputs": [
    {
     "name": "stdout",
     "output_type": "stream",
     "text": [
      "Average Cohen Kappa Score for annotation 93: 0.346\n"
     ]
    },
    {
     "data": {
      "text/plain": [
       "0.346"
      ]
     },
     "execution_count": 8,
     "metadata": {},
     "output_type": "execute_result"
    }
   ],
   "source": [
    "cohen_avg_2()"
   ]
  },
  {
   "cell_type": "markdown",
   "metadata": {},
   "source": [
    "### Cohen_kappa average score of annotation 94"
   ]
  },
  {
   "cell_type": "code",
   "execution_count": 9,
   "metadata": {},
   "outputs": [],
   "source": [
    "def cohen_avg_3():\n",
    "    cohen_score_31 = cohen_kappa_score(annotation_3,annotation_1)\n",
    "    cohen_score_32 = cohen_kappa_score(annotation_3,annotation_2)\n",
    "    cohen_score_34 = cohen_kappa_score(annotation_3,annotation_4)\n",
    "    cohen_score_35 = cohen_kappa_score(annotation_3,annotation_5)\n",
    "    cohen_score_average_3 = round((cohen_score_31 + cohen_score_32 + cohen_score_34+ cohen_score_35)/4,3)\n",
    "    print(\"Average Cohen Kappa Score for annotation 94:\",(cohen_score_average_3))\n",
    "    return cohen_score_average_3"
   ]
  },
  {
   "cell_type": "code",
   "execution_count": 10,
   "metadata": {},
   "outputs": [
    {
     "name": "stdout",
     "output_type": "stream",
     "text": [
      "Average Cohen Kappa Score for annotation 94: 0.428\n"
     ]
    },
    {
     "data": {
      "text/plain": [
       "0.428"
      ]
     },
     "execution_count": 10,
     "metadata": {},
     "output_type": "execute_result"
    }
   ],
   "source": [
    "cohen_avg_3()"
   ]
  },
  {
   "cell_type": "markdown",
   "metadata": {},
   "source": [
    "### Cohen_kappa average score of annotation 95"
   ]
  },
  {
   "cell_type": "code",
   "execution_count": 11,
   "metadata": {},
   "outputs": [],
   "source": [
    "def cohen_avg_4():\n",
    "    cohen_score_41 = cohen_kappa_score(annotation_4,annotation_1)\n",
    "    cohen_score_42 = cohen_kappa_score(annotation_4,annotation_2)\n",
    "    cohen_score_43 = cohen_kappa_score(annotation_4,annotation_3)\n",
    "    cohen_score_45 = cohen_kappa_score(annotation_4,annotation_5)\n",
    "    cohen_score_average_4 = round((cohen_score_41 + cohen_score_42 + cohen_score_43 + cohen_score_45)/4,3)\n",
    "    print(\"Average Cohen Kappa Score for annotation 95:\",(cohen_score_average_4))\n",
    "    return cohen_score_average_4"
   ]
  },
  {
   "cell_type": "code",
   "execution_count": 12,
   "metadata": {},
   "outputs": [
    {
     "name": "stdout",
     "output_type": "stream",
     "text": [
      "Average Cohen Kappa Score for annotation 95: 0.425\n"
     ]
    },
    {
     "data": {
      "text/plain": [
       "0.425"
      ]
     },
     "execution_count": 12,
     "metadata": {},
     "output_type": "execute_result"
    }
   ],
   "source": [
    "cohen_avg_4()"
   ]
  },
  {
   "cell_type": "markdown",
   "metadata": {},
   "source": [
    "### Cohen_kappa average score of annotation 96"
   ]
  },
  {
   "cell_type": "code",
   "execution_count": 13,
   "metadata": {},
   "outputs": [],
   "source": [
    "def cohen_avg_5():\n",
    "    cohen_score_51 = cohen_kappa_score(annotation_5,annotation_1)\n",
    "    cohen_score_52 = cohen_kappa_score(annotation_5,annotation_2)\n",
    "    cohen_score_53 = cohen_kappa_score(annotation_5,annotation_3)\n",
    "    cohen_score_54 = cohen_kappa_score(annotation_5,annotation_4)\n",
    "    cohen_score_average_5 = round((cohen_score_51 + cohen_score_52 + cohen_score_53 + cohen_score_54)/4,3)\n",
    "    print(\"Average Cohen Kappa Score for annotation 96:\",(cohen_score_average_5))\n",
    "    return cohen_score_average_5"
   ]
  },
  {
   "cell_type": "code",
   "execution_count": 14,
   "metadata": {},
   "outputs": [
    {
     "name": "stdout",
     "output_type": "stream",
     "text": [
      "Average Cohen Kappa Score for annotation 96: 0.377\n"
     ]
    },
    {
     "data": {
      "text/plain": [
       "0.377"
      ]
     },
     "execution_count": 14,
     "metadata": {},
     "output_type": "execute_result"
    }
   ],
   "source": [
    "cohen_avg_5()"
   ]
  },
  {
   "cell_type": "markdown",
   "metadata": {},
   "source": [
    "##### If average cohen kappa score for any annotation is less than 0.2, we will drop it"
   ]
  },
  {
   "cell_type": "code",
   "execution_count": 15,
   "metadata": {},
   "outputs": [],
   "source": [
    "def drop_annotate():\n",
    "    average = [cohen_avg_1(), cohen_avg_2(),cohen_avg_3(),cohen_avg_4(),cohen_avg_5()]\n",
    "    columns_name = ['annotation_53','annotation_93','annotation_94','annotation_95','annotation_96']\n",
    "    #columns =[annotation_1,annotation_2,annotation_3,annotation_4]\n",
    "    for i in range(0,len(average)):\n",
    "        if average[i]< 0.2:\n",
    "            print(\"\\n\")\n",
    "            print(columns_name[i])\n",
    "            print(average[i])\n",
    "            df.drop(columns_name[i], axis=1, inplace = True)\n",
    "    print(df.head())"
   ]
  },
  {
   "cell_type": "code",
   "execution_count": 16,
   "metadata": {
    "scrolled": true
   },
   "outputs": [
    {
     "name": "stdout",
     "output_type": "stream",
     "text": [
      "Average Cohen Kappa Score for annotation 53: 0.038\n",
      "Average Cohen Kappa Score for annotation 93: 0.346\n",
      "Average Cohen Kappa Score for annotation 94: 0.428\n",
      "Average Cohen Kappa Score for annotation 95: 0.425\n",
      "Average Cohen Kappa Score for annotation 96: 0.377\n",
      "\n",
      "\n",
      "annotation_53\n",
      "0.038\n",
      "                                                text  annotation_96  \\\n",
      "0         Language Education in the Time of COVID-19          False   \n",
      "1                                 COVID-19 Test Kits          False   \n",
      "2                                 COVID 19 IN PRISON          False   \n",
      "3                                     Get Waled Home          False   \n",
      "4  Make pass/fail available for Mississippi State...          False   \n",
      "\n",
      "   annotation_93  annotation_94  annotation_95  \n",
      "0          False          False          False  \n",
      "1          False          False          False  \n",
      "2          False          False          False  \n",
      "3          False          False          False  \n",
      "4          False          False          False  \n"
     ]
    }
   ],
   "source": [
    "drop_annotate()"
   ]
  },
  {
   "cell_type": "code",
   "execution_count": 17,
   "metadata": {},
   "outputs": [],
   "source": [
    "def updateLabel(df):\n",
    "    for index, rows in df.iterrows():\n",
    "        compare = [[cohen_avg_2(),rows['annotation_93']],\n",
    "                   [cohen_avg_3(),rows['annotation_94']],\n",
    "                   [cohen_avg_4(),rows['annotation_95']],\n",
    "                    [cohen_avg_5(),rows['annotation_96']]]\n",
    "        boolean = [rows['annotation_93'],rows['annotation_94'],rows['annotation_95'],rows['annotation_96']]\n",
    "        compare.sort(key = lambda k:k[0])\n",
    "        t = compare.count('True')\n",
    "        f = compare.count('False')\n",
    "        if t == f: \n",
    "            kapaValue, colValue = compare[-1]\n",
    "            df.loc[index, 'Final Label'] = colValue\n",
    "            \n",
    "        elif t!=f:\n",
    "            if t > f:\n",
    "                df.loc[index, 'Final Label'] = True\n",
    "            else:\n",
    "                df.loc[index, 'Final Label'] = False\n",
    "    \n",
    "\n"
   ]
  },
  {
   "cell_type": "code",
   "execution_count": 18,
   "metadata": {},
   "outputs": [
    {
     "name": "stdout",
     "output_type": "stream",
     "text": [
      "Average Cohen Kappa Score for annotation 93: 0.346\n",
      "Average Cohen Kappa Score for annotation 94: 0.428\n",
      "Average Cohen Kappa Score for annotation 95: 0.425\n",
      "Average Cohen Kappa Score for annotation 96: 0.377\n",
      "Average Cohen Kappa Score for annotation 93: 0.346\n",
      "Average Cohen Kappa Score for annotation 94: 0.428\n",
      "Average Cohen Kappa Score for annotation 95: 0.425\n",
      "Average Cohen Kappa Score for annotation 96: 0.377\n",
      "Average Cohen Kappa Score for annotation 93: 0.346\n",
      "Average Cohen Kappa Score for annotation 94: 0.428\n",
      "Average Cohen Kappa Score for annotation 95: 0.425\n",
      "Average Cohen Kappa Score for annotation 96: 0.377\n",
      "Average Cohen Kappa Score for annotation 93: 0.346\n",
      "Average Cohen Kappa Score for annotation 94: 0.428\n",
      "Average Cohen Kappa Score for annotation 95: 0.425\n",
      "Average Cohen Kappa Score for annotation 96: 0.377\n",
      "Average Cohen Kappa Score for annotation 93: 0.346\n",
      "Average Cohen Kappa Score for annotation 94: 0.428\n",
      "Average Cohen Kappa Score for annotation 95: 0.425\n",
      "Average Cohen Kappa Score for annotation 96: 0.377\n",
      "Average Cohen Kappa Score for annotation 93: 0.346\n",
      "Average Cohen Kappa Score for annotation 94: 0.428\n",
      "Average Cohen Kappa Score for annotation 95: 0.425\n",
      "Average Cohen Kappa Score for annotation 96: 0.377\n",
      "Average Cohen Kappa Score for annotation 93: 0.346\n",
      "Average Cohen Kappa Score for annotation 94: 0.428\n",
      "Average Cohen Kappa Score for annotation 95: 0.425\n",
      "Average Cohen Kappa Score for annotation 96: 0.377\n",
      "Average Cohen Kappa Score for annotation 93: 0.346\n",
      "Average Cohen Kappa Score for annotation 94: 0.428\n",
      "Average Cohen Kappa Score for annotation 95: 0.425\n",
      "Average Cohen Kappa Score for annotation 96: 0.377\n",
      "Average Cohen Kappa Score for annotation 93: 0.346\n",
      "Average Cohen Kappa Score for annotation 94: 0.428\n",
      "Average Cohen Kappa Score for annotation 95: 0.425\n",
      "Average Cohen Kappa Score for annotation 96: 0.377\n",
      "Average Cohen Kappa Score for annotation 93: 0.346\n",
      "Average Cohen Kappa Score for annotation 94: 0.428\n",
      "Average Cohen Kappa Score for annotation 95: 0.425\n",
      "Average Cohen Kappa Score for annotation 96: 0.377\n",
      "Average Cohen Kappa Score for annotation 93: 0.346\n",
      "Average Cohen Kappa Score for annotation 94: 0.428\n",
      "Average Cohen Kappa Score for annotation 95: 0.425\n",
      "Average Cohen Kappa Score for annotation 96: 0.377\n",
      "Average Cohen Kappa Score for annotation 93: 0.346\n",
      "Average Cohen Kappa Score for annotation 94: 0.428\n",
      "Average Cohen Kappa Score for annotation 95: 0.425\n",
      "Average Cohen Kappa Score for annotation 96: 0.377\n",
      "Average Cohen Kappa Score for annotation 93: 0.346\n",
      "Average Cohen Kappa Score for annotation 94: 0.428\n",
      "Average Cohen Kappa Score for annotation 95: 0.425\n",
      "Average Cohen Kappa Score for annotation 96: 0.377\n",
      "Average Cohen Kappa Score for annotation 93: 0.346\n",
      "Average Cohen Kappa Score for annotation 94: 0.428\n",
      "Average Cohen Kappa Score for annotation 95: 0.425\n",
      "Average Cohen Kappa Score for annotation 96: 0.377\n",
      "Average Cohen Kappa Score for annotation 93: 0.346\n",
      "Average Cohen Kappa Score for annotation 94: 0.428\n",
      "Average Cohen Kappa Score for annotation 95: 0.425\n",
      "Average Cohen Kappa Score for annotation 96: 0.377\n",
      "Average Cohen Kappa Score for annotation 93: 0.346\n",
      "Average Cohen Kappa Score for annotation 94: 0.428\n",
      "Average Cohen Kappa Score for annotation 95: 0.425\n",
      "Average Cohen Kappa Score for annotation 96: 0.377\n",
      "Average Cohen Kappa Score for annotation 93: 0.346\n",
      "Average Cohen Kappa Score for annotation 94: 0.428\n",
      "Average Cohen Kappa Score for annotation 95: 0.425\n",
      "Average Cohen Kappa Score for annotation 96: 0.377\n",
      "Average Cohen Kappa Score for annotation 93: 0.346\n",
      "Average Cohen Kappa Score for annotation 94: 0.428\n",
      "Average Cohen Kappa Score for annotation 95: 0.425\n",
      "Average Cohen Kappa Score for annotation 96: 0.377\n",
      "Average Cohen Kappa Score for annotation 93: 0.346\n",
      "Average Cohen Kappa Score for annotation 94: 0.428\n",
      "Average Cohen Kappa Score for annotation 95: 0.425\n",
      "Average Cohen Kappa Score for annotation 96: 0.377\n",
      "Average Cohen Kappa Score for annotation 93: 0.346\n",
      "Average Cohen Kappa Score for annotation 94: 0.428\n",
      "Average Cohen Kappa Score for annotation 95: 0.425\n",
      "Average Cohen Kappa Score for annotation 96: 0.377\n",
      "Average Cohen Kappa Score for annotation 93: 0.346\n",
      "Average Cohen Kappa Score for annotation 94: 0.428\n",
      "Average Cohen Kappa Score for annotation 95: 0.425\n",
      "Average Cohen Kappa Score for annotation 96: 0.377\n",
      "Average Cohen Kappa Score for annotation 93: 0.346\n",
      "Average Cohen Kappa Score for annotation 94: 0.428\n",
      "Average Cohen Kappa Score for annotation 95: 0.425\n",
      "Average Cohen Kappa Score for annotation 96: 0.377\n",
      "Average Cohen Kappa Score for annotation 93: 0.346\n",
      "Average Cohen Kappa Score for annotation 94: 0.428\n",
      "Average Cohen Kappa Score for annotation 95: 0.425\n",
      "Average Cohen Kappa Score for annotation 96: 0.377\n",
      "Average Cohen Kappa Score for annotation 93: 0.346\n",
      "Average Cohen Kappa Score for annotation 94: 0.428\n",
      "Average Cohen Kappa Score for annotation 95: 0.425\n",
      "Average Cohen Kappa Score for annotation 96: 0.377\n",
      "Average Cohen Kappa Score for annotation 93: 0.346\n",
      "Average Cohen Kappa Score for annotation 94: 0.428\n",
      "Average Cohen Kappa Score for annotation 95: 0.425\n",
      "Average Cohen Kappa Score for annotation 96: 0.377\n",
      "Average Cohen Kappa Score for annotation 93: 0.346\n",
      "Average Cohen Kappa Score for annotation 94: 0.428\n",
      "Average Cohen Kappa Score for annotation 95: 0.425\n",
      "Average Cohen Kappa Score for annotation 96: 0.377\n",
      "Average Cohen Kappa Score for annotation 93: 0.346\n",
      "Average Cohen Kappa Score for annotation 94: 0.428\n",
      "Average Cohen Kappa Score for annotation 95: 0.425\n",
      "Average Cohen Kappa Score for annotation 96: 0.377\n",
      "Average Cohen Kappa Score for annotation 93: 0.346\n",
      "Average Cohen Kappa Score for annotation 94: 0.428\n",
      "Average Cohen Kappa Score for annotation 95: 0.425\n",
      "Average Cohen Kappa Score for annotation 96: 0.377\n",
      "Average Cohen Kappa Score for annotation 93: 0.346\n",
      "Average Cohen Kappa Score for annotation 94: 0.428\n",
      "Average Cohen Kappa Score for annotation 95: 0.425\n",
      "Average Cohen Kappa Score for annotation 96: 0.377\n",
      "Average Cohen Kappa Score for annotation 93: 0.346\n",
      "Average Cohen Kappa Score for annotation 94: 0.428\n",
      "Average Cohen Kappa Score for annotation 95: 0.425\n",
      "Average Cohen Kappa Score for annotation 96: 0.377\n",
      "Average Cohen Kappa Score for annotation 93: 0.346\n",
      "Average Cohen Kappa Score for annotation 94: 0.428\n",
      "Average Cohen Kappa Score for annotation 95: 0.425\n",
      "Average Cohen Kappa Score for annotation 96: 0.377\n",
      "Average Cohen Kappa Score for annotation 93: 0.346\n",
      "Average Cohen Kappa Score for annotation 94: 0.428\n",
      "Average Cohen Kappa Score for annotation 95: 0.425\n",
      "Average Cohen Kappa Score for annotation 96: 0.377\n",
      "Average Cohen Kappa Score for annotation 93: 0.346\n",
      "Average Cohen Kappa Score for annotation 94: 0.428\n",
      "Average Cohen Kappa Score for annotation 95: 0.425\n",
      "Average Cohen Kappa Score for annotation 96: 0.377\n",
      "Average Cohen Kappa Score for annotation 93: 0.346\n",
      "Average Cohen Kappa Score for annotation 94: 0.428\n",
      "Average Cohen Kappa Score for annotation 95: 0.425\n",
      "Average Cohen Kappa Score for annotation 96: 0.377\n",
      "Average Cohen Kappa Score for annotation 93: 0.346\n",
      "Average Cohen Kappa Score for annotation 94: 0.428\n",
      "Average Cohen Kappa Score for annotation 95: 0.425\n",
      "Average Cohen Kappa Score for annotation 96: 0.377\n",
      "Average Cohen Kappa Score for annotation 93: 0.346\n",
      "Average Cohen Kappa Score for annotation 94: 0.428\n",
      "Average Cohen Kappa Score for annotation 95: 0.425\n",
      "Average Cohen Kappa Score for annotation 96: 0.377\n",
      "Average Cohen Kappa Score for annotation 93: 0.346\n",
      "Average Cohen Kappa Score for annotation 94: 0.428\n",
      "Average Cohen Kappa Score for annotation 95: 0.425\n",
      "Average Cohen Kappa Score for annotation 96: 0.377\n",
      "Average Cohen Kappa Score for annotation 93: 0.346\n",
      "Average Cohen Kappa Score for annotation 94: 0.428\n",
      "Average Cohen Kappa Score for annotation 95: 0.425\n",
      "Average Cohen Kappa Score for annotation 96: 0.377\n",
      "Average Cohen Kappa Score for annotation 93: 0.346\n",
      "Average Cohen Kappa Score for annotation 94: 0.428\n",
      "Average Cohen Kappa Score for annotation 95: 0.425\n",
      "Average Cohen Kappa Score for annotation 96: 0.377\n",
      "Average Cohen Kappa Score for annotation 93: 0.346\n",
      "Average Cohen Kappa Score for annotation 94: 0.428\n",
      "Average Cohen Kappa Score for annotation 95: 0.425\n",
      "Average Cohen Kappa Score for annotation 96: 0.377\n",
      "Average Cohen Kappa Score for annotation 93: 0.346\n",
      "Average Cohen Kappa Score for annotation 94: 0.428\n",
      "Average Cohen Kappa Score for annotation 95: 0.425\n",
      "Average Cohen Kappa Score for annotation 96: 0.377\n",
      "Average Cohen Kappa Score for annotation 93: 0.346\n"
     ]
    },
    {
     "name": "stdout",
     "output_type": "stream",
     "text": [
      "Average Cohen Kappa Score for annotation 94: 0.428\n",
      "Average Cohen Kappa Score for annotation 95: 0.425\n",
      "Average Cohen Kappa Score for annotation 96: 0.377\n",
      "Average Cohen Kappa Score for annotation 93: 0.346\n",
      "Average Cohen Kappa Score for annotation 94: 0.428\n",
      "Average Cohen Kappa Score for annotation 95: 0.425\n",
      "Average Cohen Kappa Score for annotation 96: 0.377\n",
      "Average Cohen Kappa Score for annotation 93: 0.346\n",
      "Average Cohen Kappa Score for annotation 94: 0.428\n",
      "Average Cohen Kappa Score for annotation 95: 0.425\n",
      "Average Cohen Kappa Score for annotation 96: 0.377\n",
      "Average Cohen Kappa Score for annotation 93: 0.346\n",
      "Average Cohen Kappa Score for annotation 94: 0.428\n",
      "Average Cohen Kappa Score for annotation 95: 0.425\n",
      "Average Cohen Kappa Score for annotation 96: 0.377\n",
      "Average Cohen Kappa Score for annotation 93: 0.346\n",
      "Average Cohen Kappa Score for annotation 94: 0.428\n",
      "Average Cohen Kappa Score for annotation 95: 0.425\n",
      "Average Cohen Kappa Score for annotation 96: 0.377\n",
      "Average Cohen Kappa Score for annotation 93: 0.346\n",
      "Average Cohen Kappa Score for annotation 94: 0.428\n",
      "Average Cohen Kappa Score for annotation 95: 0.425\n",
      "Average Cohen Kappa Score for annotation 96: 0.377\n",
      "Average Cohen Kappa Score for annotation 93: 0.346\n",
      "Average Cohen Kappa Score for annotation 94: 0.428\n",
      "Average Cohen Kappa Score for annotation 95: 0.425\n",
      "Average Cohen Kappa Score for annotation 96: 0.377\n",
      "Average Cohen Kappa Score for annotation 93: 0.346\n",
      "Average Cohen Kappa Score for annotation 94: 0.428\n",
      "Average Cohen Kappa Score for annotation 95: 0.425\n",
      "Average Cohen Kappa Score for annotation 96: 0.377\n",
      "Average Cohen Kappa Score for annotation 93: 0.346\n",
      "Average Cohen Kappa Score for annotation 94: 0.428\n",
      "Average Cohen Kappa Score for annotation 95: 0.425\n",
      "Average Cohen Kappa Score for annotation 96: 0.377\n",
      "Average Cohen Kappa Score for annotation 93: 0.346\n",
      "Average Cohen Kappa Score for annotation 94: 0.428\n",
      "Average Cohen Kappa Score for annotation 95: 0.425\n",
      "Average Cohen Kappa Score for annotation 96: 0.377\n",
      "Average Cohen Kappa Score for annotation 93: 0.346\n",
      "Average Cohen Kappa Score for annotation 94: 0.428\n",
      "Average Cohen Kappa Score for annotation 95: 0.425\n",
      "Average Cohen Kappa Score for annotation 96: 0.377\n",
      "Average Cohen Kappa Score for annotation 93: 0.346\n",
      "Average Cohen Kappa Score for annotation 94: 0.428\n",
      "Average Cohen Kappa Score for annotation 95: 0.425\n",
      "Average Cohen Kappa Score for annotation 96: 0.377\n",
      "Average Cohen Kappa Score for annotation 93: 0.346\n",
      "Average Cohen Kappa Score for annotation 94: 0.428\n",
      "Average Cohen Kappa Score for annotation 95: 0.425\n",
      "Average Cohen Kappa Score for annotation 96: 0.377\n",
      "Average Cohen Kappa Score for annotation 93: 0.346\n",
      "Average Cohen Kappa Score for annotation 94: 0.428\n",
      "Average Cohen Kappa Score for annotation 95: 0.425\n",
      "Average Cohen Kappa Score for annotation 96: 0.377\n",
      "Average Cohen Kappa Score for annotation 93: 0.346\n",
      "Average Cohen Kappa Score for annotation 94: 0.428\n",
      "Average Cohen Kappa Score for annotation 95: 0.425\n",
      "Average Cohen Kappa Score for annotation 96: 0.377\n",
      "Average Cohen Kappa Score for annotation 93: 0.346\n",
      "Average Cohen Kappa Score for annotation 94: 0.428\n",
      "Average Cohen Kappa Score for annotation 95: 0.425\n",
      "Average Cohen Kappa Score for annotation 96: 0.377\n",
      "Average Cohen Kappa Score for annotation 93: 0.346\n",
      "Average Cohen Kappa Score for annotation 94: 0.428\n",
      "Average Cohen Kappa Score for annotation 95: 0.425\n",
      "Average Cohen Kappa Score for annotation 96: 0.377\n",
      "Average Cohen Kappa Score for annotation 93: 0.346\n",
      "Average Cohen Kappa Score for annotation 94: 0.428\n",
      "Average Cohen Kappa Score for annotation 95: 0.425\n",
      "Average Cohen Kappa Score for annotation 96: 0.377\n",
      "Average Cohen Kappa Score for annotation 93: 0.346\n",
      "Average Cohen Kappa Score for annotation 94: 0.428\n",
      "Average Cohen Kappa Score for annotation 95: 0.425\n",
      "Average Cohen Kappa Score for annotation 96: 0.377\n",
      "Average Cohen Kappa Score for annotation 93: 0.346\n",
      "Average Cohen Kappa Score for annotation 94: 0.428\n",
      "Average Cohen Kappa Score for annotation 95: 0.425\n",
      "Average Cohen Kappa Score for annotation 96: 0.377\n",
      "Average Cohen Kappa Score for annotation 93: 0.346\n",
      "Average Cohen Kappa Score for annotation 94: 0.428\n",
      "Average Cohen Kappa Score for annotation 95: 0.425\n",
      "Average Cohen Kappa Score for annotation 96: 0.377\n",
      "Average Cohen Kappa Score for annotation 93: 0.346\n",
      "Average Cohen Kappa Score for annotation 94: 0.428\n",
      "Average Cohen Kappa Score for annotation 95: 0.425\n",
      "Average Cohen Kappa Score for annotation 96: 0.377\n",
      "Average Cohen Kappa Score for annotation 93: 0.346\n",
      "Average Cohen Kappa Score for annotation 94: 0.428\n",
      "Average Cohen Kappa Score for annotation 95: 0.425\n",
      "Average Cohen Kappa Score for annotation 96: 0.377\n",
      "Average Cohen Kappa Score for annotation 93: 0.346\n",
      "Average Cohen Kappa Score for annotation 94: 0.428\n",
      "Average Cohen Kappa Score for annotation 95: 0.425\n",
      "Average Cohen Kappa Score for annotation 96: 0.377\n",
      "Average Cohen Kappa Score for annotation 93: 0.346\n",
      "Average Cohen Kappa Score for annotation 94: 0.428\n",
      "Average Cohen Kappa Score for annotation 95: 0.425\n",
      "Average Cohen Kappa Score for annotation 96: 0.377\n",
      "Average Cohen Kappa Score for annotation 93: 0.346\n",
      "Average Cohen Kappa Score for annotation 94: 0.428\n",
      "Average Cohen Kappa Score for annotation 95: 0.425\n",
      "Average Cohen Kappa Score for annotation 96: 0.377\n",
      "Average Cohen Kappa Score for annotation 93: 0.346\n",
      "Average Cohen Kappa Score for annotation 94: 0.428\n",
      "Average Cohen Kappa Score for annotation 95: 0.425\n",
      "Average Cohen Kappa Score for annotation 96: 0.377\n",
      "Average Cohen Kappa Score for annotation 93: 0.346\n",
      "Average Cohen Kappa Score for annotation 94: 0.428\n",
      "Average Cohen Kappa Score for annotation 95: 0.425\n",
      "Average Cohen Kappa Score for annotation 96: 0.377\n",
      "Average Cohen Kappa Score for annotation 93: 0.346\n",
      "Average Cohen Kappa Score for annotation 94: 0.428\n",
      "Average Cohen Kappa Score for annotation 95: 0.425\n",
      "Average Cohen Kappa Score for annotation 96: 0.377\n",
      "Average Cohen Kappa Score for annotation 93: 0.346\n",
      "Average Cohen Kappa Score for annotation 94: 0.428\n",
      "Average Cohen Kappa Score for annotation 95: 0.425\n",
      "Average Cohen Kappa Score for annotation 96: 0.377\n",
      "Average Cohen Kappa Score for annotation 93: 0.346\n",
      "Average Cohen Kappa Score for annotation 94: 0.428\n",
      "Average Cohen Kappa Score for annotation 95: 0.425\n",
      "Average Cohen Kappa Score for annotation 96: 0.377\n",
      "Average Cohen Kappa Score for annotation 93: 0.346\n",
      "Average Cohen Kappa Score for annotation 94: 0.428\n",
      "Average Cohen Kappa Score for annotation 95: 0.425\n",
      "Average Cohen Kappa Score for annotation 96: 0.377\n",
      "Average Cohen Kappa Score for annotation 93: 0.346\n",
      "Average Cohen Kappa Score for annotation 94: 0.428\n",
      "Average Cohen Kappa Score for annotation 95: 0.425\n",
      "Average Cohen Kappa Score for annotation 96: 0.377\n",
      "Average Cohen Kappa Score for annotation 93: 0.346\n",
      "Average Cohen Kappa Score for annotation 94: 0.428\n",
      "Average Cohen Kappa Score for annotation 95: 0.425\n",
      "Average Cohen Kappa Score for annotation 96: 0.377\n",
      "Average Cohen Kappa Score for annotation 93: 0.346\n",
      "Average Cohen Kappa Score for annotation 94: 0.428\n",
      "Average Cohen Kappa Score for annotation 95: 0.425\n",
      "Average Cohen Kappa Score for annotation 96: 0.377\n",
      "Average Cohen Kappa Score for annotation 93: 0.346\n",
      "Average Cohen Kappa Score for annotation 94: 0.428\n",
      "Average Cohen Kappa Score for annotation 95: 0.425\n",
      "Average Cohen Kappa Score for annotation 96: 0.377\n",
      "Average Cohen Kappa Score for annotation 93: 0.346\n",
      "Average Cohen Kappa Score for annotation 94: 0.428\n",
      "Average Cohen Kappa Score for annotation 95: 0.425\n",
      "Average Cohen Kappa Score for annotation 96: 0.377\n",
      "Average Cohen Kappa Score for annotation 93: 0.346\n",
      "Average Cohen Kappa Score for annotation 94: 0.428\n",
      "Average Cohen Kappa Score for annotation 95: 0.425\n",
      "Average Cohen Kappa Score for annotation 96: 0.377\n",
      "Average Cohen Kappa Score for annotation 93: 0.346\n",
      "Average Cohen Kappa Score for annotation 94: 0.428\n",
      "Average Cohen Kappa Score for annotation 95: 0.425\n",
      "Average Cohen Kappa Score for annotation 96: 0.377\n",
      "Average Cohen Kappa Score for annotation 93: 0.346\n",
      "Average Cohen Kappa Score for annotation 94: 0.428\n",
      "Average Cohen Kappa Score for annotation 95: 0.425\n",
      "Average Cohen Kappa Score for annotation 96: 0.377\n",
      "Average Cohen Kappa Score for annotation 93: 0.346\n",
      "Average Cohen Kappa Score for annotation 94: 0.428\n",
      "Average Cohen Kappa Score for annotation 95: 0.425\n",
      "Average Cohen Kappa Score for annotation 96: 0.377\n",
      "Average Cohen Kappa Score for annotation 93: 0.346\n",
      "Average Cohen Kappa Score for annotation 94: 0.428\n",
      "Average Cohen Kappa Score for annotation 95: 0.425\n",
      "Average Cohen Kappa Score for annotation 96: 0.377\n"
     ]
    },
    {
     "name": "stdout",
     "output_type": "stream",
     "text": [
      "Average Cohen Kappa Score for annotation 93: 0.346\n",
      "Average Cohen Kappa Score for annotation 94: 0.428\n",
      "Average Cohen Kappa Score for annotation 95: 0.425\n",
      "Average Cohen Kappa Score for annotation 96: 0.377\n",
      "Average Cohen Kappa Score for annotation 93: 0.346\n",
      "Average Cohen Kappa Score for annotation 94: 0.428\n",
      "Average Cohen Kappa Score for annotation 95: 0.425\n",
      "Average Cohen Kappa Score for annotation 96: 0.377\n",
      "Average Cohen Kappa Score for annotation 93: 0.346\n",
      "Average Cohen Kappa Score for annotation 94: 0.428\n",
      "Average Cohen Kappa Score for annotation 95: 0.425\n",
      "Average Cohen Kappa Score for annotation 96: 0.377\n",
      "Average Cohen Kappa Score for annotation 93: 0.346\n",
      "Average Cohen Kappa Score for annotation 94: 0.428\n",
      "Average Cohen Kappa Score for annotation 95: 0.425\n",
      "Average Cohen Kappa Score for annotation 96: 0.377\n",
      "Average Cohen Kappa Score for annotation 93: 0.346\n",
      "Average Cohen Kappa Score for annotation 94: 0.428\n",
      "Average Cohen Kappa Score for annotation 95: 0.425\n",
      "Average Cohen Kappa Score for annotation 96: 0.377\n",
      "Average Cohen Kappa Score for annotation 93: 0.346\n",
      "Average Cohen Kappa Score for annotation 94: 0.428\n",
      "Average Cohen Kappa Score for annotation 95: 0.425\n",
      "Average Cohen Kappa Score for annotation 96: 0.377\n",
      "Average Cohen Kappa Score for annotation 93: 0.346\n",
      "Average Cohen Kappa Score for annotation 94: 0.428\n",
      "Average Cohen Kappa Score for annotation 95: 0.425\n",
      "Average Cohen Kappa Score for annotation 96: 0.377\n",
      "Average Cohen Kappa Score for annotation 93: 0.346\n",
      "Average Cohen Kappa Score for annotation 94: 0.428\n",
      "Average Cohen Kappa Score for annotation 95: 0.425\n",
      "Average Cohen Kappa Score for annotation 96: 0.377\n",
      "Average Cohen Kappa Score for annotation 93: 0.346\n",
      "Average Cohen Kappa Score for annotation 94: 0.428\n",
      "Average Cohen Kappa Score for annotation 95: 0.425\n",
      "Average Cohen Kappa Score for annotation 96: 0.377\n",
      "Average Cohen Kappa Score for annotation 93: 0.346\n",
      "Average Cohen Kappa Score for annotation 94: 0.428\n",
      "Average Cohen Kappa Score for annotation 95: 0.425\n",
      "Average Cohen Kappa Score for annotation 96: 0.377\n",
      "Average Cohen Kappa Score for annotation 93: 0.346\n",
      "Average Cohen Kappa Score for annotation 94: 0.428\n",
      "Average Cohen Kappa Score for annotation 95: 0.425\n",
      "Average Cohen Kappa Score for annotation 96: 0.377\n",
      "Average Cohen Kappa Score for annotation 93: 0.346\n",
      "Average Cohen Kappa Score for annotation 94: 0.428\n",
      "Average Cohen Kappa Score for annotation 95: 0.425\n",
      "Average Cohen Kappa Score for annotation 96: 0.377\n",
      "Average Cohen Kappa Score for annotation 93: 0.346\n",
      "Average Cohen Kappa Score for annotation 94: 0.428\n",
      "Average Cohen Kappa Score for annotation 95: 0.425\n",
      "Average Cohen Kappa Score for annotation 96: 0.377\n",
      "Average Cohen Kappa Score for annotation 93: 0.346\n",
      "Average Cohen Kappa Score for annotation 94: 0.428\n",
      "Average Cohen Kappa Score for annotation 95: 0.425\n",
      "Average Cohen Kappa Score for annotation 96: 0.377\n",
      "Average Cohen Kappa Score for annotation 93: 0.346\n",
      "Average Cohen Kappa Score for annotation 94: 0.428\n",
      "Average Cohen Kappa Score for annotation 95: 0.425\n",
      "Average Cohen Kappa Score for annotation 96: 0.377\n",
      "Average Cohen Kappa Score for annotation 93: 0.346\n",
      "Average Cohen Kappa Score for annotation 94: 0.428\n",
      "Average Cohen Kappa Score for annotation 95: 0.425\n",
      "Average Cohen Kappa Score for annotation 96: 0.377\n",
      "Average Cohen Kappa Score for annotation 93: 0.346\n",
      "Average Cohen Kappa Score for annotation 94: 0.428\n",
      "Average Cohen Kappa Score for annotation 95: 0.425\n",
      "Average Cohen Kappa Score for annotation 96: 0.377\n",
      "Average Cohen Kappa Score for annotation 93: 0.346\n",
      "Average Cohen Kappa Score for annotation 94: 0.428\n",
      "Average Cohen Kappa Score for annotation 95: 0.425\n",
      "Average Cohen Kappa Score for annotation 96: 0.377\n",
      "Average Cohen Kappa Score for annotation 93: 0.346\n",
      "Average Cohen Kappa Score for annotation 94: 0.428\n",
      "Average Cohen Kappa Score for annotation 95: 0.425\n",
      "Average Cohen Kappa Score for annotation 96: 0.377\n",
      "Average Cohen Kappa Score for annotation 93: 0.346\n",
      "Average Cohen Kappa Score for annotation 94: 0.428\n",
      "Average Cohen Kappa Score for annotation 95: 0.425\n",
      "Average Cohen Kappa Score for annotation 96: 0.377\n",
      "Average Cohen Kappa Score for annotation 93: 0.346\n",
      "Average Cohen Kappa Score for annotation 94: 0.428\n",
      "Average Cohen Kappa Score for annotation 95: 0.425\n",
      "Average Cohen Kappa Score for annotation 96: 0.377\n",
      "Average Cohen Kappa Score for annotation 93: 0.346\n",
      "Average Cohen Kappa Score for annotation 94: 0.428\n",
      "Average Cohen Kappa Score for annotation 95: 0.425\n",
      "Average Cohen Kappa Score for annotation 96: 0.377\n",
      "Average Cohen Kappa Score for annotation 93: 0.346\n",
      "Average Cohen Kappa Score for annotation 94: 0.428\n",
      "Average Cohen Kappa Score for annotation 95: 0.425\n",
      "Average Cohen Kappa Score for annotation 96: 0.377\n",
      "Average Cohen Kappa Score for annotation 93: 0.346\n",
      "Average Cohen Kappa Score for annotation 94: 0.428\n",
      "Average Cohen Kappa Score for annotation 95: 0.425\n",
      "Average Cohen Kappa Score for annotation 96: 0.377\n",
      "Average Cohen Kappa Score for annotation 93: 0.346\n",
      "Average Cohen Kappa Score for annotation 94: 0.428\n",
      "Average Cohen Kappa Score for annotation 95: 0.425\n",
      "Average Cohen Kappa Score for annotation 96: 0.377\n",
      "Average Cohen Kappa Score for annotation 93: 0.346\n",
      "Average Cohen Kappa Score for annotation 94: 0.428\n",
      "Average Cohen Kappa Score for annotation 95: 0.425\n",
      "Average Cohen Kappa Score for annotation 96: 0.377\n",
      "Average Cohen Kappa Score for annotation 93: 0.346\n",
      "Average Cohen Kappa Score for annotation 94: 0.428\n",
      "Average Cohen Kappa Score for annotation 95: 0.425\n",
      "Average Cohen Kappa Score for annotation 96: 0.377\n",
      "Average Cohen Kappa Score for annotation 93: 0.346\n",
      "Average Cohen Kappa Score for annotation 94: 0.428\n",
      "Average Cohen Kappa Score for annotation 95: 0.425\n",
      "Average Cohen Kappa Score for annotation 96: 0.377\n",
      "Average Cohen Kappa Score for annotation 93: 0.346\n",
      "Average Cohen Kappa Score for annotation 94: 0.428\n",
      "Average Cohen Kappa Score for annotation 95: 0.425\n",
      "Average Cohen Kappa Score for annotation 96: 0.377\n",
      "Average Cohen Kappa Score for annotation 93: 0.346\n",
      "Average Cohen Kappa Score for annotation 94: 0.428\n",
      "Average Cohen Kappa Score for annotation 95: 0.425\n",
      "Average Cohen Kappa Score for annotation 96: 0.377\n",
      "Average Cohen Kappa Score for annotation 93: 0.346\n",
      "Average Cohen Kappa Score for annotation 94: 0.428\n",
      "Average Cohen Kappa Score for annotation 95: 0.425\n",
      "Average Cohen Kappa Score for annotation 96: 0.377\n",
      "Average Cohen Kappa Score for annotation 93: 0.346\n",
      "Average Cohen Kappa Score for annotation 94: 0.428\n",
      "Average Cohen Kappa Score for annotation 95: 0.425\n",
      "Average Cohen Kappa Score for annotation 96: 0.377\n",
      "Average Cohen Kappa Score for annotation 93: 0.346\n",
      "Average Cohen Kappa Score for annotation 94: 0.428\n",
      "Average Cohen Kappa Score for annotation 95: 0.425\n",
      "Average Cohen Kappa Score for annotation 96: 0.377\n",
      "Average Cohen Kappa Score for annotation 93: 0.346\n",
      "Average Cohen Kappa Score for annotation 94: 0.428\n",
      "Average Cohen Kappa Score for annotation 95: 0.425\n",
      "Average Cohen Kappa Score for annotation 96: 0.377\n",
      "Average Cohen Kappa Score for annotation 93: 0.346\n",
      "Average Cohen Kappa Score for annotation 94: 0.428\n",
      "Average Cohen Kappa Score for annotation 95: 0.425\n",
      "Average Cohen Kappa Score for annotation 96: 0.377\n",
      "Average Cohen Kappa Score for annotation 93: 0.346\n",
      "Average Cohen Kappa Score for annotation 94: 0.428\n",
      "Average Cohen Kappa Score for annotation 95: 0.425\n",
      "Average Cohen Kappa Score for annotation 96: 0.377\n",
      "Average Cohen Kappa Score for annotation 93: 0.346\n",
      "Average Cohen Kappa Score for annotation 94: 0.428\n",
      "Average Cohen Kappa Score for annotation 95: 0.425\n",
      "Average Cohen Kappa Score for annotation 96: 0.377\n",
      "Average Cohen Kappa Score for annotation 93: 0.346\n",
      "Average Cohen Kappa Score for annotation 94: 0.428\n",
      "Average Cohen Kappa Score for annotation 95: 0.425\n",
      "Average Cohen Kappa Score for annotation 96: 0.377\n",
      "Average Cohen Kappa Score for annotation 93: 0.346\n",
      "Average Cohen Kappa Score for annotation 94: 0.428\n",
      "Average Cohen Kappa Score for annotation 95: 0.425\n",
      "Average Cohen Kappa Score for annotation 96: 0.377\n",
      "Average Cohen Kappa Score for annotation 93: 0.346\n",
      "Average Cohen Kappa Score for annotation 94: 0.428\n",
      "Average Cohen Kappa Score for annotation 95: 0.425\n",
      "Average Cohen Kappa Score for annotation 96: 0.377\n",
      "Average Cohen Kappa Score for annotation 93: 0.346\n",
      "Average Cohen Kappa Score for annotation 94: 0.428\n",
      "Average Cohen Kappa Score for annotation 95: 0.425\n",
      "Average Cohen Kappa Score for annotation 96: 0.377\n"
     ]
    },
    {
     "name": "stdout",
     "output_type": "stream",
     "text": [
      "Average Cohen Kappa Score for annotation 93: 0.346\n",
      "Average Cohen Kappa Score for annotation 94: 0.428\n",
      "Average Cohen Kappa Score for annotation 95: 0.425\n",
      "Average Cohen Kappa Score for annotation 96: 0.377\n",
      "Average Cohen Kappa Score for annotation 93: 0.346\n",
      "Average Cohen Kappa Score for annotation 94: 0.428\n",
      "Average Cohen Kappa Score for annotation 95: 0.425\n",
      "Average Cohen Kappa Score for annotation 96: 0.377\n",
      "Average Cohen Kappa Score for annotation 93: 0.346\n",
      "Average Cohen Kappa Score for annotation 94: 0.428\n",
      "Average Cohen Kappa Score for annotation 95: 0.425\n",
      "Average Cohen Kappa Score for annotation 96: 0.377\n",
      "Average Cohen Kappa Score for annotation 93: 0.346\n",
      "Average Cohen Kappa Score for annotation 94: 0.428\n",
      "Average Cohen Kappa Score for annotation 95: 0.425\n",
      "Average Cohen Kappa Score for annotation 96: 0.377\n",
      "Average Cohen Kappa Score for annotation 93: 0.346\n",
      "Average Cohen Kappa Score for annotation 94: 0.428\n",
      "Average Cohen Kappa Score for annotation 95: 0.425\n",
      "Average Cohen Kappa Score for annotation 96: 0.377\n",
      "Average Cohen Kappa Score for annotation 93: 0.346\n",
      "Average Cohen Kappa Score for annotation 94: 0.428\n",
      "Average Cohen Kappa Score for annotation 95: 0.425\n",
      "Average Cohen Kappa Score for annotation 96: 0.377\n",
      "Average Cohen Kappa Score for annotation 93: 0.346\n",
      "Average Cohen Kappa Score for annotation 94: 0.428\n",
      "Average Cohen Kappa Score for annotation 95: 0.425\n",
      "Average Cohen Kappa Score for annotation 96: 0.377\n",
      "Average Cohen Kappa Score for annotation 93: 0.346\n",
      "Average Cohen Kappa Score for annotation 94: 0.428\n",
      "Average Cohen Kappa Score for annotation 95: 0.425\n",
      "Average Cohen Kappa Score for annotation 96: 0.377\n",
      "Average Cohen Kappa Score for annotation 93: 0.346\n",
      "Average Cohen Kappa Score for annotation 94: 0.428\n",
      "Average Cohen Kappa Score for annotation 95: 0.425\n",
      "Average Cohen Kappa Score for annotation 96: 0.377\n",
      "Average Cohen Kappa Score for annotation 93: 0.346\n",
      "Average Cohen Kappa Score for annotation 94: 0.428\n",
      "Average Cohen Kappa Score for annotation 95: 0.425\n",
      "Average Cohen Kappa Score for annotation 96: 0.377\n",
      "Average Cohen Kappa Score for annotation 93: 0.346\n",
      "Average Cohen Kappa Score for annotation 94: 0.428\n",
      "Average Cohen Kappa Score for annotation 95: 0.425\n",
      "Average Cohen Kappa Score for annotation 96: 0.377\n",
      "Average Cohen Kappa Score for annotation 93: 0.346\n",
      "Average Cohen Kappa Score for annotation 94: 0.428\n",
      "Average Cohen Kappa Score for annotation 95: 0.425\n",
      "Average Cohen Kappa Score for annotation 96: 0.377\n",
      "Average Cohen Kappa Score for annotation 93: 0.346\n",
      "Average Cohen Kappa Score for annotation 94: 0.428\n",
      "Average Cohen Kappa Score for annotation 95: 0.425\n",
      "Average Cohen Kappa Score for annotation 96: 0.377\n",
      "Average Cohen Kappa Score for annotation 93: 0.346\n",
      "Average Cohen Kappa Score for annotation 94: 0.428\n",
      "Average Cohen Kappa Score for annotation 95: 0.425\n",
      "Average Cohen Kappa Score for annotation 96: 0.377\n",
      "Average Cohen Kappa Score for annotation 93: 0.346\n",
      "Average Cohen Kappa Score for annotation 94: 0.428\n",
      "Average Cohen Kappa Score for annotation 95: 0.425\n",
      "Average Cohen Kappa Score for annotation 96: 0.377\n",
      "Average Cohen Kappa Score for annotation 93: 0.346\n",
      "Average Cohen Kappa Score for annotation 94: 0.428\n",
      "Average Cohen Kappa Score for annotation 95: 0.425\n",
      "Average Cohen Kappa Score for annotation 96: 0.377\n",
      "Average Cohen Kappa Score for annotation 93: 0.346\n",
      "Average Cohen Kappa Score for annotation 94: 0.428\n",
      "Average Cohen Kappa Score for annotation 95: 0.425\n",
      "Average Cohen Kappa Score for annotation 96: 0.377\n",
      "Average Cohen Kappa Score for annotation 93: 0.346\n",
      "Average Cohen Kappa Score for annotation 94: 0.428\n",
      "Average Cohen Kappa Score for annotation 95: 0.425\n",
      "Average Cohen Kappa Score for annotation 96: 0.377\n",
      "Average Cohen Kappa Score for annotation 93: 0.346\n",
      "Average Cohen Kappa Score for annotation 94: 0.428\n",
      "Average Cohen Kappa Score for annotation 95: 0.425\n",
      "Average Cohen Kappa Score for annotation 96: 0.377\n",
      "Average Cohen Kappa Score for annotation 93: 0.346\n",
      "Average Cohen Kappa Score for annotation 94: 0.428\n",
      "Average Cohen Kappa Score for annotation 95: 0.425\n",
      "Average Cohen Kappa Score for annotation 96: 0.377\n",
      "Average Cohen Kappa Score for annotation 93: 0.346\n",
      "Average Cohen Kappa Score for annotation 94: 0.428\n",
      "Average Cohen Kappa Score for annotation 95: 0.425\n",
      "Average Cohen Kappa Score for annotation 96: 0.377\n",
      "Average Cohen Kappa Score for annotation 93: 0.346\n",
      "Average Cohen Kappa Score for annotation 94: 0.428\n",
      "Average Cohen Kappa Score for annotation 95: 0.425\n",
      "Average Cohen Kappa Score for annotation 96: 0.377\n",
      "Average Cohen Kappa Score for annotation 93: 0.346\n",
      "Average Cohen Kappa Score for annotation 94: 0.428\n",
      "Average Cohen Kappa Score for annotation 95: 0.425\n",
      "Average Cohen Kappa Score for annotation 96: 0.377\n",
      "Average Cohen Kappa Score for annotation 93: 0.346\n",
      "Average Cohen Kappa Score for annotation 94: 0.428\n",
      "Average Cohen Kappa Score for annotation 95: 0.425\n",
      "Average Cohen Kappa Score for annotation 96: 0.377\n",
      "Average Cohen Kappa Score for annotation 93: 0.346\n",
      "Average Cohen Kappa Score for annotation 94: 0.428\n",
      "Average Cohen Kappa Score for annotation 95: 0.425\n",
      "Average Cohen Kappa Score for annotation 96: 0.377\n",
      "Average Cohen Kappa Score for annotation 93: 0.346\n",
      "Average Cohen Kappa Score for annotation 94: 0.428\n",
      "Average Cohen Kappa Score for annotation 95: 0.425\n",
      "Average Cohen Kappa Score for annotation 96: 0.377\n",
      "Average Cohen Kappa Score for annotation 93: 0.346\n",
      "Average Cohen Kappa Score for annotation 94: 0.428\n",
      "Average Cohen Kappa Score for annotation 95: 0.425\n",
      "Average Cohen Kappa Score for annotation 96: 0.377\n",
      "Average Cohen Kappa Score for annotation 93: 0.346\n",
      "Average Cohen Kappa Score for annotation 94: 0.428\n",
      "Average Cohen Kappa Score for annotation 95: 0.425\n",
      "Average Cohen Kappa Score for annotation 96: 0.377\n",
      "Average Cohen Kappa Score for annotation 93: 0.346\n",
      "Average Cohen Kappa Score for annotation 94: 0.428\n",
      "Average Cohen Kappa Score for annotation 95: 0.425\n",
      "Average Cohen Kappa Score for annotation 96: 0.377\n",
      "Average Cohen Kappa Score for annotation 93: 0.346\n",
      "Average Cohen Kappa Score for annotation 94: 0.428\n",
      "Average Cohen Kappa Score for annotation 95: 0.425\n",
      "Average Cohen Kappa Score for annotation 96: 0.377\n",
      "Average Cohen Kappa Score for annotation 93: 0.346\n",
      "Average Cohen Kappa Score for annotation 94: 0.428\n",
      "Average Cohen Kappa Score for annotation 95: 0.425\n",
      "Average Cohen Kappa Score for annotation 96: 0.377\n",
      "Average Cohen Kappa Score for annotation 93: 0.346\n",
      "Average Cohen Kappa Score for annotation 94: 0.428\n",
      "Average Cohen Kappa Score for annotation 95: 0.425\n",
      "Average Cohen Kappa Score for annotation 96: 0.377\n",
      "Average Cohen Kappa Score for annotation 93: 0.346\n",
      "Average Cohen Kappa Score for annotation 94: 0.428\n",
      "Average Cohen Kappa Score for annotation 95: 0.425\n",
      "Average Cohen Kappa Score for annotation 96: 0.377\n",
      "Average Cohen Kappa Score for annotation 93: 0.346\n",
      "Average Cohen Kappa Score for annotation 94: 0.428\n",
      "Average Cohen Kappa Score for annotation 95: 0.425\n",
      "Average Cohen Kappa Score for annotation 96: 0.377\n",
      "Average Cohen Kappa Score for annotation 93: 0.346\n",
      "Average Cohen Kappa Score for annotation 94: 0.428\n",
      "Average Cohen Kappa Score for annotation 95: 0.425\n",
      "Average Cohen Kappa Score for annotation 96: 0.377\n",
      "Average Cohen Kappa Score for annotation 93: 0.346\n",
      "Average Cohen Kappa Score for annotation 94: 0.428\n",
      "Average Cohen Kappa Score for annotation 95: 0.425\n",
      "Average Cohen Kappa Score for annotation 96: 0.377\n",
      "Average Cohen Kappa Score for annotation 93: 0.346\n",
      "Average Cohen Kappa Score for annotation 94: 0.428\n",
      "Average Cohen Kappa Score for annotation 95: 0.425\n",
      "Average Cohen Kappa Score for annotation 96: 0.377\n",
      "Average Cohen Kappa Score for annotation 93: 0.346\n",
      "Average Cohen Kappa Score for annotation 94: 0.428\n",
      "Average Cohen Kappa Score for annotation 95: 0.425\n",
      "Average Cohen Kappa Score for annotation 96: 0.377\n",
      "Average Cohen Kappa Score for annotation 93: 0.346\n",
      "Average Cohen Kappa Score for annotation 94: 0.428\n",
      "Average Cohen Kappa Score for annotation 95: 0.425\n",
      "Average Cohen Kappa Score for annotation 96: 0.377\n",
      "Average Cohen Kappa Score for annotation 93: 0.346\n",
      "Average Cohen Kappa Score for annotation 94: 0.428\n",
      "Average Cohen Kappa Score for annotation 95: 0.425\n",
      "Average Cohen Kappa Score for annotation 96: 0.377\n",
      "Average Cohen Kappa Score for annotation 93: 0.346\n",
      "Average Cohen Kappa Score for annotation 94: 0.428\n",
      "Average Cohen Kappa Score for annotation 95: 0.425\n",
      "Average Cohen Kappa Score for annotation 96: 0.377\n",
      "Average Cohen Kappa Score for annotation 93: 0.346\n",
      "Average Cohen Kappa Score for annotation 94: 0.428\n",
      "Average Cohen Kappa Score for annotation 95: 0.425\n",
      "Average Cohen Kappa Score for annotation 96: 0.377\n"
     ]
    },
    {
     "name": "stdout",
     "output_type": "stream",
     "text": [
      "Average Cohen Kappa Score for annotation 93: 0.346\n",
      "Average Cohen Kappa Score for annotation 94: 0.428\n",
      "Average Cohen Kappa Score for annotation 95: 0.425\n",
      "Average Cohen Kappa Score for annotation 96: 0.377\n",
      "Average Cohen Kappa Score for annotation 93: 0.346\n",
      "Average Cohen Kappa Score for annotation 94: 0.428\n",
      "Average Cohen Kappa Score for annotation 95: 0.425\n",
      "Average Cohen Kappa Score for annotation 96: 0.377\n",
      "Average Cohen Kappa Score for annotation 93: 0.346\n",
      "Average Cohen Kappa Score for annotation 94: 0.428\n",
      "Average Cohen Kappa Score for annotation 95: 0.425\n",
      "Average Cohen Kappa Score for annotation 96: 0.377\n",
      "Average Cohen Kappa Score for annotation 93: 0.346\n",
      "Average Cohen Kappa Score for annotation 94: 0.428\n",
      "Average Cohen Kappa Score for annotation 95: 0.425\n",
      "Average Cohen Kappa Score for annotation 96: 0.377\n",
      "Average Cohen Kappa Score for annotation 93: 0.346\n",
      "Average Cohen Kappa Score for annotation 94: 0.428\n",
      "Average Cohen Kappa Score for annotation 95: 0.425\n",
      "Average Cohen Kappa Score for annotation 96: 0.377\n",
      "Average Cohen Kappa Score for annotation 93: 0.346\n",
      "Average Cohen Kappa Score for annotation 94: 0.428\n",
      "Average Cohen Kappa Score for annotation 95: 0.425\n",
      "Average Cohen Kappa Score for annotation 96: 0.377\n",
      "Average Cohen Kappa Score for annotation 93: 0.346\n",
      "Average Cohen Kappa Score for annotation 94: 0.428\n",
      "Average Cohen Kappa Score for annotation 95: 0.425\n",
      "Average Cohen Kappa Score for annotation 96: 0.377\n",
      "Average Cohen Kappa Score for annotation 93: 0.346\n",
      "Average Cohen Kappa Score for annotation 94: 0.428\n",
      "Average Cohen Kappa Score for annotation 95: 0.425\n",
      "Average Cohen Kappa Score for annotation 96: 0.377\n",
      "Average Cohen Kappa Score for annotation 93: 0.346\n",
      "Average Cohen Kappa Score for annotation 94: 0.428\n",
      "Average Cohen Kappa Score for annotation 95: 0.425\n",
      "Average Cohen Kappa Score for annotation 96: 0.377\n",
      "Average Cohen Kappa Score for annotation 93: 0.346\n",
      "Average Cohen Kappa Score for annotation 94: 0.428\n",
      "Average Cohen Kappa Score for annotation 95: 0.425\n",
      "Average Cohen Kappa Score for annotation 96: 0.377\n",
      "Average Cohen Kappa Score for annotation 93: 0.346\n",
      "Average Cohen Kappa Score for annotation 94: 0.428\n",
      "Average Cohen Kappa Score for annotation 95: 0.425\n",
      "Average Cohen Kappa Score for annotation 96: 0.377\n",
      "Average Cohen Kappa Score for annotation 93: 0.346\n",
      "Average Cohen Kappa Score for annotation 94: 0.428\n",
      "Average Cohen Kappa Score for annotation 95: 0.425\n",
      "Average Cohen Kappa Score for annotation 96: 0.377\n",
      "Average Cohen Kappa Score for annotation 93: 0.346\n",
      "Average Cohen Kappa Score for annotation 94: 0.428\n",
      "Average Cohen Kappa Score for annotation 95: 0.425\n",
      "Average Cohen Kappa Score for annotation 96: 0.377\n",
      "Average Cohen Kappa Score for annotation 93: 0.346\n",
      "Average Cohen Kappa Score for annotation 94: 0.428\n",
      "Average Cohen Kappa Score for annotation 95: 0.425\n",
      "Average Cohen Kappa Score for annotation 96: 0.377\n",
      "Average Cohen Kappa Score for annotation 93: 0.346\n",
      "Average Cohen Kappa Score for annotation 94: 0.428\n",
      "Average Cohen Kappa Score for annotation 95: 0.425\n",
      "Average Cohen Kappa Score for annotation 96: 0.377\n",
      "Average Cohen Kappa Score for annotation 93: 0.346\n",
      "Average Cohen Kappa Score for annotation 94: 0.428\n",
      "Average Cohen Kappa Score for annotation 95: 0.425\n",
      "Average Cohen Kappa Score for annotation 96: 0.377\n",
      "Average Cohen Kappa Score for annotation 93: 0.346\n",
      "Average Cohen Kappa Score for annotation 94: 0.428\n",
      "Average Cohen Kappa Score for annotation 95: 0.425\n",
      "Average Cohen Kappa Score for annotation 96: 0.377\n",
      "Average Cohen Kappa Score for annotation 93: 0.346\n",
      "Average Cohen Kappa Score for annotation 94: 0.428\n",
      "Average Cohen Kappa Score for annotation 95: 0.425\n",
      "Average Cohen Kappa Score for annotation 96: 0.377\n",
      "Average Cohen Kappa Score for annotation 93: 0.346\n",
      "Average Cohen Kappa Score for annotation 94: 0.428\n",
      "Average Cohen Kappa Score for annotation 95: 0.425\n",
      "Average Cohen Kappa Score for annotation 96: 0.377\n",
      "Average Cohen Kappa Score for annotation 93: 0.346\n",
      "Average Cohen Kappa Score for annotation 94: 0.428\n",
      "Average Cohen Kappa Score for annotation 95: 0.425\n",
      "Average Cohen Kappa Score for annotation 96: 0.377\n",
      "Average Cohen Kappa Score for annotation 93: 0.346\n",
      "Average Cohen Kappa Score for annotation 94: 0.428\n",
      "Average Cohen Kappa Score for annotation 95: 0.425\n",
      "Average Cohen Kappa Score for annotation 96: 0.377\n",
      "Average Cohen Kappa Score for annotation 93: 0.346\n",
      "Average Cohen Kappa Score for annotation 94: 0.428\n",
      "Average Cohen Kappa Score for annotation 95: 0.425\n",
      "Average Cohen Kappa Score for annotation 96: 0.377\n",
      "Average Cohen Kappa Score for annotation 93: 0.346\n",
      "Average Cohen Kappa Score for annotation 94: 0.428\n",
      "Average Cohen Kappa Score for annotation 95: 0.425\n",
      "Average Cohen Kappa Score for annotation 96: 0.377\n",
      "Average Cohen Kappa Score for annotation 93: 0.346\n",
      "Average Cohen Kappa Score for annotation 94: 0.428\n",
      "Average Cohen Kappa Score for annotation 95: 0.425\n",
      "Average Cohen Kappa Score for annotation 96: 0.377\n",
      "Average Cohen Kappa Score for annotation 93: 0.346\n",
      "Average Cohen Kappa Score for annotation 94: 0.428\n",
      "Average Cohen Kappa Score for annotation 95: 0.425\n",
      "Average Cohen Kappa Score for annotation 96: 0.377\n",
      "Average Cohen Kappa Score for annotation 93: 0.346\n",
      "Average Cohen Kappa Score for annotation 94: 0.428\n",
      "Average Cohen Kappa Score for annotation 95: 0.425\n",
      "Average Cohen Kappa Score for annotation 96: 0.377\n",
      "Average Cohen Kappa Score for annotation 93: 0.346\n",
      "Average Cohen Kappa Score for annotation 94: 0.428\n",
      "Average Cohen Kappa Score for annotation 95: 0.425\n",
      "Average Cohen Kappa Score for annotation 96: 0.377\n",
      "Average Cohen Kappa Score for annotation 93: 0.346\n",
      "Average Cohen Kappa Score for annotation 94: 0.428\n",
      "Average Cohen Kappa Score for annotation 95: 0.425\n",
      "Average Cohen Kappa Score for annotation 96: 0.377\n",
      "Average Cohen Kappa Score for annotation 93: 0.346\n",
      "Average Cohen Kappa Score for annotation 94: 0.428\n",
      "Average Cohen Kappa Score for annotation 95: 0.425\n",
      "Average Cohen Kappa Score for annotation 96: 0.377\n",
      "Average Cohen Kappa Score for annotation 93: 0.346\n",
      "Average Cohen Kappa Score for annotation 94: 0.428\n",
      "Average Cohen Kappa Score for annotation 95: 0.425\n",
      "Average Cohen Kappa Score for annotation 96: 0.377\n",
      "Average Cohen Kappa Score for annotation 93: 0.346\n",
      "Average Cohen Kappa Score for annotation 94: 0.428\n",
      "Average Cohen Kappa Score for annotation 95: 0.425\n",
      "Average Cohen Kappa Score for annotation 96: 0.377\n",
      "Average Cohen Kappa Score for annotation 93: 0.346\n",
      "Average Cohen Kappa Score for annotation 94: 0.428\n",
      "Average Cohen Kappa Score for annotation 95: 0.425\n",
      "Average Cohen Kappa Score for annotation 96: 0.377\n",
      "Average Cohen Kappa Score for annotation 93: 0.346\n",
      "Average Cohen Kappa Score for annotation 94: 0.428\n",
      "Average Cohen Kappa Score for annotation 95: 0.425\n",
      "Average Cohen Kappa Score for annotation 96: 0.377\n",
      "Average Cohen Kappa Score for annotation 93: 0.346\n",
      "Average Cohen Kappa Score for annotation 94: 0.428\n",
      "Average Cohen Kappa Score for annotation 95: 0.425\n",
      "Average Cohen Kappa Score for annotation 96: 0.377\n",
      "Average Cohen Kappa Score for annotation 93: 0.346\n",
      "Average Cohen Kappa Score for annotation 94: 0.428\n",
      "Average Cohen Kappa Score for annotation 95: 0.425\n",
      "Average Cohen Kappa Score for annotation 96: 0.377\n",
      "Average Cohen Kappa Score for annotation 93: 0.346\n",
      "Average Cohen Kappa Score for annotation 94: 0.428\n",
      "Average Cohen Kappa Score for annotation 95: 0.425\n",
      "Average Cohen Kappa Score for annotation 96: 0.377\n",
      "Average Cohen Kappa Score for annotation 93: 0.346\n",
      "Average Cohen Kappa Score for annotation 94: 0.428\n",
      "Average Cohen Kappa Score for annotation 95: 0.425\n",
      "Average Cohen Kappa Score for annotation 96: 0.377\n",
      "Average Cohen Kappa Score for annotation 93: 0.346\n",
      "Average Cohen Kappa Score for annotation 94: 0.428\n",
      "Average Cohen Kappa Score for annotation 95: 0.425\n",
      "Average Cohen Kappa Score for annotation 96: 0.377\n",
      "Average Cohen Kappa Score for annotation 93: 0.346\n",
      "Average Cohen Kappa Score for annotation 94: 0.428\n",
      "Average Cohen Kappa Score for annotation 95: 0.425\n",
      "Average Cohen Kappa Score for annotation 96: 0.377\n",
      "Average Cohen Kappa Score for annotation 93: 0.346\n",
      "Average Cohen Kappa Score for annotation 94: 0.428\n",
      "Average Cohen Kappa Score for annotation 95: 0.425\n",
      "Average Cohen Kappa Score for annotation 96: 0.377\n",
      "Average Cohen Kappa Score for annotation 93: 0.346\n",
      "Average Cohen Kappa Score for annotation 94: 0.428\n",
      "Average Cohen Kappa Score for annotation 95: 0.425\n",
      "Average Cohen Kappa Score for annotation 96: 0.377\n",
      "Average Cohen Kappa Score for annotation 93: 0.346\n"
     ]
    },
    {
     "name": "stdout",
     "output_type": "stream",
     "text": [
      "Average Cohen Kappa Score for annotation 94: 0.428\n",
      "Average Cohen Kappa Score for annotation 95: 0.425\n",
      "Average Cohen Kappa Score for annotation 96: 0.377\n",
      "Average Cohen Kappa Score for annotation 93: 0.346\n",
      "Average Cohen Kappa Score for annotation 94: 0.428\n",
      "Average Cohen Kappa Score for annotation 95: 0.425\n",
      "Average Cohen Kappa Score for annotation 96: 0.377\n",
      "Average Cohen Kappa Score for annotation 93: 0.346\n",
      "Average Cohen Kappa Score for annotation 94: 0.428\n",
      "Average Cohen Kappa Score for annotation 95: 0.425\n",
      "Average Cohen Kappa Score for annotation 96: 0.377\n",
      "Average Cohen Kappa Score for annotation 93: 0.346\n",
      "Average Cohen Kappa Score for annotation 94: 0.428\n",
      "Average Cohen Kappa Score for annotation 95: 0.425\n",
      "Average Cohen Kappa Score for annotation 96: 0.377\n",
      "Average Cohen Kappa Score for annotation 93: 0.346\n",
      "Average Cohen Kappa Score for annotation 94: 0.428\n",
      "Average Cohen Kappa Score for annotation 95: 0.425\n",
      "Average Cohen Kappa Score for annotation 96: 0.377\n",
      "Average Cohen Kappa Score for annotation 93: 0.346\n",
      "Average Cohen Kappa Score for annotation 94: 0.428\n",
      "Average Cohen Kappa Score for annotation 95: 0.425\n",
      "Average Cohen Kappa Score for annotation 96: 0.377\n",
      "Average Cohen Kappa Score for annotation 93: 0.346\n",
      "Average Cohen Kappa Score for annotation 94: 0.428\n",
      "Average Cohen Kappa Score for annotation 95: 0.425\n",
      "Average Cohen Kappa Score for annotation 96: 0.377\n",
      "Average Cohen Kappa Score for annotation 93: 0.346\n",
      "Average Cohen Kappa Score for annotation 94: 0.428\n",
      "Average Cohen Kappa Score for annotation 95: 0.425\n",
      "Average Cohen Kappa Score for annotation 96: 0.377\n",
      "Average Cohen Kappa Score for annotation 93: 0.346\n",
      "Average Cohen Kappa Score for annotation 94: 0.428\n",
      "Average Cohen Kappa Score for annotation 95: 0.425\n",
      "Average Cohen Kappa Score for annotation 96: 0.377\n",
      "Average Cohen Kappa Score for annotation 93: 0.346\n",
      "Average Cohen Kappa Score for annotation 94: 0.428\n",
      "Average Cohen Kappa Score for annotation 95: 0.425\n",
      "Average Cohen Kappa Score for annotation 96: 0.377\n",
      "Average Cohen Kappa Score for annotation 93: 0.346\n",
      "Average Cohen Kappa Score for annotation 94: 0.428\n",
      "Average Cohen Kappa Score for annotation 95: 0.425\n",
      "Average Cohen Kappa Score for annotation 96: 0.377\n",
      "Average Cohen Kappa Score for annotation 93: 0.346\n",
      "Average Cohen Kappa Score for annotation 94: 0.428\n",
      "Average Cohen Kappa Score for annotation 95: 0.425\n",
      "Average Cohen Kappa Score for annotation 96: 0.377\n",
      "Average Cohen Kappa Score for annotation 93: 0.346\n",
      "Average Cohen Kappa Score for annotation 94: 0.428\n",
      "Average Cohen Kappa Score for annotation 95: 0.425\n",
      "Average Cohen Kappa Score for annotation 96: 0.377\n",
      "Average Cohen Kappa Score for annotation 93: 0.346\n",
      "Average Cohen Kappa Score for annotation 94: 0.428\n",
      "Average Cohen Kappa Score for annotation 95: 0.425\n",
      "Average Cohen Kappa Score for annotation 96: 0.377\n",
      "Average Cohen Kappa Score for annotation 93: 0.346\n",
      "Average Cohen Kappa Score for annotation 94: 0.428\n",
      "Average Cohen Kappa Score for annotation 95: 0.425\n",
      "Average Cohen Kappa Score for annotation 96: 0.377\n",
      "Average Cohen Kappa Score for annotation 93: 0.346\n",
      "Average Cohen Kappa Score for annotation 94: 0.428\n",
      "Average Cohen Kappa Score for annotation 95: 0.425\n",
      "Average Cohen Kappa Score for annotation 96: 0.377\n",
      "Average Cohen Kappa Score for annotation 93: 0.346\n",
      "Average Cohen Kappa Score for annotation 94: 0.428\n",
      "Average Cohen Kappa Score for annotation 95: 0.425\n",
      "Average Cohen Kappa Score for annotation 96: 0.377\n",
      "Average Cohen Kappa Score for annotation 93: 0.346\n",
      "Average Cohen Kappa Score for annotation 94: 0.428\n",
      "Average Cohen Kappa Score for annotation 95: 0.425\n",
      "Average Cohen Kappa Score for annotation 96: 0.377\n",
      "Average Cohen Kappa Score for annotation 93: 0.346\n",
      "Average Cohen Kappa Score for annotation 94: 0.428\n",
      "Average Cohen Kappa Score for annotation 95: 0.425\n",
      "Average Cohen Kappa Score for annotation 96: 0.377\n",
      "Average Cohen Kappa Score for annotation 93: 0.346\n",
      "Average Cohen Kappa Score for annotation 94: 0.428\n",
      "Average Cohen Kappa Score for annotation 95: 0.425\n",
      "Average Cohen Kappa Score for annotation 96: 0.377\n",
      "Average Cohen Kappa Score for annotation 93: 0.346\n",
      "Average Cohen Kappa Score for annotation 94: 0.428\n",
      "Average Cohen Kappa Score for annotation 95: 0.425\n",
      "Average Cohen Kappa Score for annotation 96: 0.377\n",
      "Average Cohen Kappa Score for annotation 93: 0.346\n",
      "Average Cohen Kappa Score for annotation 94: 0.428\n",
      "Average Cohen Kappa Score for annotation 95: 0.425\n",
      "Average Cohen Kappa Score for annotation 96: 0.377\n",
      "Average Cohen Kappa Score for annotation 93: 0.346\n",
      "Average Cohen Kappa Score for annotation 94: 0.428\n",
      "Average Cohen Kappa Score for annotation 95: 0.425\n",
      "Average Cohen Kappa Score for annotation 96: 0.377\n",
      "Average Cohen Kappa Score for annotation 93: 0.346\n",
      "Average Cohen Kappa Score for annotation 94: 0.428\n",
      "Average Cohen Kappa Score for annotation 95: 0.425\n",
      "Average Cohen Kappa Score for annotation 96: 0.377\n",
      "Average Cohen Kappa Score for annotation 93: 0.346\n",
      "Average Cohen Kappa Score for annotation 94: 0.428\n",
      "Average Cohen Kappa Score for annotation 95: 0.425\n",
      "Average Cohen Kappa Score for annotation 96: 0.377\n",
      "Average Cohen Kappa Score for annotation 93: 0.346\n",
      "Average Cohen Kappa Score for annotation 94: 0.428\n",
      "Average Cohen Kappa Score for annotation 95: 0.425\n",
      "Average Cohen Kappa Score for annotation 96: 0.377\n",
      "Average Cohen Kappa Score for annotation 93: 0.346\n",
      "Average Cohen Kappa Score for annotation 94: 0.428\n",
      "Average Cohen Kappa Score for annotation 95: 0.425\n",
      "Average Cohen Kappa Score for annotation 96: 0.377\n",
      "Average Cohen Kappa Score for annotation 93: 0.346\n",
      "Average Cohen Kappa Score for annotation 94: 0.428\n",
      "Average Cohen Kappa Score for annotation 95: 0.425\n",
      "Average Cohen Kappa Score for annotation 96: 0.377\n",
      "Average Cohen Kappa Score for annotation 93: 0.346\n",
      "Average Cohen Kappa Score for annotation 94: 0.428\n",
      "Average Cohen Kappa Score for annotation 95: 0.425\n",
      "Average Cohen Kappa Score for annotation 96: 0.377\n",
      "Average Cohen Kappa Score for annotation 93: 0.346\n",
      "Average Cohen Kappa Score for annotation 94: 0.428\n",
      "Average Cohen Kappa Score for annotation 95: 0.425\n",
      "Average Cohen Kappa Score for annotation 96: 0.377\n",
      "Average Cohen Kappa Score for annotation 93: 0.346\n",
      "Average Cohen Kappa Score for annotation 94: 0.428\n",
      "Average Cohen Kappa Score for annotation 95: 0.425\n",
      "Average Cohen Kappa Score for annotation 96: 0.377\n",
      "Average Cohen Kappa Score for annotation 93: 0.346\n",
      "Average Cohen Kappa Score for annotation 94: 0.428\n",
      "Average Cohen Kappa Score for annotation 95: 0.425\n",
      "Average Cohen Kappa Score for annotation 96: 0.377\n",
      "Average Cohen Kappa Score for annotation 93: 0.346\n",
      "Average Cohen Kappa Score for annotation 94: 0.428\n",
      "Average Cohen Kappa Score for annotation 95: 0.425\n",
      "Average Cohen Kappa Score for annotation 96: 0.377\n",
      "Average Cohen Kappa Score for annotation 93: 0.346\n",
      "Average Cohen Kappa Score for annotation 94: 0.428\n",
      "Average Cohen Kappa Score for annotation 95: 0.425\n",
      "Average Cohen Kappa Score for annotation 96: 0.377\n",
      "Average Cohen Kappa Score for annotation 93: 0.346\n",
      "Average Cohen Kappa Score for annotation 94: 0.428\n",
      "Average Cohen Kappa Score for annotation 95: 0.425\n",
      "Average Cohen Kappa Score for annotation 96: 0.377\n",
      "Average Cohen Kappa Score for annotation 93: 0.346\n",
      "Average Cohen Kappa Score for annotation 94: 0.428\n",
      "Average Cohen Kappa Score for annotation 95: 0.425\n",
      "Average Cohen Kappa Score for annotation 96: 0.377\n",
      "Average Cohen Kappa Score for annotation 93: 0.346\n",
      "Average Cohen Kappa Score for annotation 94: 0.428\n",
      "Average Cohen Kappa Score for annotation 95: 0.425\n",
      "Average Cohen Kappa Score for annotation 96: 0.377\n",
      "Average Cohen Kappa Score for annotation 93: 0.346\n",
      "Average Cohen Kappa Score for annotation 94: 0.428\n",
      "Average Cohen Kappa Score for annotation 95: 0.425\n",
      "Average Cohen Kappa Score for annotation 96: 0.377\n",
      "Average Cohen Kappa Score for annotation 93: 0.346\n",
      "Average Cohen Kappa Score for annotation 94: 0.428\n",
      "Average Cohen Kappa Score for annotation 95: 0.425\n",
      "Average Cohen Kappa Score for annotation 96: 0.377\n",
      "Average Cohen Kappa Score for annotation 93: 0.346\n",
      "Average Cohen Kappa Score for annotation 94: 0.428\n",
      "Average Cohen Kappa Score for annotation 95: 0.425\n",
      "Average Cohen Kappa Score for annotation 96: 0.377\n",
      "Average Cohen Kappa Score for annotation 93: 0.346\n",
      "Average Cohen Kappa Score for annotation 94: 0.428\n",
      "Average Cohen Kappa Score for annotation 95: 0.425\n",
      "Average Cohen Kappa Score for annotation 96: 0.377\n",
      "Average Cohen Kappa Score for annotation 93: 0.346\n",
      "Average Cohen Kappa Score for annotation 94: 0.428\n",
      "Average Cohen Kappa Score for annotation 95: 0.425\n",
      "Average Cohen Kappa Score for annotation 96: 0.377\n",
      "Average Cohen Kappa Score for annotation 93: 0.346\n",
      "Average Cohen Kappa Score for annotation 94: 0.428\n"
     ]
    },
    {
     "name": "stdout",
     "output_type": "stream",
     "text": [
      "Average Cohen Kappa Score for annotation 95: 0.425\n",
      "Average Cohen Kappa Score for annotation 96: 0.377\n",
      "Average Cohen Kappa Score for annotation 93: 0.346\n",
      "Average Cohen Kappa Score for annotation 94: 0.428\n",
      "Average Cohen Kappa Score for annotation 95: 0.425\n",
      "Average Cohen Kappa Score for annotation 96: 0.377\n",
      "Average Cohen Kappa Score for annotation 93: 0.346\n",
      "Average Cohen Kappa Score for annotation 94: 0.428\n",
      "Average Cohen Kappa Score for annotation 95: 0.425\n",
      "Average Cohen Kappa Score for annotation 96: 0.377\n",
      "Average Cohen Kappa Score for annotation 93: 0.346\n",
      "Average Cohen Kappa Score for annotation 94: 0.428\n",
      "Average Cohen Kappa Score for annotation 95: 0.425\n",
      "Average Cohen Kappa Score for annotation 96: 0.377\n",
      "Average Cohen Kappa Score for annotation 93: 0.346\n",
      "Average Cohen Kappa Score for annotation 94: 0.428\n",
      "Average Cohen Kappa Score for annotation 95: 0.425\n",
      "Average Cohen Kappa Score for annotation 96: 0.377\n",
      "Average Cohen Kappa Score for annotation 93: 0.346\n",
      "Average Cohen Kappa Score for annotation 94: 0.428\n",
      "Average Cohen Kappa Score for annotation 95: 0.425\n",
      "Average Cohen Kappa Score for annotation 96: 0.377\n",
      "Average Cohen Kappa Score for annotation 93: 0.346\n",
      "Average Cohen Kappa Score for annotation 94: 0.428\n",
      "Average Cohen Kappa Score for annotation 95: 0.425\n",
      "Average Cohen Kappa Score for annotation 96: 0.377\n",
      "Average Cohen Kappa Score for annotation 93: 0.346\n",
      "Average Cohen Kappa Score for annotation 94: 0.428\n",
      "Average Cohen Kappa Score for annotation 95: 0.425\n",
      "Average Cohen Kappa Score for annotation 96: 0.377\n",
      "Average Cohen Kappa Score for annotation 93: 0.346\n",
      "Average Cohen Kappa Score for annotation 94: 0.428\n",
      "Average Cohen Kappa Score for annotation 95: 0.425\n",
      "Average Cohen Kappa Score for annotation 96: 0.377\n",
      "Average Cohen Kappa Score for annotation 93: 0.346\n",
      "Average Cohen Kappa Score for annotation 94: 0.428\n",
      "Average Cohen Kappa Score for annotation 95: 0.425\n",
      "Average Cohen Kappa Score for annotation 96: 0.377\n",
      "Average Cohen Kappa Score for annotation 93: 0.346\n",
      "Average Cohen Kappa Score for annotation 94: 0.428\n",
      "Average Cohen Kappa Score for annotation 95: 0.425\n",
      "Average Cohen Kappa Score for annotation 96: 0.377\n",
      "Average Cohen Kappa Score for annotation 93: 0.346\n",
      "Average Cohen Kappa Score for annotation 94: 0.428\n",
      "Average Cohen Kappa Score for annotation 95: 0.425\n",
      "Average Cohen Kappa Score for annotation 96: 0.377\n",
      "Average Cohen Kappa Score for annotation 93: 0.346\n",
      "Average Cohen Kappa Score for annotation 94: 0.428\n",
      "Average Cohen Kappa Score for annotation 95: 0.425\n",
      "Average Cohen Kappa Score for annotation 96: 0.377\n",
      "Average Cohen Kappa Score for annotation 93: 0.346\n",
      "Average Cohen Kappa Score for annotation 94: 0.428\n",
      "Average Cohen Kappa Score for annotation 95: 0.425\n",
      "Average Cohen Kappa Score for annotation 96: 0.377\n",
      "Average Cohen Kappa Score for annotation 93: 0.346\n",
      "Average Cohen Kappa Score for annotation 94: 0.428\n",
      "Average Cohen Kappa Score for annotation 95: 0.425\n",
      "Average Cohen Kappa Score for annotation 96: 0.377\n",
      "Average Cohen Kappa Score for annotation 93: 0.346\n",
      "Average Cohen Kappa Score for annotation 94: 0.428\n",
      "Average Cohen Kappa Score for annotation 95: 0.425\n",
      "Average Cohen Kappa Score for annotation 96: 0.377\n",
      "Average Cohen Kappa Score for annotation 93: 0.346\n",
      "Average Cohen Kappa Score for annotation 94: 0.428\n",
      "Average Cohen Kappa Score for annotation 95: 0.425\n",
      "Average Cohen Kappa Score for annotation 96: 0.377\n",
      "Average Cohen Kappa Score for annotation 93: 0.346\n",
      "Average Cohen Kappa Score for annotation 94: 0.428\n",
      "Average Cohen Kappa Score for annotation 95: 0.425\n",
      "Average Cohen Kappa Score for annotation 96: 0.377\n",
      "Average Cohen Kappa Score for annotation 93: 0.346\n",
      "Average Cohen Kappa Score for annotation 94: 0.428\n",
      "Average Cohen Kappa Score for annotation 95: 0.425\n",
      "Average Cohen Kappa Score for annotation 96: 0.377\n",
      "Average Cohen Kappa Score for annotation 93: 0.346\n",
      "Average Cohen Kappa Score for annotation 94: 0.428\n",
      "Average Cohen Kappa Score for annotation 95: 0.425\n",
      "Average Cohen Kappa Score for annotation 96: 0.377\n",
      "Average Cohen Kappa Score for annotation 93: 0.346\n",
      "Average Cohen Kappa Score for annotation 94: 0.428\n",
      "Average Cohen Kappa Score for annotation 95: 0.425\n",
      "Average Cohen Kappa Score for annotation 96: 0.377\n",
      "Average Cohen Kappa Score for annotation 93: 0.346\n",
      "Average Cohen Kappa Score for annotation 94: 0.428\n",
      "Average Cohen Kappa Score for annotation 95: 0.425\n",
      "Average Cohen Kappa Score for annotation 96: 0.377\n",
      "Average Cohen Kappa Score for annotation 93: 0.346\n",
      "Average Cohen Kappa Score for annotation 94: 0.428\n",
      "Average Cohen Kappa Score for annotation 95: 0.425\n",
      "Average Cohen Kappa Score for annotation 96: 0.377\n",
      "Average Cohen Kappa Score for annotation 93: 0.346\n",
      "Average Cohen Kappa Score for annotation 94: 0.428\n",
      "Average Cohen Kappa Score for annotation 95: 0.425\n",
      "Average Cohen Kappa Score for annotation 96: 0.377\n",
      "Average Cohen Kappa Score for annotation 93: 0.346\n",
      "Average Cohen Kappa Score for annotation 94: 0.428\n",
      "Average Cohen Kappa Score for annotation 95: 0.425\n",
      "Average Cohen Kappa Score for annotation 96: 0.377\n",
      "Average Cohen Kappa Score for annotation 93: 0.346\n",
      "Average Cohen Kappa Score for annotation 94: 0.428\n",
      "Average Cohen Kappa Score for annotation 95: 0.425\n",
      "Average Cohen Kappa Score for annotation 96: 0.377\n",
      "Average Cohen Kappa Score for annotation 93: 0.346\n",
      "Average Cohen Kappa Score for annotation 94: 0.428\n",
      "Average Cohen Kappa Score for annotation 95: 0.425\n",
      "Average Cohen Kappa Score for annotation 96: 0.377\n",
      "Average Cohen Kappa Score for annotation 93: 0.346\n",
      "Average Cohen Kappa Score for annotation 94: 0.428\n",
      "Average Cohen Kappa Score for annotation 95: 0.425\n",
      "Average Cohen Kappa Score for annotation 96: 0.377\n",
      "Average Cohen Kappa Score for annotation 93: 0.346\n",
      "Average Cohen Kappa Score for annotation 94: 0.428\n",
      "Average Cohen Kappa Score for annotation 95: 0.425\n",
      "Average Cohen Kappa Score for annotation 96: 0.377\n",
      "Average Cohen Kappa Score for annotation 93: 0.346\n",
      "Average Cohen Kappa Score for annotation 94: 0.428\n",
      "Average Cohen Kappa Score for annotation 95: 0.425\n",
      "Average Cohen Kappa Score for annotation 96: 0.377\n",
      "Average Cohen Kappa Score for annotation 93: 0.346\n",
      "Average Cohen Kappa Score for annotation 94: 0.428\n",
      "Average Cohen Kappa Score for annotation 95: 0.425\n",
      "Average Cohen Kappa Score for annotation 96: 0.377\n",
      "Average Cohen Kappa Score for annotation 93: 0.346\n",
      "Average Cohen Kappa Score for annotation 94: 0.428\n",
      "Average Cohen Kappa Score for annotation 95: 0.425\n",
      "Average Cohen Kappa Score for annotation 96: 0.377\n",
      "Average Cohen Kappa Score for annotation 93: 0.346\n",
      "Average Cohen Kappa Score for annotation 94: 0.428\n",
      "Average Cohen Kappa Score for annotation 95: 0.425\n",
      "Average Cohen Kappa Score for annotation 96: 0.377\n",
      "Average Cohen Kappa Score for annotation 93: 0.346\n",
      "Average Cohen Kappa Score for annotation 94: 0.428\n",
      "Average Cohen Kappa Score for annotation 95: 0.425\n",
      "Average Cohen Kappa Score for annotation 96: 0.377\n",
      "Average Cohen Kappa Score for annotation 93: 0.346\n",
      "Average Cohen Kappa Score for annotation 94: 0.428\n",
      "Average Cohen Kappa Score for annotation 95: 0.425\n",
      "Average Cohen Kappa Score for annotation 96: 0.377\n",
      "Average Cohen Kappa Score for annotation 93: 0.346\n",
      "Average Cohen Kappa Score for annotation 94: 0.428\n",
      "Average Cohen Kappa Score for annotation 95: 0.425\n",
      "Average Cohen Kappa Score for annotation 96: 0.377\n",
      "Average Cohen Kappa Score for annotation 93: 0.346\n",
      "Average Cohen Kappa Score for annotation 94: 0.428\n",
      "Average Cohen Kappa Score for annotation 95: 0.425\n",
      "Average Cohen Kappa Score for annotation 96: 0.377\n",
      "Average Cohen Kappa Score for annotation 93: 0.346\n",
      "Average Cohen Kappa Score for annotation 94: 0.428\n",
      "Average Cohen Kappa Score for annotation 95: 0.425\n",
      "Average Cohen Kappa Score for annotation 96: 0.377\n",
      "Average Cohen Kappa Score for annotation 93: 0.346\n",
      "Average Cohen Kappa Score for annotation 94: 0.428\n",
      "Average Cohen Kappa Score for annotation 95: 0.425\n",
      "Average Cohen Kappa Score for annotation 96: 0.377\n",
      "Average Cohen Kappa Score for annotation 93: 0.346\n",
      "Average Cohen Kappa Score for annotation 94: 0.428\n",
      "Average Cohen Kappa Score for annotation 95: 0.425\n",
      "Average Cohen Kappa Score for annotation 96: 0.377\n",
      "Average Cohen Kappa Score for annotation 93: 0.346\n",
      "Average Cohen Kappa Score for annotation 94: 0.428\n",
      "Average Cohen Kappa Score for annotation 95: 0.425\n",
      "Average Cohen Kappa Score for annotation 96: 0.377\n"
     ]
    },
    {
     "name": "stdout",
     "output_type": "stream",
     "text": [
      "Average Cohen Kappa Score for annotation 93: 0.346\n",
      "Average Cohen Kappa Score for annotation 94: 0.428\n",
      "Average Cohen Kappa Score for annotation 95: 0.425\n",
      "Average Cohen Kappa Score for annotation 96: 0.377\n",
      "Average Cohen Kappa Score for annotation 93: 0.346\n",
      "Average Cohen Kappa Score for annotation 94: 0.428\n",
      "Average Cohen Kappa Score for annotation 95: 0.425\n",
      "Average Cohen Kappa Score for annotation 96: 0.377\n",
      "Average Cohen Kappa Score for annotation 93: 0.346\n",
      "Average Cohen Kappa Score for annotation 94: 0.428\n",
      "Average Cohen Kappa Score for annotation 95: 0.425\n",
      "Average Cohen Kappa Score for annotation 96: 0.377\n",
      "Average Cohen Kappa Score for annotation 93: 0.346\n",
      "Average Cohen Kappa Score for annotation 94: 0.428\n",
      "Average Cohen Kappa Score for annotation 95: 0.425\n",
      "Average Cohen Kappa Score for annotation 96: 0.377\n",
      "Average Cohen Kappa Score for annotation 93: 0.346\n",
      "Average Cohen Kappa Score for annotation 94: 0.428\n",
      "Average Cohen Kappa Score for annotation 95: 0.425\n",
      "Average Cohen Kappa Score for annotation 96: 0.377\n",
      "Average Cohen Kappa Score for annotation 93: 0.346\n",
      "Average Cohen Kappa Score for annotation 94: 0.428\n",
      "Average Cohen Kappa Score for annotation 95: 0.425\n",
      "Average Cohen Kappa Score for annotation 96: 0.377\n",
      "Average Cohen Kappa Score for annotation 93: 0.346\n",
      "Average Cohen Kappa Score for annotation 94: 0.428\n",
      "Average Cohen Kappa Score for annotation 95: 0.425\n",
      "Average Cohen Kappa Score for annotation 96: 0.377\n",
      "Average Cohen Kappa Score for annotation 93: 0.346\n",
      "Average Cohen Kappa Score for annotation 94: 0.428\n",
      "Average Cohen Kappa Score for annotation 95: 0.425\n",
      "Average Cohen Kappa Score for annotation 96: 0.377\n",
      "Average Cohen Kappa Score for annotation 93: 0.346\n",
      "Average Cohen Kappa Score for annotation 94: 0.428\n",
      "Average Cohen Kappa Score for annotation 95: 0.425\n",
      "Average Cohen Kappa Score for annotation 96: 0.377\n",
      "Average Cohen Kappa Score for annotation 93: 0.346\n",
      "Average Cohen Kappa Score for annotation 94: 0.428\n",
      "Average Cohen Kappa Score for annotation 95: 0.425\n",
      "Average Cohen Kappa Score for annotation 96: 0.377\n"
     ]
    },
    {
     "data": {
      "text/html": [
       "<div>\n",
       "<style scoped>\n",
       "    .dataframe tbody tr th:only-of-type {\n",
       "        vertical-align: middle;\n",
       "    }\n",
       "\n",
       "    .dataframe tbody tr th {\n",
       "        vertical-align: top;\n",
       "    }\n",
       "\n",
       "    .dataframe thead th {\n",
       "        text-align: right;\n",
       "    }\n",
       "</style>\n",
       "<table border=\"1\" class=\"dataframe\">\n",
       "  <thead>\n",
       "    <tr style=\"text-align: right;\">\n",
       "      <th></th>\n",
       "      <th>text</th>\n",
       "      <th>Final Label</th>\n",
       "    </tr>\n",
       "  </thead>\n",
       "  <tbody>\n",
       "    <tr>\n",
       "      <th>0</th>\n",
       "      <td>Language Education in the Time of COVID-19</td>\n",
       "      <td>False</td>\n",
       "    </tr>\n",
       "    <tr>\n",
       "      <th>1</th>\n",
       "      <td>COVID-19 Test Kits</td>\n",
       "      <td>False</td>\n",
       "    </tr>\n",
       "    <tr>\n",
       "      <th>2</th>\n",
       "      <td>COVID 19 IN PRISON</td>\n",
       "      <td>False</td>\n",
       "    </tr>\n",
       "    <tr>\n",
       "      <th>3</th>\n",
       "      <td>Get Waled Home</td>\n",
       "      <td>False</td>\n",
       "    </tr>\n",
       "    <tr>\n",
       "      <th>4</th>\n",
       "      <td>Make pass/fail available for Mississippi State...</td>\n",
       "      <td>False</td>\n",
       "    </tr>\n",
       "  </tbody>\n",
       "</table>\n",
       "</div>"
      ],
      "text/plain": [
       "                                                text Final Label\n",
       "0         Language Education in the Time of COVID-19       False\n",
       "1                                 COVID-19 Test Kits       False\n",
       "2                                 COVID 19 IN PRISON       False\n",
       "3                                     Get Waled Home       False\n",
       "4  Make pass/fail available for Mississippi State...       False"
      ]
     },
     "execution_count": 18,
     "metadata": {},
     "output_type": "execute_result"
    }
   ],
   "source": [
    "updateLabel(df)\n",
    "df = df.iloc[:,[0,-1]]\n",
    "df.head()"
   ]
  },
  {
   "cell_type": "markdown",
   "metadata": {},
   "source": [
    "## change.org_topic_0_masking_and_distancing.csv"
   ]
  },
  {
   "cell_type": "code",
   "execution_count": 19,
   "metadata": {},
   "outputs": [
    {
     "data": {
      "text/html": [
       "<div>\n",
       "<style scoped>\n",
       "    .dataframe tbody tr th:only-of-type {\n",
       "        vertical-align: middle;\n",
       "    }\n",
       "\n",
       "    .dataframe tbody tr th {\n",
       "        vertical-align: top;\n",
       "    }\n",
       "\n",
       "    .dataframe thead th {\n",
       "        text-align: right;\n",
       "    }\n",
       "</style>\n",
       "<table border=\"1\" class=\"dataframe\">\n",
       "  <thead>\n",
       "    <tr style=\"text-align: right;\">\n",
       "      <th></th>\n",
       "      <th>text</th>\n",
       "      <th>annotation_96</th>\n",
       "      <th>annotation_53</th>\n",
       "      <th>annotation_93</th>\n",
       "      <th>annotation_94</th>\n",
       "      <th>annotation_95</th>\n",
       "    </tr>\n",
       "  </thead>\n",
       "  <tbody>\n",
       "    <tr>\n",
       "      <th>0</th>\n",
       "      <td>Language Education in the Time of COVID-19</td>\n",
       "      <td>False</td>\n",
       "      <td>False</td>\n",
       "      <td>False</td>\n",
       "      <td>False</td>\n",
       "      <td>False</td>\n",
       "    </tr>\n",
       "    <tr>\n",
       "      <th>1</th>\n",
       "      <td>COVID-19 Test Kits</td>\n",
       "      <td>False</td>\n",
       "      <td>False</td>\n",
       "      <td>False</td>\n",
       "      <td>False</td>\n",
       "      <td>False</td>\n",
       "    </tr>\n",
       "    <tr>\n",
       "      <th>2</th>\n",
       "      <td>COVID 19 IN PRISON</td>\n",
       "      <td>False</td>\n",
       "      <td>False</td>\n",
       "      <td>False</td>\n",
       "      <td>False</td>\n",
       "      <td>False</td>\n",
       "    </tr>\n",
       "    <tr>\n",
       "      <th>3</th>\n",
       "      <td>Get Waled Home</td>\n",
       "      <td>False</td>\n",
       "      <td>False</td>\n",
       "      <td>False</td>\n",
       "      <td>False</td>\n",
       "      <td>False</td>\n",
       "    </tr>\n",
       "    <tr>\n",
       "      <th>4</th>\n",
       "      <td>Make pass/fail available for Mississippi State...</td>\n",
       "      <td>False</td>\n",
       "      <td>False</td>\n",
       "      <td>False</td>\n",
       "      <td>False</td>\n",
       "      <td>False</td>\n",
       "    </tr>\n",
       "  </tbody>\n",
       "</table>\n",
       "</div>"
      ],
      "text/plain": [
       "                                                text  annotation_96  \\\n",
       "0         Language Education in the Time of COVID-19          False   \n",
       "1                                 COVID-19 Test Kits          False   \n",
       "2                                 COVID 19 IN PRISON          False   \n",
       "3                                     Get Waled Home          False   \n",
       "4  Make pass/fail available for Mississippi State...          False   \n",
       "\n",
       "   annotation_53  annotation_93  annotation_94  annotation_95  \n",
       "0          False          False          False          False  \n",
       "1          False          False          False          False  \n",
       "2          False          False          False          False  \n",
       "3          False          False          False          False  \n",
       "4          False          False          False          False  "
      ]
     },
     "execution_count": 19,
     "metadata": {},
     "output_type": "execute_result"
    }
   ],
   "source": [
    "df_1 = pd.read_csv(r'change.org_topic\\change.org_topic_0_masking_and_distancing.csv')\n",
    "df_1.head()"
   ]
  },
  {
   "cell_type": "code",
   "execution_count": 20,
   "metadata": {},
   "outputs": [
    {
     "name": "stdout",
     "output_type": "stream",
     "text": [
      "0\n",
      "0\n",
      "0\n",
      "0\n",
      "0\n",
      "0\n"
     ]
    }
   ],
   "source": [
    "print(df_1['annotation_53'].isnull().sum())\n",
    "print(df_1['annotation_93'].isnull().sum())\n",
    "print(df_1['annotation_94'].isnull().sum())\n",
    "print(df_1['annotation_95'].isnull().sum())\n",
    "print(df_1['annotation_96'].isnull().sum())\n",
    "print(df_1['text'].isnull().sum())"
   ]
  },
  {
   "cell_type": "code",
   "execution_count": 21,
   "metadata": {},
   "outputs": [],
   "source": [
    "annotation_1= df_1['annotation_53']\n",
    "annotation_2= df_1['annotation_93']\n",
    "annotation_3= df_1['annotation_94']\n",
    "annotation_4= df_1['annotation_95']\n",
    "annotation_5= df_1['annotation_96']"
   ]
  },
  {
   "cell_type": "markdown",
   "metadata": {},
   "source": [
    "### Cohen_kappa average score of annotation 53"
   ]
  },
  {
   "cell_type": "code",
   "execution_count": 22,
   "metadata": {},
   "outputs": [],
   "source": [
    "def cohen_avg_1():\n",
    "    cohen_score_12 = cohen_kappa_score(annotation_1,annotation_2)\n",
    "    cohen_score_13 = cohen_kappa_score(annotation_1,annotation_3)\n",
    "    cohen_score_14 = cohen_kappa_score(annotation_1,annotation_4)\n",
    "    cohen_score_15 = cohen_kappa_score(annotation_1,annotation_5)\n",
    "    cohen_score_average_1 = round((cohen_score_12 + cohen_score_13 + cohen_score_14+ cohen_score_15)/4,3)\n",
    "    print(\"Average Cohen Kappa Score for annotation 53:\",(cohen_score_average_1))\n",
    "    return cohen_score_average_1"
   ]
  },
  {
   "cell_type": "code",
   "execution_count": 23,
   "metadata": {},
   "outputs": [
    {
     "name": "stdout",
     "output_type": "stream",
     "text": [
      "Average Cohen Kappa Score for annotation 53: -0.006\n"
     ]
    },
    {
     "data": {
      "text/plain": [
       "-0.006"
      ]
     },
     "execution_count": 23,
     "metadata": {},
     "output_type": "execute_result"
    }
   ],
   "source": [
    "cohen_avg_1()"
   ]
  },
  {
   "cell_type": "markdown",
   "metadata": {},
   "source": [
    "### Cohen_kappa average score of annotation 93"
   ]
  },
  {
   "cell_type": "code",
   "execution_count": 24,
   "metadata": {},
   "outputs": [],
   "source": [
    "def cohen_avg_2():\n",
    "    cohen_score_21 = cohen_kappa_score(annotation_2,annotation_1)\n",
    "    cohen_score_23 = cohen_kappa_score(annotation_2,annotation_3)\n",
    "    cohen_score_24 = cohen_kappa_score(annotation_2,annotation_4)\n",
    "    cohen_score_25 = cohen_kappa_score(annotation_2,annotation_5)\n",
    "    cohen_score_average_2 = round((cohen_score_21 + cohen_score_23 + cohen_score_24+ cohen_score_25)/4,3)\n",
    "    print(\"Average Cohen Kappa Score for annotation 93:\",(cohen_score_average_2))\n",
    "    return cohen_score_average_2"
   ]
  },
  {
   "cell_type": "code",
   "execution_count": 25,
   "metadata": {},
   "outputs": [
    {
     "name": "stdout",
     "output_type": "stream",
     "text": [
      "Average Cohen Kappa Score for annotation 93: 0.139\n"
     ]
    },
    {
     "data": {
      "text/plain": [
       "0.139"
      ]
     },
     "execution_count": 25,
     "metadata": {},
     "output_type": "execute_result"
    }
   ],
   "source": [
    "cohen_avg_2()"
   ]
  },
  {
   "cell_type": "markdown",
   "metadata": {},
   "source": [
    "### Cohen_kappa average score of annotation 94"
   ]
  },
  {
   "cell_type": "code",
   "execution_count": 26,
   "metadata": {},
   "outputs": [],
   "source": [
    "def cohen_avg_3():\n",
    "    cohen_score_31 = cohen_kappa_score(annotation_3,annotation_1)\n",
    "    cohen_score_32 = cohen_kappa_score(annotation_3,annotation_2)\n",
    "    cohen_score_34 = cohen_kappa_score(annotation_3,annotation_4)\n",
    "    cohen_score_35 = cohen_kappa_score(annotation_3,annotation_5)\n",
    "    cohen_score_average_3 = round((cohen_score_31 + cohen_score_32 + cohen_score_34+ cohen_score_35)/4,3)\n",
    "    print(\"Average Cohen Kappa Score for annotation 94:\",(cohen_score_average_3))\n",
    "    return cohen_score_average_3"
   ]
  },
  {
   "cell_type": "code",
   "execution_count": 27,
   "metadata": {},
   "outputs": [
    {
     "name": "stdout",
     "output_type": "stream",
     "text": [
      "Average Cohen Kappa Score for annotation 94: 0.193\n"
     ]
    },
    {
     "data": {
      "text/plain": [
       "0.193"
      ]
     },
     "execution_count": 27,
     "metadata": {},
     "output_type": "execute_result"
    }
   ],
   "source": [
    "cohen_avg_3()"
   ]
  },
  {
   "cell_type": "markdown",
   "metadata": {},
   "source": [
    "### Cohen_kappa average score of annotation 95"
   ]
  },
  {
   "cell_type": "code",
   "execution_count": 28,
   "metadata": {},
   "outputs": [],
   "source": [
    "def cohen_avg_4():\n",
    "    cohen_score_41 = cohen_kappa_score(annotation_4,annotation_1)\n",
    "    cohen_score_42 = cohen_kappa_score(annotation_4,annotation_2)\n",
    "    cohen_score_43 = cohen_kappa_score(annotation_4,annotation_3)\n",
    "    cohen_score_45 = cohen_kappa_score(annotation_4,annotation_5)\n",
    "    cohen_score_average_4 = round((cohen_score_41 + cohen_score_42 + cohen_score_43 + cohen_score_45)/4,3)\n",
    "    print(\"Average Cohen Kappa Score for annotation 95:\",(cohen_score_average_4))\n",
    "    return cohen_score_average_4"
   ]
  },
  {
   "cell_type": "code",
   "execution_count": 29,
   "metadata": {},
   "outputs": [
    {
     "name": "stdout",
     "output_type": "stream",
     "text": [
      "Average Cohen Kappa Score for annotation 95: 0.258\n"
     ]
    },
    {
     "data": {
      "text/plain": [
       "0.258"
      ]
     },
     "execution_count": 29,
     "metadata": {},
     "output_type": "execute_result"
    }
   ],
   "source": [
    "cohen_avg_4()"
   ]
  },
  {
   "cell_type": "markdown",
   "metadata": {},
   "source": [
    "### Cohen_kappa average score of annotation 96"
   ]
  },
  {
   "cell_type": "code",
   "execution_count": 30,
   "metadata": {},
   "outputs": [],
   "source": [
    "def cohen_avg_5():\n",
    "    cohen_score_51 = cohen_kappa_score(annotation_5,annotation_1)\n",
    "    cohen_score_52 = cohen_kappa_score(annotation_5,annotation_2)\n",
    "    cohen_score_53 = cohen_kappa_score(annotation_5,annotation_3)\n",
    "    cohen_score_54 = cohen_kappa_score(annotation_5,annotation_4)\n",
    "    cohen_score_average_5 = round((cohen_score_51 + cohen_score_52 + cohen_score_53 + cohen_score_54)/4,3)\n",
    "    print(\"Average Cohen Kappa Score for annotation 96:\",(cohen_score_average_5))\n",
    "    return cohen_score_average_5"
   ]
  },
  {
   "cell_type": "code",
   "execution_count": 31,
   "metadata": {},
   "outputs": [
    {
     "name": "stdout",
     "output_type": "stream",
     "text": [
      "Average Cohen Kappa Score for annotation 96: 0.201\n"
     ]
    },
    {
     "data": {
      "text/plain": [
       "0.201"
      ]
     },
     "execution_count": 31,
     "metadata": {},
     "output_type": "execute_result"
    }
   ],
   "source": [
    "cohen_avg_5()"
   ]
  },
  {
   "cell_type": "markdown",
   "metadata": {},
   "source": [
    "##### If average cohen kappa score for any annotation is less than 0.2, we will drop it"
   ]
  },
  {
   "cell_type": "code",
   "execution_count": 32,
   "metadata": {},
   "outputs": [],
   "source": [
    "def drop_annotate():\n",
    "    average = [cohen_avg_1(), cohen_avg_2(),cohen_avg_3(),cohen_avg_4(),cohen_avg_5()]\n",
    "    columns_name = ['annotation_53','annotation_93','annotation_94','annotation_95','annotation_96']\n",
    "    #columns =[annotation_1,annotation_2,annotation_3,annotation_4]\n",
    "    for i in range(0,len(average)):\n",
    "        if average[i]< 0.2:\n",
    "            print(\"\\t\")\n",
    "            print(columns_name[i])\n",
    "            print(average[i])\n",
    "            df_1.drop(columns_name[i], axis=1, inplace = True)\n",
    "    print(df_1.head())"
   ]
  },
  {
   "cell_type": "code",
   "execution_count": 33,
   "metadata": {},
   "outputs": [
    {
     "name": "stdout",
     "output_type": "stream",
     "text": [
      "Average Cohen Kappa Score for annotation 53: -0.006\n",
      "Average Cohen Kappa Score for annotation 93: 0.139\n",
      "Average Cohen Kappa Score for annotation 94: 0.193\n",
      "Average Cohen Kappa Score for annotation 95: 0.258\n",
      "Average Cohen Kappa Score for annotation 96: 0.201\n",
      "\t\n",
      "annotation_53\n",
      "-0.006\n",
      "\t\n",
      "annotation_93\n",
      "0.139\n",
      "\t\n",
      "annotation_94\n",
      "0.193\n",
      "                                                text  annotation_96  \\\n",
      "0         Language Education in the Time of COVID-19          False   \n",
      "1                                 COVID-19 Test Kits          False   \n",
      "2                                 COVID 19 IN PRISON          False   \n",
      "3                                     Get Waled Home          False   \n",
      "4  Make pass/fail available for Mississippi State...          False   \n",
      "\n",
      "   annotation_95  \n",
      "0          False  \n",
      "1          False  \n",
      "2          False  \n",
      "3          False  \n",
      "4          False  \n"
     ]
    }
   ],
   "source": [
    "drop_annotate()"
   ]
  },
  {
   "cell_type": "code",
   "execution_count": null,
   "metadata": {},
   "outputs": [],
   "source": []
  },
  {
   "cell_type": "markdown",
   "metadata": {},
   "source": [
    "## change.org_topic_0_vaccination.csv"
   ]
  },
  {
   "cell_type": "code",
   "execution_count": 34,
   "metadata": {},
   "outputs": [
    {
     "data": {
      "text/html": [
       "<div>\n",
       "<style scoped>\n",
       "    .dataframe tbody tr th:only-of-type {\n",
       "        vertical-align: middle;\n",
       "    }\n",
       "\n",
       "    .dataframe tbody tr th {\n",
       "        vertical-align: top;\n",
       "    }\n",
       "\n",
       "    .dataframe thead th {\n",
       "        text-align: right;\n",
       "    }\n",
       "</style>\n",
       "<table border=\"1\" class=\"dataframe\">\n",
       "  <thead>\n",
       "    <tr style=\"text-align: right;\">\n",
       "      <th></th>\n",
       "      <th>text</th>\n",
       "      <th>annotation_96</th>\n",
       "      <th>annotation_53</th>\n",
       "      <th>annotation_93</th>\n",
       "      <th>annotation_94</th>\n",
       "      <th>annotation_95</th>\n",
       "    </tr>\n",
       "  </thead>\n",
       "  <tbody>\n",
       "    <tr>\n",
       "      <th>0</th>\n",
       "      <td>Language Education in the Time of COVID-19</td>\n",
       "      <td>False</td>\n",
       "      <td>False</td>\n",
       "      <td>False</td>\n",
       "      <td>False</td>\n",
       "      <td>False</td>\n",
       "    </tr>\n",
       "    <tr>\n",
       "      <th>1</th>\n",
       "      <td>COVID-19 Test Kits</td>\n",
       "      <td>False</td>\n",
       "      <td>False</td>\n",
       "      <td>False</td>\n",
       "      <td>False</td>\n",
       "      <td>False</td>\n",
       "    </tr>\n",
       "    <tr>\n",
       "      <th>2</th>\n",
       "      <td>COVID 19 IN PRISON</td>\n",
       "      <td>False</td>\n",
       "      <td>False</td>\n",
       "      <td>False</td>\n",
       "      <td>False</td>\n",
       "      <td>False</td>\n",
       "    </tr>\n",
       "    <tr>\n",
       "      <th>3</th>\n",
       "      <td>Get Waled Home</td>\n",
       "      <td>False</td>\n",
       "      <td>False</td>\n",
       "      <td>False</td>\n",
       "      <td>False</td>\n",
       "      <td>False</td>\n",
       "    </tr>\n",
       "    <tr>\n",
       "      <th>4</th>\n",
       "      <td>Make pass/fail available for Mississippi State...</td>\n",
       "      <td>False</td>\n",
       "      <td>False</td>\n",
       "      <td>False</td>\n",
       "      <td>False</td>\n",
       "      <td>False</td>\n",
       "    </tr>\n",
       "  </tbody>\n",
       "</table>\n",
       "</div>"
      ],
      "text/plain": [
       "                                                text  annotation_96  \\\n",
       "0         Language Education in the Time of COVID-19          False   \n",
       "1                                 COVID-19 Test Kits          False   \n",
       "2                                 COVID 19 IN PRISON          False   \n",
       "3                                     Get Waled Home          False   \n",
       "4  Make pass/fail available for Mississippi State...          False   \n",
       "\n",
       "   annotation_53  annotation_93  annotation_94  annotation_95  \n",
       "0          False          False          False          False  \n",
       "1          False          False          False          False  \n",
       "2          False          False          False          False  \n",
       "3          False          False          False          False  \n",
       "4          False          False          False          False  "
      ]
     },
     "execution_count": 34,
     "metadata": {},
     "output_type": "execute_result"
    }
   ],
   "source": [
    "df_2 = pd.read_csv(r'change.org_topic\\change.org_topic_0_vaccination.csv')\n",
    "df_2.head()"
   ]
  },
  {
   "cell_type": "code",
   "execution_count": 35,
   "metadata": {},
   "outputs": [
    {
     "name": "stdout",
     "output_type": "stream",
     "text": [
      "0\n",
      "0\n",
      "0\n",
      "0\n",
      "0\n",
      "0\n"
     ]
    }
   ],
   "source": [
    "print(df_2['annotation_53'].isnull().sum())\n",
    "print(df_2['annotation_93'].isnull().sum())\n",
    "print(df_2['annotation_94'].isnull().sum())\n",
    "print(df_2['annotation_95'].isnull().sum())\n",
    "print(df_2['annotation_96'].isnull().sum())\n",
    "print(df_2['text'].isnull().sum())"
   ]
  },
  {
   "cell_type": "code",
   "execution_count": 36,
   "metadata": {},
   "outputs": [],
   "source": [
    "annotation_1= df_2['annotation_53']\n",
    "annotation_2= df_2['annotation_93']\n",
    "annotation_3= df_2['annotation_94']\n",
    "annotation_4= df_2['annotation_95']\n",
    "annotation_5= df_2['annotation_96']"
   ]
  },
  {
   "cell_type": "markdown",
   "metadata": {},
   "source": [
    "### Cohen_kappa average score of annotation 53"
   ]
  },
  {
   "cell_type": "code",
   "execution_count": 37,
   "metadata": {},
   "outputs": [],
   "source": [
    "def cohen_avg_1():\n",
    "    cohen_score_12 = cohen_kappa_score(annotation_1,annotation_2)\n",
    "    cohen_score_13 = cohen_kappa_score(annotation_1,annotation_3)\n",
    "    cohen_score_14 = cohen_kappa_score(annotation_1,annotation_4)\n",
    "    cohen_score_15 = cohen_kappa_score(annotation_1,annotation_5)\n",
    "    cohen_score_average_1 = round((cohen_score_12 + cohen_score_13 + cohen_score_14+ cohen_score_15)/4,3)\n",
    "    print(\"Average Cohen Kappa Score for annotation 53:\",(cohen_score_average_1))\n",
    "    return cohen_score_average_1"
   ]
  },
  {
   "cell_type": "code",
   "execution_count": 38,
   "metadata": {},
   "outputs": [
    {
     "name": "stdout",
     "output_type": "stream",
     "text": [
      "Average Cohen Kappa Score for annotation 53: -0.005\n"
     ]
    },
    {
     "data": {
      "text/plain": [
       "-0.005"
      ]
     },
     "execution_count": 38,
     "metadata": {},
     "output_type": "execute_result"
    }
   ],
   "source": [
    "cohen_avg_1()"
   ]
  },
  {
   "cell_type": "markdown",
   "metadata": {},
   "source": [
    "### Cohen_kappa average score of annotation 93"
   ]
  },
  {
   "cell_type": "code",
   "execution_count": 39,
   "metadata": {},
   "outputs": [],
   "source": [
    "def cohen_avg_2():\n",
    "    cohen_score_21 = cohen_kappa_score(annotation_2,annotation_1)\n",
    "    cohen_score_23 = cohen_kappa_score(annotation_2,annotation_3)\n",
    "    cohen_score_24 = cohen_kappa_score(annotation_2,annotation_4)\n",
    "    cohen_score_25 = cohen_kappa_score(annotation_2,annotation_5)\n",
    "    cohen_score_average_2 = round((cohen_score_21 + cohen_score_23 + cohen_score_24+ cohen_score_25)/4,3)\n",
    "    print(\"Average Cohen Kappa Score for annotation 93:\",(cohen_score_average_2))\n",
    "    return cohen_score_average_2"
   ]
  },
  {
   "cell_type": "code",
   "execution_count": 40,
   "metadata": {},
   "outputs": [
    {
     "name": "stdout",
     "output_type": "stream",
     "text": [
      "Average Cohen Kappa Score for annotation 93: 0.262\n"
     ]
    },
    {
     "data": {
      "text/plain": [
       "0.262"
      ]
     },
     "execution_count": 40,
     "metadata": {},
     "output_type": "execute_result"
    }
   ],
   "source": [
    "cohen_avg_2()"
   ]
  },
  {
   "cell_type": "markdown",
   "metadata": {},
   "source": [
    "### Cohen_kappa average score of annotation 94"
   ]
  },
  {
   "cell_type": "code",
   "execution_count": 41,
   "metadata": {},
   "outputs": [],
   "source": [
    "def cohen_avg_3():\n",
    "    cohen_score_31 = cohen_kappa_score(annotation_3,annotation_1)\n",
    "    cohen_score_32 = cohen_kappa_score(annotation_3,annotation_2)\n",
    "    cohen_score_34 = cohen_kappa_score(annotation_3,annotation_4)\n",
    "    cohen_score_35 = cohen_kappa_score(annotation_3,annotation_5)\n",
    "    cohen_score_average_3 = round((cohen_score_31 + cohen_score_32 + cohen_score_34+ cohen_score_35)/4,3)\n",
    "    print(\"Average Cohen Kappa Score for annotation 94:\",(cohen_score_average_3))\n",
    "    return cohen_score_average_3"
   ]
  },
  {
   "cell_type": "code",
   "execution_count": 42,
   "metadata": {},
   "outputs": [
    {
     "name": "stdout",
     "output_type": "stream",
     "text": [
      "Average Cohen Kappa Score for annotation 94: 0.251\n"
     ]
    },
    {
     "data": {
      "text/plain": [
       "0.251"
      ]
     },
     "execution_count": 42,
     "metadata": {},
     "output_type": "execute_result"
    }
   ],
   "source": [
    "cohen_avg_3()"
   ]
  },
  {
   "cell_type": "markdown",
   "metadata": {},
   "source": [
    "### Cohen_kappa average score of annotation 95"
   ]
  },
  {
   "cell_type": "code",
   "execution_count": 43,
   "metadata": {},
   "outputs": [],
   "source": [
    "def cohen_avg_4():\n",
    "    cohen_score_41 = cohen_kappa_score(annotation_4,annotation_1)\n",
    "    cohen_score_42 = cohen_kappa_score(annotation_4,annotation_2)\n",
    "    cohen_score_43 = cohen_kappa_score(annotation_4,annotation_3)\n",
    "    cohen_score_45 = cohen_kappa_score(annotation_4,annotation_5)\n",
    "    cohen_score_average_4 = round((cohen_score_41 + cohen_score_42 + cohen_score_43 + cohen_score_45)/4,3)\n",
    "    print(\"Average Cohen Kappa Score for annotation 95:\",(cohen_score_average_4))\n",
    "    return cohen_score_average_4"
   ]
  },
  {
   "cell_type": "code",
   "execution_count": 44,
   "metadata": {},
   "outputs": [
    {
     "name": "stdout",
     "output_type": "stream",
     "text": [
      "Average Cohen Kappa Score for annotation 95: 0.137\n"
     ]
    },
    {
     "data": {
      "text/plain": [
       "0.137"
      ]
     },
     "execution_count": 44,
     "metadata": {},
     "output_type": "execute_result"
    }
   ],
   "source": [
    "cohen_avg_4()"
   ]
  },
  {
   "cell_type": "markdown",
   "metadata": {},
   "source": [
    "### Cohen_kappa average score of annotation 96"
   ]
  },
  {
   "cell_type": "code",
   "execution_count": 45,
   "metadata": {},
   "outputs": [],
   "source": [
    "def cohen_avg_5():\n",
    "    cohen_score_51 = cohen_kappa_score(annotation_5,annotation_1)\n",
    "    cohen_score_52 = cohen_kappa_score(annotation_5,annotation_2)\n",
    "    cohen_score_53 = cohen_kappa_score(annotation_5,annotation_3)\n",
    "    cohen_score_54 = cohen_kappa_score(annotation_5,annotation_4)\n",
    "    cohen_score_average_5 = round((cohen_score_51 + cohen_score_52 + cohen_score_53 + cohen_score_54)/4,3)\n",
    "    print(\"Average Cohen Kappa Score for annotation 96:\",(cohen_score_average_5))\n",
    "    return cohen_score_average_5"
   ]
  },
  {
   "cell_type": "code",
   "execution_count": 46,
   "metadata": {},
   "outputs": [
    {
     "name": "stdout",
     "output_type": "stream",
     "text": [
      "Average Cohen Kappa Score for annotation 96: 0.122\n"
     ]
    },
    {
     "data": {
      "text/plain": [
       "0.122"
      ]
     },
     "execution_count": 46,
     "metadata": {},
     "output_type": "execute_result"
    }
   ],
   "source": [
    "cohen_avg_5()"
   ]
  },
  {
   "cell_type": "markdown",
   "metadata": {},
   "source": [
    "##### If average cohen kappa score for any annotation is less than 0.2, we will drop it"
   ]
  },
  {
   "cell_type": "code",
   "execution_count": 47,
   "metadata": {},
   "outputs": [],
   "source": [
    "def drop_annotate():\n",
    "    average = [cohen_avg_1(), cohen_avg_2(),cohen_avg_3(),cohen_avg_4(),cohen_avg_5()]\n",
    "    columns_name = ['annotation_53','annotation_93','annotation_94','annotation_95','annotation_96']\n",
    "    #columns =[annotation_1,annotation_2,annotation_3,annotation_4]\n",
    "    for i in range(0,len(average)):\n",
    "        if average[i]< 0.2:\n",
    "            print(\"\\t\")\n",
    "            print(columns_name[i])\n",
    "            print(average[i])\n",
    "            df_2.drop(columns_name[i], axis=1, inplace = True)\n",
    "    print(df_2.head())"
   ]
  },
  {
   "cell_type": "code",
   "execution_count": 48,
   "metadata": {},
   "outputs": [
    {
     "name": "stdout",
     "output_type": "stream",
     "text": [
      "Average Cohen Kappa Score for annotation 53: -0.005\n",
      "Average Cohen Kappa Score for annotation 93: 0.262\n",
      "Average Cohen Kappa Score for annotation 94: 0.251\n",
      "Average Cohen Kappa Score for annotation 95: 0.137\n",
      "Average Cohen Kappa Score for annotation 96: 0.122\n",
      "\t\n",
      "annotation_53\n",
      "-0.005\n",
      "\t\n",
      "annotation_95\n",
      "0.137\n",
      "\t\n",
      "annotation_96\n",
      "0.122\n",
      "                                                text  annotation_93  \\\n",
      "0         Language Education in the Time of COVID-19          False   \n",
      "1                                 COVID-19 Test Kits          False   \n",
      "2                                 COVID 19 IN PRISON          False   \n",
      "3                                     Get Waled Home          False   \n",
      "4  Make pass/fail available for Mississippi State...          False   \n",
      "\n",
      "   annotation_94  \n",
      "0          False  \n",
      "1          False  \n",
      "2          False  \n",
      "3          False  \n",
      "4          False  \n"
     ]
    }
   ],
   "source": [
    "drop_annotate()"
   ]
  },
  {
   "cell_type": "code",
   "execution_count": null,
   "metadata": {},
   "outputs": [],
   "source": []
  },
  {
   "cell_type": "markdown",
   "metadata": {},
   "source": [
    "## change.org_topic_1_lockdowns.csv"
   ]
  },
  {
   "cell_type": "code",
   "execution_count": 49,
   "metadata": {},
   "outputs": [
    {
     "data": {
      "text/html": [
       "<div>\n",
       "<style scoped>\n",
       "    .dataframe tbody tr th:only-of-type {\n",
       "        vertical-align: middle;\n",
       "    }\n",
       "\n",
       "    .dataframe tbody tr th {\n",
       "        vertical-align: top;\n",
       "    }\n",
       "\n",
       "    .dataframe thead th {\n",
       "        text-align: right;\n",
       "    }\n",
       "</style>\n",
       "<table border=\"1\" class=\"dataframe\">\n",
       "  <thead>\n",
       "    <tr style=\"text-align: right;\">\n",
       "      <th></th>\n",
       "      <th>text</th>\n",
       "      <th>annotation_112</th>\n",
       "      <th>annotation_109</th>\n",
       "      <th>annotation_110</th>\n",
       "      <th>annotation_111</th>\n",
       "    </tr>\n",
       "  </thead>\n",
       "  <tbody>\n",
       "    <tr>\n",
       "      <th>0</th>\n",
       "      <td>Get CoVID Vaccines to Nepal ASAP and prevent a...</td>\n",
       "      <td>False</td>\n",
       "      <td>False</td>\n",
       "      <td>False</td>\n",
       "      <td>False</td>\n",
       "    </tr>\n",
       "    <tr>\n",
       "      <th>1</th>\n",
       "      <td>Compensate Essential Workers</td>\n",
       "      <td>False</td>\n",
       "      <td>False</td>\n",
       "      <td>False</td>\n",
       "      <td>True</td>\n",
       "    </tr>\n",
       "    <tr>\n",
       "      <th>2</th>\n",
       "      <td>Amend Recent COVID-19 Restrictions for Persona...</td>\n",
       "      <td>False</td>\n",
       "      <td>True</td>\n",
       "      <td>True</td>\n",
       "      <td>False</td>\n",
       "    </tr>\n",
       "    <tr>\n",
       "      <th>3</th>\n",
       "      <td>Petition against COVID-19 &amp; Quarantine Bill: S...</td>\n",
       "      <td>True</td>\n",
       "      <td>False</td>\n",
       "      <td>False</td>\n",
       "      <td>False</td>\n",
       "    </tr>\n",
       "    <tr>\n",
       "      <th>4</th>\n",
       "      <td>KCL Has Coronavirus Case: Petition to Have Onl...</td>\n",
       "      <td>True</td>\n",
       "      <td>True</td>\n",
       "      <td>True</td>\n",
       "      <td>False</td>\n",
       "    </tr>\n",
       "  </tbody>\n",
       "</table>\n",
       "</div>"
      ],
      "text/plain": [
       "                                                text  annotation_112  \\\n",
       "0  Get CoVID Vaccines to Nepal ASAP and prevent a...           False   \n",
       "1                       Compensate Essential Workers           False   \n",
       "2  Amend Recent COVID-19 Restrictions for Persona...           False   \n",
       "3  Petition against COVID-19 & Quarantine Bill: S...            True   \n",
       "4  KCL Has Coronavirus Case: Petition to Have Onl...            True   \n",
       "\n",
       "   annotation_109  annotation_110  annotation_111  \n",
       "0           False           False           False  \n",
       "1           False           False            True  \n",
       "2            True            True           False  \n",
       "3           False           False           False  \n",
       "4            True            True           False  "
      ]
     },
     "execution_count": 49,
     "metadata": {},
     "output_type": "execute_result"
    }
   ],
   "source": [
    "df_3 = pd.read_csv(r'change.org_topic\\change.org_topic_1_lockdowns.csv')\n",
    "df_3.head()"
   ]
  },
  {
   "cell_type": "code",
   "execution_count": 50,
   "metadata": {},
   "outputs": [
    {
     "name": "stdout",
     "output_type": "stream",
     "text": [
      "0\n",
      "0\n",
      "0\n",
      "0\n",
      "0\n"
     ]
    }
   ],
   "source": [
    "print(df_3['annotation_109'].isnull().sum())\n",
    "print(df_3['annotation_110'].isnull().sum())\n",
    "print(df_3['annotation_111'].isnull().sum())\n",
    "print(df_3['annotation_112'].isnull().sum())\n",
    "print(df_3['text'].isnull().sum())"
   ]
  },
  {
   "cell_type": "code",
   "execution_count": 51,
   "metadata": {},
   "outputs": [],
   "source": [
    "annotation_1= df_3['annotation_109']\n",
    "annotation_2= df_3['annotation_110']\n",
    "annotation_3= df_3['annotation_111']\n",
    "annotation_4= df_3['annotation_112']"
   ]
  },
  {
   "cell_type": "markdown",
   "metadata": {},
   "source": [
    "### Cohen_kappa average score of annotation 109"
   ]
  },
  {
   "cell_type": "code",
   "execution_count": 52,
   "metadata": {},
   "outputs": [],
   "source": [
    "def cohen_avg_1():\n",
    "    cohen_score_12 = cohen_kappa_score(annotation_1,annotation_2)\n",
    "    cohen_score_13 = cohen_kappa_score(annotation_1,annotation_3)\n",
    "    cohen_score_14 = cohen_kappa_score(annotation_1,annotation_4)\n",
    "    cohen_score_average_1 = round((cohen_score_12 + cohen_score_13 + cohen_score_14)/3,3)\n",
    "    print(\"Average Cohen Kappa Score for annotation 109:\",(cohen_score_average_1))\n",
    "    return cohen_score_average_1"
   ]
  },
  {
   "cell_type": "code",
   "execution_count": 53,
   "metadata": {},
   "outputs": [
    {
     "name": "stdout",
     "output_type": "stream",
     "text": [
      "Average Cohen Kappa Score for annotation 109: 0.466\n"
     ]
    },
    {
     "data": {
      "text/plain": [
       "0.466"
      ]
     },
     "execution_count": 53,
     "metadata": {},
     "output_type": "execute_result"
    }
   ],
   "source": [
    "cohen_avg_1()"
   ]
  },
  {
   "cell_type": "markdown",
   "metadata": {},
   "source": [
    "### Cohen_kappa average score of annotation 110"
   ]
  },
  {
   "cell_type": "code",
   "execution_count": 54,
   "metadata": {},
   "outputs": [],
   "source": [
    "def cohen_avg_2():\n",
    "    cohen_score_21 = cohen_kappa_score(annotation_2,annotation_1)\n",
    "    cohen_score_23 = cohen_kappa_score(annotation_2,annotation_3)\n",
    "    cohen_score_24 = cohen_kappa_score(annotation_2,annotation_4)\n",
    "    cohen_score_average_2 = round((cohen_score_21 + cohen_score_23 + cohen_score_24)/3,3)\n",
    "    print(\"Average Cohen Kappa Score for annotation 110:\",(cohen_score_average_2))\n",
    "    return cohen_score_average_2"
   ]
  },
  {
   "cell_type": "code",
   "execution_count": 55,
   "metadata": {},
   "outputs": [
    {
     "name": "stdout",
     "output_type": "stream",
     "text": [
      "Average Cohen Kappa Score for annotation 110: 0.357\n"
     ]
    },
    {
     "data": {
      "text/plain": [
       "0.357"
      ]
     },
     "execution_count": 55,
     "metadata": {},
     "output_type": "execute_result"
    }
   ],
   "source": [
    "cohen_avg_2()"
   ]
  },
  {
   "cell_type": "markdown",
   "metadata": {},
   "source": [
    "### Cohen_kappa average score of annotation 111"
   ]
  },
  {
   "cell_type": "code",
   "execution_count": 56,
   "metadata": {},
   "outputs": [],
   "source": [
    "def cohen_avg_3():\n",
    "    cohen_score_31 = cohen_kappa_score(annotation_3,annotation_1)\n",
    "    cohen_score_32 = cohen_kappa_score(annotation_3,annotation_2)\n",
    "    cohen_score_34 = cohen_kappa_score(annotation_3,annotation_4)\n",
    "    cohen_score_average_3 = round((cohen_score_31 + cohen_score_32 + cohen_score_34)/3,3)\n",
    "    print(\"Average Cohen Kappa Score for annotation 111:\",(cohen_score_average_3))\n",
    "    return cohen_score_average_3"
   ]
  },
  {
   "cell_type": "code",
   "execution_count": 57,
   "metadata": {},
   "outputs": [
    {
     "name": "stdout",
     "output_type": "stream",
     "text": [
      "Average Cohen Kappa Score for annotation 111: 0.306\n"
     ]
    },
    {
     "data": {
      "text/plain": [
       "0.306"
      ]
     },
     "execution_count": 57,
     "metadata": {},
     "output_type": "execute_result"
    }
   ],
   "source": [
    "cohen_avg_3()"
   ]
  },
  {
   "cell_type": "markdown",
   "metadata": {},
   "source": [
    "### Cohen_kappa average score of annotation 112"
   ]
  },
  {
   "cell_type": "code",
   "execution_count": 58,
   "metadata": {},
   "outputs": [],
   "source": [
    "def cohen_avg_4():\n",
    "    cohen_score_41 = cohen_kappa_score(annotation_4,annotation_1)\n",
    "    cohen_score_42 = cohen_kappa_score(annotation_4,annotation_2)\n",
    "    cohen_score_43 = cohen_kappa_score(annotation_4,annotation_3)\n",
    "    cohen_score_average_4 = round((cohen_score_41 + cohen_score_42 + cohen_score_43)/3,3)\n",
    "    print(\"Average Cohen Kappa Score for annotation 112:\",(cohen_score_average_4))\n",
    "    return cohen_score_average_4"
   ]
  },
  {
   "cell_type": "code",
   "execution_count": 59,
   "metadata": {},
   "outputs": [
    {
     "name": "stdout",
     "output_type": "stream",
     "text": [
      "Average Cohen Kappa Score for annotation 112: 0.394\n"
     ]
    },
    {
     "data": {
      "text/plain": [
       "0.394"
      ]
     },
     "execution_count": 59,
     "metadata": {},
     "output_type": "execute_result"
    }
   ],
   "source": [
    "cohen_avg_4()"
   ]
  },
  {
   "cell_type": "markdown",
   "metadata": {},
   "source": [
    "##### If average cohen kappa score for any annotation is less than 0.2, we will drop it"
   ]
  },
  {
   "cell_type": "code",
   "execution_count": 60,
   "metadata": {},
   "outputs": [],
   "source": [
    "def drop_annotate():\n",
    "    average = [cohen_avg_1(), cohen_avg_2(),cohen_avg_3(),cohen_avg_4()]\n",
    "    columns_name = ['annotation_109','annotation_110','annotation_111','annotation_112']\n",
    "    #columns =[annotation_1,annotation_2,annotation_3,annotation_4]\n",
    "    for i in range(0,len(average)):\n",
    "        if average[i]< 0.2:\n",
    "            print(columns_name[i])\n",
    "            print(average[i])\n",
    "            df_3.drop(columns_name[i], axis=1, inplace = True)\n",
    "    print(df_3.head())"
   ]
  },
  {
   "cell_type": "code",
   "execution_count": 61,
   "metadata": {},
   "outputs": [
    {
     "name": "stdout",
     "output_type": "stream",
     "text": [
      "Average Cohen Kappa Score for annotation 109: 0.466\n",
      "Average Cohen Kappa Score for annotation 110: 0.357\n",
      "Average Cohen Kappa Score for annotation 111: 0.306\n",
      "Average Cohen Kappa Score for annotation 112: 0.394\n",
      "                                                text  annotation_112  \\\n",
      "0  Get CoVID Vaccines to Nepal ASAP and prevent a...           False   \n",
      "1                       Compensate Essential Workers           False   \n",
      "2  Amend Recent COVID-19 Restrictions for Persona...           False   \n",
      "3  Petition against COVID-19 & Quarantine Bill: S...            True   \n",
      "4  KCL Has Coronavirus Case: Petition to Have Onl...            True   \n",
      "\n",
      "   annotation_109  annotation_110  annotation_111  \n",
      "0           False           False           False  \n",
      "1           False           False            True  \n",
      "2            True            True           False  \n",
      "3           False           False           False  \n",
      "4            True            True           False  \n"
     ]
    }
   ],
   "source": [
    "drop_annotate()"
   ]
  },
  {
   "cell_type": "markdown",
   "metadata": {},
   "source": [
    "## change_topic_1_masking_and_distancing.csv"
   ]
  },
  {
   "cell_type": "code",
   "execution_count": 62,
   "metadata": {},
   "outputs": [
    {
     "data": {
      "text/html": [
       "<div>\n",
       "<style scoped>\n",
       "    .dataframe tbody tr th:only-of-type {\n",
       "        vertical-align: middle;\n",
       "    }\n",
       "\n",
       "    .dataframe tbody tr th {\n",
       "        vertical-align: top;\n",
       "    }\n",
       "\n",
       "    .dataframe thead th {\n",
       "        text-align: right;\n",
       "    }\n",
       "</style>\n",
       "<table border=\"1\" class=\"dataframe\">\n",
       "  <thead>\n",
       "    <tr style=\"text-align: right;\">\n",
       "      <th></th>\n",
       "      <th>text</th>\n",
       "      <th>annotation_112</th>\n",
       "      <th>annotation_109</th>\n",
       "      <th>annotation_110</th>\n",
       "      <th>annotation_111</th>\n",
       "    </tr>\n",
       "  </thead>\n",
       "  <tbody>\n",
       "    <tr>\n",
       "      <th>0</th>\n",
       "      <td>Get CoVID Vaccines to Nepal ASAP and prevent a...</td>\n",
       "      <td>False</td>\n",
       "      <td>False</td>\n",
       "      <td>False</td>\n",
       "      <td>False</td>\n",
       "    </tr>\n",
       "    <tr>\n",
       "      <th>1</th>\n",
       "      <td>Compensate Essential Workers</td>\n",
       "      <td>False</td>\n",
       "      <td>False</td>\n",
       "      <td>False</td>\n",
       "      <td>True</td>\n",
       "    </tr>\n",
       "    <tr>\n",
       "      <th>2</th>\n",
       "      <td>Amend Recent COVID-19 Restrictions for Persona...</td>\n",
       "      <td>False</td>\n",
       "      <td>False</td>\n",
       "      <td>False</td>\n",
       "      <td>True</td>\n",
       "    </tr>\n",
       "    <tr>\n",
       "      <th>3</th>\n",
       "      <td>Petition against COVID-19 &amp; Quarantine Bill: S...</td>\n",
       "      <td>False</td>\n",
       "      <td>False</td>\n",
       "      <td>False</td>\n",
       "      <td>False</td>\n",
       "    </tr>\n",
       "    <tr>\n",
       "      <th>4</th>\n",
       "      <td>KCL Has Coronavirus Case: Petition to Have Onl...</td>\n",
       "      <td>False</td>\n",
       "      <td>False</td>\n",
       "      <td>False</td>\n",
       "      <td>False</td>\n",
       "    </tr>\n",
       "  </tbody>\n",
       "</table>\n",
       "</div>"
      ],
      "text/plain": [
       "                                                text  annotation_112  \\\n",
       "0  Get CoVID Vaccines to Nepal ASAP and prevent a...           False   \n",
       "1                       Compensate Essential Workers           False   \n",
       "2  Amend Recent COVID-19 Restrictions for Persona...           False   \n",
       "3  Petition against COVID-19 & Quarantine Bill: S...           False   \n",
       "4  KCL Has Coronavirus Case: Petition to Have Onl...           False   \n",
       "\n",
       "   annotation_109  annotation_110  annotation_111  \n",
       "0           False           False           False  \n",
       "1           False           False            True  \n",
       "2           False           False            True  \n",
       "3           False           False           False  \n",
       "4           False           False           False  "
      ]
     },
     "execution_count": 62,
     "metadata": {},
     "output_type": "execute_result"
    }
   ],
   "source": [
    "df_4 = pd.read_csv(r'change.org_topic\\change.org_topic_1_masking_and_distancing.csv')\n",
    "df_4.head()"
   ]
  },
  {
   "cell_type": "code",
   "execution_count": 63,
   "metadata": {},
   "outputs": [
    {
     "name": "stdout",
     "output_type": "stream",
     "text": [
      "0\n",
      "0\n",
      "0\n",
      "0\n",
      "0\n"
     ]
    }
   ],
   "source": [
    "print(df_4['annotation_109'].isnull().sum())\n",
    "print(df_4['annotation_110'].isnull().sum())\n",
    "print(df_4['annotation_111'].isnull().sum())\n",
    "print(df_4['annotation_112'].isnull().sum())\n",
    "print(df_4['text'].isnull().sum())"
   ]
  },
  {
   "cell_type": "code",
   "execution_count": 64,
   "metadata": {},
   "outputs": [],
   "source": [
    "annotation_1= df_4['annotation_109']\n",
    "annotation_2= df_4['annotation_110']\n",
    "annotation_3= df_4['annotation_111']\n",
    "annotation_4= df_4['annotation_112']"
   ]
  },
  {
   "cell_type": "markdown",
   "metadata": {},
   "source": [
    "### Cohen_kappa average score of annotation 109"
   ]
  },
  {
   "cell_type": "code",
   "execution_count": 65,
   "metadata": {},
   "outputs": [],
   "source": [
    "def cohen_avg_1():\n",
    "    cohen_score_12 = cohen_kappa_score(annotation_1,annotation_2)\n",
    "    cohen_score_13 = cohen_kappa_score(annotation_1,annotation_3)\n",
    "    cohen_score_14 = cohen_kappa_score(annotation_1,annotation_4)\n",
    "    cohen_score_average_1 = round((cohen_score_12 + cohen_score_13 + cohen_score_14)/3,3)\n",
    "    print(\"Average Cohen Kappa Score for annotation 109:\",(cohen_score_average_1))\n",
    "    return cohen_score_average_1"
   ]
  },
  {
   "cell_type": "code",
   "execution_count": 66,
   "metadata": {},
   "outputs": [
    {
     "name": "stdout",
     "output_type": "stream",
     "text": [
      "Average Cohen Kappa Score for annotation 109: 0.25\n"
     ]
    },
    {
     "data": {
      "text/plain": [
       "0.25"
      ]
     },
     "execution_count": 66,
     "metadata": {},
     "output_type": "execute_result"
    }
   ],
   "source": [
    "cohen_avg_1()"
   ]
  },
  {
   "cell_type": "markdown",
   "metadata": {},
   "source": [
    "### Cohen_kappa average score of annotation 110"
   ]
  },
  {
   "cell_type": "code",
   "execution_count": 67,
   "metadata": {},
   "outputs": [],
   "source": [
    "def cohen_avg_2():\n",
    "    cohen_score_21 = cohen_kappa_score(annotation_2,annotation_1)\n",
    "    cohen_score_23 = cohen_kappa_score(annotation_2,annotation_3)\n",
    "    cohen_score_24 = cohen_kappa_score(annotation_2,annotation_4)\n",
    "    cohen_score_average_2 = round((cohen_score_21 + cohen_score_23 + cohen_score_24)/3,3)\n",
    "    print(\"Average Cohen Kappa Score for annotation 110:\",(cohen_score_average_2))\n",
    "    return cohen_score_average_2"
   ]
  },
  {
   "cell_type": "code",
   "execution_count": 68,
   "metadata": {},
   "outputs": [
    {
     "name": "stdout",
     "output_type": "stream",
     "text": [
      "Average Cohen Kappa Score for annotation 110: 0.297\n"
     ]
    },
    {
     "data": {
      "text/plain": [
       "0.297"
      ]
     },
     "execution_count": 68,
     "metadata": {},
     "output_type": "execute_result"
    }
   ],
   "source": [
    "cohen_avg_2()"
   ]
  },
  {
   "cell_type": "markdown",
   "metadata": {},
   "source": [
    "### Cohen_kappa average score of annotation 111"
   ]
  },
  {
   "cell_type": "code",
   "execution_count": 69,
   "metadata": {},
   "outputs": [],
   "source": [
    "def cohen_avg_3():\n",
    "    cohen_score_31 = cohen_kappa_score(annotation_3,annotation_1)\n",
    "    cohen_score_32 = cohen_kappa_score(annotation_3,annotation_2)\n",
    "    cohen_score_34 = cohen_kappa_score(annotation_3,annotation_4)\n",
    "    cohen_score_average_3 = round((cohen_score_31 + cohen_score_32 + cohen_score_34)/3,3)\n",
    "    print(\"Average Cohen Kappa Score for annotation 111:\",(cohen_score_average_3))\n",
    "    return cohen_score_average_3"
   ]
  },
  {
   "cell_type": "code",
   "execution_count": 70,
   "metadata": {},
   "outputs": [
    {
     "name": "stdout",
     "output_type": "stream",
     "text": [
      "Average Cohen Kappa Score for annotation 111: 0.213\n"
     ]
    },
    {
     "data": {
      "text/plain": [
       "0.213"
      ]
     },
     "execution_count": 70,
     "metadata": {},
     "output_type": "execute_result"
    }
   ],
   "source": [
    "cohen_avg_3()"
   ]
  },
  {
   "cell_type": "markdown",
   "metadata": {},
   "source": [
    "### Cohen_kappa average score of annotation 112"
   ]
  },
  {
   "cell_type": "code",
   "execution_count": 71,
   "metadata": {},
   "outputs": [],
   "source": [
    "def cohen_avg_4():\n",
    "    cohen_score_41 = cohen_kappa_score(annotation_4,annotation_1)\n",
    "    cohen_score_42 = cohen_kappa_score(annotation_4,annotation_2)\n",
    "    cohen_score_43 = cohen_kappa_score(annotation_4,annotation_3)\n",
    "    cohen_score_average_4 = round((cohen_score_41 + cohen_score_42 + cohen_score_43)/3,3)\n",
    "    print(\"Average Cohen Kappa Score for annotation 112:\",(cohen_score_average_4))\n",
    "    return cohen_score_average_4"
   ]
  },
  {
   "cell_type": "code",
   "execution_count": 72,
   "metadata": {},
   "outputs": [
    {
     "name": "stdout",
     "output_type": "stream",
     "text": [
      "Average Cohen Kappa Score for annotation 112: 0.327\n"
     ]
    },
    {
     "data": {
      "text/plain": [
       "0.327"
      ]
     },
     "execution_count": 72,
     "metadata": {},
     "output_type": "execute_result"
    }
   ],
   "source": [
    "cohen_avg_4()"
   ]
  },
  {
   "cell_type": "markdown",
   "metadata": {},
   "source": [
    "##### If average cohen kappa score for any annotation is less than 0.2, we will drop it"
   ]
  },
  {
   "cell_type": "code",
   "execution_count": 73,
   "metadata": {},
   "outputs": [],
   "source": [
    "def drop_annotate():\n",
    "    average = [cohen_avg_1(), cohen_avg_2(),cohen_avg_3(),cohen_avg_4()]\n",
    "    columns_name = ['annotation_109','annotation_110','annotation_111','annotation_112']\n",
    "    #columns =[annotation_1,annotation_2,annotation_3,annotation_4]\n",
    "    for i in range(0,len(average)):\n",
    "        if average[i]< 0.2:\n",
    "            print(columns_name[i])\n",
    "            print(average[i])\n",
    "            df_4.drop(columns_name[i], axis=1, inplace = True)\n",
    "    print(df_4.head())"
   ]
  },
  {
   "cell_type": "code",
   "execution_count": 74,
   "metadata": {},
   "outputs": [
    {
     "name": "stdout",
     "output_type": "stream",
     "text": [
      "Average Cohen Kappa Score for annotation 109: 0.25\n",
      "Average Cohen Kappa Score for annotation 110: 0.297\n",
      "Average Cohen Kappa Score for annotation 111: 0.213\n",
      "Average Cohen Kappa Score for annotation 112: 0.327\n",
      "                                                text  annotation_112  \\\n",
      "0  Get CoVID Vaccines to Nepal ASAP and prevent a...           False   \n",
      "1                       Compensate Essential Workers           False   \n",
      "2  Amend Recent COVID-19 Restrictions for Persona...           False   \n",
      "3  Petition against COVID-19 & Quarantine Bill: S...           False   \n",
      "4  KCL Has Coronavirus Case: Petition to Have Onl...           False   \n",
      "\n",
      "   annotation_109  annotation_110  annotation_111  \n",
      "0           False           False           False  \n",
      "1           False           False            True  \n",
      "2           False           False            True  \n",
      "3           False           False           False  \n",
      "4           False           False           False  \n"
     ]
    }
   ],
   "source": [
    "drop_annotate()"
   ]
  },
  {
   "cell_type": "code",
   "execution_count": null,
   "metadata": {},
   "outputs": [],
   "source": []
  },
  {
   "cell_type": "code",
   "execution_count": null,
   "metadata": {},
   "outputs": [],
   "source": []
  },
  {
   "cell_type": "markdown",
   "metadata": {},
   "source": [
    "## change.org_topic_1_vaccination.csv"
   ]
  },
  {
   "cell_type": "code",
   "execution_count": 75,
   "metadata": {},
   "outputs": [
    {
     "data": {
      "text/html": [
       "<div>\n",
       "<style scoped>\n",
       "    .dataframe tbody tr th:only-of-type {\n",
       "        vertical-align: middle;\n",
       "    }\n",
       "\n",
       "    .dataframe tbody tr th {\n",
       "        vertical-align: top;\n",
       "    }\n",
       "\n",
       "    .dataframe thead th {\n",
       "        text-align: right;\n",
       "    }\n",
       "</style>\n",
       "<table border=\"1\" class=\"dataframe\">\n",
       "  <thead>\n",
       "    <tr style=\"text-align: right;\">\n",
       "      <th></th>\n",
       "      <th>text</th>\n",
       "      <th>annotation_112</th>\n",
       "      <th>annotation_109</th>\n",
       "      <th>annotation_110</th>\n",
       "      <th>annotation_111</th>\n",
       "    </tr>\n",
       "  </thead>\n",
       "  <tbody>\n",
       "    <tr>\n",
       "      <th>0</th>\n",
       "      <td>Get CoVID Vaccines to Nepal ASAP and prevent a...</td>\n",
       "      <td>True</td>\n",
       "      <td>True</td>\n",
       "      <td>True</td>\n",
       "      <td>True</td>\n",
       "    </tr>\n",
       "    <tr>\n",
       "      <th>1</th>\n",
       "      <td>Compensate Essential Workers</td>\n",
       "      <td>False</td>\n",
       "      <td>False</td>\n",
       "      <td>True</td>\n",
       "      <td>False</td>\n",
       "    </tr>\n",
       "    <tr>\n",
       "      <th>2</th>\n",
       "      <td>Amend Recent COVID-19 Restrictions for Persona...</td>\n",
       "      <td>False</td>\n",
       "      <td>False</td>\n",
       "      <td>False</td>\n",
       "      <td>False</td>\n",
       "    </tr>\n",
       "    <tr>\n",
       "      <th>3</th>\n",
       "      <td>Petition against COVID-19 &amp; Quarantine Bill: S...</td>\n",
       "      <td>False</td>\n",
       "      <td>False</td>\n",
       "      <td>False</td>\n",
       "      <td>False</td>\n",
       "    </tr>\n",
       "    <tr>\n",
       "      <th>4</th>\n",
       "      <td>KCL Has Coronavirus Case: Petition to Have Onl...</td>\n",
       "      <td>False</td>\n",
       "      <td>False</td>\n",
       "      <td>False</td>\n",
       "      <td>False</td>\n",
       "    </tr>\n",
       "  </tbody>\n",
       "</table>\n",
       "</div>"
      ],
      "text/plain": [
       "                                                text  annotation_112  \\\n",
       "0  Get CoVID Vaccines to Nepal ASAP and prevent a...            True   \n",
       "1                       Compensate Essential Workers           False   \n",
       "2  Amend Recent COVID-19 Restrictions for Persona...           False   \n",
       "3  Petition against COVID-19 & Quarantine Bill: S...           False   \n",
       "4  KCL Has Coronavirus Case: Petition to Have Onl...           False   \n",
       "\n",
       "   annotation_109  annotation_110  annotation_111  \n",
       "0            True            True            True  \n",
       "1           False            True           False  \n",
       "2           False           False           False  \n",
       "3           False           False           False  \n",
       "4           False           False           False  "
      ]
     },
     "execution_count": 75,
     "metadata": {},
     "output_type": "execute_result"
    }
   ],
   "source": [
    "df_5 = pd.read_csv(r'change.org_topic\\change.org_topic_1_vaccination.csv')\n",
    "df_5.head()"
   ]
  },
  {
   "cell_type": "code",
   "execution_count": 76,
   "metadata": {},
   "outputs": [
    {
     "name": "stdout",
     "output_type": "stream",
     "text": [
      "0\n",
      "0\n",
      "0\n",
      "0\n",
      "0\n"
     ]
    }
   ],
   "source": [
    "print(df_5['annotation_109'].isnull().sum())\n",
    "print(df_5['annotation_110'].isnull().sum())\n",
    "print(df_5['annotation_111'].isnull().sum())\n",
    "print(df_5['annotation_112'].isnull().sum())\n",
    "print(df_5['text'].isnull().sum())"
   ]
  },
  {
   "cell_type": "code",
   "execution_count": 77,
   "metadata": {},
   "outputs": [],
   "source": [
    "annotation_1= df_5['annotation_109']\n",
    "annotation_2= df_5['annotation_110']\n",
    "annotation_3= df_5['annotation_111']\n",
    "annotation_4= df_5['annotation_112']"
   ]
  },
  {
   "cell_type": "markdown",
   "metadata": {},
   "source": [
    "### Cohen_kappa average score of annotation 109"
   ]
  },
  {
   "cell_type": "code",
   "execution_count": 78,
   "metadata": {},
   "outputs": [],
   "source": [
    "def cohen_avg_1():\n",
    "    cohen_score_12 = cohen_kappa_score(annotation_1,annotation_2)\n",
    "    cohen_score_13 = cohen_kappa_score(annotation_1,annotation_3)\n",
    "    cohen_score_14 = cohen_kappa_score(annotation_1,annotation_4)\n",
    "    cohen_score_average_1 = round((cohen_score_12 + cohen_score_13 + cohen_score_14)/3,3)\n",
    "    print(\"Average Cohen Kappa Score for annotation 109:\",(cohen_score_average_1))\n",
    "    return cohen_score_average_1"
   ]
  },
  {
   "cell_type": "code",
   "execution_count": 79,
   "metadata": {},
   "outputs": [
    {
     "name": "stdout",
     "output_type": "stream",
     "text": [
      "Average Cohen Kappa Score for annotation 109: 0.411\n"
     ]
    },
    {
     "data": {
      "text/plain": [
       "0.411"
      ]
     },
     "execution_count": 79,
     "metadata": {},
     "output_type": "execute_result"
    }
   ],
   "source": [
    "cohen_avg_1()"
   ]
  },
  {
   "cell_type": "markdown",
   "metadata": {},
   "source": [
    "### Cohen_kappa average score of annotation 110"
   ]
  },
  {
   "cell_type": "code",
   "execution_count": 80,
   "metadata": {},
   "outputs": [],
   "source": [
    "def cohen_avg_2():\n",
    "    cohen_score_21 = cohen_kappa_score(annotation_2,annotation_1)\n",
    "    cohen_score_23 = cohen_kappa_score(annotation_2,annotation_3)\n",
    "    cohen_score_24 = cohen_kappa_score(annotation_2,annotation_4)\n",
    "    cohen_score_average_2 = round((cohen_score_21 + cohen_score_23 + cohen_score_24)/3,3)\n",
    "    print(\"Average Cohen Kappa Score for annotation 110:\",(cohen_score_average_2))\n",
    "    return cohen_score_average_2"
   ]
  },
  {
   "cell_type": "code",
   "execution_count": 81,
   "metadata": {},
   "outputs": [
    {
     "name": "stdout",
     "output_type": "stream",
     "text": [
      "Average Cohen Kappa Score for annotation 110: 0.336\n"
     ]
    },
    {
     "data": {
      "text/plain": [
       "0.336"
      ]
     },
     "execution_count": 81,
     "metadata": {},
     "output_type": "execute_result"
    }
   ],
   "source": [
    "cohen_avg_2()"
   ]
  },
  {
   "cell_type": "markdown",
   "metadata": {},
   "source": [
    "### Cohen_kappa average score of annotation 111"
   ]
  },
  {
   "cell_type": "code",
   "execution_count": 82,
   "metadata": {},
   "outputs": [],
   "source": [
    "def cohen_avg_3():\n",
    "    cohen_score_31 = cohen_kappa_score(annotation_3,annotation_1)\n",
    "    cohen_score_32 = cohen_kappa_score(annotation_3,annotation_2)\n",
    "    cohen_score_34 = cohen_kappa_score(annotation_3,annotation_4)\n",
    "    cohen_score_average_3 = round((cohen_score_31 + cohen_score_32 + cohen_score_34)/3,3)\n",
    "    print(\"Average Cohen Kappa Score for annotation 111:\",(cohen_score_average_3))\n",
    "    return cohen_score_average_3"
   ]
  },
  {
   "cell_type": "code",
   "execution_count": 83,
   "metadata": {},
   "outputs": [
    {
     "name": "stdout",
     "output_type": "stream",
     "text": [
      "Average Cohen Kappa Score for annotation 111: 0.157\n"
     ]
    },
    {
     "data": {
      "text/plain": [
       "0.157"
      ]
     },
     "execution_count": 83,
     "metadata": {},
     "output_type": "execute_result"
    }
   ],
   "source": [
    "cohen_avg_3()"
   ]
  },
  {
   "cell_type": "markdown",
   "metadata": {},
   "source": [
    "### Cohen_kappa average score of annotation 112"
   ]
  },
  {
   "cell_type": "code",
   "execution_count": 84,
   "metadata": {},
   "outputs": [],
   "source": [
    "def cohen_avg_4():\n",
    "    cohen_score_41 = cohen_kappa_score(annotation_4,annotation_1)\n",
    "    cohen_score_42 = cohen_kappa_score(annotation_4,annotation_2)\n",
    "    cohen_score_43 = cohen_kappa_score(annotation_4,annotation_3)\n",
    "    cohen_score_average_4 = round((cohen_score_41 + cohen_score_42 + cohen_score_43)/3,3)\n",
    "    print(\"Average Cohen Kappa Score for annotation 112:\",(cohen_score_average_4))\n",
    "    return cohen_score_average_4"
   ]
  },
  {
   "cell_type": "code",
   "execution_count": 85,
   "metadata": {},
   "outputs": [
    {
     "name": "stdout",
     "output_type": "stream",
     "text": [
      "Average Cohen Kappa Score for annotation 112: 0.407\n"
     ]
    },
    {
     "data": {
      "text/plain": [
       "0.407"
      ]
     },
     "execution_count": 85,
     "metadata": {},
     "output_type": "execute_result"
    }
   ],
   "source": [
    "cohen_avg_4()"
   ]
  },
  {
   "cell_type": "markdown",
   "metadata": {},
   "source": [
    "##### If average cohen kappa score for any annotation is less than 0.2, we will drop it"
   ]
  },
  {
   "cell_type": "code",
   "execution_count": 86,
   "metadata": {},
   "outputs": [],
   "source": [
    "def drop_annotate():\n",
    "    average = [cohen_avg_1(), cohen_avg_2(),cohen_avg_3(),cohen_avg_4()]\n",
    "    columns_name = ['annotation_109','annotation_110','annotation_111','annotation_112']\n",
    "    #columns =[annotation_1,annotation_2,annotation_3,annotation_4]\n",
    "    for i in range(0,len(average)):\n",
    "        if average[i]< 0.2:\n",
    "            print(columns_name[i])\n",
    "            print(average[i])\n",
    "            df_5.drop(columns_name[i], axis=1, inplace = True)\n",
    "    print(df_5.head())"
   ]
  },
  {
   "cell_type": "code",
   "execution_count": 87,
   "metadata": {},
   "outputs": [
    {
     "name": "stdout",
     "output_type": "stream",
     "text": [
      "Average Cohen Kappa Score for annotation 109: 0.411\n",
      "Average Cohen Kappa Score for annotation 110: 0.336\n",
      "Average Cohen Kappa Score for annotation 111: 0.157\n",
      "Average Cohen Kappa Score for annotation 112: 0.407\n",
      "annotation_111\n",
      "0.157\n",
      "                                                text  annotation_112  \\\n",
      "0  Get CoVID Vaccines to Nepal ASAP and prevent a...            True   \n",
      "1                       Compensate Essential Workers           False   \n",
      "2  Amend Recent COVID-19 Restrictions for Persona...           False   \n",
      "3  Petition against COVID-19 & Quarantine Bill: S...           False   \n",
      "4  KCL Has Coronavirus Case: Petition to Have Onl...           False   \n",
      "\n",
      "   annotation_109  annotation_110  \n",
      "0            True            True  \n",
      "1           False            True  \n",
      "2           False           False  \n",
      "3           False           False  \n",
      "4           False           False  \n"
     ]
    }
   ],
   "source": [
    "drop_annotate()"
   ]
  },
  {
   "cell_type": "code",
   "execution_count": null,
   "metadata": {},
   "outputs": [],
   "source": []
  },
  {
   "cell_type": "markdown",
   "metadata": {},
   "source": [
    "## change.org_topic_2_lockdowns.csv"
   ]
  },
  {
   "cell_type": "code",
   "execution_count": 88,
   "metadata": {},
   "outputs": [
    {
     "data": {
      "text/html": [
       "<div>\n",
       "<style scoped>\n",
       "    .dataframe tbody tr th:only-of-type {\n",
       "        vertical-align: middle;\n",
       "    }\n",
       "\n",
       "    .dataframe tbody tr th {\n",
       "        vertical-align: top;\n",
       "    }\n",
       "\n",
       "    .dataframe thead th {\n",
       "        text-align: right;\n",
       "    }\n",
       "</style>\n",
       "<table border=\"1\" class=\"dataframe\">\n",
       "  <thead>\n",
       "    <tr style=\"text-align: right;\">\n",
       "      <th></th>\n",
       "      <th>text</th>\n",
       "      <th>annotation_73</th>\n",
       "      <th>annotation_74</th>\n",
       "      <th>annotation_75</th>\n",
       "      <th>annotation_76</th>\n",
       "    </tr>\n",
       "  </thead>\n",
       "  <tbody>\n",
       "    <tr>\n",
       "      <th>0</th>\n",
       "      <td>COVID-19 Awards</td>\n",
       "      <td>False</td>\n",
       "      <td>False</td>\n",
       "      <td>False</td>\n",
       "      <td>False</td>\n",
       "    </tr>\n",
       "    <tr>\n",
       "      <th>1</th>\n",
       "      <td>Cancel the 2020-2021 school year SOLs</td>\n",
       "      <td>True</td>\n",
       "      <td>True</td>\n",
       "      <td>False</td>\n",
       "      <td>True</td>\n",
       "    </tr>\n",
       "    <tr>\n",
       "      <th>2</th>\n",
       "      <td>..</td>\n",
       "      <td>False</td>\n",
       "      <td>False</td>\n",
       "      <td>False</td>\n",
       "      <td>False</td>\n",
       "    </tr>\n",
       "    <tr>\n",
       "      <th>3</th>\n",
       "      <td>Protect our nurses!</td>\n",
       "      <td>False</td>\n",
       "      <td>False</td>\n",
       "      <td>False</td>\n",
       "      <td>False</td>\n",
       "    </tr>\n",
       "    <tr>\n",
       "      <th>4</th>\n",
       "      <td>SENSELESS IMPRISONMENT FOR MY MOM.. FIRST TIME...</td>\n",
       "      <td>False</td>\n",
       "      <td>False</td>\n",
       "      <td>False</td>\n",
       "      <td>True</td>\n",
       "    </tr>\n",
       "  </tbody>\n",
       "</table>\n",
       "</div>"
      ],
      "text/plain": [
       "                                                text  annotation_73  \\\n",
       "0                                    COVID-19 Awards          False   \n",
       "1              Cancel the 2020-2021 school year SOLs           True   \n",
       "2                                                 ..          False   \n",
       "3                                Protect our nurses!          False   \n",
       "4  SENSELESS IMPRISONMENT FOR MY MOM.. FIRST TIME...          False   \n",
       "\n",
       "   annotation_74  annotation_75  annotation_76  \n",
       "0          False          False          False  \n",
       "1           True          False           True  \n",
       "2          False          False          False  \n",
       "3          False          False          False  \n",
       "4          False          False           True  "
      ]
     },
     "execution_count": 88,
     "metadata": {},
     "output_type": "execute_result"
    }
   ],
   "source": [
    "df_6 = pd.read_csv(r'change.org_topic\\change.org_topic_2_lockdowns.csv')\n",
    "df_6.head()"
   ]
  },
  {
   "cell_type": "code",
   "execution_count": 89,
   "metadata": {},
   "outputs": [
    {
     "name": "stdout",
     "output_type": "stream",
     "text": [
      "0\n",
      "0\n",
      "0\n",
      "0\n",
      "0\n"
     ]
    }
   ],
   "source": [
    "print(df_6['annotation_73'].isnull().sum())\n",
    "print(df_6['annotation_74'].isnull().sum())\n",
    "print(df_6['annotation_75'].isnull().sum())\n",
    "print(df_6['annotation_76'].isnull().sum())\n",
    "print(df_6['text'].isnull().sum())"
   ]
  },
  {
   "cell_type": "code",
   "execution_count": 90,
   "metadata": {},
   "outputs": [],
   "source": [
    "annotation_1= df_6['annotation_73']\n",
    "annotation_2= df_6['annotation_74']\n",
    "annotation_3= df_6['annotation_75']\n",
    "annotation_4= df_6['annotation_76']"
   ]
  },
  {
   "cell_type": "markdown",
   "metadata": {},
   "source": [
    "### Cohen_kappa average score of annotation 73"
   ]
  },
  {
   "cell_type": "code",
   "execution_count": 91,
   "metadata": {},
   "outputs": [],
   "source": [
    "def cohen_avg_1():\n",
    "    cohen_score_12 = cohen_kappa_score(annotation_1,annotation_2)\n",
    "    cohen_score_13 = cohen_kappa_score(annotation_1,annotation_3)\n",
    "    cohen_score_14 = cohen_kappa_score(annotation_1,annotation_4)\n",
    "    cohen_score_average_1 = round((cohen_score_12 + cohen_score_13 + cohen_score_14)/3,3)\n",
    "    print(\"Average Cohen Kappa Score for annotation 73:\",(cohen_score_average_1))\n",
    "    return cohen_score_average_1"
   ]
  },
  {
   "cell_type": "code",
   "execution_count": 92,
   "metadata": {},
   "outputs": [
    {
     "name": "stdout",
     "output_type": "stream",
     "text": [
      "Average Cohen Kappa Score for annotation 73: 0.623\n"
     ]
    },
    {
     "data": {
      "text/plain": [
       "0.623"
      ]
     },
     "execution_count": 92,
     "metadata": {},
     "output_type": "execute_result"
    }
   ],
   "source": [
    "cohen_avg_1()"
   ]
  },
  {
   "cell_type": "markdown",
   "metadata": {},
   "source": [
    "### Cohen_kappa average score of annotation 74"
   ]
  },
  {
   "cell_type": "code",
   "execution_count": 93,
   "metadata": {},
   "outputs": [],
   "source": [
    "def cohen_avg_2():\n",
    "    cohen_score_21 = cohen_kappa_score(annotation_2,annotation_1)\n",
    "    cohen_score_23 = cohen_kappa_score(annotation_2,annotation_3)\n",
    "    cohen_score_24 = cohen_kappa_score(annotation_2,annotation_4)\n",
    "    cohen_score_average_2 = round((cohen_score_21 + cohen_score_23 + cohen_score_24)/3,3)\n",
    "    print(\"Average Cohen Kappa Score for annotation 74:\",(cohen_score_average_2))\n",
    "    return cohen_score_average_2"
   ]
  },
  {
   "cell_type": "code",
   "execution_count": 94,
   "metadata": {},
   "outputs": [
    {
     "name": "stdout",
     "output_type": "stream",
     "text": [
      "Average Cohen Kappa Score for annotation 74: 0.643\n"
     ]
    },
    {
     "data": {
      "text/plain": [
       "0.643"
      ]
     },
     "execution_count": 94,
     "metadata": {},
     "output_type": "execute_result"
    }
   ],
   "source": [
    "cohen_avg_2()"
   ]
  },
  {
   "cell_type": "markdown",
   "metadata": {},
   "source": [
    "### Cohen_kappa average score of annotation 75"
   ]
  },
  {
   "cell_type": "code",
   "execution_count": 95,
   "metadata": {},
   "outputs": [],
   "source": [
    "def cohen_avg_3():\n",
    "    cohen_score_31 = cohen_kappa_score(annotation_3,annotation_1)\n",
    "    cohen_score_32 = cohen_kappa_score(annotation_3,annotation_2)\n",
    "    cohen_score_34 = cohen_kappa_score(annotation_3,annotation_4)\n",
    "    cohen_score_average_3 = round((cohen_score_31 + cohen_score_32 + cohen_score_34)/3,3)\n",
    "    print(\"Average Cohen Kappa Score for annotation 75:\",(cohen_score_average_3))\n",
    "    return cohen_score_average_3"
   ]
  },
  {
   "cell_type": "code",
   "execution_count": 96,
   "metadata": {},
   "outputs": [
    {
     "name": "stdout",
     "output_type": "stream",
     "text": [
      "Average Cohen Kappa Score for annotation 75: 0.479\n"
     ]
    },
    {
     "data": {
      "text/plain": [
       "0.479"
      ]
     },
     "execution_count": 96,
     "metadata": {},
     "output_type": "execute_result"
    }
   ],
   "source": [
    "cohen_avg_3()"
   ]
  },
  {
   "cell_type": "markdown",
   "metadata": {},
   "source": [
    "### Cohen_kappa average score of annotation 76"
   ]
  },
  {
   "cell_type": "code",
   "execution_count": 97,
   "metadata": {},
   "outputs": [],
   "source": [
    "def cohen_avg_4():\n",
    "    cohen_score_41 = cohen_kappa_score(annotation_4,annotation_1)\n",
    "    cohen_score_42 = cohen_kappa_score(annotation_4,annotation_2)\n",
    "    cohen_score_43 = cohen_kappa_score(annotation_4,annotation_3)\n",
    "    cohen_score_average_4 = round((cohen_score_41 + cohen_score_42 + cohen_score_43)/3,3)\n",
    "    print(\"Average Cohen Kappa Score for annotation 76:\",(cohen_score_average_4))\n",
    "    return cohen_score_average_4"
   ]
  },
  {
   "cell_type": "code",
   "execution_count": 98,
   "metadata": {},
   "outputs": [
    {
     "name": "stdout",
     "output_type": "stream",
     "text": [
      "Average Cohen Kappa Score for annotation 76: 0.648\n"
     ]
    },
    {
     "data": {
      "text/plain": [
       "0.648"
      ]
     },
     "execution_count": 98,
     "metadata": {},
     "output_type": "execute_result"
    }
   ],
   "source": [
    "cohen_avg_4()"
   ]
  },
  {
   "cell_type": "markdown",
   "metadata": {},
   "source": [
    "##### If average cohen kappa score for any annotation is less than 0.2, we will drop it"
   ]
  },
  {
   "cell_type": "code",
   "execution_count": 99,
   "metadata": {},
   "outputs": [],
   "source": [
    "def drop_annotate():\n",
    "    average = [cohen_avg_1(), cohen_avg_2(),cohen_avg_3(),cohen_avg_4()]\n",
    "    columns_name = ['annotation_73','annotation_74','annotation_75','annotation_76']\n",
    "    #columns =[annotation_1,annotation_2,annotation_3,annotation_4]\n",
    "    for i in range(0,len(average)):\n",
    "        if average[i]< 0.2:\n",
    "            print(columns_name[i])\n",
    "            print(average[i])\n",
    "            df_6.drop(columns_name[i], axis=1, inplace = True)\n",
    "    print(df_6.head())"
   ]
  },
  {
   "cell_type": "code",
   "execution_count": 100,
   "metadata": {},
   "outputs": [
    {
     "name": "stdout",
     "output_type": "stream",
     "text": [
      "Average Cohen Kappa Score for annotation 73: 0.623\n",
      "Average Cohen Kappa Score for annotation 74: 0.643\n",
      "Average Cohen Kappa Score for annotation 75: 0.479\n",
      "Average Cohen Kappa Score for annotation 76: 0.648\n",
      "                                                text  annotation_73  \\\n",
      "0                                    COVID-19 Awards          False   \n",
      "1              Cancel the 2020-2021 school year SOLs           True   \n",
      "2                                                 ..          False   \n",
      "3                                Protect our nurses!          False   \n",
      "4  SENSELESS IMPRISONMENT FOR MY MOM.. FIRST TIME...          False   \n",
      "\n",
      "   annotation_74  annotation_75  annotation_76  \n",
      "0          False          False          False  \n",
      "1           True          False           True  \n",
      "2          False          False          False  \n",
      "3          False          False          False  \n",
      "4          False          False           True  \n"
     ]
    }
   ],
   "source": [
    "drop_annotate()"
   ]
  },
  {
   "cell_type": "code",
   "execution_count": null,
   "metadata": {},
   "outputs": [],
   "source": []
  },
  {
   "cell_type": "code",
   "execution_count": null,
   "metadata": {},
   "outputs": [],
   "source": []
  },
  {
   "cell_type": "markdown",
   "metadata": {},
   "source": [
    "## change.org_topic_2_masking_and_distancing.csv"
   ]
  },
  {
   "cell_type": "code",
   "execution_count": 101,
   "metadata": {},
   "outputs": [
    {
     "data": {
      "text/html": [
       "<div>\n",
       "<style scoped>\n",
       "    .dataframe tbody tr th:only-of-type {\n",
       "        vertical-align: middle;\n",
       "    }\n",
       "\n",
       "    .dataframe tbody tr th {\n",
       "        vertical-align: top;\n",
       "    }\n",
       "\n",
       "    .dataframe thead th {\n",
       "        text-align: right;\n",
       "    }\n",
       "</style>\n",
       "<table border=\"1\" class=\"dataframe\">\n",
       "  <thead>\n",
       "    <tr style=\"text-align: right;\">\n",
       "      <th></th>\n",
       "      <th>text</th>\n",
       "      <th>annotation_73</th>\n",
       "      <th>annotation_74</th>\n",
       "      <th>annotation_75</th>\n",
       "      <th>annotation_76</th>\n",
       "    </tr>\n",
       "  </thead>\n",
       "  <tbody>\n",
       "    <tr>\n",
       "      <th>0</th>\n",
       "      <td>COVID-19 Awards</td>\n",
       "      <td>False</td>\n",
       "      <td>False</td>\n",
       "      <td>False</td>\n",
       "      <td>False</td>\n",
       "    </tr>\n",
       "    <tr>\n",
       "      <th>1</th>\n",
       "      <td>Cancel the 2020-2021 school year SOLs</td>\n",
       "      <td>False</td>\n",
       "      <td>False</td>\n",
       "      <td>False</td>\n",
       "      <td>False</td>\n",
       "    </tr>\n",
       "    <tr>\n",
       "      <th>2</th>\n",
       "      <td>..</td>\n",
       "      <td>False</td>\n",
       "      <td>False</td>\n",
       "      <td>False</td>\n",
       "      <td>False</td>\n",
       "    </tr>\n",
       "    <tr>\n",
       "      <th>3</th>\n",
       "      <td>Protect our nurses!</td>\n",
       "      <td>False</td>\n",
       "      <td>False</td>\n",
       "      <td>False</td>\n",
       "      <td>False</td>\n",
       "    </tr>\n",
       "    <tr>\n",
       "      <th>4</th>\n",
       "      <td>SENSELESS IMPRISONMENT FOR MY MOM.. FIRST TIME...</td>\n",
       "      <td>False</td>\n",
       "      <td>False</td>\n",
       "      <td>False</td>\n",
       "      <td>False</td>\n",
       "    </tr>\n",
       "  </tbody>\n",
       "</table>\n",
       "</div>"
      ],
      "text/plain": [
       "                                                text  annotation_73  \\\n",
       "0                                    COVID-19 Awards          False   \n",
       "1              Cancel the 2020-2021 school year SOLs          False   \n",
       "2                                                 ..          False   \n",
       "3                                Protect our nurses!          False   \n",
       "4  SENSELESS IMPRISONMENT FOR MY MOM.. FIRST TIME...          False   \n",
       "\n",
       "   annotation_74  annotation_75  annotation_76  \n",
       "0          False          False          False  \n",
       "1          False          False          False  \n",
       "2          False          False          False  \n",
       "3          False          False          False  \n",
       "4          False          False          False  "
      ]
     },
     "execution_count": 101,
     "metadata": {},
     "output_type": "execute_result"
    }
   ],
   "source": [
    "df_7 = pd.read_csv(r'change.org_topic\\change.org_topic_2_masking_and_distancing.csv')\n",
    "df_7.head()"
   ]
  },
  {
   "cell_type": "code",
   "execution_count": 102,
   "metadata": {},
   "outputs": [
    {
     "name": "stdout",
     "output_type": "stream",
     "text": [
      "0\n",
      "0\n",
      "0\n",
      "0\n",
      "0\n"
     ]
    }
   ],
   "source": [
    "print(df_7['annotation_73'].isnull().sum())\n",
    "print(df_7['annotation_74'].isnull().sum())\n",
    "print(df_7['annotation_75'].isnull().sum())\n",
    "print(df_7['annotation_76'].isnull().sum())\n",
    "print(df_7['text'].isnull().sum())"
   ]
  },
  {
   "cell_type": "code",
   "execution_count": 103,
   "metadata": {},
   "outputs": [],
   "source": [
    "annotation_1= df_7['annotation_73']\n",
    "annotation_2= df_7['annotation_74']\n",
    "annotation_3= df_7['annotation_75']\n",
    "annotation_4= df_7['annotation_76']"
   ]
  },
  {
   "cell_type": "markdown",
   "metadata": {},
   "source": [
    "### Cohen_kappa average score of annotation 73"
   ]
  },
  {
   "cell_type": "code",
   "execution_count": 104,
   "metadata": {},
   "outputs": [],
   "source": [
    "def cohen_avg_1():\n",
    "    cohen_score_12 = cohen_kappa_score(annotation_1,annotation_2)\n",
    "    cohen_score_13 = cohen_kappa_score(annotation_1,annotation_3)\n",
    "    cohen_score_14 = cohen_kappa_score(annotation_1,annotation_4)\n",
    "    cohen_score_average_1 = round((cohen_score_12 + cohen_score_13 + cohen_score_14)/3,3)\n",
    "    print(\"Average Cohen Kappa Score for annotation 73:\",(cohen_score_average_1))\n",
    "    return cohen_score_average_1"
   ]
  },
  {
   "cell_type": "code",
   "execution_count": 105,
   "metadata": {},
   "outputs": [
    {
     "name": "stdout",
     "output_type": "stream",
     "text": [
      "Average Cohen Kappa Score for annotation 73: 0.204\n"
     ]
    },
    {
     "data": {
      "text/plain": [
       "0.204"
      ]
     },
     "execution_count": 105,
     "metadata": {},
     "output_type": "execute_result"
    }
   ],
   "source": [
    "cohen_avg_1()"
   ]
  },
  {
   "cell_type": "markdown",
   "metadata": {},
   "source": [
    "### Cohen_kappa average score of annotation 74"
   ]
  },
  {
   "cell_type": "code",
   "execution_count": 106,
   "metadata": {},
   "outputs": [],
   "source": [
    "def cohen_avg_2():\n",
    "    cohen_score_21 = cohen_kappa_score(annotation_2,annotation_1)\n",
    "    cohen_score_23 = cohen_kappa_score(annotation_2,annotation_3)\n",
    "    cohen_score_24 = cohen_kappa_score(annotation_2,annotation_4)\n",
    "    cohen_score_average_2 = round((cohen_score_21 + cohen_score_23 + cohen_score_24)/3,3)\n",
    "    print(\"Average Cohen Kappa Score for annotation 74:\",(cohen_score_average_2))\n",
    "    return cohen_score_average_2"
   ]
  },
  {
   "cell_type": "code",
   "execution_count": 107,
   "metadata": {},
   "outputs": [
    {
     "name": "stdout",
     "output_type": "stream",
     "text": [
      "Average Cohen Kappa Score for annotation 74: 0.221\n"
     ]
    },
    {
     "data": {
      "text/plain": [
       "0.221"
      ]
     },
     "execution_count": 107,
     "metadata": {},
     "output_type": "execute_result"
    }
   ],
   "source": [
    "cohen_avg_2()"
   ]
  },
  {
   "cell_type": "markdown",
   "metadata": {},
   "source": [
    "### Cohen_kappa average score of annotation 75"
   ]
  },
  {
   "cell_type": "code",
   "execution_count": 108,
   "metadata": {},
   "outputs": [],
   "source": [
    "def cohen_avg_3():\n",
    "    cohen_score_31 = cohen_kappa_score(annotation_3,annotation_1)\n",
    "    cohen_score_32 = cohen_kappa_score(annotation_3,annotation_2)\n",
    "    cohen_score_34 = cohen_kappa_score(annotation_3,annotation_4)\n",
    "    cohen_score_average_3 = round((cohen_score_31 + cohen_score_32 + cohen_score_34)/3,3)\n",
    "    print(\"Average Cohen Kappa Score for annotation 75:\",(cohen_score_average_3))\n",
    "    return cohen_score_average_3"
   ]
  },
  {
   "cell_type": "code",
   "execution_count": 109,
   "metadata": {},
   "outputs": [
    {
     "name": "stdout",
     "output_type": "stream",
     "text": [
      "Average Cohen Kappa Score for annotation 75: 0.0\n"
     ]
    },
    {
     "data": {
      "text/plain": [
       "0.0"
      ]
     },
     "execution_count": 109,
     "metadata": {},
     "output_type": "execute_result"
    }
   ],
   "source": [
    "cohen_avg_3()"
   ]
  },
  {
   "cell_type": "markdown",
   "metadata": {},
   "source": [
    "### Cohen_kappa average score of annotation 76"
   ]
  },
  {
   "cell_type": "code",
   "execution_count": 110,
   "metadata": {},
   "outputs": [],
   "source": [
    "def cohen_avg_4():\n",
    "    cohen_score_41 = cohen_kappa_score(annotation_4,annotation_1)\n",
    "    cohen_score_42 = cohen_kappa_score(annotation_4,annotation_2)\n",
    "    cohen_score_43 = cohen_kappa_score(annotation_4,annotation_3)\n",
    "    cohen_score_average_4 = round((cohen_score_41 + cohen_score_42 + cohen_score_43)/3,3)\n",
    "    print(\"Average Cohen Kappa Score for annotation 76:\",(cohen_score_average_4))\n",
    "    return cohen_score_average_4"
   ]
  },
  {
   "cell_type": "code",
   "execution_count": 111,
   "metadata": {},
   "outputs": [
    {
     "name": "stdout",
     "output_type": "stream",
     "text": [
      "Average Cohen Kappa Score for annotation 76: 0.198\n"
     ]
    },
    {
     "data": {
      "text/plain": [
       "0.198"
      ]
     },
     "execution_count": 111,
     "metadata": {},
     "output_type": "execute_result"
    }
   ],
   "source": [
    "cohen_avg_4()"
   ]
  },
  {
   "cell_type": "markdown",
   "metadata": {},
   "source": [
    "##### If average cohen kappa score for any annotation is less than 0.2, we will drop it"
   ]
  },
  {
   "cell_type": "code",
   "execution_count": 112,
   "metadata": {},
   "outputs": [],
   "source": [
    "def drop_annotate():\n",
    "    average = [cohen_avg_1(), cohen_avg_2(),cohen_avg_3(),cohen_avg_4()]\n",
    "    columns_name = ['annotation_73','annotation_74','annotation_75','annotation_76']\n",
    "    #columns =[annotation_1,annotation_2,annotation_3,annotation_4]\n",
    "    for i in range(0,len(average)):\n",
    "        if average[i]< 0.2:\n",
    "            print(\"\\n\")\n",
    "            print(columns_name[i])\n",
    "            print(average[i])\n",
    "            df_7.drop(columns_name[i], axis=1, inplace = True)\n",
    "    print(df_7.head())"
   ]
  },
  {
   "cell_type": "code",
   "execution_count": 113,
   "metadata": {},
   "outputs": [
    {
     "name": "stdout",
     "output_type": "stream",
     "text": [
      "Average Cohen Kappa Score for annotation 73: 0.204\n",
      "Average Cohen Kappa Score for annotation 74: 0.221\n",
      "Average Cohen Kappa Score for annotation 75: 0.0\n",
      "Average Cohen Kappa Score for annotation 76: 0.198\n",
      "\n",
      "\n",
      "annotation_75\n",
      "0.0\n",
      "\n",
      "\n",
      "annotation_76\n",
      "0.198\n",
      "                                                text  annotation_73  \\\n",
      "0                                    COVID-19 Awards          False   \n",
      "1              Cancel the 2020-2021 school year SOLs          False   \n",
      "2                                                 ..          False   \n",
      "3                                Protect our nurses!          False   \n",
      "4  SENSELESS IMPRISONMENT FOR MY MOM.. FIRST TIME...          False   \n",
      "\n",
      "   annotation_74  \n",
      "0          False  \n",
      "1          False  \n",
      "2          False  \n",
      "3          False  \n",
      "4          False  \n"
     ]
    }
   ],
   "source": [
    "drop_annotate()"
   ]
  },
  {
   "cell_type": "code",
   "execution_count": null,
   "metadata": {},
   "outputs": [],
   "source": []
  },
  {
   "cell_type": "markdown",
   "metadata": {},
   "source": [
    "## change.org_topic_2_vaccination.csv"
   ]
  },
  {
   "cell_type": "code",
   "execution_count": 114,
   "metadata": {},
   "outputs": [
    {
     "data": {
      "text/html": [
       "<div>\n",
       "<style scoped>\n",
       "    .dataframe tbody tr th:only-of-type {\n",
       "        vertical-align: middle;\n",
       "    }\n",
       "\n",
       "    .dataframe tbody tr th {\n",
       "        vertical-align: top;\n",
       "    }\n",
       "\n",
       "    .dataframe thead th {\n",
       "        text-align: right;\n",
       "    }\n",
       "</style>\n",
       "<table border=\"1\" class=\"dataframe\">\n",
       "  <thead>\n",
       "    <tr style=\"text-align: right;\">\n",
       "      <th></th>\n",
       "      <th>text</th>\n",
       "      <th>annotation_73</th>\n",
       "      <th>annotation_74</th>\n",
       "      <th>annotation_75</th>\n",
       "      <th>annotation_76</th>\n",
       "    </tr>\n",
       "  </thead>\n",
       "  <tbody>\n",
       "    <tr>\n",
       "      <th>0</th>\n",
       "      <td>COVID-19 Awards</td>\n",
       "      <td>False</td>\n",
       "      <td>False</td>\n",
       "      <td>False</td>\n",
       "      <td>False</td>\n",
       "    </tr>\n",
       "    <tr>\n",
       "      <th>1</th>\n",
       "      <td>Cancel the 2020-2021 school year SOLs</td>\n",
       "      <td>False</td>\n",
       "      <td>False</td>\n",
       "      <td>False</td>\n",
       "      <td>False</td>\n",
       "    </tr>\n",
       "    <tr>\n",
       "      <th>2</th>\n",
       "      <td>..</td>\n",
       "      <td>False</td>\n",
       "      <td>False</td>\n",
       "      <td>False</td>\n",
       "      <td>False</td>\n",
       "    </tr>\n",
       "    <tr>\n",
       "      <th>3</th>\n",
       "      <td>Protect our nurses!</td>\n",
       "      <td>False</td>\n",
       "      <td>False</td>\n",
       "      <td>False</td>\n",
       "      <td>False</td>\n",
       "    </tr>\n",
       "    <tr>\n",
       "      <th>4</th>\n",
       "      <td>SENSELESS IMPRISONMENT FOR MY MOM.. FIRST TIME...</td>\n",
       "      <td>False</td>\n",
       "      <td>False</td>\n",
       "      <td>False</td>\n",
       "      <td>False</td>\n",
       "    </tr>\n",
       "  </tbody>\n",
       "</table>\n",
       "</div>"
      ],
      "text/plain": [
       "                                                text  annotation_73  \\\n",
       "0                                    COVID-19 Awards          False   \n",
       "1              Cancel the 2020-2021 school year SOLs          False   \n",
       "2                                                 ..          False   \n",
       "3                                Protect our nurses!          False   \n",
       "4  SENSELESS IMPRISONMENT FOR MY MOM.. FIRST TIME...          False   \n",
       "\n",
       "   annotation_74  annotation_75  annotation_76  \n",
       "0          False          False          False  \n",
       "1          False          False          False  \n",
       "2          False          False          False  \n",
       "3          False          False          False  \n",
       "4          False          False          False  "
      ]
     },
     "execution_count": 114,
     "metadata": {},
     "output_type": "execute_result"
    }
   ],
   "source": [
    "df_8 = pd.read_csv(r'change.org_topic\\change.org_topic_2_vaccination.csv')\n",
    "df_8.head()"
   ]
  },
  {
   "cell_type": "code",
   "execution_count": 115,
   "metadata": {},
   "outputs": [
    {
     "name": "stdout",
     "output_type": "stream",
     "text": [
      "0\n",
      "0\n",
      "0\n",
      "0\n",
      "0\n"
     ]
    }
   ],
   "source": [
    "print(df_8['annotation_73'].isnull().sum())\n",
    "print(df_8['annotation_74'].isnull().sum())\n",
    "print(df_8['annotation_75'].isnull().sum())\n",
    "print(df_8['annotation_76'].isnull().sum())\n",
    "print(df_8['text'].isnull().sum())"
   ]
  },
  {
   "cell_type": "code",
   "execution_count": 116,
   "metadata": {},
   "outputs": [],
   "source": [
    "annotation_1= df_8['annotation_73']\n",
    "annotation_2= df_8['annotation_74']\n",
    "annotation_3= df_8['annotation_75']\n",
    "annotation_4= df_8['annotation_76']"
   ]
  },
  {
   "cell_type": "markdown",
   "metadata": {},
   "source": [
    "### Cohen_kappa average score of annotation 73"
   ]
  },
  {
   "cell_type": "code",
   "execution_count": 117,
   "metadata": {},
   "outputs": [],
   "source": [
    "def cohen_avg_1():\n",
    "    cohen_score_12 = cohen_kappa_score(annotation_1,annotation_2)\n",
    "    cohen_score_13 = cohen_kappa_score(annotation_1,annotation_3)\n",
    "    cohen_score_14 = cohen_kappa_score(annotation_1,annotation_4)\n",
    "    cohen_score_average_1 = round((cohen_score_12 + cohen_score_13 + cohen_score_14)/3,3)\n",
    "    print(\"Average Cohen Kappa Score for annotation 73:\",(cohen_score_average_1))\n",
    "    return cohen_score_average_1"
   ]
  },
  {
   "cell_type": "code",
   "execution_count": 118,
   "metadata": {},
   "outputs": [
    {
     "name": "stdout",
     "output_type": "stream",
     "text": [
      "Average Cohen Kappa Score for annotation 73: 0.652\n"
     ]
    },
    {
     "data": {
      "text/plain": [
       "0.652"
      ]
     },
     "execution_count": 118,
     "metadata": {},
     "output_type": "execute_result"
    }
   ],
   "source": [
    "cohen_avg_1()"
   ]
  },
  {
   "cell_type": "markdown",
   "metadata": {},
   "source": [
    "### Cohen_kappa average score of annotation 74"
   ]
  },
  {
   "cell_type": "code",
   "execution_count": 119,
   "metadata": {},
   "outputs": [],
   "source": [
    "def cohen_avg_2():\n",
    "    cohen_score_21 = cohen_kappa_score(annotation_2,annotation_1)\n",
    "    cohen_score_23 = cohen_kappa_score(annotation_2,annotation_3)\n",
    "    cohen_score_24 = cohen_kappa_score(annotation_2,annotation_4)\n",
    "    cohen_score_average_2 = round((cohen_score_21 + cohen_score_23 + cohen_score_24)/3,3)\n",
    "    print(\"Average Cohen Kappa Score for annotation 74:\",(cohen_score_average_2))\n",
    "    return cohen_score_average_2"
   ]
  },
  {
   "cell_type": "code",
   "execution_count": 120,
   "metadata": {},
   "outputs": [
    {
     "name": "stdout",
     "output_type": "stream",
     "text": [
      "Average Cohen Kappa Score for annotation 74: 0.785\n"
     ]
    },
    {
     "data": {
      "text/plain": [
       "0.785"
      ]
     },
     "execution_count": 120,
     "metadata": {},
     "output_type": "execute_result"
    }
   ],
   "source": [
    "cohen_avg_2()"
   ]
  },
  {
   "cell_type": "markdown",
   "metadata": {},
   "source": [
    "### Cohen_kappa average score of annotation 75"
   ]
  },
  {
   "cell_type": "code",
   "execution_count": 121,
   "metadata": {},
   "outputs": [],
   "source": [
    "def cohen_avg_3():\n",
    "    cohen_score_31 = cohen_kappa_score(annotation_3,annotation_1)\n",
    "    cohen_score_32 = cohen_kappa_score(annotation_3,annotation_2)\n",
    "    cohen_score_34 = cohen_kappa_score(annotation_3,annotation_4)\n",
    "    cohen_score_average_3 = round((cohen_score_31 + cohen_score_32 + cohen_score_34)/3,3)\n",
    "    print(\"Average Cohen Kappa Score for annotation 75:\",(cohen_score_average_3))\n",
    "    return cohen_score_average_3"
   ]
  },
  {
   "cell_type": "code",
   "execution_count": 122,
   "metadata": {},
   "outputs": [
    {
     "name": "stdout",
     "output_type": "stream",
     "text": [
      "Average Cohen Kappa Score for annotation 75: 0.583\n"
     ]
    },
    {
     "data": {
      "text/plain": [
       "0.583"
      ]
     },
     "execution_count": 122,
     "metadata": {},
     "output_type": "execute_result"
    }
   ],
   "source": [
    "cohen_avg_3()"
   ]
  },
  {
   "cell_type": "markdown",
   "metadata": {},
   "source": [
    "### Cohen_kappa average score of annotation 76"
   ]
  },
  {
   "cell_type": "code",
   "execution_count": 123,
   "metadata": {},
   "outputs": [],
   "source": [
    "def cohen_avg_4():\n",
    "    cohen_score_41 = cohen_kappa_score(annotation_4,annotation_1)\n",
    "    cohen_score_42 = cohen_kappa_score(annotation_4,annotation_2)\n",
    "    cohen_score_43 = cohen_kappa_score(annotation_4,annotation_3)\n",
    "    cohen_score_average_4 = round((cohen_score_41 + cohen_score_42 + cohen_score_43)/3,3)\n",
    "    print(\"Average Cohen Kappa Score for annotation 76:\",(cohen_score_average_4))\n",
    "    return cohen_score_average_4"
   ]
  },
  {
   "cell_type": "code",
   "execution_count": 124,
   "metadata": {},
   "outputs": [
    {
     "name": "stdout",
     "output_type": "stream",
     "text": [
      "Average Cohen Kappa Score for annotation 76: 0.75\n"
     ]
    },
    {
     "data": {
      "text/plain": [
       "0.75"
      ]
     },
     "execution_count": 124,
     "metadata": {},
     "output_type": "execute_result"
    }
   ],
   "source": [
    "cohen_avg_4()"
   ]
  },
  {
   "cell_type": "markdown",
   "metadata": {},
   "source": [
    "##### If average cohen kappa score for any annotation is less than 0.2, we will drop it"
   ]
  },
  {
   "cell_type": "code",
   "execution_count": 125,
   "metadata": {},
   "outputs": [],
   "source": [
    "def drop_annotate():\n",
    "    average = [cohen_avg_1(), cohen_avg_2(),cohen_avg_3(),cohen_avg_4()]\n",
    "    columns_name = ['annotation_73','annotation_74','annotation_75','annotation_76']\n",
    "    #columns =[annotation_1,annotation_2,annotation_3,annotation_4]\n",
    "    for i in range(0,len(average)):\n",
    "        if average[i]< 0.2:\n",
    "            print(\"\\n\")\n",
    "            print(columns_name[i])\n",
    "            print(average[i])\n",
    "            df_8.drop(columns_name[i], axis=1, inplace = True)\n",
    "    print(df_8.head())"
   ]
  },
  {
   "cell_type": "code",
   "execution_count": 126,
   "metadata": {},
   "outputs": [
    {
     "name": "stdout",
     "output_type": "stream",
     "text": [
      "Average Cohen Kappa Score for annotation 73: 0.652\n",
      "Average Cohen Kappa Score for annotation 74: 0.785\n",
      "Average Cohen Kappa Score for annotation 75: 0.583\n",
      "Average Cohen Kappa Score for annotation 76: 0.75\n",
      "                                                text  annotation_73  \\\n",
      "0                                    COVID-19 Awards          False   \n",
      "1              Cancel the 2020-2021 school year SOLs          False   \n",
      "2                                                 ..          False   \n",
      "3                                Protect our nurses!          False   \n",
      "4  SENSELESS IMPRISONMENT FOR MY MOM.. FIRST TIME...          False   \n",
      "\n",
      "   annotation_74  annotation_75  annotation_76  \n",
      "0          False          False          False  \n",
      "1          False          False          False  \n",
      "2          False          False          False  \n",
      "3          False          False          False  \n",
      "4          False          False          False  \n"
     ]
    }
   ],
   "source": [
    "drop_annotate()"
   ]
  },
  {
   "cell_type": "code",
   "execution_count": null,
   "metadata": {},
   "outputs": [],
   "source": []
  },
  {
   "cell_type": "markdown",
   "metadata": {},
   "source": [
    "## change.org_topic_3_lockdowns.csv"
   ]
  },
  {
   "cell_type": "code",
   "execution_count": 127,
   "metadata": {},
   "outputs": [
    {
     "data": {
      "text/html": [
       "<div>\n",
       "<style scoped>\n",
       "    .dataframe tbody tr th:only-of-type {\n",
       "        vertical-align: middle;\n",
       "    }\n",
       "\n",
       "    .dataframe tbody tr th {\n",
       "        vertical-align: top;\n",
       "    }\n",
       "\n",
       "    .dataframe thead th {\n",
       "        text-align: right;\n",
       "    }\n",
       "</style>\n",
       "<table border=\"1\" class=\"dataframe\">\n",
       "  <thead>\n",
       "    <tr style=\"text-align: right;\">\n",
       "      <th></th>\n",
       "      <th>text</th>\n",
       "      <th>annotation_48</th>\n",
       "      <th>annotation_49</th>\n",
       "      <th>annotation_50</th>\n",
       "      <th>annotation_47</th>\n",
       "    </tr>\n",
       "  </thead>\n",
       "  <tbody>\n",
       "    <tr>\n",
       "      <th>0</th>\n",
       "      <td>Postpone CBSE Board Exams</td>\n",
       "      <td>True</td>\n",
       "      <td>False</td>\n",
       "      <td>False</td>\n",
       "      <td>True</td>\n",
       "    </tr>\n",
       "    <tr>\n",
       "      <th>1</th>\n",
       "      <td>Pay rise for paramedics and nurses</td>\n",
       "      <td>False</td>\n",
       "      <td>False</td>\n",
       "      <td>False</td>\n",
       "      <td>False</td>\n",
       "    </tr>\n",
       "    <tr>\n",
       "      <th>2</th>\n",
       "      <td>Too Soon To Open Georgia!</td>\n",
       "      <td>True</td>\n",
       "      <td>True</td>\n",
       "      <td>True</td>\n",
       "      <td>True</td>\n",
       "    </tr>\n",
       "    <tr>\n",
       "      <th>3</th>\n",
       "      <td>Request to reconsider DPS Ruby Park school tui...</td>\n",
       "      <td>True</td>\n",
       "      <td>False</td>\n",
       "      <td>False</td>\n",
       "      <td>True</td>\n",
       "    </tr>\n",
       "    <tr>\n",
       "      <th>4</th>\n",
       "      <td>Covid-19 Aesthetics / Salon / Massage Industry...</td>\n",
       "      <td>False</td>\n",
       "      <td>False</td>\n",
       "      <td>False</td>\n",
       "      <td>True</td>\n",
       "    </tr>\n",
       "  </tbody>\n",
       "</table>\n",
       "</div>"
      ],
      "text/plain": [
       "                                                text  annotation_48  \\\n",
       "0                          Postpone CBSE Board Exams           True   \n",
       "1                 Pay rise for paramedics and nurses          False   \n",
       "2                          Too Soon To Open Georgia!           True   \n",
       "3  Request to reconsider DPS Ruby Park school tui...           True   \n",
       "4  Covid-19 Aesthetics / Salon / Massage Industry...          False   \n",
       "\n",
       "   annotation_49  annotation_50  annotation_47  \n",
       "0          False          False           True  \n",
       "1          False          False          False  \n",
       "2           True           True           True  \n",
       "3          False          False           True  \n",
       "4          False          False           True  "
      ]
     },
     "execution_count": 127,
     "metadata": {},
     "output_type": "execute_result"
    }
   ],
   "source": [
    "df_9 = pd.read_csv(r'change.org_topic\\change.org_topic_3_lockdowns.csv')\n",
    "df_9.head()"
   ]
  },
  {
   "cell_type": "code",
   "execution_count": 128,
   "metadata": {},
   "outputs": [
    {
     "name": "stdout",
     "output_type": "stream",
     "text": [
      "0\n",
      "0\n",
      "0\n",
      "0\n",
      "0\n"
     ]
    }
   ],
   "source": [
    "print(df_9['annotation_47'].isnull().sum())\n",
    "print(df_9['annotation_48'].isnull().sum())\n",
    "print(df_9['annotation_49'].isnull().sum())\n",
    "print(df_9['annotation_50'].isnull().sum())\n",
    "print(df_9['text'].isnull().sum())"
   ]
  },
  {
   "cell_type": "code",
   "execution_count": 129,
   "metadata": {},
   "outputs": [],
   "source": [
    "annotation_1= df_9['annotation_47']\n",
    "annotation_2= df_9['annotation_48']\n",
    "annotation_3= df_9['annotation_49']\n",
    "annotation_4= df_9['annotation_50']"
   ]
  },
  {
   "cell_type": "markdown",
   "metadata": {},
   "source": [
    "### Cohen_kappa average score of annotation 47"
   ]
  },
  {
   "cell_type": "code",
   "execution_count": 130,
   "metadata": {},
   "outputs": [],
   "source": [
    "def cohen_avg_1():\n",
    "    cohen_score_12 = cohen_kappa_score(annotation_1,annotation_2)\n",
    "    cohen_score_13 = cohen_kappa_score(annotation_1,annotation_3)\n",
    "    cohen_score_14 = cohen_kappa_score(annotation_1,annotation_4)\n",
    "    cohen_score_average_1 = round((cohen_score_12 + cohen_score_13 + cohen_score_14)/3,3)\n",
    "    print(\"Average Cohen Kappa Score for annotation 47:\",(cohen_score_average_1))\n",
    "    return cohen_score_average_1"
   ]
  },
  {
   "cell_type": "code",
   "execution_count": 131,
   "metadata": {},
   "outputs": [
    {
     "name": "stdout",
     "output_type": "stream",
     "text": [
      "Average Cohen Kappa Score for annotation 47: 0.434\n"
     ]
    },
    {
     "data": {
      "text/plain": [
       "0.434"
      ]
     },
     "execution_count": 131,
     "metadata": {},
     "output_type": "execute_result"
    }
   ],
   "source": [
    "cohen_avg_1()"
   ]
  },
  {
   "cell_type": "markdown",
   "metadata": {},
   "source": [
    "### Cohen_kappa average score of annotation 48"
   ]
  },
  {
   "cell_type": "code",
   "execution_count": 132,
   "metadata": {},
   "outputs": [],
   "source": [
    "def cohen_avg_2():\n",
    "    cohen_score_21 = cohen_kappa_score(annotation_2,annotation_1)\n",
    "    cohen_score_23 = cohen_kappa_score(annotation_2,annotation_3)\n",
    "    cohen_score_24 = cohen_kappa_score(annotation_2,annotation_4)\n",
    "    cohen_score_average_2 = round((cohen_score_21 + cohen_score_23 + cohen_score_24)/3,3)\n",
    "    print(\"Average Cohen Kappa Score for annotation 48:\",(cohen_score_average_2))\n",
    "    return cohen_score_average_2"
   ]
  },
  {
   "cell_type": "code",
   "execution_count": 133,
   "metadata": {},
   "outputs": [
    {
     "name": "stdout",
     "output_type": "stream",
     "text": [
      "Average Cohen Kappa Score for annotation 48: 0.42\n"
     ]
    },
    {
     "data": {
      "text/plain": [
       "0.42"
      ]
     },
     "execution_count": 133,
     "metadata": {},
     "output_type": "execute_result"
    }
   ],
   "source": [
    "cohen_avg_2()"
   ]
  },
  {
   "cell_type": "markdown",
   "metadata": {},
   "source": [
    "### Cohen_kappa average score of annotation 49"
   ]
  },
  {
   "cell_type": "code",
   "execution_count": 134,
   "metadata": {},
   "outputs": [],
   "source": [
    "def cohen_avg_3():\n",
    "    cohen_score_31 = cohen_kappa_score(annotation_3,annotation_1)\n",
    "    cohen_score_32 = cohen_kappa_score(annotation_3,annotation_2)\n",
    "    cohen_score_34 = cohen_kappa_score(annotation_3,annotation_4)\n",
    "    cohen_score_average_3 = round((cohen_score_31 + cohen_score_32 + cohen_score_34)/3,3)\n",
    "    print(\"Average Cohen Kappa Score for annotation 49:\",(cohen_score_average_3))\n",
    "    return cohen_score_average_3"
   ]
  },
  {
   "cell_type": "code",
   "execution_count": 135,
   "metadata": {},
   "outputs": [
    {
     "name": "stdout",
     "output_type": "stream",
     "text": [
      "Average Cohen Kappa Score for annotation 49: 0.437\n"
     ]
    },
    {
     "data": {
      "text/plain": [
       "0.437"
      ]
     },
     "execution_count": 135,
     "metadata": {},
     "output_type": "execute_result"
    }
   ],
   "source": [
    "cohen_avg_3()"
   ]
  },
  {
   "cell_type": "markdown",
   "metadata": {},
   "source": [
    "### Cohen_kappa average score of annotation 50"
   ]
  },
  {
   "cell_type": "code",
   "execution_count": 136,
   "metadata": {},
   "outputs": [],
   "source": [
    "def cohen_avg_4():\n",
    "    cohen_score_41 = cohen_kappa_score(annotation_4,annotation_1)\n",
    "    cohen_score_42 = cohen_kappa_score(annotation_4,annotation_2)\n",
    "    cohen_score_43 = cohen_kappa_score(annotation_4,annotation_3)\n",
    "    cohen_score_average_4 = round((cohen_score_41 + cohen_score_42 + cohen_score_43)/3,3)\n",
    "    print(\"Average Cohen Kappa Score for annotation 50:\",(cohen_score_average_4))\n",
    "    return cohen_score_average_4"
   ]
  },
  {
   "cell_type": "code",
   "execution_count": 137,
   "metadata": {},
   "outputs": [
    {
     "name": "stdout",
     "output_type": "stream",
     "text": [
      "Average Cohen Kappa Score for annotation 50: 0.455\n"
     ]
    },
    {
     "data": {
      "text/plain": [
       "0.455"
      ]
     },
     "execution_count": 137,
     "metadata": {},
     "output_type": "execute_result"
    }
   ],
   "source": [
    "cohen_avg_4()"
   ]
  },
  {
   "cell_type": "markdown",
   "metadata": {},
   "source": [
    "##### If average cohen kappa score for any annotation is less than 0.2, we will drop it"
   ]
  },
  {
   "cell_type": "code",
   "execution_count": 138,
   "metadata": {},
   "outputs": [],
   "source": [
    "def drop_annotate():\n",
    "    average = [cohen_avg_1(), cohen_avg_2(),cohen_avg_3(),cohen_avg_4()]\n",
    "    columns_name = ['annotation_47','annotation_48','annotation_49','annotation_50']\n",
    "    #columns =[annotation_1,annotation_2,annotation_3,annotation_4]\n",
    "    for i in range(0,len(average)):\n",
    "        if average[i]< 0.2:\n",
    "            print(\"\\n\")\n",
    "            print(columns_name[i])\n",
    "            print(average[i])\n",
    "            df_9.drop(columns_name[i], axis=1, inplace = True)\n",
    "    print(df_9.head())"
   ]
  },
  {
   "cell_type": "code",
   "execution_count": 139,
   "metadata": {},
   "outputs": [
    {
     "name": "stdout",
     "output_type": "stream",
     "text": [
      "Average Cohen Kappa Score for annotation 47: 0.434\n",
      "Average Cohen Kappa Score for annotation 48: 0.42\n",
      "Average Cohen Kappa Score for annotation 49: 0.437\n",
      "Average Cohen Kappa Score for annotation 50: 0.455\n",
      "                                                text  annotation_48  \\\n",
      "0                          Postpone CBSE Board Exams           True   \n",
      "1                 Pay rise for paramedics and nurses          False   \n",
      "2                          Too Soon To Open Georgia!           True   \n",
      "3  Request to reconsider DPS Ruby Park school tui...           True   \n",
      "4  Covid-19 Aesthetics / Salon / Massage Industry...          False   \n",
      "\n",
      "   annotation_49  annotation_50  annotation_47  \n",
      "0          False          False           True  \n",
      "1          False          False          False  \n",
      "2           True           True           True  \n",
      "3          False          False           True  \n",
      "4          False          False           True  \n"
     ]
    }
   ],
   "source": [
    "drop_annotate()"
   ]
  },
  {
   "cell_type": "markdown",
   "metadata": {},
   "source": [
    "## change.org_topic_3_masking_and_distancing.csv"
   ]
  },
  {
   "cell_type": "code",
   "execution_count": 140,
   "metadata": {},
   "outputs": [
    {
     "data": {
      "text/html": [
       "<div>\n",
       "<style scoped>\n",
       "    .dataframe tbody tr th:only-of-type {\n",
       "        vertical-align: middle;\n",
       "    }\n",
       "\n",
       "    .dataframe tbody tr th {\n",
       "        vertical-align: top;\n",
       "    }\n",
       "\n",
       "    .dataframe thead th {\n",
       "        text-align: right;\n",
       "    }\n",
       "</style>\n",
       "<table border=\"1\" class=\"dataframe\">\n",
       "  <thead>\n",
       "    <tr style=\"text-align: right;\">\n",
       "      <th></th>\n",
       "      <th>text</th>\n",
       "      <th>annotation_48</th>\n",
       "      <th>annotation_49</th>\n",
       "      <th>annotation_50</th>\n",
       "      <th>annotation_47</th>\n",
       "    </tr>\n",
       "  </thead>\n",
       "  <tbody>\n",
       "    <tr>\n",
       "      <th>0</th>\n",
       "      <td>Postpone CBSE Board Exams</td>\n",
       "      <td>False</td>\n",
       "      <td>False</td>\n",
       "      <td>False</td>\n",
       "      <td>False</td>\n",
       "    </tr>\n",
       "    <tr>\n",
       "      <th>1</th>\n",
       "      <td>Pay rise for paramedics and nurses</td>\n",
       "      <td>False</td>\n",
       "      <td>False</td>\n",
       "      <td>False</td>\n",
       "      <td>False</td>\n",
       "    </tr>\n",
       "    <tr>\n",
       "      <th>2</th>\n",
       "      <td>Too Soon To Open Georgia!</td>\n",
       "      <td>False</td>\n",
       "      <td>False</td>\n",
       "      <td>False</td>\n",
       "      <td>False</td>\n",
       "    </tr>\n",
       "    <tr>\n",
       "      <th>3</th>\n",
       "      <td>Request to reconsider DPS Ruby Park school tui...</td>\n",
       "      <td>False</td>\n",
       "      <td>False</td>\n",
       "      <td>False</td>\n",
       "      <td>False</td>\n",
       "    </tr>\n",
       "    <tr>\n",
       "      <th>4</th>\n",
       "      <td>Covid-19 Aesthetics / Salon / Massage Industry...</td>\n",
       "      <td>False</td>\n",
       "      <td>False</td>\n",
       "      <td>False</td>\n",
       "      <td>False</td>\n",
       "    </tr>\n",
       "  </tbody>\n",
       "</table>\n",
       "</div>"
      ],
      "text/plain": [
       "                                                text  annotation_48  \\\n",
       "0                          Postpone CBSE Board Exams          False   \n",
       "1                 Pay rise for paramedics and nurses          False   \n",
       "2                          Too Soon To Open Georgia!          False   \n",
       "3  Request to reconsider DPS Ruby Park school tui...          False   \n",
       "4  Covid-19 Aesthetics / Salon / Massage Industry...          False   \n",
       "\n",
       "   annotation_49  annotation_50  annotation_47  \n",
       "0          False          False          False  \n",
       "1          False          False          False  \n",
       "2          False          False          False  \n",
       "3          False          False          False  \n",
       "4          False          False          False  "
      ]
     },
     "execution_count": 140,
     "metadata": {},
     "output_type": "execute_result"
    }
   ],
   "source": [
    "df_10 = pd.read_csv(r'change.org_topic\\change.org_topic_3_masking_and_distancing.csv')\n",
    "df_10.head()"
   ]
  },
  {
   "cell_type": "code",
   "execution_count": 141,
   "metadata": {},
   "outputs": [
    {
     "name": "stdout",
     "output_type": "stream",
     "text": [
      "0\n",
      "0\n",
      "0\n",
      "0\n",
      "0\n"
     ]
    }
   ],
   "source": [
    "print(df_10['annotation_47'].isnull().sum())\n",
    "print(df_10['annotation_48'].isnull().sum())\n",
    "print(df_10['annotation_49'].isnull().sum())\n",
    "print(df_10['annotation_50'].isnull().sum())\n",
    "print(df_10['text'].isnull().sum())"
   ]
  },
  {
   "cell_type": "code",
   "execution_count": 142,
   "metadata": {},
   "outputs": [],
   "source": [
    "annotation_1= df_10['annotation_47']\n",
    "annotation_2= df_10['annotation_48']\n",
    "annotation_3= df_10['annotation_49']\n",
    "annotation_4= df_10['annotation_50']"
   ]
  },
  {
   "cell_type": "markdown",
   "metadata": {},
   "source": [
    "### Cohen_kappa average score of annotation 47"
   ]
  },
  {
   "cell_type": "code",
   "execution_count": 143,
   "metadata": {},
   "outputs": [],
   "source": [
    "def cohen_avg_1():\n",
    "    cohen_score_12 = cohen_kappa_score(annotation_1,annotation_2)\n",
    "    cohen_score_13 = cohen_kappa_score(annotation_1,annotation_3)\n",
    "    cohen_score_14 = cohen_kappa_score(annotation_1,annotation_4)\n",
    "    cohen_score_average_1 = round((cohen_score_12 + cohen_score_13 + cohen_score_14)/3,3)\n",
    "    print(\"Average Cohen Kappa Score for annotation 47:\",(cohen_score_average_1))\n",
    "    return cohen_score_average_1"
   ]
  },
  {
   "cell_type": "code",
   "execution_count": 144,
   "metadata": {},
   "outputs": [
    {
     "name": "stdout",
     "output_type": "stream",
     "text": [
      "Average Cohen Kappa Score for annotation 47: 0.403\n"
     ]
    },
    {
     "data": {
      "text/plain": [
       "0.403"
      ]
     },
     "execution_count": 144,
     "metadata": {},
     "output_type": "execute_result"
    }
   ],
   "source": [
    "cohen_avg_1()"
   ]
  },
  {
   "cell_type": "markdown",
   "metadata": {},
   "source": [
    "### Cohen_kappa average score of annotation 48"
   ]
  },
  {
   "cell_type": "code",
   "execution_count": 145,
   "metadata": {},
   "outputs": [],
   "source": [
    "def cohen_avg_2():\n",
    "    cohen_score_21 = cohen_kappa_score(annotation_2,annotation_1)\n",
    "    cohen_score_23 = cohen_kappa_score(annotation_2,annotation_3)\n",
    "    cohen_score_24 = cohen_kappa_score(annotation_2,annotation_4)\n",
    "    cohen_score_average_2 = round((cohen_score_21 + cohen_score_23 + cohen_score_24)/3,3)\n",
    "    print(\"Average Cohen Kappa Score for annotation 48:\",(cohen_score_average_2))\n",
    "    return cohen_score_average_2"
   ]
  },
  {
   "cell_type": "code",
   "execution_count": 146,
   "metadata": {},
   "outputs": [
    {
     "name": "stdout",
     "output_type": "stream",
     "text": [
      "Average Cohen Kappa Score for annotation 48: 0.365\n"
     ]
    },
    {
     "data": {
      "text/plain": [
       "0.365"
      ]
     },
     "execution_count": 146,
     "metadata": {},
     "output_type": "execute_result"
    }
   ],
   "source": [
    "cohen_avg_2()"
   ]
  },
  {
   "cell_type": "markdown",
   "metadata": {},
   "source": [
    "### Cohen_kappa average score of annotation 49"
   ]
  },
  {
   "cell_type": "code",
   "execution_count": 147,
   "metadata": {},
   "outputs": [],
   "source": [
    "def cohen_avg_3():\n",
    "    cohen_score_31 = cohen_kappa_score(annotation_3,annotation_1)\n",
    "    cohen_score_32 = cohen_kappa_score(annotation_3,annotation_2)\n",
    "    cohen_score_34 = cohen_kappa_score(annotation_3,annotation_4)\n",
    "    cohen_score_average_3 = round((cohen_score_31 + cohen_score_32 + cohen_score_34)/3,3)\n",
    "    print(\"Average Cohen Kappa Score for annotation 49:\",(cohen_score_average_3))\n",
    "    return cohen_score_average_3"
   ]
  },
  {
   "cell_type": "code",
   "execution_count": 148,
   "metadata": {},
   "outputs": [
    {
     "name": "stdout",
     "output_type": "stream",
     "text": [
      "Average Cohen Kappa Score for annotation 49: 0.494\n"
     ]
    },
    {
     "data": {
      "text/plain": [
       "0.494"
      ]
     },
     "execution_count": 148,
     "metadata": {},
     "output_type": "execute_result"
    }
   ],
   "source": [
    "cohen_avg_3()"
   ]
  },
  {
   "cell_type": "markdown",
   "metadata": {},
   "source": [
    "### Cohen_kappa average score of annotation 50"
   ]
  },
  {
   "cell_type": "code",
   "execution_count": 149,
   "metadata": {},
   "outputs": [],
   "source": [
    "def cohen_avg_4():\n",
    "    cohen_score_41 = cohen_kappa_score(annotation_4,annotation_1)\n",
    "    cohen_score_42 = cohen_kappa_score(annotation_4,annotation_2)\n",
    "    cohen_score_43 = cohen_kappa_score(annotation_4,annotation_3)\n",
    "    cohen_score_average_4 = round((cohen_score_41 + cohen_score_42 + cohen_score_43)/3,3)\n",
    "    print(\"Average Cohen Kappa Score for annotation 50:\",(cohen_score_average_4))\n",
    "    return cohen_score_average_4"
   ]
  },
  {
   "cell_type": "code",
   "execution_count": 150,
   "metadata": {},
   "outputs": [
    {
     "name": "stdout",
     "output_type": "stream",
     "text": [
      "Average Cohen Kappa Score for annotation 50: 0.467\n"
     ]
    },
    {
     "data": {
      "text/plain": [
       "0.467"
      ]
     },
     "execution_count": 150,
     "metadata": {},
     "output_type": "execute_result"
    }
   ],
   "source": [
    "cohen_avg_4()"
   ]
  },
  {
   "cell_type": "markdown",
   "metadata": {},
   "source": [
    "##### If average cohen kappa score for any annotation is less than 0.2, we will drop it"
   ]
  },
  {
   "cell_type": "code",
   "execution_count": 151,
   "metadata": {},
   "outputs": [],
   "source": [
    "def drop_annotate():\n",
    "    average = [cohen_avg_1(), cohen_avg_2(),cohen_avg_3(),cohen_avg_4()]\n",
    "    columns_name = ['annotation_47','annotation_48','annotation_49','annotation_50']\n",
    "    #columns =[annotation_1,annotation_2,annotation_3,annotation_4]\n",
    "    for i in range(0,len(average)):\n",
    "        if average[i]< 0.2:\n",
    "            print(\"\\n\")\n",
    "            print(columns_name[i])\n",
    "            print(average[i])\n",
    "            df_10.drop(columns_name[i], axis=1, inplace = True)\n",
    "    print(df_10.head())"
   ]
  },
  {
   "cell_type": "code",
   "execution_count": 152,
   "metadata": {},
   "outputs": [
    {
     "name": "stdout",
     "output_type": "stream",
     "text": [
      "Average Cohen Kappa Score for annotation 47: 0.403\n",
      "Average Cohen Kappa Score for annotation 48: 0.365\n",
      "Average Cohen Kappa Score for annotation 49: 0.494\n",
      "Average Cohen Kappa Score for annotation 50: 0.467\n",
      "                                                text  annotation_48  \\\n",
      "0                          Postpone CBSE Board Exams          False   \n",
      "1                 Pay rise for paramedics and nurses          False   \n",
      "2                          Too Soon To Open Georgia!          False   \n",
      "3  Request to reconsider DPS Ruby Park school tui...          False   \n",
      "4  Covid-19 Aesthetics / Salon / Massage Industry...          False   \n",
      "\n",
      "   annotation_49  annotation_50  annotation_47  \n",
      "0          False          False          False  \n",
      "1          False          False          False  \n",
      "2          False          False          False  \n",
      "3          False          False          False  \n",
      "4          False          False          False  \n"
     ]
    }
   ],
   "source": [
    "drop_annotate()"
   ]
  },
  {
   "cell_type": "code",
   "execution_count": null,
   "metadata": {},
   "outputs": [],
   "source": []
  },
  {
   "cell_type": "markdown",
   "metadata": {},
   "source": [
    "## change.org_topic_3_vaccination.csv\n",
    "\n"
   ]
  },
  {
   "cell_type": "code",
   "execution_count": 153,
   "metadata": {},
   "outputs": [
    {
     "data": {
      "text/html": [
       "<div>\n",
       "<style scoped>\n",
       "    .dataframe tbody tr th:only-of-type {\n",
       "        vertical-align: middle;\n",
       "    }\n",
       "\n",
       "    .dataframe tbody tr th {\n",
       "        vertical-align: top;\n",
       "    }\n",
       "\n",
       "    .dataframe thead th {\n",
       "        text-align: right;\n",
       "    }\n",
       "</style>\n",
       "<table border=\"1\" class=\"dataframe\">\n",
       "  <thead>\n",
       "    <tr style=\"text-align: right;\">\n",
       "      <th></th>\n",
       "      <th>text</th>\n",
       "      <th>annotation_48</th>\n",
       "      <th>annotation_49</th>\n",
       "      <th>annotation_50</th>\n",
       "      <th>annotation_47</th>\n",
       "    </tr>\n",
       "  </thead>\n",
       "  <tbody>\n",
       "    <tr>\n",
       "      <th>0</th>\n",
       "      <td>Postpone CBSE Board Exams</td>\n",
       "      <td>False</td>\n",
       "      <td>False</td>\n",
       "      <td>False</td>\n",
       "      <td>False</td>\n",
       "    </tr>\n",
       "    <tr>\n",
       "      <th>1</th>\n",
       "      <td>Pay rise for paramedics and nurses</td>\n",
       "      <td>False</td>\n",
       "      <td>False</td>\n",
       "      <td>False</td>\n",
       "      <td>False</td>\n",
       "    </tr>\n",
       "    <tr>\n",
       "      <th>2</th>\n",
       "      <td>Too Soon To Open Georgia!</td>\n",
       "      <td>False</td>\n",
       "      <td>False</td>\n",
       "      <td>False</td>\n",
       "      <td>False</td>\n",
       "    </tr>\n",
       "    <tr>\n",
       "      <th>3</th>\n",
       "      <td>Request to reconsider DPS Ruby Park school tui...</td>\n",
       "      <td>False</td>\n",
       "      <td>False</td>\n",
       "      <td>False</td>\n",
       "      <td>False</td>\n",
       "    </tr>\n",
       "    <tr>\n",
       "      <th>4</th>\n",
       "      <td>Covid-19 Aesthetics / Salon / Massage Industry...</td>\n",
       "      <td>False</td>\n",
       "      <td>False</td>\n",
       "      <td>False</td>\n",
       "      <td>False</td>\n",
       "    </tr>\n",
       "  </tbody>\n",
       "</table>\n",
       "</div>"
      ],
      "text/plain": [
       "                                                text  annotation_48  \\\n",
       "0                          Postpone CBSE Board Exams          False   \n",
       "1                 Pay rise for paramedics and nurses          False   \n",
       "2                          Too Soon To Open Georgia!          False   \n",
       "3  Request to reconsider DPS Ruby Park school tui...          False   \n",
       "4  Covid-19 Aesthetics / Salon / Massage Industry...          False   \n",
       "\n",
       "   annotation_49  annotation_50  annotation_47  \n",
       "0          False          False          False  \n",
       "1          False          False          False  \n",
       "2          False          False          False  \n",
       "3          False          False          False  \n",
       "4          False          False          False  "
      ]
     },
     "execution_count": 153,
     "metadata": {},
     "output_type": "execute_result"
    }
   ],
   "source": [
    "df_11 = pd.read_csv(r'change.org_topic\\change.org_topic_3_vaccination.csv')\n",
    "df_11.head()"
   ]
  },
  {
   "cell_type": "code",
   "execution_count": 154,
   "metadata": {},
   "outputs": [
    {
     "name": "stdout",
     "output_type": "stream",
     "text": [
      "0\n",
      "0\n",
      "0\n",
      "0\n",
      "0\n"
     ]
    }
   ],
   "source": [
    "print(df_11['annotation_47'].isnull().sum())\n",
    "print(df_11['annotation_48'].isnull().sum())\n",
    "print(df_11['annotation_49'].isnull().sum())\n",
    "print(df_11['annotation_50'].isnull().sum())\n",
    "print(df_11['text'].isnull().sum())"
   ]
  },
  {
   "cell_type": "code",
   "execution_count": 155,
   "metadata": {},
   "outputs": [],
   "source": [
    "annotation_1= df_11['annotation_47']\n",
    "annotation_2= df_11['annotation_48']\n",
    "annotation_3= df_11['annotation_49']\n",
    "annotation_4= df_11['annotation_50']"
   ]
  },
  {
   "cell_type": "markdown",
   "metadata": {},
   "source": [
    "### Cohen_kappa average score of annotation 47"
   ]
  },
  {
   "cell_type": "code",
   "execution_count": 156,
   "metadata": {},
   "outputs": [],
   "source": [
    "def cohen_avg_1():\n",
    "    cohen_score_12 = cohen_kappa_score(annotation_1,annotation_2)\n",
    "    cohen_score_13 = cohen_kappa_score(annotation_1,annotation_3)\n",
    "    cohen_score_14 = cohen_kappa_score(annotation_1,annotation_4)\n",
    "    cohen_score_average_1 = round((cohen_score_12 + cohen_score_13 + cohen_score_14)/3,3)\n",
    "    print(\"Average Cohen Kappa Score for annotation 47:\",(cohen_score_average_1))\n",
    "    return cohen_score_average_1"
   ]
  },
  {
   "cell_type": "code",
   "execution_count": 157,
   "metadata": {},
   "outputs": [
    {
     "name": "stdout",
     "output_type": "stream",
     "text": [
      "Average Cohen Kappa Score for annotation 47: 0.524\n"
     ]
    },
    {
     "data": {
      "text/plain": [
       "0.524"
      ]
     },
     "execution_count": 157,
     "metadata": {},
     "output_type": "execute_result"
    }
   ],
   "source": [
    "cohen_avg_1()"
   ]
  },
  {
   "cell_type": "markdown",
   "metadata": {},
   "source": [
    "### Cohen_kappa average score of annotation 48"
   ]
  },
  {
   "cell_type": "code",
   "execution_count": 158,
   "metadata": {},
   "outputs": [],
   "source": [
    "def cohen_avg_2():\n",
    "    cohen_score_21 = cohen_kappa_score(annotation_2,annotation_1)\n",
    "    cohen_score_23 = cohen_kappa_score(annotation_2,annotation_3)\n",
    "    cohen_score_24 = cohen_kappa_score(annotation_2,annotation_4)\n",
    "    cohen_score_average_2 = round((cohen_score_21 + cohen_score_23 + cohen_score_24)/3,3)\n",
    "    print(\"Average Cohen Kappa Score for annotation 48:\",(cohen_score_average_2))\n",
    "    return cohen_score_average_2"
   ]
  },
  {
   "cell_type": "code",
   "execution_count": 159,
   "metadata": {},
   "outputs": [
    {
     "name": "stdout",
     "output_type": "stream",
     "text": [
      "Average Cohen Kappa Score for annotation 48: 0.388\n"
     ]
    },
    {
     "data": {
      "text/plain": [
       "0.388"
      ]
     },
     "execution_count": 159,
     "metadata": {},
     "output_type": "execute_result"
    }
   ],
   "source": [
    "cohen_avg_2()"
   ]
  },
  {
   "cell_type": "markdown",
   "metadata": {},
   "source": [
    "### Cohen_kappa average score of annotation 49"
   ]
  },
  {
   "cell_type": "code",
   "execution_count": 160,
   "metadata": {},
   "outputs": [],
   "source": [
    "def cohen_avg_3():\n",
    "    cohen_score_31 = cohen_kappa_score(annotation_3,annotation_1)\n",
    "    cohen_score_32 = cohen_kappa_score(annotation_3,annotation_2)\n",
    "    cohen_score_34 = cohen_kappa_score(annotation_3,annotation_4)\n",
    "    cohen_score_average_3 = round((cohen_score_31 + cohen_score_32 + cohen_score_34)/3,3)\n",
    "    print(\"Average Cohen Kappa Score for annotation 49:\",(cohen_score_average_3))\n",
    "    return cohen_score_average_3"
   ]
  },
  {
   "cell_type": "code",
   "execution_count": 161,
   "metadata": {},
   "outputs": [
    {
     "name": "stdout",
     "output_type": "stream",
     "text": [
      "Average Cohen Kappa Score for annotation 49: 0.605\n"
     ]
    },
    {
     "data": {
      "text/plain": [
       "0.605"
      ]
     },
     "execution_count": 161,
     "metadata": {},
     "output_type": "execute_result"
    }
   ],
   "source": [
    "cohen_avg_3()"
   ]
  },
  {
   "cell_type": "markdown",
   "metadata": {},
   "source": [
    "### Cohen_kappa average score of annotation 50"
   ]
  },
  {
   "cell_type": "code",
   "execution_count": 162,
   "metadata": {},
   "outputs": [],
   "source": [
    "def cohen_avg_4():\n",
    "    cohen_score_41 = cohen_kappa_score(annotation_4,annotation_1)\n",
    "    cohen_score_42 = cohen_kappa_score(annotation_4,annotation_2)\n",
    "    cohen_score_43 = cohen_kappa_score(annotation_4,annotation_3)\n",
    "    cohen_score_average_4 = round((cohen_score_41 + cohen_score_42 + cohen_score_43)/3,3)\n",
    "    print(\"Average Cohen Kappa Score for annotation 50:\",(cohen_score_average_4))\n",
    "    return cohen_score_average_4"
   ]
  },
  {
   "cell_type": "code",
   "execution_count": 163,
   "metadata": {},
   "outputs": [
    {
     "name": "stdout",
     "output_type": "stream",
     "text": [
      "Average Cohen Kappa Score for annotation 50: 0.562\n"
     ]
    },
    {
     "data": {
      "text/plain": [
       "0.562"
      ]
     },
     "execution_count": 163,
     "metadata": {},
     "output_type": "execute_result"
    }
   ],
   "source": [
    "cohen_avg_4()"
   ]
  },
  {
   "cell_type": "markdown",
   "metadata": {},
   "source": [
    "##### If average cohen kappa score for any annotation is less than 0.2, we will drop it"
   ]
  },
  {
   "cell_type": "code",
   "execution_count": 164,
   "metadata": {},
   "outputs": [],
   "source": [
    "def drop_annotate():\n",
    "    average = [cohen_avg_1(), cohen_avg_2(),cohen_avg_3(),cohen_avg_4()]\n",
    "    columns_name = ['annotation_47','annotation_48','annotation_49','annotation_50']\n",
    "    #columns =[annotation_1,annotation_2,annotation_3,annotation_4]\n",
    "    for i in range(0,len(average)):\n",
    "        if average[i]< 0.2:\n",
    "            print(columns_name[i])\n",
    "            print(average[i])\n",
    "            df_11.drop(columns_name[i], axis=1, inplace = True)\n",
    "    print(df_11.head())"
   ]
  },
  {
   "cell_type": "code",
   "execution_count": 165,
   "metadata": {},
   "outputs": [
    {
     "name": "stdout",
     "output_type": "stream",
     "text": [
      "Average Cohen Kappa Score for annotation 47: 0.524\n",
      "Average Cohen Kappa Score for annotation 48: 0.388\n",
      "Average Cohen Kappa Score for annotation 49: 0.605\n",
      "Average Cohen Kappa Score for annotation 50: 0.562\n",
      "                                                text  annotation_48  \\\n",
      "0                          Postpone CBSE Board Exams          False   \n",
      "1                 Pay rise for paramedics and nurses          False   \n",
      "2                          Too Soon To Open Georgia!          False   \n",
      "3  Request to reconsider DPS Ruby Park school tui...          False   \n",
      "4  Covid-19 Aesthetics / Salon / Massage Industry...          False   \n",
      "\n",
      "   annotation_49  annotation_50  annotation_47  \n",
      "0          False          False          False  \n",
      "1          False          False          False  \n",
      "2          False          False          False  \n",
      "3          False          False          False  \n",
      "4          False          False          False  \n"
     ]
    }
   ],
   "source": [
    "drop_annotate()"
   ]
  },
  {
   "cell_type": "markdown",
   "metadata": {},
   "source": [
    "## change.org_topic_4_lockdowns.csv\n",
    "\n"
   ]
  },
  {
   "cell_type": "code",
   "execution_count": 166,
   "metadata": {},
   "outputs": [
    {
     "data": {
      "text/html": [
       "<div>\n",
       "<style scoped>\n",
       "    .dataframe tbody tr th:only-of-type {\n",
       "        vertical-align: middle;\n",
       "    }\n",
       "\n",
       "    .dataframe tbody tr th {\n",
       "        vertical-align: top;\n",
       "    }\n",
       "\n",
       "    .dataframe thead th {\n",
       "        text-align: right;\n",
       "    }\n",
       "</style>\n",
       "<table border=\"1\" class=\"dataframe\">\n",
       "  <thead>\n",
       "    <tr style=\"text-align: right;\">\n",
       "      <th></th>\n",
       "      <th>text</th>\n",
       "      <th>annotation_43</th>\n",
       "      <th>annotation_44</th>\n",
       "      <th>annotation_45</th>\n",
       "      <th>annotation_46</th>\n",
       "    </tr>\n",
       "  </thead>\n",
       "  <tbody>\n",
       "    <tr>\n",
       "      <th>0</th>\n",
       "      <td>Save Western Ghats from annihilation</td>\n",
       "      <td>True</td>\n",
       "      <td>False</td>\n",
       "      <td>False</td>\n",
       "      <td>False</td>\n",
       "    </tr>\n",
       "    <tr>\n",
       "      <th>1</th>\n",
       "      <td>Save Beacon Hill Park</td>\n",
       "      <td>True</td>\n",
       "      <td>False</td>\n",
       "      <td>False</td>\n",
       "      <td>False</td>\n",
       "    </tr>\n",
       "    <tr>\n",
       "      <th>2</th>\n",
       "      <td>Government of India: Don't Tax Medical Bills</td>\n",
       "      <td>True</td>\n",
       "      <td>False</td>\n",
       "      <td>False</td>\n",
       "      <td>False</td>\n",
       "    </tr>\n",
       "    <tr>\n",
       "      <th>3</th>\n",
       "      <td>NO FAILING @ UCR</td>\n",
       "      <td>True</td>\n",
       "      <td>False</td>\n",
       "      <td>False</td>\n",
       "      <td>False</td>\n",
       "    </tr>\n",
       "    <tr>\n",
       "      <th>4</th>\n",
       "      <td>WIAA - Let them play football!</td>\n",
       "      <td>True</td>\n",
       "      <td>False</td>\n",
       "      <td>True</td>\n",
       "      <td>False</td>\n",
       "    </tr>\n",
       "  </tbody>\n",
       "</table>\n",
       "</div>"
      ],
      "text/plain": [
       "                                           text  annotation_43  annotation_44  \\\n",
       "0          Save Western Ghats from annihilation           True          False   \n",
       "1                         Save Beacon Hill Park           True          False   \n",
       "2  Government of India: Don't Tax Medical Bills           True          False   \n",
       "3                              NO FAILING @ UCR           True          False   \n",
       "4                WIAA - Let them play football!           True          False   \n",
       "\n",
       "   annotation_45  annotation_46  \n",
       "0          False          False  \n",
       "1          False          False  \n",
       "2          False          False  \n",
       "3          False          False  \n",
       "4           True          False  "
      ]
     },
     "execution_count": 166,
     "metadata": {},
     "output_type": "execute_result"
    }
   ],
   "source": [
    "df_12 = pd.read_csv(r'change.org_topic\\change.org_topic_4_lockdowns.csv')\n",
    "df_12.head()"
   ]
  },
  {
   "cell_type": "code",
   "execution_count": 167,
   "metadata": {},
   "outputs": [
    {
     "name": "stdout",
     "output_type": "stream",
     "text": [
      "0\n",
      "0\n",
      "0\n",
      "0\n",
      "0\n"
     ]
    }
   ],
   "source": [
    "print(df_12['annotation_43'].isnull().sum())\n",
    "print(df_12['annotation_44'].isnull().sum())\n",
    "print(df_12['annotation_45'].isnull().sum())\n",
    "print(df_12['annotation_46'].isnull().sum())\n",
    "print(df_12['text'].isnull().sum())"
   ]
  },
  {
   "cell_type": "code",
   "execution_count": 168,
   "metadata": {},
   "outputs": [],
   "source": [
    "annotation_1= df_12['annotation_43']\n",
    "annotation_2= df_12['annotation_44']\n",
    "annotation_3= df_12['annotation_45']\n",
    "annotation_4= df_12['annotation_46']"
   ]
  },
  {
   "cell_type": "markdown",
   "metadata": {},
   "source": [
    "### Cohen_kappa average score of annotation 43"
   ]
  },
  {
   "cell_type": "code",
   "execution_count": 169,
   "metadata": {},
   "outputs": [],
   "source": [
    "def cohen_avg_1():\n",
    "    cohen_score_12 = cohen_kappa_score(annotation_1,annotation_2)\n",
    "    cohen_score_13 = cohen_kappa_score(annotation_1,annotation_3)\n",
    "    cohen_score_14 = cohen_kappa_score(annotation_1,annotation_4)\n",
    "    cohen_score_average_1 = round((cohen_score_12 + cohen_score_13 + cohen_score_14)/3,3)\n",
    "    print(\"Average Cohen Kappa Score for annotation 43:\",(cohen_score_average_1))\n",
    "    return cohen_score_average_1"
   ]
  },
  {
   "cell_type": "code",
   "execution_count": 170,
   "metadata": {},
   "outputs": [
    {
     "name": "stdout",
     "output_type": "stream",
     "text": [
      "Average Cohen Kappa Score for annotation 43: 0.095\n"
     ]
    },
    {
     "data": {
      "text/plain": [
       "0.095"
      ]
     },
     "execution_count": 170,
     "metadata": {},
     "output_type": "execute_result"
    }
   ],
   "source": [
    "cohen_avg_1()"
   ]
  },
  {
   "cell_type": "markdown",
   "metadata": {},
   "source": [
    "### Cohen_kappa average score of annotation 44"
   ]
  },
  {
   "cell_type": "code",
   "execution_count": 171,
   "metadata": {},
   "outputs": [],
   "source": [
    "def cohen_avg_2():\n",
    "    cohen_score_21 = cohen_kappa_score(annotation_2,annotation_1)\n",
    "    cohen_score_23 = cohen_kappa_score(annotation_2,annotation_3)\n",
    "    cohen_score_24 = cohen_kappa_score(annotation_2,annotation_4)\n",
    "    cohen_score_average_2 = round((cohen_score_21 + cohen_score_23 + cohen_score_24)/3,3)\n",
    "    print(\"Average Cohen Kappa Score for annotation 44:\",(cohen_score_average_2))\n",
    "    return cohen_score_average_2"
   ]
  },
  {
   "cell_type": "code",
   "execution_count": 172,
   "metadata": {},
   "outputs": [
    {
     "name": "stdout",
     "output_type": "stream",
     "text": [
      "Average Cohen Kappa Score for annotation 44: 0.36\n"
     ]
    },
    {
     "data": {
      "text/plain": [
       "0.36"
      ]
     },
     "execution_count": 172,
     "metadata": {},
     "output_type": "execute_result"
    }
   ],
   "source": [
    "cohen_avg_2()"
   ]
  },
  {
   "cell_type": "markdown",
   "metadata": {},
   "source": [
    "### Cohen_kappa average score of annotation 45"
   ]
  },
  {
   "cell_type": "code",
   "execution_count": 173,
   "metadata": {},
   "outputs": [],
   "source": [
    "def cohen_avg_3():\n",
    "    cohen_score_31 = cohen_kappa_score(annotation_3,annotation_1)\n",
    "    cohen_score_32 = cohen_kappa_score(annotation_3,annotation_2)\n",
    "    cohen_score_34 = cohen_kappa_score(annotation_3,annotation_4)\n",
    "    cohen_score_average_3 = round((cohen_score_31 + cohen_score_32 + cohen_score_34)/3,3)\n",
    "    print(\"Average Cohen Kappa Score for annotation 45:\",(cohen_score_average_3))\n",
    "    return cohen_score_average_3"
   ]
  },
  {
   "cell_type": "code",
   "execution_count": 174,
   "metadata": {},
   "outputs": [
    {
     "name": "stdout",
     "output_type": "stream",
     "text": [
      "Average Cohen Kappa Score for annotation 45: 0.38\n"
     ]
    },
    {
     "data": {
      "text/plain": [
       "0.38"
      ]
     },
     "execution_count": 174,
     "metadata": {},
     "output_type": "execute_result"
    }
   ],
   "source": [
    "cohen_avg_3()"
   ]
  },
  {
   "cell_type": "markdown",
   "metadata": {},
   "source": [
    "### Cohen_kappa average score of annotation 46"
   ]
  },
  {
   "cell_type": "code",
   "execution_count": 175,
   "metadata": {},
   "outputs": [],
   "source": [
    "def cohen_avg_4():\n",
    "    cohen_score_41 = cohen_kappa_score(annotation_4,annotation_1)\n",
    "    cohen_score_42 = cohen_kappa_score(annotation_4,annotation_2)\n",
    "    cohen_score_43 = cohen_kappa_score(annotation_4,annotation_3)\n",
    "    cohen_score_average_4 = round((cohen_score_41 + cohen_score_42 + cohen_score_43)/3,3)\n",
    "    print(\"Average Cohen Kappa Score for annotation 46:\",(cohen_score_average_4))\n",
    "    return cohen_score_average_4"
   ]
  },
  {
   "cell_type": "code",
   "execution_count": 176,
   "metadata": {},
   "outputs": [
    {
     "name": "stdout",
     "output_type": "stream",
     "text": [
      "Average Cohen Kappa Score for annotation 46: 0.386\n"
     ]
    },
    {
     "data": {
      "text/plain": [
       "0.386"
      ]
     },
     "execution_count": 176,
     "metadata": {},
     "output_type": "execute_result"
    }
   ],
   "source": [
    "cohen_avg_4()"
   ]
  },
  {
   "cell_type": "markdown",
   "metadata": {},
   "source": [
    "##### If average cohen kappa score for any annotation is less than 0.2, we will drop it"
   ]
  },
  {
   "cell_type": "code",
   "execution_count": 177,
   "metadata": {},
   "outputs": [],
   "source": [
    "def drop_annotate():\n",
    "    average = [cohen_avg_1(), cohen_avg_2(),cohen_avg_3(),cohen_avg_4()]\n",
    "    columns_name = ['annotation_43','annotation_44','annotation_45','annotation_46']\n",
    "    #columns =[annotation_1,annotation_2,annotation_3,annotation_4]\n",
    "    for i in range(0,len(average)):\n",
    "        if average[i]< 0.2:\n",
    "            print(columns_name[i])\n",
    "            print(average[i])\n",
    "            df_12.drop(columns_name[i], axis=1, inplace = True)\n",
    "    print(df_12.head())"
   ]
  },
  {
   "cell_type": "code",
   "execution_count": 178,
   "metadata": {},
   "outputs": [
    {
     "name": "stdout",
     "output_type": "stream",
     "text": [
      "Average Cohen Kappa Score for annotation 43: 0.095\n",
      "Average Cohen Kappa Score for annotation 44: 0.36\n",
      "Average Cohen Kappa Score for annotation 45: 0.38\n",
      "Average Cohen Kappa Score for annotation 46: 0.386\n",
      "annotation_43\n",
      "0.095\n",
      "                                           text  annotation_44  annotation_45  \\\n",
      "0          Save Western Ghats from annihilation          False          False   \n",
      "1                         Save Beacon Hill Park          False          False   \n",
      "2  Government of India: Don't Tax Medical Bills          False          False   \n",
      "3                              NO FAILING @ UCR          False          False   \n",
      "4                WIAA - Let them play football!          False           True   \n",
      "\n",
      "   annotation_46  \n",
      "0          False  \n",
      "1          False  \n",
      "2          False  \n",
      "3          False  \n",
      "4          False  \n"
     ]
    }
   ],
   "source": [
    "drop_annotate()"
   ]
  },
  {
   "cell_type": "code",
   "execution_count": null,
   "metadata": {},
   "outputs": [],
   "source": []
  },
  {
   "cell_type": "markdown",
   "metadata": {},
   "source": [
    "## change.org_topic_4_masking_and_distancing.csv\n",
    "\n"
   ]
  },
  {
   "cell_type": "code",
   "execution_count": 179,
   "metadata": {},
   "outputs": [
    {
     "data": {
      "text/html": [
       "<div>\n",
       "<style scoped>\n",
       "    .dataframe tbody tr th:only-of-type {\n",
       "        vertical-align: middle;\n",
       "    }\n",
       "\n",
       "    .dataframe tbody tr th {\n",
       "        vertical-align: top;\n",
       "    }\n",
       "\n",
       "    .dataframe thead th {\n",
       "        text-align: right;\n",
       "    }\n",
       "</style>\n",
       "<table border=\"1\" class=\"dataframe\">\n",
       "  <thead>\n",
       "    <tr style=\"text-align: right;\">\n",
       "      <th></th>\n",
       "      <th>text</th>\n",
       "      <th>annotation_43</th>\n",
       "      <th>annotation_44</th>\n",
       "      <th>annotation_45</th>\n",
       "      <th>annotation_46</th>\n",
       "    </tr>\n",
       "  </thead>\n",
       "  <tbody>\n",
       "    <tr>\n",
       "      <th>0</th>\n",
       "      <td>Save Western Ghats from annihilation</td>\n",
       "      <td>False</td>\n",
       "      <td>False</td>\n",
       "      <td>False</td>\n",
       "      <td>False</td>\n",
       "    </tr>\n",
       "    <tr>\n",
       "      <th>1</th>\n",
       "      <td>Save Beacon Hill Park</td>\n",
       "      <td>False</td>\n",
       "      <td>False</td>\n",
       "      <td>False</td>\n",
       "      <td>False</td>\n",
       "    </tr>\n",
       "    <tr>\n",
       "      <th>2</th>\n",
       "      <td>Government of India: Don't Tax Medical Bills</td>\n",
       "      <td>False</td>\n",
       "      <td>False</td>\n",
       "      <td>False</td>\n",
       "      <td>False</td>\n",
       "    </tr>\n",
       "    <tr>\n",
       "      <th>3</th>\n",
       "      <td>NO FAILING @ UCR</td>\n",
       "      <td>False</td>\n",
       "      <td>False</td>\n",
       "      <td>False</td>\n",
       "      <td>False</td>\n",
       "    </tr>\n",
       "    <tr>\n",
       "      <th>4</th>\n",
       "      <td>WIAA - Let them play football!</td>\n",
       "      <td>False</td>\n",
       "      <td>True</td>\n",
       "      <td>False</td>\n",
       "      <td>False</td>\n",
       "    </tr>\n",
       "  </tbody>\n",
       "</table>\n",
       "</div>"
      ],
      "text/plain": [
       "                                           text  annotation_43  annotation_44  \\\n",
       "0          Save Western Ghats from annihilation          False          False   \n",
       "1                         Save Beacon Hill Park          False          False   \n",
       "2  Government of India: Don't Tax Medical Bills          False          False   \n",
       "3                              NO FAILING @ UCR          False          False   \n",
       "4                WIAA - Let them play football!          False           True   \n",
       "\n",
       "   annotation_45  annotation_46  \n",
       "0          False          False  \n",
       "1          False          False  \n",
       "2          False          False  \n",
       "3          False          False  \n",
       "4          False          False  "
      ]
     },
     "execution_count": 179,
     "metadata": {},
     "output_type": "execute_result"
    }
   ],
   "source": [
    "df_13 = pd.read_csv(r'change.org_topic\\change.org_topic_4_masking_and_distancing.csv')\n",
    "df_13.head()"
   ]
  },
  {
   "cell_type": "code",
   "execution_count": 180,
   "metadata": {},
   "outputs": [
    {
     "name": "stdout",
     "output_type": "stream",
     "text": [
      "0\n",
      "0\n",
      "0\n",
      "0\n",
      "0\n"
     ]
    }
   ],
   "source": [
    "print(df_13['annotation_43'].isnull().sum())\n",
    "print(df_13['annotation_44'].isnull().sum())\n",
    "print(df_13['annotation_45'].isnull().sum())\n",
    "print(df_13['annotation_46'].isnull().sum())\n",
    "print(df_13['text'].isnull().sum())"
   ]
  },
  {
   "cell_type": "markdown",
   "metadata": {},
   "source": [
    "### Cohen_kappa average score of annotation 43"
   ]
  },
  {
   "cell_type": "code",
   "execution_count": 181,
   "metadata": {},
   "outputs": [],
   "source": [
    "def cohen_avg_1():\n",
    "    cohen_score_12 = cohen_kappa_score(annotation_1,annotation_2)\n",
    "    cohen_score_13 = cohen_kappa_score(annotation_1,annotation_3)\n",
    "    cohen_score_14 = cohen_kappa_score(annotation_1,annotation_4)\n",
    "    cohen_score_average_1 = round((cohen_score_12 + cohen_score_13 + cohen_score_14)/3,3)\n",
    "    print(\"Average Cohen Kappa Score for annotation 43:\",(cohen_score_average_1))\n",
    "    return cohen_score_average_1"
   ]
  },
  {
   "cell_type": "code",
   "execution_count": 182,
   "metadata": {},
   "outputs": [
    {
     "name": "stdout",
     "output_type": "stream",
     "text": [
      "Average Cohen Kappa Score for annotation 43: 0.095\n"
     ]
    },
    {
     "data": {
      "text/plain": [
       "0.095"
      ]
     },
     "execution_count": 182,
     "metadata": {},
     "output_type": "execute_result"
    }
   ],
   "source": [
    "cohen_avg_1()"
   ]
  },
  {
   "cell_type": "markdown",
   "metadata": {},
   "source": [
    "### Cohen_kappa average score of annotation 44"
   ]
  },
  {
   "cell_type": "code",
   "execution_count": 183,
   "metadata": {},
   "outputs": [],
   "source": [
    "def cohen_avg_2():\n",
    "    cohen_score_21 = cohen_kappa_score(annotation_2,annotation_1)\n",
    "    cohen_score_23 = cohen_kappa_score(annotation_2,annotation_3)\n",
    "    cohen_score_24 = cohen_kappa_score(annotation_2,annotation_4)\n",
    "    cohen_score_average_2 = round((cohen_score_21 + cohen_score_23 + cohen_score_24)/3,3)\n",
    "    print(\"Average Cohen Kappa Score for annotation 44:\",(cohen_score_average_2))\n",
    "    return cohen_score_average_2"
   ]
  },
  {
   "cell_type": "code",
   "execution_count": 184,
   "metadata": {},
   "outputs": [
    {
     "name": "stdout",
     "output_type": "stream",
     "text": [
      "Average Cohen Kappa Score for annotation 44: 0.36\n"
     ]
    },
    {
     "data": {
      "text/plain": [
       "0.36"
      ]
     },
     "execution_count": 184,
     "metadata": {},
     "output_type": "execute_result"
    }
   ],
   "source": [
    "cohen_avg_2()"
   ]
  },
  {
   "cell_type": "markdown",
   "metadata": {},
   "source": [
    "### Cohen_kappa average score of annotation 45"
   ]
  },
  {
   "cell_type": "code",
   "execution_count": 185,
   "metadata": {},
   "outputs": [],
   "source": [
    "def cohen_avg_3():\n",
    "    cohen_score_31 = cohen_kappa_score(annotation_3,annotation_1)\n",
    "    cohen_score_32 = cohen_kappa_score(annotation_3,annotation_2)\n",
    "    cohen_score_34 = cohen_kappa_score(annotation_3,annotation_4)\n",
    "    cohen_score_average_3 = round((cohen_score_31 + cohen_score_32 + cohen_score_34)/3,3)\n",
    "    print(\"Average Cohen Kappa Score for annotation 45:\",(cohen_score_average_3))\n",
    "    return cohen_score_average_3"
   ]
  },
  {
   "cell_type": "code",
   "execution_count": 186,
   "metadata": {},
   "outputs": [
    {
     "name": "stdout",
     "output_type": "stream",
     "text": [
      "Average Cohen Kappa Score for annotation 45: 0.38\n"
     ]
    },
    {
     "data": {
      "text/plain": [
       "0.38"
      ]
     },
     "execution_count": 186,
     "metadata": {},
     "output_type": "execute_result"
    }
   ],
   "source": [
    "cohen_avg_3()"
   ]
  },
  {
   "cell_type": "markdown",
   "metadata": {},
   "source": [
    "### Cohen_kappa average score of annotation 46"
   ]
  },
  {
   "cell_type": "code",
   "execution_count": 187,
   "metadata": {},
   "outputs": [],
   "source": [
    "def cohen_avg_4():\n",
    "    cohen_score_41 = cohen_kappa_score(annotation_4,annotation_1)\n",
    "    cohen_score_42 = cohen_kappa_score(annotation_4,annotation_2)\n",
    "    cohen_score_43 = cohen_kappa_score(annotation_4,annotation_3)\n",
    "    cohen_score_average_4 = round((cohen_score_41 + cohen_score_42 + cohen_score_43)/3,3)\n",
    "    print(\"Average Cohen Kappa Score for annotation 46:\",(cohen_score_average_4))\n",
    "    return cohen_score_average_4"
   ]
  },
  {
   "cell_type": "code",
   "execution_count": 188,
   "metadata": {},
   "outputs": [
    {
     "name": "stdout",
     "output_type": "stream",
     "text": [
      "Average Cohen Kappa Score for annotation 46: 0.386\n"
     ]
    },
    {
     "data": {
      "text/plain": [
       "0.386"
      ]
     },
     "execution_count": 188,
     "metadata": {},
     "output_type": "execute_result"
    }
   ],
   "source": [
    "cohen_avg_4()"
   ]
  },
  {
   "cell_type": "markdown",
   "metadata": {},
   "source": [
    "##### If average cohen kappa score for any annotation is less than 0.2, we will drop it"
   ]
  },
  {
   "cell_type": "code",
   "execution_count": 189,
   "metadata": {},
   "outputs": [],
   "source": [
    "def drop_annotate():\n",
    "    average = [cohen_avg_1(), cohen_avg_2(),cohen_avg_3(),cohen_avg_4()]\n",
    "    columns_name = ['annotation_43','annotation_44','annotation_45','annotation_46']\n",
    "    #columns =[annotation_1,annotation_2,annotation_3,annotation_4]\n",
    "    for i in range(0,len(average)):\n",
    "        if average[i]< 0.2:\n",
    "            print(columns_name[i])\n",
    "            print(average[i])\n",
    "            df_13.drop(columns_name[i], axis=1, inplace = True)\n",
    "    print(df_13.head())"
   ]
  },
  {
   "cell_type": "code",
   "execution_count": 190,
   "metadata": {},
   "outputs": [
    {
     "name": "stdout",
     "output_type": "stream",
     "text": [
      "Average Cohen Kappa Score for annotation 43: 0.095\n",
      "Average Cohen Kappa Score for annotation 44: 0.36\n",
      "Average Cohen Kappa Score for annotation 45: 0.38\n",
      "Average Cohen Kappa Score for annotation 46: 0.386\n",
      "annotation_43\n",
      "0.095\n",
      "                                           text  annotation_44  annotation_45  \\\n",
      "0          Save Western Ghats from annihilation          False          False   \n",
      "1                         Save Beacon Hill Park          False          False   \n",
      "2  Government of India: Don't Tax Medical Bills          False          False   \n",
      "3                              NO FAILING @ UCR          False          False   \n",
      "4                WIAA - Let them play football!           True          False   \n",
      "\n",
      "   annotation_46  \n",
      "0          False  \n",
      "1          False  \n",
      "2          False  \n",
      "3          False  \n",
      "4          False  \n"
     ]
    }
   ],
   "source": [
    "drop_annotate()"
   ]
  },
  {
   "cell_type": "markdown",
   "metadata": {},
   "source": [
    "## change.org_topic_4_vaccination.csv\n",
    "\n"
   ]
  },
  {
   "cell_type": "code",
   "execution_count": 191,
   "metadata": {},
   "outputs": [
    {
     "data": {
      "text/html": [
       "<div>\n",
       "<style scoped>\n",
       "    .dataframe tbody tr th:only-of-type {\n",
       "        vertical-align: middle;\n",
       "    }\n",
       "\n",
       "    .dataframe tbody tr th {\n",
       "        vertical-align: top;\n",
       "    }\n",
       "\n",
       "    .dataframe thead th {\n",
       "        text-align: right;\n",
       "    }\n",
       "</style>\n",
       "<table border=\"1\" class=\"dataframe\">\n",
       "  <thead>\n",
       "    <tr style=\"text-align: right;\">\n",
       "      <th></th>\n",
       "      <th>text</th>\n",
       "      <th>annotation_43</th>\n",
       "      <th>annotation_44</th>\n",
       "      <th>annotation_45</th>\n",
       "      <th>annotation_46</th>\n",
       "    </tr>\n",
       "  </thead>\n",
       "  <tbody>\n",
       "    <tr>\n",
       "      <th>0</th>\n",
       "      <td>Save Western Ghats from annihilation</td>\n",
       "      <td>False</td>\n",
       "      <td>False</td>\n",
       "      <td>False</td>\n",
       "      <td>False</td>\n",
       "    </tr>\n",
       "    <tr>\n",
       "      <th>1</th>\n",
       "      <td>Save Beacon Hill Park</td>\n",
       "      <td>False</td>\n",
       "      <td>False</td>\n",
       "      <td>False</td>\n",
       "      <td>False</td>\n",
       "    </tr>\n",
       "    <tr>\n",
       "      <th>2</th>\n",
       "      <td>Government of India: Don't Tax Medical Bills</td>\n",
       "      <td>False</td>\n",
       "      <td>False</td>\n",
       "      <td>False</td>\n",
       "      <td>False</td>\n",
       "    </tr>\n",
       "    <tr>\n",
       "      <th>3</th>\n",
       "      <td>NO FAILING @ UCR</td>\n",
       "      <td>False</td>\n",
       "      <td>False</td>\n",
       "      <td>False</td>\n",
       "      <td>False</td>\n",
       "    </tr>\n",
       "    <tr>\n",
       "      <th>4</th>\n",
       "      <td>WIAA - Let them play football!</td>\n",
       "      <td>False</td>\n",
       "      <td>False</td>\n",
       "      <td>False</td>\n",
       "      <td>False</td>\n",
       "    </tr>\n",
       "  </tbody>\n",
       "</table>\n",
       "</div>"
      ],
      "text/plain": [
       "                                           text  annotation_43  annotation_44  \\\n",
       "0          Save Western Ghats from annihilation          False          False   \n",
       "1                         Save Beacon Hill Park          False          False   \n",
       "2  Government of India: Don't Tax Medical Bills          False          False   \n",
       "3                              NO FAILING @ UCR          False          False   \n",
       "4                WIAA - Let them play football!          False          False   \n",
       "\n",
       "   annotation_45  annotation_46  \n",
       "0          False          False  \n",
       "1          False          False  \n",
       "2          False          False  \n",
       "3          False          False  \n",
       "4          False          False  "
      ]
     },
     "execution_count": 191,
     "metadata": {},
     "output_type": "execute_result"
    }
   ],
   "source": [
    "df_14 = pd.read_csv(r'change.org_topic\\change.org_topic_4_vaccination.csv')\n",
    "df_14.head()"
   ]
  },
  {
   "cell_type": "code",
   "execution_count": 192,
   "metadata": {},
   "outputs": [
    {
     "name": "stdout",
     "output_type": "stream",
     "text": [
      "0\n",
      "0\n",
      "0\n",
      "0\n",
      "0\n"
     ]
    }
   ],
   "source": [
    "print(df_14['annotation_43'].isnull().sum())\n",
    "print(df_14['annotation_44'].isnull().sum())\n",
    "print(df_14['annotation_45'].isnull().sum())\n",
    "print(df_14['annotation_46'].isnull().sum())\n",
    "print(df_14['text'].isnull().sum())"
   ]
  },
  {
   "cell_type": "markdown",
   "metadata": {},
   "source": [
    "### Cohen_kappa average score of annotation 43"
   ]
  },
  {
   "cell_type": "code",
   "execution_count": 193,
   "metadata": {},
   "outputs": [],
   "source": [
    "def cohen_avg_1():\n",
    "    cohen_score_12 = cohen_kappa_score(annotation_1,annotation_2)\n",
    "    cohen_score_13 = cohen_kappa_score(annotation_1,annotation_3)\n",
    "    cohen_score_14 = cohen_kappa_score(annotation_1,annotation_4)\n",
    "    cohen_score_average_1 = round((cohen_score_12 + cohen_score_13 + cohen_score_14)/3,3)\n",
    "    print(\"Average Cohen Kappa Score for annotation 43:\",(cohen_score_average_1))\n",
    "    return cohen_score_average_1"
   ]
  },
  {
   "cell_type": "code",
   "execution_count": 194,
   "metadata": {},
   "outputs": [
    {
     "name": "stdout",
     "output_type": "stream",
     "text": [
      "Average Cohen Kappa Score for annotation 43: 0.095\n"
     ]
    },
    {
     "data": {
      "text/plain": [
       "0.095"
      ]
     },
     "execution_count": 194,
     "metadata": {},
     "output_type": "execute_result"
    }
   ],
   "source": [
    "cohen_avg_1()"
   ]
  },
  {
   "cell_type": "markdown",
   "metadata": {},
   "source": [
    "### Cohen_kappa average score of annotation 44"
   ]
  },
  {
   "cell_type": "code",
   "execution_count": 195,
   "metadata": {},
   "outputs": [],
   "source": [
    "def cohen_avg_2():\n",
    "    cohen_score_21 = cohen_kappa_score(annotation_2,annotation_1)\n",
    "    cohen_score_23 = cohen_kappa_score(annotation_2,annotation_3)\n",
    "    cohen_score_24 = cohen_kappa_score(annotation_2,annotation_4)\n",
    "    cohen_score_average_2 = round((cohen_score_21 + cohen_score_23 + cohen_score_24)/3,3)\n",
    "    print(\"Average Cohen Kappa Score for annotation 44:\",(cohen_score_average_2))\n",
    "    return cohen_score_average_2"
   ]
  },
  {
   "cell_type": "code",
   "execution_count": 196,
   "metadata": {},
   "outputs": [
    {
     "name": "stdout",
     "output_type": "stream",
     "text": [
      "Average Cohen Kappa Score for annotation 44: 0.36\n"
     ]
    },
    {
     "data": {
      "text/plain": [
       "0.36"
      ]
     },
     "execution_count": 196,
     "metadata": {},
     "output_type": "execute_result"
    }
   ],
   "source": [
    "cohen_avg_2()"
   ]
  },
  {
   "cell_type": "markdown",
   "metadata": {},
   "source": [
    "### Cohen_kappa average score of annotation 45"
   ]
  },
  {
   "cell_type": "code",
   "execution_count": 197,
   "metadata": {},
   "outputs": [],
   "source": [
    "def cohen_avg_3():\n",
    "    cohen_score_31 = cohen_kappa_score(annotation_3,annotation_1)\n",
    "    cohen_score_32 = cohen_kappa_score(annotation_3,annotation_2)\n",
    "    cohen_score_34 = cohen_kappa_score(annotation_3,annotation_4)\n",
    "    cohen_score_average_3 = round((cohen_score_31 + cohen_score_32 + cohen_score_34)/3,3)\n",
    "    print(\"Average Cohen Kappa Score for annotation 45:\",(cohen_score_average_3))\n",
    "    return cohen_score_average_3"
   ]
  },
  {
   "cell_type": "code",
   "execution_count": 198,
   "metadata": {},
   "outputs": [
    {
     "name": "stdout",
     "output_type": "stream",
     "text": [
      "Average Cohen Kappa Score for annotation 45: 0.38\n"
     ]
    },
    {
     "data": {
      "text/plain": [
       "0.38"
      ]
     },
     "execution_count": 198,
     "metadata": {},
     "output_type": "execute_result"
    }
   ],
   "source": [
    "cohen_avg_3()"
   ]
  },
  {
   "cell_type": "markdown",
   "metadata": {},
   "source": [
    "### Cohen_kappa average score of annotation 46"
   ]
  },
  {
   "cell_type": "code",
   "execution_count": 199,
   "metadata": {},
   "outputs": [],
   "source": [
    "def cohen_avg_4():\n",
    "    cohen_score_41 = cohen_kappa_score(annotation_4,annotation_1)\n",
    "    cohen_score_42 = cohen_kappa_score(annotation_4,annotation_2)\n",
    "    cohen_score_43 = cohen_kappa_score(annotation_4,annotation_3)\n",
    "    cohen_score_average_4 = round((cohen_score_41 + cohen_score_42 + cohen_score_43)/3,3)\n",
    "    print(\"Average Cohen Kappa Score for annotation 46:\",(cohen_score_average_4))\n",
    "    return cohen_score_average_4"
   ]
  },
  {
   "cell_type": "code",
   "execution_count": 200,
   "metadata": {},
   "outputs": [
    {
     "name": "stdout",
     "output_type": "stream",
     "text": [
      "Average Cohen Kappa Score for annotation 46: 0.386\n"
     ]
    },
    {
     "data": {
      "text/plain": [
       "0.386"
      ]
     },
     "execution_count": 200,
     "metadata": {},
     "output_type": "execute_result"
    }
   ],
   "source": [
    "cohen_avg_4()"
   ]
  },
  {
   "cell_type": "markdown",
   "metadata": {},
   "source": [
    "##### If average cohen kappa score for any annotation is less than 0.2, we will drop it"
   ]
  },
  {
   "cell_type": "code",
   "execution_count": 201,
   "metadata": {},
   "outputs": [],
   "source": [
    "def drop_annotate():\n",
    "    average = [cohen_avg_1(), cohen_avg_2(),cohen_avg_3(),cohen_avg_4()]\n",
    "    columns_name = ['annotation_43','annotation_44','annotation_45','annotation_46']\n",
    "    #columns =[annotation_1,annotation_2,annotation_3,annotation_4]\n",
    "    for i in range(0,len(average)):\n",
    "        if average[i]< 0.2:\n",
    "            print(columns_name[i])\n",
    "            print(average[i])\n",
    "            df_14.drop(columns_name[i], axis=1, inplace = True)\n",
    "    print(df_14.head())"
   ]
  },
  {
   "cell_type": "code",
   "execution_count": 202,
   "metadata": {},
   "outputs": [
    {
     "name": "stdout",
     "output_type": "stream",
     "text": [
      "Average Cohen Kappa Score for annotation 43: 0.095\n",
      "Average Cohen Kappa Score for annotation 44: 0.36\n",
      "Average Cohen Kappa Score for annotation 45: 0.38\n",
      "Average Cohen Kappa Score for annotation 46: 0.386\n",
      "annotation_43\n",
      "0.095\n",
      "                                           text  annotation_44  annotation_45  \\\n",
      "0          Save Western Ghats from annihilation          False          False   \n",
      "1                         Save Beacon Hill Park          False          False   \n",
      "2  Government of India: Don't Tax Medical Bills          False          False   \n",
      "3                              NO FAILING @ UCR          False          False   \n",
      "4                WIAA - Let them play football!          False          False   \n",
      "\n",
      "   annotation_46  \n",
      "0          False  \n",
      "1          False  \n",
      "2          False  \n",
      "3          False  \n",
      "4          False  \n"
     ]
    }
   ],
   "source": [
    "drop_annotate()"
   ]
  },
  {
   "cell_type": "code",
   "execution_count": null,
   "metadata": {},
   "outputs": [],
   "source": []
  },
  {
   "cell_type": "code",
   "execution_count": null,
   "metadata": {},
   "outputs": [],
   "source": []
  },
  {
   "cell_type": "code",
   "execution_count": null,
   "metadata": {},
   "outputs": [],
   "source": []
  }
 ],
 "metadata": {
  "kernelspec": {
   "display_name": "Python 3",
   "language": "python",
   "name": "python3"
  },
  "language_info": {
   "codemirror_mode": {
    "name": "ipython",
    "version": 3
   },
   "file_extension": ".py",
   "mimetype": "text/x-python",
   "name": "python",
   "nbconvert_exporter": "python",
   "pygments_lexer": "ipython3",
   "version": "3.8.5"
  }
 },
 "nbformat": 4,
 "nbformat_minor": 5
}
