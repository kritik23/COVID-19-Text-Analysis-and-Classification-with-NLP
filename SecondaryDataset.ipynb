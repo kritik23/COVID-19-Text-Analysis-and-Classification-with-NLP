{
 "cells": [
  {
   "cell_type": "code",
   "execution_count": 73,
   "metadata": {},
   "outputs": [],
   "source": [
    "import sklearn\n",
    "from sklearn.metrics import cohen_kappa_score\n",
    "import pandas as pd"
   ]
  },
  {
   "cell_type": "markdown",
   "metadata": {},
   "source": [
    "## change.org_topic_0_lockdowns.csv"
   ]
  },
  {
   "cell_type": "code",
   "execution_count": 74,
   "metadata": {},
   "outputs": [
    {
     "data": {
      "text/html": [
       "<div>\n",
       "<style scoped>\n",
       "    .dataframe tbody tr th:only-of-type {\n",
       "        vertical-align: middle;\n",
       "    }\n",
       "\n",
       "    .dataframe tbody tr th {\n",
       "        vertical-align: top;\n",
       "    }\n",
       "\n",
       "    .dataframe thead th {\n",
       "        text-align: right;\n",
       "    }\n",
       "</style>\n",
       "<table border=\"1\" class=\"dataframe\">\n",
       "  <thead>\n",
       "    <tr style=\"text-align: right;\">\n",
       "      <th></th>\n",
       "      <th>text</th>\n",
       "      <th>annotation_96</th>\n",
       "      <th>annotation_53</th>\n",
       "      <th>annotation_93</th>\n",
       "      <th>annotation_94</th>\n",
       "      <th>annotation_95</th>\n",
       "    </tr>\n",
       "  </thead>\n",
       "  <tbody>\n",
       "    <tr>\n",
       "      <th>0</th>\n",
       "      <td>Language Education in the Time of COVID-19</td>\n",
       "      <td>False</td>\n",
       "      <td>False</td>\n",
       "      <td>False</td>\n",
       "      <td>False</td>\n",
       "      <td>False</td>\n",
       "    </tr>\n",
       "    <tr>\n",
       "      <th>1</th>\n",
       "      <td>COVID-19 Test Kits</td>\n",
       "      <td>False</td>\n",
       "      <td>False</td>\n",
       "      <td>False</td>\n",
       "      <td>False</td>\n",
       "      <td>False</td>\n",
       "    </tr>\n",
       "    <tr>\n",
       "      <th>2</th>\n",
       "      <td>COVID 19 IN PRISON</td>\n",
       "      <td>False</td>\n",
       "      <td>False</td>\n",
       "      <td>False</td>\n",
       "      <td>False</td>\n",
       "      <td>False</td>\n",
       "    </tr>\n",
       "    <tr>\n",
       "      <th>3</th>\n",
       "      <td>Get Waled Home</td>\n",
       "      <td>False</td>\n",
       "      <td>False</td>\n",
       "      <td>False</td>\n",
       "      <td>False</td>\n",
       "      <td>False</td>\n",
       "    </tr>\n",
       "    <tr>\n",
       "      <th>4</th>\n",
       "      <td>Make pass/fail available for Mississippi State...</td>\n",
       "      <td>False</td>\n",
       "      <td>False</td>\n",
       "      <td>False</td>\n",
       "      <td>False</td>\n",
       "      <td>False</td>\n",
       "    </tr>\n",
       "  </tbody>\n",
       "</table>\n",
       "</div>"
      ],
      "text/plain": [
       "                                                text  annotation_96  \\\n",
       "0         Language Education in the Time of COVID-19          False   \n",
       "1                                 COVID-19 Test Kits          False   \n",
       "2                                 COVID 19 IN PRISON          False   \n",
       "3                                     Get Waled Home          False   \n",
       "4  Make pass/fail available for Mississippi State...          False   \n",
       "\n",
       "   annotation_53  annotation_93  annotation_94  annotation_95  \n",
       "0          False          False          False          False  \n",
       "1          False          False          False          False  \n",
       "2          False          False          False          False  \n",
       "3          False          False          False          False  \n",
       "4          False          False          False          False  "
      ]
     },
     "execution_count": 74,
     "metadata": {},
     "output_type": "execute_result"
    }
   ],
   "source": [
    "df = pd.read_csv(r'change.org_topic\\change.org_topic_0_lockdowns.csv')\n",
    "df.head()"
   ]
  },
  {
   "cell_type": "code",
   "execution_count": 75,
   "metadata": {},
   "outputs": [
    {
     "name": "stdout",
     "output_type": "stream",
     "text": [
      "0\n",
      "0\n",
      "0\n",
      "0\n",
      "0\n",
      "0\n"
     ]
    }
   ],
   "source": [
    "print(df['annotation_53'].isnull().sum())\n",
    "print(df['annotation_93'].isnull().sum())\n",
    "print(df['annotation_94'].isnull().sum())\n",
    "print(df['annotation_95'].isnull().sum())\n",
    "print(df['annotation_96'].isnull().sum())\n",
    "print(df['text'].isnull().sum())"
   ]
  },
  {
   "cell_type": "code",
   "execution_count": 76,
   "metadata": {},
   "outputs": [],
   "source": [
    "annot_1= df['annotation_53']\n",
    "annot_2= df['annotation_93']\n",
    "annot_3= df['annotation_94']\n",
    "annot_4= df['annotation_95']\n",
    "annot_5= df['annotation_96']"
   ]
  },
  {
   "cell_type": "markdown",
   "metadata": {},
   "source": [
    "### Cohen_kappa average score of annotation 53"
   ]
  },
  {
   "cell_type": "code",
   "execution_count": 77,
   "metadata": {},
   "outputs": [],
   "source": [
    "def cohen_avg_1():\n",
    "    cohen_score_12 = cohen_kappa_score(annot_1,annot_2)\n",
    "    cohen_score_13 = cohen_kappa_score(annot_1,annot_3)\n",
    "    cohen_score_14 = cohen_kappa_score(annot_1,annot_4)\n",
    "    cohen_score_15 = cohen_kappa_score(annot_1,annot_5)\n",
    "    cohen_score_average_1 = round((cohen_score_12 + cohen_score_13 + cohen_score_14+ cohen_score_15)/4,3)\n",
    "    print(\"Average Cohen Kappa Score for annotation 53:\",(cohen_score_average_1))\n",
    "    return cohen_score_average_1"
   ]
  },
  {
   "cell_type": "code",
   "execution_count": 78,
   "metadata": {
    "scrolled": true
   },
   "outputs": [
    {
     "name": "stdout",
     "output_type": "stream",
     "text": [
      "Average Cohen Kappa Score for annotation 53: 0.038\n"
     ]
    },
    {
     "data": {
      "text/plain": [
       "0.038"
      ]
     },
     "execution_count": 78,
     "metadata": {},
     "output_type": "execute_result"
    }
   ],
   "source": [
    "cohen_avg_1()"
   ]
  },
  {
   "cell_type": "markdown",
   "metadata": {},
   "source": [
    "### Cohen_kappa average score of annotation 93"
   ]
  },
  {
   "cell_type": "code",
   "execution_count": 79,
   "metadata": {},
   "outputs": [],
   "source": [
    "def cohen_avg_2():\n",
    "    cohen_score_21 = cohen_kappa_score(annot_2,annot_1)\n",
    "    cohen_score_23 = cohen_kappa_score(annot_2,annot_3)\n",
    "    cohen_score_24 = cohen_kappa_score(annot_2,annot_4)\n",
    "    cohen_score_25 = cohen_kappa_score(annot_2,annot_5)\n",
    "    cohen_score_average_2 = round((cohen_score_21 + cohen_score_23 + cohen_score_24+ cohen_score_25)/4,3)\n",
    "    print(\"Average Cohen Kappa Score for annotation 93:\",(cohen_score_average_2))\n",
    "    return cohen_score_average_2"
   ]
  },
  {
   "cell_type": "code",
   "execution_count": 80,
   "metadata": {},
   "outputs": [
    {
     "name": "stdout",
     "output_type": "stream",
     "text": [
      "Average Cohen Kappa Score for annotation 93: 0.346\n"
     ]
    },
    {
     "data": {
      "text/plain": [
       "0.346"
      ]
     },
     "execution_count": 80,
     "metadata": {},
     "output_type": "execute_result"
    }
   ],
   "source": [
    "cohen_avg_2()"
   ]
  },
  {
   "cell_type": "markdown",
   "metadata": {},
   "source": [
    "### Cohen_kappa average score of annotation 94"
   ]
  },
  {
   "cell_type": "code",
   "execution_count": 81,
   "metadata": {},
   "outputs": [],
   "source": [
    "def cohen_avg_3():\n",
    "    cohen_score_31 = cohen_kappa_score(annot_3,annot_1)\n",
    "    cohen_score_32 = cohen_kappa_score(annot_3,annot_2)\n",
    "    cohen_score_34 = cohen_kappa_score(annot_3,annot_4)\n",
    "    cohen_score_35 = cohen_kappa_score(annot_3,annot_5)\n",
    "    cohen_score_average_3 = round((cohen_score_31 + cohen_score_32 + cohen_score_34+ cohen_score_35)/4,3)\n",
    "    print(\"Average Cohen Kappa Score for annotation 94:\",(cohen_score_average_3))\n",
    "    return cohen_score_average_3"
   ]
  },
  {
   "cell_type": "code",
   "execution_count": 82,
   "metadata": {},
   "outputs": [
    {
     "name": "stdout",
     "output_type": "stream",
     "text": [
      "Average Cohen Kappa Score for annotation 94: 0.428\n"
     ]
    },
    {
     "data": {
      "text/plain": [
       "0.428"
      ]
     },
     "execution_count": 82,
     "metadata": {},
     "output_type": "execute_result"
    }
   ],
   "source": [
    "cohen_avg_3()"
   ]
  },
  {
   "cell_type": "markdown",
   "metadata": {},
   "source": [
    "### Cohen_kappa average score of annotation 95"
   ]
  },
  {
   "cell_type": "code",
   "execution_count": 83,
   "metadata": {},
   "outputs": [],
   "source": [
    "def cohen_avg_4():\n",
    "    cohen_score_41 = cohen_kappa_score(annot_4,annot_1)\n",
    "    cohen_score_42 = cohen_kappa_score(annot_4,annot_2)\n",
    "    cohen_score_43 = cohen_kappa_score(annot_4,annot_3)\n",
    "    cohen_score_45 = cohen_kappa_score(annot_4,annot_5)\n",
    "    cohen_score_average_4 = round((cohen_score_41 + cohen_score_42 + cohen_score_43 + cohen_score_45)/4,3)\n",
    "    print(\"Average Cohen Kappa Score for annotation 95:\",(cohen_score_average_4))\n",
    "    return cohen_score_average_4"
   ]
  },
  {
   "cell_type": "code",
   "execution_count": 84,
   "metadata": {},
   "outputs": [
    {
     "name": "stdout",
     "output_type": "stream",
     "text": [
      "Average Cohen Kappa Score for annotation 95: 0.425\n"
     ]
    },
    {
     "data": {
      "text/plain": [
       "0.425"
      ]
     },
     "execution_count": 84,
     "metadata": {},
     "output_type": "execute_result"
    }
   ],
   "source": [
    "cohen_avg_4()"
   ]
  },
  {
   "cell_type": "markdown",
   "metadata": {},
   "source": [
    "### Cohen_kappa average score of annotation 96"
   ]
  },
  {
   "cell_type": "code",
   "execution_count": 85,
   "metadata": {},
   "outputs": [],
   "source": [
    "def cohen_avg_5():\n",
    "    cohen_score_51 = cohen_kappa_score(annot_5,annot_1)\n",
    "    cohen_score_52 = cohen_kappa_score(annot_5,annot_2)\n",
    "    cohen_score_53 = cohen_kappa_score(annot_5,annot_3)\n",
    "    cohen_score_54 = cohen_kappa_score(annot_5,annot_4)\n",
    "    cohen_score_average_5 = round((cohen_score_51 + cohen_score_52 + cohen_score_53 + cohen_score_54)/4,3)\n",
    "    print(\"Average Cohen Kappa Score for annotation 96:\",(cohen_score_average_5))\n",
    "    return cohen_score_average_5"
   ]
  },
  {
   "cell_type": "code",
   "execution_count": 86,
   "metadata": {},
   "outputs": [
    {
     "name": "stdout",
     "output_type": "stream",
     "text": [
      "Average Cohen Kappa Score for annotation 96: 0.377\n"
     ]
    },
    {
     "data": {
      "text/plain": [
       "0.377"
      ]
     },
     "execution_count": 86,
     "metadata": {},
     "output_type": "execute_result"
    }
   ],
   "source": [
    "cohen_avg_5()"
   ]
  },
  {
   "cell_type": "markdown",
   "metadata": {},
   "source": [
    "##### If average cohen kappa score for any annotation is less than 0.2, we will drop it"
   ]
  },
  {
   "cell_type": "code",
   "execution_count": 87,
   "metadata": {},
   "outputs": [],
   "source": [
    "def drop_annotate():\n",
    "    average = [cohen_avg_1(), cohen_avg_2(),cohen_avg_3(),cohen_avg_4(),cohen_avg_5()]\n",
    "    columns_name = ['annotation_53','annotation_93','annotation_94','annotation_95','annotation_96']\n",
    "    #columns =[annotation_1,annotation_2,annotation_3,annotation_4]\n",
    "    for i in range(0,len(average)):\n",
    "        if average[i]< 0.2:\n",
    "            print(\"\\n\")\n",
    "            print(columns_name[i])\n",
    "            print(average[i])\n",
    "            df.drop(columns_name[i], axis=1, inplace = True)\n",
    "    print(df.head())"
   ]
  },
  {
   "cell_type": "code",
   "execution_count": 88,
   "metadata": {
    "scrolled": true
   },
   "outputs": [
    {
     "name": "stdout",
     "output_type": "stream",
     "text": [
      "Average Cohen Kappa Score for annotation 53: 0.038\n",
      "Average Cohen Kappa Score for annotation 93: 0.346\n",
      "Average Cohen Kappa Score for annotation 94: 0.428\n",
      "Average Cohen Kappa Score for annotation 95: 0.425\n",
      "Average Cohen Kappa Score for annotation 96: 0.377\n",
      "\n",
      "\n",
      "annotation_53\n",
      "0.038\n",
      "                                                text  annotation_96  \\\n",
      "0         Language Education in the Time of COVID-19          False   \n",
      "1                                 COVID-19 Test Kits          False   \n",
      "2                                 COVID 19 IN PRISON          False   \n",
      "3                                     Get Waled Home          False   \n",
      "4  Make pass/fail available for Mississippi State...          False   \n",
      "\n",
      "   annotation_93  annotation_94  annotation_95  \n",
      "0          False          False          False  \n",
      "1          False          False          False  \n",
      "2          False          False          False  \n",
      "3          False          False          False  \n",
      "4          False          False          False  \n"
     ]
    }
   ],
   "source": [
    "drop_annotate()"
   ]
  },
  {
   "cell_type": "code",
   "execution_count": 89,
   "metadata": {},
   "outputs": [],
   "source": [
    "def finalLabel(df):\n",
    "    for index, rows in df.iterrows():\n",
    "        compare = [[cohen_avg_2(),rows['annotation_93']],\n",
    "                   [cohen_avg_3(),rows['annotation_94']],\n",
    "                   [cohen_avg_4(),rows['annotation_95']],\n",
    "                    [cohen_avg_5(),rows['annotation_96']]]\n",
    "        boolean = [rows['annotation_93'],rows['annotation_94'],rows['annotation_95'],rows['annotation_96']]\n",
    "        compare.sort(key = lambda k:k[0])\n",
    "        t = compare.count('True')\n",
    "        f = compare.count('False')\n",
    "        if t == f: \n",
    "            kapaValue, colValue = compare[-1]\n",
    "            df.loc[index, 'Final Label'] = colValue\n",
    "            \n",
    "        elif t!=f:\n",
    "            if t > f:\n",
    "                df.loc[index, 'Final Label'] = True\n",
    "            else:\n",
    "                df.loc[index, 'Final Label'] = False\n",
    "    \n",
    "\n"
   ]
  },
  {
   "cell_type": "code",
   "execution_count": 90,
   "metadata": {},
   "outputs": [
    {
     "name": "stdout",
     "output_type": "stream",
     "text": [
      "Average Cohen Kappa Score for annotation 93: 0.346\n",
      "Average Cohen Kappa Score for annotation 94: 0.428\n",
      "Average Cohen Kappa Score for annotation 95: 0.425\n",
      "Average Cohen Kappa Score for annotation 96: 0.377\n",
      "Average Cohen Kappa Score for annotation 93: 0.346\n",
      "Average Cohen Kappa Score for annotation 94: 0.428\n",
      "Average Cohen Kappa Score for annotation 95: 0.425\n",
      "Average Cohen Kappa Score for annotation 96: 0.377\n",
      "Average Cohen Kappa Score for annotation 93: 0.346\n",
      "Average Cohen Kappa Score for annotation 94: 0.428\n",
      "Average Cohen Kappa Score for annotation 95: 0.425\n",
      "Average Cohen Kappa Score for annotation 96: 0.377\n",
      "Average Cohen Kappa Score for annotation 93: 0.346\n",
      "Average Cohen Kappa Score for annotation 94: 0.428\n",
      "Average Cohen Kappa Score for annotation 95: 0.425\n",
      "Average Cohen Kappa Score for annotation 96: 0.377\n",
      "Average Cohen Kappa Score for annotation 93: 0.346\n",
      "Average Cohen Kappa Score for annotation 94: 0.428\n",
      "Average Cohen Kappa Score for annotation 95: 0.425\n",
      "Average Cohen Kappa Score for annotation 96: 0.377\n",
      "Average Cohen Kappa Score for annotation 93: 0.346\n",
      "Average Cohen Kappa Score for annotation 94: 0.428\n",
      "Average Cohen Kappa Score for annotation 95: 0.425\n",
      "Average Cohen Kappa Score for annotation 96: 0.377\n",
      "Average Cohen Kappa Score for annotation 93: 0.346\n",
      "Average Cohen Kappa Score for annotation 94: 0.428\n",
      "Average Cohen Kappa Score for annotation 95: 0.425\n",
      "Average Cohen Kappa Score for annotation 96: 0.377\n",
      "Average Cohen Kappa Score for annotation 93: 0.346\n",
      "Average Cohen Kappa Score for annotation 94: 0.428\n",
      "Average Cohen Kappa Score for annotation 95: 0.425\n",
      "Average Cohen Kappa Score for annotation 96: 0.377\n",
      "Average Cohen Kappa Score for annotation 93: 0.346\n",
      "Average Cohen Kappa Score for annotation 94: 0.428\n",
      "Average Cohen Kappa Score for annotation 95: 0.425\n",
      "Average Cohen Kappa Score for annotation 96: 0.377\n",
      "Average Cohen Kappa Score for annotation 93: 0.346\n",
      "Average Cohen Kappa Score for annotation 94: 0.428\n",
      "Average Cohen Kappa Score for annotation 95: 0.425\n",
      "Average Cohen Kappa Score for annotation 96: 0.377\n",
      "Average Cohen Kappa Score for annotation 93: 0.346\n",
      "Average Cohen Kappa Score for annotation 94: 0.428\n",
      "Average Cohen Kappa Score for annotation 95: 0.425\n",
      "Average Cohen Kappa Score for annotation 96: 0.377\n",
      "Average Cohen Kappa Score for annotation 93: 0.346\n",
      "Average Cohen Kappa Score for annotation 94: 0.428\n",
      "Average Cohen Kappa Score for annotation 95: 0.425\n",
      "Average Cohen Kappa Score for annotation 96: 0.377\n",
      "Average Cohen Kappa Score for annotation 93: 0.346\n",
      "Average Cohen Kappa Score for annotation 94: 0.428\n",
      "Average Cohen Kappa Score for annotation 95: 0.425\n",
      "Average Cohen Kappa Score for annotation 96: 0.377\n",
      "Average Cohen Kappa Score for annotation 93: 0.346\n",
      "Average Cohen Kappa Score for annotation 94: 0.428\n",
      "Average Cohen Kappa Score for annotation 95: 0.425\n",
      "Average Cohen Kappa Score for annotation 96: 0.377\n",
      "Average Cohen Kappa Score for annotation 93: 0.346\n",
      "Average Cohen Kappa Score for annotation 94: 0.428\n",
      "Average Cohen Kappa Score for annotation 95: 0.425\n",
      "Average Cohen Kappa Score for annotation 96: 0.377\n",
      "Average Cohen Kappa Score for annotation 93: 0.346\n",
      "Average Cohen Kappa Score for annotation 94: 0.428\n",
      "Average Cohen Kappa Score for annotation 95: 0.425\n",
      "Average Cohen Kappa Score for annotation 96: 0.377\n",
      "Average Cohen Kappa Score for annotation 93: 0.346\n",
      "Average Cohen Kappa Score for annotation 94: 0.428\n",
      "Average Cohen Kappa Score for annotation 95: 0.425\n",
      "Average Cohen Kappa Score for annotation 96: 0.377\n",
      "Average Cohen Kappa Score for annotation 93: 0.346\n",
      "Average Cohen Kappa Score for annotation 94: 0.428\n",
      "Average Cohen Kappa Score for annotation 95: 0.425\n",
      "Average Cohen Kappa Score for annotation 96: 0.377\n",
      "Average Cohen Kappa Score for annotation 93: 0.346\n",
      "Average Cohen Kappa Score for annotation 94: 0.428\n",
      "Average Cohen Kappa Score for annotation 95: 0.425\n",
      "Average Cohen Kappa Score for annotation 96: 0.377\n",
      "Average Cohen Kappa Score for annotation 93: 0.346\n",
      "Average Cohen Kappa Score for annotation 94: 0.428\n",
      "Average Cohen Kappa Score for annotation 95: 0.425\n",
      "Average Cohen Kappa Score for annotation 96: 0.377\n",
      "Average Cohen Kappa Score for annotation 93: 0.346\n",
      "Average Cohen Kappa Score for annotation 94: 0.428\n",
      "Average Cohen Kappa Score for annotation 95: 0.425\n",
      "Average Cohen Kappa Score for annotation 96: 0.377\n",
      "Average Cohen Kappa Score for annotation 93: 0.346\n",
      "Average Cohen Kappa Score for annotation 94: 0.428\n",
      "Average Cohen Kappa Score for annotation 95: 0.425\n",
      "Average Cohen Kappa Score for annotation 96: 0.377\n",
      "Average Cohen Kappa Score for annotation 93: 0.346\n",
      "Average Cohen Kappa Score for annotation 94: 0.428\n",
      "Average Cohen Kappa Score for annotation 95: 0.425\n",
      "Average Cohen Kappa Score for annotation 96: 0.377\n",
      "Average Cohen Kappa Score for annotation 93: 0.346\n",
      "Average Cohen Kappa Score for annotation 94: 0.428\n",
      "Average Cohen Kappa Score for annotation 95: 0.425\n",
      "Average Cohen Kappa Score for annotation 96: 0.377\n",
      "Average Cohen Kappa Score for annotation 93: 0.346\n",
      "Average Cohen Kappa Score for annotation 94: 0.428\n",
      "Average Cohen Kappa Score for annotation 95: 0.425\n",
      "Average Cohen Kappa Score for annotation 96: 0.377\n",
      "Average Cohen Kappa Score for annotation 93: 0.346\n",
      "Average Cohen Kappa Score for annotation 94: 0.428\n",
      "Average Cohen Kappa Score for annotation 95: 0.425\n",
      "Average Cohen Kappa Score for annotation 96: 0.377\n",
      "Average Cohen Kappa Score for annotation 93: 0.346\n",
      "Average Cohen Kappa Score for annotation 94: 0.428\n",
      "Average Cohen Kappa Score for annotation 95: 0.425\n",
      "Average Cohen Kappa Score for annotation 96: 0.377\n",
      "Average Cohen Kappa Score for annotation 93: 0.346\n",
      "Average Cohen Kappa Score for annotation 94: 0.428\n",
      "Average Cohen Kappa Score for annotation 95: 0.425\n",
      "Average Cohen Kappa Score for annotation 96: 0.377\n",
      "Average Cohen Kappa Score for annotation 93: 0.346\n",
      "Average Cohen Kappa Score for annotation 94: 0.428\n",
      "Average Cohen Kappa Score for annotation 95: 0.425\n",
      "Average Cohen Kappa Score for annotation 96: 0.377\n",
      "Average Cohen Kappa Score for annotation 93: 0.346\n",
      "Average Cohen Kappa Score for annotation 94: 0.428\n",
      "Average Cohen Kappa Score for annotation 95: 0.425\n",
      "Average Cohen Kappa Score for annotation 96: 0.377\n",
      "Average Cohen Kappa Score for annotation 93: 0.346\n",
      "Average Cohen Kappa Score for annotation 94: 0.428\n",
      "Average Cohen Kappa Score for annotation 95: 0.425\n",
      "Average Cohen Kappa Score for annotation 96: 0.377\n",
      "Average Cohen Kappa Score for annotation 93: 0.346\n",
      "Average Cohen Kappa Score for annotation 94: 0.428\n",
      "Average Cohen Kappa Score for annotation 95: 0.425\n",
      "Average Cohen Kappa Score for annotation 96: 0.377\n",
      "Average Cohen Kappa Score for annotation 93: 0.346\n",
      "Average Cohen Kappa Score for annotation 94: 0.428\n",
      "Average Cohen Kappa Score for annotation 95: 0.425\n",
      "Average Cohen Kappa Score for annotation 96: 0.377\n",
      "Average Cohen Kappa Score for annotation 93: 0.346\n",
      "Average Cohen Kappa Score for annotation 94: 0.428\n",
      "Average Cohen Kappa Score for annotation 95: 0.425\n",
      "Average Cohen Kappa Score for annotation 96: 0.377\n",
      "Average Cohen Kappa Score for annotation 93: 0.346\n",
      "Average Cohen Kappa Score for annotation 94: 0.428\n",
      "Average Cohen Kappa Score for annotation 95: 0.425\n",
      "Average Cohen Kappa Score for annotation 96: 0.377\n",
      "Average Cohen Kappa Score for annotation 93: 0.346\n",
      "Average Cohen Kappa Score for annotation 94: 0.428\n",
      "Average Cohen Kappa Score for annotation 95: 0.425\n",
      "Average Cohen Kappa Score for annotation 96: 0.377\n",
      "Average Cohen Kappa Score for annotation 93: 0.346\n",
      "Average Cohen Kappa Score for annotation 94: 0.428\n",
      "Average Cohen Kappa Score for annotation 95: 0.425\n",
      "Average Cohen Kappa Score for annotation 96: 0.377\n",
      "Average Cohen Kappa Score for annotation 93: 0.346\n",
      "Average Cohen Kappa Score for annotation 94: 0.428\n",
      "Average Cohen Kappa Score for annotation 95: 0.425\n",
      "Average Cohen Kappa Score for annotation 96: 0.377\n",
      "Average Cohen Kappa Score for annotation 93: 0.346\n",
      "Average Cohen Kappa Score for annotation 94: 0.428\n",
      "Average Cohen Kappa Score for annotation 95: 0.425\n",
      "Average Cohen Kappa Score for annotation 96: 0.377\n",
      "Average Cohen Kappa Score for annotation 93: 0.346\n",
      "Average Cohen Kappa Score for annotation 94: 0.428\n",
      "Average Cohen Kappa Score for annotation 95: 0.425\n",
      "Average Cohen Kappa Score for annotation 96: 0.377\n",
      "Average Cohen Kappa Score for annotation 93: 0.346\n",
      "Average Cohen Kappa Score for annotation 94: 0.428\n",
      "Average Cohen Kappa Score for annotation 95: 0.425\n",
      "Average Cohen Kappa Score for annotation 96: 0.377\n",
      "Average Cohen Kappa Score for annotation 93: 0.346\n",
      "Average Cohen Kappa Score for annotation 94: 0.428\n",
      "Average Cohen Kappa Score for annotation 95: 0.425\n",
      "Average Cohen Kappa Score for annotation 96: 0.377\n",
      "Average Cohen Kappa Score for annotation 93: 0.346\n",
      "Average Cohen Kappa Score for annotation 94: 0.428\n",
      "Average Cohen Kappa Score for annotation 95: 0.425\n",
      "Average Cohen Kappa Score for annotation 96: 0.377\n",
      "Average Cohen Kappa Score for annotation 93: 0.346\n",
      "Average Cohen Kappa Score for annotation 94: 0.428\n",
      "Average Cohen Kappa Score for annotation 95: 0.425\n",
      "Average Cohen Kappa Score for annotation 96: 0.377\n",
      "Average Cohen Kappa Score for annotation 93: 0.346\n",
      "Average Cohen Kappa Score for annotation 94: 0.428\n",
      "Average Cohen Kappa Score for annotation 95: 0.425\n",
      "Average Cohen Kappa Score for annotation 96: 0.377\n",
      "Average Cohen Kappa Score for annotation 93: 0.346\n",
      "Average Cohen Kappa Score for annotation 94: 0.428\n",
      "Average Cohen Kappa Score for annotation 95: 0.425\n",
      "Average Cohen Kappa Score for annotation 96: 0.377\n",
      "Average Cohen Kappa Score for annotation 93: 0.346\n",
      "Average Cohen Kappa Score for annotation 94: 0.428\n",
      "Average Cohen Kappa Score for annotation 95: 0.425\n",
      "Average Cohen Kappa Score for annotation 96: 0.377\n",
      "Average Cohen Kappa Score for annotation 93: 0.346\n",
      "Average Cohen Kappa Score for annotation 94: 0.428\n",
      "Average Cohen Kappa Score for annotation 95: 0.425\n",
      "Average Cohen Kappa Score for annotation 96: 0.377\n"
     ]
    },
    {
     "name": "stdout",
     "output_type": "stream",
     "text": [
      "Average Cohen Kappa Score for annotation 93: 0.346\n",
      "Average Cohen Kappa Score for annotation 94: 0.428\n",
      "Average Cohen Kappa Score for annotation 95: 0.425\n",
      "Average Cohen Kappa Score for annotation 96: 0.377\n",
      "Average Cohen Kappa Score for annotation 93: 0.346\n",
      "Average Cohen Kappa Score for annotation 94: 0.428\n",
      "Average Cohen Kappa Score for annotation 95: 0.425\n",
      "Average Cohen Kappa Score for annotation 96: 0.377\n",
      "Average Cohen Kappa Score for annotation 93: 0.346\n",
      "Average Cohen Kappa Score for annotation 94: 0.428\n",
      "Average Cohen Kappa Score for annotation 95: 0.425\n",
      "Average Cohen Kappa Score for annotation 96: 0.377\n",
      "Average Cohen Kappa Score for annotation 93: 0.346\n",
      "Average Cohen Kappa Score for annotation 94: 0.428\n",
      "Average Cohen Kappa Score for annotation 95: 0.425\n",
      "Average Cohen Kappa Score for annotation 96: 0.377\n",
      "Average Cohen Kappa Score for annotation 93: 0.346\n",
      "Average Cohen Kappa Score for annotation 94: 0.428\n",
      "Average Cohen Kappa Score for annotation 95: 0.425\n",
      "Average Cohen Kappa Score for annotation 96: 0.377\n",
      "Average Cohen Kappa Score for annotation 93: 0.346\n",
      "Average Cohen Kappa Score for annotation 94: 0.428\n",
      "Average Cohen Kappa Score for annotation 95: 0.425\n",
      "Average Cohen Kappa Score for annotation 96: 0.377\n",
      "Average Cohen Kappa Score for annotation 93: 0.346\n",
      "Average Cohen Kappa Score for annotation 94: 0.428\n",
      "Average Cohen Kappa Score for annotation 95: 0.425\n",
      "Average Cohen Kappa Score for annotation 96: 0.377\n",
      "Average Cohen Kappa Score for annotation 93: 0.346\n",
      "Average Cohen Kappa Score for annotation 94: 0.428\n",
      "Average Cohen Kappa Score for annotation 95: 0.425\n",
      "Average Cohen Kappa Score for annotation 96: 0.377\n",
      "Average Cohen Kappa Score for annotation 93: 0.346\n",
      "Average Cohen Kappa Score for annotation 94: 0.428\n",
      "Average Cohen Kappa Score for annotation 95: 0.425\n",
      "Average Cohen Kappa Score for annotation 96: 0.377\n",
      "Average Cohen Kappa Score for annotation 93: 0.346\n",
      "Average Cohen Kappa Score for annotation 94: 0.428\n",
      "Average Cohen Kappa Score for annotation 95: 0.425\n",
      "Average Cohen Kappa Score for annotation 96: 0.377\n",
      "Average Cohen Kappa Score for annotation 93: 0.346\n",
      "Average Cohen Kappa Score for annotation 94: 0.428\n",
      "Average Cohen Kappa Score for annotation 95: 0.425\n",
      "Average Cohen Kappa Score for annotation 96: 0.377\n",
      "Average Cohen Kappa Score for annotation 93: 0.346\n",
      "Average Cohen Kappa Score for annotation 94: 0.428\n",
      "Average Cohen Kappa Score for annotation 95: 0.425\n",
      "Average Cohen Kappa Score for annotation 96: 0.377\n",
      "Average Cohen Kappa Score for annotation 93: 0.346\n",
      "Average Cohen Kappa Score for annotation 94: 0.428\n",
      "Average Cohen Kappa Score for annotation 95: 0.425\n",
      "Average Cohen Kappa Score for annotation 96: 0.377\n",
      "Average Cohen Kappa Score for annotation 93: 0.346\n",
      "Average Cohen Kappa Score for annotation 94: 0.428\n",
      "Average Cohen Kappa Score for annotation 95: 0.425\n",
      "Average Cohen Kappa Score for annotation 96: 0.377\n",
      "Average Cohen Kappa Score for annotation 93: 0.346\n",
      "Average Cohen Kappa Score for annotation 94: 0.428\n",
      "Average Cohen Kappa Score for annotation 95: 0.425\n",
      "Average Cohen Kappa Score for annotation 96: 0.377\n",
      "Average Cohen Kappa Score for annotation 93: 0.346\n",
      "Average Cohen Kappa Score for annotation 94: 0.428\n",
      "Average Cohen Kappa Score for annotation 95: 0.425\n",
      "Average Cohen Kappa Score for annotation 96: 0.377\n",
      "Average Cohen Kappa Score for annotation 93: 0.346\n",
      "Average Cohen Kappa Score for annotation 94: 0.428\n",
      "Average Cohen Kappa Score for annotation 95: 0.425\n",
      "Average Cohen Kappa Score for annotation 96: 0.377\n",
      "Average Cohen Kappa Score for annotation 93: 0.346\n",
      "Average Cohen Kappa Score for annotation 94: 0.428\n",
      "Average Cohen Kappa Score for annotation 95: 0.425\n",
      "Average Cohen Kappa Score for annotation 96: 0.377\n",
      "Average Cohen Kappa Score for annotation 93: 0.346\n",
      "Average Cohen Kappa Score for annotation 94: 0.428\n",
      "Average Cohen Kappa Score for annotation 95: 0.425\n",
      "Average Cohen Kappa Score for annotation 96: 0.377\n",
      "Average Cohen Kappa Score for annotation 93: 0.346\n",
      "Average Cohen Kappa Score for annotation 94: 0.428\n",
      "Average Cohen Kappa Score for annotation 95: 0.425\n",
      "Average Cohen Kappa Score for annotation 96: 0.377\n",
      "Average Cohen Kappa Score for annotation 93: 0.346\n",
      "Average Cohen Kappa Score for annotation 94: 0.428\n",
      "Average Cohen Kappa Score for annotation 95: 0.425\n",
      "Average Cohen Kappa Score for annotation 96: 0.377\n",
      "Average Cohen Kappa Score for annotation 93: 0.346\n",
      "Average Cohen Kappa Score for annotation 94: 0.428\n",
      "Average Cohen Kappa Score for annotation 95: 0.425\n",
      "Average Cohen Kappa Score for annotation 96: 0.377\n",
      "Average Cohen Kappa Score for annotation 93: 0.346\n",
      "Average Cohen Kappa Score for annotation 94: 0.428\n",
      "Average Cohen Kappa Score for annotation 95: 0.425\n",
      "Average Cohen Kappa Score for annotation 96: 0.377\n",
      "Average Cohen Kappa Score for annotation 93: 0.346\n",
      "Average Cohen Kappa Score for annotation 94: 0.428\n",
      "Average Cohen Kappa Score for annotation 95: 0.425\n",
      "Average Cohen Kappa Score for annotation 96: 0.377\n",
      "Average Cohen Kappa Score for annotation 93: 0.346\n",
      "Average Cohen Kappa Score for annotation 94: 0.428\n",
      "Average Cohen Kappa Score for annotation 95: 0.425\n",
      "Average Cohen Kappa Score for annotation 96: 0.377\n",
      "Average Cohen Kappa Score for annotation 93: 0.346\n",
      "Average Cohen Kappa Score for annotation 94: 0.428\n",
      "Average Cohen Kappa Score for annotation 95: 0.425\n",
      "Average Cohen Kappa Score for annotation 96: 0.377\n",
      "Average Cohen Kappa Score for annotation 93: 0.346\n",
      "Average Cohen Kappa Score for annotation 94: 0.428\n",
      "Average Cohen Kappa Score for annotation 95: 0.425\n",
      "Average Cohen Kappa Score for annotation 96: 0.377\n",
      "Average Cohen Kappa Score for annotation 93: 0.346\n",
      "Average Cohen Kappa Score for annotation 94: 0.428\n",
      "Average Cohen Kappa Score for annotation 95: 0.425\n",
      "Average Cohen Kappa Score for annotation 96: 0.377\n",
      "Average Cohen Kappa Score for annotation 93: 0.346\n",
      "Average Cohen Kappa Score for annotation 94: 0.428\n",
      "Average Cohen Kappa Score for annotation 95: 0.425\n",
      "Average Cohen Kappa Score for annotation 96: 0.377\n",
      "Average Cohen Kappa Score for annotation 93: 0.346\n",
      "Average Cohen Kappa Score for annotation 94: 0.428\n",
      "Average Cohen Kappa Score for annotation 95: 0.425\n",
      "Average Cohen Kappa Score for annotation 96: 0.377\n",
      "Average Cohen Kappa Score for annotation 93: 0.346\n",
      "Average Cohen Kappa Score for annotation 94: 0.428\n",
      "Average Cohen Kappa Score for annotation 95: 0.425\n",
      "Average Cohen Kappa Score for annotation 96: 0.377\n",
      "Average Cohen Kappa Score for annotation 93: 0.346\n",
      "Average Cohen Kappa Score for annotation 94: 0.428\n",
      "Average Cohen Kappa Score for annotation 95: 0.425\n",
      "Average Cohen Kappa Score for annotation 96: 0.377\n",
      "Average Cohen Kappa Score for annotation 93: 0.346\n",
      "Average Cohen Kappa Score for annotation 94: 0.428\n",
      "Average Cohen Kappa Score for annotation 95: 0.425\n",
      "Average Cohen Kappa Score for annotation 96: 0.377\n",
      "Average Cohen Kappa Score for annotation 93: 0.346\n",
      "Average Cohen Kappa Score for annotation 94: 0.428\n",
      "Average Cohen Kappa Score for annotation 95: 0.425\n",
      "Average Cohen Kappa Score for annotation 96: 0.377\n",
      "Average Cohen Kappa Score for annotation 93: 0.346\n",
      "Average Cohen Kappa Score for annotation 94: 0.428\n",
      "Average Cohen Kappa Score for annotation 95: 0.425\n",
      "Average Cohen Kappa Score for annotation 96: 0.377\n",
      "Average Cohen Kappa Score for annotation 93: 0.346\n",
      "Average Cohen Kappa Score for annotation 94: 0.428\n",
      "Average Cohen Kappa Score for annotation 95: 0.425\n",
      "Average Cohen Kappa Score for annotation 96: 0.377\n",
      "Average Cohen Kappa Score for annotation 93: 0.346\n",
      "Average Cohen Kappa Score for annotation 94: 0.428\n",
      "Average Cohen Kappa Score for annotation 95: 0.425\n",
      "Average Cohen Kappa Score for annotation 96: 0.377\n",
      "Average Cohen Kappa Score for annotation 93: 0.346\n",
      "Average Cohen Kappa Score for annotation 94: 0.428\n",
      "Average Cohen Kappa Score for annotation 95: 0.425\n",
      "Average Cohen Kappa Score for annotation 96: 0.377\n",
      "Average Cohen Kappa Score for annotation 93: 0.346\n",
      "Average Cohen Kappa Score for annotation 94: 0.428\n",
      "Average Cohen Kappa Score for annotation 95: 0.425\n",
      "Average Cohen Kappa Score for annotation 96: 0.377\n",
      "Average Cohen Kappa Score for annotation 93: 0.346\n",
      "Average Cohen Kappa Score for annotation 94: 0.428\n",
      "Average Cohen Kappa Score for annotation 95: 0.425\n",
      "Average Cohen Kappa Score for annotation 96: 0.377\n",
      "Average Cohen Kappa Score for annotation 93: 0.346\n",
      "Average Cohen Kappa Score for annotation 94: 0.428\n",
      "Average Cohen Kappa Score for annotation 95: 0.425\n",
      "Average Cohen Kappa Score for annotation 96: 0.377\n",
      "Average Cohen Kappa Score for annotation 93: 0.346\n",
      "Average Cohen Kappa Score for annotation 94: 0.428\n",
      "Average Cohen Kappa Score for annotation 95: 0.425\n",
      "Average Cohen Kappa Score for annotation 96: 0.377\n",
      "Average Cohen Kappa Score for annotation 93: 0.346\n",
      "Average Cohen Kappa Score for annotation 94: 0.428\n",
      "Average Cohen Kappa Score for annotation 95: 0.425\n",
      "Average Cohen Kappa Score for annotation 96: 0.377\n",
      "Average Cohen Kappa Score for annotation 93: 0.346\n",
      "Average Cohen Kappa Score for annotation 94: 0.428\n",
      "Average Cohen Kappa Score for annotation 95: 0.425\n",
      "Average Cohen Kappa Score for annotation 96: 0.377\n",
      "Average Cohen Kappa Score for annotation 93: 0.346\n",
      "Average Cohen Kappa Score for annotation 94: 0.428\n",
      "Average Cohen Kappa Score for annotation 95: 0.425\n",
      "Average Cohen Kappa Score for annotation 96: 0.377\n",
      "Average Cohen Kappa Score for annotation 93: 0.346\n",
      "Average Cohen Kappa Score for annotation 94: 0.428\n",
      "Average Cohen Kappa Score for annotation 95: 0.425\n",
      "Average Cohen Kappa Score for annotation 96: 0.377\n",
      "Average Cohen Kappa Score for annotation 93: 0.346\n",
      "Average Cohen Kappa Score for annotation 94: 0.428\n",
      "Average Cohen Kappa Score for annotation 95: 0.425\n",
      "Average Cohen Kappa Score for annotation 96: 0.377\n",
      "Average Cohen Kappa Score for annotation 93: 0.346\n",
      "Average Cohen Kappa Score for annotation 94: 0.428\n",
      "Average Cohen Kappa Score for annotation 95: 0.425\n",
      "Average Cohen Kappa Score for annotation 96: 0.377\n",
      "Average Cohen Kappa Score for annotation 93: 0.346\n",
      "Average Cohen Kappa Score for annotation 94: 0.428\n",
      "Average Cohen Kappa Score for annotation 95: 0.425\n",
      "Average Cohen Kappa Score for annotation 96: 0.377\n",
      "Average Cohen Kappa Score for annotation 93: 0.346\n",
      "Average Cohen Kappa Score for annotation 94: 0.428\n",
      "Average Cohen Kappa Score for annotation 95: 0.425\n",
      "Average Cohen Kappa Score for annotation 96: 0.377\n",
      "Average Cohen Kappa Score for annotation 93: 0.346\n",
      "Average Cohen Kappa Score for annotation 94: 0.428\n",
      "Average Cohen Kappa Score for annotation 95: 0.425\n",
      "Average Cohen Kappa Score for annotation 96: 0.377\n",
      "Average Cohen Kappa Score for annotation 93: 0.346\n",
      "Average Cohen Kappa Score for annotation 94: 0.428\n",
      "Average Cohen Kappa Score for annotation 95: 0.425\n",
      "Average Cohen Kappa Score for annotation 96: 0.377\n",
      "Average Cohen Kappa Score for annotation 93: 0.346\n"
     ]
    },
    {
     "name": "stdout",
     "output_type": "stream",
     "text": [
      "Average Cohen Kappa Score for annotation 94: 0.428\n",
      "Average Cohen Kappa Score for annotation 95: 0.425\n",
      "Average Cohen Kappa Score for annotation 96: 0.377\n",
      "Average Cohen Kappa Score for annotation 93: 0.346\n",
      "Average Cohen Kappa Score for annotation 94: 0.428\n",
      "Average Cohen Kappa Score for annotation 95: 0.425\n",
      "Average Cohen Kappa Score for annotation 96: 0.377\n",
      "Average Cohen Kappa Score for annotation 93: 0.346\n",
      "Average Cohen Kappa Score for annotation 94: 0.428\n",
      "Average Cohen Kappa Score for annotation 95: 0.425\n",
      "Average Cohen Kappa Score for annotation 96: 0.377\n",
      "Average Cohen Kappa Score for annotation 93: 0.346\n",
      "Average Cohen Kappa Score for annotation 94: 0.428\n",
      "Average Cohen Kappa Score for annotation 95: 0.425\n",
      "Average Cohen Kappa Score for annotation 96: 0.377\n",
      "Average Cohen Kappa Score for annotation 93: 0.346\n",
      "Average Cohen Kappa Score for annotation 94: 0.428\n",
      "Average Cohen Kappa Score for annotation 95: 0.425\n",
      "Average Cohen Kappa Score for annotation 96: 0.377\n",
      "Average Cohen Kappa Score for annotation 93: 0.346\n",
      "Average Cohen Kappa Score for annotation 94: 0.428\n",
      "Average Cohen Kappa Score for annotation 95: 0.425\n",
      "Average Cohen Kappa Score for annotation 96: 0.377\n",
      "Average Cohen Kappa Score for annotation 93: 0.346\n",
      "Average Cohen Kappa Score for annotation 94: 0.428\n",
      "Average Cohen Kappa Score for annotation 95: 0.425\n",
      "Average Cohen Kappa Score for annotation 96: 0.377\n",
      "Average Cohen Kappa Score for annotation 93: 0.346\n",
      "Average Cohen Kappa Score for annotation 94: 0.428\n",
      "Average Cohen Kappa Score for annotation 95: 0.425\n",
      "Average Cohen Kappa Score for annotation 96: 0.377\n",
      "Average Cohen Kappa Score for annotation 93: 0.346\n",
      "Average Cohen Kappa Score for annotation 94: 0.428\n",
      "Average Cohen Kappa Score for annotation 95: 0.425\n",
      "Average Cohen Kappa Score for annotation 96: 0.377\n",
      "Average Cohen Kappa Score for annotation 93: 0.346\n",
      "Average Cohen Kappa Score for annotation 94: 0.428\n",
      "Average Cohen Kappa Score for annotation 95: 0.425\n",
      "Average Cohen Kappa Score for annotation 96: 0.377\n",
      "Average Cohen Kappa Score for annotation 93: 0.346\n",
      "Average Cohen Kappa Score for annotation 94: 0.428\n",
      "Average Cohen Kappa Score for annotation 95: 0.425\n",
      "Average Cohen Kappa Score for annotation 96: 0.377\n",
      "Average Cohen Kappa Score for annotation 93: 0.346\n",
      "Average Cohen Kappa Score for annotation 94: 0.428\n",
      "Average Cohen Kappa Score for annotation 95: 0.425\n",
      "Average Cohen Kappa Score for annotation 96: 0.377\n",
      "Average Cohen Kappa Score for annotation 93: 0.346\n",
      "Average Cohen Kappa Score for annotation 94: 0.428\n",
      "Average Cohen Kappa Score for annotation 95: 0.425\n",
      "Average Cohen Kappa Score for annotation 96: 0.377\n",
      "Average Cohen Kappa Score for annotation 93: 0.346\n",
      "Average Cohen Kappa Score for annotation 94: 0.428\n",
      "Average Cohen Kappa Score for annotation 95: 0.425\n",
      "Average Cohen Kappa Score for annotation 96: 0.377\n",
      "Average Cohen Kappa Score for annotation 93: 0.346\n",
      "Average Cohen Kappa Score for annotation 94: 0.428\n",
      "Average Cohen Kappa Score for annotation 95: 0.425\n",
      "Average Cohen Kappa Score for annotation 96: 0.377\n",
      "Average Cohen Kappa Score for annotation 93: 0.346\n",
      "Average Cohen Kappa Score for annotation 94: 0.428\n",
      "Average Cohen Kappa Score for annotation 95: 0.425\n",
      "Average Cohen Kappa Score for annotation 96: 0.377\n",
      "Average Cohen Kappa Score for annotation 93: 0.346\n",
      "Average Cohen Kappa Score for annotation 94: 0.428\n",
      "Average Cohen Kappa Score for annotation 95: 0.425\n",
      "Average Cohen Kappa Score for annotation 96: 0.377\n",
      "Average Cohen Kappa Score for annotation 93: 0.346\n",
      "Average Cohen Kappa Score for annotation 94: 0.428\n",
      "Average Cohen Kappa Score for annotation 95: 0.425\n",
      "Average Cohen Kappa Score for annotation 96: 0.377\n",
      "Average Cohen Kappa Score for annotation 93: 0.346\n",
      "Average Cohen Kappa Score for annotation 94: 0.428\n",
      "Average Cohen Kappa Score for annotation 95: 0.425\n",
      "Average Cohen Kappa Score for annotation 96: 0.377\n",
      "Average Cohen Kappa Score for annotation 93: 0.346\n",
      "Average Cohen Kappa Score for annotation 94: 0.428\n",
      "Average Cohen Kappa Score for annotation 95: 0.425\n",
      "Average Cohen Kappa Score for annotation 96: 0.377\n",
      "Average Cohen Kappa Score for annotation 93: 0.346\n",
      "Average Cohen Kappa Score for annotation 94: 0.428\n",
      "Average Cohen Kappa Score for annotation 95: 0.425\n",
      "Average Cohen Kappa Score for annotation 96: 0.377\n",
      "Average Cohen Kappa Score for annotation 93: 0.346\n",
      "Average Cohen Kappa Score for annotation 94: 0.428\n",
      "Average Cohen Kappa Score for annotation 95: 0.425\n",
      "Average Cohen Kappa Score for annotation 96: 0.377\n",
      "Average Cohen Kappa Score for annotation 93: 0.346\n",
      "Average Cohen Kappa Score for annotation 94: 0.428\n",
      "Average Cohen Kappa Score for annotation 95: 0.425\n",
      "Average Cohen Kappa Score for annotation 96: 0.377\n",
      "Average Cohen Kappa Score for annotation 93: 0.346\n",
      "Average Cohen Kappa Score for annotation 94: 0.428\n",
      "Average Cohen Kappa Score for annotation 95: 0.425\n",
      "Average Cohen Kappa Score for annotation 96: 0.377\n",
      "Average Cohen Kappa Score for annotation 93: 0.346\n",
      "Average Cohen Kappa Score for annotation 94: 0.428\n",
      "Average Cohen Kappa Score for annotation 95: 0.425\n",
      "Average Cohen Kappa Score for annotation 96: 0.377\n",
      "Average Cohen Kappa Score for annotation 93: 0.346\n",
      "Average Cohen Kappa Score for annotation 94: 0.428\n",
      "Average Cohen Kappa Score for annotation 95: 0.425\n",
      "Average Cohen Kappa Score for annotation 96: 0.377\n",
      "Average Cohen Kappa Score for annotation 93: 0.346\n",
      "Average Cohen Kappa Score for annotation 94: 0.428\n",
      "Average Cohen Kappa Score for annotation 95: 0.425\n",
      "Average Cohen Kappa Score for annotation 96: 0.377\n",
      "Average Cohen Kappa Score for annotation 93: 0.346\n",
      "Average Cohen Kappa Score for annotation 94: 0.428\n",
      "Average Cohen Kappa Score for annotation 95: 0.425\n",
      "Average Cohen Kappa Score for annotation 96: 0.377\n",
      "Average Cohen Kappa Score for annotation 93: 0.346\n",
      "Average Cohen Kappa Score for annotation 94: 0.428\n",
      "Average Cohen Kappa Score for annotation 95: 0.425\n",
      "Average Cohen Kappa Score for annotation 96: 0.377\n",
      "Average Cohen Kappa Score for annotation 93: 0.346\n",
      "Average Cohen Kappa Score for annotation 94: 0.428\n",
      "Average Cohen Kappa Score for annotation 95: 0.425\n",
      "Average Cohen Kappa Score for annotation 96: 0.377\n",
      "Average Cohen Kappa Score for annotation 93: 0.346\n",
      "Average Cohen Kappa Score for annotation 94: 0.428\n",
      "Average Cohen Kappa Score for annotation 95: 0.425\n",
      "Average Cohen Kappa Score for annotation 96: 0.377\n",
      "Average Cohen Kappa Score for annotation 93: 0.346\n",
      "Average Cohen Kappa Score for annotation 94: 0.428\n",
      "Average Cohen Kappa Score for annotation 95: 0.425\n",
      "Average Cohen Kappa Score for annotation 96: 0.377\n",
      "Average Cohen Kappa Score for annotation 93: 0.346\n",
      "Average Cohen Kappa Score for annotation 94: 0.428\n",
      "Average Cohen Kappa Score for annotation 95: 0.425\n",
      "Average Cohen Kappa Score for annotation 96: 0.377\n",
      "Average Cohen Kappa Score for annotation 93: 0.346\n",
      "Average Cohen Kappa Score for annotation 94: 0.428\n",
      "Average Cohen Kappa Score for annotation 95: 0.425\n",
      "Average Cohen Kappa Score for annotation 96: 0.377\n",
      "Average Cohen Kappa Score for annotation 93: 0.346\n",
      "Average Cohen Kappa Score for annotation 94: 0.428\n",
      "Average Cohen Kappa Score for annotation 95: 0.425\n",
      "Average Cohen Kappa Score for annotation 96: 0.377\n",
      "Average Cohen Kappa Score for annotation 93: 0.346\n",
      "Average Cohen Kappa Score for annotation 94: 0.428\n",
      "Average Cohen Kappa Score for annotation 95: 0.425\n",
      "Average Cohen Kappa Score for annotation 96: 0.377\n",
      "Average Cohen Kappa Score for annotation 93: 0.346\n",
      "Average Cohen Kappa Score for annotation 94: 0.428\n",
      "Average Cohen Kappa Score for annotation 95: 0.425\n",
      "Average Cohen Kappa Score for annotation 96: 0.377\n",
      "Average Cohen Kappa Score for annotation 93: 0.346\n",
      "Average Cohen Kappa Score for annotation 94: 0.428\n",
      "Average Cohen Kappa Score for annotation 95: 0.425\n",
      "Average Cohen Kappa Score for annotation 96: 0.377\n",
      "Average Cohen Kappa Score for annotation 93: 0.346\n",
      "Average Cohen Kappa Score for annotation 94: 0.428\n",
      "Average Cohen Kappa Score for annotation 95: 0.425\n",
      "Average Cohen Kappa Score for annotation 96: 0.377\n",
      "Average Cohen Kappa Score for annotation 93: 0.346\n",
      "Average Cohen Kappa Score for annotation 94: 0.428\n",
      "Average Cohen Kappa Score for annotation 95: 0.425\n",
      "Average Cohen Kappa Score for annotation 96: 0.377\n",
      "Average Cohen Kappa Score for annotation 93: 0.346\n",
      "Average Cohen Kappa Score for annotation 94: 0.428\n",
      "Average Cohen Kappa Score for annotation 95: 0.425\n",
      "Average Cohen Kappa Score for annotation 96: 0.377\n",
      "Average Cohen Kappa Score for annotation 93: 0.346\n",
      "Average Cohen Kappa Score for annotation 94: 0.428\n",
      "Average Cohen Kappa Score for annotation 95: 0.425\n",
      "Average Cohen Kappa Score for annotation 96: 0.377\n",
      "Average Cohen Kappa Score for annotation 93: 0.346\n",
      "Average Cohen Kappa Score for annotation 94: 0.428\n",
      "Average Cohen Kappa Score for annotation 95: 0.425\n",
      "Average Cohen Kappa Score for annotation 96: 0.377\n",
      "Average Cohen Kappa Score for annotation 93: 0.346\n",
      "Average Cohen Kappa Score for annotation 94: 0.428\n",
      "Average Cohen Kappa Score for annotation 95: 0.425\n",
      "Average Cohen Kappa Score for annotation 96: 0.377\n",
      "Average Cohen Kappa Score for annotation 93: 0.346\n",
      "Average Cohen Kappa Score for annotation 94: 0.428\n",
      "Average Cohen Kappa Score for annotation 95: 0.425\n",
      "Average Cohen Kappa Score for annotation 96: 0.377\n",
      "Average Cohen Kappa Score for annotation 93: 0.346\n",
      "Average Cohen Kappa Score for annotation 94: 0.428\n",
      "Average Cohen Kappa Score for annotation 95: 0.425\n",
      "Average Cohen Kappa Score for annotation 96: 0.377\n",
      "Average Cohen Kappa Score for annotation 93: 0.346\n",
      "Average Cohen Kappa Score for annotation 94: 0.428\n",
      "Average Cohen Kappa Score for annotation 95: 0.425\n",
      "Average Cohen Kappa Score for annotation 96: 0.377\n",
      "Average Cohen Kappa Score for annotation 93: 0.346\n",
      "Average Cohen Kappa Score for annotation 94: 0.428\n",
      "Average Cohen Kappa Score for annotation 95: 0.425\n",
      "Average Cohen Kappa Score for annotation 96: 0.377\n",
      "Average Cohen Kappa Score for annotation 93: 0.346\n",
      "Average Cohen Kappa Score for annotation 94: 0.428\n",
      "Average Cohen Kappa Score for annotation 95: 0.425\n",
      "Average Cohen Kappa Score for annotation 96: 0.377\n",
      "Average Cohen Kappa Score for annotation 93: 0.346\n",
      "Average Cohen Kappa Score for annotation 94: 0.428\n",
      "Average Cohen Kappa Score for annotation 95: 0.425\n",
      "Average Cohen Kappa Score for annotation 96: 0.377\n",
      "Average Cohen Kappa Score for annotation 93: 0.346\n",
      "Average Cohen Kappa Score for annotation 94: 0.428\n",
      "Average Cohen Kappa Score for annotation 95: 0.425\n",
      "Average Cohen Kappa Score for annotation 96: 0.377\n",
      "Average Cohen Kappa Score for annotation 93: 0.346\n",
      "Average Cohen Kappa Score for annotation 94: 0.428\n",
      "Average Cohen Kappa Score for annotation 95: 0.425\n",
      "Average Cohen Kappa Score for annotation 96: 0.377\n",
      "Average Cohen Kappa Score for annotation 93: 0.346\n",
      "Average Cohen Kappa Score for annotation 94: 0.428\n",
      "Average Cohen Kappa Score for annotation 95: 0.425\n",
      "Average Cohen Kappa Score for annotation 96: 0.377\n",
      "Average Cohen Kappa Score for annotation 93: 0.346\n",
      "Average Cohen Kappa Score for annotation 94: 0.428\n",
      "Average Cohen Kappa Score for annotation 95: 0.425\n",
      "Average Cohen Kappa Score for annotation 96: 0.377\n",
      "Average Cohen Kappa Score for annotation 93: 0.346\n",
      "Average Cohen Kappa Score for annotation 94: 0.428\n"
     ]
    },
    {
     "name": "stdout",
     "output_type": "stream",
     "text": [
      "Average Cohen Kappa Score for annotation 95: 0.425\n",
      "Average Cohen Kappa Score for annotation 96: 0.377\n",
      "Average Cohen Kappa Score for annotation 93: 0.346\n",
      "Average Cohen Kappa Score for annotation 94: 0.428\n",
      "Average Cohen Kappa Score for annotation 95: 0.425\n",
      "Average Cohen Kappa Score for annotation 96: 0.377\n",
      "Average Cohen Kappa Score for annotation 93: 0.346\n",
      "Average Cohen Kappa Score for annotation 94: 0.428\n",
      "Average Cohen Kappa Score for annotation 95: 0.425\n",
      "Average Cohen Kappa Score for annotation 96: 0.377\n",
      "Average Cohen Kappa Score for annotation 93: 0.346\n",
      "Average Cohen Kappa Score for annotation 94: 0.428\n",
      "Average Cohen Kappa Score for annotation 95: 0.425\n",
      "Average Cohen Kappa Score for annotation 96: 0.377\n",
      "Average Cohen Kappa Score for annotation 93: 0.346\n",
      "Average Cohen Kappa Score for annotation 94: 0.428\n",
      "Average Cohen Kappa Score for annotation 95: 0.425\n",
      "Average Cohen Kappa Score for annotation 96: 0.377\n",
      "Average Cohen Kappa Score for annotation 93: 0.346\n",
      "Average Cohen Kappa Score for annotation 94: 0.428\n",
      "Average Cohen Kappa Score for annotation 95: 0.425\n",
      "Average Cohen Kappa Score for annotation 96: 0.377\n",
      "Average Cohen Kappa Score for annotation 93: 0.346\n",
      "Average Cohen Kappa Score for annotation 94: 0.428\n",
      "Average Cohen Kappa Score for annotation 95: 0.425\n",
      "Average Cohen Kappa Score for annotation 96: 0.377\n",
      "Average Cohen Kappa Score for annotation 93: 0.346\n",
      "Average Cohen Kappa Score for annotation 94: 0.428\n",
      "Average Cohen Kappa Score for annotation 95: 0.425\n",
      "Average Cohen Kappa Score for annotation 96: 0.377\n",
      "Average Cohen Kappa Score for annotation 93: 0.346\n",
      "Average Cohen Kappa Score for annotation 94: 0.428\n",
      "Average Cohen Kappa Score for annotation 95: 0.425\n",
      "Average Cohen Kappa Score for annotation 96: 0.377\n",
      "Average Cohen Kappa Score for annotation 93: 0.346\n",
      "Average Cohen Kappa Score for annotation 94: 0.428\n",
      "Average Cohen Kappa Score for annotation 95: 0.425\n",
      "Average Cohen Kappa Score for annotation 96: 0.377\n",
      "Average Cohen Kappa Score for annotation 93: 0.346\n",
      "Average Cohen Kappa Score for annotation 94: 0.428\n",
      "Average Cohen Kappa Score for annotation 95: 0.425\n",
      "Average Cohen Kappa Score for annotation 96: 0.377\n",
      "Average Cohen Kappa Score for annotation 93: 0.346\n",
      "Average Cohen Kappa Score for annotation 94: 0.428\n",
      "Average Cohen Kappa Score for annotation 95: 0.425\n",
      "Average Cohen Kappa Score for annotation 96: 0.377\n",
      "Average Cohen Kappa Score for annotation 93: 0.346\n",
      "Average Cohen Kappa Score for annotation 94: 0.428\n",
      "Average Cohen Kappa Score for annotation 95: 0.425\n",
      "Average Cohen Kappa Score for annotation 96: 0.377\n",
      "Average Cohen Kappa Score for annotation 93: 0.346\n",
      "Average Cohen Kappa Score for annotation 94: 0.428\n",
      "Average Cohen Kappa Score for annotation 95: 0.425\n",
      "Average Cohen Kappa Score for annotation 96: 0.377\n",
      "Average Cohen Kappa Score for annotation 93: 0.346\n",
      "Average Cohen Kappa Score for annotation 94: 0.428\n",
      "Average Cohen Kappa Score for annotation 95: 0.425\n",
      "Average Cohen Kappa Score for annotation 96: 0.377\n",
      "Average Cohen Kappa Score for annotation 93: 0.346\n",
      "Average Cohen Kappa Score for annotation 94: 0.428\n",
      "Average Cohen Kappa Score for annotation 95: 0.425\n",
      "Average Cohen Kappa Score for annotation 96: 0.377\n",
      "Average Cohen Kappa Score for annotation 93: 0.346\n",
      "Average Cohen Kappa Score for annotation 94: 0.428\n",
      "Average Cohen Kappa Score for annotation 95: 0.425\n",
      "Average Cohen Kappa Score for annotation 96: 0.377\n",
      "Average Cohen Kappa Score for annotation 93: 0.346\n",
      "Average Cohen Kappa Score for annotation 94: 0.428\n",
      "Average Cohen Kappa Score for annotation 95: 0.425\n",
      "Average Cohen Kappa Score for annotation 96: 0.377\n",
      "Average Cohen Kappa Score for annotation 93: 0.346\n",
      "Average Cohen Kappa Score for annotation 94: 0.428\n",
      "Average Cohen Kappa Score for annotation 95: 0.425\n",
      "Average Cohen Kappa Score for annotation 96: 0.377\n",
      "Average Cohen Kappa Score for annotation 93: 0.346\n",
      "Average Cohen Kappa Score for annotation 94: 0.428\n",
      "Average Cohen Kappa Score for annotation 95: 0.425\n",
      "Average Cohen Kappa Score for annotation 96: 0.377\n",
      "Average Cohen Kappa Score for annotation 93: 0.346\n",
      "Average Cohen Kappa Score for annotation 94: 0.428\n",
      "Average Cohen Kappa Score for annotation 95: 0.425\n",
      "Average Cohen Kappa Score for annotation 96: 0.377\n",
      "Average Cohen Kappa Score for annotation 93: 0.346\n",
      "Average Cohen Kappa Score for annotation 94: 0.428\n",
      "Average Cohen Kappa Score for annotation 95: 0.425\n",
      "Average Cohen Kappa Score for annotation 96: 0.377\n",
      "Average Cohen Kappa Score for annotation 93: 0.346\n",
      "Average Cohen Kappa Score for annotation 94: 0.428\n",
      "Average Cohen Kappa Score for annotation 95: 0.425\n",
      "Average Cohen Kappa Score for annotation 96: 0.377\n",
      "Average Cohen Kappa Score for annotation 93: 0.346\n",
      "Average Cohen Kappa Score for annotation 94: 0.428\n",
      "Average Cohen Kappa Score for annotation 95: 0.425\n",
      "Average Cohen Kappa Score for annotation 96: 0.377\n",
      "Average Cohen Kappa Score for annotation 93: 0.346\n",
      "Average Cohen Kappa Score for annotation 94: 0.428\n",
      "Average Cohen Kappa Score for annotation 95: 0.425\n",
      "Average Cohen Kappa Score for annotation 96: 0.377\n",
      "Average Cohen Kappa Score for annotation 93: 0.346\n",
      "Average Cohen Kappa Score for annotation 94: 0.428\n",
      "Average Cohen Kappa Score for annotation 95: 0.425\n",
      "Average Cohen Kappa Score for annotation 96: 0.377\n",
      "Average Cohen Kappa Score for annotation 93: 0.346\n",
      "Average Cohen Kappa Score for annotation 94: 0.428\n",
      "Average Cohen Kappa Score for annotation 95: 0.425\n",
      "Average Cohen Kappa Score for annotation 96: 0.377\n",
      "Average Cohen Kappa Score for annotation 93: 0.346\n",
      "Average Cohen Kappa Score for annotation 94: 0.428\n",
      "Average Cohen Kappa Score for annotation 95: 0.425\n",
      "Average Cohen Kappa Score for annotation 96: 0.377\n",
      "Average Cohen Kappa Score for annotation 93: 0.346\n",
      "Average Cohen Kappa Score for annotation 94: 0.428\n",
      "Average Cohen Kappa Score for annotation 95: 0.425\n",
      "Average Cohen Kappa Score for annotation 96: 0.377\n",
      "Average Cohen Kappa Score for annotation 93: 0.346\n",
      "Average Cohen Kappa Score for annotation 94: 0.428\n",
      "Average Cohen Kappa Score for annotation 95: 0.425\n",
      "Average Cohen Kappa Score for annotation 96: 0.377\n",
      "Average Cohen Kappa Score for annotation 93: 0.346\n",
      "Average Cohen Kappa Score for annotation 94: 0.428\n",
      "Average Cohen Kappa Score for annotation 95: 0.425\n",
      "Average Cohen Kappa Score for annotation 96: 0.377\n",
      "Average Cohen Kappa Score for annotation 93: 0.346\n",
      "Average Cohen Kappa Score for annotation 94: 0.428\n",
      "Average Cohen Kappa Score for annotation 95: 0.425\n",
      "Average Cohen Kappa Score for annotation 96: 0.377\n",
      "Average Cohen Kappa Score for annotation 93: 0.346\n",
      "Average Cohen Kappa Score for annotation 94: 0.428\n",
      "Average Cohen Kappa Score for annotation 95: 0.425\n",
      "Average Cohen Kappa Score for annotation 96: 0.377\n",
      "Average Cohen Kappa Score for annotation 93: 0.346\n",
      "Average Cohen Kappa Score for annotation 94: 0.428\n",
      "Average Cohen Kappa Score for annotation 95: 0.425\n",
      "Average Cohen Kappa Score for annotation 96: 0.377\n",
      "Average Cohen Kappa Score for annotation 93: 0.346\n",
      "Average Cohen Kappa Score for annotation 94: 0.428\n",
      "Average Cohen Kappa Score for annotation 95: 0.425\n",
      "Average Cohen Kappa Score for annotation 96: 0.377\n",
      "Average Cohen Kappa Score for annotation 93: 0.346\n",
      "Average Cohen Kappa Score for annotation 94: 0.428\n",
      "Average Cohen Kappa Score for annotation 95: 0.425\n",
      "Average Cohen Kappa Score for annotation 96: 0.377\n",
      "Average Cohen Kappa Score for annotation 93: 0.346\n",
      "Average Cohen Kappa Score for annotation 94: 0.428\n",
      "Average Cohen Kappa Score for annotation 95: 0.425\n",
      "Average Cohen Kappa Score for annotation 96: 0.377\n",
      "Average Cohen Kappa Score for annotation 93: 0.346\n",
      "Average Cohen Kappa Score for annotation 94: 0.428\n",
      "Average Cohen Kappa Score for annotation 95: 0.425\n",
      "Average Cohen Kappa Score for annotation 96: 0.377\n",
      "Average Cohen Kappa Score for annotation 93: 0.346\n",
      "Average Cohen Kappa Score for annotation 94: 0.428\n",
      "Average Cohen Kappa Score for annotation 95: 0.425\n",
      "Average Cohen Kappa Score for annotation 96: 0.377\n",
      "Average Cohen Kappa Score for annotation 93: 0.346\n",
      "Average Cohen Kappa Score for annotation 94: 0.428\n",
      "Average Cohen Kappa Score for annotation 95: 0.425\n",
      "Average Cohen Kappa Score for annotation 96: 0.377\n",
      "Average Cohen Kappa Score for annotation 93: 0.346\n",
      "Average Cohen Kappa Score for annotation 94: 0.428\n",
      "Average Cohen Kappa Score for annotation 95: 0.425\n",
      "Average Cohen Kappa Score for annotation 96: 0.377\n",
      "Average Cohen Kappa Score for annotation 93: 0.346\n",
      "Average Cohen Kappa Score for annotation 94: 0.428\n",
      "Average Cohen Kappa Score for annotation 95: 0.425\n",
      "Average Cohen Kappa Score for annotation 96: 0.377\n",
      "Average Cohen Kappa Score for annotation 93: 0.346\n",
      "Average Cohen Kappa Score for annotation 94: 0.428\n",
      "Average Cohen Kappa Score for annotation 95: 0.425\n",
      "Average Cohen Kappa Score for annotation 96: 0.377\n",
      "Average Cohen Kappa Score for annotation 93: 0.346\n",
      "Average Cohen Kappa Score for annotation 94: 0.428\n",
      "Average Cohen Kappa Score for annotation 95: 0.425\n",
      "Average Cohen Kappa Score for annotation 96: 0.377\n",
      "Average Cohen Kappa Score for annotation 93: 0.346\n",
      "Average Cohen Kappa Score for annotation 94: 0.428\n",
      "Average Cohen Kappa Score for annotation 95: 0.425\n",
      "Average Cohen Kappa Score for annotation 96: 0.377\n",
      "Average Cohen Kappa Score for annotation 93: 0.346\n",
      "Average Cohen Kappa Score for annotation 94: 0.428\n",
      "Average Cohen Kappa Score for annotation 95: 0.425\n",
      "Average Cohen Kappa Score for annotation 96: 0.377\n",
      "Average Cohen Kappa Score for annotation 93: 0.346\n",
      "Average Cohen Kappa Score for annotation 94: 0.428\n",
      "Average Cohen Kappa Score for annotation 95: 0.425\n",
      "Average Cohen Kappa Score for annotation 96: 0.377\n",
      "Average Cohen Kappa Score for annotation 93: 0.346\n",
      "Average Cohen Kappa Score for annotation 94: 0.428\n",
      "Average Cohen Kappa Score for annotation 95: 0.425\n",
      "Average Cohen Kappa Score for annotation 96: 0.377\n",
      "Average Cohen Kappa Score for annotation 93: 0.346\n",
      "Average Cohen Kappa Score for annotation 94: 0.428\n",
      "Average Cohen Kappa Score for annotation 95: 0.425\n",
      "Average Cohen Kappa Score for annotation 96: 0.377\n",
      "Average Cohen Kappa Score for annotation 93: 0.346\n",
      "Average Cohen Kappa Score for annotation 94: 0.428\n",
      "Average Cohen Kappa Score for annotation 95: 0.425\n",
      "Average Cohen Kappa Score for annotation 96: 0.377\n",
      "Average Cohen Kappa Score for annotation 93: 0.346\n",
      "Average Cohen Kappa Score for annotation 94: 0.428\n",
      "Average Cohen Kappa Score for annotation 95: 0.425\n",
      "Average Cohen Kappa Score for annotation 96: 0.377\n",
      "Average Cohen Kappa Score for annotation 93: 0.346\n",
      "Average Cohen Kappa Score for annotation 94: 0.428\n",
      "Average Cohen Kappa Score for annotation 95: 0.425\n",
      "Average Cohen Kappa Score for annotation 96: 0.377\n",
      "Average Cohen Kappa Score for annotation 93: 0.346\n",
      "Average Cohen Kappa Score for annotation 94: 0.428\n",
      "Average Cohen Kappa Score for annotation 95: 0.425\n",
      "Average Cohen Kappa Score for annotation 96: 0.377\n",
      "Average Cohen Kappa Score for annotation 93: 0.346\n",
      "Average Cohen Kappa Score for annotation 94: 0.428\n",
      "Average Cohen Kappa Score for annotation 95: 0.425\n",
      "Average Cohen Kappa Score for annotation 96: 0.377\n",
      "Average Cohen Kappa Score for annotation 93: 0.346\n",
      "Average Cohen Kappa Score for annotation 94: 0.428\n",
      "Average Cohen Kappa Score for annotation 95: 0.425\n",
      "Average Cohen Kappa Score for annotation 96: 0.377\n",
      "Average Cohen Kappa Score for annotation 93: 0.346\n",
      "Average Cohen Kappa Score for annotation 94: 0.428\n",
      "Average Cohen Kappa Score for annotation 95: 0.425\n",
      "Average Cohen Kappa Score for annotation 96: 0.377\n"
     ]
    },
    {
     "name": "stdout",
     "output_type": "stream",
     "text": [
      "Average Cohen Kappa Score for annotation 93: 0.346\n",
      "Average Cohen Kappa Score for annotation 94: 0.428\n",
      "Average Cohen Kappa Score for annotation 95: 0.425\n",
      "Average Cohen Kappa Score for annotation 96: 0.377\n",
      "Average Cohen Kappa Score for annotation 93: 0.346\n",
      "Average Cohen Kappa Score for annotation 94: 0.428\n",
      "Average Cohen Kappa Score for annotation 95: 0.425\n",
      "Average Cohen Kappa Score for annotation 96: 0.377\n",
      "Average Cohen Kappa Score for annotation 93: 0.346\n",
      "Average Cohen Kappa Score for annotation 94: 0.428\n",
      "Average Cohen Kappa Score for annotation 95: 0.425\n",
      "Average Cohen Kappa Score for annotation 96: 0.377\n",
      "Average Cohen Kappa Score for annotation 93: 0.346\n",
      "Average Cohen Kappa Score for annotation 94: 0.428\n",
      "Average Cohen Kappa Score for annotation 95: 0.425\n",
      "Average Cohen Kappa Score for annotation 96: 0.377\n",
      "Average Cohen Kappa Score for annotation 93: 0.346\n",
      "Average Cohen Kappa Score for annotation 94: 0.428\n",
      "Average Cohen Kappa Score for annotation 95: 0.425\n",
      "Average Cohen Kappa Score for annotation 96: 0.377\n",
      "Average Cohen Kappa Score for annotation 93: 0.346\n",
      "Average Cohen Kappa Score for annotation 94: 0.428\n",
      "Average Cohen Kappa Score for annotation 95: 0.425\n",
      "Average Cohen Kappa Score for annotation 96: 0.377\n",
      "Average Cohen Kappa Score for annotation 93: 0.346\n",
      "Average Cohen Kappa Score for annotation 94: 0.428\n",
      "Average Cohen Kappa Score for annotation 95: 0.425\n",
      "Average Cohen Kappa Score for annotation 96: 0.377\n",
      "Average Cohen Kappa Score for annotation 93: 0.346\n",
      "Average Cohen Kappa Score for annotation 94: 0.428\n",
      "Average Cohen Kappa Score for annotation 95: 0.425\n",
      "Average Cohen Kappa Score for annotation 96: 0.377\n",
      "Average Cohen Kappa Score for annotation 93: 0.346\n",
      "Average Cohen Kappa Score for annotation 94: 0.428\n",
      "Average Cohen Kappa Score for annotation 95: 0.425\n",
      "Average Cohen Kappa Score for annotation 96: 0.377\n",
      "Average Cohen Kappa Score for annotation 93: 0.346\n",
      "Average Cohen Kappa Score for annotation 94: 0.428\n",
      "Average Cohen Kappa Score for annotation 95: 0.425\n",
      "Average Cohen Kappa Score for annotation 96: 0.377\n",
      "Average Cohen Kappa Score for annotation 93: 0.346\n",
      "Average Cohen Kappa Score for annotation 94: 0.428\n",
      "Average Cohen Kappa Score for annotation 95: 0.425\n",
      "Average Cohen Kappa Score for annotation 96: 0.377\n",
      "Average Cohen Kappa Score for annotation 93: 0.346\n",
      "Average Cohen Kappa Score for annotation 94: 0.428\n",
      "Average Cohen Kappa Score for annotation 95: 0.425\n",
      "Average Cohen Kappa Score for annotation 96: 0.377\n",
      "Average Cohen Kappa Score for annotation 93: 0.346\n",
      "Average Cohen Kappa Score for annotation 94: 0.428\n",
      "Average Cohen Kappa Score for annotation 95: 0.425\n",
      "Average Cohen Kappa Score for annotation 96: 0.377\n",
      "Average Cohen Kappa Score for annotation 93: 0.346\n",
      "Average Cohen Kappa Score for annotation 94: 0.428\n",
      "Average Cohen Kappa Score for annotation 95: 0.425\n",
      "Average Cohen Kappa Score for annotation 96: 0.377\n",
      "Average Cohen Kappa Score for annotation 93: 0.346\n",
      "Average Cohen Kappa Score for annotation 94: 0.428\n",
      "Average Cohen Kappa Score for annotation 95: 0.425\n",
      "Average Cohen Kappa Score for annotation 96: 0.377\n",
      "Average Cohen Kappa Score for annotation 93: 0.346\n",
      "Average Cohen Kappa Score for annotation 94: 0.428\n",
      "Average Cohen Kappa Score for annotation 95: 0.425\n",
      "Average Cohen Kappa Score for annotation 96: 0.377\n",
      "Average Cohen Kappa Score for annotation 93: 0.346\n",
      "Average Cohen Kappa Score for annotation 94: 0.428\n",
      "Average Cohen Kappa Score for annotation 95: 0.425\n",
      "Average Cohen Kappa Score for annotation 96: 0.377\n",
      "Average Cohen Kappa Score for annotation 93: 0.346\n",
      "Average Cohen Kappa Score for annotation 94: 0.428\n",
      "Average Cohen Kappa Score for annotation 95: 0.425\n",
      "Average Cohen Kappa Score for annotation 96: 0.377\n",
      "Average Cohen Kappa Score for annotation 93: 0.346\n",
      "Average Cohen Kappa Score for annotation 94: 0.428\n",
      "Average Cohen Kappa Score for annotation 95: 0.425\n",
      "Average Cohen Kappa Score for annotation 96: 0.377\n",
      "Average Cohen Kappa Score for annotation 93: 0.346\n",
      "Average Cohen Kappa Score for annotation 94: 0.428\n",
      "Average Cohen Kappa Score for annotation 95: 0.425\n",
      "Average Cohen Kappa Score for annotation 96: 0.377\n",
      "Average Cohen Kappa Score for annotation 93: 0.346\n",
      "Average Cohen Kappa Score for annotation 94: 0.428\n",
      "Average Cohen Kappa Score for annotation 95: 0.425\n",
      "Average Cohen Kappa Score for annotation 96: 0.377\n",
      "Average Cohen Kappa Score for annotation 93: 0.346\n",
      "Average Cohen Kappa Score for annotation 94: 0.428\n",
      "Average Cohen Kappa Score for annotation 95: 0.425\n",
      "Average Cohen Kappa Score for annotation 96: 0.377\n",
      "Average Cohen Kappa Score for annotation 93: 0.346\n",
      "Average Cohen Kappa Score for annotation 94: 0.428\n",
      "Average Cohen Kappa Score for annotation 95: 0.425\n",
      "Average Cohen Kappa Score for annotation 96: 0.377\n",
      "Average Cohen Kappa Score for annotation 93: 0.346\n",
      "Average Cohen Kappa Score for annotation 94: 0.428\n",
      "Average Cohen Kappa Score for annotation 95: 0.425\n",
      "Average Cohen Kappa Score for annotation 96: 0.377\n",
      "Average Cohen Kappa Score for annotation 93: 0.346\n",
      "Average Cohen Kappa Score for annotation 94: 0.428\n",
      "Average Cohen Kappa Score for annotation 95: 0.425\n",
      "Average Cohen Kappa Score for annotation 96: 0.377\n",
      "Average Cohen Kappa Score for annotation 93: 0.346\n",
      "Average Cohen Kappa Score for annotation 94: 0.428\n",
      "Average Cohen Kappa Score for annotation 95: 0.425\n",
      "Average Cohen Kappa Score for annotation 96: 0.377\n",
      "Average Cohen Kappa Score for annotation 93: 0.346\n",
      "Average Cohen Kappa Score for annotation 94: 0.428\n",
      "Average Cohen Kappa Score for annotation 95: 0.425\n",
      "Average Cohen Kappa Score for annotation 96: 0.377\n",
      "Average Cohen Kappa Score for annotation 93: 0.346\n",
      "Average Cohen Kappa Score for annotation 94: 0.428\n",
      "Average Cohen Kappa Score for annotation 95: 0.425\n",
      "Average Cohen Kappa Score for annotation 96: 0.377\n",
      "Average Cohen Kappa Score for annotation 93: 0.346\n",
      "Average Cohen Kappa Score for annotation 94: 0.428\n",
      "Average Cohen Kappa Score for annotation 95: 0.425\n",
      "Average Cohen Kappa Score for annotation 96: 0.377\n",
      "Average Cohen Kappa Score for annotation 93: 0.346\n",
      "Average Cohen Kappa Score for annotation 94: 0.428\n",
      "Average Cohen Kappa Score for annotation 95: 0.425\n",
      "Average Cohen Kappa Score for annotation 96: 0.377\n",
      "Average Cohen Kappa Score for annotation 93: 0.346\n",
      "Average Cohen Kappa Score for annotation 94: 0.428\n",
      "Average Cohen Kappa Score for annotation 95: 0.425\n",
      "Average Cohen Kappa Score for annotation 96: 0.377\n",
      "Average Cohen Kappa Score for annotation 93: 0.346\n",
      "Average Cohen Kappa Score for annotation 94: 0.428\n",
      "Average Cohen Kappa Score for annotation 95: 0.425\n",
      "Average Cohen Kappa Score for annotation 96: 0.377\n",
      "Average Cohen Kappa Score for annotation 93: 0.346\n",
      "Average Cohen Kappa Score for annotation 94: 0.428\n",
      "Average Cohen Kappa Score for annotation 95: 0.425\n",
      "Average Cohen Kappa Score for annotation 96: 0.377\n",
      "Average Cohen Kappa Score for annotation 93: 0.346\n",
      "Average Cohen Kappa Score for annotation 94: 0.428\n",
      "Average Cohen Kappa Score for annotation 95: 0.425\n",
      "Average Cohen Kappa Score for annotation 96: 0.377\n",
      "Average Cohen Kappa Score for annotation 93: 0.346\n",
      "Average Cohen Kappa Score for annotation 94: 0.428\n",
      "Average Cohen Kappa Score for annotation 95: 0.425\n",
      "Average Cohen Kappa Score for annotation 96: 0.377\n",
      "Average Cohen Kappa Score for annotation 93: 0.346\n",
      "Average Cohen Kappa Score for annotation 94: 0.428\n",
      "Average Cohen Kappa Score for annotation 95: 0.425\n",
      "Average Cohen Kappa Score for annotation 96: 0.377\n",
      "Average Cohen Kappa Score for annotation 93: 0.346\n",
      "Average Cohen Kappa Score for annotation 94: 0.428\n",
      "Average Cohen Kappa Score for annotation 95: 0.425\n",
      "Average Cohen Kappa Score for annotation 96: 0.377\n",
      "Average Cohen Kappa Score for annotation 93: 0.346\n",
      "Average Cohen Kappa Score for annotation 94: 0.428\n",
      "Average Cohen Kappa Score for annotation 95: 0.425\n",
      "Average Cohen Kappa Score for annotation 96: 0.377\n",
      "Average Cohen Kappa Score for annotation 93: 0.346\n",
      "Average Cohen Kappa Score for annotation 94: 0.428\n",
      "Average Cohen Kappa Score for annotation 95: 0.425\n",
      "Average Cohen Kappa Score for annotation 96: 0.377\n",
      "Average Cohen Kappa Score for annotation 93: 0.346\n",
      "Average Cohen Kappa Score for annotation 94: 0.428\n",
      "Average Cohen Kappa Score for annotation 95: 0.425\n",
      "Average Cohen Kappa Score for annotation 96: 0.377\n",
      "Average Cohen Kappa Score for annotation 93: 0.346\n",
      "Average Cohen Kappa Score for annotation 94: 0.428\n",
      "Average Cohen Kappa Score for annotation 95: 0.425\n",
      "Average Cohen Kappa Score for annotation 96: 0.377\n",
      "Average Cohen Kappa Score for annotation 93: 0.346\n",
      "Average Cohen Kappa Score for annotation 94: 0.428\n",
      "Average Cohen Kappa Score for annotation 95: 0.425\n",
      "Average Cohen Kappa Score for annotation 96: 0.377\n",
      "Average Cohen Kappa Score for annotation 93: 0.346\n",
      "Average Cohen Kappa Score for annotation 94: 0.428\n",
      "Average Cohen Kappa Score for annotation 95: 0.425\n",
      "Average Cohen Kappa Score for annotation 96: 0.377\n",
      "Average Cohen Kappa Score for annotation 93: 0.346\n",
      "Average Cohen Kappa Score for annotation 94: 0.428\n",
      "Average Cohen Kappa Score for annotation 95: 0.425\n",
      "Average Cohen Kappa Score for annotation 96: 0.377\n",
      "Average Cohen Kappa Score for annotation 93: 0.346\n",
      "Average Cohen Kappa Score for annotation 94: 0.428\n",
      "Average Cohen Kappa Score for annotation 95: 0.425\n",
      "Average Cohen Kappa Score for annotation 96: 0.377\n",
      "Average Cohen Kappa Score for annotation 93: 0.346\n",
      "Average Cohen Kappa Score for annotation 94: 0.428\n",
      "Average Cohen Kappa Score for annotation 95: 0.425\n",
      "Average Cohen Kappa Score for annotation 96: 0.377\n",
      "Average Cohen Kappa Score for annotation 93: 0.346\n",
      "Average Cohen Kappa Score for annotation 94: 0.428\n",
      "Average Cohen Kappa Score for annotation 95: 0.425\n",
      "Average Cohen Kappa Score for annotation 96: 0.377\n",
      "Average Cohen Kappa Score for annotation 93: 0.346\n",
      "Average Cohen Kappa Score for annotation 94: 0.428\n",
      "Average Cohen Kappa Score for annotation 95: 0.425\n",
      "Average Cohen Kappa Score for annotation 96: 0.377\n",
      "Average Cohen Kappa Score for annotation 93: 0.346\n",
      "Average Cohen Kappa Score for annotation 94: 0.428\n",
      "Average Cohen Kappa Score for annotation 95: 0.425\n",
      "Average Cohen Kappa Score for annotation 96: 0.377\n",
      "Average Cohen Kappa Score for annotation 93: 0.346\n",
      "Average Cohen Kappa Score for annotation 94: 0.428\n",
      "Average Cohen Kappa Score for annotation 95: 0.425\n",
      "Average Cohen Kappa Score for annotation 96: 0.377\n",
      "Average Cohen Kappa Score for annotation 93: 0.346\n",
      "Average Cohen Kappa Score for annotation 94: 0.428\n",
      "Average Cohen Kappa Score for annotation 95: 0.425\n",
      "Average Cohen Kappa Score for annotation 96: 0.377\n",
      "Average Cohen Kappa Score for annotation 93: 0.346\n",
      "Average Cohen Kappa Score for annotation 94: 0.428\n",
      "Average Cohen Kappa Score for annotation 95: 0.425\n",
      "Average Cohen Kappa Score for annotation 96: 0.377\n",
      "Average Cohen Kappa Score for annotation 93: 0.346\n",
      "Average Cohen Kappa Score for annotation 94: 0.428\n",
      "Average Cohen Kappa Score for annotation 95: 0.425\n",
      "Average Cohen Kappa Score for annotation 96: 0.377\n",
      "Average Cohen Kappa Score for annotation 93: 0.346\n",
      "Average Cohen Kappa Score for annotation 94: 0.428\n",
      "Average Cohen Kappa Score for annotation 95: 0.425\n",
      "Average Cohen Kappa Score for annotation 96: 0.377\n",
      "Average Cohen Kappa Score for annotation 93: 0.346\n",
      "Average Cohen Kappa Score for annotation 94: 0.428\n",
      "Average Cohen Kappa Score for annotation 95: 0.425\n",
      "Average Cohen Kappa Score for annotation 96: 0.377\n",
      "Average Cohen Kappa Score for annotation 93: 0.346\n"
     ]
    },
    {
     "name": "stdout",
     "output_type": "stream",
     "text": [
      "Average Cohen Kappa Score for annotation 94: 0.428\n",
      "Average Cohen Kappa Score for annotation 95: 0.425\n",
      "Average Cohen Kappa Score for annotation 96: 0.377\n",
      "Average Cohen Kappa Score for annotation 93: 0.346\n",
      "Average Cohen Kappa Score for annotation 94: 0.428\n",
      "Average Cohen Kappa Score for annotation 95: 0.425\n",
      "Average Cohen Kappa Score for annotation 96: 0.377\n",
      "Average Cohen Kappa Score for annotation 93: 0.346\n",
      "Average Cohen Kappa Score for annotation 94: 0.428\n",
      "Average Cohen Kappa Score for annotation 95: 0.425\n",
      "Average Cohen Kappa Score for annotation 96: 0.377\n",
      "Average Cohen Kappa Score for annotation 93: 0.346\n",
      "Average Cohen Kappa Score for annotation 94: 0.428\n",
      "Average Cohen Kappa Score for annotation 95: 0.425\n",
      "Average Cohen Kappa Score for annotation 96: 0.377\n",
      "Average Cohen Kappa Score for annotation 93: 0.346\n",
      "Average Cohen Kappa Score for annotation 94: 0.428\n",
      "Average Cohen Kappa Score for annotation 95: 0.425\n",
      "Average Cohen Kappa Score for annotation 96: 0.377\n",
      "Average Cohen Kappa Score for annotation 93: 0.346\n",
      "Average Cohen Kappa Score for annotation 94: 0.428\n",
      "Average Cohen Kappa Score for annotation 95: 0.425\n",
      "Average Cohen Kappa Score for annotation 96: 0.377\n",
      "Average Cohen Kappa Score for annotation 93: 0.346\n",
      "Average Cohen Kappa Score for annotation 94: 0.428\n",
      "Average Cohen Kappa Score for annotation 95: 0.425\n",
      "Average Cohen Kappa Score for annotation 96: 0.377\n",
      "Average Cohen Kappa Score for annotation 93: 0.346\n",
      "Average Cohen Kappa Score for annotation 94: 0.428\n",
      "Average Cohen Kappa Score for annotation 95: 0.425\n",
      "Average Cohen Kappa Score for annotation 96: 0.377\n",
      "Average Cohen Kappa Score for annotation 93: 0.346\n",
      "Average Cohen Kappa Score for annotation 94: 0.428\n",
      "Average Cohen Kappa Score for annotation 95: 0.425\n",
      "Average Cohen Kappa Score for annotation 96: 0.377\n",
      "Average Cohen Kappa Score for annotation 93: 0.346\n",
      "Average Cohen Kappa Score for annotation 94: 0.428\n",
      "Average Cohen Kappa Score for annotation 95: 0.425\n",
      "Average Cohen Kappa Score for annotation 96: 0.377\n",
      "Average Cohen Kappa Score for annotation 93: 0.346\n",
      "Average Cohen Kappa Score for annotation 94: 0.428\n",
      "Average Cohen Kappa Score for annotation 95: 0.425\n",
      "Average Cohen Kappa Score for annotation 96: 0.377\n",
      "Average Cohen Kappa Score for annotation 93: 0.346\n",
      "Average Cohen Kappa Score for annotation 94: 0.428\n",
      "Average Cohen Kappa Score for annotation 95: 0.425\n",
      "Average Cohen Kappa Score for annotation 96: 0.377\n",
      "Average Cohen Kappa Score for annotation 93: 0.346\n",
      "Average Cohen Kappa Score for annotation 94: 0.428\n",
      "Average Cohen Kappa Score for annotation 95: 0.425\n",
      "Average Cohen Kappa Score for annotation 96: 0.377\n",
      "Average Cohen Kappa Score for annotation 93: 0.346\n",
      "Average Cohen Kappa Score for annotation 94: 0.428\n",
      "Average Cohen Kappa Score for annotation 95: 0.425\n",
      "Average Cohen Kappa Score for annotation 96: 0.377\n",
      "Average Cohen Kappa Score for annotation 93: 0.346\n",
      "Average Cohen Kappa Score for annotation 94: 0.428\n",
      "Average Cohen Kappa Score for annotation 95: 0.425\n",
      "Average Cohen Kappa Score for annotation 96: 0.377\n",
      "Average Cohen Kappa Score for annotation 93: 0.346\n",
      "Average Cohen Kappa Score for annotation 94: 0.428\n",
      "Average Cohen Kappa Score for annotation 95: 0.425\n",
      "Average Cohen Kappa Score for annotation 96: 0.377\n",
      "Average Cohen Kappa Score for annotation 93: 0.346\n",
      "Average Cohen Kappa Score for annotation 94: 0.428\n",
      "Average Cohen Kappa Score for annotation 95: 0.425\n",
      "Average Cohen Kappa Score for annotation 96: 0.377\n",
      "Average Cohen Kappa Score for annotation 93: 0.346\n",
      "Average Cohen Kappa Score for annotation 94: 0.428\n",
      "Average Cohen Kappa Score for annotation 95: 0.425\n",
      "Average Cohen Kappa Score for annotation 96: 0.377\n",
      "Average Cohen Kappa Score for annotation 93: 0.346\n",
      "Average Cohen Kappa Score for annotation 94: 0.428\n",
      "Average Cohen Kappa Score for annotation 95: 0.425\n",
      "Average Cohen Kappa Score for annotation 96: 0.377\n",
      "Average Cohen Kappa Score for annotation 93: 0.346\n",
      "Average Cohen Kappa Score for annotation 94: 0.428\n",
      "Average Cohen Kappa Score for annotation 95: 0.425\n",
      "Average Cohen Kappa Score for annotation 96: 0.377\n",
      "Average Cohen Kappa Score for annotation 93: 0.346\n",
      "Average Cohen Kappa Score for annotation 94: 0.428\n",
      "Average Cohen Kappa Score for annotation 95: 0.425\n",
      "Average Cohen Kappa Score for annotation 96: 0.377\n",
      "Average Cohen Kappa Score for annotation 93: 0.346\n",
      "Average Cohen Kappa Score for annotation 94: 0.428\n",
      "Average Cohen Kappa Score for annotation 95: 0.425\n",
      "Average Cohen Kappa Score for annotation 96: 0.377\n",
      "Average Cohen Kappa Score for annotation 93: 0.346\n",
      "Average Cohen Kappa Score for annotation 94: 0.428\n",
      "Average Cohen Kappa Score for annotation 95: 0.425\n",
      "Average Cohen Kappa Score for annotation 96: 0.377\n",
      "Average Cohen Kappa Score for annotation 93: 0.346\n",
      "Average Cohen Kappa Score for annotation 94: 0.428\n",
      "Average Cohen Kappa Score for annotation 95: 0.425\n",
      "Average Cohen Kappa Score for annotation 96: 0.377\n",
      "Average Cohen Kappa Score for annotation 93: 0.346\n",
      "Average Cohen Kappa Score for annotation 94: 0.428\n",
      "Average Cohen Kappa Score for annotation 95: 0.425\n",
      "Average Cohen Kappa Score for annotation 96: 0.377\n",
      "Average Cohen Kappa Score for annotation 93: 0.346\n",
      "Average Cohen Kappa Score for annotation 94: 0.428\n",
      "Average Cohen Kappa Score for annotation 95: 0.425\n",
      "Average Cohen Kappa Score for annotation 96: 0.377\n",
      "Average Cohen Kappa Score for annotation 93: 0.346\n",
      "Average Cohen Kappa Score for annotation 94: 0.428\n",
      "Average Cohen Kappa Score for annotation 95: 0.425\n",
      "Average Cohen Kappa Score for annotation 96: 0.377\n",
      "Average Cohen Kappa Score for annotation 93: 0.346\n",
      "Average Cohen Kappa Score for annotation 94: 0.428\n",
      "Average Cohen Kappa Score for annotation 95: 0.425\n",
      "Average Cohen Kappa Score for annotation 96: 0.377\n",
      "Average Cohen Kappa Score for annotation 93: 0.346\n",
      "Average Cohen Kappa Score for annotation 94: 0.428\n",
      "Average Cohen Kappa Score for annotation 95: 0.425\n",
      "Average Cohen Kappa Score for annotation 96: 0.377\n",
      "Average Cohen Kappa Score for annotation 93: 0.346\n",
      "Average Cohen Kappa Score for annotation 94: 0.428\n",
      "Average Cohen Kappa Score for annotation 95: 0.425\n",
      "Average Cohen Kappa Score for annotation 96: 0.377\n",
      "Average Cohen Kappa Score for annotation 93: 0.346\n",
      "Average Cohen Kappa Score for annotation 94: 0.428\n",
      "Average Cohen Kappa Score for annotation 95: 0.425\n",
      "Average Cohen Kappa Score for annotation 96: 0.377\n",
      "Average Cohen Kappa Score for annotation 93: 0.346\n",
      "Average Cohen Kappa Score for annotation 94: 0.428\n",
      "Average Cohen Kappa Score for annotation 95: 0.425\n",
      "Average Cohen Kappa Score for annotation 96: 0.377\n",
      "Average Cohen Kappa Score for annotation 93: 0.346\n",
      "Average Cohen Kappa Score for annotation 94: 0.428\n",
      "Average Cohen Kappa Score for annotation 95: 0.425\n",
      "Average Cohen Kappa Score for annotation 96: 0.377\n",
      "Average Cohen Kappa Score for annotation 93: 0.346\n",
      "Average Cohen Kappa Score for annotation 94: 0.428\n",
      "Average Cohen Kappa Score for annotation 95: 0.425\n",
      "Average Cohen Kappa Score for annotation 96: 0.377\n",
      "Average Cohen Kappa Score for annotation 93: 0.346\n",
      "Average Cohen Kappa Score for annotation 94: 0.428\n",
      "Average Cohen Kappa Score for annotation 95: 0.425\n",
      "Average Cohen Kappa Score for annotation 96: 0.377\n"
     ]
    },
    {
     "data": {
      "text/html": [
       "<div>\n",
       "<style scoped>\n",
       "    .dataframe tbody tr th:only-of-type {\n",
       "        vertical-align: middle;\n",
       "    }\n",
       "\n",
       "    .dataframe tbody tr th {\n",
       "        vertical-align: top;\n",
       "    }\n",
       "\n",
       "    .dataframe thead th {\n",
       "        text-align: right;\n",
       "    }\n",
       "</style>\n",
       "<table border=\"1\" class=\"dataframe\">\n",
       "  <thead>\n",
       "    <tr style=\"text-align: right;\">\n",
       "      <th></th>\n",
       "      <th>text</th>\n",
       "      <th>Final Label</th>\n",
       "    </tr>\n",
       "  </thead>\n",
       "  <tbody>\n",
       "    <tr>\n",
       "      <th>0</th>\n",
       "      <td>Language Education in the Time of COVID-19</td>\n",
       "      <td>False</td>\n",
       "    </tr>\n",
       "    <tr>\n",
       "      <th>1</th>\n",
       "      <td>COVID-19 Test Kits</td>\n",
       "      <td>False</td>\n",
       "    </tr>\n",
       "    <tr>\n",
       "      <th>2</th>\n",
       "      <td>COVID 19 IN PRISON</td>\n",
       "      <td>False</td>\n",
       "    </tr>\n",
       "    <tr>\n",
       "      <th>3</th>\n",
       "      <td>Get Waled Home</td>\n",
       "      <td>False</td>\n",
       "    </tr>\n",
       "    <tr>\n",
       "      <th>4</th>\n",
       "      <td>Make pass/fail available for Mississippi State...</td>\n",
       "      <td>False</td>\n",
       "    </tr>\n",
       "  </tbody>\n",
       "</table>\n",
       "</div>"
      ],
      "text/plain": [
       "                                                text Final Label\n",
       "0         Language Education in the Time of COVID-19       False\n",
       "1                                 COVID-19 Test Kits       False\n",
       "2                                 COVID 19 IN PRISON       False\n",
       "3                                     Get Waled Home       False\n",
       "4  Make pass/fail available for Mississippi State...       False"
      ]
     },
     "execution_count": 90,
     "metadata": {},
     "output_type": "execute_result"
    }
   ],
   "source": [
    "finalLabel(df)\n",
    "df = df.iloc[:,[0,-1]]\n",
    "df.head()"
   ]
  },
  {
   "cell_type": "code",
   "execution_count": 91,
   "metadata": {},
   "outputs": [],
   "source": [
    "df.to_csv(r'C:\\Users\\Kriti\\Desktop\\College-Academics\\NLP\\Project Phase 2-\\change.org_new\\change.org_topic_0_lockdowns.csv',\n",
    "           index = False)"
   ]
  },
  {
   "cell_type": "markdown",
   "metadata": {},
   "source": [
    "## change.org_topic_0_masking_and_distancing.csv"
   ]
  },
  {
   "cell_type": "code",
   "execution_count": 92,
   "metadata": {},
   "outputs": [
    {
     "data": {
      "text/html": [
       "<div>\n",
       "<style scoped>\n",
       "    .dataframe tbody tr th:only-of-type {\n",
       "        vertical-align: middle;\n",
       "    }\n",
       "\n",
       "    .dataframe tbody tr th {\n",
       "        vertical-align: top;\n",
       "    }\n",
       "\n",
       "    .dataframe thead th {\n",
       "        text-align: right;\n",
       "    }\n",
       "</style>\n",
       "<table border=\"1\" class=\"dataframe\">\n",
       "  <thead>\n",
       "    <tr style=\"text-align: right;\">\n",
       "      <th></th>\n",
       "      <th>text</th>\n",
       "      <th>annotation_96</th>\n",
       "      <th>annotation_53</th>\n",
       "      <th>annotation_93</th>\n",
       "      <th>annotation_94</th>\n",
       "      <th>annotation_95</th>\n",
       "    </tr>\n",
       "  </thead>\n",
       "  <tbody>\n",
       "    <tr>\n",
       "      <th>0</th>\n",
       "      <td>Language Education in the Time of COVID-19</td>\n",
       "      <td>False</td>\n",
       "      <td>False</td>\n",
       "      <td>False</td>\n",
       "      <td>False</td>\n",
       "      <td>False</td>\n",
       "    </tr>\n",
       "    <tr>\n",
       "      <th>1</th>\n",
       "      <td>COVID-19 Test Kits</td>\n",
       "      <td>False</td>\n",
       "      <td>False</td>\n",
       "      <td>False</td>\n",
       "      <td>False</td>\n",
       "      <td>False</td>\n",
       "    </tr>\n",
       "    <tr>\n",
       "      <th>2</th>\n",
       "      <td>COVID 19 IN PRISON</td>\n",
       "      <td>False</td>\n",
       "      <td>False</td>\n",
       "      <td>False</td>\n",
       "      <td>False</td>\n",
       "      <td>False</td>\n",
       "    </tr>\n",
       "    <tr>\n",
       "      <th>3</th>\n",
       "      <td>Get Waled Home</td>\n",
       "      <td>False</td>\n",
       "      <td>False</td>\n",
       "      <td>False</td>\n",
       "      <td>False</td>\n",
       "      <td>False</td>\n",
       "    </tr>\n",
       "    <tr>\n",
       "      <th>4</th>\n",
       "      <td>Make pass/fail available for Mississippi State...</td>\n",
       "      <td>False</td>\n",
       "      <td>False</td>\n",
       "      <td>False</td>\n",
       "      <td>False</td>\n",
       "      <td>False</td>\n",
       "    </tr>\n",
       "  </tbody>\n",
       "</table>\n",
       "</div>"
      ],
      "text/plain": [
       "                                                text  annotation_96  \\\n",
       "0         Language Education in the Time of COVID-19          False   \n",
       "1                                 COVID-19 Test Kits          False   \n",
       "2                                 COVID 19 IN PRISON          False   \n",
       "3                                     Get Waled Home          False   \n",
       "4  Make pass/fail available for Mississippi State...          False   \n",
       "\n",
       "   annotation_53  annotation_93  annotation_94  annotation_95  \n",
       "0          False          False          False          False  \n",
       "1          False          False          False          False  \n",
       "2          False          False          False          False  \n",
       "3          False          False          False          False  \n",
       "4          False          False          False          False  "
      ]
     },
     "execution_count": 92,
     "metadata": {},
     "output_type": "execute_result"
    }
   ],
   "source": [
    "df_1 = pd.read_csv(r'change.org_topic\\change.org_topic_0_masking_and_distancing.csv')\n",
    "df_1.head()"
   ]
  },
  {
   "cell_type": "code",
   "execution_count": 93,
   "metadata": {},
   "outputs": [
    {
     "name": "stdout",
     "output_type": "stream",
     "text": [
      "0\n",
      "0\n",
      "0\n",
      "0\n",
      "0\n",
      "0\n"
     ]
    }
   ],
   "source": [
    "print(df_1['annotation_53'].isnull().sum())\n",
    "print(df_1['annotation_93'].isnull().sum())\n",
    "print(df_1['annotation_94'].isnull().sum())\n",
    "print(df_1['annotation_95'].isnull().sum())\n",
    "print(df_1['annotation_96'].isnull().sum())\n",
    "print(df_1['text'].isnull().sum())"
   ]
  },
  {
   "cell_type": "code",
   "execution_count": 94,
   "metadata": {},
   "outputs": [],
   "source": [
    "annot_1= df_1['annotation_53']\n",
    "annot_2= df_1['annotation_93']\n",
    "annot_3= df_1['annotation_94']\n",
    "annot_4= df_1['annotation_95']\n",
    "annot_5= df_1['annotation_96']"
   ]
  },
  {
   "cell_type": "markdown",
   "metadata": {},
   "source": [
    "### Cohen_kappa average score of annotation 53"
   ]
  },
  {
   "cell_type": "code",
   "execution_count": 95,
   "metadata": {},
   "outputs": [],
   "source": [
    "def cohen_avg_1():\n",
    "    cohen_score_12 = cohen_kappa_score(annot_1,annot_2)\n",
    "    cohen_score_13 = cohen_kappa_score(annot_1,annot_3)\n",
    "    cohen_score_14 = cohen_kappa_score(annot_1,annot_4)\n",
    "    cohen_score_15 = cohen_kappa_score(annot_1,annot_5)\n",
    "    cohen_score_average_1 = round((cohen_score_12 + cohen_score_13 + cohen_score_14+ cohen_score_15)/4,3)\n",
    "    print(\"Average Cohen Kappa Score for annotation 53:\",(cohen_score_average_1))\n",
    "    return cohen_score_average_1"
   ]
  },
  {
   "cell_type": "code",
   "execution_count": 96,
   "metadata": {},
   "outputs": [
    {
     "name": "stdout",
     "output_type": "stream",
     "text": [
      "Average Cohen Kappa Score for annotation 53: -0.006\n"
     ]
    },
    {
     "data": {
      "text/plain": [
       "-0.006"
      ]
     },
     "execution_count": 96,
     "metadata": {},
     "output_type": "execute_result"
    }
   ],
   "source": [
    "cohen_avg_1()"
   ]
  },
  {
   "cell_type": "markdown",
   "metadata": {},
   "source": [
    "### Cohen_kappa average score of annotation 93"
   ]
  },
  {
   "cell_type": "code",
   "execution_count": 97,
   "metadata": {},
   "outputs": [],
   "source": [
    "def cohen_avg_2():\n",
    "    cohen_score_21 = cohen_kappa_score(annot_2,annot_1)\n",
    "    cohen_score_23 = cohen_kappa_score(annot_2,annot_3)\n",
    "    cohen_score_24 = cohen_kappa_score(annot_2,annot_4)\n",
    "    cohen_score_25 = cohen_kappa_score(annot_2,annot_5)\n",
    "    cohen_score_average_2 = round((cohen_score_21 + cohen_score_23 + cohen_score_24+ cohen_score_25)/4,3)\n",
    "    print(\"Average Cohen Kappa Score for annotation 93:\",(cohen_score_average_2))\n",
    "    return cohen_score_average_2"
   ]
  },
  {
   "cell_type": "code",
   "execution_count": 98,
   "metadata": {},
   "outputs": [
    {
     "name": "stdout",
     "output_type": "stream",
     "text": [
      "Average Cohen Kappa Score for annotation 93: 0.139\n"
     ]
    },
    {
     "data": {
      "text/plain": [
       "0.139"
      ]
     },
     "execution_count": 98,
     "metadata": {},
     "output_type": "execute_result"
    }
   ],
   "source": [
    "cohen_avg_2()"
   ]
  },
  {
   "cell_type": "markdown",
   "metadata": {},
   "source": [
    "### Cohen_kappa average score of annotation 94"
   ]
  },
  {
   "cell_type": "code",
   "execution_count": 99,
   "metadata": {},
   "outputs": [],
   "source": [
    "def cohen_avg_3():\n",
    "    cohen_score_31 = cohen_kappa_score(annot_3,annot_1)\n",
    "    cohen_score_32 = cohen_kappa_score(annot_3,annot_2)\n",
    "    cohen_score_34 = cohen_kappa_score(annot_3,annot_4)\n",
    "    cohen_score_35 = cohen_kappa_score(annot_3,annot_5)\n",
    "    cohen_score_average_3 = round((cohen_score_31 + cohen_score_32 + cohen_score_34+ cohen_score_35)/4,3)\n",
    "    print(\"Average Cohen Kappa Score for annotation 94:\",(cohen_score_average_3))\n",
    "    return cohen_score_average_3"
   ]
  },
  {
   "cell_type": "code",
   "execution_count": 100,
   "metadata": {},
   "outputs": [
    {
     "name": "stdout",
     "output_type": "stream",
     "text": [
      "Average Cohen Kappa Score for annotation 94: 0.193\n"
     ]
    },
    {
     "data": {
      "text/plain": [
       "0.193"
      ]
     },
     "execution_count": 100,
     "metadata": {},
     "output_type": "execute_result"
    }
   ],
   "source": [
    "cohen_avg_3()"
   ]
  },
  {
   "cell_type": "markdown",
   "metadata": {},
   "source": [
    "### Cohen_kappa average score of annotation 95"
   ]
  },
  {
   "cell_type": "code",
   "execution_count": 101,
   "metadata": {},
   "outputs": [],
   "source": [
    "def cohen_avg_4():\n",
    "    cohen_score_41 = cohen_kappa_score(annot_4,annot_1)\n",
    "    cohen_score_42 = cohen_kappa_score(annot_4,annot_2)\n",
    "    cohen_score_43 = cohen_kappa_score(annot_4,annot_3)\n",
    "    cohen_score_45 = cohen_kappa_score(annot_4,annot_5)\n",
    "    cohen_score_average_4 = round((cohen_score_41 + cohen_score_42 + cohen_score_43 + cohen_score_45)/4,3)\n",
    "    print(\"Average Cohen Kappa Score for annotation 95:\",(cohen_score_average_4))\n",
    "    return cohen_score_average_4"
   ]
  },
  {
   "cell_type": "code",
   "execution_count": 102,
   "metadata": {},
   "outputs": [
    {
     "name": "stdout",
     "output_type": "stream",
     "text": [
      "Average Cohen Kappa Score for annotation 95: 0.258\n"
     ]
    },
    {
     "data": {
      "text/plain": [
       "0.258"
      ]
     },
     "execution_count": 102,
     "metadata": {},
     "output_type": "execute_result"
    }
   ],
   "source": [
    "cohen_avg_4()"
   ]
  },
  {
   "cell_type": "markdown",
   "metadata": {},
   "source": [
    "### Cohen_kappa average score of annotation 96"
   ]
  },
  {
   "cell_type": "code",
   "execution_count": 103,
   "metadata": {},
   "outputs": [],
   "source": [
    "def cohen_avg_5():\n",
    "    cohen_score_51 = cohen_kappa_score(annot_5,annot_1)\n",
    "    cohen_score_52 = cohen_kappa_score(annot_5,annot_2)\n",
    "    cohen_score_53 = cohen_kappa_score(annot_5,annot_3)\n",
    "    cohen_score_54 = cohen_kappa_score(annot_5,annot_4)\n",
    "    cohen_score_average_5 = round((cohen_score_51 + cohen_score_52 + cohen_score_53 + cohen_score_54)/4,3)\n",
    "    print(\"Average Cohen Kappa Score for annotation 96:\",(cohen_score_average_5))\n",
    "    return cohen_score_average_5"
   ]
  },
  {
   "cell_type": "code",
   "execution_count": 104,
   "metadata": {},
   "outputs": [
    {
     "name": "stdout",
     "output_type": "stream",
     "text": [
      "Average Cohen Kappa Score for annotation 96: 0.201\n"
     ]
    },
    {
     "data": {
      "text/plain": [
       "0.201"
      ]
     },
     "execution_count": 104,
     "metadata": {},
     "output_type": "execute_result"
    }
   ],
   "source": [
    "cohen_avg_5()"
   ]
  },
  {
   "cell_type": "markdown",
   "metadata": {},
   "source": [
    "##### If average cohen kappa score for any annotation is less than 0.2, we will drop it"
   ]
  },
  {
   "cell_type": "code",
   "execution_count": 105,
   "metadata": {},
   "outputs": [],
   "source": [
    "def drop_annotate():\n",
    "    average = [cohen_avg_1(), cohen_avg_2(),cohen_avg_3(),cohen_avg_4(),cohen_avg_5()]\n",
    "    columns_name = ['annotation_53','annotation_93','annotation_94','annotation_95','annotation_96']\n",
    "    #columns =[annotation_1,annotation_2,annotation_3,annotation_4]\n",
    "    for i in range(0,len(average)):\n",
    "        if average[i]< 0.2:\n",
    "            print(\"\\t\")\n",
    "            print(columns_name[i])\n",
    "            print(average[i])\n",
    "            df_1.drop(columns_name[i], axis=1, inplace = True)\n",
    "    print(df_1.head())"
   ]
  },
  {
   "cell_type": "code",
   "execution_count": 106,
   "metadata": {},
   "outputs": [
    {
     "name": "stdout",
     "output_type": "stream",
     "text": [
      "Average Cohen Kappa Score for annotation 53: -0.006\n",
      "Average Cohen Kappa Score for annotation 93: 0.139\n",
      "Average Cohen Kappa Score for annotation 94: 0.193\n",
      "Average Cohen Kappa Score for annotation 95: 0.258\n",
      "Average Cohen Kappa Score for annotation 96: 0.201\n",
      "\t\n",
      "annotation_53\n",
      "-0.006\n",
      "\t\n",
      "annotation_93\n",
      "0.139\n",
      "\t\n",
      "annotation_94\n",
      "0.193\n",
      "                                                text  annotation_96  \\\n",
      "0         Language Education in the Time of COVID-19          False   \n",
      "1                                 COVID-19 Test Kits          False   \n",
      "2                                 COVID 19 IN PRISON          False   \n",
      "3                                     Get Waled Home          False   \n",
      "4  Make pass/fail available for Mississippi State...          False   \n",
      "\n",
      "   annotation_95  \n",
      "0          False  \n",
      "1          False  \n",
      "2          False  \n",
      "3          False  \n",
      "4          False  \n"
     ]
    }
   ],
   "source": [
    "drop_annotate()"
   ]
  },
  {
   "cell_type": "code",
   "execution_count": 107,
   "metadata": {},
   "outputs": [
    {
     "name": "stdout",
     "output_type": "stream",
     "text": [
      "Average Cohen Kappa Score for annotation 96: 0.201\n"
     ]
    },
    {
     "ename": "KeyError",
     "evalue": "'annotation_96'",
     "output_type": "error",
     "traceback": [
      "\u001b[1;31m---------------------------------------------------------------------------\u001b[0m",
      "\u001b[1;31mKeyError\u001b[0m                                  Traceback (most recent call last)",
      "\u001b[1;32m~\\anaconda3\\lib\\site-packages\\pandas\\core\\indexes\\base.py\u001b[0m in \u001b[0;36mget_loc\u001b[1;34m(self, key, method, tolerance)\u001b[0m\n\u001b[0;32m   2894\u001b[0m             \u001b[1;32mtry\u001b[0m\u001b[1;33m:\u001b[0m\u001b[1;33m\u001b[0m\u001b[1;33m\u001b[0m\u001b[0m\n\u001b[1;32m-> 2895\u001b[1;33m                 \u001b[1;32mreturn\u001b[0m \u001b[0mself\u001b[0m\u001b[1;33m.\u001b[0m\u001b[0m_engine\u001b[0m\u001b[1;33m.\u001b[0m\u001b[0mget_loc\u001b[0m\u001b[1;33m(\u001b[0m\u001b[0mcasted_key\u001b[0m\u001b[1;33m)\u001b[0m\u001b[1;33m\u001b[0m\u001b[1;33m\u001b[0m\u001b[0m\n\u001b[0m\u001b[0;32m   2896\u001b[0m             \u001b[1;32mexcept\u001b[0m \u001b[0mKeyError\u001b[0m \u001b[1;32mas\u001b[0m \u001b[0merr\u001b[0m\u001b[1;33m:\u001b[0m\u001b[1;33m\u001b[0m\u001b[1;33m\u001b[0m\u001b[0m\n",
      "\u001b[1;32mpandas\\_libs\\index.pyx\u001b[0m in \u001b[0;36mpandas._libs.index.IndexEngine.get_loc\u001b[1;34m()\u001b[0m\n",
      "\u001b[1;32mpandas\\_libs\\index.pyx\u001b[0m in \u001b[0;36mpandas._libs.index.IndexEngine.get_loc\u001b[1;34m()\u001b[0m\n",
      "\u001b[1;32mpandas\\_libs\\hashtable_class_helper.pxi\u001b[0m in \u001b[0;36mpandas._libs.hashtable.PyObjectHashTable.get_item\u001b[1;34m()\u001b[0m\n",
      "\u001b[1;32mpandas\\_libs\\hashtable_class_helper.pxi\u001b[0m in \u001b[0;36mpandas._libs.hashtable.PyObjectHashTable.get_item\u001b[1;34m()\u001b[0m\n",
      "\u001b[1;31mKeyError\u001b[0m: 'annotation_96'",
      "\nThe above exception was the direct cause of the following exception:\n",
      "\u001b[1;31mKeyError\u001b[0m                                  Traceback (most recent call last)",
      "\u001b[1;32m<ipython-input-107-d78c4c07de4f>\u001b[0m in \u001b[0;36m<module>\u001b[1;34m\u001b[0m\n\u001b[0;32m     23\u001b[0m                 \u001b[0mdf\u001b[0m\u001b[1;33m.\u001b[0m\u001b[0mloc\u001b[0m\u001b[1;33m[\u001b[0m\u001b[0mindex\u001b[0m\u001b[1;33m,\u001b[0m \u001b[1;34m'res'\u001b[0m\u001b[1;33m]\u001b[0m \u001b[1;33m=\u001b[0m \u001b[1;32mFalse\u001b[0m\u001b[1;33m\u001b[0m\u001b[1;33m\u001b[0m\u001b[0m\n\u001b[0;32m     24\u001b[0m \u001b[1;33m\u001b[0m\u001b[0m\n\u001b[1;32m---> 25\u001b[1;33m \u001b[0mfinalLabel\u001b[0m\u001b[1;33m(\u001b[0m\u001b[0mdf\u001b[0m\u001b[1;33m)\u001b[0m\u001b[1;33m\u001b[0m\u001b[1;33m\u001b[0m\u001b[0m\n\u001b[0m\u001b[0;32m     26\u001b[0m \u001b[0mdf\u001b[0m \u001b[1;33m=\u001b[0m \u001b[0mdf\u001b[0m\u001b[1;33m.\u001b[0m\u001b[0miloc\u001b[0m\u001b[1;33m[\u001b[0m\u001b[1;33m:\u001b[0m\u001b[1;33m,\u001b[0m\u001b[1;33m[\u001b[0m\u001b[1;36m0\u001b[0m\u001b[1;33m,\u001b[0m\u001b[1;33m-\u001b[0m\u001b[1;36m1\u001b[0m\u001b[1;33m]\u001b[0m\u001b[1;33m]\u001b[0m\u001b[1;33m\u001b[0m\u001b[1;33m\u001b[0m\u001b[0m\n\u001b[0;32m     27\u001b[0m \u001b[0mdf\u001b[0m\u001b[1;33m.\u001b[0m\u001b[0mhead\u001b[0m\u001b[1;33m(\u001b[0m\u001b[1;33m)\u001b[0m\u001b[1;33m\u001b[0m\u001b[1;33m\u001b[0m\u001b[0m\n",
      "\u001b[1;32m<ipython-input-107-d78c4c07de4f>\u001b[0m in \u001b[0;36mfinalLabel\u001b[1;34m(df_1)\u001b[0m\n\u001b[0;32m      2\u001b[0m     \u001b[1;32mfor\u001b[0m \u001b[0mindex\u001b[0m\u001b[1;33m,\u001b[0m \u001b[0mrows\u001b[0m \u001b[1;32min\u001b[0m \u001b[0mdf_1\u001b[0m\u001b[1;33m.\u001b[0m\u001b[0miterrows\u001b[0m\u001b[1;33m(\u001b[0m\u001b[1;33m)\u001b[0m\u001b[1;33m:\u001b[0m\u001b[1;33m\u001b[0m\u001b[1;33m\u001b[0m\u001b[0m\n\u001b[0;32m      3\u001b[0m         \u001b[1;31m#print(index, rows['text'])\u001b[0m\u001b[1;33m\u001b[0m\u001b[1;33m\u001b[0m\u001b[1;33m\u001b[0m\u001b[0m\n\u001b[1;32m----> 4\u001b[1;33m         compare = [[cohen_avg_5(),rows['annotation_96']],\n\u001b[0m\u001b[0;32m      5\u001b[0m                        [cohen_avg_4(),rows['annotation_95']]]\n\u001b[0;32m      6\u001b[0m \u001b[1;33m\u001b[0m\u001b[0m\n",
      "\u001b[1;32m~\\anaconda3\\lib\\site-packages\\pandas\\core\\series.py\u001b[0m in \u001b[0;36m__getitem__\u001b[1;34m(self, key)\u001b[0m\n\u001b[0;32m    880\u001b[0m \u001b[1;33m\u001b[0m\u001b[0m\n\u001b[0;32m    881\u001b[0m         \u001b[1;32melif\u001b[0m \u001b[0mkey_is_scalar\u001b[0m\u001b[1;33m:\u001b[0m\u001b[1;33m\u001b[0m\u001b[1;33m\u001b[0m\u001b[0m\n\u001b[1;32m--> 882\u001b[1;33m             \u001b[1;32mreturn\u001b[0m \u001b[0mself\u001b[0m\u001b[1;33m.\u001b[0m\u001b[0m_get_value\u001b[0m\u001b[1;33m(\u001b[0m\u001b[0mkey\u001b[0m\u001b[1;33m)\u001b[0m\u001b[1;33m\u001b[0m\u001b[1;33m\u001b[0m\u001b[0m\n\u001b[0m\u001b[0;32m    883\u001b[0m \u001b[1;33m\u001b[0m\u001b[0m\n\u001b[0;32m    884\u001b[0m         \u001b[1;32mif\u001b[0m \u001b[0mis_hashable\u001b[0m\u001b[1;33m(\u001b[0m\u001b[0mkey\u001b[0m\u001b[1;33m)\u001b[0m\u001b[1;33m:\u001b[0m\u001b[1;33m\u001b[0m\u001b[1;33m\u001b[0m\u001b[0m\n",
      "\u001b[1;32m~\\anaconda3\\lib\\site-packages\\pandas\\core\\series.py\u001b[0m in \u001b[0;36m_get_value\u001b[1;34m(self, label, takeable)\u001b[0m\n\u001b[0;32m    987\u001b[0m \u001b[1;33m\u001b[0m\u001b[0m\n\u001b[0;32m    988\u001b[0m         \u001b[1;31m# Similar to Index.get_value, but we do not fall back to positional\u001b[0m\u001b[1;33m\u001b[0m\u001b[1;33m\u001b[0m\u001b[1;33m\u001b[0m\u001b[0m\n\u001b[1;32m--> 989\u001b[1;33m         \u001b[0mloc\u001b[0m \u001b[1;33m=\u001b[0m \u001b[0mself\u001b[0m\u001b[1;33m.\u001b[0m\u001b[0mindex\u001b[0m\u001b[1;33m.\u001b[0m\u001b[0mget_loc\u001b[0m\u001b[1;33m(\u001b[0m\u001b[0mlabel\u001b[0m\u001b[1;33m)\u001b[0m\u001b[1;33m\u001b[0m\u001b[1;33m\u001b[0m\u001b[0m\n\u001b[0m\u001b[0;32m    990\u001b[0m         \u001b[1;32mreturn\u001b[0m \u001b[0mself\u001b[0m\u001b[1;33m.\u001b[0m\u001b[0mindex\u001b[0m\u001b[1;33m.\u001b[0m\u001b[0m_get_values_for_loc\u001b[0m\u001b[1;33m(\u001b[0m\u001b[0mself\u001b[0m\u001b[1;33m,\u001b[0m \u001b[0mloc\u001b[0m\u001b[1;33m,\u001b[0m \u001b[0mlabel\u001b[0m\u001b[1;33m)\u001b[0m\u001b[1;33m\u001b[0m\u001b[1;33m\u001b[0m\u001b[0m\n\u001b[0;32m    991\u001b[0m \u001b[1;33m\u001b[0m\u001b[0m\n",
      "\u001b[1;32m~\\anaconda3\\lib\\site-packages\\pandas\\core\\indexes\\base.py\u001b[0m in \u001b[0;36mget_loc\u001b[1;34m(self, key, method, tolerance)\u001b[0m\n\u001b[0;32m   2895\u001b[0m                 \u001b[1;32mreturn\u001b[0m \u001b[0mself\u001b[0m\u001b[1;33m.\u001b[0m\u001b[0m_engine\u001b[0m\u001b[1;33m.\u001b[0m\u001b[0mget_loc\u001b[0m\u001b[1;33m(\u001b[0m\u001b[0mcasted_key\u001b[0m\u001b[1;33m)\u001b[0m\u001b[1;33m\u001b[0m\u001b[1;33m\u001b[0m\u001b[0m\n\u001b[0;32m   2896\u001b[0m             \u001b[1;32mexcept\u001b[0m \u001b[0mKeyError\u001b[0m \u001b[1;32mas\u001b[0m \u001b[0merr\u001b[0m\u001b[1;33m:\u001b[0m\u001b[1;33m\u001b[0m\u001b[1;33m\u001b[0m\u001b[0m\n\u001b[1;32m-> 2897\u001b[1;33m                 \u001b[1;32mraise\u001b[0m \u001b[0mKeyError\u001b[0m\u001b[1;33m(\u001b[0m\u001b[0mkey\u001b[0m\u001b[1;33m)\u001b[0m \u001b[1;32mfrom\u001b[0m \u001b[0merr\u001b[0m\u001b[1;33m\u001b[0m\u001b[1;33m\u001b[0m\u001b[0m\n\u001b[0m\u001b[0;32m   2898\u001b[0m \u001b[1;33m\u001b[0m\u001b[0m\n\u001b[0;32m   2899\u001b[0m         \u001b[1;32mif\u001b[0m \u001b[0mtolerance\u001b[0m \u001b[1;32mis\u001b[0m \u001b[1;32mnot\u001b[0m \u001b[1;32mNone\u001b[0m\u001b[1;33m:\u001b[0m\u001b[1;33m\u001b[0m\u001b[1;33m\u001b[0m\u001b[0m\n",
      "\u001b[1;31mKeyError\u001b[0m: 'annotation_96'"
     ]
    }
   ],
   "source": [
    "def finalLabel(df_1):\n",
    "    for index, rows in df_1.iterrows():\n",
    "        #print(index, rows['text'])\n",
    "        compare = [[cohen_avg_5(),rows['annotation_96']],\n",
    "                       [cohen_avg_4(),rows['annotation_95']]]\n",
    "        \n",
    "        boolean = [rows['annotation_96'],rows['annotation_95']]\n",
    "        \n",
    "        compare.sort(key = lambda k:k[0])\n",
    "        t = compare.count('True')\n",
    "        f = compare.count('False')\n",
    "        #print('True:',t, 'False', f)\n",
    "    \n",
    "                \n",
    "        if t == f: \n",
    "            kapaValue, colValue = compare[-1]\n",
    "            df.loc[index, 'res'] = colValue\n",
    "            \n",
    "        elif t!=f:\n",
    "            if t > f:\n",
    "                df.loc[index, 'res'] = True\n",
    "            else:\n",
    "                df.loc[index, 'res'] = False\n",
    "    \n",
    "finalLabel(df)\n",
    "df = df.iloc[:,[0,-1]]\n",
    "df.head()\n"
   ]
  },
  {
   "cell_type": "code",
   "execution_count": null,
   "metadata": {},
   "outputs": [],
   "source": []
  },
  {
   "cell_type": "markdown",
   "metadata": {},
   "source": [
    "## change.org_topic_0_vaccination.csv"
   ]
  },
  {
   "cell_type": "code",
   "execution_count": null,
   "metadata": {},
   "outputs": [],
   "source": [
    "df_2 = pd.read_csv(r'change.org_topic\\change.org_topic_0_vaccination.csv')\n",
    "df_2.head()"
   ]
  },
  {
   "cell_type": "code",
   "execution_count": null,
   "metadata": {},
   "outputs": [],
   "source": [
    "print(df_2['annotation_53'].isnull().sum())\n",
    "print(df_2['annotation_93'].isnull().sum())\n",
    "print(df_2['annotation_94'].isnull().sum())\n",
    "print(df_2['annotation_95'].isnull().sum())\n",
    "print(df_2['annotation_96'].isnull().sum())\n",
    "print(df_2['text'].isnull().sum())"
   ]
  },
  {
   "cell_type": "code",
   "execution_count": null,
   "metadata": {},
   "outputs": [],
   "source": [
    "annotation_1= df_2['annotation_53']\n",
    "annotation_2= df_2['annotation_93']\n",
    "annotation_3= df_2['annotation_94']\n",
    "annotation_4= df_2['annotation_95']\n",
    "annotation_5= df_2['annotation_96']"
   ]
  },
  {
   "cell_type": "markdown",
   "metadata": {},
   "source": [
    "### Cohen_kappa average score of annotation 53"
   ]
  },
  {
   "cell_type": "code",
   "execution_count": null,
   "metadata": {},
   "outputs": [],
   "source": [
    "def cohen_avg_1():\n",
    "    cohen_score_12 = cohen_kappa_score(annotation_1,annotation_2)\n",
    "    cohen_score_13 = cohen_kappa_score(annotation_1,annotation_3)\n",
    "    cohen_score_14 = cohen_kappa_score(annotation_1,annotation_4)\n",
    "    cohen_score_15 = cohen_kappa_score(annotation_1,annotation_5)\n",
    "    cohen_score_average_1 = round((cohen_score_12 + cohen_score_13 + cohen_score_14+ cohen_score_15)/4,3)\n",
    "    print(\"Average Cohen Kappa Score for annotation 53:\",(cohen_score_average_1))\n",
    "    return cohen_score_average_1"
   ]
  },
  {
   "cell_type": "code",
   "execution_count": null,
   "metadata": {},
   "outputs": [],
   "source": [
    "cohen_avg_1()"
   ]
  },
  {
   "cell_type": "markdown",
   "metadata": {},
   "source": [
    "### Cohen_kappa average score of annotation 93"
   ]
  },
  {
   "cell_type": "code",
   "execution_count": null,
   "metadata": {},
   "outputs": [],
   "source": [
    "def cohen_avg_2():\n",
    "    cohen_score_21 = cohen_kappa_score(annotation_2,annotation_1)\n",
    "    cohen_score_23 = cohen_kappa_score(annotation_2,annotation_3)\n",
    "    cohen_score_24 = cohen_kappa_score(annotation_2,annotation_4)\n",
    "    cohen_score_25 = cohen_kappa_score(annotation_2,annotation_5)\n",
    "    cohen_score_average_2 = round((cohen_score_21 + cohen_score_23 + cohen_score_24+ cohen_score_25)/4,3)\n",
    "    print(\"Average Cohen Kappa Score for annotation 93:\",(cohen_score_average_2))\n",
    "    return cohen_score_average_2"
   ]
  },
  {
   "cell_type": "code",
   "execution_count": null,
   "metadata": {},
   "outputs": [],
   "source": [
    "cohen_avg_2()"
   ]
  },
  {
   "cell_type": "markdown",
   "metadata": {},
   "source": [
    "### Cohen_kappa average score of annotation 94"
   ]
  },
  {
   "cell_type": "code",
   "execution_count": null,
   "metadata": {},
   "outputs": [],
   "source": [
    "def cohen_avg_3():\n",
    "    cohen_score_31 = cohen_kappa_score(annotation_3,annotation_1)\n",
    "    cohen_score_32 = cohen_kappa_score(annotation_3,annotation_2)\n",
    "    cohen_score_34 = cohen_kappa_score(annotation_3,annotation_4)\n",
    "    cohen_score_35 = cohen_kappa_score(annotation_3,annotation_5)\n",
    "    cohen_score_average_3 = round((cohen_score_31 + cohen_score_32 + cohen_score_34+ cohen_score_35)/4,3)\n",
    "    print(\"Average Cohen Kappa Score for annotation 94:\",(cohen_score_average_3))\n",
    "    return cohen_score_average_3"
   ]
  },
  {
   "cell_type": "code",
   "execution_count": null,
   "metadata": {},
   "outputs": [],
   "source": [
    "cohen_avg_3()"
   ]
  },
  {
   "cell_type": "markdown",
   "metadata": {},
   "source": [
    "### Cohen_kappa average score of annotation 95"
   ]
  },
  {
   "cell_type": "code",
   "execution_count": null,
   "metadata": {},
   "outputs": [],
   "source": [
    "def cohen_avg_4():\n",
    "    cohen_score_41 = cohen_kappa_score(annotation_4,annotation_1)\n",
    "    cohen_score_42 = cohen_kappa_score(annotation_4,annotation_2)\n",
    "    cohen_score_43 = cohen_kappa_score(annotation_4,annotation_3)\n",
    "    cohen_score_45 = cohen_kappa_score(annotation_4,annotation_5)\n",
    "    cohen_score_average_4 = round((cohen_score_41 + cohen_score_42 + cohen_score_43 + cohen_score_45)/4,3)\n",
    "    print(\"Average Cohen Kappa Score for annotation 95:\",(cohen_score_average_4))\n",
    "    return cohen_score_average_4"
   ]
  },
  {
   "cell_type": "code",
   "execution_count": null,
   "metadata": {},
   "outputs": [],
   "source": [
    "cohen_avg_4()"
   ]
  },
  {
   "cell_type": "markdown",
   "metadata": {},
   "source": [
    "### Cohen_kappa average score of annotation 96"
   ]
  },
  {
   "cell_type": "code",
   "execution_count": null,
   "metadata": {},
   "outputs": [],
   "source": [
    "def cohen_avg_5():\n",
    "    cohen_score_51 = cohen_kappa_score(annotation_5,annotation_1)\n",
    "    cohen_score_52 = cohen_kappa_score(annotation_5,annotation_2)\n",
    "    cohen_score_53 = cohen_kappa_score(annotation_5,annotation_3)\n",
    "    cohen_score_54 = cohen_kappa_score(annotation_5,annotation_4)\n",
    "    cohen_score_average_5 = round((cohen_score_51 + cohen_score_52 + cohen_score_53 + cohen_score_54)/4,3)\n",
    "    print(\"Average Cohen Kappa Score for annotation 96:\",(cohen_score_average_5))\n",
    "    return cohen_score_average_5"
   ]
  },
  {
   "cell_type": "code",
   "execution_count": null,
   "metadata": {},
   "outputs": [],
   "source": [
    "cohen_avg_5()"
   ]
  },
  {
   "cell_type": "markdown",
   "metadata": {},
   "source": [
    "##### If average cohen kappa score for any annotation is less than 0.2, we will drop it"
   ]
  },
  {
   "cell_type": "code",
   "execution_count": null,
   "metadata": {},
   "outputs": [],
   "source": [
    "def drop_annotate():\n",
    "    average = [cohen_avg_1(), cohen_avg_2(),cohen_avg_3(),cohen_avg_4(),cohen_avg_5()]\n",
    "    columns_name = ['annotation_53','annotation_93','annotation_94','annotation_95','annotation_96']\n",
    "    #columns =[annotation_1,annotation_2,annotation_3,annotation_4]\n",
    "    for i in range(0,len(average)):\n",
    "        if average[i]< 0.2:\n",
    "            print(\"\\t\")\n",
    "            print(columns_name[i])\n",
    "            print(average[i])\n",
    "            df_2.drop(columns_name[i], axis=1, inplace = True)\n",
    "    print(df_2.head())"
   ]
  },
  {
   "cell_type": "code",
   "execution_count": null,
   "metadata": {},
   "outputs": [],
   "source": [
    "drop_annotate()"
   ]
  },
  {
   "cell_type": "code",
   "execution_count": null,
   "metadata": {},
   "outputs": [],
   "source": []
  },
  {
   "cell_type": "markdown",
   "metadata": {},
   "source": [
    "## change.org_topic_1_lockdowns.csv"
   ]
  },
  {
   "cell_type": "code",
   "execution_count": null,
   "metadata": {},
   "outputs": [],
   "source": [
    "df_3 = pd.read_csv(r'change.org_topic\\change.org_topic_1_lockdowns.csv')\n",
    "df_3.head()"
   ]
  },
  {
   "cell_type": "code",
   "execution_count": null,
   "metadata": {},
   "outputs": [],
   "source": [
    "print(df_3['annotation_109'].isnull().sum())\n",
    "print(df_3['annotation_110'].isnull().sum())\n",
    "print(df_3['annotation_111'].isnull().sum())\n",
    "print(df_3['annotation_112'].isnull().sum())\n",
    "print(df_3['text'].isnull().sum())"
   ]
  },
  {
   "cell_type": "code",
   "execution_count": null,
   "metadata": {},
   "outputs": [],
   "source": [
    "annotation_1= df_3['annotation_109']\n",
    "annotation_2= df_3['annotation_110']\n",
    "annotation_3= df_3['annotation_111']\n",
    "annotation_4= df_3['annotation_112']"
   ]
  },
  {
   "cell_type": "markdown",
   "metadata": {},
   "source": [
    "### Cohen_kappa average score of annotation 109"
   ]
  },
  {
   "cell_type": "code",
   "execution_count": null,
   "metadata": {},
   "outputs": [],
   "source": [
    "def cohen_avg_1():\n",
    "    cohen_score_12 = cohen_kappa_score(annotation_1,annotation_2)\n",
    "    cohen_score_13 = cohen_kappa_score(annotation_1,annotation_3)\n",
    "    cohen_score_14 = cohen_kappa_score(annotation_1,annotation_4)\n",
    "    cohen_score_average_1 = round((cohen_score_12 + cohen_score_13 + cohen_score_14)/3,3)\n",
    "    print(\"Average Cohen Kappa Score for annotation 109:\",(cohen_score_average_1))\n",
    "    return cohen_score_average_1"
   ]
  },
  {
   "cell_type": "code",
   "execution_count": null,
   "metadata": {},
   "outputs": [],
   "source": [
    "cohen_avg_1()"
   ]
  },
  {
   "cell_type": "markdown",
   "metadata": {},
   "source": [
    "### Cohen_kappa average score of annotation 110"
   ]
  },
  {
   "cell_type": "code",
   "execution_count": null,
   "metadata": {},
   "outputs": [],
   "source": [
    "def cohen_avg_2():\n",
    "    cohen_score_21 = cohen_kappa_score(annotation_2,annotation_1)\n",
    "    cohen_score_23 = cohen_kappa_score(annotation_2,annotation_3)\n",
    "    cohen_score_24 = cohen_kappa_score(annotation_2,annotation_4)\n",
    "    cohen_score_average_2 = round((cohen_score_21 + cohen_score_23 + cohen_score_24)/3,3)\n",
    "    print(\"Average Cohen Kappa Score for annotation 110:\",(cohen_score_average_2))\n",
    "    return cohen_score_average_2"
   ]
  },
  {
   "cell_type": "code",
   "execution_count": null,
   "metadata": {},
   "outputs": [],
   "source": [
    "cohen_avg_2()"
   ]
  },
  {
   "cell_type": "markdown",
   "metadata": {},
   "source": [
    "### Cohen_kappa average score of annotation 111"
   ]
  },
  {
   "cell_type": "code",
   "execution_count": null,
   "metadata": {},
   "outputs": [],
   "source": [
    "def cohen_avg_3():\n",
    "    cohen_score_31 = cohen_kappa_score(annotation_3,annotation_1)\n",
    "    cohen_score_32 = cohen_kappa_score(annotation_3,annotation_2)\n",
    "    cohen_score_34 = cohen_kappa_score(annotation_3,annotation_4)\n",
    "    cohen_score_average_3 = round((cohen_score_31 + cohen_score_32 + cohen_score_34)/3,3)\n",
    "    print(\"Average Cohen Kappa Score for annotation 111:\",(cohen_score_average_3))\n",
    "    return cohen_score_average_3"
   ]
  },
  {
   "cell_type": "code",
   "execution_count": null,
   "metadata": {},
   "outputs": [],
   "source": [
    "cohen_avg_3()"
   ]
  },
  {
   "cell_type": "markdown",
   "metadata": {},
   "source": [
    "### Cohen_kappa average score of annotation 112"
   ]
  },
  {
   "cell_type": "code",
   "execution_count": null,
   "metadata": {},
   "outputs": [],
   "source": [
    "def cohen_avg_4():\n",
    "    cohen_score_41 = cohen_kappa_score(annotation_4,annotation_1)\n",
    "    cohen_score_42 = cohen_kappa_score(annotation_4,annotation_2)\n",
    "    cohen_score_43 = cohen_kappa_score(annotation_4,annotation_3)\n",
    "    cohen_score_average_4 = round((cohen_score_41 + cohen_score_42 + cohen_score_43)/3,3)\n",
    "    print(\"Average Cohen Kappa Score for annotation 112:\",(cohen_score_average_4))\n",
    "    return cohen_score_average_4"
   ]
  },
  {
   "cell_type": "code",
   "execution_count": null,
   "metadata": {},
   "outputs": [],
   "source": [
    "cohen_avg_4()"
   ]
  },
  {
   "cell_type": "markdown",
   "metadata": {},
   "source": [
    "##### If average cohen kappa score for any annotation is less than 0.2, we will drop it"
   ]
  },
  {
   "cell_type": "code",
   "execution_count": null,
   "metadata": {},
   "outputs": [],
   "source": [
    "def drop_annotate():\n",
    "    average = [cohen_avg_1(), cohen_avg_2(),cohen_avg_3(),cohen_avg_4()]\n",
    "    columns_name = ['annotation_109','annotation_110','annotation_111','annotation_112']\n",
    "    #columns =[annotation_1,annotation_2,annotation_3,annotation_4]\n",
    "    for i in range(0,len(average)):\n",
    "        if average[i]< 0.2:\n",
    "            print(columns_name[i])\n",
    "            print(average[i])\n",
    "            df_3.drop(columns_name[i], axis=1, inplace = True)\n",
    "    print(df_3.head())"
   ]
  },
  {
   "cell_type": "code",
   "execution_count": null,
   "metadata": {},
   "outputs": [],
   "source": [
    "drop_annotate()"
   ]
  },
  {
   "cell_type": "markdown",
   "metadata": {},
   "source": [
    "## change_topic_1_masking_and_distancing.csv"
   ]
  },
  {
   "cell_type": "code",
   "execution_count": null,
   "metadata": {},
   "outputs": [],
   "source": [
    "df_4 = pd.read_csv(r'change.org_topic\\change.org_topic_1_masking_and_distancing.csv')\n",
    "df_4.head()"
   ]
  },
  {
   "cell_type": "code",
   "execution_count": null,
   "metadata": {},
   "outputs": [],
   "source": [
    "print(df_4['annotation_109'].isnull().sum())\n",
    "print(df_4['annotation_110'].isnull().sum())\n",
    "print(df_4['annotation_111'].isnull().sum())\n",
    "print(df_4['annotation_112'].isnull().sum())\n",
    "print(df_4['text'].isnull().sum())"
   ]
  },
  {
   "cell_type": "code",
   "execution_count": null,
   "metadata": {},
   "outputs": [],
   "source": [
    "annotation_1= df_4['annotation_109']\n",
    "annotation_2= df_4['annotation_110']\n",
    "annotation_3= df_4['annotation_111']\n",
    "annotation_4= df_4['annotation_112']"
   ]
  },
  {
   "cell_type": "markdown",
   "metadata": {},
   "source": [
    "### Cohen_kappa average score of annotation 109"
   ]
  },
  {
   "cell_type": "code",
   "execution_count": null,
   "metadata": {},
   "outputs": [],
   "source": [
    "def cohen_avg_1():\n",
    "    cohen_score_12 = cohen_kappa_score(annotation_1,annotation_2)\n",
    "    cohen_score_13 = cohen_kappa_score(annotation_1,annotation_3)\n",
    "    cohen_score_14 = cohen_kappa_score(annotation_1,annotation_4)\n",
    "    cohen_score_average_1 = round((cohen_score_12 + cohen_score_13 + cohen_score_14)/3,3)\n",
    "    print(\"Average Cohen Kappa Score for annotation 109:\",(cohen_score_average_1))\n",
    "    return cohen_score_average_1"
   ]
  },
  {
   "cell_type": "code",
   "execution_count": null,
   "metadata": {},
   "outputs": [],
   "source": [
    "cohen_avg_1()"
   ]
  },
  {
   "cell_type": "markdown",
   "metadata": {},
   "source": [
    "### Cohen_kappa average score of annotation 110"
   ]
  },
  {
   "cell_type": "code",
   "execution_count": null,
   "metadata": {},
   "outputs": [],
   "source": [
    "def cohen_avg_2():\n",
    "    cohen_score_21 = cohen_kappa_score(annotation_2,annotation_1)\n",
    "    cohen_score_23 = cohen_kappa_score(annotation_2,annotation_3)\n",
    "    cohen_score_24 = cohen_kappa_score(annotation_2,annotation_4)\n",
    "    cohen_score_average_2 = round((cohen_score_21 + cohen_score_23 + cohen_score_24)/3,3)\n",
    "    print(\"Average Cohen Kappa Score for annotation 110:\",(cohen_score_average_2))\n",
    "    return cohen_score_average_2"
   ]
  },
  {
   "cell_type": "code",
   "execution_count": null,
   "metadata": {},
   "outputs": [],
   "source": [
    "cohen_avg_2()"
   ]
  },
  {
   "cell_type": "markdown",
   "metadata": {},
   "source": [
    "### Cohen_kappa average score of annotation 111"
   ]
  },
  {
   "cell_type": "code",
   "execution_count": null,
   "metadata": {},
   "outputs": [],
   "source": [
    "def cohen_avg_3():\n",
    "    cohen_score_31 = cohen_kappa_score(annotation_3,annotation_1)\n",
    "    cohen_score_32 = cohen_kappa_score(annotation_3,annotation_2)\n",
    "    cohen_score_34 = cohen_kappa_score(annotation_3,annotation_4)\n",
    "    cohen_score_average_3 = round((cohen_score_31 + cohen_score_32 + cohen_score_34)/3,3)\n",
    "    print(\"Average Cohen Kappa Score for annotation 111:\",(cohen_score_average_3))\n",
    "    return cohen_score_average_3"
   ]
  },
  {
   "cell_type": "code",
   "execution_count": null,
   "metadata": {},
   "outputs": [],
   "source": [
    "cohen_avg_3()"
   ]
  },
  {
   "cell_type": "markdown",
   "metadata": {},
   "source": [
    "### Cohen_kappa average score of annotation 112"
   ]
  },
  {
   "cell_type": "code",
   "execution_count": null,
   "metadata": {},
   "outputs": [],
   "source": [
    "def cohen_avg_4():\n",
    "    cohen_score_41 = cohen_kappa_score(annotation_4,annotation_1)\n",
    "    cohen_score_42 = cohen_kappa_score(annotation_4,annotation_2)\n",
    "    cohen_score_43 = cohen_kappa_score(annotation_4,annotation_3)\n",
    "    cohen_score_average_4 = round((cohen_score_41 + cohen_score_42 + cohen_score_43)/3,3)\n",
    "    print(\"Average Cohen Kappa Score for annotation 112:\",(cohen_score_average_4))\n",
    "    return cohen_score_average_4"
   ]
  },
  {
   "cell_type": "code",
   "execution_count": null,
   "metadata": {},
   "outputs": [],
   "source": [
    "cohen_avg_4()"
   ]
  },
  {
   "cell_type": "markdown",
   "metadata": {},
   "source": [
    "##### If average cohen kappa score for any annotation is less than 0.2, we will drop it"
   ]
  },
  {
   "cell_type": "code",
   "execution_count": null,
   "metadata": {},
   "outputs": [],
   "source": [
    "def drop_annotate():\n",
    "    average = [cohen_avg_1(), cohen_avg_2(),cohen_avg_3(),cohen_avg_4()]\n",
    "    columns_name = ['annotation_109','annotation_110','annotation_111','annotation_112']\n",
    "    #columns =[annotation_1,annotation_2,annotation_3,annotation_4]\n",
    "    for i in range(0,len(average)):\n",
    "        if average[i]< 0.2:\n",
    "            print(columns_name[i])\n",
    "            print(average[i])\n",
    "            df_4.drop(columns_name[i], axis=1, inplace = True)\n",
    "    print(df_4.head())"
   ]
  },
  {
   "cell_type": "code",
   "execution_count": null,
   "metadata": {},
   "outputs": [],
   "source": [
    "drop_annotate()"
   ]
  },
  {
   "cell_type": "code",
   "execution_count": null,
   "metadata": {},
   "outputs": [],
   "source": []
  },
  {
   "cell_type": "code",
   "execution_count": null,
   "metadata": {},
   "outputs": [],
   "source": []
  },
  {
   "cell_type": "markdown",
   "metadata": {},
   "source": [
    "## change.org_topic_1_vaccination.csv"
   ]
  },
  {
   "cell_type": "code",
   "execution_count": null,
   "metadata": {},
   "outputs": [],
   "source": [
    "df_5 = pd.read_csv(r'change.org_topic\\change.org_topic_1_vaccination.csv')\n",
    "df_5.head()"
   ]
  },
  {
   "cell_type": "code",
   "execution_count": null,
   "metadata": {},
   "outputs": [],
   "source": [
    "print(df_5['annotation_109'].isnull().sum())\n",
    "print(df_5['annotation_110'].isnull().sum())\n",
    "print(df_5['annotation_111'].isnull().sum())\n",
    "print(df_5['annotation_112'].isnull().sum())\n",
    "print(df_5['text'].isnull().sum())"
   ]
  },
  {
   "cell_type": "code",
   "execution_count": null,
   "metadata": {},
   "outputs": [],
   "source": [
    "annotation_1= df_5['annotation_109']\n",
    "annotation_2= df_5['annotation_110']\n",
    "annotation_3= df_5['annotation_111']\n",
    "annotation_4= df_5['annotation_112']"
   ]
  },
  {
   "cell_type": "markdown",
   "metadata": {},
   "source": [
    "### Cohen_kappa average score of annotation 109"
   ]
  },
  {
   "cell_type": "code",
   "execution_count": null,
   "metadata": {},
   "outputs": [],
   "source": [
    "def cohen_avg_1():\n",
    "    cohen_score_12 = cohen_kappa_score(annotation_1,annotation_2)\n",
    "    cohen_score_13 = cohen_kappa_score(annotation_1,annotation_3)\n",
    "    cohen_score_14 = cohen_kappa_score(annotation_1,annotation_4)\n",
    "    cohen_score_average_1 = round((cohen_score_12 + cohen_score_13 + cohen_score_14)/3,3)\n",
    "    print(\"Average Cohen Kappa Score for annotation 109:\",(cohen_score_average_1))\n",
    "    return cohen_score_average_1"
   ]
  },
  {
   "cell_type": "code",
   "execution_count": null,
   "metadata": {},
   "outputs": [],
   "source": [
    "cohen_avg_1()"
   ]
  },
  {
   "cell_type": "markdown",
   "metadata": {},
   "source": [
    "### Cohen_kappa average score of annotation 110"
   ]
  },
  {
   "cell_type": "code",
   "execution_count": null,
   "metadata": {},
   "outputs": [],
   "source": [
    "def cohen_avg_2():\n",
    "    cohen_score_21 = cohen_kappa_score(annotation_2,annotation_1)\n",
    "    cohen_score_23 = cohen_kappa_score(annotation_2,annotation_3)\n",
    "    cohen_score_24 = cohen_kappa_score(annotation_2,annotation_4)\n",
    "    cohen_score_average_2 = round((cohen_score_21 + cohen_score_23 + cohen_score_24)/3,3)\n",
    "    print(\"Average Cohen Kappa Score for annotation 110:\",(cohen_score_average_2))\n",
    "    return cohen_score_average_2"
   ]
  },
  {
   "cell_type": "code",
   "execution_count": null,
   "metadata": {},
   "outputs": [],
   "source": [
    "cohen_avg_2()"
   ]
  },
  {
   "cell_type": "markdown",
   "metadata": {},
   "source": [
    "### Cohen_kappa average score of annotation 111"
   ]
  },
  {
   "cell_type": "code",
   "execution_count": null,
   "metadata": {},
   "outputs": [],
   "source": [
    "def cohen_avg_3():\n",
    "    cohen_score_31 = cohen_kappa_score(annotation_3,annotation_1)\n",
    "    cohen_score_32 = cohen_kappa_score(annotation_3,annotation_2)\n",
    "    cohen_score_34 = cohen_kappa_score(annotation_3,annotation_4)\n",
    "    cohen_score_average_3 = round((cohen_score_31 + cohen_score_32 + cohen_score_34)/3,3)\n",
    "    print(\"Average Cohen Kappa Score for annotation 111:\",(cohen_score_average_3))\n",
    "    return cohen_score_average_3"
   ]
  },
  {
   "cell_type": "code",
   "execution_count": null,
   "metadata": {},
   "outputs": [],
   "source": [
    "cohen_avg_3()"
   ]
  },
  {
   "cell_type": "markdown",
   "metadata": {},
   "source": [
    "### Cohen_kappa average score of annotation 112"
   ]
  },
  {
   "cell_type": "code",
   "execution_count": null,
   "metadata": {},
   "outputs": [],
   "source": [
    "def cohen_avg_4():\n",
    "    cohen_score_41 = cohen_kappa_score(annotation_4,annotation_1)\n",
    "    cohen_score_42 = cohen_kappa_score(annotation_4,annotation_2)\n",
    "    cohen_score_43 = cohen_kappa_score(annotation_4,annotation_3)\n",
    "    cohen_score_average_4 = round((cohen_score_41 + cohen_score_42 + cohen_score_43)/3,3)\n",
    "    print(\"Average Cohen Kappa Score for annotation 112:\",(cohen_score_average_4))\n",
    "    return cohen_score_average_4"
   ]
  },
  {
   "cell_type": "code",
   "execution_count": null,
   "metadata": {},
   "outputs": [],
   "source": [
    "cohen_avg_4()"
   ]
  },
  {
   "cell_type": "markdown",
   "metadata": {},
   "source": [
    "##### If average cohen kappa score for any annotation is less than 0.2, we will drop it"
   ]
  },
  {
   "cell_type": "code",
   "execution_count": null,
   "metadata": {},
   "outputs": [],
   "source": [
    "def drop_annotate():\n",
    "    average = [cohen_avg_1(), cohen_avg_2(),cohen_avg_3(),cohen_avg_4()]\n",
    "    columns_name = ['annotation_109','annotation_110','annotation_111','annotation_112']\n",
    "    #columns =[annotation_1,annotation_2,annotation_3,annotation_4]\n",
    "    for i in range(0,len(average)):\n",
    "        if average[i]< 0.2:\n",
    "            print(columns_name[i])\n",
    "            print(average[i])\n",
    "            df_5.drop(columns_name[i], axis=1, inplace = True)\n",
    "    print(df_5.head())"
   ]
  },
  {
   "cell_type": "code",
   "execution_count": null,
   "metadata": {},
   "outputs": [],
   "source": [
    "drop_annotate()"
   ]
  },
  {
   "cell_type": "code",
   "execution_count": null,
   "metadata": {},
   "outputs": [],
   "source": []
  },
  {
   "cell_type": "markdown",
   "metadata": {},
   "source": [
    "## change.org_topic_2_lockdowns.csv"
   ]
  },
  {
   "cell_type": "code",
   "execution_count": null,
   "metadata": {},
   "outputs": [],
   "source": [
    "df_6 = pd.read_csv(r'change.org_topic\\change.org_topic_2_lockdowns.csv')\n",
    "df_6.head()"
   ]
  },
  {
   "cell_type": "code",
   "execution_count": null,
   "metadata": {},
   "outputs": [],
   "source": [
    "print(df_6['annotation_73'].isnull().sum())\n",
    "print(df_6['annotation_74'].isnull().sum())\n",
    "print(df_6['annotation_75'].isnull().sum())\n",
    "print(df_6['annotation_76'].isnull().sum())\n",
    "print(df_6['text'].isnull().sum())"
   ]
  },
  {
   "cell_type": "code",
   "execution_count": null,
   "metadata": {},
   "outputs": [],
   "source": [
    "annotation_1= df_6['annotation_73']\n",
    "annotation_2= df_6['annotation_74']\n",
    "annotation_3= df_6['annotation_75']\n",
    "annotation_4= df_6['annotation_76']"
   ]
  },
  {
   "cell_type": "markdown",
   "metadata": {},
   "source": [
    "### Cohen_kappa average score of annotation 73"
   ]
  },
  {
   "cell_type": "code",
   "execution_count": null,
   "metadata": {},
   "outputs": [],
   "source": [
    "def cohen_avg_1():\n",
    "    cohen_score_12 = cohen_kappa_score(annotation_1,annotation_2)\n",
    "    cohen_score_13 = cohen_kappa_score(annotation_1,annotation_3)\n",
    "    cohen_score_14 = cohen_kappa_score(annotation_1,annotation_4)\n",
    "    cohen_score_average_1 = round((cohen_score_12 + cohen_score_13 + cohen_score_14)/3,3)\n",
    "    print(\"Average Cohen Kappa Score for annotation 73:\",(cohen_score_average_1))\n",
    "    return cohen_score_average_1"
   ]
  },
  {
   "cell_type": "code",
   "execution_count": null,
   "metadata": {},
   "outputs": [],
   "source": [
    "cohen_avg_1()"
   ]
  },
  {
   "cell_type": "markdown",
   "metadata": {},
   "source": [
    "### Cohen_kappa average score of annotation 74"
   ]
  },
  {
   "cell_type": "code",
   "execution_count": null,
   "metadata": {},
   "outputs": [],
   "source": [
    "def cohen_avg_2():\n",
    "    cohen_score_21 = cohen_kappa_score(annotation_2,annotation_1)\n",
    "    cohen_score_23 = cohen_kappa_score(annotation_2,annotation_3)\n",
    "    cohen_score_24 = cohen_kappa_score(annotation_2,annotation_4)\n",
    "    cohen_score_average_2 = round((cohen_score_21 + cohen_score_23 + cohen_score_24)/3,3)\n",
    "    print(\"Average Cohen Kappa Score for annotation 74:\",(cohen_score_average_2))\n",
    "    return cohen_score_average_2"
   ]
  },
  {
   "cell_type": "code",
   "execution_count": null,
   "metadata": {},
   "outputs": [],
   "source": [
    "cohen_avg_2()"
   ]
  },
  {
   "cell_type": "markdown",
   "metadata": {},
   "source": [
    "### Cohen_kappa average score of annotation 75"
   ]
  },
  {
   "cell_type": "code",
   "execution_count": null,
   "metadata": {},
   "outputs": [],
   "source": [
    "def cohen_avg_3():\n",
    "    cohen_score_31 = cohen_kappa_score(annotation_3,annotation_1)\n",
    "    cohen_score_32 = cohen_kappa_score(annotation_3,annotation_2)\n",
    "    cohen_score_34 = cohen_kappa_score(annotation_3,annotation_4)\n",
    "    cohen_score_average_3 = round((cohen_score_31 + cohen_score_32 + cohen_score_34)/3,3)\n",
    "    print(\"Average Cohen Kappa Score for annotation 75:\",(cohen_score_average_3))\n",
    "    return cohen_score_average_3"
   ]
  },
  {
   "cell_type": "code",
   "execution_count": null,
   "metadata": {},
   "outputs": [],
   "source": [
    "cohen_avg_3()"
   ]
  },
  {
   "cell_type": "markdown",
   "metadata": {},
   "source": [
    "### Cohen_kappa average score of annotation 76"
   ]
  },
  {
   "cell_type": "code",
   "execution_count": null,
   "metadata": {},
   "outputs": [],
   "source": [
    "def cohen_avg_4():\n",
    "    cohen_score_41 = cohen_kappa_score(annotation_4,annotation_1)\n",
    "    cohen_score_42 = cohen_kappa_score(annotation_4,annotation_2)\n",
    "    cohen_score_43 = cohen_kappa_score(annotation_4,annotation_3)\n",
    "    cohen_score_average_4 = round((cohen_score_41 + cohen_score_42 + cohen_score_43)/3,3)\n",
    "    print(\"Average Cohen Kappa Score for annotation 76:\",(cohen_score_average_4))\n",
    "    return cohen_score_average_4"
   ]
  },
  {
   "cell_type": "code",
   "execution_count": null,
   "metadata": {},
   "outputs": [],
   "source": [
    "cohen_avg_4()"
   ]
  },
  {
   "cell_type": "markdown",
   "metadata": {},
   "source": [
    "##### If average cohen kappa score for any annotation is less than 0.2, we will drop it"
   ]
  },
  {
   "cell_type": "code",
   "execution_count": null,
   "metadata": {},
   "outputs": [],
   "source": [
    "def drop_annotate():\n",
    "    average = [cohen_avg_1(), cohen_avg_2(),cohen_avg_3(),cohen_avg_4()]\n",
    "    columns_name = ['annotation_73','annotation_74','annotation_75','annotation_76']\n",
    "    #columns =[annotation_1,annotation_2,annotation_3,annotation_4]\n",
    "    for i in range(0,len(average)):\n",
    "        if average[i]< 0.2:\n",
    "            print(columns_name[i])\n",
    "            print(average[i])\n",
    "            df_6.drop(columns_name[i], axis=1, inplace = True)\n",
    "    print(df_6.head())"
   ]
  },
  {
   "cell_type": "code",
   "execution_count": null,
   "metadata": {},
   "outputs": [],
   "source": [
    "drop_annotate()"
   ]
  },
  {
   "cell_type": "code",
   "execution_count": null,
   "metadata": {},
   "outputs": [],
   "source": []
  },
  {
   "cell_type": "code",
   "execution_count": null,
   "metadata": {},
   "outputs": [],
   "source": []
  },
  {
   "cell_type": "markdown",
   "metadata": {},
   "source": [
    "## change.org_topic_2_masking_and_distancing.csv"
   ]
  },
  {
   "cell_type": "code",
   "execution_count": null,
   "metadata": {},
   "outputs": [],
   "source": [
    "df_7 = pd.read_csv(r'change.org_topic\\change.org_topic_2_masking_and_distancing.csv')\n",
    "df_7.head()"
   ]
  },
  {
   "cell_type": "code",
   "execution_count": null,
   "metadata": {},
   "outputs": [],
   "source": [
    "print(df_7['annotation_73'].isnull().sum())\n",
    "print(df_7['annotation_74'].isnull().sum())\n",
    "print(df_7['annotation_75'].isnull().sum())\n",
    "print(df_7['annotation_76'].isnull().sum())\n",
    "print(df_7['text'].isnull().sum())"
   ]
  },
  {
   "cell_type": "code",
   "execution_count": null,
   "metadata": {},
   "outputs": [],
   "source": [
    "annotation_1= df_7['annotation_73']\n",
    "annotation_2= df_7['annotation_74']\n",
    "annotation_3= df_7['annotation_75']\n",
    "annotation_4= df_7['annotation_76']"
   ]
  },
  {
   "cell_type": "markdown",
   "metadata": {},
   "source": [
    "### Cohen_kappa average score of annotation 73"
   ]
  },
  {
   "cell_type": "code",
   "execution_count": null,
   "metadata": {},
   "outputs": [],
   "source": [
    "def cohen_avg_1():\n",
    "    cohen_score_12 = cohen_kappa_score(annotation_1,annotation_2)\n",
    "    cohen_score_13 = cohen_kappa_score(annotation_1,annotation_3)\n",
    "    cohen_score_14 = cohen_kappa_score(annotation_1,annotation_4)\n",
    "    cohen_score_average_1 = round((cohen_score_12 + cohen_score_13 + cohen_score_14)/3,3)\n",
    "    print(\"Average Cohen Kappa Score for annotation 73:\",(cohen_score_average_1))\n",
    "    return cohen_score_average_1"
   ]
  },
  {
   "cell_type": "code",
   "execution_count": null,
   "metadata": {},
   "outputs": [],
   "source": [
    "cohen_avg_1()"
   ]
  },
  {
   "cell_type": "markdown",
   "metadata": {},
   "source": [
    "### Cohen_kappa average score of annotation 74"
   ]
  },
  {
   "cell_type": "code",
   "execution_count": null,
   "metadata": {},
   "outputs": [],
   "source": [
    "def cohen_avg_2():\n",
    "    cohen_score_21 = cohen_kappa_score(annotation_2,annotation_1)\n",
    "    cohen_score_23 = cohen_kappa_score(annotation_2,annotation_3)\n",
    "    cohen_score_24 = cohen_kappa_score(annotation_2,annotation_4)\n",
    "    cohen_score_average_2 = round((cohen_score_21 + cohen_score_23 + cohen_score_24)/3,3)\n",
    "    print(\"Average Cohen Kappa Score for annotation 74:\",(cohen_score_average_2))\n",
    "    return cohen_score_average_2"
   ]
  },
  {
   "cell_type": "code",
   "execution_count": null,
   "metadata": {},
   "outputs": [],
   "source": [
    "cohen_avg_2()"
   ]
  },
  {
   "cell_type": "markdown",
   "metadata": {},
   "source": [
    "### Cohen_kappa average score of annotation 75"
   ]
  },
  {
   "cell_type": "code",
   "execution_count": null,
   "metadata": {},
   "outputs": [],
   "source": [
    "def cohen_avg_3():\n",
    "    cohen_score_31 = cohen_kappa_score(annotation_3,annotation_1)\n",
    "    cohen_score_32 = cohen_kappa_score(annotation_3,annotation_2)\n",
    "    cohen_score_34 = cohen_kappa_score(annotation_3,annotation_4)\n",
    "    cohen_score_average_3 = round((cohen_score_31 + cohen_score_32 + cohen_score_34)/3,3)\n",
    "    print(\"Average Cohen Kappa Score for annotation 75:\",(cohen_score_average_3))\n",
    "    return cohen_score_average_3"
   ]
  },
  {
   "cell_type": "code",
   "execution_count": null,
   "metadata": {},
   "outputs": [],
   "source": [
    "cohen_avg_3()"
   ]
  },
  {
   "cell_type": "markdown",
   "metadata": {},
   "source": [
    "### Cohen_kappa average score of annotation 76"
   ]
  },
  {
   "cell_type": "code",
   "execution_count": null,
   "metadata": {},
   "outputs": [],
   "source": [
    "def cohen_avg_4():\n",
    "    cohen_score_41 = cohen_kappa_score(annotation_4,annotation_1)\n",
    "    cohen_score_42 = cohen_kappa_score(annotation_4,annotation_2)\n",
    "    cohen_score_43 = cohen_kappa_score(annotation_4,annotation_3)\n",
    "    cohen_score_average_4 = round((cohen_score_41 + cohen_score_42 + cohen_score_43)/3,3)\n",
    "    print(\"Average Cohen Kappa Score for annotation 76:\",(cohen_score_average_4))\n",
    "    return cohen_score_average_4"
   ]
  },
  {
   "cell_type": "code",
   "execution_count": null,
   "metadata": {},
   "outputs": [],
   "source": [
    "cohen_avg_4()"
   ]
  },
  {
   "cell_type": "markdown",
   "metadata": {},
   "source": [
    "##### If average cohen kappa score for any annotation is less than 0.2, we will drop it"
   ]
  },
  {
   "cell_type": "code",
   "execution_count": null,
   "metadata": {},
   "outputs": [],
   "source": [
    "def drop_annotate():\n",
    "    average = [cohen_avg_1(), cohen_avg_2(),cohen_avg_3(),cohen_avg_4()]\n",
    "    columns_name = ['annotation_73','annotation_74','annotation_75','annotation_76']\n",
    "    #columns =[annotation_1,annotation_2,annotation_3,annotation_4]\n",
    "    for i in range(0,len(average)):\n",
    "        if average[i]< 0.2:\n",
    "            print(\"\\n\")\n",
    "            print(columns_name[i])\n",
    "            print(average[i])\n",
    "            df_7.drop(columns_name[i], axis=1, inplace = True)\n",
    "    print(df_7.head())"
   ]
  },
  {
   "cell_type": "code",
   "execution_count": null,
   "metadata": {},
   "outputs": [],
   "source": [
    "drop_annotate()"
   ]
  },
  {
   "cell_type": "code",
   "execution_count": null,
   "metadata": {},
   "outputs": [],
   "source": []
  },
  {
   "cell_type": "markdown",
   "metadata": {},
   "source": [
    "## change.org_topic_2_vaccination.csv"
   ]
  },
  {
   "cell_type": "code",
   "execution_count": null,
   "metadata": {},
   "outputs": [],
   "source": [
    "df_8 = pd.read_csv(r'change.org_topic\\change.org_topic_2_vaccination.csv')\n",
    "df_8.head()"
   ]
  },
  {
   "cell_type": "code",
   "execution_count": null,
   "metadata": {},
   "outputs": [],
   "source": [
    "print(df_8['annotation_73'].isnull().sum())\n",
    "print(df_8['annotation_74'].isnull().sum())\n",
    "print(df_8['annotation_75'].isnull().sum())\n",
    "print(df_8['annotation_76'].isnull().sum())\n",
    "print(df_8['text'].isnull().sum())"
   ]
  },
  {
   "cell_type": "code",
   "execution_count": null,
   "metadata": {},
   "outputs": [],
   "source": [
    "annotation_1= df_8['annotation_73']\n",
    "annotation_2= df_8['annotation_74']\n",
    "annotation_3= df_8['annotation_75']\n",
    "annotation_4= df_8['annotation_76']"
   ]
  },
  {
   "cell_type": "markdown",
   "metadata": {},
   "source": [
    "### Cohen_kappa average score of annotation 73"
   ]
  },
  {
   "cell_type": "code",
   "execution_count": null,
   "metadata": {},
   "outputs": [],
   "source": [
    "def cohen_avg_1():\n",
    "    cohen_score_12 = cohen_kappa_score(annotation_1,annotation_2)\n",
    "    cohen_score_13 = cohen_kappa_score(annotation_1,annotation_3)\n",
    "    cohen_score_14 = cohen_kappa_score(annotation_1,annotation_4)\n",
    "    cohen_score_average_1 = round((cohen_score_12 + cohen_score_13 + cohen_score_14)/3,3)\n",
    "    print(\"Average Cohen Kappa Score for annotation 73:\",(cohen_score_average_1))\n",
    "    return cohen_score_average_1"
   ]
  },
  {
   "cell_type": "code",
   "execution_count": null,
   "metadata": {},
   "outputs": [],
   "source": [
    "cohen_avg_1()"
   ]
  },
  {
   "cell_type": "markdown",
   "metadata": {},
   "source": [
    "### Cohen_kappa average score of annotation 74"
   ]
  },
  {
   "cell_type": "code",
   "execution_count": null,
   "metadata": {},
   "outputs": [],
   "source": [
    "def cohen_avg_2():\n",
    "    cohen_score_21 = cohen_kappa_score(annotation_2,annotation_1)\n",
    "    cohen_score_23 = cohen_kappa_score(annotation_2,annotation_3)\n",
    "    cohen_score_24 = cohen_kappa_score(annotation_2,annotation_4)\n",
    "    cohen_score_average_2 = round((cohen_score_21 + cohen_score_23 + cohen_score_24)/3,3)\n",
    "    print(\"Average Cohen Kappa Score for annotation 74:\",(cohen_score_average_2))\n",
    "    return cohen_score_average_2"
   ]
  },
  {
   "cell_type": "code",
   "execution_count": null,
   "metadata": {},
   "outputs": [],
   "source": [
    "cohen_avg_2()"
   ]
  },
  {
   "cell_type": "markdown",
   "metadata": {},
   "source": [
    "### Cohen_kappa average score of annotation 75"
   ]
  },
  {
   "cell_type": "code",
   "execution_count": null,
   "metadata": {},
   "outputs": [],
   "source": [
    "def cohen_avg_3():\n",
    "    cohen_score_31 = cohen_kappa_score(annotation_3,annotation_1)\n",
    "    cohen_score_32 = cohen_kappa_score(annotation_3,annotation_2)\n",
    "    cohen_score_34 = cohen_kappa_score(annotation_3,annotation_4)\n",
    "    cohen_score_average_3 = round((cohen_score_31 + cohen_score_32 + cohen_score_34)/3,3)\n",
    "    print(\"Average Cohen Kappa Score for annotation 75:\",(cohen_score_average_3))\n",
    "    return cohen_score_average_3"
   ]
  },
  {
   "cell_type": "code",
   "execution_count": null,
   "metadata": {},
   "outputs": [],
   "source": [
    "cohen_avg_3()"
   ]
  },
  {
   "cell_type": "markdown",
   "metadata": {},
   "source": [
    "### Cohen_kappa average score of annotation 76"
   ]
  },
  {
   "cell_type": "code",
   "execution_count": null,
   "metadata": {},
   "outputs": [],
   "source": [
    "def cohen_avg_4():\n",
    "    cohen_score_41 = cohen_kappa_score(annotation_4,annotation_1)\n",
    "    cohen_score_42 = cohen_kappa_score(annotation_4,annotation_2)\n",
    "    cohen_score_43 = cohen_kappa_score(annotation_4,annotation_3)\n",
    "    cohen_score_average_4 = round((cohen_score_41 + cohen_score_42 + cohen_score_43)/3,3)\n",
    "    print(\"Average Cohen Kappa Score for annotation 76:\",(cohen_score_average_4))\n",
    "    return cohen_score_average_4"
   ]
  },
  {
   "cell_type": "code",
   "execution_count": null,
   "metadata": {},
   "outputs": [],
   "source": [
    "cohen_avg_4()"
   ]
  },
  {
   "cell_type": "markdown",
   "metadata": {},
   "source": [
    "##### If average cohen kappa score for any annotation is less than 0.2, we will drop it"
   ]
  },
  {
   "cell_type": "code",
   "execution_count": null,
   "metadata": {},
   "outputs": [],
   "source": [
    "def drop_annotate():\n",
    "    average = [cohen_avg_1(), cohen_avg_2(),cohen_avg_3(),cohen_avg_4()]\n",
    "    columns_name = ['annotation_73','annotation_74','annotation_75','annotation_76']\n",
    "    #columns =[annotation_1,annotation_2,annotation_3,annotation_4]\n",
    "    for i in range(0,len(average)):\n",
    "        if average[i]< 0.2:\n",
    "            print(\"\\n\")\n",
    "            print(columns_name[i])\n",
    "            print(average[i])\n",
    "            df_8.drop(columns_name[i], axis=1, inplace = True)\n",
    "    print(df_8.head())"
   ]
  },
  {
   "cell_type": "code",
   "execution_count": null,
   "metadata": {},
   "outputs": [],
   "source": [
    "drop_annotate()"
   ]
  },
  {
   "cell_type": "code",
   "execution_count": null,
   "metadata": {},
   "outputs": [],
   "source": []
  },
  {
   "cell_type": "markdown",
   "metadata": {},
   "source": [
    "## change.org_topic_3_lockdowns.csv"
   ]
  },
  {
   "cell_type": "code",
   "execution_count": null,
   "metadata": {},
   "outputs": [],
   "source": [
    "df_9 = pd.read_csv(r'change.org_topic\\change.org_topic_3_lockdowns.csv')\n",
    "df_9.head()"
   ]
  },
  {
   "cell_type": "code",
   "execution_count": null,
   "metadata": {},
   "outputs": [],
   "source": [
    "print(df_9['annotation_47'].isnull().sum())\n",
    "print(df_9['annotation_48'].isnull().sum())\n",
    "print(df_9['annotation_49'].isnull().sum())\n",
    "print(df_9['annotation_50'].isnull().sum())\n",
    "print(df_9['text'].isnull().sum())"
   ]
  },
  {
   "cell_type": "code",
   "execution_count": null,
   "metadata": {},
   "outputs": [],
   "source": [
    "annotation_1= df_9['annotation_47']\n",
    "annotation_2= df_9['annotation_48']\n",
    "annotation_3= df_9['annotation_49']\n",
    "annotation_4= df_9['annotation_50']"
   ]
  },
  {
   "cell_type": "markdown",
   "metadata": {},
   "source": [
    "### Cohen_kappa average score of annotation 47"
   ]
  },
  {
   "cell_type": "code",
   "execution_count": null,
   "metadata": {},
   "outputs": [],
   "source": [
    "def cohen_avg_1():\n",
    "    cohen_score_12 = cohen_kappa_score(annotation_1,annotation_2)\n",
    "    cohen_score_13 = cohen_kappa_score(annotation_1,annotation_3)\n",
    "    cohen_score_14 = cohen_kappa_score(annotation_1,annotation_4)\n",
    "    cohen_score_average_1 = round((cohen_score_12 + cohen_score_13 + cohen_score_14)/3,3)\n",
    "    print(\"Average Cohen Kappa Score for annotation 47:\",(cohen_score_average_1))\n",
    "    return cohen_score_average_1"
   ]
  },
  {
   "cell_type": "code",
   "execution_count": null,
   "metadata": {},
   "outputs": [],
   "source": [
    "cohen_avg_1()"
   ]
  },
  {
   "cell_type": "markdown",
   "metadata": {},
   "source": [
    "### Cohen_kappa average score of annotation 48"
   ]
  },
  {
   "cell_type": "code",
   "execution_count": null,
   "metadata": {},
   "outputs": [],
   "source": [
    "def cohen_avg_2():\n",
    "    cohen_score_21 = cohen_kappa_score(annotation_2,annotation_1)\n",
    "    cohen_score_23 = cohen_kappa_score(annotation_2,annotation_3)\n",
    "    cohen_score_24 = cohen_kappa_score(annotation_2,annotation_4)\n",
    "    cohen_score_average_2 = round((cohen_score_21 + cohen_score_23 + cohen_score_24)/3,3)\n",
    "    print(\"Average Cohen Kappa Score for annotation 48:\",(cohen_score_average_2))\n",
    "    return cohen_score_average_2"
   ]
  },
  {
   "cell_type": "code",
   "execution_count": null,
   "metadata": {},
   "outputs": [],
   "source": [
    "cohen_avg_2()"
   ]
  },
  {
   "cell_type": "markdown",
   "metadata": {},
   "source": [
    "### Cohen_kappa average score of annotation 49"
   ]
  },
  {
   "cell_type": "code",
   "execution_count": null,
   "metadata": {},
   "outputs": [],
   "source": [
    "def cohen_avg_3():\n",
    "    cohen_score_31 = cohen_kappa_score(annotation_3,annotation_1)\n",
    "    cohen_score_32 = cohen_kappa_score(annotation_3,annotation_2)\n",
    "    cohen_score_34 = cohen_kappa_score(annotation_3,annotation_4)\n",
    "    cohen_score_average_3 = round((cohen_score_31 + cohen_score_32 + cohen_score_34)/3,3)\n",
    "    print(\"Average Cohen Kappa Score for annotation 49:\",(cohen_score_average_3))\n",
    "    return cohen_score_average_3"
   ]
  },
  {
   "cell_type": "code",
   "execution_count": null,
   "metadata": {},
   "outputs": [],
   "source": [
    "cohen_avg_3()"
   ]
  },
  {
   "cell_type": "markdown",
   "metadata": {},
   "source": [
    "### Cohen_kappa average score of annotation 50"
   ]
  },
  {
   "cell_type": "code",
   "execution_count": null,
   "metadata": {},
   "outputs": [],
   "source": [
    "def cohen_avg_4():\n",
    "    cohen_score_41 = cohen_kappa_score(annotation_4,annotation_1)\n",
    "    cohen_score_42 = cohen_kappa_score(annotation_4,annotation_2)\n",
    "    cohen_score_43 = cohen_kappa_score(annotation_4,annotation_3)\n",
    "    cohen_score_average_4 = round((cohen_score_41 + cohen_score_42 + cohen_score_43)/3,3)\n",
    "    print(\"Average Cohen Kappa Score for annotation 50:\",(cohen_score_average_4))\n",
    "    return cohen_score_average_4"
   ]
  },
  {
   "cell_type": "code",
   "execution_count": null,
   "metadata": {},
   "outputs": [],
   "source": [
    "cohen_avg_4()"
   ]
  },
  {
   "cell_type": "markdown",
   "metadata": {},
   "source": [
    "##### If average cohen kappa score for any annotation is less than 0.2, we will drop it"
   ]
  },
  {
   "cell_type": "code",
   "execution_count": null,
   "metadata": {},
   "outputs": [],
   "source": [
    "def drop_annotate():\n",
    "    average = [cohen_avg_1(), cohen_avg_2(),cohen_avg_3(),cohen_avg_4()]\n",
    "    columns_name = ['annotation_47','annotation_48','annotation_49','annotation_50']\n",
    "    #columns =[annotation_1,annotation_2,annotation_3,annotation_4]\n",
    "    for i in range(0,len(average)):\n",
    "        if average[i]< 0.2:\n",
    "            print(\"\\n\")\n",
    "            print(columns_name[i])\n",
    "            print(average[i])\n",
    "            df_9.drop(columns_name[i], axis=1, inplace = True)\n",
    "    print(df_9.head())"
   ]
  },
  {
   "cell_type": "code",
   "execution_count": null,
   "metadata": {},
   "outputs": [],
   "source": [
    "drop_annotate()"
   ]
  },
  {
   "cell_type": "markdown",
   "metadata": {},
   "source": [
    "## change.org_topic_3_masking_and_distancing.csv"
   ]
  },
  {
   "cell_type": "code",
   "execution_count": null,
   "metadata": {},
   "outputs": [],
   "source": [
    "df_10 = pd.read_csv(r'change.org_topic\\change.org_topic_3_masking_and_distancing.csv')\n",
    "df_10.head()"
   ]
  },
  {
   "cell_type": "code",
   "execution_count": null,
   "metadata": {},
   "outputs": [],
   "source": [
    "print(df_10['annotation_47'].isnull().sum())\n",
    "print(df_10['annotation_48'].isnull().sum())\n",
    "print(df_10['annotation_49'].isnull().sum())\n",
    "print(df_10['annotation_50'].isnull().sum())\n",
    "print(df_10['text'].isnull().sum())"
   ]
  },
  {
   "cell_type": "code",
   "execution_count": null,
   "metadata": {},
   "outputs": [],
   "source": [
    "annotation_1= df_10['annotation_47']\n",
    "annotation_2= df_10['annotation_48']\n",
    "annotation_3= df_10['annotation_49']\n",
    "annotation_4= df_10['annotation_50']"
   ]
  },
  {
   "cell_type": "markdown",
   "metadata": {},
   "source": [
    "### Cohen_kappa average score of annotation 47"
   ]
  },
  {
   "cell_type": "code",
   "execution_count": null,
   "metadata": {},
   "outputs": [],
   "source": [
    "def cohen_avg_1():\n",
    "    cohen_score_12 = cohen_kappa_score(annotation_1,annotation_2)\n",
    "    cohen_score_13 = cohen_kappa_score(annotation_1,annotation_3)\n",
    "    cohen_score_14 = cohen_kappa_score(annotation_1,annotation_4)\n",
    "    cohen_score_average_1 = round((cohen_score_12 + cohen_score_13 + cohen_score_14)/3,3)\n",
    "    print(\"Average Cohen Kappa Score for annotation 47:\",(cohen_score_average_1))\n",
    "    return cohen_score_average_1"
   ]
  },
  {
   "cell_type": "code",
   "execution_count": null,
   "metadata": {},
   "outputs": [],
   "source": [
    "cohen_avg_1()"
   ]
  },
  {
   "cell_type": "markdown",
   "metadata": {},
   "source": [
    "### Cohen_kappa average score of annotation 48"
   ]
  },
  {
   "cell_type": "code",
   "execution_count": null,
   "metadata": {},
   "outputs": [],
   "source": [
    "def cohen_avg_2():\n",
    "    cohen_score_21 = cohen_kappa_score(annotation_2,annotation_1)\n",
    "    cohen_score_23 = cohen_kappa_score(annotation_2,annotation_3)\n",
    "    cohen_score_24 = cohen_kappa_score(annotation_2,annotation_4)\n",
    "    cohen_score_average_2 = round((cohen_score_21 + cohen_score_23 + cohen_score_24)/3,3)\n",
    "    print(\"Average Cohen Kappa Score for annotation 48:\",(cohen_score_average_2))\n",
    "    return cohen_score_average_2"
   ]
  },
  {
   "cell_type": "code",
   "execution_count": null,
   "metadata": {},
   "outputs": [],
   "source": [
    "cohen_avg_2()"
   ]
  },
  {
   "cell_type": "markdown",
   "metadata": {},
   "source": [
    "### Cohen_kappa average score of annotation 49"
   ]
  },
  {
   "cell_type": "code",
   "execution_count": null,
   "metadata": {},
   "outputs": [],
   "source": [
    "def cohen_avg_3():\n",
    "    cohen_score_31 = cohen_kappa_score(annotation_3,annotation_1)\n",
    "    cohen_score_32 = cohen_kappa_score(annotation_3,annotation_2)\n",
    "    cohen_score_34 = cohen_kappa_score(annotation_3,annotation_4)\n",
    "    cohen_score_average_3 = round((cohen_score_31 + cohen_score_32 + cohen_score_34)/3,3)\n",
    "    print(\"Average Cohen Kappa Score for annotation 49:\",(cohen_score_average_3))\n",
    "    return cohen_score_average_3"
   ]
  },
  {
   "cell_type": "code",
   "execution_count": null,
   "metadata": {},
   "outputs": [],
   "source": [
    "cohen_avg_3()"
   ]
  },
  {
   "cell_type": "markdown",
   "metadata": {},
   "source": [
    "### Cohen_kappa average score of annotation 50"
   ]
  },
  {
   "cell_type": "code",
   "execution_count": null,
   "metadata": {},
   "outputs": [],
   "source": [
    "def cohen_avg_4():\n",
    "    cohen_score_41 = cohen_kappa_score(annotation_4,annotation_1)\n",
    "    cohen_score_42 = cohen_kappa_score(annotation_4,annotation_2)\n",
    "    cohen_score_43 = cohen_kappa_score(annotation_4,annotation_3)\n",
    "    cohen_score_average_4 = round((cohen_score_41 + cohen_score_42 + cohen_score_43)/3,3)\n",
    "    print(\"Average Cohen Kappa Score for annotation 50:\",(cohen_score_average_4))\n",
    "    return cohen_score_average_4"
   ]
  },
  {
   "cell_type": "code",
   "execution_count": null,
   "metadata": {},
   "outputs": [],
   "source": [
    "cohen_avg_4()"
   ]
  },
  {
   "cell_type": "markdown",
   "metadata": {},
   "source": [
    "##### If average cohen kappa score for any annotation is less than 0.2, we will drop it"
   ]
  },
  {
   "cell_type": "code",
   "execution_count": null,
   "metadata": {},
   "outputs": [],
   "source": [
    "def drop_annotate():\n",
    "    average = [cohen_avg_1(), cohen_avg_2(),cohen_avg_3(),cohen_avg_4()]\n",
    "    columns_name = ['annotation_47','annotation_48','annotation_49','annotation_50']\n",
    "    #columns =[annotation_1,annotation_2,annotation_3,annotation_4]\n",
    "    for i in range(0,len(average)):\n",
    "        if average[i]< 0.2:\n",
    "            print(\"\\n\")\n",
    "            print(columns_name[i])\n",
    "            print(average[i])\n",
    "            df_10.drop(columns_name[i], axis=1, inplace = True)\n",
    "    print(df_10.head())"
   ]
  },
  {
   "cell_type": "code",
   "execution_count": null,
   "metadata": {},
   "outputs": [],
   "source": [
    "drop_annotate()"
   ]
  },
  {
   "cell_type": "code",
   "execution_count": null,
   "metadata": {},
   "outputs": [],
   "source": []
  },
  {
   "cell_type": "markdown",
   "metadata": {},
   "source": [
    "## change.org_topic_3_vaccination.csv\n",
    "\n"
   ]
  },
  {
   "cell_type": "code",
   "execution_count": null,
   "metadata": {},
   "outputs": [],
   "source": [
    "df_11 = pd.read_csv(r'change.org_topic\\change.org_topic_3_vaccination.csv')\n",
    "df_11.head()"
   ]
  },
  {
   "cell_type": "code",
   "execution_count": null,
   "metadata": {},
   "outputs": [],
   "source": [
    "print(df_11['annotation_47'].isnull().sum())\n",
    "print(df_11['annotation_48'].isnull().sum())\n",
    "print(df_11['annotation_49'].isnull().sum())\n",
    "print(df_11['annotation_50'].isnull().sum())\n",
    "print(df_11['text'].isnull().sum())"
   ]
  },
  {
   "cell_type": "code",
   "execution_count": null,
   "metadata": {},
   "outputs": [],
   "source": [
    "annotation_1= df_11['annotation_47']\n",
    "annotation_2= df_11['annotation_48']\n",
    "annotation_3= df_11['annotation_49']\n",
    "annotation_4= df_11['annotation_50']"
   ]
  },
  {
   "cell_type": "markdown",
   "metadata": {},
   "source": [
    "### Cohen_kappa average score of annotation 47"
   ]
  },
  {
   "cell_type": "code",
   "execution_count": null,
   "metadata": {},
   "outputs": [],
   "source": [
    "def cohen_avg_1():\n",
    "    cohen_score_12 = cohen_kappa_score(annotation_1,annotation_2)\n",
    "    cohen_score_13 = cohen_kappa_score(annotation_1,annotation_3)\n",
    "    cohen_score_14 = cohen_kappa_score(annotation_1,annotation_4)\n",
    "    cohen_score_average_1 = round((cohen_score_12 + cohen_score_13 + cohen_score_14)/3,3)\n",
    "    print(\"Average Cohen Kappa Score for annotation 47:\",(cohen_score_average_1))\n",
    "    return cohen_score_average_1"
   ]
  },
  {
   "cell_type": "code",
   "execution_count": null,
   "metadata": {},
   "outputs": [],
   "source": [
    "cohen_avg_1()"
   ]
  },
  {
   "cell_type": "markdown",
   "metadata": {},
   "source": [
    "### Cohen_kappa average score of annotation 48"
   ]
  },
  {
   "cell_type": "code",
   "execution_count": null,
   "metadata": {},
   "outputs": [],
   "source": [
    "def cohen_avg_2():\n",
    "    cohen_score_21 = cohen_kappa_score(annotation_2,annotation_1)\n",
    "    cohen_score_23 = cohen_kappa_score(annotation_2,annotation_3)\n",
    "    cohen_score_24 = cohen_kappa_score(annotation_2,annotation_4)\n",
    "    cohen_score_average_2 = round((cohen_score_21 + cohen_score_23 + cohen_score_24)/3,3)\n",
    "    print(\"Average Cohen Kappa Score for annotation 48:\",(cohen_score_average_2))\n",
    "    return cohen_score_average_2"
   ]
  },
  {
   "cell_type": "code",
   "execution_count": null,
   "metadata": {},
   "outputs": [],
   "source": [
    "cohen_avg_2()"
   ]
  },
  {
   "cell_type": "markdown",
   "metadata": {},
   "source": [
    "### Cohen_kappa average score of annotation 49"
   ]
  },
  {
   "cell_type": "code",
   "execution_count": null,
   "metadata": {},
   "outputs": [],
   "source": [
    "def cohen_avg_3():\n",
    "    cohen_score_31 = cohen_kappa_score(annotation_3,annotation_1)\n",
    "    cohen_score_32 = cohen_kappa_score(annotation_3,annotation_2)\n",
    "    cohen_score_34 = cohen_kappa_score(annotation_3,annotation_4)\n",
    "    cohen_score_average_3 = round((cohen_score_31 + cohen_score_32 + cohen_score_34)/3,3)\n",
    "    print(\"Average Cohen Kappa Score for annotation 49:\",(cohen_score_average_3))\n",
    "    return cohen_score_average_3"
   ]
  },
  {
   "cell_type": "code",
   "execution_count": null,
   "metadata": {},
   "outputs": [],
   "source": [
    "cohen_avg_3()"
   ]
  },
  {
   "cell_type": "markdown",
   "metadata": {},
   "source": [
    "### Cohen_kappa average score of annotation 50"
   ]
  },
  {
   "cell_type": "code",
   "execution_count": null,
   "metadata": {},
   "outputs": [],
   "source": [
    "def cohen_avg_4():\n",
    "    cohen_score_41 = cohen_kappa_score(annotation_4,annotation_1)\n",
    "    cohen_score_42 = cohen_kappa_score(annotation_4,annotation_2)\n",
    "    cohen_score_43 = cohen_kappa_score(annotation_4,annotation_3)\n",
    "    cohen_score_average_4 = round((cohen_score_41 + cohen_score_42 + cohen_score_43)/3,3)\n",
    "    print(\"Average Cohen Kappa Score for annotation 50:\",(cohen_score_average_4))\n",
    "    return cohen_score_average_4"
   ]
  },
  {
   "cell_type": "code",
   "execution_count": null,
   "metadata": {},
   "outputs": [],
   "source": [
    "cohen_avg_4()"
   ]
  },
  {
   "cell_type": "markdown",
   "metadata": {},
   "source": [
    "##### If average cohen kappa score for any annotation is less than 0.2, we will drop it"
   ]
  },
  {
   "cell_type": "code",
   "execution_count": null,
   "metadata": {},
   "outputs": [],
   "source": [
    "def drop_annotate():\n",
    "    average = [cohen_avg_1(), cohen_avg_2(),cohen_avg_3(),cohen_avg_4()]\n",
    "    columns_name = ['annotation_47','annotation_48','annotation_49','annotation_50']\n",
    "    #columns =[annotation_1,annotation_2,annotation_3,annotation_4]\n",
    "    for i in range(0,len(average)):\n",
    "        if average[i]< 0.2:\n",
    "            print(columns_name[i])\n",
    "            print(average[i])\n",
    "            df_11.drop(columns_name[i], axis=1, inplace = True)\n",
    "    print(df_11.head())"
   ]
  },
  {
   "cell_type": "code",
   "execution_count": null,
   "metadata": {},
   "outputs": [],
   "source": [
    "drop_annotate()"
   ]
  },
  {
   "cell_type": "markdown",
   "metadata": {},
   "source": [
    "## change.org_topic_4_lockdowns.csv\n",
    "\n"
   ]
  },
  {
   "cell_type": "code",
   "execution_count": null,
   "metadata": {},
   "outputs": [],
   "source": [
    "df_12 = pd.read_csv(r'change.org_topic\\change.org_topic_4_lockdowns.csv')\n",
    "df_12.head()"
   ]
  },
  {
   "cell_type": "code",
   "execution_count": null,
   "metadata": {},
   "outputs": [],
   "source": [
    "print(df_12['annotation_43'].isnull().sum())\n",
    "print(df_12['annotation_44'].isnull().sum())\n",
    "print(df_12['annotation_45'].isnull().sum())\n",
    "print(df_12['annotation_46'].isnull().sum())\n",
    "print(df_12['text'].isnull().sum())"
   ]
  },
  {
   "cell_type": "code",
   "execution_count": null,
   "metadata": {},
   "outputs": [],
   "source": [
    "annotation_1= df_12['annotation_43']\n",
    "annotation_2= df_12['annotation_44']\n",
    "annotation_3= df_12['annotation_45']\n",
    "annotation_4= df_12['annotation_46']"
   ]
  },
  {
   "cell_type": "markdown",
   "metadata": {},
   "source": [
    "### Cohen_kappa average score of annotation 43"
   ]
  },
  {
   "cell_type": "code",
   "execution_count": null,
   "metadata": {},
   "outputs": [],
   "source": [
    "def cohen_avg_1():\n",
    "    cohen_score_12 = cohen_kappa_score(annotation_1,annotation_2)\n",
    "    cohen_score_13 = cohen_kappa_score(annotation_1,annotation_3)\n",
    "    cohen_score_14 = cohen_kappa_score(annotation_1,annotation_4)\n",
    "    cohen_score_average_1 = round((cohen_score_12 + cohen_score_13 + cohen_score_14)/3,3)\n",
    "    print(\"Average Cohen Kappa Score for annotation 43:\",(cohen_score_average_1))\n",
    "    return cohen_score_average_1"
   ]
  },
  {
   "cell_type": "code",
   "execution_count": null,
   "metadata": {},
   "outputs": [],
   "source": [
    "cohen_avg_1()"
   ]
  },
  {
   "cell_type": "markdown",
   "metadata": {},
   "source": [
    "### Cohen_kappa average score of annotation 44"
   ]
  },
  {
   "cell_type": "code",
   "execution_count": null,
   "metadata": {},
   "outputs": [],
   "source": [
    "def cohen_avg_2():\n",
    "    cohen_score_21 = cohen_kappa_score(annotation_2,annotation_1)\n",
    "    cohen_score_23 = cohen_kappa_score(annotation_2,annotation_3)\n",
    "    cohen_score_24 = cohen_kappa_score(annotation_2,annotation_4)\n",
    "    cohen_score_average_2 = round((cohen_score_21 + cohen_score_23 + cohen_score_24)/3,3)\n",
    "    print(\"Average Cohen Kappa Score for annotation 44:\",(cohen_score_average_2))\n",
    "    return cohen_score_average_2"
   ]
  },
  {
   "cell_type": "code",
   "execution_count": null,
   "metadata": {},
   "outputs": [],
   "source": [
    "cohen_avg_2()"
   ]
  },
  {
   "cell_type": "markdown",
   "metadata": {},
   "source": [
    "### Cohen_kappa average score of annotation 45"
   ]
  },
  {
   "cell_type": "code",
   "execution_count": null,
   "metadata": {},
   "outputs": [],
   "source": [
    "def cohen_avg_3():\n",
    "    cohen_score_31 = cohen_kappa_score(annotation_3,annotation_1)\n",
    "    cohen_score_32 = cohen_kappa_score(annotation_3,annotation_2)\n",
    "    cohen_score_34 = cohen_kappa_score(annotation_3,annotation_4)\n",
    "    cohen_score_average_3 = round((cohen_score_31 + cohen_score_32 + cohen_score_34)/3,3)\n",
    "    print(\"Average Cohen Kappa Score for annotation 45:\",(cohen_score_average_3))\n",
    "    return cohen_score_average_3"
   ]
  },
  {
   "cell_type": "code",
   "execution_count": null,
   "metadata": {},
   "outputs": [],
   "source": [
    "cohen_avg_3()"
   ]
  },
  {
   "cell_type": "markdown",
   "metadata": {},
   "source": [
    "### Cohen_kappa average score of annotation 46"
   ]
  },
  {
   "cell_type": "code",
   "execution_count": null,
   "metadata": {},
   "outputs": [],
   "source": [
    "def cohen_avg_4():\n",
    "    cohen_score_41 = cohen_kappa_score(annotation_4,annotation_1)\n",
    "    cohen_score_42 = cohen_kappa_score(annotation_4,annotation_2)\n",
    "    cohen_score_43 = cohen_kappa_score(annotation_4,annotation_3)\n",
    "    cohen_score_average_4 = round((cohen_score_41 + cohen_score_42 + cohen_score_43)/3,3)\n",
    "    print(\"Average Cohen Kappa Score for annotation 46:\",(cohen_score_average_4))\n",
    "    return cohen_score_average_4"
   ]
  },
  {
   "cell_type": "code",
   "execution_count": null,
   "metadata": {},
   "outputs": [],
   "source": [
    "cohen_avg_4()"
   ]
  },
  {
   "cell_type": "markdown",
   "metadata": {},
   "source": [
    "##### If average cohen kappa score for any annotation is less than 0.2, we will drop it"
   ]
  },
  {
   "cell_type": "code",
   "execution_count": null,
   "metadata": {},
   "outputs": [],
   "source": [
    "def drop_annotate():\n",
    "    average = [cohen_avg_1(), cohen_avg_2(),cohen_avg_3(),cohen_avg_4()]\n",
    "    columns_name = ['annotation_43','annotation_44','annotation_45','annotation_46']\n",
    "    #columns =[annotation_1,annotation_2,annotation_3,annotation_4]\n",
    "    for i in range(0,len(average)):\n",
    "        if average[i]< 0.2:\n",
    "            print(columns_name[i])\n",
    "            print(average[i])\n",
    "            df_12.drop(columns_name[i], axis=1, inplace = True)\n",
    "    print(df_12.head())"
   ]
  },
  {
   "cell_type": "code",
   "execution_count": null,
   "metadata": {},
   "outputs": [],
   "source": [
    "drop_annotate()"
   ]
  },
  {
   "cell_type": "code",
   "execution_count": null,
   "metadata": {},
   "outputs": [],
   "source": []
  },
  {
   "cell_type": "markdown",
   "metadata": {},
   "source": [
    "## change.org_topic_4_masking_and_distancing.csv\n",
    "\n"
   ]
  },
  {
   "cell_type": "code",
   "execution_count": null,
   "metadata": {},
   "outputs": [],
   "source": [
    "df_13 = pd.read_csv(r'change.org_topic\\change.org_topic_4_masking_and_distancing.csv')\n",
    "df_13.head()"
   ]
  },
  {
   "cell_type": "code",
   "execution_count": null,
   "metadata": {},
   "outputs": [],
   "source": [
    "print(df_13['annotation_43'].isnull().sum())\n",
    "print(df_13['annotation_44'].isnull().sum())\n",
    "print(df_13['annotation_45'].isnull().sum())\n",
    "print(df_13['annotation_46'].isnull().sum())\n",
    "print(df_13['text'].isnull().sum())"
   ]
  },
  {
   "cell_type": "markdown",
   "metadata": {},
   "source": [
    "### Cohen_kappa average score of annotation 43"
   ]
  },
  {
   "cell_type": "code",
   "execution_count": null,
   "metadata": {},
   "outputs": [],
   "source": [
    "def cohen_avg_1():\n",
    "    cohen_score_12 = cohen_kappa_score(annotation_1,annotation_2)\n",
    "    cohen_score_13 = cohen_kappa_score(annotation_1,annotation_3)\n",
    "    cohen_score_14 = cohen_kappa_score(annotation_1,annotation_4)\n",
    "    cohen_score_average_1 = round((cohen_score_12 + cohen_score_13 + cohen_score_14)/3,3)\n",
    "    print(\"Average Cohen Kappa Score for annotation 43:\",(cohen_score_average_1))\n",
    "    return cohen_score_average_1"
   ]
  },
  {
   "cell_type": "code",
   "execution_count": null,
   "metadata": {},
   "outputs": [],
   "source": [
    "cohen_avg_1()"
   ]
  },
  {
   "cell_type": "markdown",
   "metadata": {},
   "source": [
    "### Cohen_kappa average score of annotation 44"
   ]
  },
  {
   "cell_type": "code",
   "execution_count": null,
   "metadata": {},
   "outputs": [],
   "source": [
    "def cohen_avg_2():\n",
    "    cohen_score_21 = cohen_kappa_score(annotation_2,annotation_1)\n",
    "    cohen_score_23 = cohen_kappa_score(annotation_2,annotation_3)\n",
    "    cohen_score_24 = cohen_kappa_score(annotation_2,annotation_4)\n",
    "    cohen_score_average_2 = round((cohen_score_21 + cohen_score_23 + cohen_score_24)/3,3)\n",
    "    print(\"Average Cohen Kappa Score for annotation 44:\",(cohen_score_average_2))\n",
    "    return cohen_score_average_2"
   ]
  },
  {
   "cell_type": "code",
   "execution_count": null,
   "metadata": {},
   "outputs": [],
   "source": [
    "cohen_avg_2()"
   ]
  },
  {
   "cell_type": "markdown",
   "metadata": {},
   "source": [
    "### Cohen_kappa average score of annotation 45"
   ]
  },
  {
   "cell_type": "code",
   "execution_count": null,
   "metadata": {},
   "outputs": [],
   "source": [
    "def cohen_avg_3():\n",
    "    cohen_score_31 = cohen_kappa_score(annotation_3,annotation_1)\n",
    "    cohen_score_32 = cohen_kappa_score(annotation_3,annotation_2)\n",
    "    cohen_score_34 = cohen_kappa_score(annotation_3,annotation_4)\n",
    "    cohen_score_average_3 = round((cohen_score_31 + cohen_score_32 + cohen_score_34)/3,3)\n",
    "    print(\"Average Cohen Kappa Score for annotation 45:\",(cohen_score_average_3))\n",
    "    return cohen_score_average_3"
   ]
  },
  {
   "cell_type": "code",
   "execution_count": null,
   "metadata": {},
   "outputs": [],
   "source": [
    "cohen_avg_3()"
   ]
  },
  {
   "cell_type": "markdown",
   "metadata": {},
   "source": [
    "### Cohen_kappa average score of annotation 46"
   ]
  },
  {
   "cell_type": "code",
   "execution_count": null,
   "metadata": {},
   "outputs": [],
   "source": [
    "def cohen_avg_4():\n",
    "    cohen_score_41 = cohen_kappa_score(annotation_4,annotation_1)\n",
    "    cohen_score_42 = cohen_kappa_score(annotation_4,annotation_2)\n",
    "    cohen_score_43 = cohen_kappa_score(annotation_4,annotation_3)\n",
    "    cohen_score_average_4 = round((cohen_score_41 + cohen_score_42 + cohen_score_43)/3,3)\n",
    "    print(\"Average Cohen Kappa Score for annotation 46:\",(cohen_score_average_4))\n",
    "    return cohen_score_average_4"
   ]
  },
  {
   "cell_type": "code",
   "execution_count": null,
   "metadata": {},
   "outputs": [],
   "source": [
    "cohen_avg_4()"
   ]
  },
  {
   "cell_type": "markdown",
   "metadata": {},
   "source": [
    "##### If average cohen kappa score for any annotation is less than 0.2, we will drop it"
   ]
  },
  {
   "cell_type": "code",
   "execution_count": null,
   "metadata": {},
   "outputs": [],
   "source": [
    "def drop_annotate():\n",
    "    average = [cohen_avg_1(), cohen_avg_2(),cohen_avg_3(),cohen_avg_4()]\n",
    "    columns_name = ['annotation_43','annotation_44','annotation_45','annotation_46']\n",
    "    #columns =[annotation_1,annotation_2,annotation_3,annotation_4]\n",
    "    for i in range(0,len(average)):\n",
    "        if average[i]< 0.2:\n",
    "            print(columns_name[i])\n",
    "            print(average[i])\n",
    "            df_13.drop(columns_name[i], axis=1, inplace = True)\n",
    "    print(df_13.head())"
   ]
  },
  {
   "cell_type": "code",
   "execution_count": null,
   "metadata": {},
   "outputs": [],
   "source": [
    "drop_annotate()"
   ]
  },
  {
   "cell_type": "markdown",
   "metadata": {},
   "source": [
    "## change.org_topic_4_vaccination.csv\n",
    "\n"
   ]
  },
  {
   "cell_type": "code",
   "execution_count": null,
   "metadata": {},
   "outputs": [],
   "source": [
    "df_14 = pd.read_csv(r'change.org_topic\\change.org_topic_4_vaccination.csv')\n",
    "df_14.head()"
   ]
  },
  {
   "cell_type": "code",
   "execution_count": null,
   "metadata": {},
   "outputs": [],
   "source": [
    "print(df_14['annotation_43'].isnull().sum())\n",
    "print(df_14['annotation_44'].isnull().sum())\n",
    "print(df_14['annotation_45'].isnull().sum())\n",
    "print(df_14['annotation_46'].isnull().sum())\n",
    "print(df_14['text'].isnull().sum())"
   ]
  },
  {
   "cell_type": "markdown",
   "metadata": {},
   "source": [
    "### Cohen_kappa average score of annotation 43"
   ]
  },
  {
   "cell_type": "code",
   "execution_count": null,
   "metadata": {},
   "outputs": [],
   "source": [
    "def cohen_avg_1():\n",
    "    cohen_score_12 = cohen_kappa_score(annotation_1,annotation_2)\n",
    "    cohen_score_13 = cohen_kappa_score(annotation_1,annotation_3)\n",
    "    cohen_score_14 = cohen_kappa_score(annotation_1,annotation_4)\n",
    "    cohen_score_average_1 = round((cohen_score_12 + cohen_score_13 + cohen_score_14)/3,3)\n",
    "    print(\"Average Cohen Kappa Score for annotation 43:\",(cohen_score_average_1))\n",
    "    return cohen_score_average_1"
   ]
  },
  {
   "cell_type": "code",
   "execution_count": null,
   "metadata": {},
   "outputs": [],
   "source": [
    "cohen_avg_1()"
   ]
  },
  {
   "cell_type": "markdown",
   "metadata": {},
   "source": [
    "### Cohen_kappa average score of annotation 44"
   ]
  },
  {
   "cell_type": "code",
   "execution_count": null,
   "metadata": {},
   "outputs": [],
   "source": [
    "def cohen_avg_2():\n",
    "    cohen_score_21 = cohen_kappa_score(annotation_2,annotation_1)\n",
    "    cohen_score_23 = cohen_kappa_score(annotation_2,annotation_3)\n",
    "    cohen_score_24 = cohen_kappa_score(annotation_2,annotation_4)\n",
    "    cohen_score_average_2 = round((cohen_score_21 + cohen_score_23 + cohen_score_24)/3,3)\n",
    "    print(\"Average Cohen Kappa Score for annotation 44:\",(cohen_score_average_2))\n",
    "    return cohen_score_average_2"
   ]
  },
  {
   "cell_type": "code",
   "execution_count": null,
   "metadata": {},
   "outputs": [],
   "source": [
    "cohen_avg_2()"
   ]
  },
  {
   "cell_type": "markdown",
   "metadata": {},
   "source": [
    "### Cohen_kappa average score of annotation 45"
   ]
  },
  {
   "cell_type": "code",
   "execution_count": null,
   "metadata": {},
   "outputs": [],
   "source": [
    "def cohen_avg_3():\n",
    "    cohen_score_31 = cohen_kappa_score(annotation_3,annotation_1)\n",
    "    cohen_score_32 = cohen_kappa_score(annotation_3,annotation_2)\n",
    "    cohen_score_34 = cohen_kappa_score(annotation_3,annotation_4)\n",
    "    cohen_score_average_3 = round((cohen_score_31 + cohen_score_32 + cohen_score_34)/3,3)\n",
    "    print(\"Average Cohen Kappa Score for annotation 45:\",(cohen_score_average_3))\n",
    "    return cohen_score_average_3"
   ]
  },
  {
   "cell_type": "code",
   "execution_count": null,
   "metadata": {},
   "outputs": [],
   "source": [
    "cohen_avg_3()"
   ]
  },
  {
   "cell_type": "markdown",
   "metadata": {},
   "source": [
    "### Cohen_kappa average score of annotation 46"
   ]
  },
  {
   "cell_type": "code",
   "execution_count": null,
   "metadata": {},
   "outputs": [],
   "source": [
    "def cohen_avg_4():\n",
    "    cohen_score_41 = cohen_kappa_score(annotation_4,annotation_1)\n",
    "    cohen_score_42 = cohen_kappa_score(annotation_4,annotation_2)\n",
    "    cohen_score_43 = cohen_kappa_score(annotation_4,annotation_3)\n",
    "    cohen_score_average_4 = round((cohen_score_41 + cohen_score_42 + cohen_score_43)/3,3)\n",
    "    print(\"Average Cohen Kappa Score for annotation 46:\",(cohen_score_average_4))\n",
    "    return cohen_score_average_4"
   ]
  },
  {
   "cell_type": "code",
   "execution_count": null,
   "metadata": {},
   "outputs": [],
   "source": [
    "cohen_avg_4()"
   ]
  },
  {
   "cell_type": "markdown",
   "metadata": {},
   "source": [
    "##### If average cohen kappa score for any annotation is less than 0.2, we will drop it"
   ]
  },
  {
   "cell_type": "code",
   "execution_count": null,
   "metadata": {},
   "outputs": [],
   "source": [
    "def drop_annotate():\n",
    "    average = [cohen_avg_1(), cohen_avg_2(),cohen_avg_3(),cohen_avg_4()]\n",
    "    columns_name = ['annotation_43','annotation_44','annotation_45','annotation_46']\n",
    "    #columns =[annotation_1,annotation_2,annotation_3,annotation_4]\n",
    "    for i in range(0,len(average)):\n",
    "        if average[i]< 0.2:\n",
    "            print(columns_name[i])\n",
    "            print(average[i])\n",
    "            df_14.drop(columns_name[i], axis=1, inplace = True)\n",
    "    print(df_14.head())"
   ]
  },
  {
   "cell_type": "code",
   "execution_count": null,
   "metadata": {},
   "outputs": [],
   "source": [
    "drop_annotate()"
   ]
  },
  {
   "cell_type": "code",
   "execution_count": null,
   "metadata": {},
   "outputs": [],
   "source": []
  },
  {
   "cell_type": "code",
   "execution_count": null,
   "metadata": {},
   "outputs": [],
   "source": []
  },
  {
   "cell_type": "code",
   "execution_count": null,
   "metadata": {},
   "outputs": [],
   "source": []
  }
 ],
 "metadata": {
  "kernelspec": {
   "display_name": "Python 3",
   "language": "python",
   "name": "python3"
  },
  "language_info": {
   "codemirror_mode": {
    "name": "ipython",
    "version": 3
   },
   "file_extension": ".py",
   "mimetype": "text/x-python",
   "name": "python",
   "nbconvert_exporter": "python",
   "pygments_lexer": "ipython3",
   "version": "3.8.5"
  }
 },
 "nbformat": 4,
 "nbformat_minor": 5
}
