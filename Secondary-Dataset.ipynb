{
 "cells": [
  {
   "cell_type": "code",
   "execution_count": 1,
   "metadata": {},
   "outputs": [],
   "source": [
    "import pandas as pd\n",
    "import numpy as np\n",
    "from sklearn.metrics import cohen_kappa_score"
   ]
  },
  {
   "cell_type": "code",
   "execution_count": 2,
   "metadata": {},
   "outputs": [],
   "source": [
    "df=pd.read_csv(r'C:\\Users\\Kriti\\Desktop\\College-Academics\\NLP\\Project Phase 2-\\change.org_topic\\change.org_topic_0_lockdowns.csv')"
   ]
  },
  {
   "cell_type": "code",
   "execution_count": 3,
   "metadata": {},
   "outputs": [
    {
     "data": {
      "text/html": [
       "<div>\n",
       "<style scoped>\n",
       "    .dataframe tbody tr th:only-of-type {\n",
       "        vertical-align: middle;\n",
       "    }\n",
       "\n",
       "    .dataframe tbody tr th {\n",
       "        vertical-align: top;\n",
       "    }\n",
       "\n",
       "    .dataframe thead th {\n",
       "        text-align: right;\n",
       "    }\n",
       "</style>\n",
       "<table border=\"1\" class=\"dataframe\">\n",
       "  <thead>\n",
       "    <tr style=\"text-align: right;\">\n",
       "      <th></th>\n",
       "      <th>text</th>\n",
       "      <th>annotation_96</th>\n",
       "      <th>annotation_53</th>\n",
       "      <th>annotation_93</th>\n",
       "      <th>annotation_94</th>\n",
       "      <th>annotation_95</th>\n",
       "    </tr>\n",
       "  </thead>\n",
       "  <tbody>\n",
       "    <tr>\n",
       "      <th>0</th>\n",
       "      <td>Language Education in the Time of COVID-19</td>\n",
       "      <td>False</td>\n",
       "      <td>False</td>\n",
       "      <td>False</td>\n",
       "      <td>False</td>\n",
       "      <td>False</td>\n",
       "    </tr>\n",
       "    <tr>\n",
       "      <th>1</th>\n",
       "      <td>COVID-19 Test Kits</td>\n",
       "      <td>False</td>\n",
       "      <td>False</td>\n",
       "      <td>False</td>\n",
       "      <td>False</td>\n",
       "      <td>False</td>\n",
       "    </tr>\n",
       "    <tr>\n",
       "      <th>2</th>\n",
       "      <td>COVID 19 IN PRISON</td>\n",
       "      <td>False</td>\n",
       "      <td>False</td>\n",
       "      <td>False</td>\n",
       "      <td>False</td>\n",
       "      <td>False</td>\n",
       "    </tr>\n",
       "    <tr>\n",
       "      <th>3</th>\n",
       "      <td>Get Waled Home</td>\n",
       "      <td>False</td>\n",
       "      <td>False</td>\n",
       "      <td>False</td>\n",
       "      <td>False</td>\n",
       "      <td>False</td>\n",
       "    </tr>\n",
       "    <tr>\n",
       "      <th>4</th>\n",
       "      <td>Make pass/fail available for Mississippi State...</td>\n",
       "      <td>False</td>\n",
       "      <td>False</td>\n",
       "      <td>False</td>\n",
       "      <td>False</td>\n",
       "      <td>False</td>\n",
       "    </tr>\n",
       "  </tbody>\n",
       "</table>\n",
       "</div>"
      ],
      "text/plain": [
       "                                                text  annotation_96  \\\n",
       "0         Language Education in the Time of COVID-19          False   \n",
       "1                                 COVID-19 Test Kits          False   \n",
       "2                                 COVID 19 IN PRISON          False   \n",
       "3                                     Get Waled Home          False   \n",
       "4  Make pass/fail available for Mississippi State...          False   \n",
       "\n",
       "   annotation_53  annotation_93  annotation_94  annotation_95  \n",
       "0          False          False          False          False  \n",
       "1          False          False          False          False  \n",
       "2          False          False          False          False  \n",
       "3          False          False          False          False  \n",
       "4          False          False          False          False  "
      ]
     },
     "execution_count": 3,
     "metadata": {},
     "output_type": "execute_result"
    }
   ],
   "source": [
    "df.head()"
   ]
  },
  {
   "cell_type": "code",
   "execution_count": 4,
   "metadata": {},
   "outputs": [
    {
     "name": "stdout",
     "output_type": "stream",
     "text": [
      "0\n",
      "0\n",
      "0\n",
      "0\n",
      "0\n",
      "0\n"
     ]
    }
   ],
   "source": [
    "print(df['annotation_96'].isnull().sum())\n",
    "print(df['annotation_53'].isnull().sum())\n",
    "print(df['annotation_93'].isnull().sum())\n",
    "print(df['annotation_94'].isnull().sum())\n",
    "print(df['annotation_95'].isnull().sum())\n",
    "print(df['text'].isnull().sum())\n"
   ]
  },
  {
   "cell_type": "markdown",
   "metadata": {},
   "source": [
    "### Cohen_kappa average score of annotation 96:"
   ]
  },
  {
   "cell_type": "code",
   "execution_count": 5,
   "metadata": {},
   "outputs": [],
   "source": [
    "def cohen_avg_96():\n",
    "    cohen_score_96_53 = cohen_kappa_score(df['annotation_96'],df['annotation_53'])\n",
    "    cohen_score_96_93 = cohen_kappa_score(df['annotation_96'],df['annotation_93'])\n",
    "    cohen_score_96_94 = cohen_kappa_score(df['annotation_96'],df['annotation_94'])\n",
    "    cohen_score_96_95 = cohen_kappa_score(df['annotation_96'],df['annotation_95'])\n",
    "    cohen_score_average_96 = round((cohen_score_96_53 + cohen_score_96_93 + cohen_score_96_94 + cohen_score_96_95)/4,3)\n",
    "    print(\"Average Cohen Kappa Score for annotation 96:\",(cohen_score_average_96))\n",
    "    return cohen_score_average_96"
   ]
  },
  {
   "cell_type": "code",
   "execution_count": 6,
   "metadata": {},
   "outputs": [
    {
     "name": "stdout",
     "output_type": "stream",
     "text": [
      "Average Cohen Kappa Score for annotation 96: 0.377\n"
     ]
    },
    {
     "data": {
      "text/plain": [
       "0.377"
      ]
     },
     "execution_count": 6,
     "metadata": {},
     "output_type": "execute_result"
    }
   ],
   "source": [
    "cohen_avg_96()"
   ]
  },
  {
   "cell_type": "markdown",
   "metadata": {},
   "source": [
    "### Cohen_kappa average score of annotation 53: "
   ]
  },
  {
   "cell_type": "code",
   "execution_count": 12,
   "metadata": {},
   "outputs": [],
   "source": [
    "def cohen_avg_53():\n",
    "    cohen_score_53_96 = cohen_kappa_score(df['annotation_53'],df['annotation_96'])\n",
    "    cohen_score_53_93 = cohen_kappa_score(df['annotation_53'],df['annotation_93'])\n",
    "    cohen_score_53_94 = cohen_kappa_score(df['annotation_53'],df['annotation_94'])\n",
    "    cohen_score_53_95 = cohen_kappa_score(df['annotation_53'],df['annotation_95'])\n",
    "    cohen_score_average_53 = round((cohen_score_53_96 + cohen_score_53_93 + cohen_score_53_94 + cohen_score_53_95)/4,3)\n",
    "    print(\"Average Cohen Kappa Score for annotation 53:\",(cohen_score_average_53))\n",
    "    return cohen_score_average_53"
   ]
  },
  {
   "cell_type": "code",
   "execution_count": 13,
   "metadata": {},
   "outputs": [
    {
     "name": "stdout",
     "output_type": "stream",
     "text": [
      "Average Cohen Kappa Score for annotation 53: 0.038\n"
     ]
    },
    {
     "data": {
      "text/plain": [
       "0.038"
      ]
     },
     "execution_count": 13,
     "metadata": {},
     "output_type": "execute_result"
    }
   ],
   "source": [
    "cohen_avg_53()"
   ]
  },
  {
   "cell_type": "code",
   "execution_count": null,
   "metadata": {},
   "outputs": [],
   "source": []
  }
 ],
 "metadata": {
  "kernelspec": {
   "display_name": "Python 3",
   "language": "python",
   "name": "python3"
  },
  "language_info": {
   "codemirror_mode": {
    "name": "ipython",
    "version": 3
   },
   "file_extension": ".py",
   "mimetype": "text/x-python",
   "name": "python",
   "nbconvert_exporter": "python",
   "pygments_lexer": "ipython3",
   "version": "3.8.5"
  }
 },
 "nbformat": 4,
 "nbformat_minor": 4
}
