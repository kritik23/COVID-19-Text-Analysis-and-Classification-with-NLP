{
 "cells": [
  {
   "cell_type": "code",
   "execution_count": 1,
   "metadata": {},
   "outputs": [],
   "source": [
    "import sklearn\n",
    "from sklearn.metrics import cohen_kappa_score\n",
    "import pandas as pd"
   ]
  },
  {
   "cell_type": "code",
   "execution_count": 2,
   "metadata": {},
   "outputs": [
    {
     "data": {
      "text/html": [
       "<div>\n",
       "<style scoped>\n",
       "    .dataframe tbody tr th:only-of-type {\n",
       "        vertical-align: middle;\n",
       "    }\n",
       "\n",
       "    .dataframe tbody tr th {\n",
       "        vertical-align: top;\n",
       "    }\n",
       "\n",
       "    .dataframe thead th {\n",
       "        text-align: right;\n",
       "    }\n",
       "</style>\n",
       "<table border=\"1\" class=\"dataframe\">\n",
       "  <thead>\n",
       "    <tr style=\"text-align: right;\">\n",
       "      <th></th>\n",
       "      <th>text</th>\n",
       "      <th>annotation_104</th>\n",
       "      <th>annotation_101</th>\n",
       "      <th>annotation_102</th>\n",
       "      <th>annotation_103</th>\n",
       "    </tr>\n",
       "  </thead>\n",
       "  <tbody>\n",
       "    <tr>\n",
       "      <th>0</th>\n",
       "      <td>Putin After Announcing #CovidVaccine #Russian ...</td>\n",
       "      <td>False</td>\n",
       "      <td>False</td>\n",
       "      <td>False</td>\n",
       "      <td>False</td>\n",
       "    </tr>\n",
       "    <tr>\n",
       "      <th>1</th>\n",
       "      <td>Courtesy: WA! #WhatsApp #COVID #CovidVaccine h...</td>\n",
       "      <td>False</td>\n",
       "      <td>False</td>\n",
       "      <td>False</td>\n",
       "      <td>False</td>\n",
       "    </tr>\n",
       "    <tr>\n",
       "      <th>2</th>\n",
       "      <td>4 of the vaccines Jared bought are expected to...</td>\n",
       "      <td>False</td>\n",
       "      <td>False</td>\n",
       "      <td>False</td>\n",
       "      <td>False</td>\n",
       "    </tr>\n",
       "    <tr>\n",
       "      <th>3</th>\n",
       "      <td>One day you will realize CDC Guidelines magica...</td>\n",
       "      <td>False</td>\n",
       "      <td>False</td>\n",
       "      <td>False</td>\n",
       "      <td>False</td>\n",
       "    </tr>\n",
       "    <tr>\n",
       "      <th>4</th>\n",
       "      <td>Im far from lying.  Current CDC guidelines is ...</td>\n",
       "      <td>False</td>\n",
       "      <td>False</td>\n",
       "      <td>False</td>\n",
       "      <td>False</td>\n",
       "    </tr>\n",
       "  </tbody>\n",
       "</table>\n",
       "</div>"
      ],
      "text/plain": [
       "                                                text  annotation_104  \\\n",
       "0  Putin After Announcing #CovidVaccine #Russian ...           False   \n",
       "1  Courtesy: WA! #WhatsApp #COVID #CovidVaccine h...           False   \n",
       "2  4 of the vaccines Jared bought are expected to...           False   \n",
       "3  One day you will realize CDC Guidelines magica...           False   \n",
       "4  Im far from lying.  Current CDC guidelines is ...           False   \n",
       "\n",
       "   annotation_101  annotation_102  annotation_103  \n",
       "0           False           False           False  \n",
       "1           False           False           False  \n",
       "2           False           False           False  \n",
       "3           False           False           False  \n",
       "4           False           False           False  "
      ]
     },
     "execution_count": 2,
     "metadata": {},
     "output_type": "execute_result"
    }
   ],
   "source": [
    "df = pd.read_csv(r'twitter_topic\\twitter_topic_0_lockdowns.csv')\n",
    "df.head()"
   ]
  },
  {
   "cell_type": "code",
   "execution_count": 3,
   "metadata": {},
   "outputs": [
    {
     "name": "stdout",
     "output_type": "stream",
     "text": [
      "0\n",
      "0\n",
      "0\n",
      "0\n",
      "0\n"
     ]
    }
   ],
   "source": [
    "print(df['annotation_101'].isnull().sum())\n",
    "print(df['annotation_102'].isnull().sum())\n",
    "print(df['annotation_103'].isnull().sum())\n",
    "print(df['annotation_104'].isnull().sum())\n",
    "print(df['text'].isnull().sum())"
   ]
  },
  {
   "cell_type": "code",
   "execution_count": 4,
   "metadata": {},
   "outputs": [],
   "source": [
    "annotation_1= df['annotation_101']\n",
    "annotation_2= df['annotation_102']\n",
    "annotation_3= df['annotation_103']\n",
    "annotation_4= df['annotation_104']"
   ]
  },
  {
   "cell_type": "code",
   "execution_count": 5,
   "metadata": {},
   "outputs": [],
   "source": [
    "def cohen_avg_1():\n",
    "    cohen_score_12 = cohen_kappa_score(annotation_1,annotation_2)\n",
    "    cohen_score_13 = cohen_kappa_score(annotation_1,annotation_3)\n",
    "    cohen_score_14 = cohen_kappa_score(annotation_1,annotation_4)\n",
    "    cohen_score_average_1 = round((cohen_score_12 + cohen_score_13 + cohen_score_14)/3,3)\n",
    "    #print(\"Average Cohen Kappa Score for annotation 101:\",(cohen_score_average_1))\n",
    "    return cohen_score_average_1"
   ]
  },
  {
   "cell_type": "code",
   "execution_count": 6,
   "metadata": {},
   "outputs": [
    {
     "data": {
      "text/plain": [
       "0.208"
      ]
     },
     "execution_count": 6,
     "metadata": {},
     "output_type": "execute_result"
    }
   ],
   "source": [
    "cohen_avg_1()"
   ]
  },
  {
   "cell_type": "code",
   "execution_count": 7,
   "metadata": {},
   "outputs": [],
   "source": [
    "def cohen_avg_2():\n",
    "    cohen_score_21 = cohen_kappa_score(annotation_2,annotation_1)\n",
    "    cohen_score_23 = cohen_kappa_score(annotation_2,annotation_3)\n",
    "    cohen_score_24 = cohen_kappa_score(annotation_2,annotation_4)\n",
    "    cohen_score_average_2 = round((cohen_score_21 + cohen_score_23 + cohen_score_24)/3,3)\n",
    "    #print(\"Average Cohen Kappa Score for annotation 102:\",(cohen_score_average_2))\n",
    "    return cohen_score_average_2"
   ]
  },
  {
   "cell_type": "code",
   "execution_count": 8,
   "metadata": {},
   "outputs": [
    {
     "data": {
      "text/plain": [
       "0.17"
      ]
     },
     "execution_count": 8,
     "metadata": {},
     "output_type": "execute_result"
    }
   ],
   "source": [
    "cohen_avg_2()"
   ]
  },
  {
   "cell_type": "code",
   "execution_count": 9,
   "metadata": {},
   "outputs": [],
   "source": [
    "def cohen_avg_3():\n",
    "    cohen_score_31 = cohen_kappa_score(annotation_3,annotation_1)\n",
    "    cohen_score_32 = cohen_kappa_score(annotation_3,annotation_2)\n",
    "    cohen_score_34 = cohen_kappa_score(annotation_3,annotation_4)\n",
    "    cohen_score_average_3 = round((cohen_score_31 + cohen_score_32 + cohen_score_34)/3,3)\n",
    "    #print(\"Average Cohen Kappa Score for annotation 103:\",(cohen_score_average_3))\n",
    "    return cohen_score_average_3"
   ]
  },
  {
   "cell_type": "code",
   "execution_count": 10,
   "metadata": {},
   "outputs": [
    {
     "data": {
      "text/plain": [
       "0.21"
      ]
     },
     "execution_count": 10,
     "metadata": {},
     "output_type": "execute_result"
    }
   ],
   "source": [
    "cohen_avg_3()"
   ]
  },
  {
   "cell_type": "code",
   "execution_count": 11,
   "metadata": {},
   "outputs": [],
   "source": [
    "def cohen_avg_4():\n",
    "    cohen_score_41 = cohen_kappa_score(annotation_4,annotation_1)\n",
    "    cohen_score_42 = cohen_kappa_score(annotation_4,annotation_2)\n",
    "    cohen_score_43 = cohen_kappa_score(annotation_4,annotation_3)\n",
    "    cohen_score_average_4 = round((cohen_score_41 + cohen_score_42 + cohen_score_43)/3,3)\n",
    "    #print(\"Average Cohen Kappa Score for annotation 104:\",(cohen_score_average_4))\n",
    "    return cohen_score_average_4"
   ]
  },
  {
   "cell_type": "code",
   "execution_count": 12,
   "metadata": {},
   "outputs": [
    {
     "data": {
      "text/plain": [
       "0.153"
      ]
     },
     "execution_count": 12,
     "metadata": {},
     "output_type": "execute_result"
    }
   ],
   "source": [
    "cohen_avg_4()"
   ]
  },
  {
   "cell_type": "code",
   "execution_count": 13,
   "metadata": {},
   "outputs": [],
   "source": [
    "import statistics\n",
    "def drop_annotate():\n",
    "    average = [cohen_avg_1(), cohen_avg_2(),cohen_avg_3(),cohen_avg_4()]\n",
    "    columns_name = ['annotation_101','annotation_102','annotation_103','annotation_104']\n",
    "    #columns =[annotation_1,annotation_2,annotation_3,annotation_4]\n",
    "    for i in range(0,len(average)):\n",
    "        if average[i]< 0.2:\n",
    "            print(columns_name[i])\n",
    "            print(average[i])\n",
    "            df.drop(columns_name[i], axis=1, inplace = True)\n",
    "    print(df.head())\n",
    "    r = []\n",
    "    for col in df.columns:\n",
    "        r.append(col)\n",
    "    print(r[1:])\n",
    "    \n",
    "#     for rows in r:\n",
    "#         #print(index, rows['text'])\n",
    "#         compare = [[cohen_avg_1(),rows[rows]\n",
    "        \n",
    "#         boolean = [rows['annotation_101'],rows['annotation_102'],rows['annotation_103'], rows['annotation_104']]\n",
    "        \n",
    "#         compare.sort(key = lambda k:k[0])\n",
    "#         t = compare.count('True')\n",
    "#         f = compare.count('False')\n",
    "#         #print('True:',t, 'False', f)\n",
    "#         if rows['annotation_101'] == rows['annotation_102'] == rows['annotation_103' ] == rows['annotation_104']:\n",
    "           \n",
    "#             kapaValue, colValue = compare[-1]\n",
    "            \n",
    "#             df.loc[index, 'res'] = colValue\n",
    "                \n",
    "#         elif t == f: \n",
    "#             kapaValue, colValue = compare[-1]\n",
    "#             df.loc[index, 'res'] = colValue\n",
    "            \n",
    "#         elif t!=f:\n",
    "#             if t > f:\n",
    "#                 #if rows['annotation_101'] == True:\n",
    "#                 df.loc[index, 'res'] = True\n",
    "#             else:\n",
    "#                 df.loc[index, 'res'] = False\n",
    "            \n",
    "#newCol(df)\n",
    "# df.head(50)"
   ]
  },
  {
   "cell_type": "code",
   "execution_count": 14,
   "metadata": {},
   "outputs": [
    {
     "name": "stdout",
     "output_type": "stream",
     "text": [
      "annotation_102\n",
      "0.17\n",
      "annotation_104\n",
      "0.153\n",
      "                                                text  annotation_101  \\\n",
      "0  Putin After Announcing #CovidVaccine #Russian ...           False   \n",
      "1  Courtesy: WA! #WhatsApp #COVID #CovidVaccine h...           False   \n",
      "2  4 of the vaccines Jared bought are expected to...           False   \n",
      "3  One day you will realize CDC Guidelines magica...           False   \n",
      "4  Im far from lying.  Current CDC guidelines is ...           False   \n",
      "\n",
      "   annotation_103  \n",
      "0           False  \n",
      "1           False  \n",
      "2           False  \n",
      "3           False  \n",
      "4           False  \n",
      "['annotation_101', 'annotation_103']\n"
     ]
    }
   ],
   "source": [
    "drop_annotate()"
   ]
  },
  {
   "cell_type": "code",
   "execution_count": null,
   "metadata": {},
   "outputs": [],
   "source": []
  },
  {
   "cell_type": "code",
   "execution_count": 15,
   "metadata": {},
   "outputs": [
    {
     "data": {
      "text/html": [
       "<div>\n",
       "<style scoped>\n",
       "    .dataframe tbody tr th:only-of-type {\n",
       "        vertical-align: middle;\n",
       "    }\n",
       "\n",
       "    .dataframe tbody tr th {\n",
       "        vertical-align: top;\n",
       "    }\n",
       "\n",
       "    .dataframe thead th {\n",
       "        text-align: right;\n",
       "    }\n",
       "</style>\n",
       "<table border=\"1\" class=\"dataframe\">\n",
       "  <thead>\n",
       "    <tr style=\"text-align: right;\">\n",
       "      <th></th>\n",
       "      <th>text</th>\n",
       "      <th>res</th>\n",
       "    </tr>\n",
       "  </thead>\n",
       "  <tbody>\n",
       "    <tr>\n",
       "      <th>0</th>\n",
       "      <td>Putin After Announcing #CovidVaccine #Russian ...</td>\n",
       "      <td>False</td>\n",
       "    </tr>\n",
       "    <tr>\n",
       "      <th>1</th>\n",
       "      <td>Courtesy: WA! #WhatsApp #COVID #CovidVaccine h...</td>\n",
       "      <td>False</td>\n",
       "    </tr>\n",
       "    <tr>\n",
       "      <th>2</th>\n",
       "      <td>4 of the vaccines Jared bought are expected to...</td>\n",
       "      <td>False</td>\n",
       "    </tr>\n",
       "    <tr>\n",
       "      <th>3</th>\n",
       "      <td>One day you will realize CDC Guidelines magica...</td>\n",
       "      <td>False</td>\n",
       "    </tr>\n",
       "    <tr>\n",
       "      <th>4</th>\n",
       "      <td>Im far from lying.  Current CDC guidelines is ...</td>\n",
       "      <td>False</td>\n",
       "    </tr>\n",
       "  </tbody>\n",
       "</table>\n",
       "</div>"
      ],
      "text/plain": [
       "                                                text    res\n",
       "0  Putin After Announcing #CovidVaccine #Russian ...  False\n",
       "1  Courtesy: WA! #WhatsApp #COVID #CovidVaccine h...  False\n",
       "2  4 of the vaccines Jared bought are expected to...  False\n",
       "3  One day you will realize CDC Guidelines magica...  False\n",
       "4  Im far from lying.  Current CDC guidelines is ...  False"
      ]
     },
     "execution_count": 15,
     "metadata": {},
     "output_type": "execute_result"
    }
   ],
   "source": [
    "def newCol(df):\n",
    "    for index, rows in df.iterrows():\n",
    "        #print(index, rows['text'])\n",
    "        compare = [[cohen_avg_1(),rows['annotation_101']],\n",
    "                       [cohen_avg_3(),rows['annotation_103']]]\n",
    "        \n",
    "        boolean = [rows['annotation_101'],rows['annotation_103']]\n",
    "        \n",
    "        compare.sort(key = lambda k:k[0])\n",
    "        t = compare.count('True')\n",
    "        f = compare.count('False')\n",
    "        #print('True:',t, 'False', f)\n",
    "        if rows['annotation_101'] == rows['annotation_103' ]:\n",
    "           \n",
    "            kapaValue, colValue = compare[-1]\n",
    "            \n",
    "            df.loc[index, 'res'] = colValue\n",
    "                \n",
    "        elif t == f: \n",
    "            kapaValue, colValue = compare[-1]\n",
    "            df.loc[index, 'res'] = colValue\n",
    "            \n",
    "        elif t!=f:\n",
    "            if t > f:\n",
    "                df.loc[index, 'res'] = True\n",
    "            else:\n",
    "                df.loc[index, 'res'] = False\n",
    "    \n",
    "newCol(df)\n",
    "df = df.iloc[:,[0,-1]]\n",
    "df.head()\n"
   ]
  },
  {
   "cell_type": "code",
   "execution_count": 17,
   "metadata": {},
   "outputs": [],
   "source": [
    "df.to_csv(r'C:\\Users\\stuar\\Desktop\\NLP Assignment 2\\new_files\\twitter_topic_0_lockdowns.csv',\n",
    "           index = False)"
   ]
  },
  {
   "cell_type": "code",
   "execution_count": null,
   "metadata": {},
   "outputs": [],
   "source": []
  },
  {
   "cell_type": "code",
   "execution_count": null,
   "metadata": {},
   "outputs": [],
   "source": []
  },
  {
   "cell_type": "code",
   "execution_count": null,
   "metadata": {
    "scrolled": false
   },
   "outputs": [],
   "source": [
    "\n",
    "# df.head()\n",
    "# def newCol(df):\n",
    "#     for index, rows in df.iterrows():\n",
    "#         #print(index, rows['text'])\n",
    "#         compare = [[cohen_avg_1(),rows['annotation_101']],\n",
    "#                        [cohen_avg_3(),rows['annotation_103']]]\n",
    "        \n",
    "#         boolean = [rows['annotation_101'],rows['annotation_103']]\n",
    "        \n",
    "#         compare.sort(key = lambda k:k[0])\n",
    "#         t = compare.count('True')\n",
    "#         f = compare.count('False')\n",
    "#         #print('True:',t, 'False', f)\n",
    "#         if rows['annotation_101'] == rows['annotation_103' ]:\n",
    "           \n",
    "#             kapaValue, colValue = compare[-1]\n",
    "            \n",
    "#             df.loc[index, 'res'] = colValue\n",
    "                \n",
    "#         elif t == f: \n",
    "#             kapaValue, colValue = compare[-1]\n",
    "#             df.loc[index, 'res'] = colValue\n",
    "            \n",
    "#         elif t!=f:\n",
    "#             if t > f:\n",
    "#                 #if rows['annotation_101'] == True:\n",
    "#                 df.loc[index, 'res'] = True\n",
    "#             else:\n",
    "#                 df.loc[index, 'res'] = False\n",
    "            \n",
    "# newCol(df)\n",
    "# df.head(100)"
   ]
  },
  {
   "cell_type": "code",
   "execution_count": null,
   "metadata": {},
   "outputs": [],
   "source": []
  },
  {
   "cell_type": "code",
   "execution_count": null,
   "metadata": {},
   "outputs": [],
   "source": []
  },
  {
   "cell_type": "code",
   "execution_count": null,
   "metadata": {},
   "outputs": [],
   "source": []
  },
  {
   "cell_type": "code",
   "execution_count": null,
   "metadata": {},
   "outputs": [],
   "source": []
  },
  {
   "cell_type": "code",
   "execution_count": null,
   "metadata": {},
   "outputs": [],
   "source": []
  }
 ],
 "metadata": {
  "kernelspec": {
   "display_name": "Python 3",
   "language": "python",
   "name": "python3"
  },
  "language_info": {
   "codemirror_mode": {
    "name": "ipython",
    "version": 3
   },
   "file_extension": ".py",
   "mimetype": "text/x-python",
   "name": "python",
   "nbconvert_exporter": "python",
   "pygments_lexer": "ipython3",
   "version": "3.8.5"
  }
 },
 "nbformat": 4,
 "nbformat_minor": 5
}
